{
 "cells": [
  {
   "cell_type": "markdown",
   "metadata": {},
   "source": [
    "# Qual é o melhor plano?\n",
    "\n",
    "Você trabalha como analista para a empresa de telecomunicações Megaline. A empresa oferece aos seus cliente planos pré-pagos, Surf e Ultimate. O departamento comercial quer saber quais dos planos dão mais receita para ajustar o orçamento de publicidade.\n",
    "\n",
    "Você vai realizar uma primeira análise dos planos baseados em uma pequena seleção de clientes. Você terá dados de 500 clientes da Megaline: que clientes são, de onde eles são, qual plano usam, o número de chamadas que eles fizeram e mensagens que eles enviaram em 2018. O seu trabalho é analisar o comportamento dos clientes e determinar quais planos pré-pagos dão mais receita."
   ]
  },
  {
   "cell_type": "markdown",
   "metadata": {},
   "source": [
    "[Nós fornecemos a você alguns comentários para guiar sua linha de raciocínio enquanto você completa esse projeto. Entretanto, certifique-se de remover todos os comentários entre colchetes antes de enviar o projeto.]\n",
    "\n",
    "[Antes de mergulhar na análise de seus dados, explique por si mesmo o objetivo do projeto e as ações que planeja realizar.]\n",
    "\n",
    "[Por favor, tenha em mente que estudar, modificar, e analisar dados é um processo iterativo. É normal retornar aos passos anteriores e corrigir/expandir algo para permitir os próximos passos.]"
   ]
  },
  {
   "cell_type": "markdown",
   "metadata": {},
   "source": [
    "## Inicialização"
   ]
  },
  {
   "cell_type": "markdown",
   "metadata": {},
   "source": []
  },
  {
   "cell_type": "code",
   "execution_count": 1,
   "metadata": {},
   "outputs": [],
   "source": [
    "# Carregando todas as bibliotecas\n",
    "\n",
    "import pandas as pd\n",
    "\n",
    "import matplotlib.pyplot as plt\n",
    "\n",
    "import seaborn as sns\n",
    "\n",
    "import numpy as np\n",
    "\n",
    "from datetime import datetime\n",
    "\n",
    "from scipy import stats as st\n",
    "\n",
    "from scipy.stats import t\n",
    "\n",
    "from scipy.stats import ttest_ind\n",
    "\n",
    "from scipy.stats import levene"
   ]
  },
  {
   "cell_type": "markdown",
   "metadata": {},
   "source": [
    "## Carregar dados"
   ]
  },
  {
   "cell_type": "markdown",
   "metadata": {},
   "source": []
  },
  {
   "cell_type": "code",
   "execution_count": 2,
   "metadata": {},
   "outputs": [],
   "source": [
    "# Carregue os arquivos de dados em diferentes DataFrames\n",
    "\n",
    "ml_call = pd.read_csv(\"/datasets/megaline_calls.csv\")"
   ]
  },
  {
   "cell_type": "code",
   "execution_count": 3,
   "metadata": {},
   "outputs": [],
   "source": [
    "ml_internet = pd.read_csv('/datasets/megaline_internet.csv')"
   ]
  },
  {
   "cell_type": "code",
   "execution_count": 4,
   "metadata": {},
   "outputs": [],
   "source": [
    "ml_msg = pd.read_csv('/datasets/megaline_messages.csv')"
   ]
  },
  {
   "cell_type": "code",
   "execution_count": 5,
   "metadata": {},
   "outputs": [],
   "source": [
    "ml_plan = pd.read_csv('/datasets/megaline_plans.csv')"
   ]
  },
  {
   "cell_type": "code",
   "execution_count": 6,
   "metadata": {},
   "outputs": [],
   "source": [
    "ml_user = pd.read_csv('/datasets/megaline_users.csv')"
   ]
  },
  {
   "cell_type": "markdown",
   "metadata": {},
   "source": [
    "## Preparar os dados"
   ]
  },
  {
   "cell_type": "code",
   "execution_count": 7,
   "metadata": {},
   "outputs": [
    {
     "name": "stdout",
     "output_type": "stream",
     "text": [
      "<class 'pandas.core.frame.DataFrame'>\n",
      "RangeIndex: 137735 entries, 0 to 137734\n",
      "Data columns (total 4 columns):\n",
      " #   Column     Non-Null Count   Dtype  \n",
      "---  ------     --------------   -----  \n",
      " 0   id         137735 non-null  object \n",
      " 1   user_id    137735 non-null  int64  \n",
      " 2   call_date  137735 non-null  object \n",
      " 3   duration   137735 non-null  float64\n",
      "dtypes: float64(1), int64(1), object(2)\n",
      "memory usage: 4.2+ MB\n"
     ]
    }
   ],
   "source": [
    "# Imprima as informações gerais/resumidas sobre o DataFrame dos planos\n",
    "\n",
    "ml_call.info()"
   ]
  },
  {
   "cell_type": "code",
   "execution_count": 8,
   "metadata": {},
   "outputs": [
    {
     "data": {
      "text/html": [
       "<div>\n",
       "<style scoped>\n",
       "    .dataframe tbody tr th:only-of-type {\n",
       "        vertical-align: middle;\n",
       "    }\n",
       "\n",
       "    .dataframe tbody tr th {\n",
       "        vertical-align: top;\n",
       "    }\n",
       "\n",
       "    .dataframe thead th {\n",
       "        text-align: right;\n",
       "    }\n",
       "</style>\n",
       "<table border=\"1\" class=\"dataframe\">\n",
       "  <thead>\n",
       "    <tr style=\"text-align: right;\">\n",
       "      <th></th>\n",
       "      <th>id</th>\n",
       "      <th>user_id</th>\n",
       "      <th>call_date</th>\n",
       "      <th>duration</th>\n",
       "    </tr>\n",
       "  </thead>\n",
       "  <tbody>\n",
       "    <tr>\n",
       "      <th>0</th>\n",
       "      <td>1000_93</td>\n",
       "      <td>1000</td>\n",
       "      <td>2018-12-27</td>\n",
       "      <td>8.52</td>\n",
       "    </tr>\n",
       "    <tr>\n",
       "      <th>1</th>\n",
       "      <td>1000_145</td>\n",
       "      <td>1000</td>\n",
       "      <td>2018-12-27</td>\n",
       "      <td>13.66</td>\n",
       "    </tr>\n",
       "    <tr>\n",
       "      <th>2</th>\n",
       "      <td>1000_247</td>\n",
       "      <td>1000</td>\n",
       "      <td>2018-12-27</td>\n",
       "      <td>14.48</td>\n",
       "    </tr>\n",
       "    <tr>\n",
       "      <th>3</th>\n",
       "      <td>1000_309</td>\n",
       "      <td>1000</td>\n",
       "      <td>2018-12-28</td>\n",
       "      <td>5.76</td>\n",
       "    </tr>\n",
       "    <tr>\n",
       "      <th>4</th>\n",
       "      <td>1000_380</td>\n",
       "      <td>1000</td>\n",
       "      <td>2018-12-30</td>\n",
       "      <td>4.22</td>\n",
       "    </tr>\n",
       "  </tbody>\n",
       "</table>\n",
       "</div>"
      ],
      "text/plain": [
       "         id  user_id   call_date  duration\n",
       "0   1000_93     1000  2018-12-27      8.52\n",
       "1  1000_145     1000  2018-12-27     13.66\n",
       "2  1000_247     1000  2018-12-27     14.48\n",
       "3  1000_309     1000  2018-12-28      5.76\n",
       "4  1000_380     1000  2018-12-30      4.22"
      ]
     },
     "execution_count": 8,
     "metadata": {},
     "output_type": "execute_result"
    }
   ],
   "source": [
    "# Imprimir uma amostra de dados para os planos\n",
    "\n",
    "ml_call.head()"
   ]
  },
  {
   "cell_type": "code",
   "execution_count": 9,
   "metadata": {},
   "outputs": [
    {
     "name": "stdout",
     "output_type": "stream",
     "text": [
      "<class 'pandas.core.frame.DataFrame'>\n",
      "RangeIndex: 104825 entries, 0 to 104824\n",
      "Data columns (total 4 columns):\n",
      " #   Column        Non-Null Count   Dtype  \n",
      "---  ------        --------------   -----  \n",
      " 0   id            104825 non-null  object \n",
      " 1   user_id       104825 non-null  int64  \n",
      " 2   session_date  104825 non-null  object \n",
      " 3   mb_used       104825 non-null  float64\n",
      "dtypes: float64(1), int64(1), object(2)\n",
      "memory usage: 3.2+ MB\n"
     ]
    }
   ],
   "source": [
    "# visualizando 'ml_internet'\n",
    "\n",
    "ml_internet.info()\n"
   ]
  },
  {
   "cell_type": "code",
   "execution_count": 10,
   "metadata": {},
   "outputs": [
    {
     "data": {
      "text/html": [
       "<div>\n",
       "<style scoped>\n",
       "    .dataframe tbody tr th:only-of-type {\n",
       "        vertical-align: middle;\n",
       "    }\n",
       "\n",
       "    .dataframe tbody tr th {\n",
       "        vertical-align: top;\n",
       "    }\n",
       "\n",
       "    .dataframe thead th {\n",
       "        text-align: right;\n",
       "    }\n",
       "</style>\n",
       "<table border=\"1\" class=\"dataframe\">\n",
       "  <thead>\n",
       "    <tr style=\"text-align: right;\">\n",
       "      <th></th>\n",
       "      <th>id</th>\n",
       "      <th>user_id</th>\n",
       "      <th>session_date</th>\n",
       "      <th>mb_used</th>\n",
       "    </tr>\n",
       "  </thead>\n",
       "  <tbody>\n",
       "    <tr>\n",
       "      <th>0</th>\n",
       "      <td>1000_13</td>\n",
       "      <td>1000</td>\n",
       "      <td>2018-12-29</td>\n",
       "      <td>89.86</td>\n",
       "    </tr>\n",
       "    <tr>\n",
       "      <th>1</th>\n",
       "      <td>1000_204</td>\n",
       "      <td>1000</td>\n",
       "      <td>2018-12-31</td>\n",
       "      <td>0.00</td>\n",
       "    </tr>\n",
       "    <tr>\n",
       "      <th>2</th>\n",
       "      <td>1000_379</td>\n",
       "      <td>1000</td>\n",
       "      <td>2018-12-28</td>\n",
       "      <td>660.40</td>\n",
       "    </tr>\n",
       "    <tr>\n",
       "      <th>3</th>\n",
       "      <td>1000_413</td>\n",
       "      <td>1000</td>\n",
       "      <td>2018-12-26</td>\n",
       "      <td>270.99</td>\n",
       "    </tr>\n",
       "    <tr>\n",
       "      <th>4</th>\n",
       "      <td>1000_442</td>\n",
       "      <td>1000</td>\n",
       "      <td>2018-12-27</td>\n",
       "      <td>880.22</td>\n",
       "    </tr>\n",
       "  </tbody>\n",
       "</table>\n",
       "</div>"
      ],
      "text/plain": [
       "         id  user_id session_date  mb_used\n",
       "0   1000_13     1000   2018-12-29    89.86\n",
       "1  1000_204     1000   2018-12-31     0.00\n",
       "2  1000_379     1000   2018-12-28   660.40\n",
       "3  1000_413     1000   2018-12-26   270.99\n",
       "4  1000_442     1000   2018-12-27   880.22"
      ]
     },
     "execution_count": 10,
     "metadata": {},
     "output_type": "execute_result"
    }
   ],
   "source": [
    "# imprimindo primeiras linhas de 'ml_internet'\n",
    "\n",
    "ml_internet.head()"
   ]
  },
  {
   "cell_type": "code",
   "execution_count": 11,
   "metadata": {},
   "outputs": [
    {
     "name": "stdout",
     "output_type": "stream",
     "text": [
      "<class 'pandas.core.frame.DataFrame'>\n",
      "RangeIndex: 76051 entries, 0 to 76050\n",
      "Data columns (total 3 columns):\n",
      " #   Column        Non-Null Count  Dtype \n",
      "---  ------        --------------  ----- \n",
      " 0   id            76051 non-null  object\n",
      " 1   user_id       76051 non-null  int64 \n",
      " 2   message_date  76051 non-null  object\n",
      "dtypes: int64(1), object(2)\n",
      "memory usage: 1.7+ MB\n"
     ]
    }
   ],
   "source": [
    "# visualizando 'ml_msg'\n",
    "\n",
    "ml_msg.info()"
   ]
  },
  {
   "cell_type": "code",
   "execution_count": 12,
   "metadata": {
    "scrolled": true
   },
   "outputs": [
    {
     "data": {
      "text/html": [
       "<div>\n",
       "<style scoped>\n",
       "    .dataframe tbody tr th:only-of-type {\n",
       "        vertical-align: middle;\n",
       "    }\n",
       "\n",
       "    .dataframe tbody tr th {\n",
       "        vertical-align: top;\n",
       "    }\n",
       "\n",
       "    .dataframe thead th {\n",
       "        text-align: right;\n",
       "    }\n",
       "</style>\n",
       "<table border=\"1\" class=\"dataframe\">\n",
       "  <thead>\n",
       "    <tr style=\"text-align: right;\">\n",
       "      <th></th>\n",
       "      <th>id</th>\n",
       "      <th>user_id</th>\n",
       "      <th>message_date</th>\n",
       "    </tr>\n",
       "  </thead>\n",
       "  <tbody>\n",
       "    <tr>\n",
       "      <th>0</th>\n",
       "      <td>1000_125</td>\n",
       "      <td>1000</td>\n",
       "      <td>2018-12-27</td>\n",
       "    </tr>\n",
       "    <tr>\n",
       "      <th>1</th>\n",
       "      <td>1000_160</td>\n",
       "      <td>1000</td>\n",
       "      <td>2018-12-31</td>\n",
       "    </tr>\n",
       "    <tr>\n",
       "      <th>2</th>\n",
       "      <td>1000_223</td>\n",
       "      <td>1000</td>\n",
       "      <td>2018-12-31</td>\n",
       "    </tr>\n",
       "    <tr>\n",
       "      <th>3</th>\n",
       "      <td>1000_251</td>\n",
       "      <td>1000</td>\n",
       "      <td>2018-12-27</td>\n",
       "    </tr>\n",
       "    <tr>\n",
       "      <th>4</th>\n",
       "      <td>1000_255</td>\n",
       "      <td>1000</td>\n",
       "      <td>2018-12-26</td>\n",
       "    </tr>\n",
       "    <tr>\n",
       "      <th>5</th>\n",
       "      <td>1000_346</td>\n",
       "      <td>1000</td>\n",
       "      <td>2018-12-29</td>\n",
       "    </tr>\n",
       "    <tr>\n",
       "      <th>6</th>\n",
       "      <td>1000_386</td>\n",
       "      <td>1000</td>\n",
       "      <td>2018-12-30</td>\n",
       "    </tr>\n",
       "    <tr>\n",
       "      <th>7</th>\n",
       "      <td>1000_413</td>\n",
       "      <td>1000</td>\n",
       "      <td>2018-12-31</td>\n",
       "    </tr>\n",
       "    <tr>\n",
       "      <th>8</th>\n",
       "      <td>1000_502</td>\n",
       "      <td>1000</td>\n",
       "      <td>2018-12-27</td>\n",
       "    </tr>\n",
       "    <tr>\n",
       "      <th>9</th>\n",
       "      <td>1000_525</td>\n",
       "      <td>1000</td>\n",
       "      <td>2018-12-28</td>\n",
       "    </tr>\n",
       "  </tbody>\n",
       "</table>\n",
       "</div>"
      ],
      "text/plain": [
       "         id  user_id message_date\n",
       "0  1000_125     1000   2018-12-27\n",
       "1  1000_160     1000   2018-12-31\n",
       "2  1000_223     1000   2018-12-31\n",
       "3  1000_251     1000   2018-12-27\n",
       "4  1000_255     1000   2018-12-26\n",
       "5  1000_346     1000   2018-12-29\n",
       "6  1000_386     1000   2018-12-30\n",
       "7  1000_413     1000   2018-12-31\n",
       "8  1000_502     1000   2018-12-27\n",
       "9  1000_525     1000   2018-12-28"
      ]
     },
     "execution_count": 12,
     "metadata": {},
     "output_type": "execute_result"
    }
   ],
   "source": [
    "# imprimindo primeiras linhas de 'ml_msg'\n",
    "\n",
    "ml_msg.head(10)"
   ]
  },
  {
   "cell_type": "code",
   "execution_count": 13,
   "metadata": {},
   "outputs": [
    {
     "name": "stdout",
     "output_type": "stream",
     "text": [
      "<class 'pandas.core.frame.DataFrame'>\n",
      "RangeIndex: 500 entries, 0 to 499\n",
      "Data columns (total 8 columns):\n",
      " #   Column      Non-Null Count  Dtype \n",
      "---  ------      --------------  ----- \n",
      " 0   user_id     500 non-null    int64 \n",
      " 1   first_name  500 non-null    object\n",
      " 2   last_name   500 non-null    object\n",
      " 3   age         500 non-null    int64 \n",
      " 4   city        500 non-null    object\n",
      " 5   reg_date    500 non-null    object\n",
      " 6   plan        500 non-null    object\n",
      " 7   churn_date  34 non-null     object\n",
      "dtypes: int64(2), object(6)\n",
      "memory usage: 31.4+ KB\n"
     ]
    }
   ],
   "source": [
    "# visualizando 'ml_user'\n",
    "\n",
    "ml_user.info()"
   ]
  },
  {
   "cell_type": "code",
   "execution_count": 14,
   "metadata": {},
   "outputs": [
    {
     "data": {
      "text/html": [
       "<div>\n",
       "<style scoped>\n",
       "    .dataframe tbody tr th:only-of-type {\n",
       "        vertical-align: middle;\n",
       "    }\n",
       "\n",
       "    .dataframe tbody tr th {\n",
       "        vertical-align: top;\n",
       "    }\n",
       "\n",
       "    .dataframe thead th {\n",
       "        text-align: right;\n",
       "    }\n",
       "</style>\n",
       "<table border=\"1\" class=\"dataframe\">\n",
       "  <thead>\n",
       "    <tr style=\"text-align: right;\">\n",
       "      <th></th>\n",
       "      <th>user_id</th>\n",
       "      <th>first_name</th>\n",
       "      <th>last_name</th>\n",
       "      <th>age</th>\n",
       "      <th>city</th>\n",
       "      <th>reg_date</th>\n",
       "      <th>plan</th>\n",
       "      <th>churn_date</th>\n",
       "    </tr>\n",
       "  </thead>\n",
       "  <tbody>\n",
       "    <tr>\n",
       "      <th>0</th>\n",
       "      <td>1000</td>\n",
       "      <td>Anamaria</td>\n",
       "      <td>Bauer</td>\n",
       "      <td>45</td>\n",
       "      <td>Atlanta-Sandy Springs-Roswell, GA MSA</td>\n",
       "      <td>2018-12-24</td>\n",
       "      <td>ultimate</td>\n",
       "      <td>NaN</td>\n",
       "    </tr>\n",
       "    <tr>\n",
       "      <th>1</th>\n",
       "      <td>1001</td>\n",
       "      <td>Mickey</td>\n",
       "      <td>Wilkerson</td>\n",
       "      <td>28</td>\n",
       "      <td>Seattle-Tacoma-Bellevue, WA MSA</td>\n",
       "      <td>2018-08-13</td>\n",
       "      <td>surf</td>\n",
       "      <td>NaN</td>\n",
       "    </tr>\n",
       "    <tr>\n",
       "      <th>2</th>\n",
       "      <td>1002</td>\n",
       "      <td>Carlee</td>\n",
       "      <td>Hoffman</td>\n",
       "      <td>36</td>\n",
       "      <td>Las Vegas-Henderson-Paradise, NV MSA</td>\n",
       "      <td>2018-10-21</td>\n",
       "      <td>surf</td>\n",
       "      <td>NaN</td>\n",
       "    </tr>\n",
       "    <tr>\n",
       "      <th>3</th>\n",
       "      <td>1003</td>\n",
       "      <td>Reynaldo</td>\n",
       "      <td>Jenkins</td>\n",
       "      <td>52</td>\n",
       "      <td>Tulsa, OK MSA</td>\n",
       "      <td>2018-01-28</td>\n",
       "      <td>surf</td>\n",
       "      <td>NaN</td>\n",
       "    </tr>\n",
       "    <tr>\n",
       "      <th>4</th>\n",
       "      <td>1004</td>\n",
       "      <td>Leonila</td>\n",
       "      <td>Thompson</td>\n",
       "      <td>40</td>\n",
       "      <td>Seattle-Tacoma-Bellevue, WA MSA</td>\n",
       "      <td>2018-05-23</td>\n",
       "      <td>surf</td>\n",
       "      <td>NaN</td>\n",
       "    </tr>\n",
       "    <tr>\n",
       "      <th>5</th>\n",
       "      <td>1005</td>\n",
       "      <td>Livia</td>\n",
       "      <td>Shields</td>\n",
       "      <td>31</td>\n",
       "      <td>Dallas-Fort Worth-Arlington, TX MSA</td>\n",
       "      <td>2018-11-29</td>\n",
       "      <td>surf</td>\n",
       "      <td>NaN</td>\n",
       "    </tr>\n",
       "    <tr>\n",
       "      <th>6</th>\n",
       "      <td>1006</td>\n",
       "      <td>Jesusa</td>\n",
       "      <td>Bradford</td>\n",
       "      <td>73</td>\n",
       "      <td>San Francisco-Oakland-Berkeley, CA MSA</td>\n",
       "      <td>2018-11-27</td>\n",
       "      <td>ultimate</td>\n",
       "      <td>2018-12-18</td>\n",
       "    </tr>\n",
       "    <tr>\n",
       "      <th>7</th>\n",
       "      <td>1007</td>\n",
       "      <td>Eusebio</td>\n",
       "      <td>Welch</td>\n",
       "      <td>42</td>\n",
       "      <td>Grand Rapids-Kentwood, MI MSA</td>\n",
       "      <td>2018-07-11</td>\n",
       "      <td>surf</td>\n",
       "      <td>NaN</td>\n",
       "    </tr>\n",
       "    <tr>\n",
       "      <th>8</th>\n",
       "      <td>1008</td>\n",
       "      <td>Emely</td>\n",
       "      <td>Hoffman</td>\n",
       "      <td>53</td>\n",
       "      <td>Orlando-Kissimmee-Sanford, FL MSA</td>\n",
       "      <td>2018-08-03</td>\n",
       "      <td>ultimate</td>\n",
       "      <td>NaN</td>\n",
       "    </tr>\n",
       "    <tr>\n",
       "      <th>9</th>\n",
       "      <td>1009</td>\n",
       "      <td>Gerry</td>\n",
       "      <td>Little</td>\n",
       "      <td>19</td>\n",
       "      <td>San Jose-Sunnyvale-Santa Clara, CA MSA</td>\n",
       "      <td>2018-04-22</td>\n",
       "      <td>surf</td>\n",
       "      <td>NaN</td>\n",
       "    </tr>\n",
       "  </tbody>\n",
       "</table>\n",
       "</div>"
      ],
      "text/plain": [
       "   user_id first_name  last_name  age                                    city  \\\n",
       "0     1000   Anamaria      Bauer   45   Atlanta-Sandy Springs-Roswell, GA MSA   \n",
       "1     1001     Mickey  Wilkerson   28         Seattle-Tacoma-Bellevue, WA MSA   \n",
       "2     1002     Carlee    Hoffman   36    Las Vegas-Henderson-Paradise, NV MSA   \n",
       "3     1003   Reynaldo    Jenkins   52                           Tulsa, OK MSA   \n",
       "4     1004    Leonila   Thompson   40         Seattle-Tacoma-Bellevue, WA MSA   \n",
       "5     1005      Livia    Shields   31     Dallas-Fort Worth-Arlington, TX MSA   \n",
       "6     1006     Jesusa   Bradford   73  San Francisco-Oakland-Berkeley, CA MSA   \n",
       "7     1007    Eusebio      Welch   42           Grand Rapids-Kentwood, MI MSA   \n",
       "8     1008      Emely    Hoffman   53       Orlando-Kissimmee-Sanford, FL MSA   \n",
       "9     1009      Gerry     Little   19  San Jose-Sunnyvale-Santa Clara, CA MSA   \n",
       "\n",
       "     reg_date      plan  churn_date  \n",
       "0  2018-12-24  ultimate         NaN  \n",
       "1  2018-08-13      surf         NaN  \n",
       "2  2018-10-21      surf         NaN  \n",
       "3  2018-01-28      surf         NaN  \n",
       "4  2018-05-23      surf         NaN  \n",
       "5  2018-11-29      surf         NaN  \n",
       "6  2018-11-27  ultimate  2018-12-18  \n",
       "7  2018-07-11      surf         NaN  \n",
       "8  2018-08-03  ultimate         NaN  \n",
       "9  2018-04-22      surf         NaN  "
      ]
     },
     "execution_count": 14,
     "metadata": {},
     "output_type": "execute_result"
    }
   ],
   "source": [
    "# imprimindo primeiras linhas de 'ml_user'\n",
    "\n",
    "ml_user.head(10)"
   ]
  },
  {
   "cell_type": "markdown",
   "metadata": {},
   "source": [
    "Observações iniciais,\n",
    "\n",
    "* ml_call - tipo dados precisam ser ajustados para 'int' em 'id', 'call_date' precisa ser ajustado para formato de data\n",
    "* ml_internet - novamente 'id' precisa ser ajustado para 'int', 'session_date precisa ser ajustado para formato de data\n",
    "* ml_msg - 'id' será ajustado para tipo 'int', 'session_date será ajustado para formato de data\n",
    "* ml_user - 'reg_date' e 'churn_date' será ajustado para formato de data"
   ]
  },
  {
   "cell_type": "markdown",
   "metadata": {},
   "source": [
    "## Planos"
   ]
  },
  {
   "cell_type": "code",
   "execution_count": 15,
   "metadata": {},
   "outputs": [
    {
     "name": "stdout",
     "output_type": "stream",
     "text": [
      "<class 'pandas.core.frame.DataFrame'>\n",
      "RangeIndex: 2 entries, 0 to 1\n",
      "Data columns (total 8 columns):\n",
      " #   Column                 Non-Null Count  Dtype  \n",
      "---  ------                 --------------  -----  \n",
      " 0   messages_included      2 non-null      int64  \n",
      " 1   mb_per_month_included  2 non-null      int64  \n",
      " 2   minutes_included       2 non-null      int64  \n",
      " 3   usd_monthly_pay        2 non-null      int64  \n",
      " 4   usd_per_gb             2 non-null      int64  \n",
      " 5   usd_per_message        2 non-null      float64\n",
      " 6   usd_per_minute         2 non-null      float64\n",
      " 7   plan_name              2 non-null      object \n",
      "dtypes: float64(2), int64(5), object(1)\n",
      "memory usage: 256.0+ bytes\n"
     ]
    }
   ],
   "source": [
    "# visualizando 'ml_plan'\n",
    "\n",
    "ml_plan.info()\n"
   ]
  },
  {
   "cell_type": "code",
   "execution_count": 16,
   "metadata": {},
   "outputs": [
    {
     "data": {
      "text/html": [
       "<div>\n",
       "<style scoped>\n",
       "    .dataframe tbody tr th:only-of-type {\n",
       "        vertical-align: middle;\n",
       "    }\n",
       "\n",
       "    .dataframe tbody tr th {\n",
       "        vertical-align: top;\n",
       "    }\n",
       "\n",
       "    .dataframe thead th {\n",
       "        text-align: right;\n",
       "    }\n",
       "</style>\n",
       "<table border=\"1\" class=\"dataframe\">\n",
       "  <thead>\n",
       "    <tr style=\"text-align: right;\">\n",
       "      <th></th>\n",
       "      <th>messages_included</th>\n",
       "      <th>mb_per_month_included</th>\n",
       "      <th>minutes_included</th>\n",
       "      <th>usd_monthly_pay</th>\n",
       "      <th>usd_per_gb</th>\n",
       "      <th>usd_per_message</th>\n",
       "      <th>usd_per_minute</th>\n",
       "      <th>plan_name</th>\n",
       "    </tr>\n",
       "  </thead>\n",
       "  <tbody>\n",
       "    <tr>\n",
       "      <th>0</th>\n",
       "      <td>50</td>\n",
       "      <td>15360</td>\n",
       "      <td>500</td>\n",
       "      <td>20</td>\n",
       "      <td>10</td>\n",
       "      <td>0.03</td>\n",
       "      <td>0.03</td>\n",
       "      <td>surf</td>\n",
       "    </tr>\n",
       "    <tr>\n",
       "      <th>1</th>\n",
       "      <td>1000</td>\n",
       "      <td>30720</td>\n",
       "      <td>3000</td>\n",
       "      <td>70</td>\n",
       "      <td>7</td>\n",
       "      <td>0.01</td>\n",
       "      <td>0.01</td>\n",
       "      <td>ultimate</td>\n",
       "    </tr>\n",
       "  </tbody>\n",
       "</table>\n",
       "</div>"
      ],
      "text/plain": [
       "   messages_included  mb_per_month_included  minutes_included  \\\n",
       "0                 50                  15360               500   \n",
       "1               1000                  30720              3000   \n",
       "\n",
       "   usd_monthly_pay  usd_per_gb  usd_per_message  usd_per_minute plan_name  \n",
       "0               20          10             0.03            0.03      surf  \n",
       "1               70           7             0.01            0.01  ultimate  "
      ]
     },
     "execution_count": 16,
     "metadata": {},
     "output_type": "execute_result"
    }
   ],
   "source": [
    "# imprimindo primeiras linhas de 'ml_plan'\n",
    "\n",
    "ml_plan.head()"
   ]
  },
  {
   "cell_type": "markdown",
   "metadata": {},
   "source": [
    "renomear a coluna 'plan_name' para  'plan' para facilitar mergir as colunas"
   ]
  },
  {
   "cell_type": "markdown",
   "metadata": {},
   "source": [
    " "
   ]
  },
  {
   "cell_type": "markdown",
   "metadata": {},
   "source": [
    "## Corrigir dados"
   ]
  },
  {
   "cell_type": "code",
   "execution_count": 17,
   "metadata": {},
   "outputs": [],
   "source": [
    "# renomeando coluna 'plan_name' para 'plan'\n",
    "\n",
    "ml_plan.rename(columns={ 'plan_name' : 'plan'}, inplace=True)"
   ]
  },
  {
   "cell_type": "markdown",
   "metadata": {},
   "source": [
    "## Enriqueça os dados"
   ]
  },
  {
   "cell_type": "markdown",
   "metadata": {},
   "source": [
    "## Usuários"
   ]
  },
  {
   "cell_type": "code",
   "execution_count": 18,
   "metadata": {},
   "outputs": [
    {
     "name": "stdout",
     "output_type": "stream",
     "text": [
      "<class 'pandas.core.frame.DataFrame'>\n",
      "RangeIndex: 500 entries, 0 to 499\n",
      "Data columns (total 8 columns):\n",
      " #   Column      Non-Null Count  Dtype \n",
      "---  ------      --------------  ----- \n",
      " 0   user_id     500 non-null    int64 \n",
      " 1   first_name  500 non-null    object\n",
      " 2   last_name   500 non-null    object\n",
      " 3   age         500 non-null    int64 \n",
      " 4   city        500 non-null    object\n",
      " 5   reg_date    500 non-null    object\n",
      " 6   plan        500 non-null    object\n",
      " 7   churn_date  34 non-null     object\n",
      "dtypes: int64(2), object(6)\n",
      "memory usage: 31.4+ KB\n"
     ]
    }
   ],
   "source": [
    "# Imprima as informações gerais/resumidas sobre o DataFrame dos usuários\n",
    "\n",
    "ml_user.info()"
   ]
  },
  {
   "cell_type": "code",
   "execution_count": 19,
   "metadata": {
    "scrolled": true
   },
   "outputs": [
    {
     "data": {
      "text/html": [
       "<div>\n",
       "<style scoped>\n",
       "    .dataframe tbody tr th:only-of-type {\n",
       "        vertical-align: middle;\n",
       "    }\n",
       "\n",
       "    .dataframe tbody tr th {\n",
       "        vertical-align: top;\n",
       "    }\n",
       "\n",
       "    .dataframe thead th {\n",
       "        text-align: right;\n",
       "    }\n",
       "</style>\n",
       "<table border=\"1\" class=\"dataframe\">\n",
       "  <thead>\n",
       "    <tr style=\"text-align: right;\">\n",
       "      <th></th>\n",
       "      <th>user_id</th>\n",
       "      <th>first_name</th>\n",
       "      <th>last_name</th>\n",
       "      <th>age</th>\n",
       "      <th>city</th>\n",
       "      <th>reg_date</th>\n",
       "      <th>plan</th>\n",
       "      <th>churn_date</th>\n",
       "    </tr>\n",
       "  </thead>\n",
       "  <tbody>\n",
       "    <tr>\n",
       "      <th>0</th>\n",
       "      <td>1000</td>\n",
       "      <td>Anamaria</td>\n",
       "      <td>Bauer</td>\n",
       "      <td>45</td>\n",
       "      <td>Atlanta-Sandy Springs-Roswell, GA MSA</td>\n",
       "      <td>2018-12-24</td>\n",
       "      <td>ultimate</td>\n",
       "      <td>NaN</td>\n",
       "    </tr>\n",
       "    <tr>\n",
       "      <th>1</th>\n",
       "      <td>1001</td>\n",
       "      <td>Mickey</td>\n",
       "      <td>Wilkerson</td>\n",
       "      <td>28</td>\n",
       "      <td>Seattle-Tacoma-Bellevue, WA MSA</td>\n",
       "      <td>2018-08-13</td>\n",
       "      <td>surf</td>\n",
       "      <td>NaN</td>\n",
       "    </tr>\n",
       "    <tr>\n",
       "      <th>2</th>\n",
       "      <td>1002</td>\n",
       "      <td>Carlee</td>\n",
       "      <td>Hoffman</td>\n",
       "      <td>36</td>\n",
       "      <td>Las Vegas-Henderson-Paradise, NV MSA</td>\n",
       "      <td>2018-10-21</td>\n",
       "      <td>surf</td>\n",
       "      <td>NaN</td>\n",
       "    </tr>\n",
       "    <tr>\n",
       "      <th>3</th>\n",
       "      <td>1003</td>\n",
       "      <td>Reynaldo</td>\n",
       "      <td>Jenkins</td>\n",
       "      <td>52</td>\n",
       "      <td>Tulsa, OK MSA</td>\n",
       "      <td>2018-01-28</td>\n",
       "      <td>surf</td>\n",
       "      <td>NaN</td>\n",
       "    </tr>\n",
       "    <tr>\n",
       "      <th>4</th>\n",
       "      <td>1004</td>\n",
       "      <td>Leonila</td>\n",
       "      <td>Thompson</td>\n",
       "      <td>40</td>\n",
       "      <td>Seattle-Tacoma-Bellevue, WA MSA</td>\n",
       "      <td>2018-05-23</td>\n",
       "      <td>surf</td>\n",
       "      <td>NaN</td>\n",
       "    </tr>\n",
       "    <tr>\n",
       "      <th>5</th>\n",
       "      <td>1005</td>\n",
       "      <td>Livia</td>\n",
       "      <td>Shields</td>\n",
       "      <td>31</td>\n",
       "      <td>Dallas-Fort Worth-Arlington, TX MSA</td>\n",
       "      <td>2018-11-29</td>\n",
       "      <td>surf</td>\n",
       "      <td>NaN</td>\n",
       "    </tr>\n",
       "    <tr>\n",
       "      <th>6</th>\n",
       "      <td>1006</td>\n",
       "      <td>Jesusa</td>\n",
       "      <td>Bradford</td>\n",
       "      <td>73</td>\n",
       "      <td>San Francisco-Oakland-Berkeley, CA MSA</td>\n",
       "      <td>2018-11-27</td>\n",
       "      <td>ultimate</td>\n",
       "      <td>2018-12-18</td>\n",
       "    </tr>\n",
       "    <tr>\n",
       "      <th>7</th>\n",
       "      <td>1007</td>\n",
       "      <td>Eusebio</td>\n",
       "      <td>Welch</td>\n",
       "      <td>42</td>\n",
       "      <td>Grand Rapids-Kentwood, MI MSA</td>\n",
       "      <td>2018-07-11</td>\n",
       "      <td>surf</td>\n",
       "      <td>NaN</td>\n",
       "    </tr>\n",
       "    <tr>\n",
       "      <th>8</th>\n",
       "      <td>1008</td>\n",
       "      <td>Emely</td>\n",
       "      <td>Hoffman</td>\n",
       "      <td>53</td>\n",
       "      <td>Orlando-Kissimmee-Sanford, FL MSA</td>\n",
       "      <td>2018-08-03</td>\n",
       "      <td>ultimate</td>\n",
       "      <td>NaN</td>\n",
       "    </tr>\n",
       "    <tr>\n",
       "      <th>9</th>\n",
       "      <td>1009</td>\n",
       "      <td>Gerry</td>\n",
       "      <td>Little</td>\n",
       "      <td>19</td>\n",
       "      <td>San Jose-Sunnyvale-Santa Clara, CA MSA</td>\n",
       "      <td>2018-04-22</td>\n",
       "      <td>surf</td>\n",
       "      <td>NaN</td>\n",
       "    </tr>\n",
       "  </tbody>\n",
       "</table>\n",
       "</div>"
      ],
      "text/plain": [
       "   user_id first_name  last_name  age                                    city  \\\n",
       "0     1000   Anamaria      Bauer   45   Atlanta-Sandy Springs-Roswell, GA MSA   \n",
       "1     1001     Mickey  Wilkerson   28         Seattle-Tacoma-Bellevue, WA MSA   \n",
       "2     1002     Carlee    Hoffman   36    Las Vegas-Henderson-Paradise, NV MSA   \n",
       "3     1003   Reynaldo    Jenkins   52                           Tulsa, OK MSA   \n",
       "4     1004    Leonila   Thompson   40         Seattle-Tacoma-Bellevue, WA MSA   \n",
       "5     1005      Livia    Shields   31     Dallas-Fort Worth-Arlington, TX MSA   \n",
       "6     1006     Jesusa   Bradford   73  San Francisco-Oakland-Berkeley, CA MSA   \n",
       "7     1007    Eusebio      Welch   42           Grand Rapids-Kentwood, MI MSA   \n",
       "8     1008      Emely    Hoffman   53       Orlando-Kissimmee-Sanford, FL MSA   \n",
       "9     1009      Gerry     Little   19  San Jose-Sunnyvale-Santa Clara, CA MSA   \n",
       "\n",
       "     reg_date      plan  churn_date  \n",
       "0  2018-12-24  ultimate         NaN  \n",
       "1  2018-08-13      surf         NaN  \n",
       "2  2018-10-21      surf         NaN  \n",
       "3  2018-01-28      surf         NaN  \n",
       "4  2018-05-23      surf         NaN  \n",
       "5  2018-11-29      surf         NaN  \n",
       "6  2018-11-27  ultimate  2018-12-18  \n",
       "7  2018-07-11      surf         NaN  \n",
       "8  2018-08-03  ultimate         NaN  \n",
       "9  2018-04-22      surf         NaN  "
      ]
     },
     "execution_count": 19,
     "metadata": {},
     "output_type": "execute_result"
    }
   ],
   "source": [
    "# Imprimir uma amostra de dados para usuários\n",
    "\n",
    "ml_user.head(10)"
   ]
  },
  {
   "cell_type": "markdown",
   "metadata": {},
   "source": [
    "tipo de dados coluna 'reg date' sera transformada para formato de data\n",
    "Os dados ausentes da coluna 'churn date' serao substituidos pela data 01/01/2019 ja que a ultima data achada tanto na coluna 'churn_date como 'reg_date foi 31/12/2018"
   ]
  },
  {
   "cell_type": "markdown",
   "metadata": {},
   "source": [
    " "
   ]
  },
  {
   "cell_type": "markdown",
   "metadata": {},
   "source": [
    "### Corrigir dados"
   ]
  },
  {
   "cell_type": "code",
   "execution_count": 20,
   "metadata": {},
   "outputs": [
    {
     "data": {
      "text/plain": [
       "array(['2018-07-31', '2018-08-16', '2018-08-19', '2018-09-01',\n",
       "       '2018-09-07', '2018-09-17', '2018-09-18', '2018-10-03',\n",
       "       '2018-10-07', '2018-10-13', '2018-10-22', '2018-11-11',\n",
       "       '2018-11-14', '2018-11-16', '2018-11-18', '2018-11-21',\n",
       "       '2018-11-24', '2018-11-29', '2018-11-30', '2018-12-10',\n",
       "       '2018-12-12', '2018-12-15', '2018-12-18', '2018-12-19',\n",
       "       '2018-12-22', '2018-12-26', '2018-12-27', '2018-12-30',\n",
       "       '2018-12-31', nan], dtype=object)"
      ]
     },
     "execution_count": 20,
     "metadata": {},
     "output_type": "execute_result"
    }
   ],
   "source": [
    "# visualizando datas unicas em 'churn_date'\n",
    "\n",
    "ml_user['churn_date'].sort_values().unique()"
   ]
  },
  {
   "cell_type": "code",
   "execution_count": 21,
   "metadata": {
    "scrolled": true
   },
   "outputs": [
    {
     "data": {
      "text/plain": [
       "array(['2018-01-01', '2018-01-04', '2018-01-05', '2018-01-07',\n",
       "       '2018-01-08', '2018-01-09', '2018-01-10', '2018-01-11',\n",
       "       '2018-01-12', '2018-01-13', '2018-01-14', '2018-01-15',\n",
       "       '2018-01-16', '2018-01-17', '2018-01-18', '2018-01-19',\n",
       "       '2018-01-20', '2018-01-21', '2018-01-24', '2018-01-25',\n",
       "       '2018-01-26', '2018-01-27', '2018-01-28', '2018-01-29',\n",
       "       '2018-01-31', '2018-02-02', '2018-02-04', '2018-02-05',\n",
       "       '2018-02-06', '2018-02-08', '2018-02-09', '2018-02-10',\n",
       "       '2018-02-11', '2018-02-13', '2018-02-14', '2018-02-15',\n",
       "       '2018-02-16', '2018-02-17', '2018-02-19', '2018-02-20',\n",
       "       '2018-02-21', '2018-02-22', '2018-02-23', '2018-02-26',\n",
       "       '2018-02-27', '2018-03-01', '2018-03-03', '2018-03-04',\n",
       "       '2018-03-05', '2018-03-06', '2018-03-07', '2018-03-08',\n",
       "       '2018-03-09', '2018-03-11', '2018-03-12', '2018-03-13',\n",
       "       '2018-03-15', '2018-03-16', '2018-03-17', '2018-03-18',\n",
       "       '2018-03-20', '2018-03-25', '2018-03-26', '2018-03-27',\n",
       "       '2018-03-28', '2018-03-29', '2018-03-30', '2018-04-03',\n",
       "       '2018-04-04', '2018-04-05', '2018-04-06', '2018-04-07',\n",
       "       '2018-04-08', '2018-04-10', '2018-04-11', '2018-04-12',\n",
       "       '2018-04-13', '2018-04-14', '2018-04-15', '2018-04-16',\n",
       "       '2018-04-19', '2018-04-20', '2018-04-21', '2018-04-22',\n",
       "       '2018-04-25', '2018-04-26', '2018-04-27', '2018-04-30',\n",
       "       '2018-05-01', '2018-05-03', '2018-05-04', '2018-05-06',\n",
       "       '2018-05-07', '2018-05-08', '2018-05-09', '2018-05-10',\n",
       "       '2018-05-11', '2018-05-12', '2018-05-14', '2018-05-15',\n",
       "       '2018-05-16', '2018-05-17', '2018-05-18', '2018-05-20',\n",
       "       '2018-05-21', '2018-05-23', '2018-05-24', '2018-05-25',\n",
       "       '2018-05-27', '2018-05-28', '2018-05-29', '2018-05-30',\n",
       "       '2018-05-31', '2018-06-01', '2018-06-02', '2018-06-03',\n",
       "       '2018-06-04', '2018-06-06', '2018-06-07', '2018-06-09',\n",
       "       '2018-06-10', '2018-06-11', '2018-06-15', '2018-06-16',\n",
       "       '2018-06-17', '2018-06-18', '2018-06-19', '2018-06-20',\n",
       "       '2018-06-22', '2018-06-23', '2018-06-24', '2018-06-25',\n",
       "       '2018-06-26', '2018-06-27', '2018-06-28', '2018-06-30',\n",
       "       '2018-07-01', '2018-07-02', '2018-07-04', '2018-07-05',\n",
       "       '2018-07-06', '2018-07-07', '2018-07-09', '2018-07-11',\n",
       "       '2018-07-12', '2018-07-15', '2018-07-17', '2018-07-18',\n",
       "       '2018-07-19', '2018-07-20', '2018-07-21', '2018-07-23',\n",
       "       '2018-07-24', '2018-07-27', '2018-07-29', '2018-07-30',\n",
       "       '2018-08-01', '2018-08-03', '2018-08-04', '2018-08-06',\n",
       "       '2018-08-07', '2018-08-08', '2018-08-09', '2018-08-10',\n",
       "       '2018-08-11', '2018-08-13', '2018-08-14', '2018-08-16',\n",
       "       '2018-08-18', '2018-08-20', '2018-08-21', '2018-08-23',\n",
       "       '2018-08-24', '2018-08-25', '2018-08-26', '2018-08-27',\n",
       "       '2018-08-28', '2018-08-29', '2018-08-30', '2018-09-03',\n",
       "       '2018-09-04', '2018-09-05', '2018-09-07', '2018-09-08',\n",
       "       '2018-09-10', '2018-09-11', '2018-09-12', '2018-09-13',\n",
       "       '2018-09-14', '2018-09-17', '2018-09-18', '2018-09-19',\n",
       "       '2018-09-20', '2018-09-21', '2018-09-24', '2018-09-25',\n",
       "       '2018-09-28', '2018-09-29', '2018-09-30', '2018-10-01',\n",
       "       '2018-10-02', '2018-10-03', '2018-10-04', '2018-10-05',\n",
       "       '2018-10-06', '2018-10-07', '2018-10-08', '2018-10-10',\n",
       "       '2018-10-13', '2018-10-14', '2018-10-15', '2018-10-16',\n",
       "       '2018-10-17', '2018-10-18', '2018-10-20', '2018-10-21',\n",
       "       '2018-10-22', '2018-10-23', '2018-10-25', '2018-10-26',\n",
       "       '2018-10-27', '2018-10-28', '2018-10-29', '2018-10-30',\n",
       "       '2018-11-01', '2018-11-03', '2018-11-04', '2018-11-05',\n",
       "       '2018-11-06', '2018-11-07', '2018-11-08', '2018-11-09',\n",
       "       '2018-11-10', '2018-11-11', '2018-11-12', '2018-11-15',\n",
       "       '2018-11-18', '2018-11-19', '2018-11-22', '2018-11-23',\n",
       "       '2018-11-24', '2018-11-25', '2018-11-26', '2018-11-27',\n",
       "       '2018-11-29', '2018-11-30', '2018-12-01', '2018-12-02',\n",
       "       '2018-12-05', '2018-12-06', '2018-12-07', '2018-12-08',\n",
       "       '2018-12-09', '2018-12-10', '2018-12-11', '2018-12-13',\n",
       "       '2018-12-17', '2018-12-21', '2018-12-22', '2018-12-23',\n",
       "       '2018-12-24', '2018-12-25', '2018-12-27', '2018-12-29',\n",
       "       '2018-12-30', '2018-12-31'], dtype=object)"
      ]
     },
     "execution_count": 21,
     "metadata": {},
     "output_type": "execute_result"
    }
   ],
   "source": [
    "# visualizando datas unicas em 'reg_date'\n",
    "\n",
    "ml_user['reg_date'].sort_values().unique()"
   ]
  },
  {
   "cell_type": "code",
   "execution_count": 22,
   "metadata": {},
   "outputs": [],
   "source": [
    "# preenchendo valor n/a em 'churn_date' pela primeira data depois da ultima data encontrada nos dados\n",
    "\n",
    "fill_date = '01/01/2019'\n",
    "\n",
    "ml_user['churn_date'].fillna(fill_date, inplace = True)"
   ]
  },
  {
   "cell_type": "code",
   "execution_count": 23,
   "metadata": {},
   "outputs": [],
   "source": [
    "# substituindo tipo de dados em 'reg_date' para formato de data\n",
    "\n",
    "ml_user['reg_date'] = pd.to_datetime(ml_user['reg_date'])"
   ]
  },
  {
   "cell_type": "code",
   "execution_count": 24,
   "metadata": {},
   "outputs": [],
   "source": [
    "# substituindo tipo de dados em 'churn_date' para formato de data\n",
    "\n",
    "ml_user['churn_date'] = pd.to_datetime(ml_user['churn_date'])"
   ]
  },
  {
   "cell_type": "code",
   "execution_count": 25,
   "metadata": {
    "scrolled": true
   },
   "outputs": [
    {
     "name": "stdout",
     "output_type": "stream",
     "text": [
      "<class 'pandas.core.frame.DataFrame'>\n",
      "RangeIndex: 500 entries, 0 to 499\n",
      "Data columns (total 8 columns):\n",
      " #   Column      Non-Null Count  Dtype         \n",
      "---  ------      --------------  -----         \n",
      " 0   user_id     500 non-null    int64         \n",
      " 1   first_name  500 non-null    object        \n",
      " 2   last_name   500 non-null    object        \n",
      " 3   age         500 non-null    int64         \n",
      " 4   city        500 non-null    object        \n",
      " 5   reg_date    500 non-null    datetime64[ns]\n",
      " 6   plan        500 non-null    object        \n",
      " 7   churn_date  500 non-null    datetime64[ns]\n",
      "dtypes: datetime64[ns](2), int64(2), object(4)\n",
      "memory usage: 31.4+ KB\n"
     ]
    }
   ],
   "source": [
    "# verificando troca de tipo de dados em 'ml_user'\n",
    "\n",
    "ml_user.info()"
   ]
  },
  {
   "cell_type": "code",
   "execution_count": 26,
   "metadata": {
    "scrolled": true
   },
   "outputs": [
    {
     "data": {
      "text/html": [
       "<div>\n",
       "<style scoped>\n",
       "    .dataframe tbody tr th:only-of-type {\n",
       "        vertical-align: middle;\n",
       "    }\n",
       "\n",
       "    .dataframe tbody tr th {\n",
       "        vertical-align: top;\n",
       "    }\n",
       "\n",
       "    .dataframe thead th {\n",
       "        text-align: right;\n",
       "    }\n",
       "</style>\n",
       "<table border=\"1\" class=\"dataframe\">\n",
       "  <thead>\n",
       "    <tr style=\"text-align: right;\">\n",
       "      <th></th>\n",
       "      <th>user_id</th>\n",
       "      <th>first_name</th>\n",
       "      <th>last_name</th>\n",
       "      <th>age</th>\n",
       "      <th>city</th>\n",
       "      <th>reg_date</th>\n",
       "      <th>plan</th>\n",
       "      <th>churn_date</th>\n",
       "    </tr>\n",
       "  </thead>\n",
       "  <tbody>\n",
       "    <tr>\n",
       "      <th>0</th>\n",
       "      <td>1000</td>\n",
       "      <td>Anamaria</td>\n",
       "      <td>Bauer</td>\n",
       "      <td>45</td>\n",
       "      <td>Atlanta-Sandy Springs-Roswell, GA MSA</td>\n",
       "      <td>2018-12-24</td>\n",
       "      <td>ultimate</td>\n",
       "      <td>2019-01-01</td>\n",
       "    </tr>\n",
       "    <tr>\n",
       "      <th>1</th>\n",
       "      <td>1001</td>\n",
       "      <td>Mickey</td>\n",
       "      <td>Wilkerson</td>\n",
       "      <td>28</td>\n",
       "      <td>Seattle-Tacoma-Bellevue, WA MSA</td>\n",
       "      <td>2018-08-13</td>\n",
       "      <td>surf</td>\n",
       "      <td>2019-01-01</td>\n",
       "    </tr>\n",
       "    <tr>\n",
       "      <th>2</th>\n",
       "      <td>1002</td>\n",
       "      <td>Carlee</td>\n",
       "      <td>Hoffman</td>\n",
       "      <td>36</td>\n",
       "      <td>Las Vegas-Henderson-Paradise, NV MSA</td>\n",
       "      <td>2018-10-21</td>\n",
       "      <td>surf</td>\n",
       "      <td>2019-01-01</td>\n",
       "    </tr>\n",
       "    <tr>\n",
       "      <th>3</th>\n",
       "      <td>1003</td>\n",
       "      <td>Reynaldo</td>\n",
       "      <td>Jenkins</td>\n",
       "      <td>52</td>\n",
       "      <td>Tulsa, OK MSA</td>\n",
       "      <td>2018-01-28</td>\n",
       "      <td>surf</td>\n",
       "      <td>2019-01-01</td>\n",
       "    </tr>\n",
       "    <tr>\n",
       "      <th>4</th>\n",
       "      <td>1004</td>\n",
       "      <td>Leonila</td>\n",
       "      <td>Thompson</td>\n",
       "      <td>40</td>\n",
       "      <td>Seattle-Tacoma-Bellevue, WA MSA</td>\n",
       "      <td>2018-05-23</td>\n",
       "      <td>surf</td>\n",
       "      <td>2019-01-01</td>\n",
       "    </tr>\n",
       "  </tbody>\n",
       "</table>\n",
       "</div>"
      ],
      "text/plain": [
       "   user_id first_name  last_name  age                                   city  \\\n",
       "0     1000   Anamaria      Bauer   45  Atlanta-Sandy Springs-Roswell, GA MSA   \n",
       "1     1001     Mickey  Wilkerson   28        Seattle-Tacoma-Bellevue, WA MSA   \n",
       "2     1002     Carlee    Hoffman   36   Las Vegas-Henderson-Paradise, NV MSA   \n",
       "3     1003   Reynaldo    Jenkins   52                          Tulsa, OK MSA   \n",
       "4     1004    Leonila   Thompson   40        Seattle-Tacoma-Bellevue, WA MSA   \n",
       "\n",
       "    reg_date      plan churn_date  \n",
       "0 2018-12-24  ultimate 2019-01-01  \n",
       "1 2018-08-13      surf 2019-01-01  \n",
       "2 2018-10-21      surf 2019-01-01  \n",
       "3 2018-01-28      surf 2019-01-01  \n",
       "4 2018-05-23      surf 2019-01-01  "
      ]
     },
     "execution_count": 26,
     "metadata": {},
     "output_type": "execute_result"
    }
   ],
   "source": [
    "ml_user.head()"
   ]
  },
  {
   "cell_type": "markdown",
   "metadata": {},
   "source": [
    "baseado nas datas unicas, todas em 2018, substitui valores ausentes em 'churn_date' por '01/01/2019' para que eu possa calcular quantos meses o usuario esta utilizando os servicos da empresa."
   ]
  },
  {
   "cell_type": "markdown",
   "metadata": {},
   "source": [
    "### Enriquecer Dados"
   ]
  },
  {
   "cell_type": "markdown",
   "metadata": {},
   "source": [
    "Adicionar uma coluna para quantos meses de contrato cada cliente tem"
   ]
  },
  {
   "cell_type": "code",
   "execution_count": 27,
   "metadata": {},
   "outputs": [],
   "source": [
    "ml_user['churn_date'] = pd.to_datetime(ml_user['churn_date'])"
   ]
  },
  {
   "cell_type": "code",
   "execution_count": 28,
   "metadata": {},
   "outputs": [],
   "source": [
    "# adicionando coluna com numero de meses que usuario tem o plano\n",
    "\n",
    "ml_user['months_contract'] = (ml_user['churn_date'].dt.to_period('M') - ml_user['reg_date'].dt.to_period('M')).apply(lambda x: x.n)"
   ]
  },
  {
   "cell_type": "code",
   "execution_count": 29,
   "metadata": {
    "scrolled": true
   },
   "outputs": [
    {
     "data": {
      "text/html": [
       "<div>\n",
       "<style scoped>\n",
       "    .dataframe tbody tr th:only-of-type {\n",
       "        vertical-align: middle;\n",
       "    }\n",
       "\n",
       "    .dataframe tbody tr th {\n",
       "        vertical-align: top;\n",
       "    }\n",
       "\n",
       "    .dataframe thead th {\n",
       "        text-align: right;\n",
       "    }\n",
       "</style>\n",
       "<table border=\"1\" class=\"dataframe\">\n",
       "  <thead>\n",
       "    <tr style=\"text-align: right;\">\n",
       "      <th></th>\n",
       "      <th>user_id</th>\n",
       "      <th>first_name</th>\n",
       "      <th>last_name</th>\n",
       "      <th>age</th>\n",
       "      <th>city</th>\n",
       "      <th>reg_date</th>\n",
       "      <th>plan</th>\n",
       "      <th>churn_date</th>\n",
       "      <th>months_contract</th>\n",
       "    </tr>\n",
       "  </thead>\n",
       "  <tbody>\n",
       "    <tr>\n",
       "      <th>0</th>\n",
       "      <td>1000</td>\n",
       "      <td>Anamaria</td>\n",
       "      <td>Bauer</td>\n",
       "      <td>45</td>\n",
       "      <td>Atlanta-Sandy Springs-Roswell, GA MSA</td>\n",
       "      <td>2018-12-24</td>\n",
       "      <td>ultimate</td>\n",
       "      <td>2019-01-01</td>\n",
       "      <td>1</td>\n",
       "    </tr>\n",
       "    <tr>\n",
       "      <th>1</th>\n",
       "      <td>1001</td>\n",
       "      <td>Mickey</td>\n",
       "      <td>Wilkerson</td>\n",
       "      <td>28</td>\n",
       "      <td>Seattle-Tacoma-Bellevue, WA MSA</td>\n",
       "      <td>2018-08-13</td>\n",
       "      <td>surf</td>\n",
       "      <td>2019-01-01</td>\n",
       "      <td>5</td>\n",
       "    </tr>\n",
       "    <tr>\n",
       "      <th>2</th>\n",
       "      <td>1002</td>\n",
       "      <td>Carlee</td>\n",
       "      <td>Hoffman</td>\n",
       "      <td>36</td>\n",
       "      <td>Las Vegas-Henderson-Paradise, NV MSA</td>\n",
       "      <td>2018-10-21</td>\n",
       "      <td>surf</td>\n",
       "      <td>2019-01-01</td>\n",
       "      <td>3</td>\n",
       "    </tr>\n",
       "    <tr>\n",
       "      <th>3</th>\n",
       "      <td>1003</td>\n",
       "      <td>Reynaldo</td>\n",
       "      <td>Jenkins</td>\n",
       "      <td>52</td>\n",
       "      <td>Tulsa, OK MSA</td>\n",
       "      <td>2018-01-28</td>\n",
       "      <td>surf</td>\n",
       "      <td>2019-01-01</td>\n",
       "      <td>12</td>\n",
       "    </tr>\n",
       "    <tr>\n",
       "      <th>4</th>\n",
       "      <td>1004</td>\n",
       "      <td>Leonila</td>\n",
       "      <td>Thompson</td>\n",
       "      <td>40</td>\n",
       "      <td>Seattle-Tacoma-Bellevue, WA MSA</td>\n",
       "      <td>2018-05-23</td>\n",
       "      <td>surf</td>\n",
       "      <td>2019-01-01</td>\n",
       "      <td>8</td>\n",
       "    </tr>\n",
       "    <tr>\n",
       "      <th>5</th>\n",
       "      <td>1005</td>\n",
       "      <td>Livia</td>\n",
       "      <td>Shields</td>\n",
       "      <td>31</td>\n",
       "      <td>Dallas-Fort Worth-Arlington, TX MSA</td>\n",
       "      <td>2018-11-29</td>\n",
       "      <td>surf</td>\n",
       "      <td>2019-01-01</td>\n",
       "      <td>2</td>\n",
       "    </tr>\n",
       "    <tr>\n",
       "      <th>6</th>\n",
       "      <td>1006</td>\n",
       "      <td>Jesusa</td>\n",
       "      <td>Bradford</td>\n",
       "      <td>73</td>\n",
       "      <td>San Francisco-Oakland-Berkeley, CA MSA</td>\n",
       "      <td>2018-11-27</td>\n",
       "      <td>ultimate</td>\n",
       "      <td>2018-12-18</td>\n",
       "      <td>1</td>\n",
       "    </tr>\n",
       "    <tr>\n",
       "      <th>7</th>\n",
       "      <td>1007</td>\n",
       "      <td>Eusebio</td>\n",
       "      <td>Welch</td>\n",
       "      <td>42</td>\n",
       "      <td>Grand Rapids-Kentwood, MI MSA</td>\n",
       "      <td>2018-07-11</td>\n",
       "      <td>surf</td>\n",
       "      <td>2019-01-01</td>\n",
       "      <td>6</td>\n",
       "    </tr>\n",
       "    <tr>\n",
       "      <th>8</th>\n",
       "      <td>1008</td>\n",
       "      <td>Emely</td>\n",
       "      <td>Hoffman</td>\n",
       "      <td>53</td>\n",
       "      <td>Orlando-Kissimmee-Sanford, FL MSA</td>\n",
       "      <td>2018-08-03</td>\n",
       "      <td>ultimate</td>\n",
       "      <td>2019-01-01</td>\n",
       "      <td>5</td>\n",
       "    </tr>\n",
       "    <tr>\n",
       "      <th>9</th>\n",
       "      <td>1009</td>\n",
       "      <td>Gerry</td>\n",
       "      <td>Little</td>\n",
       "      <td>19</td>\n",
       "      <td>San Jose-Sunnyvale-Santa Clara, CA MSA</td>\n",
       "      <td>2018-04-22</td>\n",
       "      <td>surf</td>\n",
       "      <td>2019-01-01</td>\n",
       "      <td>9</td>\n",
       "    </tr>\n",
       "  </tbody>\n",
       "</table>\n",
       "</div>"
      ],
      "text/plain": [
       "   user_id first_name  last_name  age                                    city  \\\n",
       "0     1000   Anamaria      Bauer   45   Atlanta-Sandy Springs-Roswell, GA MSA   \n",
       "1     1001     Mickey  Wilkerson   28         Seattle-Tacoma-Bellevue, WA MSA   \n",
       "2     1002     Carlee    Hoffman   36    Las Vegas-Henderson-Paradise, NV MSA   \n",
       "3     1003   Reynaldo    Jenkins   52                           Tulsa, OK MSA   \n",
       "4     1004    Leonila   Thompson   40         Seattle-Tacoma-Bellevue, WA MSA   \n",
       "5     1005      Livia    Shields   31     Dallas-Fort Worth-Arlington, TX MSA   \n",
       "6     1006     Jesusa   Bradford   73  San Francisco-Oakland-Berkeley, CA MSA   \n",
       "7     1007    Eusebio      Welch   42           Grand Rapids-Kentwood, MI MSA   \n",
       "8     1008      Emely    Hoffman   53       Orlando-Kissimmee-Sanford, FL MSA   \n",
       "9     1009      Gerry     Little   19  San Jose-Sunnyvale-Santa Clara, CA MSA   \n",
       "\n",
       "    reg_date      plan churn_date  months_contract  \n",
       "0 2018-12-24  ultimate 2019-01-01                1  \n",
       "1 2018-08-13      surf 2019-01-01                5  \n",
       "2 2018-10-21      surf 2019-01-01                3  \n",
       "3 2018-01-28      surf 2019-01-01               12  \n",
       "4 2018-05-23      surf 2019-01-01                8  \n",
       "5 2018-11-29      surf 2019-01-01                2  \n",
       "6 2018-11-27  ultimate 2018-12-18                1  \n",
       "7 2018-07-11      surf 2019-01-01                6  \n",
       "8 2018-08-03  ultimate 2019-01-01                5  \n",
       "9 2018-04-22      surf 2019-01-01                9  "
      ]
     },
     "execution_count": 29,
     "metadata": {},
     "output_type": "execute_result"
    }
   ],
   "source": [
    "ml_user.head(10)"
   ]
  },
  {
   "cell_type": "markdown",
   "metadata": {},
   "source": [
    "## Chamadas"
   ]
  },
  {
   "cell_type": "code",
   "execution_count": 30,
   "metadata": {},
   "outputs": [
    {
     "name": "stdout",
     "output_type": "stream",
     "text": [
      "<class 'pandas.core.frame.DataFrame'>\n",
      "RangeIndex: 137735 entries, 0 to 137734\n",
      "Data columns (total 4 columns):\n",
      " #   Column     Non-Null Count   Dtype  \n",
      "---  ------     --------------   -----  \n",
      " 0   id         137735 non-null  object \n",
      " 1   user_id    137735 non-null  int64  \n",
      " 2   call_date  137735 non-null  object \n",
      " 3   duration   137735 non-null  float64\n",
      "dtypes: float64(1), int64(1), object(2)\n",
      "memory usage: 4.2+ MB\n"
     ]
    }
   ],
   "source": [
    "# Imprima as informações gerais/resumidas sobre o DataFrame das chamadas\n",
    "\n",
    "ml_call.info()"
   ]
  },
  {
   "cell_type": "code",
   "execution_count": 31,
   "metadata": {},
   "outputs": [
    {
     "data": {
      "text/html": [
       "<div>\n",
       "<style scoped>\n",
       "    .dataframe tbody tr th:only-of-type {\n",
       "        vertical-align: middle;\n",
       "    }\n",
       "\n",
       "    .dataframe tbody tr th {\n",
       "        vertical-align: top;\n",
       "    }\n",
       "\n",
       "    .dataframe thead th {\n",
       "        text-align: right;\n",
       "    }\n",
       "</style>\n",
       "<table border=\"1\" class=\"dataframe\">\n",
       "  <thead>\n",
       "    <tr style=\"text-align: right;\">\n",
       "      <th></th>\n",
       "      <th>id</th>\n",
       "      <th>user_id</th>\n",
       "      <th>call_date</th>\n",
       "      <th>duration</th>\n",
       "    </tr>\n",
       "  </thead>\n",
       "  <tbody>\n",
       "    <tr>\n",
       "      <th>0</th>\n",
       "      <td>1000_93</td>\n",
       "      <td>1000</td>\n",
       "      <td>2018-12-27</td>\n",
       "      <td>8.52</td>\n",
       "    </tr>\n",
       "    <tr>\n",
       "      <th>1</th>\n",
       "      <td>1000_145</td>\n",
       "      <td>1000</td>\n",
       "      <td>2018-12-27</td>\n",
       "      <td>13.66</td>\n",
       "    </tr>\n",
       "    <tr>\n",
       "      <th>2</th>\n",
       "      <td>1000_247</td>\n",
       "      <td>1000</td>\n",
       "      <td>2018-12-27</td>\n",
       "      <td>14.48</td>\n",
       "    </tr>\n",
       "    <tr>\n",
       "      <th>3</th>\n",
       "      <td>1000_309</td>\n",
       "      <td>1000</td>\n",
       "      <td>2018-12-28</td>\n",
       "      <td>5.76</td>\n",
       "    </tr>\n",
       "    <tr>\n",
       "      <th>4</th>\n",
       "      <td>1000_380</td>\n",
       "      <td>1000</td>\n",
       "      <td>2018-12-30</td>\n",
       "      <td>4.22</td>\n",
       "    </tr>\n",
       "  </tbody>\n",
       "</table>\n",
       "</div>"
      ],
      "text/plain": [
       "         id  user_id   call_date  duration\n",
       "0   1000_93     1000  2018-12-27      8.52\n",
       "1  1000_145     1000  2018-12-27     13.66\n",
       "2  1000_247     1000  2018-12-27     14.48\n",
       "3  1000_309     1000  2018-12-28      5.76\n",
       "4  1000_380     1000  2018-12-30      4.22"
      ]
     },
     "execution_count": 31,
     "metadata": {},
     "output_type": "execute_result"
    }
   ],
   "source": [
    "# Imprimir uma amostra de dados para chamadas\n",
    "\n",
    "ml_call.head()\n"
   ]
  },
  {
   "cell_type": "markdown",
   "metadata": {},
   "source": [
    "coluna id será trocada por tipo 'int',e a coluna 'call_date' será mudada para formato de data\n",
    "\n",
    "vou arredondar os valores de duração da chamada para cima e trocar seu tipo para 'int'\n",
    "\n",
    "não foram achados valores ausentes"
   ]
  },
  {
   "cell_type": "markdown",
   "metadata": {},
   "source": [
    " "
   ]
  },
  {
   "cell_type": "markdown",
   "metadata": {},
   "source": [
    "### Corrigir dados"
   ]
  },
  {
   "cell_type": "markdown",
   "metadata": {},
   "source": [
    "[Corrija problemas óbvios com os dados de acordo com as observações iniciais.]"
   ]
  },
  {
   "cell_type": "code",
   "execution_count": 32,
   "metadata": {},
   "outputs": [],
   "source": [
    "# substituindo tipo de dados em 'id'\n",
    "\n",
    "ml_call['id'] = ml_call['id'].astype(int)"
   ]
  },
  {
   "cell_type": "code",
   "execution_count": 33,
   "metadata": {},
   "outputs": [],
   "source": [
    "# substituindo tipo de dados em 'call_date' para formato de data\n",
    "\n",
    "ml_call['call_date'] = pd.to_datetime(ml_call['call_date'])"
   ]
  },
  {
   "cell_type": "code",
   "execution_count": 34,
   "metadata": {},
   "outputs": [],
   "source": [
    "ml_call['duration'] = np.ceil(ml_call['duration'])"
   ]
  },
  {
   "cell_type": "code",
   "execution_count": 35,
   "metadata": {},
   "outputs": [],
   "source": [
    "# convertendo valores de minutos para 'int'\n",
    "\n",
    "ml_call['duration'] = ml_call['duration'].astype(int)"
   ]
  },
  {
   "cell_type": "code",
   "execution_count": 36,
   "metadata": {
    "scrolled": true
   },
   "outputs": [
    {
     "name": "stdout",
     "output_type": "stream",
     "text": [
      "<class 'pandas.core.frame.DataFrame'>\n",
      "RangeIndex: 137735 entries, 0 to 137734\n",
      "Data columns (total 4 columns):\n",
      " #   Column     Non-Null Count   Dtype         \n",
      "---  ------     --------------   -----         \n",
      " 0   id         137735 non-null  int64         \n",
      " 1   user_id    137735 non-null  int64         \n",
      " 2   call_date  137735 non-null  datetime64[ns]\n",
      " 3   duration   137735 non-null  int64         \n",
      "dtypes: datetime64[ns](1), int64(3)\n",
      "memory usage: 4.2 MB\n"
     ]
    }
   ],
   "source": [
    "# verificando se substituicao de dados ocorreram\n",
    "\n",
    "ml_call.info()"
   ]
  },
  {
   "cell_type": "code",
   "execution_count": 37,
   "metadata": {},
   "outputs": [
    {
     "data": {
      "text/html": [
       "<div>\n",
       "<style scoped>\n",
       "    .dataframe tbody tr th:only-of-type {\n",
       "        vertical-align: middle;\n",
       "    }\n",
       "\n",
       "    .dataframe tbody tr th {\n",
       "        vertical-align: top;\n",
       "    }\n",
       "\n",
       "    .dataframe thead th {\n",
       "        text-align: right;\n",
       "    }\n",
       "</style>\n",
       "<table border=\"1\" class=\"dataframe\">\n",
       "  <thead>\n",
       "    <tr style=\"text-align: right;\">\n",
       "      <th></th>\n",
       "      <th>id</th>\n",
       "      <th>user_id</th>\n",
       "      <th>call_date</th>\n",
       "      <th>duration</th>\n",
       "    </tr>\n",
       "  </thead>\n",
       "  <tbody>\n",
       "    <tr>\n",
       "      <th>0</th>\n",
       "      <td>100093</td>\n",
       "      <td>1000</td>\n",
       "      <td>2018-12-27</td>\n",
       "      <td>9</td>\n",
       "    </tr>\n",
       "    <tr>\n",
       "      <th>1</th>\n",
       "      <td>1000145</td>\n",
       "      <td>1000</td>\n",
       "      <td>2018-12-27</td>\n",
       "      <td>14</td>\n",
       "    </tr>\n",
       "    <tr>\n",
       "      <th>2</th>\n",
       "      <td>1000247</td>\n",
       "      <td>1000</td>\n",
       "      <td>2018-12-27</td>\n",
       "      <td>15</td>\n",
       "    </tr>\n",
       "    <tr>\n",
       "      <th>3</th>\n",
       "      <td>1000309</td>\n",
       "      <td>1000</td>\n",
       "      <td>2018-12-28</td>\n",
       "      <td>6</td>\n",
       "    </tr>\n",
       "    <tr>\n",
       "      <th>4</th>\n",
       "      <td>1000380</td>\n",
       "      <td>1000</td>\n",
       "      <td>2018-12-30</td>\n",
       "      <td>5</td>\n",
       "    </tr>\n",
       "  </tbody>\n",
       "</table>\n",
       "</div>"
      ],
      "text/plain": [
       "        id  user_id  call_date  duration\n",
       "0   100093     1000 2018-12-27         9\n",
       "1  1000145     1000 2018-12-27        14\n",
       "2  1000247     1000 2018-12-27        15\n",
       "3  1000309     1000 2018-12-28         6\n",
       "4  1000380     1000 2018-12-30         5"
      ]
     },
     "execution_count": 37,
     "metadata": {},
     "output_type": "execute_result"
    }
   ],
   "source": [
    "ml_call.head()"
   ]
  },
  {
   "cell_type": "markdown",
   "metadata": {},
   "source": [
    "### Enriquecer dados"
   ]
  },
  {
   "cell_type": "markdown",
   "metadata": {},
   "source": [
    "irei agrupar por usuario e somar o total de minutos de chamada por mês"
   ]
  },
  {
   "cell_type": "code",
   "execution_count": 38,
   "metadata": {},
   "outputs": [],
   "source": [
    "# eliminando colunas com valores 0 (chamadas perdidas)\n",
    "\n",
    "ml_call = ml_call[ml_call['duration'] != 0]"
   ]
  },
  {
   "cell_type": "code",
   "execution_count": 39,
   "metadata": {},
   "outputs": [],
   "source": [
    "# agrupando somatoria dos minutos de chamada agrupados por mes\n",
    "\n",
    "user_monthly_call_duration = ml_call.groupby(['user_id', ml_call['call_date'].dt.to_period('M')])['duration'].sum().reset_index()"
   ]
  },
  {
   "cell_type": "code",
   "execution_count": 40,
   "metadata": {},
   "outputs": [
    {
     "data": {
      "text/html": [
       "<div>\n",
       "<style scoped>\n",
       "    .dataframe tbody tr th:only-of-type {\n",
       "        vertical-align: middle;\n",
       "    }\n",
       "\n",
       "    .dataframe tbody tr th {\n",
       "        vertical-align: top;\n",
       "    }\n",
       "\n",
       "    .dataframe thead th {\n",
       "        text-align: right;\n",
       "    }\n",
       "</style>\n",
       "<table border=\"1\" class=\"dataframe\">\n",
       "  <thead>\n",
       "    <tr style=\"text-align: right;\">\n",
       "      <th></th>\n",
       "      <th>user_id</th>\n",
       "      <th>call_date</th>\n",
       "      <th>duration</th>\n",
       "    </tr>\n",
       "  </thead>\n",
       "  <tbody>\n",
       "    <tr>\n",
       "      <th>0</th>\n",
       "      <td>1000</td>\n",
       "      <td>2018-12</td>\n",
       "      <td>124</td>\n",
       "    </tr>\n",
       "    <tr>\n",
       "      <th>1</th>\n",
       "      <td>1001</td>\n",
       "      <td>2018-08</td>\n",
       "      <td>182</td>\n",
       "    </tr>\n",
       "    <tr>\n",
       "      <th>2</th>\n",
       "      <td>1001</td>\n",
       "      <td>2018-09</td>\n",
       "      <td>315</td>\n",
       "    </tr>\n",
       "    <tr>\n",
       "      <th>3</th>\n",
       "      <td>1001</td>\n",
       "      <td>2018-10</td>\n",
       "      <td>393</td>\n",
       "    </tr>\n",
       "    <tr>\n",
       "      <th>4</th>\n",
       "      <td>1001</td>\n",
       "      <td>2018-11</td>\n",
       "      <td>426</td>\n",
       "    </tr>\n",
       "    <tr>\n",
       "      <th>5</th>\n",
       "      <td>1001</td>\n",
       "      <td>2018-12</td>\n",
       "      <td>412</td>\n",
       "    </tr>\n",
       "    <tr>\n",
       "      <th>6</th>\n",
       "      <td>1002</td>\n",
       "      <td>2018-10</td>\n",
       "      <td>59</td>\n",
       "    </tr>\n",
       "    <tr>\n",
       "      <th>7</th>\n",
       "      <td>1002</td>\n",
       "      <td>2018-11</td>\n",
       "      <td>386</td>\n",
       "    </tr>\n",
       "    <tr>\n",
       "      <th>8</th>\n",
       "      <td>1002</td>\n",
       "      <td>2018-12</td>\n",
       "      <td>384</td>\n",
       "    </tr>\n",
       "    <tr>\n",
       "      <th>9</th>\n",
       "      <td>1003</td>\n",
       "      <td>2018-12</td>\n",
       "      <td>1104</td>\n",
       "    </tr>\n",
       "  </tbody>\n",
       "</table>\n",
       "</div>"
      ],
      "text/plain": [
       "   user_id call_date  duration\n",
       "0     1000   2018-12       124\n",
       "1     1001   2018-08       182\n",
       "2     1001   2018-09       315\n",
       "3     1001   2018-10       393\n",
       "4     1001   2018-11       426\n",
       "5     1001   2018-12       412\n",
       "6     1002   2018-10        59\n",
       "7     1002   2018-11       386\n",
       "8     1002   2018-12       384\n",
       "9     1003   2018-12      1104"
      ]
     },
     "execution_count": 40,
     "metadata": {},
     "output_type": "execute_result"
    }
   ],
   "source": [
    "# visualizando o agrupamento\n",
    "\n",
    "user_monthly_call_duration.head(10)"
   ]
  },
  {
   "cell_type": "markdown",
   "metadata": {},
   "source": [
    "## Mensagens"
   ]
  },
  {
   "cell_type": "code",
   "execution_count": 41,
   "metadata": {},
   "outputs": [
    {
     "name": "stdout",
     "output_type": "stream",
     "text": [
      "<class 'pandas.core.frame.DataFrame'>\n",
      "RangeIndex: 76051 entries, 0 to 76050\n",
      "Data columns (total 3 columns):\n",
      " #   Column        Non-Null Count  Dtype \n",
      "---  ------        --------------  ----- \n",
      " 0   id            76051 non-null  object\n",
      " 1   user_id       76051 non-null  int64 \n",
      " 2   message_date  76051 non-null  object\n",
      "dtypes: int64(1), object(2)\n",
      "memory usage: 1.7+ MB\n"
     ]
    }
   ],
   "source": [
    "# Imprima as informações gerais/resumidas sobre o DataFrame das mensagens\n",
    "\n",
    "ml_msg.info()"
   ]
  },
  {
   "cell_type": "code",
   "execution_count": 42,
   "metadata": {},
   "outputs": [
    {
     "data": {
      "text/html": [
       "<div>\n",
       "<style scoped>\n",
       "    .dataframe tbody tr th:only-of-type {\n",
       "        vertical-align: middle;\n",
       "    }\n",
       "\n",
       "    .dataframe tbody tr th {\n",
       "        vertical-align: top;\n",
       "    }\n",
       "\n",
       "    .dataframe thead th {\n",
       "        text-align: right;\n",
       "    }\n",
       "</style>\n",
       "<table border=\"1\" class=\"dataframe\">\n",
       "  <thead>\n",
       "    <tr style=\"text-align: right;\">\n",
       "      <th></th>\n",
       "      <th>id</th>\n",
       "      <th>user_id</th>\n",
       "      <th>message_date</th>\n",
       "    </tr>\n",
       "  </thead>\n",
       "  <tbody>\n",
       "    <tr>\n",
       "      <th>0</th>\n",
       "      <td>1000_125</td>\n",
       "      <td>1000</td>\n",
       "      <td>2018-12-27</td>\n",
       "    </tr>\n",
       "    <tr>\n",
       "      <th>1</th>\n",
       "      <td>1000_160</td>\n",
       "      <td>1000</td>\n",
       "      <td>2018-12-31</td>\n",
       "    </tr>\n",
       "    <tr>\n",
       "      <th>2</th>\n",
       "      <td>1000_223</td>\n",
       "      <td>1000</td>\n",
       "      <td>2018-12-31</td>\n",
       "    </tr>\n",
       "    <tr>\n",
       "      <th>3</th>\n",
       "      <td>1000_251</td>\n",
       "      <td>1000</td>\n",
       "      <td>2018-12-27</td>\n",
       "    </tr>\n",
       "    <tr>\n",
       "      <th>4</th>\n",
       "      <td>1000_255</td>\n",
       "      <td>1000</td>\n",
       "      <td>2018-12-26</td>\n",
       "    </tr>\n",
       "  </tbody>\n",
       "</table>\n",
       "</div>"
      ],
      "text/plain": [
       "         id  user_id message_date\n",
       "0  1000_125     1000   2018-12-27\n",
       "1  1000_160     1000   2018-12-31\n",
       "2  1000_223     1000   2018-12-31\n",
       "3  1000_251     1000   2018-12-27\n",
       "4  1000_255     1000   2018-12-26"
      ]
     },
     "execution_count": 42,
     "metadata": {},
     "output_type": "execute_result"
    }
   ],
   "source": [
    "# Imprima uma amostra dos dados para as mensagens\n",
    "\n",
    "ml_msg.head()"
   ]
  },
  {
   "cell_type": "markdown",
   "metadata": {},
   "source": [
    " valores em coluna 'id' novamente trocados para 'int e tipo de dados em 'message_date' para formato de data\n",
    " \n",
    " não foram achados valores ausentes"
   ]
  },
  {
   "cell_type": "markdown",
   "metadata": {},
   "source": [
    "### Corrigir dados"
   ]
  },
  {
   "cell_type": "code",
   "execution_count": 43,
   "metadata": {},
   "outputs": [],
   "source": [
    "# substituindo tipo de dados em 'id'\n",
    "\n",
    "ml_msg['id'] = ml_msg['id'].astype(int)"
   ]
  },
  {
   "cell_type": "code",
   "execution_count": 44,
   "metadata": {},
   "outputs": [],
   "source": [
    "# substituindo tipo de dados em 'session_date' para formato de data\n",
    "\n",
    "ml_msg['message_date'] = pd.to_datetime(ml_msg['message_date'])"
   ]
  },
  {
   "cell_type": "code",
   "execution_count": 45,
   "metadata": {
    "scrolled": true
   },
   "outputs": [
    {
     "name": "stdout",
     "output_type": "stream",
     "text": [
      "<class 'pandas.core.frame.DataFrame'>\n",
      "RangeIndex: 76051 entries, 0 to 76050\n",
      "Data columns (total 3 columns):\n",
      " #   Column        Non-Null Count  Dtype         \n",
      "---  ------        --------------  -----         \n",
      " 0   id            76051 non-null  int64         \n",
      " 1   user_id       76051 non-null  int64         \n",
      " 2   message_date  76051 non-null  datetime64[ns]\n",
      "dtypes: datetime64[ns](1), int64(2)\n",
      "memory usage: 1.7 MB\n"
     ]
    }
   ],
   "source": [
    "# verificando se tipo de dados foi trocado\n",
    "\n",
    "ml_msg.info()"
   ]
  },
  {
   "cell_type": "code",
   "execution_count": 46,
   "metadata": {},
   "outputs": [
    {
     "data": {
      "text/html": [
       "<div>\n",
       "<style scoped>\n",
       "    .dataframe tbody tr th:only-of-type {\n",
       "        vertical-align: middle;\n",
       "    }\n",
       "\n",
       "    .dataframe tbody tr th {\n",
       "        vertical-align: top;\n",
       "    }\n",
       "\n",
       "    .dataframe thead th {\n",
       "        text-align: right;\n",
       "    }\n",
       "</style>\n",
       "<table border=\"1\" class=\"dataframe\">\n",
       "  <thead>\n",
       "    <tr style=\"text-align: right;\">\n",
       "      <th></th>\n",
       "      <th>id</th>\n",
       "      <th>user_id</th>\n",
       "      <th>message_date</th>\n",
       "    </tr>\n",
       "  </thead>\n",
       "  <tbody>\n",
       "    <tr>\n",
       "      <th>0</th>\n",
       "      <td>1000125</td>\n",
       "      <td>1000</td>\n",
       "      <td>2018-12-27</td>\n",
       "    </tr>\n",
       "    <tr>\n",
       "      <th>1</th>\n",
       "      <td>1000160</td>\n",
       "      <td>1000</td>\n",
       "      <td>2018-12-31</td>\n",
       "    </tr>\n",
       "    <tr>\n",
       "      <th>2</th>\n",
       "      <td>1000223</td>\n",
       "      <td>1000</td>\n",
       "      <td>2018-12-31</td>\n",
       "    </tr>\n",
       "    <tr>\n",
       "      <th>3</th>\n",
       "      <td>1000251</td>\n",
       "      <td>1000</td>\n",
       "      <td>2018-12-27</td>\n",
       "    </tr>\n",
       "    <tr>\n",
       "      <th>4</th>\n",
       "      <td>1000255</td>\n",
       "      <td>1000</td>\n",
       "      <td>2018-12-26</td>\n",
       "    </tr>\n",
       "    <tr>\n",
       "      <th>5</th>\n",
       "      <td>1000346</td>\n",
       "      <td>1000</td>\n",
       "      <td>2018-12-29</td>\n",
       "    </tr>\n",
       "    <tr>\n",
       "      <th>6</th>\n",
       "      <td>1000386</td>\n",
       "      <td>1000</td>\n",
       "      <td>2018-12-30</td>\n",
       "    </tr>\n",
       "    <tr>\n",
       "      <th>7</th>\n",
       "      <td>1000413</td>\n",
       "      <td>1000</td>\n",
       "      <td>2018-12-31</td>\n",
       "    </tr>\n",
       "    <tr>\n",
       "      <th>8</th>\n",
       "      <td>1000502</td>\n",
       "      <td>1000</td>\n",
       "      <td>2018-12-27</td>\n",
       "    </tr>\n",
       "    <tr>\n",
       "      <th>9</th>\n",
       "      <td>1000525</td>\n",
       "      <td>1000</td>\n",
       "      <td>2018-12-28</td>\n",
       "    </tr>\n",
       "  </tbody>\n",
       "</table>\n",
       "</div>"
      ],
      "text/plain": [
       "        id  user_id message_date\n",
       "0  1000125     1000   2018-12-27\n",
       "1  1000160     1000   2018-12-31\n",
       "2  1000223     1000   2018-12-31\n",
       "3  1000251     1000   2018-12-27\n",
       "4  1000255     1000   2018-12-26\n",
       "5  1000346     1000   2018-12-29\n",
       "6  1000386     1000   2018-12-30\n",
       "7  1000413     1000   2018-12-31\n",
       "8  1000502     1000   2018-12-27\n",
       "9  1000525     1000   2018-12-28"
      ]
     },
     "execution_count": 46,
     "metadata": {},
     "output_type": "execute_result"
    }
   ],
   "source": [
    "ml_msg.head(10)"
   ]
  },
  {
   "cell_type": "markdown",
   "metadata": {},
   "source": [
    "### Enriquecer dados"
   ]
  },
  {
   "cell_type": "markdown",
   "metadata": {},
   "source": [
    "irei agrupar a quantidade de mensagens que cada usuario disparou por mês"
   ]
  },
  {
   "cell_type": "code",
   "execution_count": 47,
   "metadata": {},
   "outputs": [],
   "source": [
    "# agrupando e somando a quantidade de mensagens enviadas por cada usurio por mes\n",
    "\n",
    "user_monthly_message_count = ml_msg.groupby(['user_id', ml_msg['message_date'].dt.to_period('M')])['id'].count().reset_index()"
   ]
  },
  {
   "cell_type": "code",
   "execution_count": 48,
   "metadata": {},
   "outputs": [
    {
     "data": {
      "text/html": [
       "<div>\n",
       "<style scoped>\n",
       "    .dataframe tbody tr th:only-of-type {\n",
       "        vertical-align: middle;\n",
       "    }\n",
       "\n",
       "    .dataframe tbody tr th {\n",
       "        vertical-align: top;\n",
       "    }\n",
       "\n",
       "    .dataframe thead th {\n",
       "        text-align: right;\n",
       "    }\n",
       "</style>\n",
       "<table border=\"1\" class=\"dataframe\">\n",
       "  <thead>\n",
       "    <tr style=\"text-align: right;\">\n",
       "      <th></th>\n",
       "      <th>user_id</th>\n",
       "      <th>message_date</th>\n",
       "      <th>id</th>\n",
       "    </tr>\n",
       "  </thead>\n",
       "  <tbody>\n",
       "    <tr>\n",
       "      <th>0</th>\n",
       "      <td>1000</td>\n",
       "      <td>2018-12</td>\n",
       "      <td>11</td>\n",
       "    </tr>\n",
       "    <tr>\n",
       "      <th>1</th>\n",
       "      <td>1001</td>\n",
       "      <td>2018-08</td>\n",
       "      <td>30</td>\n",
       "    </tr>\n",
       "    <tr>\n",
       "      <th>2</th>\n",
       "      <td>1001</td>\n",
       "      <td>2018-09</td>\n",
       "      <td>44</td>\n",
       "    </tr>\n",
       "    <tr>\n",
       "      <th>3</th>\n",
       "      <td>1001</td>\n",
       "      <td>2018-10</td>\n",
       "      <td>53</td>\n",
       "    </tr>\n",
       "    <tr>\n",
       "      <th>4</th>\n",
       "      <td>1001</td>\n",
       "      <td>2018-11</td>\n",
       "      <td>36</td>\n",
       "    </tr>\n",
       "  </tbody>\n",
       "</table>\n",
       "</div>"
      ],
      "text/plain": [
       "   user_id message_date  id\n",
       "0     1000      2018-12  11\n",
       "1     1001      2018-08  30\n",
       "2     1001      2018-09  44\n",
       "3     1001      2018-10  53\n",
       "4     1001      2018-11  36"
      ]
     },
     "execution_count": 48,
     "metadata": {},
     "output_type": "execute_result"
    }
   ],
   "source": [
    "# visualizando resultado do agrupamento\n",
    "\n",
    "user_monthly_message_count.head()"
   ]
  },
  {
   "cell_type": "code",
   "execution_count": 49,
   "metadata": {},
   "outputs": [],
   "source": [
    "# renomeando coluna 'id' por 'msg_count'\n",
    "\n",
    "user_monthly_message_count.rename(columns ={'id' : 'msg_count'}, inplace=True)"
   ]
  },
  {
   "cell_type": "code",
   "execution_count": 50,
   "metadata": {},
   "outputs": [
    {
     "data": {
      "text/html": [
       "<div>\n",
       "<style scoped>\n",
       "    .dataframe tbody tr th:only-of-type {\n",
       "        vertical-align: middle;\n",
       "    }\n",
       "\n",
       "    .dataframe tbody tr th {\n",
       "        vertical-align: top;\n",
       "    }\n",
       "\n",
       "    .dataframe thead th {\n",
       "        text-align: right;\n",
       "    }\n",
       "</style>\n",
       "<table border=\"1\" class=\"dataframe\">\n",
       "  <thead>\n",
       "    <tr style=\"text-align: right;\">\n",
       "      <th></th>\n",
       "      <th>user_id</th>\n",
       "      <th>message_date</th>\n",
       "      <th>msg_count</th>\n",
       "    </tr>\n",
       "  </thead>\n",
       "  <tbody>\n",
       "    <tr>\n",
       "      <th>0</th>\n",
       "      <td>1000</td>\n",
       "      <td>2018-12</td>\n",
       "      <td>11</td>\n",
       "    </tr>\n",
       "    <tr>\n",
       "      <th>1</th>\n",
       "      <td>1001</td>\n",
       "      <td>2018-08</td>\n",
       "      <td>30</td>\n",
       "    </tr>\n",
       "    <tr>\n",
       "      <th>2</th>\n",
       "      <td>1001</td>\n",
       "      <td>2018-09</td>\n",
       "      <td>44</td>\n",
       "    </tr>\n",
       "    <tr>\n",
       "      <th>3</th>\n",
       "      <td>1001</td>\n",
       "      <td>2018-10</td>\n",
       "      <td>53</td>\n",
       "    </tr>\n",
       "    <tr>\n",
       "      <th>4</th>\n",
       "      <td>1001</td>\n",
       "      <td>2018-11</td>\n",
       "      <td>36</td>\n",
       "    </tr>\n",
       "  </tbody>\n",
       "</table>\n",
       "</div>"
      ],
      "text/plain": [
       "   user_id message_date  msg_count\n",
       "0     1000      2018-12         11\n",
       "1     1001      2018-08         30\n",
       "2     1001      2018-09         44\n",
       "3     1001      2018-10         53\n",
       "4     1001      2018-11         36"
      ]
     },
     "execution_count": 50,
     "metadata": {},
     "output_type": "execute_result"
    }
   ],
   "source": [
    "# verificando renomeacao\n",
    "\n",
    "user_monthly_message_count.head()"
   ]
  },
  {
   "cell_type": "markdown",
   "metadata": {},
   "source": [
    "## Internet"
   ]
  },
  {
   "cell_type": "code",
   "execution_count": 51,
   "metadata": {},
   "outputs": [
    {
     "name": "stdout",
     "output_type": "stream",
     "text": [
      "<class 'pandas.core.frame.DataFrame'>\n",
      "RangeIndex: 104825 entries, 0 to 104824\n",
      "Data columns (total 4 columns):\n",
      " #   Column        Non-Null Count   Dtype  \n",
      "---  ------        --------------   -----  \n",
      " 0   id            104825 non-null  object \n",
      " 1   user_id       104825 non-null  int64  \n",
      " 2   session_date  104825 non-null  object \n",
      " 3   mb_used       104825 non-null  float64\n",
      "dtypes: float64(1), int64(1), object(2)\n",
      "memory usage: 3.2+ MB\n"
     ]
    }
   ],
   "source": [
    "# Imprime as informações gerais/resumidas sobre o DataFrame da Internet\n",
    "\n",
    "ml_internet.info()"
   ]
  },
  {
   "cell_type": "code",
   "execution_count": 52,
   "metadata": {},
   "outputs": [
    {
     "data": {
      "text/html": [
       "<div>\n",
       "<style scoped>\n",
       "    .dataframe tbody tr th:only-of-type {\n",
       "        vertical-align: middle;\n",
       "    }\n",
       "\n",
       "    .dataframe tbody tr th {\n",
       "        vertical-align: top;\n",
       "    }\n",
       "\n",
       "    .dataframe thead th {\n",
       "        text-align: right;\n",
       "    }\n",
       "</style>\n",
       "<table border=\"1\" class=\"dataframe\">\n",
       "  <thead>\n",
       "    <tr style=\"text-align: right;\">\n",
       "      <th></th>\n",
       "      <th>id</th>\n",
       "      <th>user_id</th>\n",
       "      <th>session_date</th>\n",
       "      <th>mb_used</th>\n",
       "    </tr>\n",
       "  </thead>\n",
       "  <tbody>\n",
       "    <tr>\n",
       "      <th>0</th>\n",
       "      <td>1000_13</td>\n",
       "      <td>1000</td>\n",
       "      <td>2018-12-29</td>\n",
       "      <td>89.86</td>\n",
       "    </tr>\n",
       "    <tr>\n",
       "      <th>1</th>\n",
       "      <td>1000_204</td>\n",
       "      <td>1000</td>\n",
       "      <td>2018-12-31</td>\n",
       "      <td>0.00</td>\n",
       "    </tr>\n",
       "    <tr>\n",
       "      <th>2</th>\n",
       "      <td>1000_379</td>\n",
       "      <td>1000</td>\n",
       "      <td>2018-12-28</td>\n",
       "      <td>660.40</td>\n",
       "    </tr>\n",
       "    <tr>\n",
       "      <th>3</th>\n",
       "      <td>1000_413</td>\n",
       "      <td>1000</td>\n",
       "      <td>2018-12-26</td>\n",
       "      <td>270.99</td>\n",
       "    </tr>\n",
       "    <tr>\n",
       "      <th>4</th>\n",
       "      <td>1000_442</td>\n",
       "      <td>1000</td>\n",
       "      <td>2018-12-27</td>\n",
       "      <td>880.22</td>\n",
       "    </tr>\n",
       "  </tbody>\n",
       "</table>\n",
       "</div>"
      ],
      "text/plain": [
       "         id  user_id session_date  mb_used\n",
       "0   1000_13     1000   2018-12-29    89.86\n",
       "1  1000_204     1000   2018-12-31     0.00\n",
       "2  1000_379     1000   2018-12-28   660.40\n",
       "3  1000_413     1000   2018-12-26   270.99\n",
       "4  1000_442     1000   2018-12-27   880.22"
      ]
     },
     "execution_count": 52,
     "metadata": {},
     "output_type": "execute_result"
    }
   ],
   "source": [
    "# Imprime uma amostra de dados para o tráfego da Internet\n",
    "\n",
    "ml_internet.head()"
   ]
  },
  {
   "cell_type": "markdown",
   "metadata": {},
   "source": [
    " tipo de dados em 'id' serao trocados para 'int, coluna 'session_date' sera colocada em formato de data\n"
   ]
  },
  {
   "cell_type": "markdown",
   "metadata": {},
   "source": [
    "### Corrigir dados"
   ]
  },
  {
   "cell_type": "code",
   "execution_count": 53,
   "metadata": {},
   "outputs": [],
   "source": [
    "# substituindo dados em 'id' para int\n",
    "\n",
    "ml_internet['id'] = ml_internet['id'].astype(int)"
   ]
  },
  {
   "cell_type": "code",
   "execution_count": 54,
   "metadata": {},
   "outputs": [],
   "source": [
    "# substituindo dados em 'session_date' para formato de data\n",
    "\n",
    "ml_internet['session_date'] = pd.to_datetime(ml_internet['session_date'])"
   ]
  },
  {
   "cell_type": "code",
   "execution_count": 55,
   "metadata": {},
   "outputs": [
    {
     "name": "stdout",
     "output_type": "stream",
     "text": [
      "<class 'pandas.core.frame.DataFrame'>\n",
      "RangeIndex: 104825 entries, 0 to 104824\n",
      "Data columns (total 4 columns):\n",
      " #   Column        Non-Null Count   Dtype         \n",
      "---  ------        --------------   -----         \n",
      " 0   id            104825 non-null  int64         \n",
      " 1   user_id       104825 non-null  int64         \n",
      " 2   session_date  104825 non-null  datetime64[ns]\n",
      " 3   mb_used       104825 non-null  float64       \n",
      "dtypes: datetime64[ns](1), float64(1), int64(2)\n",
      "memory usage: 3.2 MB\n"
     ]
    }
   ],
   "source": [
    "# verificando se tipo de dados foi trocado\n",
    "\n",
    "ml_internet.info()"
   ]
  },
  {
   "cell_type": "markdown",
   "metadata": {},
   "source": [
    "### Enriquecer dados"
   ]
  },
  {
   "cell_type": "markdown",
   "metadata": {},
   "source": [
    "vou arredondar os valores de 'mb_used' para cima e transformar seus dados para 'int'\n",
    "\n",
    "irei agrupar quantos mega-bytes foram usados por cada usuario mensalmente"
   ]
  },
  {
   "cell_type": "code",
   "execution_count": 56,
   "metadata": {},
   "outputs": [],
   "source": [
    "# arredondando para cima a quantidade de mb usados \n",
    "\n",
    "ml_internet['mb_used'] = np.ceil(ml_internet['mb_used'])"
   ]
  },
  {
   "cell_type": "code",
   "execution_count": 57,
   "metadata": {},
   "outputs": [],
   "source": [
    "# transformando dados em 'mb_used' para 'int'\n",
    "\n",
    "ml_internet['mb_used'] = ml_internet['mb_used'].astype(int)"
   ]
  },
  {
   "cell_type": "code",
   "execution_count": 58,
   "metadata": {},
   "outputs": [],
   "source": [
    "# agrupando consumo mensal de mb por usuario\n",
    "\n",
    "user_monthly_internet_sum = ml_internet.groupby(['user_id', ml_internet['session_date'].dt.to_period('M')])['mb_used'].sum().reset_index()                                               "
   ]
  },
  {
   "cell_type": "code",
   "execution_count": 59,
   "metadata": {},
   "outputs": [
    {
     "data": {
      "text/html": [
       "<div>\n",
       "<style scoped>\n",
       "    .dataframe tbody tr th:only-of-type {\n",
       "        vertical-align: middle;\n",
       "    }\n",
       "\n",
       "    .dataframe tbody tr th {\n",
       "        vertical-align: top;\n",
       "    }\n",
       "\n",
       "    .dataframe thead th {\n",
       "        text-align: right;\n",
       "    }\n",
       "</style>\n",
       "<table border=\"1\" class=\"dataframe\">\n",
       "  <thead>\n",
       "    <tr style=\"text-align: right;\">\n",
       "      <th></th>\n",
       "      <th>user_id</th>\n",
       "      <th>session_date</th>\n",
       "      <th>mb_used</th>\n",
       "    </tr>\n",
       "  </thead>\n",
       "  <tbody>\n",
       "    <tr>\n",
       "      <th>0</th>\n",
       "      <td>1000</td>\n",
       "      <td>2018-12</td>\n",
       "      <td>1903</td>\n",
       "    </tr>\n",
       "    <tr>\n",
       "      <th>1</th>\n",
       "      <td>1001</td>\n",
       "      <td>2018-08</td>\n",
       "      <td>6929</td>\n",
       "    </tr>\n",
       "    <tr>\n",
       "      <th>2</th>\n",
       "      <td>1001</td>\n",
       "      <td>2018-09</td>\n",
       "      <td>13333</td>\n",
       "    </tr>\n",
       "    <tr>\n",
       "      <th>3</th>\n",
       "      <td>1001</td>\n",
       "      <td>2018-10</td>\n",
       "      <td>22356</td>\n",
       "    </tr>\n",
       "    <tr>\n",
       "      <th>4</th>\n",
       "      <td>1001</td>\n",
       "      <td>2018-11</td>\n",
       "      <td>18524</td>\n",
       "    </tr>\n",
       "  </tbody>\n",
       "</table>\n",
       "</div>"
      ],
      "text/plain": [
       "   user_id session_date  mb_used\n",
       "0     1000      2018-12     1903\n",
       "1     1001      2018-08     6929\n",
       "2     1001      2018-09    13333\n",
       "3     1001      2018-10    22356\n",
       "4     1001      2018-11    18524"
      ]
     },
     "execution_count": 59,
     "metadata": {},
     "output_type": "execute_result"
    }
   ],
   "source": [
    "user_monthly_internet_sum.head()"
   ]
  },
  {
   "cell_type": "markdown",
   "metadata": {},
   "source": [
    "## Condições do plano de estudos"
   ]
  },
  {
   "cell_type": "code",
   "execution_count": 60,
   "metadata": {},
   "outputs": [
    {
     "data": {
      "text/html": [
       "<div>\n",
       "<style scoped>\n",
       "    .dataframe tbody tr th:only-of-type {\n",
       "        vertical-align: middle;\n",
       "    }\n",
       "\n",
       "    .dataframe tbody tr th {\n",
       "        vertical-align: top;\n",
       "    }\n",
       "\n",
       "    .dataframe thead th {\n",
       "        text-align: right;\n",
       "    }\n",
       "</style>\n",
       "<table border=\"1\" class=\"dataframe\">\n",
       "  <thead>\n",
       "    <tr style=\"text-align: right;\">\n",
       "      <th></th>\n",
       "      <th>messages_included</th>\n",
       "      <th>mb_per_month_included</th>\n",
       "      <th>minutes_included</th>\n",
       "      <th>usd_monthly_pay</th>\n",
       "      <th>usd_per_gb</th>\n",
       "      <th>usd_per_message</th>\n",
       "      <th>usd_per_minute</th>\n",
       "      <th>plan</th>\n",
       "    </tr>\n",
       "  </thead>\n",
       "  <tbody>\n",
       "    <tr>\n",
       "      <th>0</th>\n",
       "      <td>50</td>\n",
       "      <td>15360</td>\n",
       "      <td>500</td>\n",
       "      <td>20</td>\n",
       "      <td>10</td>\n",
       "      <td>0.03</td>\n",
       "      <td>0.03</td>\n",
       "      <td>surf</td>\n",
       "    </tr>\n",
       "    <tr>\n",
       "      <th>1</th>\n",
       "      <td>1000</td>\n",
       "      <td>30720</td>\n",
       "      <td>3000</td>\n",
       "      <td>70</td>\n",
       "      <td>7</td>\n",
       "      <td>0.01</td>\n",
       "      <td>0.01</td>\n",
       "      <td>ultimate</td>\n",
       "    </tr>\n",
       "  </tbody>\n",
       "</table>\n",
       "</div>"
      ],
      "text/plain": [
       "   messages_included  mb_per_month_included  minutes_included  \\\n",
       "0                 50                  15360               500   \n",
       "1               1000                  30720              3000   \n",
       "\n",
       "   usd_monthly_pay  usd_per_gb  usd_per_message  usd_per_minute      plan  \n",
       "0               20          10             0.03            0.03      surf  \n",
       "1               70           7             0.01            0.01  ultimate  "
      ]
     },
     "execution_count": 60,
     "metadata": {},
     "output_type": "execute_result"
    }
   ],
   "source": [
    "# Imprime as condições do plano e certifique-se de que estão claras para você\n",
    "\n",
    "ml_plan.head()"
   ]
  },
  {
   "cell_type": "markdown",
   "metadata": {},
   "source": [
    "## Dados agregados por usuário\n",
    "\n"
   ]
  },
  {
   "cell_type": "code",
   "execution_count": 61,
   "metadata": {},
   "outputs": [],
   "source": [
    "# Calcule o número de chamadas feitas por cada usuário por mês. Salve o resultado.\n",
    "\n",
    "user_monthly_calls = ml_call.groupby(['user_id', ml_call['call_date'].dt.to_period('M')])['duration'].count().reset_index()\n",
    "\n",
    "#user_monthly_calls = ml_call.groupby(['user_id', ml_call['call_date'].dt.month])['duration'].count().reset_index()\n",
    "\n",
    "\n",
    "user_monthly_calls.rename(columns = {'duration' : 'calls'}, inplace = True)\n",
    "\n",
    "user_monthly_calls.rename(columns = {'call_date' : 'month'}, inplace = True)"
   ]
  },
  {
   "cell_type": "code",
   "execution_count": 62,
   "metadata": {},
   "outputs": [
    {
     "data": {
      "text/html": [
       "<div>\n",
       "<style scoped>\n",
       "    .dataframe tbody tr th:only-of-type {\n",
       "        vertical-align: middle;\n",
       "    }\n",
       "\n",
       "    .dataframe tbody tr th {\n",
       "        vertical-align: top;\n",
       "    }\n",
       "\n",
       "    .dataframe thead th {\n",
       "        text-align: right;\n",
       "    }\n",
       "</style>\n",
       "<table border=\"1\" class=\"dataframe\">\n",
       "  <thead>\n",
       "    <tr style=\"text-align: right;\">\n",
       "      <th></th>\n",
       "      <th>user_id</th>\n",
       "      <th>month</th>\n",
       "      <th>calls</th>\n",
       "    </tr>\n",
       "  </thead>\n",
       "  <tbody>\n",
       "    <tr>\n",
       "      <th>0</th>\n",
       "      <td>1000</td>\n",
       "      <td>2018-12</td>\n",
       "      <td>16</td>\n",
       "    </tr>\n",
       "    <tr>\n",
       "      <th>1</th>\n",
       "      <td>1001</td>\n",
       "      <td>2018-08</td>\n",
       "      <td>22</td>\n",
       "    </tr>\n",
       "    <tr>\n",
       "      <th>2</th>\n",
       "      <td>1001</td>\n",
       "      <td>2018-09</td>\n",
       "      <td>38</td>\n",
       "    </tr>\n",
       "    <tr>\n",
       "      <th>3</th>\n",
       "      <td>1001</td>\n",
       "      <td>2018-10</td>\n",
       "      <td>47</td>\n",
       "    </tr>\n",
       "    <tr>\n",
       "      <th>4</th>\n",
       "      <td>1001</td>\n",
       "      <td>2018-11</td>\n",
       "      <td>49</td>\n",
       "    </tr>\n",
       "    <tr>\n",
       "      <th>...</th>\n",
       "      <td>...</td>\n",
       "      <td>...</td>\n",
       "      <td>...</td>\n",
       "    </tr>\n",
       "    <tr>\n",
       "      <th>2251</th>\n",
       "      <td>1498</td>\n",
       "      <td>2018-12</td>\n",
       "      <td>32</td>\n",
       "    </tr>\n",
       "    <tr>\n",
       "      <th>2252</th>\n",
       "      <td>1499</td>\n",
       "      <td>2018-09</td>\n",
       "      <td>35</td>\n",
       "    </tr>\n",
       "    <tr>\n",
       "      <th>2253</th>\n",
       "      <td>1499</td>\n",
       "      <td>2018-10</td>\n",
       "      <td>41</td>\n",
       "    </tr>\n",
       "    <tr>\n",
       "      <th>2254</th>\n",
       "      <td>1499</td>\n",
       "      <td>2018-11</td>\n",
       "      <td>39</td>\n",
       "    </tr>\n",
       "    <tr>\n",
       "      <th>2255</th>\n",
       "      <td>1499</td>\n",
       "      <td>2018-12</td>\n",
       "      <td>56</td>\n",
       "    </tr>\n",
       "  </tbody>\n",
       "</table>\n",
       "<p>2256 rows × 3 columns</p>\n",
       "</div>"
      ],
      "text/plain": [
       "      user_id    month  calls\n",
       "0        1000  2018-12     16\n",
       "1        1001  2018-08     22\n",
       "2        1001  2018-09     38\n",
       "3        1001  2018-10     47\n",
       "4        1001  2018-11     49\n",
       "...       ...      ...    ...\n",
       "2251     1498  2018-12     32\n",
       "2252     1499  2018-09     35\n",
       "2253     1499  2018-10     41\n",
       "2254     1499  2018-11     39\n",
       "2255     1499  2018-12     56\n",
       "\n",
       "[2256 rows x 3 columns]"
      ]
     },
     "execution_count": 62,
     "metadata": {},
     "output_type": "execute_result"
    }
   ],
   "source": [
    "# visualizando chamadas mensais de cada usuario\n",
    "\n",
    "user_monthly_calls"
   ]
  },
  {
   "cell_type": "code",
   "execution_count": 63,
   "metadata": {},
   "outputs": [],
   "source": [
    "# renomeadno coluna 'call_date' para ' month'\n",
    "\n",
    "user_monthly_call_duration.rename(columns = {'call_date' : 'month'}, inplace = True)"
   ]
  },
  {
   "cell_type": "code",
   "execution_count": 64,
   "metadata": {},
   "outputs": [
    {
     "data": {
      "text/html": [
       "<div>\n",
       "<style scoped>\n",
       "    .dataframe tbody tr th:only-of-type {\n",
       "        vertical-align: middle;\n",
       "    }\n",
       "\n",
       "    .dataframe tbody tr th {\n",
       "        vertical-align: top;\n",
       "    }\n",
       "\n",
       "    .dataframe thead th {\n",
       "        text-align: right;\n",
       "    }\n",
       "</style>\n",
       "<table border=\"1\" class=\"dataframe\">\n",
       "  <thead>\n",
       "    <tr style=\"text-align: right;\">\n",
       "      <th></th>\n",
       "      <th>user_id</th>\n",
       "      <th>month</th>\n",
       "      <th>duration</th>\n",
       "    </tr>\n",
       "  </thead>\n",
       "  <tbody>\n",
       "    <tr>\n",
       "      <th>0</th>\n",
       "      <td>1000</td>\n",
       "      <td>2018-12</td>\n",
       "      <td>124</td>\n",
       "    </tr>\n",
       "    <tr>\n",
       "      <th>1</th>\n",
       "      <td>1001</td>\n",
       "      <td>2018-08</td>\n",
       "      <td>182</td>\n",
       "    </tr>\n",
       "    <tr>\n",
       "      <th>2</th>\n",
       "      <td>1001</td>\n",
       "      <td>2018-09</td>\n",
       "      <td>315</td>\n",
       "    </tr>\n",
       "    <tr>\n",
       "      <th>3</th>\n",
       "      <td>1001</td>\n",
       "      <td>2018-10</td>\n",
       "      <td>393</td>\n",
       "    </tr>\n",
       "    <tr>\n",
       "      <th>4</th>\n",
       "      <td>1001</td>\n",
       "      <td>2018-11</td>\n",
       "      <td>426</td>\n",
       "    </tr>\n",
       "    <tr>\n",
       "      <th>...</th>\n",
       "      <td>...</td>\n",
       "      <td>...</td>\n",
       "      <td>...</td>\n",
       "    </tr>\n",
       "    <tr>\n",
       "      <th>2251</th>\n",
       "      <td>1498</td>\n",
       "      <td>2018-12</td>\n",
       "      <td>339</td>\n",
       "    </tr>\n",
       "    <tr>\n",
       "      <th>2252</th>\n",
       "      <td>1499</td>\n",
       "      <td>2018-09</td>\n",
       "      <td>346</td>\n",
       "    </tr>\n",
       "    <tr>\n",
       "      <th>2253</th>\n",
       "      <td>1499</td>\n",
       "      <td>2018-10</td>\n",
       "      <td>385</td>\n",
       "    </tr>\n",
       "    <tr>\n",
       "      <th>2254</th>\n",
       "      <td>1499</td>\n",
       "      <td>2018-11</td>\n",
       "      <td>308</td>\n",
       "    </tr>\n",
       "    <tr>\n",
       "      <th>2255</th>\n",
       "      <td>1499</td>\n",
       "      <td>2018-12</td>\n",
       "      <td>496</td>\n",
       "    </tr>\n",
       "  </tbody>\n",
       "</table>\n",
       "<p>2256 rows × 3 columns</p>\n",
       "</div>"
      ],
      "text/plain": [
       "      user_id    month  duration\n",
       "0        1000  2018-12       124\n",
       "1        1001  2018-08       182\n",
       "2        1001  2018-09       315\n",
       "3        1001  2018-10       393\n",
       "4        1001  2018-11       426\n",
       "...       ...      ...       ...\n",
       "2251     1498  2018-12       339\n",
       "2252     1499  2018-09       346\n",
       "2253     1499  2018-10       385\n",
       "2254     1499  2018-11       308\n",
       "2255     1499  2018-12       496\n",
       "\n",
       "[2256 rows x 3 columns]"
      ]
     },
     "execution_count": 64,
     "metadata": {},
     "output_type": "execute_result"
    }
   ],
   "source": [
    "# Calcule a quantidade de minutos gastos por cada usuário por mês. Salve o resultado.\n",
    "\n",
    "user_monthly_call_duration"
   ]
  },
  {
   "cell_type": "code",
   "execution_count": 65,
   "metadata": {},
   "outputs": [],
   "source": [
    "# renomeado coluna 'message_date' para 'month'\n",
    "\n",
    "user_monthly_message_count.rename(columns = {'message_date' : 'month'}, inplace = True)"
   ]
  },
  {
   "cell_type": "code",
   "execution_count": 66,
   "metadata": {},
   "outputs": [
    {
     "data": {
      "text/html": [
       "<div>\n",
       "<style scoped>\n",
       "    .dataframe tbody tr th:only-of-type {\n",
       "        vertical-align: middle;\n",
       "    }\n",
       "\n",
       "    .dataframe tbody tr th {\n",
       "        vertical-align: top;\n",
       "    }\n",
       "\n",
       "    .dataframe thead th {\n",
       "        text-align: right;\n",
       "    }\n",
       "</style>\n",
       "<table border=\"1\" class=\"dataframe\">\n",
       "  <thead>\n",
       "    <tr style=\"text-align: right;\">\n",
       "      <th></th>\n",
       "      <th>user_id</th>\n",
       "      <th>month</th>\n",
       "      <th>msg_count</th>\n",
       "    </tr>\n",
       "  </thead>\n",
       "  <tbody>\n",
       "    <tr>\n",
       "      <th>0</th>\n",
       "      <td>1000</td>\n",
       "      <td>2018-12</td>\n",
       "      <td>11</td>\n",
       "    </tr>\n",
       "    <tr>\n",
       "      <th>1</th>\n",
       "      <td>1001</td>\n",
       "      <td>2018-08</td>\n",
       "      <td>30</td>\n",
       "    </tr>\n",
       "    <tr>\n",
       "      <th>2</th>\n",
       "      <td>1001</td>\n",
       "      <td>2018-09</td>\n",
       "      <td>44</td>\n",
       "    </tr>\n",
       "    <tr>\n",
       "      <th>3</th>\n",
       "      <td>1001</td>\n",
       "      <td>2018-10</td>\n",
       "      <td>53</td>\n",
       "    </tr>\n",
       "    <tr>\n",
       "      <th>4</th>\n",
       "      <td>1001</td>\n",
       "      <td>2018-11</td>\n",
       "      <td>36</td>\n",
       "    </tr>\n",
       "    <tr>\n",
       "      <th>...</th>\n",
       "      <td>...</td>\n",
       "      <td>...</td>\n",
       "      <td>...</td>\n",
       "    </tr>\n",
       "    <tr>\n",
       "      <th>1801</th>\n",
       "      <td>1496</td>\n",
       "      <td>2018-09</td>\n",
       "      <td>21</td>\n",
       "    </tr>\n",
       "    <tr>\n",
       "      <th>1802</th>\n",
       "      <td>1496</td>\n",
       "      <td>2018-10</td>\n",
       "      <td>18</td>\n",
       "    </tr>\n",
       "    <tr>\n",
       "      <th>1803</th>\n",
       "      <td>1496</td>\n",
       "      <td>2018-11</td>\n",
       "      <td>13</td>\n",
       "    </tr>\n",
       "    <tr>\n",
       "      <th>1804</th>\n",
       "      <td>1496</td>\n",
       "      <td>2018-12</td>\n",
       "      <td>11</td>\n",
       "    </tr>\n",
       "    <tr>\n",
       "      <th>1805</th>\n",
       "      <td>1497</td>\n",
       "      <td>2018-12</td>\n",
       "      <td>50</td>\n",
       "    </tr>\n",
       "  </tbody>\n",
       "</table>\n",
       "<p>1806 rows × 3 columns</p>\n",
       "</div>"
      ],
      "text/plain": [
       "      user_id    month  msg_count\n",
       "0        1000  2018-12         11\n",
       "1        1001  2018-08         30\n",
       "2        1001  2018-09         44\n",
       "3        1001  2018-10         53\n",
       "4        1001  2018-11         36\n",
       "...       ...      ...        ...\n",
       "1801     1496  2018-09         21\n",
       "1802     1496  2018-10         18\n",
       "1803     1496  2018-11         13\n",
       "1804     1496  2018-12         11\n",
       "1805     1497  2018-12         50\n",
       "\n",
       "[1806 rows x 3 columns]"
      ]
     },
     "execution_count": 66,
     "metadata": {},
     "output_type": "execute_result"
    }
   ],
   "source": [
    "# Calcule o número de mensagens enviadas por cada usuário por mês. Salve o resultado.\n",
    "\n",
    "user_monthly_message_count"
   ]
  },
  {
   "cell_type": "code",
   "execution_count": 67,
   "metadata": {},
   "outputs": [],
   "source": [
    "# renomeando coluna 'session_date' para 'month'\n",
    "\n",
    "user_monthly_internet_sum.rename(columns = {'session_date' : 'month'}, inplace = True)"
   ]
  },
  {
   "cell_type": "code",
   "execution_count": 68,
   "metadata": {},
   "outputs": [
    {
     "data": {
      "text/html": [
       "<div>\n",
       "<style scoped>\n",
       "    .dataframe tbody tr th:only-of-type {\n",
       "        vertical-align: middle;\n",
       "    }\n",
       "\n",
       "    .dataframe tbody tr th {\n",
       "        vertical-align: top;\n",
       "    }\n",
       "\n",
       "    .dataframe thead th {\n",
       "        text-align: right;\n",
       "    }\n",
       "</style>\n",
       "<table border=\"1\" class=\"dataframe\">\n",
       "  <thead>\n",
       "    <tr style=\"text-align: right;\">\n",
       "      <th></th>\n",
       "      <th>user_id</th>\n",
       "      <th>month</th>\n",
       "      <th>mb_used</th>\n",
       "    </tr>\n",
       "  </thead>\n",
       "  <tbody>\n",
       "    <tr>\n",
       "      <th>0</th>\n",
       "      <td>1000</td>\n",
       "      <td>2018-12</td>\n",
       "      <td>1903</td>\n",
       "    </tr>\n",
       "    <tr>\n",
       "      <th>1</th>\n",
       "      <td>1001</td>\n",
       "      <td>2018-08</td>\n",
       "      <td>6929</td>\n",
       "    </tr>\n",
       "    <tr>\n",
       "      <th>2</th>\n",
       "      <td>1001</td>\n",
       "      <td>2018-09</td>\n",
       "      <td>13333</td>\n",
       "    </tr>\n",
       "    <tr>\n",
       "      <th>3</th>\n",
       "      <td>1001</td>\n",
       "      <td>2018-10</td>\n",
       "      <td>22356</td>\n",
       "    </tr>\n",
       "    <tr>\n",
       "      <th>4</th>\n",
       "      <td>1001</td>\n",
       "      <td>2018-11</td>\n",
       "      <td>18524</td>\n",
       "    </tr>\n",
       "    <tr>\n",
       "      <th>...</th>\n",
       "      <td>...</td>\n",
       "      <td>...</td>\n",
       "      <td>...</td>\n",
       "    </tr>\n",
       "    <tr>\n",
       "      <th>2272</th>\n",
       "      <td>1498</td>\n",
       "      <td>2018-12</td>\n",
       "      <td>23160</td>\n",
       "    </tr>\n",
       "    <tr>\n",
       "      <th>2273</th>\n",
       "      <td>1499</td>\n",
       "      <td>2018-09</td>\n",
       "      <td>13004</td>\n",
       "    </tr>\n",
       "    <tr>\n",
       "      <th>2274</th>\n",
       "      <td>1499</td>\n",
       "      <td>2018-10</td>\n",
       "      <td>19515</td>\n",
       "    </tr>\n",
       "    <tr>\n",
       "      <th>2275</th>\n",
       "      <td>1499</td>\n",
       "      <td>2018-11</td>\n",
       "      <td>16834</td>\n",
       "    </tr>\n",
       "    <tr>\n",
       "      <th>2276</th>\n",
       "      <td>1499</td>\n",
       "      <td>2018-12</td>\n",
       "      <td>22091</td>\n",
       "    </tr>\n",
       "  </tbody>\n",
       "</table>\n",
       "<p>2277 rows × 3 columns</p>\n",
       "</div>"
      ],
      "text/plain": [
       "      user_id    month  mb_used\n",
       "0        1000  2018-12     1903\n",
       "1        1001  2018-08     6929\n",
       "2        1001  2018-09    13333\n",
       "3        1001  2018-10    22356\n",
       "4        1001  2018-11    18524\n",
       "...       ...      ...      ...\n",
       "2272     1498  2018-12    23160\n",
       "2273     1499  2018-09    13004\n",
       "2274     1499  2018-10    19515\n",
       "2275     1499  2018-11    16834\n",
       "2276     1499  2018-12    22091\n",
       "\n",
       "[2277 rows x 3 columns]"
      ]
     },
     "execution_count": 68,
     "metadata": {},
     "output_type": "execute_result"
    }
   ],
   "source": [
    "# Calcule o volume de tráfego de internet usado por cada usuário por mês. Salve o resultado.\n",
    "\n",
    "user_monthly_internet_sum"
   ]
  },
  {
   "cell_type": "code",
   "execution_count": 69,
   "metadata": {},
   "outputs": [
    {
     "data": {
      "text/html": [
       "<div>\n",
       "<style scoped>\n",
       "    .dataframe tbody tr th:only-of-type {\n",
       "        vertical-align: middle;\n",
       "    }\n",
       "\n",
       "    .dataframe tbody tr th {\n",
       "        vertical-align: top;\n",
       "    }\n",
       "\n",
       "    .dataframe thead th {\n",
       "        text-align: right;\n",
       "    }\n",
       "</style>\n",
       "<table border=\"1\" class=\"dataframe\">\n",
       "  <thead>\n",
       "    <tr style=\"text-align: right;\">\n",
       "      <th></th>\n",
       "      <th>user_id</th>\n",
       "      <th>month</th>\n",
       "      <th>mb_used</th>\n",
       "      <th>msg_count</th>\n",
       "      <th>duration</th>\n",
       "      <th>calls</th>\n",
       "    </tr>\n",
       "  </thead>\n",
       "  <tbody>\n",
       "    <tr>\n",
       "      <th>0</th>\n",
       "      <td>1000</td>\n",
       "      <td>2018-12</td>\n",
       "      <td>1903.0</td>\n",
       "      <td>11.0</td>\n",
       "      <td>124.0</td>\n",
       "      <td>16.0</td>\n",
       "    </tr>\n",
       "    <tr>\n",
       "      <th>1</th>\n",
       "      <td>1001</td>\n",
       "      <td>2018-08</td>\n",
       "      <td>6929.0</td>\n",
       "      <td>30.0</td>\n",
       "      <td>182.0</td>\n",
       "      <td>22.0</td>\n",
       "    </tr>\n",
       "    <tr>\n",
       "      <th>2</th>\n",
       "      <td>1001</td>\n",
       "      <td>2018-09</td>\n",
       "      <td>13333.0</td>\n",
       "      <td>44.0</td>\n",
       "      <td>315.0</td>\n",
       "      <td>38.0</td>\n",
       "    </tr>\n",
       "    <tr>\n",
       "      <th>3</th>\n",
       "      <td>1001</td>\n",
       "      <td>2018-10</td>\n",
       "      <td>22356.0</td>\n",
       "      <td>53.0</td>\n",
       "      <td>393.0</td>\n",
       "      <td>47.0</td>\n",
       "    </tr>\n",
       "    <tr>\n",
       "      <th>4</th>\n",
       "      <td>1001</td>\n",
       "      <td>2018-11</td>\n",
       "      <td>18524.0</td>\n",
       "      <td>36.0</td>\n",
       "      <td>426.0</td>\n",
       "      <td>49.0</td>\n",
       "    </tr>\n",
       "    <tr>\n",
       "      <th>5</th>\n",
       "      <td>1001</td>\n",
       "      <td>2018-12</td>\n",
       "      <td>19398.0</td>\n",
       "      <td>44.0</td>\n",
       "      <td>412.0</td>\n",
       "      <td>46.0</td>\n",
       "    </tr>\n",
       "    <tr>\n",
       "      <th>6</th>\n",
       "      <td>1002</td>\n",
       "      <td>2018-10</td>\n",
       "      <td>6559.0</td>\n",
       "      <td>15.0</td>\n",
       "      <td>59.0</td>\n",
       "      <td>8.0</td>\n",
       "    </tr>\n",
       "    <tr>\n",
       "      <th>7</th>\n",
       "      <td>1002</td>\n",
       "      <td>2018-11</td>\n",
       "      <td>19364.0</td>\n",
       "      <td>32.0</td>\n",
       "      <td>386.0</td>\n",
       "      <td>48.0</td>\n",
       "    </tr>\n",
       "    <tr>\n",
       "      <th>8</th>\n",
       "      <td>1002</td>\n",
       "      <td>2018-12</td>\n",
       "      <td>14416.0</td>\n",
       "      <td>41.0</td>\n",
       "      <td>384.0</td>\n",
       "      <td>38.0</td>\n",
       "    </tr>\n",
       "    <tr>\n",
       "      <th>9</th>\n",
       "      <td>1003</td>\n",
       "      <td>2018-12</td>\n",
       "      <td>27069.0</td>\n",
       "      <td>50.0</td>\n",
       "      <td>1104.0</td>\n",
       "      <td>118.0</td>\n",
       "    </tr>\n",
       "  </tbody>\n",
       "</table>\n",
       "</div>"
      ],
      "text/plain": [
       "   user_id    month  mb_used  msg_count  duration  calls\n",
       "0     1000  2018-12   1903.0       11.0     124.0   16.0\n",
       "1     1001  2018-08   6929.0       30.0     182.0   22.0\n",
       "2     1001  2018-09  13333.0       44.0     315.0   38.0\n",
       "3     1001  2018-10  22356.0       53.0     393.0   47.0\n",
       "4     1001  2018-11  18524.0       36.0     426.0   49.0\n",
       "5     1001  2018-12  19398.0       44.0     412.0   46.0\n",
       "6     1002  2018-10   6559.0       15.0      59.0    8.0\n",
       "7     1002  2018-11  19364.0       32.0     386.0   48.0\n",
       "8     1002  2018-12  14416.0       41.0     384.0   38.0\n",
       "9     1003  2018-12  27069.0       50.0    1104.0  118.0"
      ]
     },
     "execution_count": 69,
     "metadata": {},
     "output_type": "execute_result"
    }
   ],
   "source": [
    "# Junte os dados de chamadas, minutos, mensagens, internet com base em user_id e mês\n",
    "\n",
    "merged_all_info = pd.merge(user_monthly_internet_sum, user_monthly_message_count, on = ['user_id', 'month'], how='outer')\n",
    "\n",
    "merged_all_info = pd.merge(merged_all_info, user_monthly_call_duration, on=['user_id', 'month'], how='outer')\n",
    "\n",
    "merged_all_info = pd.merge(merged_all_info, user_monthly_calls, on=['user_id', 'month'], how='outer')\n",
    "\n",
    "merged_all_info.head(10)"
   ]
  },
  {
   "cell_type": "code",
   "execution_count": 70,
   "metadata": {},
   "outputs": [],
   "source": [
    "# agrupando apenas 'user_id' e 'plan' em uma variavel para adicionar em 'merged_all_info'\n",
    "\n",
    "plan = ml_user.groupby('user_id')['plan'].first().reset_index()"
   ]
  },
  {
   "cell_type": "code",
   "execution_count": 71,
   "metadata": {
    "scrolled": true
   },
   "outputs": [
    {
     "data": {
      "text/html": [
       "<div>\n",
       "<style scoped>\n",
       "    .dataframe tbody tr th:only-of-type {\n",
       "        vertical-align: middle;\n",
       "    }\n",
       "\n",
       "    .dataframe tbody tr th {\n",
       "        vertical-align: top;\n",
       "    }\n",
       "\n",
       "    .dataframe thead th {\n",
       "        text-align: right;\n",
       "    }\n",
       "</style>\n",
       "<table border=\"1\" class=\"dataframe\">\n",
       "  <thead>\n",
       "    <tr style=\"text-align: right;\">\n",
       "      <th></th>\n",
       "      <th>user_id</th>\n",
       "      <th>plan</th>\n",
       "    </tr>\n",
       "  </thead>\n",
       "  <tbody>\n",
       "    <tr>\n",
       "      <th>0</th>\n",
       "      <td>1000</td>\n",
       "      <td>ultimate</td>\n",
       "    </tr>\n",
       "    <tr>\n",
       "      <th>1</th>\n",
       "      <td>1001</td>\n",
       "      <td>surf</td>\n",
       "    </tr>\n",
       "    <tr>\n",
       "      <th>2</th>\n",
       "      <td>1002</td>\n",
       "      <td>surf</td>\n",
       "    </tr>\n",
       "    <tr>\n",
       "      <th>3</th>\n",
       "      <td>1003</td>\n",
       "      <td>surf</td>\n",
       "    </tr>\n",
       "    <tr>\n",
       "      <th>4</th>\n",
       "      <td>1004</td>\n",
       "      <td>surf</td>\n",
       "    </tr>\n",
       "  </tbody>\n",
       "</table>\n",
       "</div>"
      ],
      "text/plain": [
       "   user_id      plan\n",
       "0     1000  ultimate\n",
       "1     1001      surf\n",
       "2     1002      surf\n",
       "3     1003      surf\n",
       "4     1004      surf"
      ]
     },
     "execution_count": 71,
     "metadata": {},
     "output_type": "execute_result"
    }
   ],
   "source": [
    "# visualizando agrupamento\n",
    "\n",
    "plan.head()"
   ]
  },
  {
   "cell_type": "code",
   "execution_count": 72,
   "metadata": {},
   "outputs": [
    {
     "data": {
      "text/plain": [
       "array(['ultimate', 'surf'], dtype=object)"
      ]
     },
     "execution_count": 72,
     "metadata": {},
     "output_type": "execute_result"
    }
   ],
   "source": [
    "# verificando quais valores unicos estao em 'plan'\n",
    "\n",
    "plan['plan'].unique()"
   ]
  },
  {
   "cell_type": "code",
   "execution_count": 73,
   "metadata": {},
   "outputs": [
    {
     "name": "stdout",
     "output_type": "stream",
     "text": [
      "<class 'pandas.core.frame.DataFrame'>\n",
      "RangeIndex: 500 entries, 0 to 499\n",
      "Data columns (total 2 columns):\n",
      " #   Column   Non-Null Count  Dtype \n",
      "---  ------   --------------  ----- \n",
      " 0   user_id  500 non-null    int64 \n",
      " 1   plan     500 non-null    object\n",
      "dtypes: int64(1), object(1)\n",
      "memory usage: 7.9+ KB\n"
     ]
    }
   ],
   "source": [
    "# verificando se ha valores ausentes  em alguma das colunas\n",
    "\n",
    "plan.info()"
   ]
  },
  {
   "cell_type": "code",
   "execution_count": 74,
   "metadata": {
    "scrolled": true
   },
   "outputs": [],
   "source": [
    "# Adicione as informações do plano\n",
    "\n",
    "merged_all_info = pd.merge(merged_all_info, plan, on='user_id', how='inner' )"
   ]
  },
  {
   "cell_type": "code",
   "execution_count": 75,
   "metadata": {
    "scrolled": true
   },
   "outputs": [
    {
     "name": "stdout",
     "output_type": "stream",
     "text": [
      "<class 'pandas.core.frame.DataFrame'>\n",
      "Int64Index: 2293 entries, 0 to 2292\n",
      "Data columns (total 7 columns):\n",
      " #   Column     Non-Null Count  Dtype    \n",
      "---  ------     --------------  -----    \n",
      " 0   user_id    2293 non-null   int64    \n",
      " 1   month      2293 non-null   period[M]\n",
      " 2   mb_used    2277 non-null   float64  \n",
      " 3   msg_count  1806 non-null   float64  \n",
      " 4   duration   2256 non-null   float64  \n",
      " 5   calls      2256 non-null   float64  \n",
      " 6   plan       2293 non-null   object   \n",
      "dtypes: float64(4), int64(1), object(1), period[M](1)\n",
      "memory usage: 143.3+ KB\n"
     ]
    }
   ],
   "source": [
    "# verificando se ha valores nulos\n",
    "\n",
    "merged_all_info.info()"
   ]
  },
  {
   "cell_type": "code",
   "execution_count": 76,
   "metadata": {},
   "outputs": [
    {
     "data": {
      "text/plain": [
       "1.0"
      ]
     },
     "execution_count": 76,
     "metadata": {},
     "output_type": "execute_result"
    }
   ],
   "source": [
    "# visualizando valores minimos em 'calls'\n",
    "\n",
    "merged_all_info['calls'].min()"
   ]
  },
  {
   "cell_type": "code",
   "execution_count": 77,
   "metadata": {},
   "outputs": [
    {
     "data": {
      "text/plain": [
       "93.0"
      ]
     },
     "execution_count": 77,
     "metadata": {},
     "output_type": "execute_result"
    }
   ],
   "source": [
    "# visualizando valores minimos em 'mb_used'\n",
    "\n",
    "merged_all_info['mb_used'].min()"
   ]
  },
  {
   "cell_type": "code",
   "execution_count": 78,
   "metadata": {},
   "outputs": [
    {
     "data": {
      "text/plain": [
       "1.0"
      ]
     },
     "execution_count": 78,
     "metadata": {},
     "output_type": "execute_result"
    }
   ],
   "source": [
    "# visualizando valores minimos em 'msg_count'\n",
    "\n",
    "merged_all_info['msg_count'].min()"
   ]
  },
  {
   "cell_type": "code",
   "execution_count": 79,
   "metadata": {},
   "outputs": [],
   "source": [
    "# preenchendo valores nulos em todas as colunas com numero 0\n",
    "\n",
    "merged_all_info = merged_all_info.fillna(0)"
   ]
  },
  {
   "cell_type": "markdown",
   "metadata": {},
   "source": [
    "baseado nos valores minimos das colunas com valores ausentes, percebo que nao existe valor 0 em nenhum deles, irei substituir os valores ausentes por 0, para que possa fazer o calculo matematico mais para frente no projeto."
   ]
  },
  {
   "cell_type": "code",
   "execution_count": 80,
   "metadata": {
    "scrolled": true
   },
   "outputs": [
    {
     "name": "stdout",
     "output_type": "stream",
     "text": [
      "<class 'pandas.core.frame.DataFrame'>\n",
      "Int64Index: 2293 entries, 0 to 2292\n",
      "Data columns (total 7 columns):\n",
      " #   Column     Non-Null Count  Dtype    \n",
      "---  ------     --------------  -----    \n",
      " 0   user_id    2293 non-null   int64    \n",
      " 1   month      2293 non-null   period[M]\n",
      " 2   mb_used    2293 non-null   float64  \n",
      " 3   msg_count  2293 non-null   float64  \n",
      " 4   duration   2293 non-null   float64  \n",
      " 5   calls      2293 non-null   float64  \n",
      " 6   plan       2293 non-null   object   \n",
      "dtypes: float64(4), int64(1), object(1), period[M](1)\n",
      "memory usage: 143.3+ KB\n"
     ]
    }
   ],
   "source": [
    "# verificando ausencia de valores nulos\n",
    "\n",
    "merged_all_info.info()"
   ]
  },
  {
   "cell_type": "code",
   "execution_count": 81,
   "metadata": {},
   "outputs": [],
   "source": [
    "# adicionando informacoes por plano de cada usuario\n",
    "\n",
    "merged_all_info = pd.merge(merged_all_info, ml_plan, on='plan', how='outer')"
   ]
  },
  {
   "cell_type": "code",
   "execution_count": 82,
   "metadata": {},
   "outputs": [
    {
     "name": "stdout",
     "output_type": "stream",
     "text": [
      "<class 'pandas.core.frame.DataFrame'>\n",
      "Int64Index: 2293 entries, 0 to 2292\n",
      "Data columns (total 14 columns):\n",
      " #   Column                 Non-Null Count  Dtype    \n",
      "---  ------                 --------------  -----    \n",
      " 0   user_id                2293 non-null   int64    \n",
      " 1   month                  2293 non-null   period[M]\n",
      " 2   mb_used                2293 non-null   float64  \n",
      " 3   msg_count              2293 non-null   float64  \n",
      " 4   duration               2293 non-null   float64  \n",
      " 5   calls                  2293 non-null   float64  \n",
      " 6   plan                   2293 non-null   object   \n",
      " 7   messages_included      2293 non-null   int64    \n",
      " 8   mb_per_month_included  2293 non-null   int64    \n",
      " 9   minutes_included       2293 non-null   int64    \n",
      " 10  usd_monthly_pay        2293 non-null   int64    \n",
      " 11  usd_per_gb             2293 non-null   int64    \n",
      " 12  usd_per_message        2293 non-null   float64  \n",
      " 13  usd_per_minute         2293 non-null   float64  \n",
      "dtypes: float64(6), int64(6), object(1), period[M](1)\n",
      "memory usage: 268.7+ KB\n"
     ]
    }
   ],
   "source": [
    "# verificando se ha valores nulos\n",
    "\n",
    "merged_all_info.info()"
   ]
  },
  {
   "cell_type": "code",
   "execution_count": 83,
   "metadata": {},
   "outputs": [
    {
     "data": {
      "text/html": [
       "<div>\n",
       "<style scoped>\n",
       "    .dataframe tbody tr th:only-of-type {\n",
       "        vertical-align: middle;\n",
       "    }\n",
       "\n",
       "    .dataframe tbody tr th {\n",
       "        vertical-align: top;\n",
       "    }\n",
       "\n",
       "    .dataframe thead th {\n",
       "        text-align: right;\n",
       "    }\n",
       "</style>\n",
       "<table border=\"1\" class=\"dataframe\">\n",
       "  <thead>\n",
       "    <tr style=\"text-align: right;\">\n",
       "      <th></th>\n",
       "      <th>user_id</th>\n",
       "      <th>month</th>\n",
       "      <th>mb_used</th>\n",
       "      <th>msg_count</th>\n",
       "      <th>duration</th>\n",
       "      <th>calls</th>\n",
       "      <th>plan</th>\n",
       "      <th>messages_included</th>\n",
       "      <th>mb_per_month_included</th>\n",
       "      <th>minutes_included</th>\n",
       "      <th>usd_monthly_pay</th>\n",
       "      <th>usd_per_gb</th>\n",
       "      <th>usd_per_message</th>\n",
       "      <th>usd_per_minute</th>\n",
       "    </tr>\n",
       "  </thead>\n",
       "  <tbody>\n",
       "    <tr>\n",
       "      <th>0</th>\n",
       "      <td>1000</td>\n",
       "      <td>2018-12</td>\n",
       "      <td>1903.0</td>\n",
       "      <td>11.0</td>\n",
       "      <td>124.0</td>\n",
       "      <td>16.0</td>\n",
       "      <td>ultimate</td>\n",
       "      <td>1000</td>\n",
       "      <td>30720</td>\n",
       "      <td>3000</td>\n",
       "      <td>70</td>\n",
       "      <td>7</td>\n",
       "      <td>0.01</td>\n",
       "      <td>0.01</td>\n",
       "    </tr>\n",
       "    <tr>\n",
       "      <th>1</th>\n",
       "      <td>1006</td>\n",
       "      <td>2018-11</td>\n",
       "      <td>2072.0</td>\n",
       "      <td>15.0</td>\n",
       "      <td>10.0</td>\n",
       "      <td>2.0</td>\n",
       "      <td>ultimate</td>\n",
       "      <td>1000</td>\n",
       "      <td>30720</td>\n",
       "      <td>3000</td>\n",
       "      <td>70</td>\n",
       "      <td>7</td>\n",
       "      <td>0.01</td>\n",
       "      <td>0.01</td>\n",
       "    </tr>\n",
       "    <tr>\n",
       "      <th>2</th>\n",
       "      <td>1006</td>\n",
       "      <td>2018-12</td>\n",
       "      <td>32144.0</td>\n",
       "      <td>139.0</td>\n",
       "      <td>59.0</td>\n",
       "      <td>7.0</td>\n",
       "      <td>ultimate</td>\n",
       "      <td>1000</td>\n",
       "      <td>30720</td>\n",
       "      <td>3000</td>\n",
       "      <td>70</td>\n",
       "      <td>7</td>\n",
       "      <td>0.01</td>\n",
       "      <td>0.01</td>\n",
       "    </tr>\n",
       "    <tr>\n",
       "      <th>3</th>\n",
       "      <td>1008</td>\n",
       "      <td>2018-10</td>\n",
       "      <td>17131.0</td>\n",
       "      <td>21.0</td>\n",
       "      <td>476.0</td>\n",
       "      <td>54.0</td>\n",
       "      <td>ultimate</td>\n",
       "      <td>1000</td>\n",
       "      <td>30720</td>\n",
       "      <td>3000</td>\n",
       "      <td>70</td>\n",
       "      <td>7</td>\n",
       "      <td>0.01</td>\n",
       "      <td>0.01</td>\n",
       "    </tr>\n",
       "    <tr>\n",
       "      <th>4</th>\n",
       "      <td>1008</td>\n",
       "      <td>2018-11</td>\n",
       "      <td>23706.0</td>\n",
       "      <td>37.0</td>\n",
       "      <td>446.0</td>\n",
       "      <td>50.0</td>\n",
       "      <td>ultimate</td>\n",
       "      <td>1000</td>\n",
       "      <td>30720</td>\n",
       "      <td>3000</td>\n",
       "      <td>70</td>\n",
       "      <td>7</td>\n",
       "      <td>0.01</td>\n",
       "      <td>0.01</td>\n",
       "    </tr>\n",
       "    <tr>\n",
       "      <th>5</th>\n",
       "      <td>1008</td>\n",
       "      <td>2018-12</td>\n",
       "      <td>14707.0</td>\n",
       "      <td>26.0</td>\n",
       "      <td>634.0</td>\n",
       "      <td>65.0</td>\n",
       "      <td>ultimate</td>\n",
       "      <td>1000</td>\n",
       "      <td>30720</td>\n",
       "      <td>3000</td>\n",
       "      <td>70</td>\n",
       "      <td>7</td>\n",
       "      <td>0.01</td>\n",
       "      <td>0.01</td>\n",
       "    </tr>\n",
       "    <tr>\n",
       "      <th>6</th>\n",
       "      <td>1011</td>\n",
       "      <td>2018-06</td>\n",
       "      <td>6695.0</td>\n",
       "      <td>21.0</td>\n",
       "      <td>118.0</td>\n",
       "      <td>13.0</td>\n",
       "      <td>ultimate</td>\n",
       "      <td>1000</td>\n",
       "      <td>30720</td>\n",
       "      <td>3000</td>\n",
       "      <td>70</td>\n",
       "      <td>7</td>\n",
       "      <td>0.01</td>\n",
       "      <td>0.01</td>\n",
       "    </tr>\n",
       "    <tr>\n",
       "      <th>7</th>\n",
       "      <td>1011</td>\n",
       "      <td>2018-07</td>\n",
       "      <td>21076.0</td>\n",
       "      <td>53.0</td>\n",
       "      <td>499.0</td>\n",
       "      <td>49.0</td>\n",
       "      <td>ultimate</td>\n",
       "      <td>1000</td>\n",
       "      <td>30720</td>\n",
       "      <td>3000</td>\n",
       "      <td>70</td>\n",
       "      <td>7</td>\n",
       "      <td>0.01</td>\n",
       "      <td>0.01</td>\n",
       "    </tr>\n",
       "    <tr>\n",
       "      <th>8</th>\n",
       "      <td>1011</td>\n",
       "      <td>2018-08</td>\n",
       "      <td>21126.0</td>\n",
       "      <td>54.0</td>\n",
       "      <td>486.0</td>\n",
       "      <td>49.0</td>\n",
       "      <td>ultimate</td>\n",
       "      <td>1000</td>\n",
       "      <td>30720</td>\n",
       "      <td>3000</td>\n",
       "      <td>70</td>\n",
       "      <td>7</td>\n",
       "      <td>0.01</td>\n",
       "      <td>0.01</td>\n",
       "    </tr>\n",
       "    <tr>\n",
       "      <th>9</th>\n",
       "      <td>1011</td>\n",
       "      <td>2018-09</td>\n",
       "      <td>16663.0</td>\n",
       "      <td>60.0</td>\n",
       "      <td>484.0</td>\n",
       "      <td>55.0</td>\n",
       "      <td>ultimate</td>\n",
       "      <td>1000</td>\n",
       "      <td>30720</td>\n",
       "      <td>3000</td>\n",
       "      <td>70</td>\n",
       "      <td>7</td>\n",
       "      <td>0.01</td>\n",
       "      <td>0.01</td>\n",
       "    </tr>\n",
       "    <tr>\n",
       "      <th>10</th>\n",
       "      <td>1011</td>\n",
       "      <td>2018-10</td>\n",
       "      <td>24611.0</td>\n",
       "      <td>64.0</td>\n",
       "      <td>504.0</td>\n",
       "      <td>60.0</td>\n",
       "      <td>ultimate</td>\n",
       "      <td>1000</td>\n",
       "      <td>30720</td>\n",
       "      <td>3000</td>\n",
       "      <td>70</td>\n",
       "      <td>7</td>\n",
       "      <td>0.01</td>\n",
       "      <td>0.01</td>\n",
       "    </tr>\n",
       "    <tr>\n",
       "      <th>11</th>\n",
       "      <td>1011</td>\n",
       "      <td>2018-11</td>\n",
       "      <td>22127.0</td>\n",
       "      <td>58.0</td>\n",
       "      <td>505.0</td>\n",
       "      <td>57.0</td>\n",
       "      <td>ultimate</td>\n",
       "      <td>1000</td>\n",
       "      <td>30720</td>\n",
       "      <td>3000</td>\n",
       "      <td>70</td>\n",
       "      <td>7</td>\n",
       "      <td>0.01</td>\n",
       "      <td>0.01</td>\n",
       "    </tr>\n",
       "    <tr>\n",
       "      <th>12</th>\n",
       "      <td>1011</td>\n",
       "      <td>2018-12</td>\n",
       "      <td>19653.0</td>\n",
       "      <td>61.0</td>\n",
       "      <td>311.0</td>\n",
       "      <td>39.0</td>\n",
       "      <td>ultimate</td>\n",
       "      <td>1000</td>\n",
       "      <td>30720</td>\n",
       "      <td>3000</td>\n",
       "      <td>70</td>\n",
       "      <td>7</td>\n",
       "      <td>0.01</td>\n",
       "      <td>0.01</td>\n",
       "    </tr>\n",
       "    <tr>\n",
       "      <th>13</th>\n",
       "      <td>1013</td>\n",
       "      <td>2018-12</td>\n",
       "      <td>20143.0</td>\n",
       "      <td>16.0</td>\n",
       "      <td>219.0</td>\n",
       "      <td>26.0</td>\n",
       "      <td>ultimate</td>\n",
       "      <td>1000</td>\n",
       "      <td>30720</td>\n",
       "      <td>3000</td>\n",
       "      <td>70</td>\n",
       "      <td>7</td>\n",
       "      <td>0.01</td>\n",
       "      <td>0.01</td>\n",
       "    </tr>\n",
       "    <tr>\n",
       "      <th>14</th>\n",
       "      <td>1026</td>\n",
       "      <td>2018-07</td>\n",
       "      <td>4826.0</td>\n",
       "      <td>9.0</td>\n",
       "      <td>163.0</td>\n",
       "      <td>18.0</td>\n",
       "      <td>ultimate</td>\n",
       "      <td>1000</td>\n",
       "      <td>30720</td>\n",
       "      <td>3000</td>\n",
       "      <td>70</td>\n",
       "      <td>7</td>\n",
       "      <td>0.01</td>\n",
       "      <td>0.01</td>\n",
       "    </tr>\n",
       "    <tr>\n",
       "      <th>15</th>\n",
       "      <td>1026</td>\n",
       "      <td>2018-08</td>\n",
       "      <td>8411.0</td>\n",
       "      <td>13.0</td>\n",
       "      <td>194.0</td>\n",
       "      <td>24.0</td>\n",
       "      <td>ultimate</td>\n",
       "      <td>1000</td>\n",
       "      <td>30720</td>\n",
       "      <td>3000</td>\n",
       "      <td>70</td>\n",
       "      <td>7</td>\n",
       "      <td>0.01</td>\n",
       "      <td>0.01</td>\n",
       "    </tr>\n",
       "    <tr>\n",
       "      <th>16</th>\n",
       "      <td>1028</td>\n",
       "      <td>2018-02</td>\n",
       "      <td>12603.0</td>\n",
       "      <td>12.0</td>\n",
       "      <td>0.0</td>\n",
       "      <td>0.0</td>\n",
       "      <td>ultimate</td>\n",
       "      <td>1000</td>\n",
       "      <td>30720</td>\n",
       "      <td>3000</td>\n",
       "      <td>70</td>\n",
       "      <td>7</td>\n",
       "      <td>0.01</td>\n",
       "      <td>0.01</td>\n",
       "    </tr>\n",
       "    <tr>\n",
       "      <th>17</th>\n",
       "      <td>1028</td>\n",
       "      <td>2018-03</td>\n",
       "      <td>36090.0</td>\n",
       "      <td>66.0</td>\n",
       "      <td>39.0</td>\n",
       "      <td>4.0</td>\n",
       "      <td>ultimate</td>\n",
       "      <td>1000</td>\n",
       "      <td>30720</td>\n",
       "      <td>3000</td>\n",
       "      <td>70</td>\n",
       "      <td>7</td>\n",
       "      <td>0.01</td>\n",
       "      <td>0.01</td>\n",
       "    </tr>\n",
       "    <tr>\n",
       "      <th>18</th>\n",
       "      <td>1028</td>\n",
       "      <td>2018-04</td>\n",
       "      <td>37794.0</td>\n",
       "      <td>77.0</td>\n",
       "      <td>53.0</td>\n",
       "      <td>6.0</td>\n",
       "      <td>ultimate</td>\n",
       "      <td>1000</td>\n",
       "      <td>30720</td>\n",
       "      <td>3000</td>\n",
       "      <td>70</td>\n",
       "      <td>7</td>\n",
       "      <td>0.01</td>\n",
       "      <td>0.01</td>\n",
       "    </tr>\n",
       "    <tr>\n",
       "      <th>19</th>\n",
       "      <td>1028</td>\n",
       "      <td>2018-05</td>\n",
       "      <td>32942.0</td>\n",
       "      <td>84.0</td>\n",
       "      <td>67.0</td>\n",
       "      <td>7.0</td>\n",
       "      <td>ultimate</td>\n",
       "      <td>1000</td>\n",
       "      <td>30720</td>\n",
       "      <td>3000</td>\n",
       "      <td>70</td>\n",
       "      <td>7</td>\n",
       "      <td>0.01</td>\n",
       "      <td>0.01</td>\n",
       "    </tr>\n",
       "  </tbody>\n",
       "</table>\n",
       "</div>"
      ],
      "text/plain": [
       "    user_id    month  mb_used  msg_count  duration  calls      plan  \\\n",
       "0      1000  2018-12   1903.0       11.0     124.0   16.0  ultimate   \n",
       "1      1006  2018-11   2072.0       15.0      10.0    2.0  ultimate   \n",
       "2      1006  2018-12  32144.0      139.0      59.0    7.0  ultimate   \n",
       "3      1008  2018-10  17131.0       21.0     476.0   54.0  ultimate   \n",
       "4      1008  2018-11  23706.0       37.0     446.0   50.0  ultimate   \n",
       "5      1008  2018-12  14707.0       26.0     634.0   65.0  ultimate   \n",
       "6      1011  2018-06   6695.0       21.0     118.0   13.0  ultimate   \n",
       "7      1011  2018-07  21076.0       53.0     499.0   49.0  ultimate   \n",
       "8      1011  2018-08  21126.0       54.0     486.0   49.0  ultimate   \n",
       "9      1011  2018-09  16663.0       60.0     484.0   55.0  ultimate   \n",
       "10     1011  2018-10  24611.0       64.0     504.0   60.0  ultimate   \n",
       "11     1011  2018-11  22127.0       58.0     505.0   57.0  ultimate   \n",
       "12     1011  2018-12  19653.0       61.0     311.0   39.0  ultimate   \n",
       "13     1013  2018-12  20143.0       16.0     219.0   26.0  ultimate   \n",
       "14     1026  2018-07   4826.0        9.0     163.0   18.0  ultimate   \n",
       "15     1026  2018-08   8411.0       13.0     194.0   24.0  ultimate   \n",
       "16     1028  2018-02  12603.0       12.0       0.0    0.0  ultimate   \n",
       "17     1028  2018-03  36090.0       66.0      39.0    4.0  ultimate   \n",
       "18     1028  2018-04  37794.0       77.0      53.0    6.0  ultimate   \n",
       "19     1028  2018-05  32942.0       84.0      67.0    7.0  ultimate   \n",
       "\n",
       "    messages_included  mb_per_month_included  minutes_included  \\\n",
       "0                1000                  30720              3000   \n",
       "1                1000                  30720              3000   \n",
       "2                1000                  30720              3000   \n",
       "3                1000                  30720              3000   \n",
       "4                1000                  30720              3000   \n",
       "5                1000                  30720              3000   \n",
       "6                1000                  30720              3000   \n",
       "7                1000                  30720              3000   \n",
       "8                1000                  30720              3000   \n",
       "9                1000                  30720              3000   \n",
       "10               1000                  30720              3000   \n",
       "11               1000                  30720              3000   \n",
       "12               1000                  30720              3000   \n",
       "13               1000                  30720              3000   \n",
       "14               1000                  30720              3000   \n",
       "15               1000                  30720              3000   \n",
       "16               1000                  30720              3000   \n",
       "17               1000                  30720              3000   \n",
       "18               1000                  30720              3000   \n",
       "19               1000                  30720              3000   \n",
       "\n",
       "    usd_monthly_pay  usd_per_gb  usd_per_message  usd_per_minute  \n",
       "0                70           7             0.01            0.01  \n",
       "1                70           7             0.01            0.01  \n",
       "2                70           7             0.01            0.01  \n",
       "3                70           7             0.01            0.01  \n",
       "4                70           7             0.01            0.01  \n",
       "5                70           7             0.01            0.01  \n",
       "6                70           7             0.01            0.01  \n",
       "7                70           7             0.01            0.01  \n",
       "8                70           7             0.01            0.01  \n",
       "9                70           7             0.01            0.01  \n",
       "10               70           7             0.01            0.01  \n",
       "11               70           7             0.01            0.01  \n",
       "12               70           7             0.01            0.01  \n",
       "13               70           7             0.01            0.01  \n",
       "14               70           7             0.01            0.01  \n",
       "15               70           7             0.01            0.01  \n",
       "16               70           7             0.01            0.01  \n",
       "17               70           7             0.01            0.01  \n",
       "18               70           7             0.01            0.01  \n",
       "19               70           7             0.01            0.01  "
      ]
     },
     "execution_count": 83,
     "metadata": {},
     "output_type": "execute_result"
    }
   ],
   "source": [
    "merged_all_info.head(20)"
   ]
  },
  {
   "cell_type": "code",
   "execution_count": 84,
   "metadata": {},
   "outputs": [],
   "source": [
    "# calculando minutos extra para serem cobrados\n",
    "\n",
    "merged_all_info['overspent_minutes'] = merged_all_info['duration'] - merged_all_info['minutes_included'] "
   ]
  },
  {
   "cell_type": "code",
   "execution_count": 85,
   "metadata": {},
   "outputs": [],
   "source": [
    "# calculando mensagens extra para serem cobradas\n",
    "\n",
    "merged_all_info['overspent_msg'] = merged_all_info['msg_count'] - merged_all_info['messages_included'] "
   ]
  },
  {
   "cell_type": "code",
   "execution_count": 86,
   "metadata": {},
   "outputs": [],
   "source": [
    "# calcilando mb extra para serem cobrados\n",
    "\n",
    "merged_all_info['overspent_mb'] = merged_all_info['mb_used'] - merged_all_info['mb_per_month_included'] "
   ]
  },
  {
   "cell_type": "code",
   "execution_count": 87,
   "metadata": {
    "scrolled": true
   },
   "outputs": [
    {
     "data": {
      "text/html": [
       "<div>\n",
       "<style scoped>\n",
       "    .dataframe tbody tr th:only-of-type {\n",
       "        vertical-align: middle;\n",
       "    }\n",
       "\n",
       "    .dataframe tbody tr th {\n",
       "        vertical-align: top;\n",
       "    }\n",
       "\n",
       "    .dataframe thead th {\n",
       "        text-align: right;\n",
       "    }\n",
       "</style>\n",
       "<table border=\"1\" class=\"dataframe\">\n",
       "  <thead>\n",
       "    <tr style=\"text-align: right;\">\n",
       "      <th></th>\n",
       "      <th>user_id</th>\n",
       "      <th>month</th>\n",
       "      <th>mb_used</th>\n",
       "      <th>msg_count</th>\n",
       "      <th>duration</th>\n",
       "      <th>calls</th>\n",
       "      <th>plan</th>\n",
       "      <th>messages_included</th>\n",
       "      <th>mb_per_month_included</th>\n",
       "      <th>minutes_included</th>\n",
       "      <th>usd_monthly_pay</th>\n",
       "      <th>usd_per_gb</th>\n",
       "      <th>usd_per_message</th>\n",
       "      <th>usd_per_minute</th>\n",
       "      <th>overspent_minutes</th>\n",
       "      <th>overspent_msg</th>\n",
       "      <th>overspent_mb</th>\n",
       "    </tr>\n",
       "  </thead>\n",
       "  <tbody>\n",
       "    <tr>\n",
       "      <th>0</th>\n",
       "      <td>1000</td>\n",
       "      <td>2018-12</td>\n",
       "      <td>1903.0</td>\n",
       "      <td>11.0</td>\n",
       "      <td>124.0</td>\n",
       "      <td>16.0</td>\n",
       "      <td>ultimate</td>\n",
       "      <td>1000</td>\n",
       "      <td>30720</td>\n",
       "      <td>3000</td>\n",
       "      <td>70</td>\n",
       "      <td>7</td>\n",
       "      <td>0.01</td>\n",
       "      <td>0.01</td>\n",
       "      <td>-2876.0</td>\n",
       "      <td>-989.0</td>\n",
       "      <td>-28817.0</td>\n",
       "    </tr>\n",
       "    <tr>\n",
       "      <th>1</th>\n",
       "      <td>1006</td>\n",
       "      <td>2018-11</td>\n",
       "      <td>2072.0</td>\n",
       "      <td>15.0</td>\n",
       "      <td>10.0</td>\n",
       "      <td>2.0</td>\n",
       "      <td>ultimate</td>\n",
       "      <td>1000</td>\n",
       "      <td>30720</td>\n",
       "      <td>3000</td>\n",
       "      <td>70</td>\n",
       "      <td>7</td>\n",
       "      <td>0.01</td>\n",
       "      <td>0.01</td>\n",
       "      <td>-2990.0</td>\n",
       "      <td>-985.0</td>\n",
       "      <td>-28648.0</td>\n",
       "    </tr>\n",
       "    <tr>\n",
       "      <th>2</th>\n",
       "      <td>1006</td>\n",
       "      <td>2018-12</td>\n",
       "      <td>32144.0</td>\n",
       "      <td>139.0</td>\n",
       "      <td>59.0</td>\n",
       "      <td>7.0</td>\n",
       "      <td>ultimate</td>\n",
       "      <td>1000</td>\n",
       "      <td>30720</td>\n",
       "      <td>3000</td>\n",
       "      <td>70</td>\n",
       "      <td>7</td>\n",
       "      <td>0.01</td>\n",
       "      <td>0.01</td>\n",
       "      <td>-2941.0</td>\n",
       "      <td>-861.0</td>\n",
       "      <td>1424.0</td>\n",
       "    </tr>\n",
       "    <tr>\n",
       "      <th>3</th>\n",
       "      <td>1008</td>\n",
       "      <td>2018-10</td>\n",
       "      <td>17131.0</td>\n",
       "      <td>21.0</td>\n",
       "      <td>476.0</td>\n",
       "      <td>54.0</td>\n",
       "      <td>ultimate</td>\n",
       "      <td>1000</td>\n",
       "      <td>30720</td>\n",
       "      <td>3000</td>\n",
       "      <td>70</td>\n",
       "      <td>7</td>\n",
       "      <td>0.01</td>\n",
       "      <td>0.01</td>\n",
       "      <td>-2524.0</td>\n",
       "      <td>-979.0</td>\n",
       "      <td>-13589.0</td>\n",
       "    </tr>\n",
       "    <tr>\n",
       "      <th>4</th>\n",
       "      <td>1008</td>\n",
       "      <td>2018-11</td>\n",
       "      <td>23706.0</td>\n",
       "      <td>37.0</td>\n",
       "      <td>446.0</td>\n",
       "      <td>50.0</td>\n",
       "      <td>ultimate</td>\n",
       "      <td>1000</td>\n",
       "      <td>30720</td>\n",
       "      <td>3000</td>\n",
       "      <td>70</td>\n",
       "      <td>7</td>\n",
       "      <td>0.01</td>\n",
       "      <td>0.01</td>\n",
       "      <td>-2554.0</td>\n",
       "      <td>-963.0</td>\n",
       "      <td>-7014.0</td>\n",
       "    </tr>\n",
       "  </tbody>\n",
       "</table>\n",
       "</div>"
      ],
      "text/plain": [
       "   user_id    month  mb_used  msg_count  duration  calls      plan  \\\n",
       "0     1000  2018-12   1903.0       11.0     124.0   16.0  ultimate   \n",
       "1     1006  2018-11   2072.0       15.0      10.0    2.0  ultimate   \n",
       "2     1006  2018-12  32144.0      139.0      59.0    7.0  ultimate   \n",
       "3     1008  2018-10  17131.0       21.0     476.0   54.0  ultimate   \n",
       "4     1008  2018-11  23706.0       37.0     446.0   50.0  ultimate   \n",
       "\n",
       "   messages_included  mb_per_month_included  minutes_included  \\\n",
       "0               1000                  30720              3000   \n",
       "1               1000                  30720              3000   \n",
       "2               1000                  30720              3000   \n",
       "3               1000                  30720              3000   \n",
       "4               1000                  30720              3000   \n",
       "\n",
       "   usd_monthly_pay  usd_per_gb  usd_per_message  usd_per_minute  \\\n",
       "0               70           7             0.01            0.01   \n",
       "1               70           7             0.01            0.01   \n",
       "2               70           7             0.01            0.01   \n",
       "3               70           7             0.01            0.01   \n",
       "4               70           7             0.01            0.01   \n",
       "\n",
       "   overspent_minutes  overspent_msg  overspent_mb  \n",
       "0            -2876.0         -989.0      -28817.0  \n",
       "1            -2990.0         -985.0      -28648.0  \n",
       "2            -2941.0         -861.0        1424.0  \n",
       "3            -2524.0         -979.0      -13589.0  \n",
       "4            -2554.0         -963.0       -7014.0  "
      ]
     },
     "execution_count": 87,
     "metadata": {},
     "output_type": "execute_result"
    }
   ],
   "source": [
    "# visualizando novas colunas\n",
    "\n",
    "merged_all_info.head()"
   ]
  },
  {
   "cell_type": "code",
   "execution_count": 88,
   "metadata": {},
   "outputs": [],
   "source": [
    "# substituindo valores negativos da coluna 'overspent_minutes' por 0\n",
    "\n",
    "merged_all_info['overspent_minutes'] = merged_all_info['overspent_minutes'].apply(lambda x: max(x, 0))"
   ]
  },
  {
   "cell_type": "code",
   "execution_count": 89,
   "metadata": {},
   "outputs": [],
   "source": [
    "# substituindo valores negativos da coluna 'overspent_msg' por 0\n",
    "\n",
    "merged_all_info['overspent_msg'] = merged_all_info['overspent_msg'].apply(lambda x: max(x, 0))"
   ]
  },
  {
   "cell_type": "code",
   "execution_count": 90,
   "metadata": {},
   "outputs": [],
   "source": [
    "# substituindo valores negativos da coluna 'overspent_mb' por 0\n",
    "\n",
    "merged_all_info['overspent_mb'] = merged_all_info['overspent_mb'].apply(lambda x: max(x, 0))"
   ]
  },
  {
   "cell_type": "code",
   "execution_count": 91,
   "metadata": {},
   "outputs": [],
   "source": [
    "# transformando 'overspent_mb' em valores GB\n",
    "\n",
    "merged_all_info['overspent_mb'] = merged_all_info['overspent_mb'] / 1024"
   ]
  },
  {
   "cell_type": "code",
   "execution_count": 92,
   "metadata": {},
   "outputs": [],
   "source": [
    "# arrendondando valores GB para acima\n",
    "\n",
    "merged_all_info['overspent_mb'] = np.ceil(merged_all_info['overspent_mb'])"
   ]
  },
  {
   "cell_type": "code",
   "execution_count": 93,
   "metadata": {},
   "outputs": [],
   "source": [
    "# renomeando coluna 'overspent_mb' par 'overspent_gb'\n",
    "\n",
    "merged_all_info.rename(columns = {'overspent_mb' : 'overspent_gb'}, inplace=True)"
   ]
  },
  {
   "cell_type": "code",
   "execution_count": 94,
   "metadata": {
    "scrolled": true
   },
   "outputs": [
    {
     "data": {
      "text/html": [
       "<div>\n",
       "<style scoped>\n",
       "    .dataframe tbody tr th:only-of-type {\n",
       "        vertical-align: middle;\n",
       "    }\n",
       "\n",
       "    .dataframe tbody tr th {\n",
       "        vertical-align: top;\n",
       "    }\n",
       "\n",
       "    .dataframe thead th {\n",
       "        text-align: right;\n",
       "    }\n",
       "</style>\n",
       "<table border=\"1\" class=\"dataframe\">\n",
       "  <thead>\n",
       "    <tr style=\"text-align: right;\">\n",
       "      <th></th>\n",
       "      <th>user_id</th>\n",
       "      <th>month</th>\n",
       "      <th>mb_used</th>\n",
       "      <th>msg_count</th>\n",
       "      <th>duration</th>\n",
       "      <th>calls</th>\n",
       "      <th>plan</th>\n",
       "      <th>messages_included</th>\n",
       "      <th>mb_per_month_included</th>\n",
       "      <th>minutes_included</th>\n",
       "      <th>usd_monthly_pay</th>\n",
       "      <th>usd_per_gb</th>\n",
       "      <th>usd_per_message</th>\n",
       "      <th>usd_per_minute</th>\n",
       "      <th>overspent_minutes</th>\n",
       "      <th>overspent_msg</th>\n",
       "      <th>overspent_gb</th>\n",
       "    </tr>\n",
       "  </thead>\n",
       "  <tbody>\n",
       "    <tr>\n",
       "      <th>0</th>\n",
       "      <td>1000</td>\n",
       "      <td>2018-12</td>\n",
       "      <td>1903.0</td>\n",
       "      <td>11.0</td>\n",
       "      <td>124.0</td>\n",
       "      <td>16.0</td>\n",
       "      <td>ultimate</td>\n",
       "      <td>1000</td>\n",
       "      <td>30720</td>\n",
       "      <td>3000</td>\n",
       "      <td>70</td>\n",
       "      <td>7</td>\n",
       "      <td>0.01</td>\n",
       "      <td>0.01</td>\n",
       "      <td>0.0</td>\n",
       "      <td>0.0</td>\n",
       "      <td>0.0</td>\n",
       "    </tr>\n",
       "    <tr>\n",
       "      <th>1</th>\n",
       "      <td>1006</td>\n",
       "      <td>2018-11</td>\n",
       "      <td>2072.0</td>\n",
       "      <td>15.0</td>\n",
       "      <td>10.0</td>\n",
       "      <td>2.0</td>\n",
       "      <td>ultimate</td>\n",
       "      <td>1000</td>\n",
       "      <td>30720</td>\n",
       "      <td>3000</td>\n",
       "      <td>70</td>\n",
       "      <td>7</td>\n",
       "      <td>0.01</td>\n",
       "      <td>0.01</td>\n",
       "      <td>0.0</td>\n",
       "      <td>0.0</td>\n",
       "      <td>0.0</td>\n",
       "    </tr>\n",
       "    <tr>\n",
       "      <th>2</th>\n",
       "      <td>1006</td>\n",
       "      <td>2018-12</td>\n",
       "      <td>32144.0</td>\n",
       "      <td>139.0</td>\n",
       "      <td>59.0</td>\n",
       "      <td>7.0</td>\n",
       "      <td>ultimate</td>\n",
       "      <td>1000</td>\n",
       "      <td>30720</td>\n",
       "      <td>3000</td>\n",
       "      <td>70</td>\n",
       "      <td>7</td>\n",
       "      <td>0.01</td>\n",
       "      <td>0.01</td>\n",
       "      <td>0.0</td>\n",
       "      <td>0.0</td>\n",
       "      <td>2.0</td>\n",
       "    </tr>\n",
       "    <tr>\n",
       "      <th>3</th>\n",
       "      <td>1008</td>\n",
       "      <td>2018-10</td>\n",
       "      <td>17131.0</td>\n",
       "      <td>21.0</td>\n",
       "      <td>476.0</td>\n",
       "      <td>54.0</td>\n",
       "      <td>ultimate</td>\n",
       "      <td>1000</td>\n",
       "      <td>30720</td>\n",
       "      <td>3000</td>\n",
       "      <td>70</td>\n",
       "      <td>7</td>\n",
       "      <td>0.01</td>\n",
       "      <td>0.01</td>\n",
       "      <td>0.0</td>\n",
       "      <td>0.0</td>\n",
       "      <td>0.0</td>\n",
       "    </tr>\n",
       "    <tr>\n",
       "      <th>4</th>\n",
       "      <td>1008</td>\n",
       "      <td>2018-11</td>\n",
       "      <td>23706.0</td>\n",
       "      <td>37.0</td>\n",
       "      <td>446.0</td>\n",
       "      <td>50.0</td>\n",
       "      <td>ultimate</td>\n",
       "      <td>1000</td>\n",
       "      <td>30720</td>\n",
       "      <td>3000</td>\n",
       "      <td>70</td>\n",
       "      <td>7</td>\n",
       "      <td>0.01</td>\n",
       "      <td>0.01</td>\n",
       "      <td>0.0</td>\n",
       "      <td>0.0</td>\n",
       "      <td>0.0</td>\n",
       "    </tr>\n",
       "    <tr>\n",
       "      <th>5</th>\n",
       "      <td>1008</td>\n",
       "      <td>2018-12</td>\n",
       "      <td>14707.0</td>\n",
       "      <td>26.0</td>\n",
       "      <td>634.0</td>\n",
       "      <td>65.0</td>\n",
       "      <td>ultimate</td>\n",
       "      <td>1000</td>\n",
       "      <td>30720</td>\n",
       "      <td>3000</td>\n",
       "      <td>70</td>\n",
       "      <td>7</td>\n",
       "      <td>0.01</td>\n",
       "      <td>0.01</td>\n",
       "      <td>0.0</td>\n",
       "      <td>0.0</td>\n",
       "      <td>0.0</td>\n",
       "    </tr>\n",
       "    <tr>\n",
       "      <th>6</th>\n",
       "      <td>1011</td>\n",
       "      <td>2018-06</td>\n",
       "      <td>6695.0</td>\n",
       "      <td>21.0</td>\n",
       "      <td>118.0</td>\n",
       "      <td>13.0</td>\n",
       "      <td>ultimate</td>\n",
       "      <td>1000</td>\n",
       "      <td>30720</td>\n",
       "      <td>3000</td>\n",
       "      <td>70</td>\n",
       "      <td>7</td>\n",
       "      <td>0.01</td>\n",
       "      <td>0.01</td>\n",
       "      <td>0.0</td>\n",
       "      <td>0.0</td>\n",
       "      <td>0.0</td>\n",
       "    </tr>\n",
       "    <tr>\n",
       "      <th>7</th>\n",
       "      <td>1011</td>\n",
       "      <td>2018-07</td>\n",
       "      <td>21076.0</td>\n",
       "      <td>53.0</td>\n",
       "      <td>499.0</td>\n",
       "      <td>49.0</td>\n",
       "      <td>ultimate</td>\n",
       "      <td>1000</td>\n",
       "      <td>30720</td>\n",
       "      <td>3000</td>\n",
       "      <td>70</td>\n",
       "      <td>7</td>\n",
       "      <td>0.01</td>\n",
       "      <td>0.01</td>\n",
       "      <td>0.0</td>\n",
       "      <td>0.0</td>\n",
       "      <td>0.0</td>\n",
       "    </tr>\n",
       "    <tr>\n",
       "      <th>8</th>\n",
       "      <td>1011</td>\n",
       "      <td>2018-08</td>\n",
       "      <td>21126.0</td>\n",
       "      <td>54.0</td>\n",
       "      <td>486.0</td>\n",
       "      <td>49.0</td>\n",
       "      <td>ultimate</td>\n",
       "      <td>1000</td>\n",
       "      <td>30720</td>\n",
       "      <td>3000</td>\n",
       "      <td>70</td>\n",
       "      <td>7</td>\n",
       "      <td>0.01</td>\n",
       "      <td>0.01</td>\n",
       "      <td>0.0</td>\n",
       "      <td>0.0</td>\n",
       "      <td>0.0</td>\n",
       "    </tr>\n",
       "    <tr>\n",
       "      <th>9</th>\n",
       "      <td>1011</td>\n",
       "      <td>2018-09</td>\n",
       "      <td>16663.0</td>\n",
       "      <td>60.0</td>\n",
       "      <td>484.0</td>\n",
       "      <td>55.0</td>\n",
       "      <td>ultimate</td>\n",
       "      <td>1000</td>\n",
       "      <td>30720</td>\n",
       "      <td>3000</td>\n",
       "      <td>70</td>\n",
       "      <td>7</td>\n",
       "      <td>0.01</td>\n",
       "      <td>0.01</td>\n",
       "      <td>0.0</td>\n",
       "      <td>0.0</td>\n",
       "      <td>0.0</td>\n",
       "    </tr>\n",
       "    <tr>\n",
       "      <th>10</th>\n",
       "      <td>1011</td>\n",
       "      <td>2018-10</td>\n",
       "      <td>24611.0</td>\n",
       "      <td>64.0</td>\n",
       "      <td>504.0</td>\n",
       "      <td>60.0</td>\n",
       "      <td>ultimate</td>\n",
       "      <td>1000</td>\n",
       "      <td>30720</td>\n",
       "      <td>3000</td>\n",
       "      <td>70</td>\n",
       "      <td>7</td>\n",
       "      <td>0.01</td>\n",
       "      <td>0.01</td>\n",
       "      <td>0.0</td>\n",
       "      <td>0.0</td>\n",
       "      <td>0.0</td>\n",
       "    </tr>\n",
       "    <tr>\n",
       "      <th>11</th>\n",
       "      <td>1011</td>\n",
       "      <td>2018-11</td>\n",
       "      <td>22127.0</td>\n",
       "      <td>58.0</td>\n",
       "      <td>505.0</td>\n",
       "      <td>57.0</td>\n",
       "      <td>ultimate</td>\n",
       "      <td>1000</td>\n",
       "      <td>30720</td>\n",
       "      <td>3000</td>\n",
       "      <td>70</td>\n",
       "      <td>7</td>\n",
       "      <td>0.01</td>\n",
       "      <td>0.01</td>\n",
       "      <td>0.0</td>\n",
       "      <td>0.0</td>\n",
       "      <td>0.0</td>\n",
       "    </tr>\n",
       "    <tr>\n",
       "      <th>12</th>\n",
       "      <td>1011</td>\n",
       "      <td>2018-12</td>\n",
       "      <td>19653.0</td>\n",
       "      <td>61.0</td>\n",
       "      <td>311.0</td>\n",
       "      <td>39.0</td>\n",
       "      <td>ultimate</td>\n",
       "      <td>1000</td>\n",
       "      <td>30720</td>\n",
       "      <td>3000</td>\n",
       "      <td>70</td>\n",
       "      <td>7</td>\n",
       "      <td>0.01</td>\n",
       "      <td>0.01</td>\n",
       "      <td>0.0</td>\n",
       "      <td>0.0</td>\n",
       "      <td>0.0</td>\n",
       "    </tr>\n",
       "    <tr>\n",
       "      <th>13</th>\n",
       "      <td>1013</td>\n",
       "      <td>2018-12</td>\n",
       "      <td>20143.0</td>\n",
       "      <td>16.0</td>\n",
       "      <td>219.0</td>\n",
       "      <td>26.0</td>\n",
       "      <td>ultimate</td>\n",
       "      <td>1000</td>\n",
       "      <td>30720</td>\n",
       "      <td>3000</td>\n",
       "      <td>70</td>\n",
       "      <td>7</td>\n",
       "      <td>0.01</td>\n",
       "      <td>0.01</td>\n",
       "      <td>0.0</td>\n",
       "      <td>0.0</td>\n",
       "      <td>0.0</td>\n",
       "    </tr>\n",
       "    <tr>\n",
       "      <th>14</th>\n",
       "      <td>1026</td>\n",
       "      <td>2018-07</td>\n",
       "      <td>4826.0</td>\n",
       "      <td>9.0</td>\n",
       "      <td>163.0</td>\n",
       "      <td>18.0</td>\n",
       "      <td>ultimate</td>\n",
       "      <td>1000</td>\n",
       "      <td>30720</td>\n",
       "      <td>3000</td>\n",
       "      <td>70</td>\n",
       "      <td>7</td>\n",
       "      <td>0.01</td>\n",
       "      <td>0.01</td>\n",
       "      <td>0.0</td>\n",
       "      <td>0.0</td>\n",
       "      <td>0.0</td>\n",
       "    </tr>\n",
       "    <tr>\n",
       "      <th>15</th>\n",
       "      <td>1026</td>\n",
       "      <td>2018-08</td>\n",
       "      <td>8411.0</td>\n",
       "      <td>13.0</td>\n",
       "      <td>194.0</td>\n",
       "      <td>24.0</td>\n",
       "      <td>ultimate</td>\n",
       "      <td>1000</td>\n",
       "      <td>30720</td>\n",
       "      <td>3000</td>\n",
       "      <td>70</td>\n",
       "      <td>7</td>\n",
       "      <td>0.01</td>\n",
       "      <td>0.01</td>\n",
       "      <td>0.0</td>\n",
       "      <td>0.0</td>\n",
       "      <td>0.0</td>\n",
       "    </tr>\n",
       "    <tr>\n",
       "      <th>16</th>\n",
       "      <td>1028</td>\n",
       "      <td>2018-02</td>\n",
       "      <td>12603.0</td>\n",
       "      <td>12.0</td>\n",
       "      <td>0.0</td>\n",
       "      <td>0.0</td>\n",
       "      <td>ultimate</td>\n",
       "      <td>1000</td>\n",
       "      <td>30720</td>\n",
       "      <td>3000</td>\n",
       "      <td>70</td>\n",
       "      <td>7</td>\n",
       "      <td>0.01</td>\n",
       "      <td>0.01</td>\n",
       "      <td>0.0</td>\n",
       "      <td>0.0</td>\n",
       "      <td>0.0</td>\n",
       "    </tr>\n",
       "    <tr>\n",
       "      <th>17</th>\n",
       "      <td>1028</td>\n",
       "      <td>2018-03</td>\n",
       "      <td>36090.0</td>\n",
       "      <td>66.0</td>\n",
       "      <td>39.0</td>\n",
       "      <td>4.0</td>\n",
       "      <td>ultimate</td>\n",
       "      <td>1000</td>\n",
       "      <td>30720</td>\n",
       "      <td>3000</td>\n",
       "      <td>70</td>\n",
       "      <td>7</td>\n",
       "      <td>0.01</td>\n",
       "      <td>0.01</td>\n",
       "      <td>0.0</td>\n",
       "      <td>0.0</td>\n",
       "      <td>6.0</td>\n",
       "    </tr>\n",
       "    <tr>\n",
       "      <th>18</th>\n",
       "      <td>1028</td>\n",
       "      <td>2018-04</td>\n",
       "      <td>37794.0</td>\n",
       "      <td>77.0</td>\n",
       "      <td>53.0</td>\n",
       "      <td>6.0</td>\n",
       "      <td>ultimate</td>\n",
       "      <td>1000</td>\n",
       "      <td>30720</td>\n",
       "      <td>3000</td>\n",
       "      <td>70</td>\n",
       "      <td>7</td>\n",
       "      <td>0.01</td>\n",
       "      <td>0.01</td>\n",
       "      <td>0.0</td>\n",
       "      <td>0.0</td>\n",
       "      <td>7.0</td>\n",
       "    </tr>\n",
       "    <tr>\n",
       "      <th>19</th>\n",
       "      <td>1028</td>\n",
       "      <td>2018-05</td>\n",
       "      <td>32942.0</td>\n",
       "      <td>84.0</td>\n",
       "      <td>67.0</td>\n",
       "      <td>7.0</td>\n",
       "      <td>ultimate</td>\n",
       "      <td>1000</td>\n",
       "      <td>30720</td>\n",
       "      <td>3000</td>\n",
       "      <td>70</td>\n",
       "      <td>7</td>\n",
       "      <td>0.01</td>\n",
       "      <td>0.01</td>\n",
       "      <td>0.0</td>\n",
       "      <td>0.0</td>\n",
       "      <td>3.0</td>\n",
       "    </tr>\n",
       "    <tr>\n",
       "      <th>20</th>\n",
       "      <td>1028</td>\n",
       "      <td>2018-06</td>\n",
       "      <td>37942.0</td>\n",
       "      <td>66.0</td>\n",
       "      <td>49.0</td>\n",
       "      <td>9.0</td>\n",
       "      <td>ultimate</td>\n",
       "      <td>1000</td>\n",
       "      <td>30720</td>\n",
       "      <td>3000</td>\n",
       "      <td>70</td>\n",
       "      <td>7</td>\n",
       "      <td>0.01</td>\n",
       "      <td>0.01</td>\n",
       "      <td>0.0</td>\n",
       "      <td>0.0</td>\n",
       "      <td>8.0</td>\n",
       "    </tr>\n",
       "    <tr>\n",
       "      <th>21</th>\n",
       "      <td>1028</td>\n",
       "      <td>2018-07</td>\n",
       "      <td>38863.0</td>\n",
       "      <td>85.0</td>\n",
       "      <td>53.0</td>\n",
       "      <td>6.0</td>\n",
       "      <td>ultimate</td>\n",
       "      <td>1000</td>\n",
       "      <td>30720</td>\n",
       "      <td>3000</td>\n",
       "      <td>70</td>\n",
       "      <td>7</td>\n",
       "      <td>0.01</td>\n",
       "      <td>0.01</td>\n",
       "      <td>0.0</td>\n",
       "      <td>0.0</td>\n",
       "      <td>8.0</td>\n",
       "    </tr>\n",
       "    <tr>\n",
       "      <th>22</th>\n",
       "      <td>1028</td>\n",
       "      <td>2018-08</td>\n",
       "      <td>40424.0</td>\n",
       "      <td>74.0</td>\n",
       "      <td>76.0</td>\n",
       "      <td>7.0</td>\n",
       "      <td>ultimate</td>\n",
       "      <td>1000</td>\n",
       "      <td>30720</td>\n",
       "      <td>3000</td>\n",
       "      <td>70</td>\n",
       "      <td>7</td>\n",
       "      <td>0.01</td>\n",
       "      <td>0.01</td>\n",
       "      <td>0.0</td>\n",
       "      <td>0.0</td>\n",
       "      <td>10.0</td>\n",
       "    </tr>\n",
       "    <tr>\n",
       "      <th>23</th>\n",
       "      <td>1028</td>\n",
       "      <td>2018-09</td>\n",
       "      <td>26593.0</td>\n",
       "      <td>68.0</td>\n",
       "      <td>37.0</td>\n",
       "      <td>4.0</td>\n",
       "      <td>ultimate</td>\n",
       "      <td>1000</td>\n",
       "      <td>30720</td>\n",
       "      <td>3000</td>\n",
       "      <td>70</td>\n",
       "      <td>7</td>\n",
       "      <td>0.01</td>\n",
       "      <td>0.01</td>\n",
       "      <td>0.0</td>\n",
       "      <td>0.0</td>\n",
       "      <td>0.0</td>\n",
       "    </tr>\n",
       "    <tr>\n",
       "      <th>24</th>\n",
       "      <td>1028</td>\n",
       "      <td>2018-10</td>\n",
       "      <td>46634.0</td>\n",
       "      <td>73.0</td>\n",
       "      <td>39.0</td>\n",
       "      <td>6.0</td>\n",
       "      <td>ultimate</td>\n",
       "      <td>1000</td>\n",
       "      <td>30720</td>\n",
       "      <td>3000</td>\n",
       "      <td>70</td>\n",
       "      <td>7</td>\n",
       "      <td>0.01</td>\n",
       "      <td>0.01</td>\n",
       "      <td>0.0</td>\n",
       "      <td>0.0</td>\n",
       "      <td>16.0</td>\n",
       "    </tr>\n",
       "    <tr>\n",
       "      <th>25</th>\n",
       "      <td>1028</td>\n",
       "      <td>2018-11</td>\n",
       "      <td>42995.0</td>\n",
       "      <td>77.0</td>\n",
       "      <td>69.0</td>\n",
       "      <td>8.0</td>\n",
       "      <td>ultimate</td>\n",
       "      <td>1000</td>\n",
       "      <td>30720</td>\n",
       "      <td>3000</td>\n",
       "      <td>70</td>\n",
       "      <td>7</td>\n",
       "      <td>0.01</td>\n",
       "      <td>0.01</td>\n",
       "      <td>0.0</td>\n",
       "      <td>0.0</td>\n",
       "      <td>12.0</td>\n",
       "    </tr>\n",
       "    <tr>\n",
       "      <th>26</th>\n",
       "      <td>1028</td>\n",
       "      <td>2018-12</td>\n",
       "      <td>37638.0</td>\n",
       "      <td>74.0</td>\n",
       "      <td>43.0</td>\n",
       "      <td>6.0</td>\n",
       "      <td>ultimate</td>\n",
       "      <td>1000</td>\n",
       "      <td>30720</td>\n",
       "      <td>3000</td>\n",
       "      <td>70</td>\n",
       "      <td>7</td>\n",
       "      <td>0.01</td>\n",
       "      <td>0.01</td>\n",
       "      <td>0.0</td>\n",
       "      <td>0.0</td>\n",
       "      <td>7.0</td>\n",
       "    </tr>\n",
       "    <tr>\n",
       "      <th>27</th>\n",
       "      <td>1030</td>\n",
       "      <td>2018-10</td>\n",
       "      <td>11319.0</td>\n",
       "      <td>9.0</td>\n",
       "      <td>469.0</td>\n",
       "      <td>60.0</td>\n",
       "      <td>ultimate</td>\n",
       "      <td>1000</td>\n",
       "      <td>30720</td>\n",
       "      <td>3000</td>\n",
       "      <td>70</td>\n",
       "      <td>7</td>\n",
       "      <td>0.01</td>\n",
       "      <td>0.01</td>\n",
       "      <td>0.0</td>\n",
       "      <td>0.0</td>\n",
       "      <td>0.0</td>\n",
       "    </tr>\n",
       "    <tr>\n",
       "      <th>28</th>\n",
       "      <td>1030</td>\n",
       "      <td>2018-11</td>\n",
       "      <td>16669.0</td>\n",
       "      <td>11.0</td>\n",
       "      <td>472.0</td>\n",
       "      <td>54.0</td>\n",
       "      <td>ultimate</td>\n",
       "      <td>1000</td>\n",
       "      <td>30720</td>\n",
       "      <td>3000</td>\n",
       "      <td>70</td>\n",
       "      <td>7</td>\n",
       "      <td>0.01</td>\n",
       "      <td>0.01</td>\n",
       "      <td>0.0</td>\n",
       "      <td>0.0</td>\n",
       "      <td>0.0</td>\n",
       "    </tr>\n",
       "    <tr>\n",
       "      <th>29</th>\n",
       "      <td>1030</td>\n",
       "      <td>2018-12</td>\n",
       "      <td>15587.0</td>\n",
       "      <td>10.0</td>\n",
       "      <td>417.0</td>\n",
       "      <td>51.0</td>\n",
       "      <td>ultimate</td>\n",
       "      <td>1000</td>\n",
       "      <td>30720</td>\n",
       "      <td>3000</td>\n",
       "      <td>70</td>\n",
       "      <td>7</td>\n",
       "      <td>0.01</td>\n",
       "      <td>0.01</td>\n",
       "      <td>0.0</td>\n",
       "      <td>0.0</td>\n",
       "      <td>0.0</td>\n",
       "    </tr>\n",
       "    <tr>\n",
       "      <th>30</th>\n",
       "      <td>1031</td>\n",
       "      <td>2018-07</td>\n",
       "      <td>10668.0</td>\n",
       "      <td>1.0</td>\n",
       "      <td>304.0</td>\n",
       "      <td>29.0</td>\n",
       "      <td>ultimate</td>\n",
       "      <td>1000</td>\n",
       "      <td>30720</td>\n",
       "      <td>3000</td>\n",
       "      <td>70</td>\n",
       "      <td>7</td>\n",
       "      <td>0.01</td>\n",
       "      <td>0.01</td>\n",
       "      <td>0.0</td>\n",
       "      <td>0.0</td>\n",
       "      <td>0.0</td>\n",
       "    </tr>\n",
       "    <tr>\n",
       "      <th>31</th>\n",
       "      <td>1031</td>\n",
       "      <td>2018-08</td>\n",
       "      <td>21646.0</td>\n",
       "      <td>2.0</td>\n",
       "      <td>483.0</td>\n",
       "      <td>53.0</td>\n",
       "      <td>ultimate</td>\n",
       "      <td>1000</td>\n",
       "      <td>30720</td>\n",
       "      <td>3000</td>\n",
       "      <td>70</td>\n",
       "      <td>7</td>\n",
       "      <td>0.01</td>\n",
       "      <td>0.01</td>\n",
       "      <td>0.0</td>\n",
       "      <td>0.0</td>\n",
       "      <td>0.0</td>\n",
       "    </tr>\n",
       "    <tr>\n",
       "      <th>32</th>\n",
       "      <td>1031</td>\n",
       "      <td>2018-09</td>\n",
       "      <td>13024.0</td>\n",
       "      <td>3.0</td>\n",
       "      <td>515.0</td>\n",
       "      <td>59.0</td>\n",
       "      <td>ultimate</td>\n",
       "      <td>1000</td>\n",
       "      <td>30720</td>\n",
       "      <td>3000</td>\n",
       "      <td>70</td>\n",
       "      <td>7</td>\n",
       "      <td>0.01</td>\n",
       "      <td>0.01</td>\n",
       "      <td>0.0</td>\n",
       "      <td>0.0</td>\n",
       "      <td>0.0</td>\n",
       "    </tr>\n",
       "    <tr>\n",
       "      <th>33</th>\n",
       "      <td>1031</td>\n",
       "      <td>2018-10</td>\n",
       "      <td>18796.0</td>\n",
       "      <td>2.0</td>\n",
       "      <td>563.0</td>\n",
       "      <td>61.0</td>\n",
       "      <td>ultimate</td>\n",
       "      <td>1000</td>\n",
       "      <td>30720</td>\n",
       "      <td>3000</td>\n",
       "      <td>70</td>\n",
       "      <td>7</td>\n",
       "      <td>0.01</td>\n",
       "      <td>0.01</td>\n",
       "      <td>0.0</td>\n",
       "      <td>0.0</td>\n",
       "      <td>0.0</td>\n",
       "    </tr>\n",
       "    <tr>\n",
       "      <th>34</th>\n",
       "      <td>1031</td>\n",
       "      <td>2018-11</td>\n",
       "      <td>16221.0</td>\n",
       "      <td>1.0</td>\n",
       "      <td>611.0</td>\n",
       "      <td>72.0</td>\n",
       "      <td>ultimate</td>\n",
       "      <td>1000</td>\n",
       "      <td>30720</td>\n",
       "      <td>3000</td>\n",
       "      <td>70</td>\n",
       "      <td>7</td>\n",
       "      <td>0.01</td>\n",
       "      <td>0.01</td>\n",
       "      <td>0.0</td>\n",
       "      <td>0.0</td>\n",
       "      <td>0.0</td>\n",
       "    </tr>\n",
       "    <tr>\n",
       "      <th>35</th>\n",
       "      <td>1031</td>\n",
       "      <td>2018-12</td>\n",
       "      <td>12639.0</td>\n",
       "      <td>5.0</td>\n",
       "      <td>471.0</td>\n",
       "      <td>54.0</td>\n",
       "      <td>ultimate</td>\n",
       "      <td>1000</td>\n",
       "      <td>30720</td>\n",
       "      <td>3000</td>\n",
       "      <td>70</td>\n",
       "      <td>7</td>\n",
       "      <td>0.01</td>\n",
       "      <td>0.01</td>\n",
       "      <td>0.0</td>\n",
       "      <td>0.0</td>\n",
       "      <td>0.0</td>\n",
       "    </tr>\n",
       "    <tr>\n",
       "      <th>36</th>\n",
       "      <td>1032</td>\n",
       "      <td>2018-11</td>\n",
       "      <td>14487.0</td>\n",
       "      <td>22.0</td>\n",
       "      <td>311.0</td>\n",
       "      <td>36.0</td>\n",
       "      <td>ultimate</td>\n",
       "      <td>1000</td>\n",
       "      <td>30720</td>\n",
       "      <td>3000</td>\n",
       "      <td>70</td>\n",
       "      <td>7</td>\n",
       "      <td>0.01</td>\n",
       "      <td>0.01</td>\n",
       "      <td>0.0</td>\n",
       "      <td>0.0</td>\n",
       "      <td>0.0</td>\n",
       "    </tr>\n",
       "    <tr>\n",
       "      <th>37</th>\n",
       "      <td>1032</td>\n",
       "      <td>2018-12</td>\n",
       "      <td>14313.0</td>\n",
       "      <td>20.0</td>\n",
       "      <td>761.0</td>\n",
       "      <td>79.0</td>\n",
       "      <td>ultimate</td>\n",
       "      <td>1000</td>\n",
       "      <td>30720</td>\n",
       "      <td>3000</td>\n",
       "      <td>70</td>\n",
       "      <td>7</td>\n",
       "      <td>0.01</td>\n",
       "      <td>0.01</td>\n",
       "      <td>0.0</td>\n",
       "      <td>0.0</td>\n",
       "      <td>0.0</td>\n",
       "    </tr>\n",
       "    <tr>\n",
       "      <th>38</th>\n",
       "      <td>1033</td>\n",
       "      <td>2018-09</td>\n",
       "      <td>5360.0</td>\n",
       "      <td>5.0</td>\n",
       "      <td>167.0</td>\n",
       "      <td>21.0</td>\n",
       "      <td>ultimate</td>\n",
       "      <td>1000</td>\n",
       "      <td>30720</td>\n",
       "      <td>3000</td>\n",
       "      <td>70</td>\n",
       "      <td>7</td>\n",
       "      <td>0.01</td>\n",
       "      <td>0.01</td>\n",
       "      <td>0.0</td>\n",
       "      <td>0.0</td>\n",
       "      <td>0.0</td>\n",
       "    </tr>\n",
       "    <tr>\n",
       "      <th>39</th>\n",
       "      <td>1033</td>\n",
       "      <td>2018-10</td>\n",
       "      <td>28558.0</td>\n",
       "      <td>34.0</td>\n",
       "      <td>858.0</td>\n",
       "      <td>87.0</td>\n",
       "      <td>ultimate</td>\n",
       "      <td>1000</td>\n",
       "      <td>30720</td>\n",
       "      <td>3000</td>\n",
       "      <td>70</td>\n",
       "      <td>7</td>\n",
       "      <td>0.01</td>\n",
       "      <td>0.01</td>\n",
       "      <td>0.0</td>\n",
       "      <td>0.0</td>\n",
       "      <td>0.0</td>\n",
       "    </tr>\n",
       "  </tbody>\n",
       "</table>\n",
       "</div>"
      ],
      "text/plain": [
       "    user_id    month  mb_used  msg_count  duration  calls      plan  \\\n",
       "0      1000  2018-12   1903.0       11.0     124.0   16.0  ultimate   \n",
       "1      1006  2018-11   2072.0       15.0      10.0    2.0  ultimate   \n",
       "2      1006  2018-12  32144.0      139.0      59.0    7.0  ultimate   \n",
       "3      1008  2018-10  17131.0       21.0     476.0   54.0  ultimate   \n",
       "4      1008  2018-11  23706.0       37.0     446.0   50.0  ultimate   \n",
       "5      1008  2018-12  14707.0       26.0     634.0   65.0  ultimate   \n",
       "6      1011  2018-06   6695.0       21.0     118.0   13.0  ultimate   \n",
       "7      1011  2018-07  21076.0       53.0     499.0   49.0  ultimate   \n",
       "8      1011  2018-08  21126.0       54.0     486.0   49.0  ultimate   \n",
       "9      1011  2018-09  16663.0       60.0     484.0   55.0  ultimate   \n",
       "10     1011  2018-10  24611.0       64.0     504.0   60.0  ultimate   \n",
       "11     1011  2018-11  22127.0       58.0     505.0   57.0  ultimate   \n",
       "12     1011  2018-12  19653.0       61.0     311.0   39.0  ultimate   \n",
       "13     1013  2018-12  20143.0       16.0     219.0   26.0  ultimate   \n",
       "14     1026  2018-07   4826.0        9.0     163.0   18.0  ultimate   \n",
       "15     1026  2018-08   8411.0       13.0     194.0   24.0  ultimate   \n",
       "16     1028  2018-02  12603.0       12.0       0.0    0.0  ultimate   \n",
       "17     1028  2018-03  36090.0       66.0      39.0    4.0  ultimate   \n",
       "18     1028  2018-04  37794.0       77.0      53.0    6.0  ultimate   \n",
       "19     1028  2018-05  32942.0       84.0      67.0    7.0  ultimate   \n",
       "20     1028  2018-06  37942.0       66.0      49.0    9.0  ultimate   \n",
       "21     1028  2018-07  38863.0       85.0      53.0    6.0  ultimate   \n",
       "22     1028  2018-08  40424.0       74.0      76.0    7.0  ultimate   \n",
       "23     1028  2018-09  26593.0       68.0      37.0    4.0  ultimate   \n",
       "24     1028  2018-10  46634.0       73.0      39.0    6.0  ultimate   \n",
       "25     1028  2018-11  42995.0       77.0      69.0    8.0  ultimate   \n",
       "26     1028  2018-12  37638.0       74.0      43.0    6.0  ultimate   \n",
       "27     1030  2018-10  11319.0        9.0     469.0   60.0  ultimate   \n",
       "28     1030  2018-11  16669.0       11.0     472.0   54.0  ultimate   \n",
       "29     1030  2018-12  15587.0       10.0     417.0   51.0  ultimate   \n",
       "30     1031  2018-07  10668.0        1.0     304.0   29.0  ultimate   \n",
       "31     1031  2018-08  21646.0        2.0     483.0   53.0  ultimate   \n",
       "32     1031  2018-09  13024.0        3.0     515.0   59.0  ultimate   \n",
       "33     1031  2018-10  18796.0        2.0     563.0   61.0  ultimate   \n",
       "34     1031  2018-11  16221.0        1.0     611.0   72.0  ultimate   \n",
       "35     1031  2018-12  12639.0        5.0     471.0   54.0  ultimate   \n",
       "36     1032  2018-11  14487.0       22.0     311.0   36.0  ultimate   \n",
       "37     1032  2018-12  14313.0       20.0     761.0   79.0  ultimate   \n",
       "38     1033  2018-09   5360.0        5.0     167.0   21.0  ultimate   \n",
       "39     1033  2018-10  28558.0       34.0     858.0   87.0  ultimate   \n",
       "\n",
       "    messages_included  mb_per_month_included  minutes_included  \\\n",
       "0                1000                  30720              3000   \n",
       "1                1000                  30720              3000   \n",
       "2                1000                  30720              3000   \n",
       "3                1000                  30720              3000   \n",
       "4                1000                  30720              3000   \n",
       "5                1000                  30720              3000   \n",
       "6                1000                  30720              3000   \n",
       "7                1000                  30720              3000   \n",
       "8                1000                  30720              3000   \n",
       "9                1000                  30720              3000   \n",
       "10               1000                  30720              3000   \n",
       "11               1000                  30720              3000   \n",
       "12               1000                  30720              3000   \n",
       "13               1000                  30720              3000   \n",
       "14               1000                  30720              3000   \n",
       "15               1000                  30720              3000   \n",
       "16               1000                  30720              3000   \n",
       "17               1000                  30720              3000   \n",
       "18               1000                  30720              3000   \n",
       "19               1000                  30720              3000   \n",
       "20               1000                  30720              3000   \n",
       "21               1000                  30720              3000   \n",
       "22               1000                  30720              3000   \n",
       "23               1000                  30720              3000   \n",
       "24               1000                  30720              3000   \n",
       "25               1000                  30720              3000   \n",
       "26               1000                  30720              3000   \n",
       "27               1000                  30720              3000   \n",
       "28               1000                  30720              3000   \n",
       "29               1000                  30720              3000   \n",
       "30               1000                  30720              3000   \n",
       "31               1000                  30720              3000   \n",
       "32               1000                  30720              3000   \n",
       "33               1000                  30720              3000   \n",
       "34               1000                  30720              3000   \n",
       "35               1000                  30720              3000   \n",
       "36               1000                  30720              3000   \n",
       "37               1000                  30720              3000   \n",
       "38               1000                  30720              3000   \n",
       "39               1000                  30720              3000   \n",
       "\n",
       "    usd_monthly_pay  usd_per_gb  usd_per_message  usd_per_minute  \\\n",
       "0                70           7             0.01            0.01   \n",
       "1                70           7             0.01            0.01   \n",
       "2                70           7             0.01            0.01   \n",
       "3                70           7             0.01            0.01   \n",
       "4                70           7             0.01            0.01   \n",
       "5                70           7             0.01            0.01   \n",
       "6                70           7             0.01            0.01   \n",
       "7                70           7             0.01            0.01   \n",
       "8                70           7             0.01            0.01   \n",
       "9                70           7             0.01            0.01   \n",
       "10               70           7             0.01            0.01   \n",
       "11               70           7             0.01            0.01   \n",
       "12               70           7             0.01            0.01   \n",
       "13               70           7             0.01            0.01   \n",
       "14               70           7             0.01            0.01   \n",
       "15               70           7             0.01            0.01   \n",
       "16               70           7             0.01            0.01   \n",
       "17               70           7             0.01            0.01   \n",
       "18               70           7             0.01            0.01   \n",
       "19               70           7             0.01            0.01   \n",
       "20               70           7             0.01            0.01   \n",
       "21               70           7             0.01            0.01   \n",
       "22               70           7             0.01            0.01   \n",
       "23               70           7             0.01            0.01   \n",
       "24               70           7             0.01            0.01   \n",
       "25               70           7             0.01            0.01   \n",
       "26               70           7             0.01            0.01   \n",
       "27               70           7             0.01            0.01   \n",
       "28               70           7             0.01            0.01   \n",
       "29               70           7             0.01            0.01   \n",
       "30               70           7             0.01            0.01   \n",
       "31               70           7             0.01            0.01   \n",
       "32               70           7             0.01            0.01   \n",
       "33               70           7             0.01            0.01   \n",
       "34               70           7             0.01            0.01   \n",
       "35               70           7             0.01            0.01   \n",
       "36               70           7             0.01            0.01   \n",
       "37               70           7             0.01            0.01   \n",
       "38               70           7             0.01            0.01   \n",
       "39               70           7             0.01            0.01   \n",
       "\n",
       "    overspent_minutes  overspent_msg  overspent_gb  \n",
       "0                 0.0            0.0           0.0  \n",
       "1                 0.0            0.0           0.0  \n",
       "2                 0.0            0.0           2.0  \n",
       "3                 0.0            0.0           0.0  \n",
       "4                 0.0            0.0           0.0  \n",
       "5                 0.0            0.0           0.0  \n",
       "6                 0.0            0.0           0.0  \n",
       "7                 0.0            0.0           0.0  \n",
       "8                 0.0            0.0           0.0  \n",
       "9                 0.0            0.0           0.0  \n",
       "10                0.0            0.0           0.0  \n",
       "11                0.0            0.0           0.0  \n",
       "12                0.0            0.0           0.0  \n",
       "13                0.0            0.0           0.0  \n",
       "14                0.0            0.0           0.0  \n",
       "15                0.0            0.0           0.0  \n",
       "16                0.0            0.0           0.0  \n",
       "17                0.0            0.0           6.0  \n",
       "18                0.0            0.0           7.0  \n",
       "19                0.0            0.0           3.0  \n",
       "20                0.0            0.0           8.0  \n",
       "21                0.0            0.0           8.0  \n",
       "22                0.0            0.0          10.0  \n",
       "23                0.0            0.0           0.0  \n",
       "24                0.0            0.0          16.0  \n",
       "25                0.0            0.0          12.0  \n",
       "26                0.0            0.0           7.0  \n",
       "27                0.0            0.0           0.0  \n",
       "28                0.0            0.0           0.0  \n",
       "29                0.0            0.0           0.0  \n",
       "30                0.0            0.0           0.0  \n",
       "31                0.0            0.0           0.0  \n",
       "32                0.0            0.0           0.0  \n",
       "33                0.0            0.0           0.0  \n",
       "34                0.0            0.0           0.0  \n",
       "35                0.0            0.0           0.0  \n",
       "36                0.0            0.0           0.0  \n",
       "37                0.0            0.0           0.0  \n",
       "38                0.0            0.0           0.0  \n",
       "39                0.0            0.0           0.0  "
      ]
     },
     "execution_count": 94,
     "metadata": {},
     "output_type": "execute_result"
    }
   ],
   "source": [
    "# visualizando atulizacoes feitas acima\n",
    "\n",
    "merged_all_info.head(40)"
   ]
  },
  {
   "cell_type": "code",
   "execution_count": 95,
   "metadata": {},
   "outputs": [],
   "source": [
    "# calculando valor a ser pago por minutos extra usado e salvando em nova coluna 'usd_minutes'\n",
    "\n",
    "merged_all_info['usd_minutes'] = merged_all_info['overspent_minutes'] * merged_all_info['usd_per_minute']"
   ]
  },
  {
   "cell_type": "code",
   "execution_count": 96,
   "metadata": {},
   "outputs": [],
   "source": [
    "# calculando valor a ser pago por mensagens extra usado e salvando em nova coluna 'usd_msg'\n",
    "\n",
    "merged_all_info['usd_msg'] = merged_all_info['overspent_msg'] * merged_all_info['usd_per_message']"
   ]
  },
  {
   "cell_type": "code",
   "execution_count": 97,
   "metadata": {},
   "outputs": [],
   "source": [
    "# calculando valor a ser pago gb extra usado e salvando em nova coluna 'usd_gb'\n",
    "\n",
    "merged_all_info['usd_gb'] = merged_all_info['overspent_gb'] * merged_all_info['usd_per_gb']"
   ]
  },
  {
   "cell_type": "code",
   "execution_count": 98,
   "metadata": {
    "scrolled": true
   },
   "outputs": [],
   "source": [
    "# somando todos valores de gasto extra fora do plano\n",
    "\n",
    "merged_all_info['total_overspent'] = merged_all_info['usd_gb'] + merged_all_info['usd_msg'] + merged_all_info['usd_minutes']"
   ]
  },
  {
   "cell_type": "code",
   "execution_count": 99,
   "metadata": {},
   "outputs": [],
   "source": [
    "# somando total de gastos\n",
    "\n",
    "merged_all_info['total'] = merged_all_info['total_overspent'] + merged_all_info['usd_monthly_pay']"
   ]
  },
  {
   "cell_type": "code",
   "execution_count": 100,
   "metadata": {
    "scrolled": true
   },
   "outputs": [
    {
     "data": {
      "text/html": [
       "<div>\n",
       "<style scoped>\n",
       "    .dataframe tbody tr th:only-of-type {\n",
       "        vertical-align: middle;\n",
       "    }\n",
       "\n",
       "    .dataframe tbody tr th {\n",
       "        vertical-align: top;\n",
       "    }\n",
       "\n",
       "    .dataframe thead th {\n",
       "        text-align: right;\n",
       "    }\n",
       "</style>\n",
       "<table border=\"1\" class=\"dataframe\">\n",
       "  <thead>\n",
       "    <tr style=\"text-align: right;\">\n",
       "      <th></th>\n",
       "      <th>user_id</th>\n",
       "      <th>month</th>\n",
       "      <th>mb_used</th>\n",
       "      <th>msg_count</th>\n",
       "      <th>duration</th>\n",
       "      <th>calls</th>\n",
       "      <th>plan</th>\n",
       "      <th>messages_included</th>\n",
       "      <th>mb_per_month_included</th>\n",
       "      <th>minutes_included</th>\n",
       "      <th>...</th>\n",
       "      <th>usd_per_message</th>\n",
       "      <th>usd_per_minute</th>\n",
       "      <th>overspent_minutes</th>\n",
       "      <th>overspent_msg</th>\n",
       "      <th>overspent_gb</th>\n",
       "      <th>usd_minutes</th>\n",
       "      <th>usd_msg</th>\n",
       "      <th>usd_gb</th>\n",
       "      <th>total_overspent</th>\n",
       "      <th>total</th>\n",
       "    </tr>\n",
       "  </thead>\n",
       "  <tbody>\n",
       "    <tr>\n",
       "      <th>0</th>\n",
       "      <td>1000</td>\n",
       "      <td>2018-12</td>\n",
       "      <td>1903.0</td>\n",
       "      <td>11.0</td>\n",
       "      <td>124.0</td>\n",
       "      <td>16.0</td>\n",
       "      <td>ultimate</td>\n",
       "      <td>1000</td>\n",
       "      <td>30720</td>\n",
       "      <td>3000</td>\n",
       "      <td>...</td>\n",
       "      <td>0.01</td>\n",
       "      <td>0.01</td>\n",
       "      <td>0.0</td>\n",
       "      <td>0.0</td>\n",
       "      <td>0.0</td>\n",
       "      <td>0.0</td>\n",
       "      <td>0.0</td>\n",
       "      <td>0.0</td>\n",
       "      <td>0.0</td>\n",
       "      <td>70.0</td>\n",
       "    </tr>\n",
       "    <tr>\n",
       "      <th>1</th>\n",
       "      <td>1006</td>\n",
       "      <td>2018-11</td>\n",
       "      <td>2072.0</td>\n",
       "      <td>15.0</td>\n",
       "      <td>10.0</td>\n",
       "      <td>2.0</td>\n",
       "      <td>ultimate</td>\n",
       "      <td>1000</td>\n",
       "      <td>30720</td>\n",
       "      <td>3000</td>\n",
       "      <td>...</td>\n",
       "      <td>0.01</td>\n",
       "      <td>0.01</td>\n",
       "      <td>0.0</td>\n",
       "      <td>0.0</td>\n",
       "      <td>0.0</td>\n",
       "      <td>0.0</td>\n",
       "      <td>0.0</td>\n",
       "      <td>0.0</td>\n",
       "      <td>0.0</td>\n",
       "      <td>70.0</td>\n",
       "    </tr>\n",
       "    <tr>\n",
       "      <th>2</th>\n",
       "      <td>1006</td>\n",
       "      <td>2018-12</td>\n",
       "      <td>32144.0</td>\n",
       "      <td>139.0</td>\n",
       "      <td>59.0</td>\n",
       "      <td>7.0</td>\n",
       "      <td>ultimate</td>\n",
       "      <td>1000</td>\n",
       "      <td>30720</td>\n",
       "      <td>3000</td>\n",
       "      <td>...</td>\n",
       "      <td>0.01</td>\n",
       "      <td>0.01</td>\n",
       "      <td>0.0</td>\n",
       "      <td>0.0</td>\n",
       "      <td>2.0</td>\n",
       "      <td>0.0</td>\n",
       "      <td>0.0</td>\n",
       "      <td>14.0</td>\n",
       "      <td>14.0</td>\n",
       "      <td>84.0</td>\n",
       "    </tr>\n",
       "    <tr>\n",
       "      <th>3</th>\n",
       "      <td>1008</td>\n",
       "      <td>2018-10</td>\n",
       "      <td>17131.0</td>\n",
       "      <td>21.0</td>\n",
       "      <td>476.0</td>\n",
       "      <td>54.0</td>\n",
       "      <td>ultimate</td>\n",
       "      <td>1000</td>\n",
       "      <td>30720</td>\n",
       "      <td>3000</td>\n",
       "      <td>...</td>\n",
       "      <td>0.01</td>\n",
       "      <td>0.01</td>\n",
       "      <td>0.0</td>\n",
       "      <td>0.0</td>\n",
       "      <td>0.0</td>\n",
       "      <td>0.0</td>\n",
       "      <td>0.0</td>\n",
       "      <td>0.0</td>\n",
       "      <td>0.0</td>\n",
       "      <td>70.0</td>\n",
       "    </tr>\n",
       "    <tr>\n",
       "      <th>4</th>\n",
       "      <td>1008</td>\n",
       "      <td>2018-11</td>\n",
       "      <td>23706.0</td>\n",
       "      <td>37.0</td>\n",
       "      <td>446.0</td>\n",
       "      <td>50.0</td>\n",
       "      <td>ultimate</td>\n",
       "      <td>1000</td>\n",
       "      <td>30720</td>\n",
       "      <td>3000</td>\n",
       "      <td>...</td>\n",
       "      <td>0.01</td>\n",
       "      <td>0.01</td>\n",
       "      <td>0.0</td>\n",
       "      <td>0.0</td>\n",
       "      <td>0.0</td>\n",
       "      <td>0.0</td>\n",
       "      <td>0.0</td>\n",
       "      <td>0.0</td>\n",
       "      <td>0.0</td>\n",
       "      <td>70.0</td>\n",
       "    </tr>\n",
       "    <tr>\n",
       "      <th>5</th>\n",
       "      <td>1008</td>\n",
       "      <td>2018-12</td>\n",
       "      <td>14707.0</td>\n",
       "      <td>26.0</td>\n",
       "      <td>634.0</td>\n",
       "      <td>65.0</td>\n",
       "      <td>ultimate</td>\n",
       "      <td>1000</td>\n",
       "      <td>30720</td>\n",
       "      <td>3000</td>\n",
       "      <td>...</td>\n",
       "      <td>0.01</td>\n",
       "      <td>0.01</td>\n",
       "      <td>0.0</td>\n",
       "      <td>0.0</td>\n",
       "      <td>0.0</td>\n",
       "      <td>0.0</td>\n",
       "      <td>0.0</td>\n",
       "      <td>0.0</td>\n",
       "      <td>0.0</td>\n",
       "      <td>70.0</td>\n",
       "    </tr>\n",
       "    <tr>\n",
       "      <th>6</th>\n",
       "      <td>1011</td>\n",
       "      <td>2018-06</td>\n",
       "      <td>6695.0</td>\n",
       "      <td>21.0</td>\n",
       "      <td>118.0</td>\n",
       "      <td>13.0</td>\n",
       "      <td>ultimate</td>\n",
       "      <td>1000</td>\n",
       "      <td>30720</td>\n",
       "      <td>3000</td>\n",
       "      <td>...</td>\n",
       "      <td>0.01</td>\n",
       "      <td>0.01</td>\n",
       "      <td>0.0</td>\n",
       "      <td>0.0</td>\n",
       "      <td>0.0</td>\n",
       "      <td>0.0</td>\n",
       "      <td>0.0</td>\n",
       "      <td>0.0</td>\n",
       "      <td>0.0</td>\n",
       "      <td>70.0</td>\n",
       "    </tr>\n",
       "    <tr>\n",
       "      <th>7</th>\n",
       "      <td>1011</td>\n",
       "      <td>2018-07</td>\n",
       "      <td>21076.0</td>\n",
       "      <td>53.0</td>\n",
       "      <td>499.0</td>\n",
       "      <td>49.0</td>\n",
       "      <td>ultimate</td>\n",
       "      <td>1000</td>\n",
       "      <td>30720</td>\n",
       "      <td>3000</td>\n",
       "      <td>...</td>\n",
       "      <td>0.01</td>\n",
       "      <td>0.01</td>\n",
       "      <td>0.0</td>\n",
       "      <td>0.0</td>\n",
       "      <td>0.0</td>\n",
       "      <td>0.0</td>\n",
       "      <td>0.0</td>\n",
       "      <td>0.0</td>\n",
       "      <td>0.0</td>\n",
       "      <td>70.0</td>\n",
       "    </tr>\n",
       "    <tr>\n",
       "      <th>8</th>\n",
       "      <td>1011</td>\n",
       "      <td>2018-08</td>\n",
       "      <td>21126.0</td>\n",
       "      <td>54.0</td>\n",
       "      <td>486.0</td>\n",
       "      <td>49.0</td>\n",
       "      <td>ultimate</td>\n",
       "      <td>1000</td>\n",
       "      <td>30720</td>\n",
       "      <td>3000</td>\n",
       "      <td>...</td>\n",
       "      <td>0.01</td>\n",
       "      <td>0.01</td>\n",
       "      <td>0.0</td>\n",
       "      <td>0.0</td>\n",
       "      <td>0.0</td>\n",
       "      <td>0.0</td>\n",
       "      <td>0.0</td>\n",
       "      <td>0.0</td>\n",
       "      <td>0.0</td>\n",
       "      <td>70.0</td>\n",
       "    </tr>\n",
       "    <tr>\n",
       "      <th>9</th>\n",
       "      <td>1011</td>\n",
       "      <td>2018-09</td>\n",
       "      <td>16663.0</td>\n",
       "      <td>60.0</td>\n",
       "      <td>484.0</td>\n",
       "      <td>55.0</td>\n",
       "      <td>ultimate</td>\n",
       "      <td>1000</td>\n",
       "      <td>30720</td>\n",
       "      <td>3000</td>\n",
       "      <td>...</td>\n",
       "      <td>0.01</td>\n",
       "      <td>0.01</td>\n",
       "      <td>0.0</td>\n",
       "      <td>0.0</td>\n",
       "      <td>0.0</td>\n",
       "      <td>0.0</td>\n",
       "      <td>0.0</td>\n",
       "      <td>0.0</td>\n",
       "      <td>0.0</td>\n",
       "      <td>70.0</td>\n",
       "    </tr>\n",
       "  </tbody>\n",
       "</table>\n",
       "<p>10 rows × 22 columns</p>\n",
       "</div>"
      ],
      "text/plain": [
       "   user_id    month  mb_used  msg_count  duration  calls      plan  \\\n",
       "0     1000  2018-12   1903.0       11.0     124.0   16.0  ultimate   \n",
       "1     1006  2018-11   2072.0       15.0      10.0    2.0  ultimate   \n",
       "2     1006  2018-12  32144.0      139.0      59.0    7.0  ultimate   \n",
       "3     1008  2018-10  17131.0       21.0     476.0   54.0  ultimate   \n",
       "4     1008  2018-11  23706.0       37.0     446.0   50.0  ultimate   \n",
       "5     1008  2018-12  14707.0       26.0     634.0   65.0  ultimate   \n",
       "6     1011  2018-06   6695.0       21.0     118.0   13.0  ultimate   \n",
       "7     1011  2018-07  21076.0       53.0     499.0   49.0  ultimate   \n",
       "8     1011  2018-08  21126.0       54.0     486.0   49.0  ultimate   \n",
       "9     1011  2018-09  16663.0       60.0     484.0   55.0  ultimate   \n",
       "\n",
       "   messages_included  mb_per_month_included  minutes_included  ...  \\\n",
       "0               1000                  30720              3000  ...   \n",
       "1               1000                  30720              3000  ...   \n",
       "2               1000                  30720              3000  ...   \n",
       "3               1000                  30720              3000  ...   \n",
       "4               1000                  30720              3000  ...   \n",
       "5               1000                  30720              3000  ...   \n",
       "6               1000                  30720              3000  ...   \n",
       "7               1000                  30720              3000  ...   \n",
       "8               1000                  30720              3000  ...   \n",
       "9               1000                  30720              3000  ...   \n",
       "\n",
       "   usd_per_message  usd_per_minute  overspent_minutes  overspent_msg  \\\n",
       "0             0.01            0.01                0.0            0.0   \n",
       "1             0.01            0.01                0.0            0.0   \n",
       "2             0.01            0.01                0.0            0.0   \n",
       "3             0.01            0.01                0.0            0.0   \n",
       "4             0.01            0.01                0.0            0.0   \n",
       "5             0.01            0.01                0.0            0.0   \n",
       "6             0.01            0.01                0.0            0.0   \n",
       "7             0.01            0.01                0.0            0.0   \n",
       "8             0.01            0.01                0.0            0.0   \n",
       "9             0.01            0.01                0.0            0.0   \n",
       "\n",
       "   overspent_gb  usd_minutes  usd_msg  usd_gb  total_overspent  total  \n",
       "0           0.0          0.0      0.0     0.0              0.0   70.0  \n",
       "1           0.0          0.0      0.0     0.0              0.0   70.0  \n",
       "2           2.0          0.0      0.0    14.0             14.0   84.0  \n",
       "3           0.0          0.0      0.0     0.0              0.0   70.0  \n",
       "4           0.0          0.0      0.0     0.0              0.0   70.0  \n",
       "5           0.0          0.0      0.0     0.0              0.0   70.0  \n",
       "6           0.0          0.0      0.0     0.0              0.0   70.0  \n",
       "7           0.0          0.0      0.0     0.0              0.0   70.0  \n",
       "8           0.0          0.0      0.0     0.0              0.0   70.0  \n",
       "9           0.0          0.0      0.0     0.0              0.0   70.0  \n",
       "\n",
       "[10 rows x 22 columns]"
      ]
     },
     "execution_count": 100,
     "metadata": {},
     "output_type": "execute_result"
    }
   ],
   "source": [
    "# visualizando resultado das atualizacoes\n",
    "\n",
    "merged_all_info.head(10)"
   ]
  },
  {
   "cell_type": "code",
   "execution_count": 101,
   "metadata": {},
   "outputs": [],
   "source": [
    "# Calcule a receita mensal de cada usuário\n",
    "\n",
    "monthly_total_user = merged_all_info.pivot_table(index = 'user_id', columns = 'month', values = 'total', aggfunc='mean')\n"
   ]
  },
  {
   "cell_type": "code",
   "execution_count": 102,
   "metadata": {
    "scrolled": true
   },
   "outputs": [
    {
     "data": {
      "text/html": [
       "<div>\n",
       "<style scoped>\n",
       "    .dataframe tbody tr th:only-of-type {\n",
       "        vertical-align: middle;\n",
       "    }\n",
       "\n",
       "    .dataframe tbody tr th {\n",
       "        vertical-align: top;\n",
       "    }\n",
       "\n",
       "    .dataframe thead th {\n",
       "        text-align: right;\n",
       "    }\n",
       "</style>\n",
       "<table border=\"1\" class=\"dataframe\">\n",
       "  <thead>\n",
       "    <tr style=\"text-align: right;\">\n",
       "      <th>month</th>\n",
       "      <th>2018-01</th>\n",
       "      <th>2018-02</th>\n",
       "      <th>2018-03</th>\n",
       "      <th>2018-04</th>\n",
       "      <th>2018-05</th>\n",
       "      <th>2018-06</th>\n",
       "      <th>2018-07</th>\n",
       "      <th>2018-08</th>\n",
       "      <th>2018-09</th>\n",
       "      <th>2018-10</th>\n",
       "      <th>2018-11</th>\n",
       "      <th>2018-12</th>\n",
       "    </tr>\n",
       "    <tr>\n",
       "      <th>user_id</th>\n",
       "      <th></th>\n",
       "      <th></th>\n",
       "      <th></th>\n",
       "      <th></th>\n",
       "      <th></th>\n",
       "      <th></th>\n",
       "      <th></th>\n",
       "      <th></th>\n",
       "      <th></th>\n",
       "      <th></th>\n",
       "      <th></th>\n",
       "      <th></th>\n",
       "    </tr>\n",
       "  </thead>\n",
       "  <tbody>\n",
       "    <tr>\n",
       "      <th>1000</th>\n",
       "      <td>NaN</td>\n",
       "      <td>NaN</td>\n",
       "      <td>NaN</td>\n",
       "      <td>NaN</td>\n",
       "      <td>NaN</td>\n",
       "      <td>NaN</td>\n",
       "      <td>NaN</td>\n",
       "      <td>NaN</td>\n",
       "      <td>NaN</td>\n",
       "      <td>NaN</td>\n",
       "      <td>NaN</td>\n",
       "      <td>70.00</td>\n",
       "    </tr>\n",
       "    <tr>\n",
       "      <th>1001</th>\n",
       "      <td>NaN</td>\n",
       "      <td>NaN</td>\n",
       "      <td>NaN</td>\n",
       "      <td>NaN</td>\n",
       "      <td>NaN</td>\n",
       "      <td>NaN</td>\n",
       "      <td>NaN</td>\n",
       "      <td>20.0</td>\n",
       "      <td>20.0</td>\n",
       "      <td>90.09</td>\n",
       "      <td>60.0</td>\n",
       "      <td>60.00</td>\n",
       "    </tr>\n",
       "    <tr>\n",
       "      <th>1002</th>\n",
       "      <td>NaN</td>\n",
       "      <td>NaN</td>\n",
       "      <td>NaN</td>\n",
       "      <td>NaN</td>\n",
       "      <td>NaN</td>\n",
       "      <td>NaN</td>\n",
       "      <td>NaN</td>\n",
       "      <td>NaN</td>\n",
       "      <td>NaN</td>\n",
       "      <td>20.00</td>\n",
       "      <td>60.0</td>\n",
       "      <td>20.00</td>\n",
       "    </tr>\n",
       "    <tr>\n",
       "      <th>1003</th>\n",
       "      <td>NaN</td>\n",
       "      <td>NaN</td>\n",
       "      <td>NaN</td>\n",
       "      <td>NaN</td>\n",
       "      <td>NaN</td>\n",
       "      <td>NaN</td>\n",
       "      <td>NaN</td>\n",
       "      <td>NaN</td>\n",
       "      <td>NaN</td>\n",
       "      <td>NaN</td>\n",
       "      <td>NaN</td>\n",
       "      <td>158.12</td>\n",
       "    </tr>\n",
       "    <tr>\n",
       "      <th>1004</th>\n",
       "      <td>NaN</td>\n",
       "      <td>NaN</td>\n",
       "      <td>NaN</td>\n",
       "      <td>NaN</td>\n",
       "      <td>20.0</td>\n",
       "      <td>80.0</td>\n",
       "      <td>110.0</td>\n",
       "      <td>150.0</td>\n",
       "      <td>60.0</td>\n",
       "      <td>20.00</td>\n",
       "      <td>90.0</td>\n",
       "      <td>80.00</td>\n",
       "    </tr>\n",
       "  </tbody>\n",
       "</table>\n",
       "</div>"
      ],
      "text/plain": [
       "month    2018-01  2018-02  2018-03  2018-04  2018-05  2018-06  2018-07  \\\n",
       "user_id                                                                  \n",
       "1000         NaN      NaN      NaN      NaN      NaN      NaN      NaN   \n",
       "1001         NaN      NaN      NaN      NaN      NaN      NaN      NaN   \n",
       "1002         NaN      NaN      NaN      NaN      NaN      NaN      NaN   \n",
       "1003         NaN      NaN      NaN      NaN      NaN      NaN      NaN   \n",
       "1004         NaN      NaN      NaN      NaN     20.0     80.0    110.0   \n",
       "\n",
       "month    2018-08  2018-09  2018-10  2018-11  2018-12  \n",
       "user_id                                               \n",
       "1000         NaN      NaN      NaN      NaN    70.00  \n",
       "1001        20.0     20.0    90.09     60.0    60.00  \n",
       "1002         NaN      NaN    20.00     60.0    20.00  \n",
       "1003         NaN      NaN      NaN      NaN   158.12  \n",
       "1004       150.0     60.0    20.00     90.0    80.00  "
      ]
     },
     "execution_count": 102,
     "metadata": {},
     "output_type": "execute_result"
    }
   ],
   "source": [
    "monthly_total_user.head()"
   ]
  },
  {
   "cell_type": "code",
   "execution_count": 103,
   "metadata": {},
   "outputs": [],
   "source": [
    "# substituindo valores nulos por 0\n",
    "\n",
    "monthly_total_user = monthly_total_user.fillna(0)"
   ]
  },
  {
   "cell_type": "code",
   "execution_count": 104,
   "metadata": {
    "scrolled": true
   },
   "outputs": [
    {
     "data": {
      "text/html": [
       "<div>\n",
       "<style scoped>\n",
       "    .dataframe tbody tr th:only-of-type {\n",
       "        vertical-align: middle;\n",
       "    }\n",
       "\n",
       "    .dataframe tbody tr th {\n",
       "        vertical-align: top;\n",
       "    }\n",
       "\n",
       "    .dataframe thead th {\n",
       "        text-align: right;\n",
       "    }\n",
       "</style>\n",
       "<table border=\"1\" class=\"dataframe\">\n",
       "  <thead>\n",
       "    <tr style=\"text-align: right;\">\n",
       "      <th>month</th>\n",
       "      <th>2018-01</th>\n",
       "      <th>2018-02</th>\n",
       "      <th>2018-03</th>\n",
       "      <th>2018-04</th>\n",
       "      <th>2018-05</th>\n",
       "      <th>2018-06</th>\n",
       "      <th>2018-07</th>\n",
       "      <th>2018-08</th>\n",
       "      <th>2018-09</th>\n",
       "      <th>2018-10</th>\n",
       "      <th>2018-11</th>\n",
       "      <th>2018-12</th>\n",
       "    </tr>\n",
       "    <tr>\n",
       "      <th>user_id</th>\n",
       "      <th></th>\n",
       "      <th></th>\n",
       "      <th></th>\n",
       "      <th></th>\n",
       "      <th></th>\n",
       "      <th></th>\n",
       "      <th></th>\n",
       "      <th></th>\n",
       "      <th></th>\n",
       "      <th></th>\n",
       "      <th></th>\n",
       "      <th></th>\n",
       "    </tr>\n",
       "  </thead>\n",
       "  <tbody>\n",
       "    <tr>\n",
       "      <th>1495</th>\n",
       "      <td>0.0</td>\n",
       "      <td>0.0</td>\n",
       "      <td>0.0</td>\n",
       "      <td>0.0</td>\n",
       "      <td>0.0</td>\n",
       "      <td>0.0</td>\n",
       "      <td>0.0</td>\n",
       "      <td>0.0</td>\n",
       "      <td>100.0</td>\n",
       "      <td>143.3</td>\n",
       "      <td>120.0</td>\n",
       "      <td>110.0</td>\n",
       "    </tr>\n",
       "    <tr>\n",
       "      <th>1496</th>\n",
       "      <td>0.0</td>\n",
       "      <td>0.0</td>\n",
       "      <td>0.0</td>\n",
       "      <td>0.0</td>\n",
       "      <td>0.0</td>\n",
       "      <td>0.0</td>\n",
       "      <td>0.0</td>\n",
       "      <td>20.0</td>\n",
       "      <td>40.0</td>\n",
       "      <td>20.0</td>\n",
       "      <td>20.0</td>\n",
       "      <td>40.0</td>\n",
       "    </tr>\n",
       "    <tr>\n",
       "      <th>1497</th>\n",
       "      <td>0.0</td>\n",
       "      <td>0.0</td>\n",
       "      <td>0.0</td>\n",
       "      <td>0.0</td>\n",
       "      <td>0.0</td>\n",
       "      <td>0.0</td>\n",
       "      <td>0.0</td>\n",
       "      <td>0.0</td>\n",
       "      <td>0.0</td>\n",
       "      <td>0.0</td>\n",
       "      <td>0.0</td>\n",
       "      <td>70.0</td>\n",
       "    </tr>\n",
       "    <tr>\n",
       "      <th>1498</th>\n",
       "      <td>0.0</td>\n",
       "      <td>70.0</td>\n",
       "      <td>70.0</td>\n",
       "      <td>70.0</td>\n",
       "      <td>90.0</td>\n",
       "      <td>20.0</td>\n",
       "      <td>120.0</td>\n",
       "      <td>70.0</td>\n",
       "      <td>100.0</td>\n",
       "      <td>80.0</td>\n",
       "      <td>60.0</td>\n",
       "      <td>100.0</td>\n",
       "    </tr>\n",
       "    <tr>\n",
       "      <th>1499</th>\n",
       "      <td>0.0</td>\n",
       "      <td>0.0</td>\n",
       "      <td>0.0</td>\n",
       "      <td>0.0</td>\n",
       "      <td>0.0</td>\n",
       "      <td>0.0</td>\n",
       "      <td>0.0</td>\n",
       "      <td>0.0</td>\n",
       "      <td>20.0</td>\n",
       "      <td>70.0</td>\n",
       "      <td>40.0</td>\n",
       "      <td>90.0</td>\n",
       "    </tr>\n",
       "  </tbody>\n",
       "</table>\n",
       "</div>"
      ],
      "text/plain": [
       "month    2018-01  2018-02  2018-03  2018-04  2018-05  2018-06  2018-07  \\\n",
       "user_id                                                                  \n",
       "1495         0.0      0.0      0.0      0.0      0.0      0.0      0.0   \n",
       "1496         0.0      0.0      0.0      0.0      0.0      0.0      0.0   \n",
       "1497         0.0      0.0      0.0      0.0      0.0      0.0      0.0   \n",
       "1498         0.0     70.0     70.0     70.0     90.0     20.0    120.0   \n",
       "1499         0.0      0.0      0.0      0.0      0.0      0.0      0.0   \n",
       "\n",
       "month    2018-08  2018-09  2018-10  2018-11  2018-12  \n",
       "user_id                                               \n",
       "1495         0.0    100.0    143.3    120.0    110.0  \n",
       "1496        20.0     40.0     20.0     20.0     40.0  \n",
       "1497         0.0      0.0      0.0      0.0     70.0  \n",
       "1498        70.0    100.0     80.0     60.0    100.0  \n",
       "1499         0.0     20.0     70.0     40.0     90.0  "
      ]
     },
     "execution_count": 104,
     "metadata": {},
     "output_type": "execute_result"
    }
   ],
   "source": [
    "monthly_total_user.tail()"
   ]
  },
  {
   "cell_type": "markdown",
   "metadata": {},
   "source": [
    "## Estudar o comportamento do usuário"
   ]
  },
  {
   "cell_type": "markdown",
   "metadata": {},
   "source": [
    "### Chamadas"
   ]
  },
  {
   "cell_type": "code",
   "execution_count": 105,
   "metadata": {},
   "outputs": [
    {
     "data": {
      "text/html": [
       "<div>\n",
       "<style scoped>\n",
       "    .dataframe tbody tr th:only-of-type {\n",
       "        vertical-align: middle;\n",
       "    }\n",
       "\n",
       "    .dataframe tbody tr th {\n",
       "        vertical-align: top;\n",
       "    }\n",
       "\n",
       "    .dataframe thead th {\n",
       "        text-align: right;\n",
       "    }\n",
       "</style>\n",
       "<table border=\"1\" class=\"dataframe\">\n",
       "  <thead>\n",
       "    <tr style=\"text-align: right;\">\n",
       "      <th>month</th>\n",
       "      <th>2018-01</th>\n",
       "      <th>2018-02</th>\n",
       "      <th>2018-03</th>\n",
       "      <th>2018-04</th>\n",
       "      <th>2018-05</th>\n",
       "      <th>2018-06</th>\n",
       "      <th>2018-07</th>\n",
       "      <th>2018-08</th>\n",
       "      <th>2018-09</th>\n",
       "      <th>2018-10</th>\n",
       "      <th>2018-11</th>\n",
       "      <th>2018-12</th>\n",
       "    </tr>\n",
       "    <tr>\n",
       "      <th>plan</th>\n",
       "      <th></th>\n",
       "      <th></th>\n",
       "      <th></th>\n",
       "      <th></th>\n",
       "      <th></th>\n",
       "      <th></th>\n",
       "      <th></th>\n",
       "      <th></th>\n",
       "      <th></th>\n",
       "      <th></th>\n",
       "      <th></th>\n",
       "      <th></th>\n",
       "    </tr>\n",
       "  </thead>\n",
       "  <tbody>\n",
       "    <tr>\n",
       "      <th>surf</th>\n",
       "      <td>203.0</td>\n",
       "      <td>297.000000</td>\n",
       "      <td>330.00</td>\n",
       "      <td>351.540000</td>\n",
       "      <td>399.584416</td>\n",
       "      <td>431.298969</td>\n",
       "      <td>449.983471</td>\n",
       "      <td>410.111111</td>\n",
       "      <td>414.226804</td>\n",
       "      <td>429.729958</td>\n",
       "      <td>423.325088</td>\n",
       "      <td>473.836478</td>\n",
       "    </tr>\n",
       "    <tr>\n",
       "      <th>ultimate</th>\n",
       "      <td>193.5</td>\n",
       "      <td>403.142857</td>\n",
       "      <td>304.25</td>\n",
       "      <td>336.857143</td>\n",
       "      <td>406.241379</td>\n",
       "      <td>370.957447</td>\n",
       "      <td>427.067797</td>\n",
       "      <td>421.436620</td>\n",
       "      <td>437.511628</td>\n",
       "      <td>450.735849</td>\n",
       "      <td>445.196850</td>\n",
       "      <td>459.099338</td>\n",
       "    </tr>\n",
       "  </tbody>\n",
       "</table>\n",
       "</div>"
      ],
      "text/plain": [
       "month     2018-01     2018-02  2018-03     2018-04     2018-05     2018-06  \\\n",
       "plan                                                                         \n",
       "surf        203.0  297.000000   330.00  351.540000  399.584416  431.298969   \n",
       "ultimate    193.5  403.142857   304.25  336.857143  406.241379  370.957447   \n",
       "\n",
       "month        2018-07     2018-08     2018-09     2018-10     2018-11  \\\n",
       "plan                                                                   \n",
       "surf      449.983471  410.111111  414.226804  429.729958  423.325088   \n",
       "ultimate  427.067797  421.436620  437.511628  450.735849  445.196850   \n",
       "\n",
       "month        2018-12  \n",
       "plan                  \n",
       "surf      473.836478  \n",
       "ultimate  459.099338  "
      ]
     },
     "execution_count": 105,
     "metadata": {},
     "output_type": "execute_result"
    }
   ],
   "source": [
    "# Compare a duração média das ligações de cada plano para cada mês distinto. Faça um gráfico de barras para visualizá-lo.\n",
    "\n",
    "mean_month_duration = pd.pivot_table(merged_all_info, index='plan',  values='duration', columns='month', aggfunc='mean')\n",
    "\n",
    "mean_month_duration.head()"
   ]
  },
  {
   "cell_type": "code",
   "execution_count": 106,
   "metadata": {},
   "outputs": [
    {
     "data": {
      "image/png": "[encoded data removed]",
      "text/plain": [
       "<Figure size 864x576 with 1 Axes>"
      ]
     },
     "metadata": {
      "needs_background": "light"
     },
     "output_type": "display_data"
    }
   ],
   "source": [
    "# visualizando media mensal de duracao de chamadas entre todos os usuarios\n",
    "\n",
    "mean_month_duration.plot(kind='bar', figsize=(12,8))\n",
    "\n",
    "plt.title('Media de duração mensal')\n",
    "plt.ylabel('Média de duração')\n",
    "plt.xticks(rotation=0)\n",
    "plt.show()"
   ]
  },
  {
   "cell_type": "markdown",
   "metadata": {},
   "source": [
    "em uma analise de média mensal\n",
    "\n",
    "* Janeiro, uma pequena variação entre os planos, usuario do plano 'surf' consomem em média mais minutos.\n",
    "* Fevereiro, nesse mês é possível ver um grande salto nos usuarios do plano 'ultimate' comparado com 'surf' do mesmo mês eles consumiram em média mais que 100 minutos de diferença. E um grande salto também quando comparado com usuários do mesmo plano, porém o uso do mês anterior, uma diferença positiva de 210 minutos.\n",
    "* Março, usuários do plano surf voltam a consumir mais, porém a diferença é maior em apenas 26 minutos.\n",
    "* Abril, a tendência continua e usuários do surf gastam em média mais 15 minutos do que usuários do ultimate.\n",
    "* Maio, usuários do plano ultimate gastam mais do que o do surf, porém em apenas 7 minutos positivos.\n",
    "* Junho, novamente os usuários do surf gastam mais, em média 60 minutos mais que os usuários do ultimate. Sendo até agora o mês com a maior média.\n",
    "* Julho, primeira vez que usuários dos dois planos gastam em média mais de 400 minutos. Usuários do surf gastam em média mais 22 minutos do que usuários do ultimate.\n",
    "* Agosto, usuários do ultimate gastam mais do que os do plano surf por 11 minutos. Médias continuam acima dos 400.\n",
    "* Setembro, ultima gastam mais em média novamente, agora por 23 minutos.\n",
    "* Outubro, segue a tendência dos ultimos meses e usuários do ultimate gastam em média 21 minutos mais. Valor médio de minutos ultrapassa os 450.\n",
    "* Novembro, parecido resultado com o mês anterior, ultimate gastam em média mais 22 minutos.\n",
    "* Dezembro, esse é o mês em que os usuários gastam mais, e os usuários do surf voltam a gastar mais e batem o recorde de média de minutos por mês com 473 e os usuarios do ultimate batem os 459 minutos.\n",
    "\n"
   ]
  },
  {
   "cell_type": "markdown",
   "metadata": {},
   "source": [
    "em uma análise geral, é claramente visivel que conforme o decorrer do ano os usuários gastam mais minutos, tendo picos em Julho e Dezembro, talvez por serem meses relacionados a férias e comemorações, talvez exista uma demanda maior por contactar familiaries e amigos que moram longe."
   ]
  },
  {
   "cell_type": "code",
   "execution_count": 107,
   "metadata": {
    "scrolled": true
   },
   "outputs": [
    {
     "data": {
      "text/html": [
       "<div>\n",
       "<style scoped>\n",
       "    .dataframe tbody tr th:only-of-type {\n",
       "        vertical-align: middle;\n",
       "    }\n",
       "\n",
       "    .dataframe tbody tr th {\n",
       "        vertical-align: top;\n",
       "    }\n",
       "\n",
       "    .dataframe thead th {\n",
       "        text-align: right;\n",
       "    }\n",
       "</style>\n",
       "<table border=\"1\" class=\"dataframe\">\n",
       "  <thead>\n",
       "    <tr style=\"text-align: right;\">\n",
       "      <th>month</th>\n",
       "      <th>2018-01</th>\n",
       "      <th>2018-02</th>\n",
       "      <th>2018-03</th>\n",
       "      <th>2018-04</th>\n",
       "      <th>2018-05</th>\n",
       "      <th>2018-06</th>\n",
       "      <th>2018-07</th>\n",
       "      <th>2018-08</th>\n",
       "      <th>2018-09</th>\n",
       "      <th>2018-10</th>\n",
       "      <th>2018-11</th>\n",
       "      <th>2018-12</th>\n",
       "    </tr>\n",
       "  </thead>\n",
       "  <tbody>\n",
       "    <tr>\n",
       "      <th>count</th>\n",
       "      <td>2.000000</td>\n",
       "      <td>2.00000</td>\n",
       "      <td>2.000000</td>\n",
       "      <td>2.000000</td>\n",
       "      <td>2.000000</td>\n",
       "      <td>2.000000</td>\n",
       "      <td>2.000000</td>\n",
       "      <td>2.000000</td>\n",
       "      <td>2.000000</td>\n",
       "      <td>2.000000</td>\n",
       "      <td>2.000000</td>\n",
       "      <td>2.00000</td>\n",
       "    </tr>\n",
       "    <tr>\n",
       "      <th>mean</th>\n",
       "      <td>590.000000</td>\n",
       "      <td>2747.50000</td>\n",
       "      <td>5620.500000</td>\n",
       "      <td>12325.500000</td>\n",
       "      <td>21274.500000</td>\n",
       "      <td>29635.500000</td>\n",
       "      <td>39822.500000</td>\n",
       "      <td>48180.000000</td>\n",
       "      <td>58993.000000</td>\n",
       "      <td>74812.000000</td>\n",
       "      <td>88170.500000</td>\n",
       "      <td>110002.00000</td>\n",
       "    </tr>\n",
       "    <tr>\n",
       "      <th>std</th>\n",
       "      <td>260.215295</td>\n",
       "      <td>105.35891</td>\n",
       "      <td>2785.293611</td>\n",
       "      <td>7426.742523</td>\n",
       "      <td>13425.836454</td>\n",
       "      <td>17254.112568</td>\n",
       "      <td>20683.580456</td>\n",
       "      <td>25820.711222</td>\n",
       "      <td>30217.501187</td>\n",
       "      <td>38231.849445</td>\n",
       "      <td>44732.282085</td>\n",
       "      <td>57527.37929</td>\n",
       "    </tr>\n",
       "    <tr>\n",
       "      <th>min</th>\n",
       "      <td>406.000000</td>\n",
       "      <td>2673.00000</td>\n",
       "      <td>3651.000000</td>\n",
       "      <td>7074.000000</td>\n",
       "      <td>11781.000000</td>\n",
       "      <td>17435.000000</td>\n",
       "      <td>25197.000000</td>\n",
       "      <td>29922.000000</td>\n",
       "      <td>37626.000000</td>\n",
       "      <td>47778.000000</td>\n",
       "      <td>56540.000000</td>\n",
       "      <td>69324.00000</td>\n",
       "    </tr>\n",
       "    <tr>\n",
       "      <th>25%</th>\n",
       "      <td>498.000000</td>\n",
       "      <td>2710.25000</td>\n",
       "      <td>4635.750000</td>\n",
       "      <td>9699.750000</td>\n",
       "      <td>16527.750000</td>\n",
       "      <td>23535.250000</td>\n",
       "      <td>32509.750000</td>\n",
       "      <td>39051.000000</td>\n",
       "      <td>48309.500000</td>\n",
       "      <td>61295.000000</td>\n",
       "      <td>72355.250000</td>\n",
       "      <td>89663.00000</td>\n",
       "    </tr>\n",
       "    <tr>\n",
       "      <th>50%</th>\n",
       "      <td>590.000000</td>\n",
       "      <td>2747.50000</td>\n",
       "      <td>5620.500000</td>\n",
       "      <td>12325.500000</td>\n",
       "      <td>21274.500000</td>\n",
       "      <td>29635.500000</td>\n",
       "      <td>39822.500000</td>\n",
       "      <td>48180.000000</td>\n",
       "      <td>58993.000000</td>\n",
       "      <td>74812.000000</td>\n",
       "      <td>88170.500000</td>\n",
       "      <td>110002.00000</td>\n",
       "    </tr>\n",
       "    <tr>\n",
       "      <th>75%</th>\n",
       "      <td>682.000000</td>\n",
       "      <td>2784.75000</td>\n",
       "      <td>6605.250000</td>\n",
       "      <td>14951.250000</td>\n",
       "      <td>26021.250000</td>\n",
       "      <td>35735.750000</td>\n",
       "      <td>47135.250000</td>\n",
       "      <td>57309.000000</td>\n",
       "      <td>69676.500000</td>\n",
       "      <td>88329.000000</td>\n",
       "      <td>103985.750000</td>\n",
       "      <td>130341.00000</td>\n",
       "    </tr>\n",
       "    <tr>\n",
       "      <th>max</th>\n",
       "      <td>774.000000</td>\n",
       "      <td>2822.00000</td>\n",
       "      <td>7590.000000</td>\n",
       "      <td>17577.000000</td>\n",
       "      <td>30768.000000</td>\n",
       "      <td>41836.000000</td>\n",
       "      <td>54448.000000</td>\n",
       "      <td>66438.000000</td>\n",
       "      <td>80360.000000</td>\n",
       "      <td>101846.000000</td>\n",
       "      <td>119801.000000</td>\n",
       "      <td>150680.00000</td>\n",
       "    </tr>\n",
       "  </tbody>\n",
       "</table>\n",
       "</div>"
      ],
      "text/plain": [
       "month     2018-01     2018-02      2018-03       2018-04       2018-05  \\\n",
       "count    2.000000     2.00000     2.000000      2.000000      2.000000   \n",
       "mean   590.000000  2747.50000  5620.500000  12325.500000  21274.500000   \n",
       "std    260.215295   105.35891  2785.293611   7426.742523  13425.836454   \n",
       "min    406.000000  2673.00000  3651.000000   7074.000000  11781.000000   \n",
       "25%    498.000000  2710.25000  4635.750000   9699.750000  16527.750000   \n",
       "50%    590.000000  2747.50000  5620.500000  12325.500000  21274.500000   \n",
       "75%    682.000000  2784.75000  6605.250000  14951.250000  26021.250000   \n",
       "max    774.000000  2822.00000  7590.000000  17577.000000  30768.000000   \n",
       "\n",
       "month       2018-06       2018-07       2018-08       2018-09        2018-10  \\\n",
       "count      2.000000      2.000000      2.000000      2.000000       2.000000   \n",
       "mean   29635.500000  39822.500000  48180.000000  58993.000000   74812.000000   \n",
       "std    17254.112568  20683.580456  25820.711222  30217.501187   38231.849445   \n",
       "min    17435.000000  25197.000000  29922.000000  37626.000000   47778.000000   \n",
       "25%    23535.250000  32509.750000  39051.000000  48309.500000   61295.000000   \n",
       "50%    29635.500000  39822.500000  48180.000000  58993.000000   74812.000000   \n",
       "75%    35735.750000  47135.250000  57309.000000  69676.500000   88329.000000   \n",
       "max    41836.000000  54448.000000  66438.000000  80360.000000  101846.000000   \n",
       "\n",
       "month        2018-11       2018-12  \n",
       "count       2.000000       2.00000  \n",
       "mean    88170.500000  110002.00000  \n",
       "std     44732.282085   57527.37929  \n",
       "min     56540.000000   69324.00000  \n",
       "25%     72355.250000   89663.00000  \n",
       "50%     88170.500000  110002.00000  \n",
       "75%    103985.750000  130341.00000  \n",
       "max    119801.000000  150680.00000  "
      ]
     },
     "execution_count": 107,
     "metadata": {},
     "output_type": "execute_result"
    }
   ],
   "source": [
    "# criando tabela dinamica com a soma da duração das chamadas\n",
    "\n",
    "total_duration_month = pd.pivot_table(merged_all_info, index='plan', values='duration', columns='month', aggfunc='sum')\n",
    "\n",
    "total_duration_month.describe()"
   ]
  },
  {
   "cell_type": "code",
   "execution_count": 108,
   "metadata": {},
   "outputs": [
    {
     "data": {
      "text/html": [
       "<div>\n",
       "<style scoped>\n",
       "    .dataframe tbody tr th:only-of-type {\n",
       "        vertical-align: middle;\n",
       "    }\n",
       "\n",
       "    .dataframe tbody tr th {\n",
       "        vertical-align: top;\n",
       "    }\n",
       "\n",
       "    .dataframe thead th {\n",
       "        text-align: right;\n",
       "    }\n",
       "</style>\n",
       "<table border=\"1\" class=\"dataframe\">\n",
       "  <thead>\n",
       "    <tr style=\"text-align: right;\">\n",
       "      <th>month</th>\n",
       "      <th>2018-01</th>\n",
       "      <th>2018-02</th>\n",
       "      <th>2018-03</th>\n",
       "      <th>2018-04</th>\n",
       "      <th>2018-05</th>\n",
       "      <th>2018-06</th>\n",
       "      <th>2018-07</th>\n",
       "      <th>2018-08</th>\n",
       "      <th>2018-09</th>\n",
       "      <th>2018-10</th>\n",
       "      <th>2018-11</th>\n",
       "      <th>2018-12</th>\n",
       "    </tr>\n",
       "    <tr>\n",
       "      <th>plan</th>\n",
       "      <th></th>\n",
       "      <th></th>\n",
       "      <th></th>\n",
       "      <th></th>\n",
       "      <th></th>\n",
       "      <th></th>\n",
       "      <th></th>\n",
       "      <th></th>\n",
       "      <th></th>\n",
       "      <th></th>\n",
       "      <th></th>\n",
       "      <th></th>\n",
       "    </tr>\n",
       "  </thead>\n",
       "  <tbody>\n",
       "    <tr>\n",
       "      <th>surf</th>\n",
       "      <td>406.0</td>\n",
       "      <td>2673.0</td>\n",
       "      <td>7590.0</td>\n",
       "      <td>17577.0</td>\n",
       "      <td>30768.0</td>\n",
       "      <td>41836.0</td>\n",
       "      <td>54448.0</td>\n",
       "      <td>66438.0</td>\n",
       "      <td>80360.0</td>\n",
       "      <td>101846.0</td>\n",
       "      <td>119801.0</td>\n",
       "      <td>150680.0</td>\n",
       "    </tr>\n",
       "    <tr>\n",
       "      <th>ultimate</th>\n",
       "      <td>774.0</td>\n",
       "      <td>2822.0</td>\n",
       "      <td>3651.0</td>\n",
       "      <td>7074.0</td>\n",
       "      <td>11781.0</td>\n",
       "      <td>17435.0</td>\n",
       "      <td>25197.0</td>\n",
       "      <td>29922.0</td>\n",
       "      <td>37626.0</td>\n",
       "      <td>47778.0</td>\n",
       "      <td>56540.0</td>\n",
       "      <td>69324.0</td>\n",
       "    </tr>\n",
       "  </tbody>\n",
       "</table>\n",
       "</div>"
      ],
      "text/plain": [
       "month     2018-01  2018-02  2018-03  2018-04  2018-05  2018-06  2018-07  \\\n",
       "plan                                                                      \n",
       "surf        406.0   2673.0   7590.0  17577.0  30768.0  41836.0  54448.0   \n",
       "ultimate    774.0   2822.0   3651.0   7074.0  11781.0  17435.0  25197.0   \n",
       "\n",
       "month     2018-08  2018-09   2018-10   2018-11   2018-12  \n",
       "plan                                                      \n",
       "surf      66438.0  80360.0  101846.0  119801.0  150680.0  \n",
       "ultimate  29922.0  37626.0   47778.0   56540.0   69324.0  "
      ]
     },
     "execution_count": 108,
     "metadata": {},
     "output_type": "execute_result"
    }
   ],
   "source": [
    "total_duration_month.head()"
   ]
  },
  {
   "cell_type": "code",
   "execution_count": 109,
   "metadata": {},
   "outputs": [
    {
     "data": {
      "image/png": "[encoded data removed]",
      "text/plain": [
       "<Figure size 864x576 with 1 Axes>"
      ]
     },
     "metadata": {
      "needs_background": "light"
     },
     "output_type": "display_data"
    }
   ],
   "source": [
    "# plotando soma mensal de duração das chamadas por plano\n",
    "\n",
    "total_duration_month.plot(kind='bar', figsize=(12,8))\n",
    "\n",
    "plt.title('Soma Mensal de Duração')\n",
    "plt.ylabel('Soma de Duração')\n",
    "plt.xticks(rotation=0)\n",
    "plt.show()"
   ]
  },
  {
   "cell_type": "markdown",
   "metadata": {},
   "source": [
    "Claramente, visualizamos que usuários do plano surf consomem muito mais minutos no total por mês, a partir do mês de Março se torna muito evidente o salto. Também vemos melhor a tendência de gastarem mais minutos conforme o ano vai passado, atingindo o pico de uso em Dezembro."
   ]
  },
  {
   "cell_type": "code",
   "execution_count": 110,
   "metadata": {},
   "outputs": [
    {
     "data": {
      "text/html": [
       "<div>\n",
       "<style scoped>\n",
       "    .dataframe tbody tr th:only-of-type {\n",
       "        vertical-align: middle;\n",
       "    }\n",
       "\n",
       "    .dataframe tbody tr th {\n",
       "        vertical-align: top;\n",
       "    }\n",
       "\n",
       "    .dataframe thead th {\n",
       "        text-align: right;\n",
       "    }\n",
       "</style>\n",
       "<table border=\"1\" class=\"dataframe\">\n",
       "  <thead>\n",
       "    <tr style=\"text-align: right;\">\n",
       "      <th></th>\n",
       "      <th>mean</th>\n",
       "      <th>std</th>\n",
       "    </tr>\n",
       "    <tr>\n",
       "      <th>plan</th>\n",
       "      <th></th>\n",
       "      <th></th>\n",
       "    </tr>\n",
       "  </thead>\n",
       "  <tbody>\n",
       "    <tr>\n",
       "      <th>surf</th>\n",
       "      <td>428.749523</td>\n",
       "      <td>234.453150</td>\n",
       "    </tr>\n",
       "    <tr>\n",
       "      <th>ultimate</th>\n",
       "      <td>430.450000</td>\n",
       "      <td>240.508762</td>\n",
       "    </tr>\n",
       "  </tbody>\n",
       "</table>\n",
       "</div>"
      ],
      "text/plain": [
       "                mean         std\n",
       "plan                            \n",
       "surf      428.749523  234.453150\n",
       "ultimate  430.450000  240.508762"
      ]
     },
     "execution_count": 110,
     "metadata": {},
     "output_type": "execute_result"
    }
   ],
   "source": [
    "# calculanto media e variacao\n",
    "\n",
    "merged_all_info.groupby('plan')['duration'].agg(['mean' ,'std'])"
   ]
  },
  {
   "cell_type": "code",
   "execution_count": 111,
   "metadata": {},
   "outputs": [
    {
     "data": {
      "text/html": [
       "<div>\n",
       "<style scoped>\n",
       "    .dataframe tbody tr th:only-of-type {\n",
       "        vertical-align: middle;\n",
       "    }\n",
       "\n",
       "    .dataframe tbody tr th {\n",
       "        vertical-align: top;\n",
       "    }\n",
       "\n",
       "    .dataframe thead th {\n",
       "        text-align: right;\n",
       "    }\n",
       "</style>\n",
       "<table border=\"1\" class=\"dataframe\">\n",
       "  <thead>\n",
       "    <tr style=\"text-align: right;\">\n",
       "      <th></th>\n",
       "      <th></th>\n",
       "      <th>mean</th>\n",
       "      <th>std</th>\n",
       "    </tr>\n",
       "    <tr>\n",
       "      <th>month</th>\n",
       "      <th>plan</th>\n",
       "      <th></th>\n",
       "      <th></th>\n",
       "    </tr>\n",
       "  </thead>\n",
       "  <tbody>\n",
       "    <tr>\n",
       "      <th rowspan=\"2\" valign=\"top\">2018-01</th>\n",
       "      <th>surf</th>\n",
       "      <td>203.000000</td>\n",
       "      <td>125.865007</td>\n",
       "    </tr>\n",
       "    <tr>\n",
       "      <th>ultimate</th>\n",
       "      <td>193.500000</td>\n",
       "      <td>128.733575</td>\n",
       "    </tr>\n",
       "    <tr>\n",
       "      <th rowspan=\"2\" valign=\"top\">2018-02</th>\n",
       "      <th>surf</th>\n",
       "      <td>297.000000</td>\n",
       "      <td>228.531179</td>\n",
       "    </tr>\n",
       "    <tr>\n",
       "      <th>ultimate</th>\n",
       "      <td>403.142857</td>\n",
       "      <td>277.289517</td>\n",
       "    </tr>\n",
       "    <tr>\n",
       "      <th rowspan=\"2\" valign=\"top\">2018-03</th>\n",
       "      <th>surf</th>\n",
       "      <td>330.000000</td>\n",
       "      <td>189.233622</td>\n",
       "    </tr>\n",
       "    <tr>\n",
       "      <th>ultimate</th>\n",
       "      <td>304.250000</td>\n",
       "      <td>248.967732</td>\n",
       "    </tr>\n",
       "    <tr>\n",
       "      <th rowspan=\"2\" valign=\"top\">2018-04</th>\n",
       "      <th>surf</th>\n",
       "      <td>351.540000</td>\n",
       "      <td>225.536567</td>\n",
       "    </tr>\n",
       "    <tr>\n",
       "      <th>ultimate</th>\n",
       "      <td>336.857143</td>\n",
       "      <td>186.785783</td>\n",
       "    </tr>\n",
       "    <tr>\n",
       "      <th rowspan=\"2\" valign=\"top\">2018-05</th>\n",
       "      <th>surf</th>\n",
       "      <td>399.584416</td>\n",
       "      <td>244.446763</td>\n",
       "    </tr>\n",
       "    <tr>\n",
       "      <th>ultimate</th>\n",
       "      <td>406.241379</td>\n",
       "      <td>209.382537</td>\n",
       "    </tr>\n",
       "    <tr>\n",
       "      <th rowspan=\"2\" valign=\"top\">2018-06</th>\n",
       "      <th>surf</th>\n",
       "      <td>431.298969</td>\n",
       "      <td>213.524304</td>\n",
       "    </tr>\n",
       "    <tr>\n",
       "      <th>ultimate</th>\n",
       "      <td>370.957447</td>\n",
       "      <td>206.163924</td>\n",
       "    </tr>\n",
       "    <tr>\n",
       "      <th rowspan=\"2\" valign=\"top\">2018-07</th>\n",
       "      <th>surf</th>\n",
       "      <td>449.983471</td>\n",
       "      <td>246.992105</td>\n",
       "    </tr>\n",
       "    <tr>\n",
       "      <th>ultimate</th>\n",
       "      <td>427.067797</td>\n",
       "      <td>269.375898</td>\n",
       "    </tr>\n",
       "    <tr>\n",
       "      <th rowspan=\"2\" valign=\"top\">2018-08</th>\n",
       "      <th>surf</th>\n",
       "      <td>410.111111</td>\n",
       "      <td>233.119381</td>\n",
       "    </tr>\n",
       "    <tr>\n",
       "      <th>ultimate</th>\n",
       "      <td>421.436620</td>\n",
       "      <td>231.614997</td>\n",
       "    </tr>\n",
       "    <tr>\n",
       "      <th rowspan=\"2\" valign=\"top\">2018-09</th>\n",
       "      <th>surf</th>\n",
       "      <td>414.226804</td>\n",
       "      <td>215.860971</td>\n",
       "    </tr>\n",
       "    <tr>\n",
       "      <th>ultimate</th>\n",
       "      <td>437.511628</td>\n",
       "      <td>238.894254</td>\n",
       "    </tr>\n",
       "    <tr>\n",
       "      <th rowspan=\"2\" valign=\"top\">2018-10</th>\n",
       "      <th>surf</th>\n",
       "      <td>429.729958</td>\n",
       "      <td>228.645280</td>\n",
       "    </tr>\n",
       "    <tr>\n",
       "      <th>ultimate</th>\n",
       "      <td>450.735849</td>\n",
       "      <td>232.941861</td>\n",
       "    </tr>\n",
       "    <tr>\n",
       "      <th rowspan=\"2\" valign=\"top\">2018-11</th>\n",
       "      <th>surf</th>\n",
       "      <td>423.325088</td>\n",
       "      <td>227.171789</td>\n",
       "    </tr>\n",
       "    <tr>\n",
       "      <th>ultimate</th>\n",
       "      <td>445.196850</td>\n",
       "      <td>246.156907</td>\n",
       "    </tr>\n",
       "    <tr>\n",
       "      <th rowspan=\"2\" valign=\"top\">2018-12</th>\n",
       "      <th>surf</th>\n",
       "      <td>473.836478</td>\n",
       "      <td>252.248923</td>\n",
       "    </tr>\n",
       "    <tr>\n",
       "      <th>ultimate</th>\n",
       "      <td>459.099338</td>\n",
       "      <td>250.007567</td>\n",
       "    </tr>\n",
       "  </tbody>\n",
       "</table>\n",
       "</div>"
      ],
      "text/plain": [
       "                        mean         std\n",
       "month   plan                            \n",
       "2018-01 surf      203.000000  125.865007\n",
       "        ultimate  193.500000  128.733575\n",
       "2018-02 surf      297.000000  228.531179\n",
       "        ultimate  403.142857  277.289517\n",
       "2018-03 surf      330.000000  189.233622\n",
       "        ultimate  304.250000  248.967732\n",
       "2018-04 surf      351.540000  225.536567\n",
       "        ultimate  336.857143  186.785783\n",
       "2018-05 surf      399.584416  244.446763\n",
       "        ultimate  406.241379  209.382537\n",
       "2018-06 surf      431.298969  213.524304\n",
       "        ultimate  370.957447  206.163924\n",
       "2018-07 surf      449.983471  246.992105\n",
       "        ultimate  427.067797  269.375898\n",
       "2018-08 surf      410.111111  233.119381\n",
       "        ultimate  421.436620  231.614997\n",
       "2018-09 surf      414.226804  215.860971\n",
       "        ultimate  437.511628  238.894254\n",
       "2018-10 surf      429.729958  228.645280\n",
       "        ultimate  450.735849  232.941861\n",
       "2018-11 surf      423.325088  227.171789\n",
       "        ultimate  445.196850  246.156907\n",
       "2018-12 surf      473.836478  252.248923\n",
       "        ultimate  459.099338  250.007567"
      ]
     },
     "execution_count": 111,
     "metadata": {},
     "output_type": "execute_result"
    }
   ],
   "source": [
    "# agruapando os a media por mes de consumo e o desvio padrão\n",
    "\n",
    "merged_all_info.groupby(['month', 'plan'])['duration'].agg(['mean' ,'std'])"
   ]
  },
  {
   "cell_type": "code",
   "execution_count": 112,
   "metadata": {},
   "outputs": [],
   "source": [
    "# filtrando dados por plano surf\n",
    "\n",
    "surf_merged_filter = merged_all_info.query('plan == \"surf\"')"
   ]
  },
  {
   "cell_type": "code",
   "execution_count": 113,
   "metadata": {},
   "outputs": [
    {
     "data": {
      "image/png": "[encoded data removed]",
      "text/plain": [
       "<Figure size 720x432 with 1 Axes>"
      ]
     },
     "metadata": {
      "needs_background": "light"
     },
     "output_type": "display_data"
    }
   ],
   "source": [
    "# plotando distribuição mensal da duração das chamadas dos clientes 'surf'\n",
    "\n",
    "plt.figure(figsize=(10, 6))\n",
    "sns.boxplot(data=surf_merged_filter, x='month', y='duration')\n",
    "plt.title('Distribuição mensal de duração Surf')\n",
    "plt.xlabel('Month')\n",
    "plt.ylabel('Duration')\n",
    "plt.xticks(rotation=45)\n",
    "plt.show()"
   ]
  },
  {
   "cell_type": "markdown",
   "metadata": {},
   "source": [
    "Notamos uma quantidade relevante de outliers nos dados dos usuarios do plano surf. As medianas para os primeiros 7 meses do ano sao similares."
   ]
  },
  {
   "cell_type": "code",
   "execution_count": 114,
   "metadata": {},
   "outputs": [],
   "source": [
    "# filtrando dadaos por plano 'ultimate'\n",
    "\n",
    "ultimate_merged_filter = merged_all_info.query('plan == \"ultimate\"')"
   ]
  },
  {
   "cell_type": "code",
   "execution_count": 115,
   "metadata": {},
   "outputs": [
    {
     "data": {
      "image/png": "[encoded data removed]",
      "text/plain": [
       "<Figure size 720x432 with 1 Axes>"
      ]
     },
     "metadata": {
      "needs_background": "light"
     },
     "output_type": "display_data"
    }
   ],
   "source": [
    "# plotando distribuição mensal da duração das chamadas dos clientes 'ultimate'\n",
    "\n",
    "\n",
    "plt.figure(figsize=(10, 6))\n",
    "sns.boxplot(data=ultimate_merged_filter, x='month', y='duration')\n",
    "plt.title('Distribuição mensal de duração Ultimate')\n",
    "plt.xlabel('Month')\n",
    "plt.ylabel('Duration')\n",
    "plt.xticks(rotation=45) \n",
    "plt.show()\n"
   ]
  },
  {
   "cell_type": "markdown",
   "metadata": {},
   "source": [
    "Observamos uma quantidade menor de outliers entre os usuários do plano ultimate comparado com os usuarios do plano surf. Também é possível notal que a mediana dos primeiros 7 meses do ano são similares e maiores do que as medianas do plano surf dos respectivos meses."
   ]
  },
  {
   "cell_type": "markdown",
   "metadata": {},
   "source": [
    " "
   ]
  },
  {
   "cell_type": "markdown",
   "metadata": {},
   "source": [
    "### Mensagens"
   ]
  },
  {
   "cell_type": "code",
   "execution_count": 116,
   "metadata": {},
   "outputs": [
    {
     "data": {
      "text/html": [
       "<div>\n",
       "<style scoped>\n",
       "    .dataframe tbody tr th:only-of-type {\n",
       "        vertical-align: middle;\n",
       "    }\n",
       "\n",
       "    .dataframe tbody tr th {\n",
       "        vertical-align: top;\n",
       "    }\n",
       "\n",
       "    .dataframe thead th {\n",
       "        text-align: right;\n",
       "    }\n",
       "</style>\n",
       "<table border=\"1\" class=\"dataframe\">\n",
       "  <thead>\n",
       "    <tr style=\"text-align: right;\">\n",
       "      <th>month</th>\n",
       "      <th>2018-01</th>\n",
       "      <th>2018-02</th>\n",
       "      <th>2018-03</th>\n",
       "      <th>2018-04</th>\n",
       "      <th>2018-05</th>\n",
       "      <th>2018-06</th>\n",
       "      <th>2018-07</th>\n",
       "      <th>2018-08</th>\n",
       "      <th>2018-09</th>\n",
       "      <th>2018-10</th>\n",
       "      <th>2018-11</th>\n",
       "      <th>2018-12</th>\n",
       "    </tr>\n",
       "    <tr>\n",
       "      <th>plan</th>\n",
       "      <th></th>\n",
       "      <th></th>\n",
       "      <th></th>\n",
       "      <th></th>\n",
       "      <th></th>\n",
       "      <th></th>\n",
       "      <th></th>\n",
       "      <th></th>\n",
       "      <th></th>\n",
       "      <th></th>\n",
       "      <th></th>\n",
       "      <th></th>\n",
       "    </tr>\n",
       "  </thead>\n",
       "  <tbody>\n",
       "    <tr>\n",
       "      <th>surf</th>\n",
       "      <td>10.5</td>\n",
       "      <td>12.000000</td>\n",
       "      <td>15.26087</td>\n",
       "      <td>17.400000</td>\n",
       "      <td>24.012987</td>\n",
       "      <td>25.298969</td>\n",
       "      <td>27.033058</td>\n",
       "      <td>28.777778</td>\n",
       "      <td>30.762887</td>\n",
       "      <td>33.839662</td>\n",
       "      <td>32.385159</td>\n",
       "      <td>38.600629</td>\n",
       "    </tr>\n",
       "    <tr>\n",
       "      <th>ultimate</th>\n",
       "      <td>15.5</td>\n",
       "      <td>21.571429</td>\n",
       "      <td>20.25000</td>\n",
       "      <td>22.047619</td>\n",
       "      <td>32.103448</td>\n",
       "      <td>29.340426</td>\n",
       "      <td>32.830508</td>\n",
       "      <td>38.478873</td>\n",
       "      <td>37.895349</td>\n",
       "      <td>39.443396</td>\n",
       "      <td>38.606299</td>\n",
       "      <td>45.006623</td>\n",
       "    </tr>\n",
       "  </tbody>\n",
       "</table>\n",
       "</div>"
      ],
      "text/plain": [
       "month     2018-01    2018-02   2018-03    2018-04    2018-05    2018-06  \\\n",
       "plan                                                                      \n",
       "surf         10.5  12.000000  15.26087  17.400000  24.012987  25.298969   \n",
       "ultimate     15.5  21.571429  20.25000  22.047619  32.103448  29.340426   \n",
       "\n",
       "month       2018-07    2018-08    2018-09    2018-10    2018-11    2018-12  \n",
       "plan                                                                        \n",
       "surf      27.033058  28.777778  30.762887  33.839662  32.385159  38.600629  \n",
       "ultimate  32.830508  38.478873  37.895349  39.443396  38.606299  45.006623  "
      ]
     },
     "execution_count": 116,
     "metadata": {},
     "output_type": "execute_result"
    }
   ],
   "source": [
    "# Compare o número de mensagens que os usuários de cada plano tendem a enviar a cada mês\n",
    "\n",
    "mean_messages_plan = pd.pivot_table(merged_all_info, index='plan', columns= 'month', values='msg_count', aggfunc='mean')\n",
    "\n",
    "mean_messages_plan.head()\n"
   ]
  },
  {
   "cell_type": "code",
   "execution_count": 117,
   "metadata": {},
   "outputs": [
    {
     "data": {
      "image/png": "[encoded data removed]",
      "text/plain": [
       "<Figure size 864x576 with 1 Axes>"
      ]
     },
     "metadata": {
      "needs_background": "light"
     },
     "output_type": "display_data"
    }
   ],
   "source": [
    "# visualizando média mensal de duração de mensagens por mês entre todos os usuarios\n",
    "\n",
    "mean_messages_plan.plot(kind='bar', figsize=(12,8))\n",
    "\n",
    "plt.title('Média de mensagens por mês')\n",
    "plt.ylabel('Mensagens')\n",
    "plt.xticks(rotation=0)\n",
    "plt.show()\n"
   ]
  },
  {
   "cell_type": "markdown",
   "metadata": {},
   "source": [
    "em uma analise de média mensal\n",
    "\n",
    "* Janeiro, usuários do plano ultimate gastam mais em janeiro.\n",
    "* Fevereiro, novamente em fevereiro. Porém com uma mpedia de 9 mensagens a mais do que os usuários do plano surf. \n",
    "* Março, ultimate novamente consome mais porém a diferença agora cai para apenas 5 mensagens a mais.\n",
    "* Abril, a diferença aumenta e temos mais usuários do plano ultimate novamente usando mais o serviço.\n",
    "* Maio, usuários do plano ultimate gastam mais do que o do surf, a diferença aumenta para mais de 8 mensagens na média.\n",
    "* Junho, usuários do ultimate gastam menos que o mês anterior e a diferença diminue entre para apenas 4 mensagens.\n",
    "* Julho, ultimate retomam a media de dois meses anteriores e usuários do plano surf alcançam a maior média de mensagens até agora.\n",
    "* Agosto, a tendência segue e nesse mÊs ultimate gastoou em média mais que 10 mensagens do que os usuários do plano surf.\n",
    "* Setembro, usuários dos dois planos ultrapassam a barreira das 30 mensagens médias por mês. Ultimate ainda gasta mais.\n",
    "* Outubro, ultimate ainda gastam mais porém não há muita diferença comparada com o mês anterior.\n",
    "* Novembro, muito similar ao mês anterior.\n",
    "* Dezembro, mês em que os usuários alcançam a maior das médias por mês.\n",
    "\n",
    "Clientes do plano ultimate mandam mais mensagens do que clientes do plano surf."
   ]
  },
  {
   "cell_type": "code",
   "execution_count": 118,
   "metadata": {},
   "outputs": [
    {
     "data": {
      "text/html": [
       "<div>\n",
       "<style scoped>\n",
       "    .dataframe tbody tr th:only-of-type {\n",
       "        vertical-align: middle;\n",
       "    }\n",
       "\n",
       "    .dataframe tbody tr th {\n",
       "        vertical-align: top;\n",
       "    }\n",
       "\n",
       "    .dataframe thead th {\n",
       "        text-align: right;\n",
       "    }\n",
       "</style>\n",
       "<table border=\"1\" class=\"dataframe\">\n",
       "  <thead>\n",
       "    <tr style=\"text-align: right;\">\n",
       "      <th>month</th>\n",
       "      <th>2018-01</th>\n",
       "      <th>2018-02</th>\n",
       "      <th>2018-03</th>\n",
       "      <th>2018-04</th>\n",
       "      <th>2018-05</th>\n",
       "      <th>2018-06</th>\n",
       "      <th>2018-07</th>\n",
       "      <th>2018-08</th>\n",
       "      <th>2018-09</th>\n",
       "      <th>2018-10</th>\n",
       "      <th>2018-11</th>\n",
       "      <th>2018-12</th>\n",
       "    </tr>\n",
       "    <tr>\n",
       "      <th>plan</th>\n",
       "      <th></th>\n",
       "      <th></th>\n",
       "      <th></th>\n",
       "      <th></th>\n",
       "      <th></th>\n",
       "      <th></th>\n",
       "      <th></th>\n",
       "      <th></th>\n",
       "      <th></th>\n",
       "      <th></th>\n",
       "      <th></th>\n",
       "      <th></th>\n",
       "    </tr>\n",
       "  </thead>\n",
       "  <tbody>\n",
       "    <tr>\n",
       "      <th>surf</th>\n",
       "      <td>21.0</td>\n",
       "      <td>108.0</td>\n",
       "      <td>351.0</td>\n",
       "      <td>870.0</td>\n",
       "      <td>1849.0</td>\n",
       "      <td>2454.0</td>\n",
       "      <td>3271.0</td>\n",
       "      <td>4662.0</td>\n",
       "      <td>5968.0</td>\n",
       "      <td>8020.0</td>\n",
       "      <td>9165.0</td>\n",
       "      <td>12275.0</td>\n",
       "    </tr>\n",
       "    <tr>\n",
       "      <th>ultimate</th>\n",
       "      <td>62.0</td>\n",
       "      <td>151.0</td>\n",
       "      <td>243.0</td>\n",
       "      <td>463.0</td>\n",
       "      <td>931.0</td>\n",
       "      <td>1379.0</td>\n",
       "      <td>1937.0</td>\n",
       "      <td>2732.0</td>\n",
       "      <td>3259.0</td>\n",
       "      <td>4181.0</td>\n",
       "      <td>4903.0</td>\n",
       "      <td>6796.0</td>\n",
       "    </tr>\n",
       "  </tbody>\n",
       "</table>\n",
       "</div>"
      ],
      "text/plain": [
       "month     2018-01  2018-02  2018-03  2018-04  2018-05  2018-06  2018-07  \\\n",
       "plan                                                                      \n",
       "surf         21.0    108.0    351.0    870.0   1849.0   2454.0   3271.0   \n",
       "ultimate     62.0    151.0    243.0    463.0    931.0   1379.0   1937.0   \n",
       "\n",
       "month     2018-08  2018-09  2018-10  2018-11  2018-12  \n",
       "plan                                                   \n",
       "surf       4662.0   5968.0   8020.0   9165.0  12275.0  \n",
       "ultimate   2732.0   3259.0   4181.0   4903.0   6796.0  "
      ]
     },
     "execution_count": 118,
     "metadata": {},
     "output_type": "execute_result"
    }
   ],
   "source": [
    "# criando tabela dinamica das soma de mensagens por mês por plano\n",
    "\n",
    "sum_messages_plan = pd.pivot_table(merged_all_info, index='plan', columns= 'month', values='msg_count', aggfunc='sum')\n",
    "\n",
    "sum_messages_plan.head()"
   ]
  },
  {
   "cell_type": "code",
   "execution_count": 119,
   "metadata": {},
   "outputs": [
    {
     "data": {
      "image/png": "[encoded data removed]",
      "text/plain": [
       "<Figure size 864x576 with 1 Axes>"
      ]
     },
     "metadata": {
      "needs_background": "light"
     },
     "output_type": "display_data"
    }
   ],
   "source": [
    "# plotando soma de mensagens por mês por plano\n",
    "\n",
    "sum_messages_plan.plot(kind='bar', figsize=(12,8))\n",
    "\n",
    "plt.title('Soma de mensagens por mês')\n",
    "plt.ylabel('Soma de mensagens')\n",
    "plt.xticks(rotation=0)\n",
    "plt.show()"
   ]
  },
  {
   "cell_type": "markdown",
   "metadata": {},
   "source": [
    "observamos que os usúarios do plano surf mandam mais mensagens quando somados. O que diferencia da média. Isso significa que existem mais usuários do plano surf do que ultimate."
   ]
  },
  {
   "cell_type": "code",
   "execution_count": 120,
   "metadata": {},
   "outputs": [
    {
     "data": {
      "image/png": "[encoded data removed]",
      "text/plain": [
       "<Figure size 864x576 with 1 Axes>"
      ]
     },
     "metadata": {
      "needs_background": "light"
     },
     "output_type": "display_data"
    }
   ],
   "source": [
    "# plotando distribuição mensal de mensagens dos clientes 'surf'\n",
    "\n",
    "plt.figure(figsize=(12, 8))\n",
    "sns.boxplot(data=surf_merged_filter, x='month', y='msg_count')\n",
    "plt.title('Distribuição mensal de mensagens Ultimate')\n",
    "plt.xlabel('Month')\n",
    "plt.ylabel('Message')\n",
    "plt.xticks(rotation=45) \n",
    "plt.show()"
   ]
  },
  {
   "cell_type": "markdown",
   "metadata": {},
   "source": [
    "Observamos grande quantidade de outliers de novo e valores. Também chama atenção os quartis serem achatados e próximos ao valor 0."
   ]
  },
  {
   "cell_type": "code",
   "execution_count": 121,
   "metadata": {},
   "outputs": [
    {
     "data": {
      "image/png": "[encoded data removed]",
      "text/plain": [
       "<Figure size 864x576 with 1 Axes>"
      ]
     },
     "metadata": {
      "needs_background": "light"
     },
     "output_type": "display_data"
    }
   ],
   "source": [
    "# plotando distribuição mensal de mensagens dos clientes 'ultimate'\n",
    "\n",
    "plt.figure(figsize=(12, 8))\n",
    "sns.boxplot(data=ultimate_merged_filter, x='month', y='msg_count')\n",
    "plt.title('Distribuição mensal de mensagens Ultimate')\n",
    "plt.xlabel('Month')\n",
    "plt.ylabel('Message')\n",
    "plt.xticks(rotation=45) \n",
    "plt.show()"
   ]
  },
  {
   "cell_type": "markdown",
   "metadata": {},
   "source": [
    "Já entre os usuários do plano ultimate notamos baixa quantidade de outliers no périodo do ano, grande quartis que e valores máximos bem alto em pelo menos 5 meses do ano."
   ]
  },
  {
   "cell_type": "markdown",
   "metadata": {},
   "source": [
    " "
   ]
  },
  {
   "cell_type": "markdown",
   "metadata": {},
   "source": [
    "### Internet"
   ]
  },
  {
   "cell_type": "code",
   "execution_count": 122,
   "metadata": {},
   "outputs": [
    {
     "data": {
      "text/html": [
       "<div>\n",
       "<style scoped>\n",
       "    .dataframe tbody tr th:only-of-type {\n",
       "        vertical-align: middle;\n",
       "    }\n",
       "\n",
       "    .dataframe tbody tr th {\n",
       "        vertical-align: top;\n",
       "    }\n",
       "\n",
       "    .dataframe thead th {\n",
       "        text-align: right;\n",
       "    }\n",
       "</style>\n",
       "<table border=\"1\" class=\"dataframe\">\n",
       "  <thead>\n",
       "    <tr style=\"text-align: right;\">\n",
       "      <th>month</th>\n",
       "      <th>2018-01</th>\n",
       "      <th>2018-02</th>\n",
       "      <th>2018-03</th>\n",
       "      <th>2018-04</th>\n",
       "      <th>2018-05</th>\n",
       "      <th>2018-06</th>\n",
       "      <th>2018-07</th>\n",
       "      <th>2018-08</th>\n",
       "      <th>2018-09</th>\n",
       "      <th>2018-10</th>\n",
       "      <th>2018-11</th>\n",
       "      <th>2018-12</th>\n",
       "    </tr>\n",
       "    <tr>\n",
       "      <th>plan</th>\n",
       "      <th></th>\n",
       "      <th></th>\n",
       "      <th></th>\n",
       "      <th></th>\n",
       "      <th></th>\n",
       "      <th></th>\n",
       "      <th></th>\n",
       "      <th></th>\n",
       "      <th></th>\n",
       "      <th></th>\n",
       "      <th></th>\n",
       "      <th></th>\n",
       "    </tr>\n",
       "  </thead>\n",
       "  <tbody>\n",
       "    <tr>\n",
       "      <th>surf</th>\n",
       "      <td>4881.00</td>\n",
       "      <td>12192.888889</td>\n",
       "      <td>13361.043478</td>\n",
       "      <td>11998.20000</td>\n",
       "      <td>13953.246753</td>\n",
       "      <td>15319.567010</td>\n",
       "      <td>16803.181818</td>\n",
       "      <td>16814.864198</td>\n",
       "      <td>16610.912371</td>\n",
       "      <td>17331.721519</td>\n",
       "      <td>16358.540636</td>\n",
       "      <td>18153.786164</td>\n",
       "    </tr>\n",
       "    <tr>\n",
       "      <th>ultimate</th>\n",
       "      <td>6926.25</td>\n",
       "      <td>17148.857143</td>\n",
       "      <td>18340.250000</td>\n",
       "      <td>16140.47619</td>\n",
       "      <td>16643.758621</td>\n",
       "      <td>15355.106383</td>\n",
       "      <td>16363.677966</td>\n",
       "      <td>17834.887324</td>\n",
       "      <td>16989.395349</td>\n",
       "      <td>17633.188679</td>\n",
       "      <td>17053.614173</td>\n",
       "      <td>18344.735099</td>\n",
       "    </tr>\n",
       "  </tbody>\n",
       "</table>\n",
       "</div>"
      ],
      "text/plain": [
       "month     2018-01       2018-02       2018-03      2018-04       2018-05  \\\n",
       "plan                                                                       \n",
       "surf      4881.00  12192.888889  13361.043478  11998.20000  13953.246753   \n",
       "ultimate  6926.25  17148.857143  18340.250000  16140.47619  16643.758621   \n",
       "\n",
       "month          2018-06       2018-07       2018-08       2018-09  \\\n",
       "plan                                                               \n",
       "surf      15319.567010  16803.181818  16814.864198  16610.912371   \n",
       "ultimate  15355.106383  16363.677966  17834.887324  16989.395349   \n",
       "\n",
       "month          2018-10       2018-11       2018-12  \n",
       "plan                                                \n",
       "surf      17331.721519  16358.540636  18153.786164  \n",
       "ultimate  17633.188679  17053.614173  18344.735099  "
      ]
     },
     "execution_count": 122,
     "metadata": {},
     "output_type": "execute_result"
    }
   ],
   "source": [
    "# Compare a quantidade de tráfego de internet consumido pelos usuários por plano\n",
    "\n",
    "mean_internet_plan = pd.pivot_table(merged_all_info, index='plan', columns='month', values='mb_used', aggfunc='mean')\n",
    "\n",
    "mean_internet_plan"
   ]
  },
  {
   "cell_type": "code",
   "execution_count": 123,
   "metadata": {},
   "outputs": [
    {
     "data": {
      "image/png": "[encoded data removed]",
      "text/plain": [
       "<Figure size 864x576 with 1 Axes>"
      ]
     },
     "metadata": {
      "needs_background": "light"
     },
     "output_type": "display_data"
    }
   ],
   "source": [
    "# visualizando média de uso de internet por plano\n",
    "\n",
    "mean_internet_plan.plot(kind='bar', figsize=(12,8))\n",
    "\n",
    "plt.title('Média de Mb usados por mês')\n",
    "plt.ylabel('Média de Mb')\n",
    "plt.xticks(rotation=0)\n",
    "plt.show()"
   ]
  },
  {
   "cell_type": "markdown",
   "metadata": {},
   "source": [
    "em uma analise de média mensal\n",
    "\n",
    "* Janeiro, média mais baixa de todos os meses, porém clientes ultimate ficam a frente.\n",
    "* Fevereiro, grande salto de uso comparado com o mês anterior, mais do que o dobro de uso.\n",
    "* Março, usuários do plano ultimate atingem a segunda maior média de uso no ano dentre os usuários do seu plano.\n",
    "* Abril, ultimate continua gastando mais que média do plano surf.\n",
    "* Maio, novamente ultimate consome mais internet.\n",
    "* Junho, consumo de internet quase igual entre os planos.\n",
    "* Julho, muito parecido o consumo entre os planos.\n",
    "* Agosto, usuários do plano ultimate atingem a segunda maior média do ano até agora.\n",
    "* Setembro, consumo muito similar entre os planos novamente, ultimatefica com média maior por pouco.\n",
    "* Outubro, consumo muito similar entre os planos.\n",
    "* Novembro, ultimate gasta mais em média esse mês.\n",
    "* Dezembro, maior média de consumo de MB dos dois planos, ultimate ainda consome mais.\n"
   ]
  },
  {
   "cell_type": "code",
   "execution_count": 124,
   "metadata": {},
   "outputs": [
    {
     "data": {
      "text/html": [
       "<div>\n",
       "<style scoped>\n",
       "    .dataframe tbody tr th:only-of-type {\n",
       "        vertical-align: middle;\n",
       "    }\n",
       "\n",
       "    .dataframe tbody tr th {\n",
       "        vertical-align: top;\n",
       "    }\n",
       "\n",
       "    .dataframe thead th {\n",
       "        text-align: right;\n",
       "    }\n",
       "</style>\n",
       "<table border=\"1\" class=\"dataframe\">\n",
       "  <thead>\n",
       "    <tr style=\"text-align: right;\">\n",
       "      <th>month</th>\n",
       "      <th>2018-01</th>\n",
       "      <th>2018-02</th>\n",
       "      <th>2018-03</th>\n",
       "      <th>2018-04</th>\n",
       "      <th>2018-05</th>\n",
       "      <th>2018-06</th>\n",
       "      <th>2018-07</th>\n",
       "      <th>2018-08</th>\n",
       "      <th>2018-09</th>\n",
       "      <th>2018-10</th>\n",
       "      <th>2018-11</th>\n",
       "      <th>2018-12</th>\n",
       "    </tr>\n",
       "    <tr>\n",
       "      <th>plan</th>\n",
       "      <th></th>\n",
       "      <th></th>\n",
       "      <th></th>\n",
       "      <th></th>\n",
       "      <th></th>\n",
       "      <th></th>\n",
       "      <th></th>\n",
       "      <th></th>\n",
       "      <th></th>\n",
       "      <th></th>\n",
       "      <th></th>\n",
       "      <th></th>\n",
       "    </tr>\n",
       "  </thead>\n",
       "  <tbody>\n",
       "    <tr>\n",
       "      <th>surf</th>\n",
       "      <td>9762.0</td>\n",
       "      <td>109736.0</td>\n",
       "      <td>307304.0</td>\n",
       "      <td>599910.0</td>\n",
       "      <td>1074400.0</td>\n",
       "      <td>1485998.0</td>\n",
       "      <td>2033185.0</td>\n",
       "      <td>2724008.0</td>\n",
       "      <td>3222517.0</td>\n",
       "      <td>4107618.0</td>\n",
       "      <td>4629467.0</td>\n",
       "      <td>5772904.0</td>\n",
       "    </tr>\n",
       "    <tr>\n",
       "      <th>ultimate</th>\n",
       "      <td>27705.0</td>\n",
       "      <td>120042.0</td>\n",
       "      <td>220083.0</td>\n",
       "      <td>338950.0</td>\n",
       "      <td>482669.0</td>\n",
       "      <td>721690.0</td>\n",
       "      <td>965457.0</td>\n",
       "      <td>1266277.0</td>\n",
       "      <td>1461088.0</td>\n",
       "      <td>1869118.0</td>\n",
       "      <td>2165809.0</td>\n",
       "      <td>2770055.0</td>\n",
       "    </tr>\n",
       "  </tbody>\n",
       "</table>\n",
       "</div>"
      ],
      "text/plain": [
       "month     2018-01   2018-02   2018-03   2018-04    2018-05    2018-06  \\\n",
       "plan                                                                    \n",
       "surf       9762.0  109736.0  307304.0  599910.0  1074400.0  1485998.0   \n",
       "ultimate  27705.0  120042.0  220083.0  338950.0   482669.0   721690.0   \n",
       "\n",
       "month       2018-07    2018-08    2018-09    2018-10    2018-11    2018-12  \n",
       "plan                                                                        \n",
       "surf      2033185.0  2724008.0  3222517.0  4107618.0  4629467.0  5772904.0  \n",
       "ultimate   965457.0  1266277.0  1461088.0  1869118.0  2165809.0  2770055.0  "
      ]
     },
     "execution_count": 124,
     "metadata": {},
     "output_type": "execute_result"
    }
   ],
   "source": [
    "# criando tabela dinamica da soma do uso de internet por mês por plano\n",
    "\n",
    "sum_internet_plan = pd.pivot_table(merged_all_info, index='plan', columns='month', values='mb_used', aggfunc='sum')\n",
    "\n",
    "sum_internet_plan"
   ]
  },
  {
   "cell_type": "code",
   "execution_count": 125,
   "metadata": {},
   "outputs": [
    {
     "data": {
      "image/png": "[encoded data removed]",
      "text/plain": [
       "<Figure size 864x576 with 1 Axes>"
      ]
     },
     "metadata": {
      "needs_background": "light"
     },
     "output_type": "display_data"
    }
   ],
   "source": [
    "# visualizando a soma dos Mb usados por mês por plano\n",
    "\n",
    "sum_internet_plan.plot(kind='bar', figsize=(12,8))\n",
    "plt.title('Soma de mb usados por mês')\n",
    "plt.ylabel('Soma de mb')\n",
    "plt.xticks(rotation=0)\n",
    "plt.show()"
   ]
  },
  {
   "cell_type": "markdown",
   "metadata": {},
   "source": [
    "tanto quanto no exemplo das mensagens, vemos que na soma total de consumo, o plano que consome mais durante o ano é o plano surf, quando comparado com as médias, podemos concluir que existem mais clientes do plano surf do que do plano ultimate."
   ]
  },
  {
   "cell_type": "code",
   "execution_count": 126,
   "metadata": {},
   "outputs": [
    {
     "data": {
      "image/png": "[encoded data removed]",
      "text/plain": [
       "<Figure size 864x576 with 1 Axes>"
      ]
     },
     "metadata": {
      "needs_background": "light"
     },
     "output_type": "display_data"
    }
   ],
   "source": [
    "# plotando distribuição mensal de consumo de internet por mês do plano Surf\n",
    "\n",
    "plt.figure(figsize=(12, 8))\n",
    "sns.boxplot(data=surf_merged_filter, x='month', y='mb_used')\n",
    "plt.title('Distribuição mensal de consumo de mbs, Surf')\n",
    "plt.xlabel('Month')\n",
    "plt.ylabel('Mb')\n",
    "plt.xticks(rotation=45) \n",
    "plt.show()"
   ]
  },
  {
   "cell_type": "markdown",
   "metadata": {},
   "source": [
    "grande quantidade de outliers entre os usuários do plano surf, mediana muito similar nos ultimos quatro meses do ano."
   ]
  },
  {
   "cell_type": "code",
   "execution_count": 127,
   "metadata": {},
   "outputs": [
    {
     "data": {
      "image/png": "[encoded data removed]",
      "text/plain": [
       "<Figure size 864x576 with 1 Axes>"
      ]
     },
     "metadata": {
      "needs_background": "light"
     },
     "output_type": "display_data"
    }
   ],
   "source": [
    "# plotando distribuição mensal de consumo de internet por mÇes do plano surf\n",
    "\n",
    "plt.figure(figsize=(12, 8))\n",
    "sns.boxplot(data=ultimate_merged_filter, x='month', y='mb_used')\n",
    "plt.title('Distribuição mensal Mb usados Ultimate')\n",
    "plt.xlabel('Month')\n",
    "plt.ylabel('Mb')\n",
    "plt.xticks(rotation=45) \n",
    "plt.show()"
   ]
  },
  {
   "cell_type": "markdown",
   "metadata": {},
   "source": [
    "Vemos que os quartis no grafíco acima são maiores do que os do plano anterior."
   ]
  },
  {
   "cell_type": "markdown",
   "metadata": {},
   "source": [
    " ### Conclusão analise dos graficos"
   ]
  },
  {
   "cell_type": "markdown",
   "metadata": {},
   "source": [
    "Podemos concluir que em média os uauários do plano ultimate consomem mais em mensagens e consumo de internet porém somados ficam atrás dos usuários do plano surf, devido a quantidade de usuários do plano surf serem maiores que a quantidade de usuários do plano ultimate. Entre as chamadas tanto em média quanto em soma, o plano surf demontra maiores números."
   ]
  },
  {
   "cell_type": "markdown",
   "metadata": {},
   "source": [
    "## Receita"
   ]
  },
  {
   "cell_type": "code",
   "execution_count": 128,
   "metadata": {},
   "outputs": [
    {
     "data": {
      "text/plain": [
       "1573"
      ]
     },
     "execution_count": 128,
     "metadata": {},
     "output_type": "execute_result"
    }
   ],
   "source": [
    "# quantidade de usuários do plano surf\n",
    "\n",
    "len(surf_merged_filter)"
   ]
  },
  {
   "cell_type": "code",
   "execution_count": 129,
   "metadata": {},
   "outputs": [
    {
     "data": {
      "text/plain": [
       "720"
      ]
     },
     "execution_count": 129,
     "metadata": {},
     "output_type": "execute_result"
    }
   ],
   "source": [
    "# quantidade de usuários do plano ultimate\n",
    "\n",
    "len(ultimate_merged_filter)"
   ]
  },
  {
   "cell_type": "code",
   "execution_count": 130,
   "metadata": {},
   "outputs": [
    {
     "data": {
      "text/plain": [
       "95631.18"
      ]
     },
     "execution_count": 130,
     "metadata": {},
     "output_type": "execute_result"
    }
   ],
   "source": [
    "# receita total do plano surf no ano 2018\n",
    "\n",
    "surf_merged_filter['total'].sum()"
   ]
  },
  {
   "cell_type": "code",
   "execution_count": 131,
   "metadata": {},
   "outputs": [
    {
     "data": {
      "text/plain": [
       "52080.0"
      ]
     },
     "execution_count": 131,
     "metadata": {},
     "output_type": "execute_result"
    }
   ],
   "source": [
    "# receita total do plano ultimate no ano 2018\n",
    "\n",
    "ultimate_merged_filter['total'].sum()"
   ]
  },
  {
   "cell_type": "code",
   "execution_count": 132,
   "metadata": {},
   "outputs": [
    {
     "data": {
      "text/plain": [
       "83.62361751152072"
      ]
     },
     "execution_count": 132,
     "metadata": {},
     "output_type": "execute_result"
    }
   ],
   "source": [
    "incoming_difference = 100*(surf_merged_filter['total'].sum()/ultimate_merged_filter['total'].sum()-1)\n",
    "\n",
    "incoming_difference"
   ]
  },
  {
   "cell_type": "markdown",
   "metadata": {},
   "source": [
    "o plano surf gera 83% mais receita do que o plano ultimate"
   ]
  },
  {
   "cell_type": "code",
   "execution_count": 133,
   "metadata": {},
   "outputs": [
    {
     "data": {
      "text/html": [
       "<div>\n",
       "<style scoped>\n",
       "    .dataframe tbody tr th:only-of-type {\n",
       "        vertical-align: middle;\n",
       "    }\n",
       "\n",
       "    .dataframe tbody tr th {\n",
       "        vertical-align: top;\n",
       "    }\n",
       "\n",
       "    .dataframe thead th {\n",
       "        text-align: right;\n",
       "    }\n",
       "</style>\n",
       "<table border=\"1\" class=\"dataframe\">\n",
       "  <thead>\n",
       "    <tr style=\"text-align: right;\">\n",
       "      <th>month</th>\n",
       "      <th>2018-01</th>\n",
       "      <th>2018-02</th>\n",
       "      <th>2018-03</th>\n",
       "      <th>2018-04</th>\n",
       "      <th>2018-05</th>\n",
       "      <th>2018-06</th>\n",
       "      <th>2018-07</th>\n",
       "      <th>2018-08</th>\n",
       "      <th>2018-09</th>\n",
       "      <th>2018-10</th>\n",
       "      <th>2018-11</th>\n",
       "      <th>2018-12</th>\n",
       "    </tr>\n",
       "    <tr>\n",
       "      <th>plan</th>\n",
       "      <th></th>\n",
       "      <th></th>\n",
       "      <th></th>\n",
       "      <th></th>\n",
       "      <th></th>\n",
       "      <th></th>\n",
       "      <th></th>\n",
       "      <th></th>\n",
       "      <th></th>\n",
       "      <th></th>\n",
       "      <th></th>\n",
       "      <th></th>\n",
       "    </tr>\n",
       "  </thead>\n",
       "  <tbody>\n",
       "    <tr>\n",
       "      <th>surf</th>\n",
       "      <td>20.0</td>\n",
       "      <td>34.396667</td>\n",
       "      <td>45.941304</td>\n",
       "      <td>40.7106</td>\n",
       "      <td>47.628182</td>\n",
       "      <td>49.276289</td>\n",
       "      <td>62.839339</td>\n",
       "      <td>64.054630</td>\n",
       "      <td>58.271495</td>\n",
       "      <td>65.590000</td>\n",
       "      <td>58.110283</td>\n",
       "      <td>70.651384</td>\n",
       "    </tr>\n",
       "    <tr>\n",
       "      <th>ultimate</th>\n",
       "      <td>70.0</td>\n",
       "      <td>70.000000</td>\n",
       "      <td>74.666667</td>\n",
       "      <td>73.0000</td>\n",
       "      <td>70.724138</td>\n",
       "      <td>71.638298</td>\n",
       "      <td>71.898305</td>\n",
       "      <td>72.859155</td>\n",
       "      <td>72.034884</td>\n",
       "      <td>72.311321</td>\n",
       "      <td>71.763780</td>\n",
       "      <td>73.337748</td>\n",
       "    </tr>\n",
       "  </tbody>\n",
       "</table>\n",
       "</div>"
      ],
      "text/plain": [
       "month     2018-01    2018-02    2018-03  2018-04    2018-05    2018-06  \\\n",
       "plan                                                                     \n",
       "surf         20.0  34.396667  45.941304  40.7106  47.628182  49.276289   \n",
       "ultimate     70.0  70.000000  74.666667  73.0000  70.724138  71.638298   \n",
       "\n",
       "month       2018-07    2018-08    2018-09    2018-10    2018-11    2018-12  \n",
       "plan                                                                        \n",
       "surf      62.839339  64.054630  58.271495  65.590000  58.110283  70.651384  \n",
       "ultimate  71.898305  72.859155  72.034884  72.311321  71.763780  73.337748  "
      ]
     },
     "execution_count": 133,
     "metadata": {},
     "output_type": "execute_result"
    }
   ],
   "source": [
    "# criando tabela dinamica da media da receita por mes por plano \n",
    "\n",
    "mean_income_merged = pd.pivot_table(merged_all_info, index='plan', columns='month', values='total', aggfunc='mean')\n",
    "\n",
    "mean_income_merged"
   ]
  },
  {
   "cell_type": "code",
   "execution_count": 134,
   "metadata": {},
   "outputs": [
    {
     "data": {
      "image/png": "[encoded data removed]",
      "text/plain": [
       "<Figure size 864x576 with 1 Axes>"
      ]
     },
     "metadata": {
      "needs_background": "light"
     },
     "output_type": "display_data"
    }
   ],
   "source": [
    "mean_income_merged.plot(kind='bar', figsize=(12,8))\n",
    "\n",
    "plt.title('Média da receita por mês')\n",
    "plt.ylabel('Média da receita')\n",
    "plt.xticks(rotation=0)\n",
    "plt.show()"
   ]
  },
  {
   "cell_type": "markdown",
   "metadata": {},
   "source": [
    "clientes do plano ultimate gastam em média mais do que todos os meses comparados com os meses do plano surf"
   ]
  },
  {
   "cell_type": "code",
   "execution_count": 135,
   "metadata": {},
   "outputs": [
    {
     "data": {
      "text/html": [
       "<div>\n",
       "<style scoped>\n",
       "    .dataframe tbody tr th:only-of-type {\n",
       "        vertical-align: middle;\n",
       "    }\n",
       "\n",
       "    .dataframe tbody tr th {\n",
       "        vertical-align: top;\n",
       "    }\n",
       "\n",
       "    .dataframe thead th {\n",
       "        text-align: right;\n",
       "    }\n",
       "</style>\n",
       "<table border=\"1\" class=\"dataframe\">\n",
       "  <thead>\n",
       "    <tr style=\"text-align: right;\">\n",
       "      <th>month</th>\n",
       "      <th>2018-01</th>\n",
       "      <th>2018-02</th>\n",
       "      <th>2018-03</th>\n",
       "      <th>2018-04</th>\n",
       "      <th>2018-05</th>\n",
       "      <th>2018-06</th>\n",
       "      <th>2018-07</th>\n",
       "      <th>2018-08</th>\n",
       "      <th>2018-09</th>\n",
       "      <th>2018-10</th>\n",
       "      <th>2018-11</th>\n",
       "      <th>2018-12</th>\n",
       "    </tr>\n",
       "    <tr>\n",
       "      <th>plan</th>\n",
       "      <th></th>\n",
       "      <th></th>\n",
       "      <th></th>\n",
       "      <th></th>\n",
       "      <th></th>\n",
       "      <th></th>\n",
       "      <th></th>\n",
       "      <th></th>\n",
       "      <th></th>\n",
       "      <th></th>\n",
       "      <th></th>\n",
       "      <th></th>\n",
       "    </tr>\n",
       "  </thead>\n",
       "  <tbody>\n",
       "    <tr>\n",
       "      <th>surf</th>\n",
       "      <td>40.0</td>\n",
       "      <td>309.57</td>\n",
       "      <td>1056.65</td>\n",
       "      <td>2035.53</td>\n",
       "      <td>3667.37</td>\n",
       "      <td>4779.8</td>\n",
       "      <td>7603.56</td>\n",
       "      <td>10376.85</td>\n",
       "      <td>11304.67</td>\n",
       "      <td>15544.83</td>\n",
       "      <td>16445.21</td>\n",
       "      <td>22467.14</td>\n",
       "    </tr>\n",
       "    <tr>\n",
       "      <th>ultimate</th>\n",
       "      <td>280.0</td>\n",
       "      <td>490.00</td>\n",
       "      <td>896.00</td>\n",
       "      <td>1533.00</td>\n",
       "      <td>2051.00</td>\n",
       "      <td>3367.0</td>\n",
       "      <td>4242.00</td>\n",
       "      <td>5173.00</td>\n",
       "      <td>6195.00</td>\n",
       "      <td>7665.00</td>\n",
       "      <td>9114.00</td>\n",
       "      <td>11074.00</td>\n",
       "    </tr>\n",
       "  </tbody>\n",
       "</table>\n",
       "</div>"
      ],
      "text/plain": [
       "month     2018-01  2018-02  2018-03  2018-04  2018-05  2018-06  2018-07  \\\n",
       "plan                                                                      \n",
       "surf         40.0   309.57  1056.65  2035.53  3667.37   4779.8  7603.56   \n",
       "ultimate    280.0   490.00   896.00  1533.00  2051.00   3367.0  4242.00   \n",
       "\n",
       "month      2018-08   2018-09   2018-10   2018-11   2018-12  \n",
       "plan                                                        \n",
       "surf      10376.85  11304.67  15544.83  16445.21  22467.14  \n",
       "ultimate   5173.00   6195.00   7665.00   9114.00  11074.00  "
      ]
     },
     "execution_count": 135,
     "metadata": {},
     "output_type": "execute_result"
    }
   ],
   "source": [
    "# criando tabela dinamica da soma da receita por mes por plano \n",
    "\n",
    "sum_income_merged = pd.pivot_table(merged_all_info, index='plan', columns='month', values='total', aggfunc='sum')\n",
    "\n",
    "sum_income_merged"
   ]
  },
  {
   "cell_type": "code",
   "execution_count": 136,
   "metadata": {},
   "outputs": [
    {
     "data": {
      "image/png": "[encoded data removed]",
      "text/plain": [
       "<Figure size 864x576 with 1 Axes>"
      ]
     },
     "metadata": {
      "needs_background": "light"
     },
     "output_type": "display_data"
    }
   ],
   "source": [
    "sum_income_merged.plot(kind='bar', figsize=(12,8))\n",
    "\n",
    "plt.title('Soma da receita por mês')\n",
    "plt.ylabel('Soma da receita')\n",
    "plt.xticks(rotation=0)\n",
    "plt.show()"
   ]
  },
  {
   "cell_type": "markdown",
   "metadata": {},
   "source": [
    "percebemos que a receita vinda dos usuários do plano surf é maior na somatória do que os usuários do plano ultimate"
   ]
  },
  {
   "cell_type": "code",
   "execution_count": 137,
   "metadata": {},
   "outputs": [
    {
     "data": {
      "image/png": "[encoded data removed]",
      "text/plain": [
       "<Figure size 864x576 with 1 Axes>"
      ]
     },
     "metadata": {
      "needs_background": "light"
     },
     "output_type": "display_data"
    }
   ],
   "source": [
    "plt.figure(figsize=(12, 8))\n",
    "sns.boxplot(data=surf_merged_filter, x='month', y='total')\n",
    "plt.title('Distribuição mensal de receita, Surf')\n",
    "plt.xlabel('Month')\n",
    "plt.ylabel('Receita')\n",
    "plt.xticks(rotation=45) \n",
    "plt.show()"
   ]
  },
  {
   "cell_type": "markdown",
   "metadata": {},
   "source": [
    "muitos outliers na receita dos clientes surf, quartis ficam abaixo dos 100."
   ]
  },
  {
   "cell_type": "code",
   "execution_count": 138,
   "metadata": {},
   "outputs": [
    {
     "data": {
      "image/png": "[encoded data removed]",
      "text/plain": [
       "<Figure size 864x576 with 1 Axes>"
      ]
     },
     "metadata": {
      "needs_background": "light"
     },
     "output_type": "display_data"
    }
   ],
   "source": [
    "plt.figure(figsize=(12, 8))\n",
    "sns.boxplot(data=ultimate_merged_filter, x='month', y='total')\n",
    "plt.title('Distribuição mensal de receita Ultimate')\n",
    "plt.xlabel('Month')\n",
    "plt.ylabel('Receita')\n",
    "plt.xticks(rotation=45) \n",
    "plt.show()"
   ]
  },
  {
   "cell_type": "code",
   "execution_count": 139,
   "metadata": {},
   "outputs": [
    {
     "data": {
      "text/html": [
       "<div>\n",
       "<style scoped>\n",
       "    .dataframe tbody tr th:only-of-type {\n",
       "        vertical-align: middle;\n",
       "    }\n",
       "\n",
       "    .dataframe tbody tr th {\n",
       "        vertical-align: top;\n",
       "    }\n",
       "\n",
       "    .dataframe thead th {\n",
       "        text-align: right;\n",
       "    }\n",
       "</style>\n",
       "<table border=\"1\" class=\"dataframe\">\n",
       "  <thead>\n",
       "    <tr style=\"text-align: right;\">\n",
       "      <th>month</th>\n",
       "      <th>2018-01</th>\n",
       "      <th>2018-02</th>\n",
       "      <th>2018-03</th>\n",
       "      <th>2018-04</th>\n",
       "      <th>2018-05</th>\n",
       "      <th>2018-06</th>\n",
       "      <th>2018-07</th>\n",
       "      <th>2018-08</th>\n",
       "      <th>2018-09</th>\n",
       "      <th>2018-10</th>\n",
       "      <th>2018-11</th>\n",
       "      <th>2018-12</th>\n",
       "    </tr>\n",
       "    <tr>\n",
       "      <th>plan</th>\n",
       "      <th></th>\n",
       "      <th></th>\n",
       "      <th></th>\n",
       "      <th></th>\n",
       "      <th></th>\n",
       "      <th></th>\n",
       "      <th></th>\n",
       "      <th></th>\n",
       "      <th></th>\n",
       "      <th></th>\n",
       "      <th></th>\n",
       "      <th></th>\n",
       "    </tr>\n",
       "  </thead>\n",
       "  <tbody>\n",
       "    <tr>\n",
       "      <th>surf</th>\n",
       "      <td>0.0</td>\n",
       "      <td>14.396667</td>\n",
       "      <td>25.941304</td>\n",
       "      <td>20.7106</td>\n",
       "      <td>27.628182</td>\n",
       "      <td>29.276289</td>\n",
       "      <td>42.839339</td>\n",
       "      <td>44.054630</td>\n",
       "      <td>38.271495</td>\n",
       "      <td>45.590000</td>\n",
       "      <td>38.110283</td>\n",
       "      <td>50.651384</td>\n",
       "    </tr>\n",
       "    <tr>\n",
       "      <th>ultimate</th>\n",
       "      <td>0.0</td>\n",
       "      <td>0.000000</td>\n",
       "      <td>4.666667</td>\n",
       "      <td>3.0000</td>\n",
       "      <td>0.724138</td>\n",
       "      <td>1.638298</td>\n",
       "      <td>1.898305</td>\n",
       "      <td>2.859155</td>\n",
       "      <td>2.034884</td>\n",
       "      <td>2.311321</td>\n",
       "      <td>1.763780</td>\n",
       "      <td>3.337748</td>\n",
       "    </tr>\n",
       "  </tbody>\n",
       "</table>\n",
       "</div>"
      ],
      "text/plain": [
       "month     2018-01    2018-02    2018-03  2018-04    2018-05    2018-06  \\\n",
       "plan                                                                     \n",
       "surf          0.0  14.396667  25.941304  20.7106  27.628182  29.276289   \n",
       "ultimate      0.0   0.000000   4.666667   3.0000   0.724138   1.638298   \n",
       "\n",
       "month       2018-07    2018-08    2018-09    2018-10    2018-11    2018-12  \n",
       "plan                                                                        \n",
       "surf      42.839339  44.054630  38.271495  45.590000  38.110283  50.651384  \n",
       "ultimate   1.898305   2.859155   2.034884   2.311321   1.763780   3.337748  "
      ]
     },
     "execution_count": 139,
     "metadata": {},
     "output_type": "execute_result"
    }
   ],
   "source": [
    "# criando tabela dinamica da soma da receita por mes por plano \n",
    "\n",
    "mean_overspent_merged = pd.pivot_table(merged_all_info, index='plan', columns='month', values='total_overspent', aggfunc='mean')\n",
    "\n",
    "mean_overspent_merged"
   ]
  },
  {
   "cell_type": "code",
   "execution_count": 140,
   "metadata": {},
   "outputs": [
    {
     "data": {
      "image/png": "[encoded data removed]",
      "text/plain": [
       "<Figure size 864x576 with 1 Axes>"
      ]
     },
     "metadata": {
      "needs_background": "light"
     },
     "output_type": "display_data"
    }
   ],
   "source": [
    "# plotando a média de gastos extra mensais por plano\n",
    "\n",
    "mean_overspent_merged.plot(kind='bar', figsize=(12,8))\n",
    "\n",
    "plt.title('Média da gasto extra por mês')\n",
    "plt.ylabel('Média de gasto extra')\n",
    "plt.xticks(rotation=0)\n",
    "plt.show()"
   ]
  },
  {
   "cell_type": "markdown",
   "metadata": {},
   "source": [
    "Quando visualiamos os gastos extra por usuário do plano, vemos que os usuários do plano surf tendem a gastar muito mais em média do que os do plano ultimate por fora do plano."
   ]
  },
  {
   "cell_type": "code",
   "execution_count": 141,
   "metadata": {},
   "outputs": [
    {
     "data": {
      "text/html": [
       "<div>\n",
       "<style scoped>\n",
       "    .dataframe tbody tr th:only-of-type {\n",
       "        vertical-align: middle;\n",
       "    }\n",
       "\n",
       "    .dataframe tbody tr th {\n",
       "        vertical-align: top;\n",
       "    }\n",
       "\n",
       "    .dataframe thead th {\n",
       "        text-align: right;\n",
       "    }\n",
       "</style>\n",
       "<table border=\"1\" class=\"dataframe\">\n",
       "  <thead>\n",
       "    <tr style=\"text-align: right;\">\n",
       "      <th>month</th>\n",
       "      <th>2018-01</th>\n",
       "      <th>2018-02</th>\n",
       "      <th>2018-03</th>\n",
       "      <th>2018-04</th>\n",
       "      <th>2018-05</th>\n",
       "      <th>2018-06</th>\n",
       "      <th>2018-07</th>\n",
       "      <th>2018-08</th>\n",
       "      <th>2018-09</th>\n",
       "      <th>2018-10</th>\n",
       "      <th>2018-11</th>\n",
       "      <th>2018-12</th>\n",
       "    </tr>\n",
       "    <tr>\n",
       "      <th>plan</th>\n",
       "      <th></th>\n",
       "      <th></th>\n",
       "      <th></th>\n",
       "      <th></th>\n",
       "      <th></th>\n",
       "      <th></th>\n",
       "      <th></th>\n",
       "      <th></th>\n",
       "      <th></th>\n",
       "      <th></th>\n",
       "      <th></th>\n",
       "      <th></th>\n",
       "    </tr>\n",
       "  </thead>\n",
       "  <tbody>\n",
       "    <tr>\n",
       "      <th>surf</th>\n",
       "      <td>0.0</td>\n",
       "      <td>129.57</td>\n",
       "      <td>596.65</td>\n",
       "      <td>1035.53</td>\n",
       "      <td>2127.37</td>\n",
       "      <td>2839.8</td>\n",
       "      <td>5183.56</td>\n",
       "      <td>7136.85</td>\n",
       "      <td>7424.67</td>\n",
       "      <td>10804.83</td>\n",
       "      <td>10785.21</td>\n",
       "      <td>16107.14</td>\n",
       "    </tr>\n",
       "    <tr>\n",
       "      <th>ultimate</th>\n",
       "      <td>0.0</td>\n",
       "      <td>0.00</td>\n",
       "      <td>56.00</td>\n",
       "      <td>63.00</td>\n",
       "      <td>21.00</td>\n",
       "      <td>77.0</td>\n",
       "      <td>112.00</td>\n",
       "      <td>203.00</td>\n",
       "      <td>175.00</td>\n",
       "      <td>245.00</td>\n",
       "      <td>224.00</td>\n",
       "      <td>504.00</td>\n",
       "    </tr>\n",
       "  </tbody>\n",
       "</table>\n",
       "</div>"
      ],
      "text/plain": [
       "month     2018-01  2018-02  2018-03  2018-04  2018-05  2018-06  2018-07  \\\n",
       "plan                                                                      \n",
       "surf          0.0   129.57   596.65  1035.53  2127.37   2839.8  5183.56   \n",
       "ultimate      0.0     0.00    56.00    63.00    21.00     77.0   112.00   \n",
       "\n",
       "month     2018-08  2018-09   2018-10   2018-11   2018-12  \n",
       "plan                                                      \n",
       "surf      7136.85  7424.67  10804.83  10785.21  16107.14  \n",
       "ultimate   203.00   175.00    245.00    224.00    504.00  "
      ]
     },
     "execution_count": 141,
     "metadata": {},
     "output_type": "execute_result"
    }
   ],
   "source": [
    "# criando tabela dinamica da soma da receita por mes por plano \n",
    "\n",
    "sum_overspent_merged = pd.pivot_table(merged_all_info, index='plan', columns='month', values='total_overspent', aggfunc='sum')\n",
    "\n",
    "sum_overspent_merged"
   ]
  },
  {
   "cell_type": "code",
   "execution_count": 142,
   "metadata": {},
   "outputs": [
    {
     "data": {
      "image/png": "[encoded data removed]",
      "text/plain": [
       "<Figure size 864x576 with 1 Axes>"
      ]
     },
     "metadata": {
      "needs_background": "light"
     },
     "output_type": "display_data"
    }
   ],
   "source": [
    "# plotando a soma de gastos extras mensais por plano\n",
    "\n",
    "sum_overspent_merged.plot(kind='bar', figsize=(12,8))\n",
    "\n",
    "plt.title('Soma da gasto extra por mês')\n",
    "plt.ylabel('Soma de gasto extra')\n",
    "plt.xticks(rotation=0)\n",
    "plt.show()"
   ]
  },
  {
   "cell_type": "markdown",
   "metadata": {},
   "source": [
    "novamente, verificamos pelo gráfico acima, o quanto os usuários do plano ultimate ficam dentro do seu plano comparado com os usuários do plano surf"
   ]
  },
  {
   "cell_type": "code",
   "execution_count": 143,
   "metadata": {},
   "outputs": [
    {
     "data": {
      "text/plain": [
       "1680.0"
      ]
     },
     "execution_count": 143,
     "metadata": {},
     "output_type": "execute_result"
    }
   ],
   "source": [
    "# soma de gastos extra fora do plano 'ultimate'\n",
    "\n",
    "ultimate_merged_filter['total_overspent'].sum()"
   ]
  },
  {
   "cell_type": "code",
   "execution_count": 144,
   "metadata": {},
   "outputs": [
    {
     "data": {
      "text/plain": [
       "64171.18"
      ]
     },
     "execution_count": 144,
     "metadata": {},
     "output_type": "execute_result"
    }
   ],
   "source": [
    "# soma de gastos extra fora do plano 'surf'\n",
    "\n",
    "surf_merged_filter['total_overspent'].sum()"
   ]
  },
  {
   "cell_type": "code",
   "execution_count": 145,
   "metadata": {},
   "outputs": [
    {
     "data": {
      "text/plain": [
       "3719.7130952380953"
      ]
     },
     "execution_count": 145,
     "metadata": {},
     "output_type": "execute_result"
    }
   ],
   "source": [
    "# calculando a porcentagem de gasto extra a mais por plano\n",
    "\n",
    "incoming_difference_overspent = 100*(surf_merged_filter['total_overspent'].sum()/ultimate_merged_filter['total_overspent'].sum()-1)\n",
    "\n",
    "incoming_difference_overspent"
   ]
  },
  {
   "cell_type": "markdown",
   "metadata": {},
   "source": [
    "Achamos um dado muito significativo, usuários do plano surf geram receita 3713% a mais do que o usuários do plano 'ultimate' com gastos além do contrato do plano."
   ]
  },
  {
   "cell_type": "markdown",
   "metadata": {},
   "source": [
    "## Testar hipóteses estatísticas"
   ]
  },
  {
   "cell_type": "markdown",
   "metadata": {},
   "source": [
    "Hipotese Nula : A receita media dos usuarios dos planos Ultimate e Surf sao iguais\n",
    "\n",
    "Hipotese Alternativa : A receita media dos usuarios dos planos Ultimate e Surf sao diferentes"
   ]
  },
  {
   "cell_type": "code",
   "execution_count": 146,
   "metadata": {},
   "outputs": [],
   "source": [
    "# definindo valor alpha\n",
    "\n",
    "alpha = 0.05"
   ]
  },
  {
   "cell_type": "code",
   "execution_count": 156,
   "metadata": {},
   "outputs": [],
   "source": [
    "# utilizando teste de levene para definir se equal_var = False ou True\n",
    "\n",
    "statistic, p_value = levene(ultimate_merged_filter['total'], surf_merged_filter['total'])"
   ]
  },
  {
   "cell_type": "code",
   "execution_count": 157,
   "metadata": {},
   "outputs": [
    {
     "name": "stdout",
     "output_type": "stream",
     "text": [
      "Levene's test statistic: 406.5053238307018\n",
      "p-value: 2.3614579293558526e-83\n"
     ]
    }
   ],
   "source": [
    "# resultado do teste de levene\n",
    "\n",
    "print(\"Levene's test statistic:\", statistic)\n",
    "print(\"p-value:\", p_value_levene)"
   ]
  },
  {
   "cell_type": "code",
   "execution_count": 158,
   "metadata": {},
   "outputs": [],
   "source": [
    "# funcao if para demonstrar se equal_var e falso ou verdadeiro\n",
    "\n",
    "if p_value_levene < alpha:\n",
    "    equal_var = False\n",
    "else:\n",
    "    equal_var = True"
   ]
  },
  {
   "cell_type": "code",
   "execution_count": 159,
   "metadata": {
    "scrolled": true
   },
   "outputs": [],
   "source": [
    "# fazendo ttest entre a media de receitas dos usarios de cada plano\n",
    "\n",
    "results = st.ttest_ind(ultimate_merged_filter['total'], surf_merged_filter['total'], equal_var = equal_var)"
   ]
  },
  {
   "cell_type": "code",
   "execution_count": 160,
   "metadata": {
    "scrolled": true
   },
   "outputs": [
    {
     "name": "stdout",
     "output_type": "stream",
     "text": [
      "p-value : 5.1234033722747646e-15\n"
     ]
    }
   ],
   "source": [
    "# imprimindo p-valor\n",
    "\n",
    "print('p-value :', results.pvalue)"
   ]
  },
  {
   "cell_type": "code",
   "execution_count": 161,
   "metadata": {},
   "outputs": [
    {
     "name": "stdout",
     "output_type": "stream",
     "text": [
      "Rejeitamos a hipótese nula\n"
     ]
    }
   ],
   "source": [
    "# resultado do teste\n",
    "\n",
    "if results.pvalue < alpha:\n",
    "    print('Rejeitamos a hipótese nula')\n",
    "else:\n",
    "    print(\"Nós não podemos rejeitar a hipótese nula\")"
   ]
  },
  {
   "cell_type": "markdown",
   "metadata": {},
   "source": [
    "Hipotese Nula : A receita media dos usuarios de area NY-NJ f sao iguais aos das demais regioes\n",
    "\n",
    "Hipotese Alternativa : A receita media dos usuarios da area NY-NJ sao diferentes das demais regioes"
   ]
  },
  {
   "cell_type": "code",
   "execution_count": 162,
   "metadata": {},
   "outputs": [],
   "source": [
    "# adicionando coluna 'city' por usuário\n",
    "\n",
    "merged_all_info = merged_all_info.merge(ml_user[['user_id', 'city']], on='user_id', how='left')"
   ]
  },
  {
   "cell_type": "code",
   "execution_count": 163,
   "metadata": {},
   "outputs": [
    {
     "name": "stdout",
     "output_type": "stream",
     "text": [
      "<class 'pandas.core.frame.DataFrame'>\n",
      "Int64Index: 2293 entries, 0 to 2292\n",
      "Data columns (total 23 columns):\n",
      " #   Column                 Non-Null Count  Dtype    \n",
      "---  ------                 --------------  -----    \n",
      " 0   user_id                2293 non-null   int64    \n",
      " 1   month                  2293 non-null   period[M]\n",
      " 2   mb_used                2293 non-null   float64  \n",
      " 3   msg_count              2293 non-null   float64  \n",
      " 4   duration               2293 non-null   float64  \n",
      " 5   calls                  2293 non-null   float64  \n",
      " 6   plan                   2293 non-null   object   \n",
      " 7   messages_included      2293 non-null   int64    \n",
      " 8   mb_per_month_included  2293 non-null   int64    \n",
      " 9   minutes_included       2293 non-null   int64    \n",
      " 10  usd_monthly_pay        2293 non-null   int64    \n",
      " 11  usd_per_gb             2293 non-null   int64    \n",
      " 12  usd_per_message        2293 non-null   float64  \n",
      " 13  usd_per_minute         2293 non-null   float64  \n",
      " 14  overspent_minutes      2293 non-null   float64  \n",
      " 15  overspent_msg          2293 non-null   float64  \n",
      " 16  overspent_gb           2293 non-null   float64  \n",
      " 17  usd_minutes            2293 non-null   float64  \n",
      " 18  usd_msg                2293 non-null   float64  \n",
      " 19  usd_gb                 2293 non-null   float64  \n",
      " 20  total_overspent        2293 non-null   float64  \n",
      " 21  total                  2293 non-null   float64  \n",
      " 22  city                   2293 non-null   object   \n",
      "dtypes: float64(14), int64(6), object(2), period[M](1)\n",
      "memory usage: 429.9+ KB\n"
     ]
    }
   ],
   "source": [
    "# verificando se dados mergiram\n",
    "\n",
    "merged_all_info.info()"
   ]
  },
  {
   "cell_type": "code",
   "execution_count": 164,
   "metadata": {},
   "outputs": [],
   "source": [
    "# filtrando por usuarios de NY\n",
    "\n",
    "ny_user = merged_all_info.query('city == \"New York-Newark-Jersey City, NY-NJ-PA MSA\"')"
   ]
  },
  {
   "cell_type": "code",
   "execution_count": 166,
   "metadata": {},
   "outputs": [],
   "source": [
    "# filtrando por usuarios de regiaos que nao NY\n",
    "\n",
    "other_regions_user = merged_all_info.query('city != \"New York-Newark-Jersey City, NY-NJ-PA MSA\"')"
   ]
  },
  {
   "cell_type": "code",
   "execution_count": null,
   "metadata": {},
   "outputs": [],
   "source": [
    "# ultilizando teste de levene para definir se equal_Var e False ou True\n",
    "\n",
    "statistic, p_value = levene(ny_user['total'], other_regions_user['total'])"
   ]
  },
  {
   "cell_type": "code",
   "execution_count": 169,
   "metadata": {},
   "outputs": [
    {
     "name": "stdout",
     "output_type": "stream",
     "text": [
      "Levene's test statistic: 406.5053238307018\n",
      "p-value: 2.3614579293558526e-83\n"
     ]
    }
   ],
   "source": [
    "# resultado do teste de levene\n",
    "\n",
    "print(\"Levene's test statistic:\", statistic)\n",
    "print(\"p-value:\", p_value)"
   ]
  },
  {
   "cell_type": "code",
   "execution_count": 170,
   "metadata": {},
   "outputs": [],
   "source": [
    "# funcao if para demonstrar se equal_var e falso ou verdadeiro\n",
    "\n",
    "if p_value < alpha:\n",
    "    equal_var1 = False\n",
    "else:\n",
    "    equal_var1 = True"
   ]
  },
  {
   "cell_type": "code",
   "execution_count": 171,
   "metadata": {},
   "outputs": [],
   "source": [
    "# fazendo ttest entre a media de receitas dos usuarios que sao de NY e ioutras regioes\n",
    "\n",
    "results1 = st.ttest_ind(ny_user['total'], other_regions_user['total'] , equal_var = equal_var1)"
   ]
  },
  {
   "cell_type": "code",
   "execution_count": 172,
   "metadata": {},
   "outputs": [
    {
     "name": "stdout",
     "output_type": "stream",
     "text": [
      "p-value : 0.03408041222493359\n"
     ]
    }
   ],
   "source": [
    "# imprimindo p-valor\n",
    "\n",
    "print('p-value :', results1.pvalue)"
   ]
  },
  {
   "cell_type": "code",
   "execution_count": 173,
   "metadata": {
    "scrolled": true
   },
   "outputs": [
    {
     "name": "stdout",
     "output_type": "stream",
     "text": [
      "Rejeitamos a hipótese nula\n"
     ]
    }
   ],
   "source": [
    "# resultado do teste\n",
    "\n",
    "if results1.pvalue < alpha:\n",
    "    print('Rejeitamos a hipótese nula')\n",
    "else:\n",
    "    print(\"Nós não podemos rejeitar a hipótese nula\")"
   ]
  },
  {
   "cell_type": "markdown",
   "metadata": {},
   "source": [
    "## Conclusão geral\n",
    "\n"
   ]
  },
  {
   "cell_type": "markdown",
   "metadata": {},
   "source": [
    "Os dados foram carregados e separadamente salvos de acordo com as informações que continham. Dados de chamadas, consumo de dados, mensagens, plano e usuários. Em todos os dados haviam tipos de dados que precisavam ser mudados, os dados de datas se encontravam em froam de objeto e foram trocados para foramto de data, e todos os tipos de dados em 'user_ID' foram trocados para valores inteiros. Alguams colunas foram renomeadas para facilitar a união das tabelas.\n",
    "\n",
    "Nos dados dos usuários, defini as datas ausentes em 'churn_date' para 01/01/2019. Para que possamos mensurar quanto tempo os usuários tem seu plano ativo, a data foi escolhida baseada na visualização das datas dentro dos dados. Todos os dados correspondem ano de 2018.\n",
    "Enriquecemos os dados dos usuários adicionando uma coluna que mostrasse quanto tempo de contrato cada cliente teve no plano.\n",
    "\n",
    "Nos dados das chamadas arredondei os valores da chamada para cima, já que independetemente to uso do minuto total, o cliente será cobrado pelo minuto. També, foram eliminadas linhas com duração igual a 0, essas colunas representam chamadas perdidas.\n",
    "Após isso, enriqueci os dados com a soma total de minutos ultilizados por cada usuário por mês.\n",
    "\n",
    "Nos dados de mensagens, também os enriqueci adicionando o valor total de mensagens enviadas por usuários por mês.\n",
    "\n",
    "Nos dados de consumo de dados, também arredondei o consumo de dados para cima e somei os total de uso de cada usuário por mês.\n",
    "\n",
    "Agrupei os dados com a quantidade de chamadas feitas pelo usuário por cada mês.\n",
    "\n",
    "Com dados enriquecidos e novos grupos de dados relevantes salvos em novas variaveis, comecei a juntar os dados em uma tabela geral que foi chamada de 'merged_all_info'. Apos a junção, percebi que não existiam valores 0 em algumas colunas que tinham valores ausentes, supus que os valores ausentes, significam o mesmo que valores 0, e substitui todos os valores ausentes por 0. Isso, também pensado para facilitar a matemática que seria usada nos dados mais à frente.\n",
    "\n",
    "Novamente, pude enriquecer essa nova tabela geral de dados, com novas colunas que representam a quantidade de minutos, mensagens e dados gastas por cada usuário, fora do que está incluso no plano contratado. Nos dados de sobre consumo de dados atualizei o formato de megabytes para gigabytes para facilitar o calculo da receita gasta por cada usuário mensalmente.\n",
    "\n",
    "Começamos a partir daí, analisar visualmente os dados plotando alguns graficos.\n",
    "\n",
    "Comparei e analisei mês a mÊs o consumo médio de minutos por mês dos usuários de cada plano. Foi possível ver uma tendência de aumento de chamadas ao longo dos meses do ano, o padrão de consumo aumenta conforme o ano passa. Os picos foram em Julho e Dezembro. Acredito que esse padrão exista devido as festividades de final de ano e as férias no meio do ano. A soma geral dos minutos usados mostram claramente que os clientes do plano surf consomem mais minutos do que os clientes do plano 'surf', porém média nem tanto, devido a quantidade menor de clientes no plano 'ultimate'.\n",
    "\n",
    "Também observamos dentro dos gráficos 'box' mais outliers dentro dos usuários do plano surf do que os usuários do plano ultimate.\n",
    "\n",
    "Analisamos após plotar o gráfico com a média mensal de uso de mensagens de texto por mês dos usuários de cada plano. Foi possível observar a mesma tendência de consumo, sendo o início do ano os meses de menor consumo e ao decorrer do ano o consumo aumenta, tendo pico médio em Dezembro.\n",
    "Outra vez, quando visualizamos a soma total do consumo dos usuários por mês, notamos que a média do 'ultimate' é similar ao do 'surf', mas na soma total o valor é bem menor comparado, mais uma vez, atribuo ao número menor de usuários do plano 'ultimate'.\n",
    "\n",
    "Quando visualizamos os graficos em box dos dois dados, encontramos diversos outliers nos usuários do plano 'surf' e pouquíssimos outliers no usuários do plano 'ultimate'. Quando comparado, os quartis dos usuários 'ultimate' são bem maiores, o que pode representar que usuários do 'ultimate' gastam mais dentro do valor do contrato.\n",
    "\n",
    "Nos dados de consumo de dados, vemos que a por média os usuários do 'ultimate' gastam mais do que os do 'surf' na maioria dos meses, novamente vemos o pico em Dezembro, porém chama a atenção um pico de uso de dados do usuários do plano 'ultimate' em Março. Na soma dos dados vemos a mesma conclusão, por terem mais usuários no plano 'surf' o total de consumo demonstrou ser sempre maior do que os usuários do outro plano.\n",
    "\n",
    "Concluimos que o plano surf gera 83% mais receita em total do que o plano ultimate.\n",
    "\n",
    "Novamente, em média os usuários do 'ultimate' gastam mais.\n",
    "\n",
    "Calculamos e demonstramos em gráficos, a quantidade de receita gerada por usuários por fora do plano. Dentro dessa análise foi significativo ver o gasto maior dos clientes 'surf' quando comparados aos dos usuarios do 'ultimate' Usuáridos do plano 'surf' geram uma receita 3719% maior com custos fora do plano 'surf' do que do 'ultimate'.\n",
    "\n",
    "Vendo que na maioria dos casos a média de gasto é maior dentro do plano ultimate, a equipe de marketing deveria concentrar o orçamento tentando trazer os usuários do plano 'surf' para o 'ultimate'.\n",
    "\n",
    "Por fim, testamos algumas hipóteses comparando suas médias.\n",
    "\n",
    "Primeiro teste, H0 = A receita media dos usuarios dos planos Ultimate e Surf sao iguais \n",
    "                HA = A receita media dos usuarios dos planos Ultimate e Surf sao diferentes\n",
    "                \n",
    "Utilizamos o ttest para verificar a hipótese e rejeitamos a hipótese nula, e aceitamos a hipótese alternativa.\n",
    "\n",
    "Segundo teste, H0 = A receita media dos usuarios de area NY-NJ f sao iguais aos das demais regioes\n",
    "               HA = A receita media dos usuarios da area NY-NJ sao diferentes das demais regioes\n",
    "               \n",
    "Utilizamos o ttest para verificar a hipótese e rejeitamos a hipótese nula, e aceitamos a hipótese alternativa.\n",
    "\n",
    "\n",
    "\n",
    "\n",
    "\n",
    "\n",
    "\n",
    "\n",
    "\n",
    "\n",
    "\n",
    "\n",
    "\n",
    "\n"
   ]
  },
  {
   "cell_type": "code",
   "execution_count": null,
   "metadata": {},
   "outputs": [],
   "source": []
  }
 ],
 "metadata": {
  "ExecuteTimeLog": [
   {
    "duration": 828,
    "start_time": "2021-11-16T09:21:11.304Z"
   },
   {
    "duration": 893,
    "start_time": "2021-11-16T09:21:17.728Z"
   },
   {
    "duration": 1150,
    "start_time": "2021-11-16T09:21:29.568Z"
   },
   {
    "duration": 3,
    "start_time": "2021-11-16T09:24:14.495Z"
   },
   {
    "duration": 120,
    "start_time": "2021-11-16T09:24:46.630Z"
   },
   {
    "duration": 3,
    "start_time": "2021-11-16T09:28:27.882Z"
   },
   {
    "duration": 4,
    "start_time": "2021-11-16T09:29:54.281Z"
   },
   {
    "duration": 3,
    "start_time": "2021-11-16T09:30:45.936Z"
   },
   {
    "duration": 4,
    "start_time": "2021-11-16T09:31:06.300Z"
   },
   {
    "duration": 113,
    "start_time": "2021-11-16T09:31:37.208Z"
   },
   {
    "duration": 143,
    "start_time": "2021-11-16T09:31:48.656Z"
   },
   {
    "duration": 98,
    "start_time": "2021-11-16T09:31:55.678Z"
   },
   {
    "duration": 3,
    "start_time": "2021-11-16T09:32:08.535Z"
   },
   {
    "duration": 111,
    "start_time": "2021-11-16T09:32:10.120Z"
   },
   {
    "duration": 3,
    "start_time": "2021-11-16T09:32:15.732Z"
   },
   {
    "duration": 4,
    "start_time": "2021-11-16T09:32:29.423Z"
   },
   {
    "duration": 3,
    "start_time": "2021-11-16T10:03:03.074Z"
   },
   {
    "duration": 3,
    "start_time": "2021-11-16T10:10:01.288Z"
   },
   {
    "duration": 3,
    "start_time": "2021-11-16T10:10:46.923Z"
   },
   {
    "duration": 121,
    "start_time": "2021-11-16T10:37:46.494Z"
   },
   {
    "duration": 125,
    "start_time": "2021-11-16T10:38:20.632Z"
   },
   {
    "duration": 112,
    "start_time": "2021-11-16T10:46:53.001Z"
   },
   {
    "duration": 110,
    "start_time": "2021-11-16T10:48:25.775Z"
   },
   {
    "duration": 3,
    "start_time": "2021-11-16T10:50:18.720Z"
   },
   {
    "duration": 4,
    "start_time": "2021-11-16T10:50:37.649Z"
   },
   {
    "duration": 2,
    "start_time": "2021-11-16T10:50:51.884Z"
   },
   {
    "duration": 3,
    "start_time": "2021-11-16T10:51:56.237Z"
   },
   {
    "duration": 101,
    "start_time": "2021-11-16T10:53:13.791Z"
   },
   {
    "duration": 3,
    "start_time": "2021-11-16T10:55:59.186Z"
   },
   {
    "duration": 3,
    "start_time": "2021-11-16T10:56:10.751Z"
   },
   {
    "duration": 3,
    "start_time": "2021-11-16T10:56:49.038Z"
   },
   {
    "duration": 3,
    "start_time": "2021-11-16T10:56:49.174Z"
   },
   {
    "duration": 4,
    "start_time": "2021-11-16T10:56:49.414Z"
   },
   {
    "duration": 3,
    "start_time": "2021-11-16T10:56:49.680Z"
   },
   {
    "duration": 3,
    "start_time": "2021-11-16T10:56:50.370Z"
   },
   {
    "duration": 114,
    "start_time": "2021-11-16T10:59:34.518Z"
   },
   {
    "duration": 3,
    "start_time": "2021-11-16T11:01:41.201Z"
   },
   {
    "duration": 116,
    "start_time": "2021-11-16T11:01:48.754Z"
   },
   {
    "duration": 3,
    "start_time": "2021-11-16T11:02:16.685Z"
   },
   {
    "duration": 3,
    "start_time": "2021-11-16T11:02:19.479Z"
   },
   {
    "duration": 3,
    "start_time": "2021-11-16T11:02:47.067Z"
   },
   {
    "duration": 3,
    "start_time": "2021-11-16T11:02:49.353Z"
   },
   {
    "duration": 3,
    "start_time": "2021-11-16T11:03:07.835Z"
   },
   {
    "duration": 3,
    "start_time": "2021-11-16T11:03:07.953Z"
   },
   {
    "duration": 112,
    "start_time": "2021-11-16T11:07:52.072Z"
   },
   {
    "duration": 187,
    "start_time": "2021-11-16T11:09:23.468Z"
   },
   {
    "duration": 4,
    "start_time": "2021-11-16T11:10:01.455Z"
   },
   {
    "duration": 3,
    "start_time": "2021-11-16T11:10:05.069Z"
   },
   {
    "duration": 4,
    "start_time": "2021-11-16T11:10:13.376Z"
   },
   {
    "duration": 3,
    "start_time": "2021-11-16T11:10:14.434Z"
   },
   {
    "duration": 3,
    "start_time": "2021-11-16T11:10:22.853Z"
   },
   {
    "duration": 4,
    "start_time": "2021-11-16T11:27:29.279Z"
   },
   {
    "duration": 4,
    "start_time": "2021-11-16T11:29:08.919Z"
   },
   {
    "duration": 118,
    "start_time": "2021-11-16T11:29:46.703Z"
   },
   {
    "duration": 437,
    "start_time": "2021-11-16T11:36:02.181Z"
   },
   {
    "duration": 157,
    "start_time": "2021-11-16T11:36:14.388Z"
   },
   {
    "duration": 207,
    "start_time": "2021-11-16T11:47:15.898Z"
   },
   {
    "duration": 3,
    "start_time": "2021-11-16T11:53:52.092Z"
   },
   {
    "duration": 3,
    "start_time": "2021-11-16T11:53:52.236Z"
   },
   {
    "duration": 3,
    "start_time": "2021-11-16T11:59:12.005Z"
   },
   {
    "duration": 112,
    "start_time": "2021-11-16T12:00:33.446Z"
   },
   {
    "duration": 3,
    "start_time": "2021-11-16T12:02:14.453Z"
   },
   {
    "duration": 3,
    "start_time": "2021-11-16T12:02:39.512Z"
   },
   {
    "duration": 106,
    "start_time": "2021-11-16T12:03:03.460Z"
   },
   {
    "duration": 3,
    "start_time": "2021-11-17T20:37:21.139Z"
   },
   {
    "duration": 3,
    "start_time": "2021-11-17T20:37:22.229Z"
   },
   {
    "duration": 3,
    "start_time": "2021-11-17T20:38:38.806Z"
   },
   {
    "duration": 3,
    "start_time": "2021-11-17T20:38:41.958Z"
   },
   {
    "duration": 3,
    "start_time": "2021-11-17T20:43:46.551Z"
   },
   {
    "duration": 4,
    "start_time": "2021-11-17T20:58:21.835Z"
   },
   {
    "duration": 3,
    "start_time": "2021-11-17T20:59:21.872Z"
   },
   {
    "duration": 4,
    "start_time": "2021-11-17T20:59:45.352Z"
   },
   {
    "duration": 4,
    "start_time": "2021-11-17T20:59:49.646Z"
   },
   {
    "duration": 159,
    "start_time": "2021-11-17T21:02:26.949Z"
   },
   {
    "duration": 3,
    "start_time": "2021-11-17T21:03:53.461Z"
   },
   {
    "duration": 3,
    "start_time": "2021-11-17T21:03:53.694Z"
   },
   {
    "duration": 3,
    "start_time": "2021-11-17T21:05:28.145Z"
   },
   {
    "duration": 116,
    "start_time": "2021-11-17T21:05:57.787Z"
   },
   {
    "duration": 3,
    "start_time": "2021-11-17T21:06:37.993Z"
   },
   {
    "duration": 3,
    "start_time": "2021-11-17T21:06:38.261Z"
   },
   {
    "duration": 3,
    "start_time": "2021-11-17T21:11:54.358Z"
   },
   {
    "duration": 3,
    "start_time": "2021-11-17T21:12:43.846Z"
   },
   {
    "duration": 4,
    "start_time": "2021-11-17T21:13:08.773Z"
   },
   {
    "duration": 3,
    "start_time": "2021-11-17T21:14:44.441Z"
   },
   {
    "duration": 3,
    "start_time": "2021-11-17T21:15:42.059Z"
   },
   {
    "duration": 4,
    "start_time": "2021-11-17T21:15:51.995Z"
   },
   {
    "duration": 3,
    "start_time": "2021-11-17T21:15:53.923Z"
   },
   {
    "duration": 3,
    "start_time": "2021-11-17T21:15:55.282Z"
   },
   {
    "duration": 3,
    "start_time": "2021-11-17T21:16:28.492Z"
   },
   {
    "duration": 3,
    "start_time": "2021-11-17T21:16:32.603Z"
   },
   {
    "duration": 3,
    "start_time": "2021-11-17T21:17:06.941Z"
   },
   {
    "duration": 98,
    "start_time": "2021-11-17T21:18:05.733Z"
   },
   {
    "duration": 4,
    "start_time": "2021-11-17T21:21:35.255Z"
   },
   {
    "duration": 3,
    "start_time": "2021-11-17T21:21:37.804Z"
   },
   {
    "duration": 4,
    "start_time": "2021-11-17T21:23:06.071Z"
   },
   {
    "duration": 3,
    "start_time": "2021-11-17T21:23:24.799Z"
   },
   {
    "duration": 3,
    "start_time": "2021-11-17T21:23:32.591Z"
   },
   {
    "duration": 98,
    "start_time": "2021-11-17T21:28:31.559Z"
   },
   {
    "duration": 3,
    "start_time": "2021-11-17T21:28:45.448Z"
   },
   {
    "duration": 3,
    "start_time": "2021-11-17T21:29:17.303Z"
   },
   {
    "duration": 3,
    "start_time": "2021-11-17T21:29:29.617Z"
   },
   {
    "duration": 3,
    "start_time": "2021-11-17T21:29:32.681Z"
   },
   {
    "duration": 3,
    "start_time": "2021-11-17T21:36:11.474Z"
   },
   {
    "duration": 3,
    "start_time": "2021-11-17T21:36:14.791Z"
   },
   {
    "duration": 3,
    "start_time": "2021-11-17T21:36:53.943Z"
   },
   {
    "duration": 3,
    "start_time": "2021-11-17T21:36:56.165Z"
   },
   {
    "duration": 4,
    "start_time": "2021-11-17T21:37:16.590Z"
   },
   {
    "duration": 3,
    "start_time": "2021-11-17T21:37:22.702Z"
   },
   {
    "duration": 4,
    "start_time": "2021-11-17T21:38:03.479Z"
   },
   {
    "duration": 3,
    "start_time": "2021-11-17T21:38:08.601Z"
   },
   {
    "duration": 3,
    "start_time": "2021-11-17T21:38:12.928Z"
   },
   {
    "duration": 3,
    "start_time": "2021-11-17T21:38:48.896Z"
   },
   {
    "duration": 2,
    "start_time": "2021-11-17T21:38:49.171Z"
   },
   {
    "duration": 4,
    "start_time": "2021-11-17T21:39:57.889Z"
   },
   {
    "duration": 3,
    "start_time": "2021-11-17T21:39:58.057Z"
   },
   {
    "duration": 3,
    "start_time": "2021-11-17T21:41:20.108Z"
   },
   {
    "duration": 3,
    "start_time": "2021-11-17T21:41:20.629Z"
   },
   {
    "duration": 3,
    "start_time": "2021-11-17T21:42:49.136Z"
   },
   {
    "duration": 3,
    "start_time": "2021-11-17T21:43:15.137Z"
   },
   {
    "duration": 4,
    "start_time": "2021-11-17T21:43:16.766Z"
   },
   {
    "duration": 4,
    "start_time": "2021-11-17T21:43:31.711Z"
   },
   {
    "duration": 3,
    "start_time": "2021-11-17T21:43:36.312Z"
   },
   {
    "duration": 4,
    "start_time": "2021-11-17T21:45:08.825Z"
   },
   {
    "duration": 4,
    "start_time": "2021-11-17T21:45:10.119Z"
   },
   {
    "duration": 4,
    "start_time": "2021-11-17T21:45:13.748Z"
   },
   {
    "duration": 3,
    "start_time": "2021-11-17T21:45:22.219Z"
   },
   {
    "duration": 3,
    "start_time": "2021-11-17T21:45:33.412Z"
   },
   {
    "duration": 2,
    "start_time": "2021-11-17T21:46:01.885Z"
   },
   {
    "duration": 3,
    "start_time": "2021-11-17T21:46:03.628Z"
   },
   {
    "duration": 107,
    "start_time": "2021-11-17T21:47:32.512Z"
   },
   {
    "duration": 103,
    "start_time": "2021-11-17T21:50:36.243Z"
   },
   {
    "duration": 3,
    "start_time": "2021-11-18T06:28:31.440Z"
   },
   {
    "duration": 3,
    "start_time": "2021-11-18T06:29:00.168Z"
   },
   {
    "duration": 3,
    "start_time": "2021-11-18T06:31:27.008Z"
   },
   {
    "duration": 2,
    "start_time": "2021-11-18T06:35:34.288Z"
   },
   {
    "duration": 2,
    "start_time": "2021-11-18T06:38:04.527Z"
   }
  ],
  "kernelspec": {
   "display_name": "anaconda-2022.05-py39",
   "language": "python",
   "name": "conda-env-anaconda-2022.05-py39-py"
  },
  "language_info": {
   "codemirror_mode": {
    "name": "ipython",
    "version": 3
   },
   "file_extension": ".py",
   "mimetype": "text/x-python",
   "name": "python",
   "nbconvert_exporter": "python",
   "pygments_lexer": "ipython3",
   "version": "3.9.12"
  },
  "toc": {
   "base_numbering": 1,
   "nav_menu": {},
   "number_sections": true,
   "sideBar": true,
   "skip_h1_title": false,
   "title_cell": "Table of Contents",
   "title_sidebar": "Contents",
   "toc_cell": false,
   "toc_position": {
    "height": "calc(100% - 180px)",
    "left": "10px",
    "top": "150px",
    "width": "165px"
   },
   "toc_section_display": true,
   "toc_window_display": true
  }
 },
 "nbformat": 4,
 "nbformat_minor": 4
}
