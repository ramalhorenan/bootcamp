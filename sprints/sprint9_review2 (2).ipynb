{
 "cells": [
  {
   "cell_type": "markdown",
   "id": "762a32db",
   "metadata": {},
   "source": [
    "\n",
    "\n",
    "Olá estudante!\n",
    "\n",
    "Me chamo Rafael Meirelles e irei revisar o seu projeto hoje e em eventuais futuras submissões até que ele cumpra todos os requisitos para o aceite.\n",
    "Conte comigo nessa jornada e não se preocupe se precisar ajustar alguns detalhes, é parte do processo e fundamental para que você exercite os conceitos que vem aprendendo e assim melhore a qualidade dos seus códigos e análises.\n",
    "\n",
    "**Peço que mantenha e não altereos comentários que eu fizer por aqui para que possamos nos localizar posteriormente, ok?**\n",
    "\n",
    "Mais uma coisa, vamos utilizar um código de cores para você entender os meus feedbacks no seu notebook. Funciona assim:\n",
    "\n",
    "\n",
    "<div class=\"alert alert-danger\">\n",
    "<strong>Vermelho</strong>\n",
    "\n",
    "Erro que precisa ser consertado, caso contrário, seu projeto não pode ser aceito\n",
    "\n",
    "</div>\n",
    "\n",
    "<div class=\"alert alert-warning\">\n",
    "<strong>Amarelo</strong>\n",
    "\n",
    "Alerta de um erro não crítco, mas que pode ser corrigido para melhoria geral no seu código/análise\n",
    "\n",
    "</div>\n",
    "\n",
    "<div class=\"alert alert-success\">\n",
    "<strong>Verde</strong>\n",
    "\n",
    "Elogios\n",
    "</div>\n",
    "\n",
    "<div class=\"alert alert-info\">\n",
    "<strong>Comentário do estudante</strong>\n",
    "\n",
    "Use uma caixa azul como essa para eventuais comentários que você gostaria de fazer para mim.\n",
    "</div>\n"
   ]
  },
  {
   "cell_type": "markdown",
   "id": "ae69ab19-7e75-487b-84cc-542864c163f3",
   "metadata": {},
   "source": [
    "# Project Description"
   ]
  },
  {
   "cell_type": "markdown",
   "id": "b1e972c8-72d1-48d6-b24d-88970c32bad4",
   "metadata": {},
   "source": [
    "\n",
    "Você decidiu abrir uma pequena cafeteria com garçons robôs em Los Angeles. É um\n",
    "projeto bem promissor, mas caro, então você e seus parceiros decidem tentar atrair\n",
    "investidores. Eles estão interessados nas condições atuais do mercado e querem saber\n",
    "se você conseguirá manter seu sucesso quando a novidade de garçons robôs\n",
    "esmorecer.\n",
    "Você é um guru de análise, então seus parceiros te pediram para preparar uma\n",
    "pesquisa do mercado. Você tem dados de código aberto sobre restaurantes em LA.\n"
   ]
  },
  {
   "cell_type": "markdown",
   "id": "e7f00d0a-69cf-4f02-8133-b9c56a812d4e",
   "metadata": {},
   "source": [
    "## initializing "
   ]
  },
  {
   "cell_type": "code",
   "execution_count": 246,
   "id": "ec9dfec1-4d9f-48a6-9b61-21331b9c2fdc",
   "metadata": {},
   "outputs": [],
   "source": [
    "# importing libraries\n",
    "\n",
    "import pandas as pd\n",
    "import numpy as np\n",
    "import seaborn as sns\n",
    "import matplotlib.pyplot as plt\n",
    "from plotly import graph_objects as go\n",
    "from numpy import linspace\n"
   ]
  },
  {
   "cell_type": "markdown",
   "id": "6a0ee4b2-6d5f-4fce-9109-0080be0ab838",
   "metadata": {},
   "source": [
    "## reading files"
   ]
  },
  {
   "cell_type": "code",
   "execution_count": 248,
   "id": "8c1935e5-8010-420f-ba79-91d5c2ee3abb",
   "metadata": {},
   "outputs": [],
   "source": [
    "# reading files\n",
    "\n",
    "try:\n",
    "    rest = pd.read_csv(\"/datasets/rest_data_us.csv\")\n",
    "\n",
    "except FileNotFoundError:\n",
    "    rest = pd.read_csv(\"rest_data_us.csv\")"
   ]
  },
  {
   "cell_type": "code",
   "execution_count": 249,
   "id": "d332072a-7afe-4f54-91fd-089abdc91a28",
   "metadata": {},
   "outputs": [
    {
     "data": {
      "text/html": [
       "<div>\n",
       "<style scoped>\n",
       "    .dataframe tbody tr th:only-of-type {\n",
       "        vertical-align: middle;\n",
       "    }\n",
       "\n",
       "    .dataframe tbody tr th {\n",
       "        vertical-align: top;\n",
       "    }\n",
       "\n",
       "    .dataframe thead th {\n",
       "        text-align: right;\n",
       "    }\n",
       "</style>\n",
       "<table border=\"1\" class=\"dataframe\">\n",
       "  <thead>\n",
       "    <tr style=\"text-align: right;\">\n",
       "      <th></th>\n",
       "      <th>id</th>\n",
       "      <th>object_name</th>\n",
       "      <th>address</th>\n",
       "      <th>chain</th>\n",
       "      <th>object_type</th>\n",
       "      <th>number</th>\n",
       "    </tr>\n",
       "  </thead>\n",
       "  <tbody>\n",
       "    <tr>\n",
       "      <th>0</th>\n",
       "      <td>11786</td>\n",
       "      <td>HABITAT COFFEE SHOP</td>\n",
       "      <td>3708 N EAGLE ROCK BLVD</td>\n",
       "      <td>False</td>\n",
       "      <td>Cafe</td>\n",
       "      <td>26</td>\n",
       "    </tr>\n",
       "    <tr>\n",
       "      <th>1</th>\n",
       "      <td>11787</td>\n",
       "      <td>REILLY'S</td>\n",
       "      <td>100 WORLD WAY # 120</td>\n",
       "      <td>False</td>\n",
       "      <td>Restaurant</td>\n",
       "      <td>9</td>\n",
       "    </tr>\n",
       "    <tr>\n",
       "      <th>2</th>\n",
       "      <td>11788</td>\n",
       "      <td>STREET CHURROS</td>\n",
       "      <td>6801 HOLLYWOOD BLVD # 253</td>\n",
       "      <td>False</td>\n",
       "      <td>Fast Food</td>\n",
       "      <td>20</td>\n",
       "    </tr>\n",
       "    <tr>\n",
       "      <th>3</th>\n",
       "      <td>11789</td>\n",
       "      <td>TRINITI ECHO PARK</td>\n",
       "      <td>1814 W SUNSET BLVD</td>\n",
       "      <td>False</td>\n",
       "      <td>Restaurant</td>\n",
       "      <td>22</td>\n",
       "    </tr>\n",
       "    <tr>\n",
       "      <th>4</th>\n",
       "      <td>11790</td>\n",
       "      <td>POLLEN</td>\n",
       "      <td>2100 ECHO PARK AVE</td>\n",
       "      <td>False</td>\n",
       "      <td>Restaurant</td>\n",
       "      <td>20</td>\n",
       "    </tr>\n",
       "  </tbody>\n",
       "</table>\n",
       "</div>"
      ],
      "text/plain": [
       "      id          object_name                    address  chain object_type  \\\n",
       "0  11786  HABITAT COFFEE SHOP     3708 N EAGLE ROCK BLVD  False        Cafe   \n",
       "1  11787             REILLY'S        100 WORLD WAY # 120  False  Restaurant   \n",
       "2  11788       STREET CHURROS  6801 HOLLYWOOD BLVD # 253  False   Fast Food   \n",
       "3  11789    TRINITI ECHO PARK         1814 W SUNSET BLVD  False  Restaurant   \n",
       "4  11790               POLLEN         2100 ECHO PARK AVE  False  Restaurant   \n",
       "\n",
       "   number  \n",
       "0      26  \n",
       "1       9  \n",
       "2      20  \n",
       "3      22  \n",
       "4      20  "
      ]
     },
     "execution_count": 249,
     "metadata": {},
     "output_type": "execute_result"
    }
   ],
   "source": [
    "rest.head()"
   ]
  },
  {
   "cell_type": "code",
   "execution_count": 250,
   "id": "e34ade61-1767-4a60-82ad-1d1a2c6ce26f",
   "metadata": {},
   "outputs": [
    {
     "name": "stdout",
     "output_type": "stream",
     "text": [
      "<class 'pandas.core.frame.DataFrame'>\n",
      "RangeIndex: 9651 entries, 0 to 9650\n",
      "Data columns (total 6 columns):\n",
      " #   Column       Non-Null Count  Dtype \n",
      "---  ------       --------------  ----- \n",
      " 0   id           9651 non-null   int64 \n",
      " 1   object_name  9651 non-null   object\n",
      " 2   address      9651 non-null   object\n",
      " 3   chain        9648 non-null   object\n",
      " 4   object_type  9651 non-null   object\n",
      " 5   number       9651 non-null   int64 \n",
      "dtypes: int64(2), object(4)\n",
      "memory usage: 452.5+ KB\n"
     ]
    }
   ],
   "source": [
    "rest.info()"
   ]
  },
  {
   "cell_type": "code",
   "execution_count": 251,
   "id": "4e59e956-3872-4e19-8387-003dd29b7805",
   "metadata": {},
   "outputs": [
    {
     "data": {
      "text/plain": [
       "False    9651\n",
       "dtype: int64"
      ]
     },
     "execution_count": 251,
     "metadata": {},
     "output_type": "execute_result"
    }
   ],
   "source": [
    "# checking for duplicated values\n",
    "\n",
    "rest.duplicated().value_counts()"
   ]
  },
  {
   "cell_type": "markdown",
   "id": "3810b227-62b1-4b50-9d3a-9e3f14a549e4",
   "metadata": {},
   "source": [
    "* 3 missing values were found in 'chain' column\n",
    "* no duplicated values found\n",
    "* data needs no type modification"
   ]
  },
  {
   "cell_type": "markdown",
   "id": "6d1e352e-f3cb-4e56-ad89-31fa8d0b4bb3",
   "metadata": {},
   "source": [
    "## cleaning data"
   ]
  },
  {
   "cell_type": "code",
   "execution_count": 254,
   "id": "1e5ed514-6f27-48dd-8eaf-95d3e6f40029",
   "metadata": {},
   "outputs": [
    {
     "data": {
      "text/plain": [
       "False    99.968915\n",
       "True      0.031085\n",
       "Name: chain, dtype: float64"
      ]
     },
     "execution_count": 254,
     "metadata": {},
     "output_type": "execute_result"
    }
   ],
   "source": [
    "# calculating percentage of missing values\n",
    "\n",
    "(rest['chain'].isna().value_counts() / len(rest)) * 100"
   ]
  },
  {
   "cell_type": "code",
   "execution_count": 255,
   "id": "8bacf837-a5a6-4c7d-942a-bd382034ceb9",
   "metadata": {},
   "outputs": [],
   "source": [
    "# dropping missing values data\n",
    "\n",
    "rest = rest.dropna(subset=['chain'])"
   ]
  },
  {
   "cell_type": "code",
   "execution_count": 256,
   "id": "ca89c66e-cfd2-46d6-b2bd-97d0153bf3d7",
   "metadata": {},
   "outputs": [
    {
     "name": "stdout",
     "output_type": "stream",
     "text": [
      "<class 'pandas.core.frame.DataFrame'>\n",
      "Int64Index: 9648 entries, 0 to 9650\n",
      "Data columns (total 6 columns):\n",
      " #   Column       Non-Null Count  Dtype \n",
      "---  ------       --------------  ----- \n",
      " 0   id           9648 non-null   int64 \n",
      " 1   object_name  9648 non-null   object\n",
      " 2   address      9648 non-null   object\n",
      " 3   chain        9648 non-null   object\n",
      " 4   object_type  9648 non-null   object\n",
      " 5   number       9648 non-null   int64 \n",
      "dtypes: int64(2), object(4)\n",
      "memory usage: 527.6+ KB\n"
     ]
    }
   ],
   "source": [
    "rest.info()"
   ]
  },
  {
   "cell_type": "markdown",
   "id": "5078037e-48a5-424e-8a6b-e29fe591a859",
   "metadata": {},
   "source": [
    "    Missing values are 0.03% of total data, I decided to drop the rows with missing values"
   ]
  },
  {
   "cell_type": "markdown",
   "id": "1652e05a",
   "metadata": {},
   "source": [
    "<div class=\"alert alert-success\">\n",
    "<strong>Comentário do revisor v1</strong>\n",
    "\n",
    "Excelente trabalho checando a consistência dos dados.\n",
    "\n",
    "Sempre importante para garantir uma análise robusta!\n",
    "</div>\n"
   ]
  },
  {
   "cell_type": "markdown",
   "id": "2a3c9496-e7c3-4a22-8b3e-24256bcb96af",
   "metadata": {},
   "source": [
    "# Analyzing data"
   ]
  },
  {
   "cell_type": "markdown",
   "id": "19d2c09a-d7e2-4077-bfde-ed4c6aba51ac",
   "metadata": {},
   "source": [
    "### Investigue as proporções de vários tipos de estabelecimentos. Construa um gráfico."
   ]
  },
  {
   "cell_type": "code",
   "execution_count": 261,
   "id": "06e25528-3172-47f6-bab9-8f5867b89cda",
   "metadata": {},
   "outputs": [
    {
     "data": {
      "image/png": "[encoded data removed]",
      "text/plain": [
       "<Figure size 864x576 with 1 Axes>"
      ]
     },
     "metadata": {
      "needs_background": "light"
     },
     "output_type": "display_data"
    }
   ],
   "source": [
    "# ploting with matplotlib\n",
    "\n",
    "plt.figure(figsize=(12,8))\n",
    "rest['object_type'].value_counts().plot(kind='bar')\n",
    "plt.title('Plot of Restaurant Types')\n",
    "plt.xlabel('Restaurant Type')\n",
    "plt.ylabel('Count')\n",
    "plt.xticks(rotation=0)\n",
    "plt.show()"
   ]
  },
  {
   "cell_type": "code",
   "execution_count": 262,
   "id": "04e66ee9-46b0-4768-ba31-3a3ea4bae6e5",
   "metadata": {},
   "outputs": [],
   "source": [
    "# saving restaurant types counts in rest_type variable\n",
    "\n",
    "rest_type = rest['object_type'].value_counts().reset_index(name='count')\n"
   ]
  },
  {
   "cell_type": "code",
   "execution_count": 263,
   "id": "338b2760-29e2-45c2-a586-ac7d587a27f1",
   "metadata": {},
   "outputs": [
    {
     "data": {
      "text/html": [
       "<div>\n",
       "<style scoped>\n",
       "    .dataframe tbody tr th:only-of-type {\n",
       "        vertical-align: middle;\n",
       "    }\n",
       "\n",
       "    .dataframe tbody tr th {\n",
       "        vertical-align: top;\n",
       "    }\n",
       "\n",
       "    .dataframe thead th {\n",
       "        text-align: right;\n",
       "    }\n",
       "</style>\n",
       "<table border=\"1\" class=\"dataframe\">\n",
       "  <thead>\n",
       "    <tr style=\"text-align: right;\">\n",
       "      <th></th>\n",
       "      <th>index</th>\n",
       "      <th>count</th>\n",
       "    </tr>\n",
       "  </thead>\n",
       "  <tbody>\n",
       "    <tr>\n",
       "      <th>0</th>\n",
       "      <td>Restaurant</td>\n",
       "      <td>7253</td>\n",
       "    </tr>\n",
       "    <tr>\n",
       "      <th>1</th>\n",
       "      <td>Fast Food</td>\n",
       "      <td>1066</td>\n",
       "    </tr>\n",
       "    <tr>\n",
       "      <th>2</th>\n",
       "      <td>Cafe</td>\n",
       "      <td>435</td>\n",
       "    </tr>\n",
       "    <tr>\n",
       "      <th>3</th>\n",
       "      <td>Pizza</td>\n",
       "      <td>319</td>\n",
       "    </tr>\n",
       "    <tr>\n",
       "      <th>4</th>\n",
       "      <td>Bar</td>\n",
       "      <td>292</td>\n",
       "    </tr>\n",
       "    <tr>\n",
       "      <th>5</th>\n",
       "      <td>Bakery</td>\n",
       "      <td>283</td>\n",
       "    </tr>\n",
       "  </tbody>\n",
       "</table>\n",
       "</div>"
      ],
      "text/plain": [
       "        index  count\n",
       "0  Restaurant   7253\n",
       "1   Fast Food   1066\n",
       "2        Cafe    435\n",
       "3       Pizza    319\n",
       "4         Bar    292\n",
       "5      Bakery    283"
      ]
     },
     "execution_count": 263,
     "metadata": {},
     "output_type": "execute_result"
    }
   ],
   "source": [
    "rest_type"
   ]
  },
  {
   "cell_type": "code",
   "execution_count": 264,
   "id": "721e7c2a-a090-4f6d-b64e-1d0e2b90cd9b",
   "metadata": {},
   "outputs": [
    {
     "data": {
      "text/html": [
       "<div>\n",
       "<style scoped>\n",
       "    .dataframe tbody tr th:only-of-type {\n",
       "        vertical-align: middle;\n",
       "    }\n",
       "\n",
       "    .dataframe tbody tr th {\n",
       "        vertical-align: top;\n",
       "    }\n",
       "\n",
       "    .dataframe thead th {\n",
       "        text-align: right;\n",
       "    }\n",
       "</style>\n",
       "<table border=\"1\" class=\"dataframe\">\n",
       "  <thead>\n",
       "    <tr style=\"text-align: right;\">\n",
       "      <th></th>\n",
       "      <th>index</th>\n",
       "      <th>count</th>\n",
       "      <th>ratio</th>\n",
       "    </tr>\n",
       "  </thead>\n",
       "  <tbody>\n",
       "    <tr>\n",
       "      <th>0</th>\n",
       "      <td>Restaurant</td>\n",
       "      <td>7253</td>\n",
       "      <td>75.176202</td>\n",
       "    </tr>\n",
       "    <tr>\n",
       "      <th>1</th>\n",
       "      <td>Fast Food</td>\n",
       "      <td>1066</td>\n",
       "      <td>11.048922</td>\n",
       "    </tr>\n",
       "    <tr>\n",
       "      <th>2</th>\n",
       "      <td>Cafe</td>\n",
       "      <td>435</td>\n",
       "      <td>4.508706</td>\n",
       "    </tr>\n",
       "    <tr>\n",
       "      <th>3</th>\n",
       "      <td>Pizza</td>\n",
       "      <td>319</td>\n",
       "      <td>3.306385</td>\n",
       "    </tr>\n",
       "    <tr>\n",
       "      <th>4</th>\n",
       "      <td>Bar</td>\n",
       "      <td>292</td>\n",
       "      <td>3.026534</td>\n",
       "    </tr>\n",
       "    <tr>\n",
       "      <th>5</th>\n",
       "      <td>Bakery</td>\n",
       "      <td>283</td>\n",
       "      <td>2.933250</td>\n",
       "    </tr>\n",
       "  </tbody>\n",
       "</table>\n",
       "</div>"
      ],
      "text/plain": [
       "        index  count      ratio\n",
       "0  Restaurant   7253  75.176202\n",
       "1   Fast Food   1066  11.048922\n",
       "2        Cafe    435   4.508706\n",
       "3       Pizza    319   3.306385\n",
       "4         Bar    292   3.026534\n",
       "5      Bakery    283   2.933250"
      ]
     },
     "execution_count": 264,
     "metadata": {},
     "output_type": "execute_result"
    }
   ],
   "source": [
    "# calculating ratio\n",
    "\n",
    "rest_type['ratio'] = (rest_type['count'] / rest_type['count'].sum())*100\n",
    "rest_type"
   ]
  },
  {
   "cell_type": "code",
   "execution_count": 265,
   "id": "fb0b2aa8-ac66-4f38-8dc0-b4ab085e1094",
   "metadata": {},
   "outputs": [],
   "source": [
    "rest_type = rest_type.rename(columns={'index':'object_type'})"
   ]
  },
  {
   "cell_type": "code",
   "execution_count": 266,
   "id": "3132a1b8-20df-4f6a-b282-0b939675454a",
   "metadata": {},
   "outputs": [
    {
     "data": {
      "image/png": "[encoded data removed]",
      "text/plain": [
       "<Figure size 864x576 with 1 Axes>"
      ]
     },
     "metadata": {
      "needs_background": "light"
     },
     "output_type": "display_data"
    }
   ],
   "source": [
    "# ploting with seaborn\n",
    "\n",
    "plt.figure(figsize=(12, 8))\n",
    "sns.barplot(x='object_type', y='count', data=rest_type) \n",
    "for index, value in enumerate(rest_type['count']):\n",
    "    plt.text(index, value + 0.1, str(value), ha='center', va='bottom')\n",
    "plt.xlabel('Restaurant Type')\n",
    "plt.ylabel('Count')\n",
    "plt.title('Plot of Restaurant Types')\n",
    "plt.show()"
   ]
  },
  {
   "cell_type": "markdown",
   "id": "97c0f7bd-839b-413c-88d4-5f2110695d12",
   "metadata": {},
   "source": [
    "    we can see restaurant make 75% of all types, fast food come as second with only 11%"
   ]
  },
  {
   "cell_type": "markdown",
   "id": "8fd19457",
   "metadata": {},
   "source": [
    "<div class=\"alert alert-success\">\n",
    "<strong>Comentário do revisor v1</strong>\n",
    "\n",
    "Perfeito, boa escoha de visualização!\n",
    "</div>\n"
   ]
  },
  {
   "cell_type": "markdown",
   "id": "4cec0fc8-713e-4f82-9257-3eb9c214ee82",
   "metadata": {},
   "source": [
    "### Investigue as proporções de estabelecimentos de rede e não. Construa um gráfico."
   ]
  },
  {
   "cell_type": "code",
   "execution_count": 270,
   "id": "f7c9e194-17a9-4239-8857-da4176eda109",
   "metadata": {},
   "outputs": [
    {
     "data": {
      "text/html": [
       "<div>\n",
       "<style scoped>\n",
       "    .dataframe tbody tr th:only-of-type {\n",
       "        vertical-align: middle;\n",
       "    }\n",
       "\n",
       "    .dataframe tbody tr th {\n",
       "        vertical-align: top;\n",
       "    }\n",
       "\n",
       "    .dataframe thead th {\n",
       "        text-align: right;\n",
       "    }\n",
       "</style>\n",
       "<table border=\"1\" class=\"dataframe\">\n",
       "  <thead>\n",
       "    <tr style=\"text-align: right;\">\n",
       "      <th></th>\n",
       "      <th>id</th>\n",
       "      <th>object_name</th>\n",
       "      <th>address</th>\n",
       "      <th>chain</th>\n",
       "      <th>object_type</th>\n",
       "      <th>number</th>\n",
       "    </tr>\n",
       "  </thead>\n",
       "  <tbody>\n",
       "    <tr>\n",
       "      <th>0</th>\n",
       "      <td>11786</td>\n",
       "      <td>HABITAT COFFEE SHOP</td>\n",
       "      <td>3708 N EAGLE ROCK BLVD</td>\n",
       "      <td>False</td>\n",
       "      <td>Cafe</td>\n",
       "      <td>26</td>\n",
       "    </tr>\n",
       "    <tr>\n",
       "      <th>1</th>\n",
       "      <td>11787</td>\n",
       "      <td>REILLY'S</td>\n",
       "      <td>100 WORLD WAY # 120</td>\n",
       "      <td>False</td>\n",
       "      <td>Restaurant</td>\n",
       "      <td>9</td>\n",
       "    </tr>\n",
       "    <tr>\n",
       "      <th>2</th>\n",
       "      <td>11788</td>\n",
       "      <td>STREET CHURROS</td>\n",
       "      <td>6801 HOLLYWOOD BLVD # 253</td>\n",
       "      <td>False</td>\n",
       "      <td>Fast Food</td>\n",
       "      <td>20</td>\n",
       "    </tr>\n",
       "    <tr>\n",
       "      <th>3</th>\n",
       "      <td>11789</td>\n",
       "      <td>TRINITI ECHO PARK</td>\n",
       "      <td>1814 W SUNSET BLVD</td>\n",
       "      <td>False</td>\n",
       "      <td>Restaurant</td>\n",
       "      <td>22</td>\n",
       "    </tr>\n",
       "    <tr>\n",
       "      <th>4</th>\n",
       "      <td>11790</td>\n",
       "      <td>POLLEN</td>\n",
       "      <td>2100 ECHO PARK AVE</td>\n",
       "      <td>False</td>\n",
       "      <td>Restaurant</td>\n",
       "      <td>20</td>\n",
       "    </tr>\n",
       "  </tbody>\n",
       "</table>\n",
       "</div>"
      ],
      "text/plain": [
       "      id          object_name                    address  chain object_type  \\\n",
       "0  11786  HABITAT COFFEE SHOP     3708 N EAGLE ROCK BLVD  False        Cafe   \n",
       "1  11787             REILLY'S        100 WORLD WAY # 120  False  Restaurant   \n",
       "2  11788       STREET CHURROS  6801 HOLLYWOOD BLVD # 253  False   Fast Food   \n",
       "3  11789    TRINITI ECHO PARK         1814 W SUNSET BLVD  False  Restaurant   \n",
       "4  11790               POLLEN         2100 ECHO PARK AVE  False  Restaurant   \n",
       "\n",
       "   number  \n",
       "0      26  \n",
       "1       9  \n",
       "2      20  \n",
       "3      22  \n",
       "4      20  "
      ]
     },
     "execution_count": 270,
     "metadata": {},
     "output_type": "execute_result"
    }
   ],
   "source": [
    "rest.head()"
   ]
  },
  {
   "cell_type": "code",
   "execution_count": 271,
   "id": "292660c1-f457-4f9a-acb5-0a73cc4abb60",
   "metadata": {},
   "outputs": [
    {
     "data": {
      "image/png": "[encoded data removed]",
      "text/plain": [
       "<Figure size 864x576 with 1 Axes>"
      ]
     },
     "metadata": {
      "needs_background": "light"
     },
     "output_type": "display_data"
    }
   ],
   "source": [
    "# ploting with matplotlib\n",
    "\n",
    "plt.figure(figsize=(12,8))\n",
    "rest['chain'].value_counts().plot(kind='bar')\n",
    "plt.title('Plot of Chain or not Chain')\n",
    "plt.xlabel('Chain Type')\n",
    "plt.ylabel('Count')\n",
    "plt.xticks(rotation=0)\n",
    "plt.show()\n"
   ]
  },
  {
   "cell_type": "code",
   "execution_count": 272,
   "id": "747b2304-8f31-484a-9b46-97003aa7b3fb",
   "metadata": {},
   "outputs": [],
   "source": [
    "# counting how many restaurants are and are not chains\n",
    "\n",
    "rest_chain = rest['chain'].value_counts().reset_index(name='count')"
   ]
  },
  {
   "cell_type": "code",
   "execution_count": 273,
   "id": "8b4aad9f",
   "metadata": {},
   "outputs": [
    {
     "data": {
      "text/html": [
       "<div>\n",
       "<style scoped>\n",
       "    .dataframe tbody tr th:only-of-type {\n",
       "        vertical-align: middle;\n",
       "    }\n",
       "\n",
       "    .dataframe tbody tr th {\n",
       "        vertical-align: top;\n",
       "    }\n",
       "\n",
       "    .dataframe thead th {\n",
       "        text-align: right;\n",
       "    }\n",
       "</style>\n",
       "<table border=\"1\" class=\"dataframe\">\n",
       "  <thead>\n",
       "    <tr style=\"text-align: right;\">\n",
       "      <th></th>\n",
       "      <th>index</th>\n",
       "      <th>count</th>\n",
       "    </tr>\n",
       "  </thead>\n",
       "  <tbody>\n",
       "    <tr>\n",
       "      <th>0</th>\n",
       "      <td>False</td>\n",
       "      <td>5972</td>\n",
       "    </tr>\n",
       "    <tr>\n",
       "      <th>1</th>\n",
       "      <td>True</td>\n",
       "      <td>3676</td>\n",
       "    </tr>\n",
       "  </tbody>\n",
       "</table>\n",
       "</div>"
      ],
      "text/plain": [
       "   index  count\n",
       "0  False   5972\n",
       "1   True   3676"
      ]
     },
     "execution_count": 273,
     "metadata": {},
     "output_type": "execute_result"
    }
   ],
   "source": [
    "rest_chain"
   ]
  },
  {
   "cell_type": "code",
   "execution_count": 274,
   "id": "f9885c41-f902-4c23-990f-6580ee060b41",
   "metadata": {},
   "outputs": [
    {
     "data": {
      "text/html": [
       "<div>\n",
       "<style scoped>\n",
       "    .dataframe tbody tr th:only-of-type {\n",
       "        vertical-align: middle;\n",
       "    }\n",
       "\n",
       "    .dataframe tbody tr th {\n",
       "        vertical-align: top;\n",
       "    }\n",
       "\n",
       "    .dataframe thead th {\n",
       "        text-align: right;\n",
       "    }\n",
       "</style>\n",
       "<table border=\"1\" class=\"dataframe\">\n",
       "  <thead>\n",
       "    <tr style=\"text-align: right;\">\n",
       "      <th></th>\n",
       "      <th>index</th>\n",
       "      <th>count</th>\n",
       "      <th>ratio</th>\n",
       "    </tr>\n",
       "  </thead>\n",
       "  <tbody>\n",
       "    <tr>\n",
       "      <th>0</th>\n",
       "      <td>False</td>\n",
       "      <td>5972</td>\n",
       "      <td>61.898839</td>\n",
       "    </tr>\n",
       "    <tr>\n",
       "      <th>1</th>\n",
       "      <td>True</td>\n",
       "      <td>3676</td>\n",
       "      <td>38.101161</td>\n",
       "    </tr>\n",
       "  </tbody>\n",
       "</table>\n",
       "</div>"
      ],
      "text/plain": [
       "   index  count      ratio\n",
       "0  False   5972  61.898839\n",
       "1   True   3676  38.101161"
      ]
     },
     "execution_count": 274,
     "metadata": {},
     "output_type": "execute_result"
    }
   ],
   "source": [
    "# calculating ratio\n",
    "\n",
    "rest_chain['ratio'] = (rest_chain['count'] / rest_chain['count'].sum())*100\n",
    "rest_chain"
   ]
  },
  {
   "cell_type": "markdown",
   "id": "e51a48c0",
   "metadata": {},
   "source": [
    "<div class=\"alert alert-block alert-warning\">\n",
    "<b> Comentário do revisor V2: </b> <a class=\"tocSkip\"></a>\n",
    "\n",
    "É importante executar o código. Tive de retificar o código.\n",
    "</div>"
   ]
  },
  {
   "cell_type": "code",
   "execution_count": 276,
   "id": "1a550e67",
   "metadata": {},
   "outputs": [
    {
     "data": {
      "image/png": "[encoded data removed]",
      "text/plain": [
       "<Figure size 864x576 with 1 Axes>"
      ]
     },
     "metadata": {
      "needs_background": "light"
     },
     "output_type": "display_data"
    }
   ],
   "source": [
    "# ploting with seaborn\n",
    "\n",
    "plt.figure(figsize=(12, 8))\n",
    "sns.barplot(x='count', y='ratio', data=rest_chain)  \n",
    "plt.xlabel('Chain')\n",
    "plt.ylabel('Count')\n",
    "plt.title('Plot Chain or Not Chain')\n",
    "plt.show()"
   ]
  },
  {
   "cell_type": "code",
   "execution_count": 277,
   "id": "40f0b2dd-8efb-4f40-921f-a3d283c2b553",
   "metadata": {},
   "outputs": [
    {
     "data": {
      "image/png": "[encoded data removed]",
      "text/plain": [
       "<Figure size 864x576 with 1 Axes>"
      ]
     },
     "metadata": {},
     "output_type": "display_data"
    }
   ],
   "source": [
    "# plotting pie chart\n",
    "\n",
    "plt.figure(figsize=(12, 8))\n",
    "plt.pie(rest_chain['ratio'], labels=rest_chain['count'], autopct='%1.1f%%', startangle=90, colors=['lightcoral', 'lightskyblue'])\n",
    "plt.title('Pie Chain')\n",
    "plt.show()"
   ]
  },
  {
   "cell_type": "markdown",
   "id": "fcc06146-ad44-43a0-9f0c-f39ad7f43c75",
   "metadata": {},
   "source": [
    "    61.9% of the restaurants are not food chain and 38.1% are chains\n"
   ]
  },
  {
   "cell_type": "markdown",
   "id": "ac65c2d9",
   "metadata": {},
   "source": [
    "<div class=\"alert alert-success\">\n",
    "<strong>Comentário do revisor v1</strong>\n",
    "\n",
    "Dados e plot corretos e com a devida interpretação!\n",
    "</div>\n"
   ]
  },
  {
   "cell_type": "markdown",
   "id": "10a9c6c3-0b30-4ab3-9199-f6cf6ffaceb6",
   "metadata": {},
   "source": [
    "### Qual tipo de estabelecimento é típico para redes?"
   ]
  },
  {
   "cell_type": "code",
   "execution_count": 281,
   "id": "11b93011-ecae-4d51-add3-fd0a6952d154",
   "metadata": {},
   "outputs": [
    {
     "data": {
      "text/html": [
       "<div>\n",
       "<style scoped>\n",
       "    .dataframe tbody tr th:only-of-type {\n",
       "        vertical-align: middle;\n",
       "    }\n",
       "\n",
       "    .dataframe tbody tr th {\n",
       "        vertical-align: top;\n",
       "    }\n",
       "\n",
       "    .dataframe thead th {\n",
       "        text-align: right;\n",
       "    }\n",
       "</style>\n",
       "<table border=\"1\" class=\"dataframe\">\n",
       "  <thead>\n",
       "    <tr style=\"text-align: right;\">\n",
       "      <th></th>\n",
       "      <th>id</th>\n",
       "      <th>object_name</th>\n",
       "      <th>address</th>\n",
       "      <th>chain</th>\n",
       "      <th>object_type</th>\n",
       "      <th>number</th>\n",
       "    </tr>\n",
       "  </thead>\n",
       "  <tbody>\n",
       "    <tr>\n",
       "      <th>0</th>\n",
       "      <td>11786</td>\n",
       "      <td>HABITAT COFFEE SHOP</td>\n",
       "      <td>3708 N EAGLE ROCK BLVD</td>\n",
       "      <td>False</td>\n",
       "      <td>Cafe</td>\n",
       "      <td>26</td>\n",
       "    </tr>\n",
       "    <tr>\n",
       "      <th>1</th>\n",
       "      <td>11787</td>\n",
       "      <td>REILLY'S</td>\n",
       "      <td>100 WORLD WAY # 120</td>\n",
       "      <td>False</td>\n",
       "      <td>Restaurant</td>\n",
       "      <td>9</td>\n",
       "    </tr>\n",
       "    <tr>\n",
       "      <th>2</th>\n",
       "      <td>11788</td>\n",
       "      <td>STREET CHURROS</td>\n",
       "      <td>6801 HOLLYWOOD BLVD # 253</td>\n",
       "      <td>False</td>\n",
       "      <td>Fast Food</td>\n",
       "      <td>20</td>\n",
       "    </tr>\n",
       "    <tr>\n",
       "      <th>3</th>\n",
       "      <td>11789</td>\n",
       "      <td>TRINITI ECHO PARK</td>\n",
       "      <td>1814 W SUNSET BLVD</td>\n",
       "      <td>False</td>\n",
       "      <td>Restaurant</td>\n",
       "      <td>22</td>\n",
       "    </tr>\n",
       "    <tr>\n",
       "      <th>4</th>\n",
       "      <td>11790</td>\n",
       "      <td>POLLEN</td>\n",
       "      <td>2100 ECHO PARK AVE</td>\n",
       "      <td>False</td>\n",
       "      <td>Restaurant</td>\n",
       "      <td>20</td>\n",
       "    </tr>\n",
       "  </tbody>\n",
       "</table>\n",
       "</div>"
      ],
      "text/plain": [
       "      id          object_name                    address  chain object_type  \\\n",
       "0  11786  HABITAT COFFEE SHOP     3708 N EAGLE ROCK BLVD  False        Cafe   \n",
       "1  11787             REILLY'S        100 WORLD WAY # 120  False  Restaurant   \n",
       "2  11788       STREET CHURROS  6801 HOLLYWOOD BLVD # 253  False   Fast Food   \n",
       "3  11789    TRINITI ECHO PARK         1814 W SUNSET BLVD  False  Restaurant   \n",
       "4  11790               POLLEN         2100 ECHO PARK AVE  False  Restaurant   \n",
       "\n",
       "   number  \n",
       "0      26  \n",
       "1       9  \n",
       "2      20  \n",
       "3      22  \n",
       "4      20  "
      ]
     },
     "execution_count": 281,
     "metadata": {},
     "output_type": "execute_result"
    }
   ],
   "source": [
    "rest.head()"
   ]
  },
  {
   "cell_type": "code",
   "execution_count": 282,
   "id": "097de820-1756-4807-8906-6040440ef566",
   "metadata": {},
   "outputs": [
    {
     "data": {
      "text/plain": [
       "array([False, True], dtype=object)"
      ]
     },
     "execution_count": 282,
     "metadata": {},
     "output_type": "execute_result"
    }
   ],
   "source": [
    "rest['chain'].unique()"
   ]
  },
  {
   "cell_type": "code",
   "execution_count": 283,
   "id": "739b1b61-0526-4529-bba0-9974c33e1b4c",
   "metadata": {},
   "outputs": [
    {
     "data": {
      "text/html": [
       "<div>\n",
       "<style scoped>\n",
       "    .dataframe tbody tr th:only-of-type {\n",
       "        vertical-align: middle;\n",
       "    }\n",
       "\n",
       "    .dataframe tbody tr th {\n",
       "        vertical-align: top;\n",
       "    }\n",
       "\n",
       "    .dataframe thead th {\n",
       "        text-align: right;\n",
       "    }\n",
       "</style>\n",
       "<table border=\"1\" class=\"dataframe\">\n",
       "  <thead>\n",
       "    <tr style=\"text-align: right;\">\n",
       "      <th></th>\n",
       "      <th>id</th>\n",
       "      <th>object_name</th>\n",
       "      <th>address</th>\n",
       "      <th>chain</th>\n",
       "      <th>object_type</th>\n",
       "      <th>number</th>\n",
       "    </tr>\n",
       "  </thead>\n",
       "  <tbody>\n",
       "    <tr>\n",
       "      <th>8</th>\n",
       "      <td>11794</td>\n",
       "      <td>ABC DONUTS</td>\n",
       "      <td>3027 N SAN FERNANDO RD UNIT 103</td>\n",
       "      <td>True</td>\n",
       "      <td>Fast Food</td>\n",
       "      <td>1</td>\n",
       "    </tr>\n",
       "    <tr>\n",
       "      <th>10</th>\n",
       "      <td>11796</td>\n",
       "      <td>EL POLLO LOCO</td>\n",
       "      <td>5319 W SUNSET BLVD</td>\n",
       "      <td>True</td>\n",
       "      <td>Restaurant</td>\n",
       "      <td>38</td>\n",
       "    </tr>\n",
       "    <tr>\n",
       "      <th>11</th>\n",
       "      <td>11797</td>\n",
       "      <td>POONG NYUN BAKERY</td>\n",
       "      <td>928 S WESTERN AVE STE 109</td>\n",
       "      <td>True</td>\n",
       "      <td>Bakery</td>\n",
       "      <td>17</td>\n",
       "    </tr>\n",
       "    <tr>\n",
       "      <th>12</th>\n",
       "      <td>11798</td>\n",
       "      <td>EMC RESTAURANT GROUP LLC</td>\n",
       "      <td>3500 W 6TH ST STE 101</td>\n",
       "      <td>True</td>\n",
       "      <td>Restaurant</td>\n",
       "      <td>133</td>\n",
       "    </tr>\n",
       "    <tr>\n",
       "      <th>14</th>\n",
       "      <td>11800</td>\n",
       "      <td>CUSCATLECA BAKERY</td>\n",
       "      <td>2501 W SUNSET BLVD #A</td>\n",
       "      <td>True</td>\n",
       "      <td>Bakery</td>\n",
       "      <td>26</td>\n",
       "    </tr>\n",
       "    <tr>\n",
       "      <th>...</th>\n",
       "      <td>...</td>\n",
       "      <td>...</td>\n",
       "      <td>...</td>\n",
       "      <td>...</td>\n",
       "      <td>...</td>\n",
       "      <td>...</td>\n",
       "    </tr>\n",
       "    <tr>\n",
       "      <th>9629</th>\n",
       "      <td>21415</td>\n",
       "      <td>JUCUAPA BAKERY</td>\n",
       "      <td>2810 JAMES WOOD BLVD</td>\n",
       "      <td>True</td>\n",
       "      <td>Bakery</td>\n",
       "      <td>10</td>\n",
       "    </tr>\n",
       "    <tr>\n",
       "      <th>9636</th>\n",
       "      <td>21422</td>\n",
       "      <td>CHIPOTLE #3094</td>\n",
       "      <td>6719 LA TIJERA BLVD # A-B</td>\n",
       "      <td>True</td>\n",
       "      <td>Restaurant</td>\n",
       "      <td>47</td>\n",
       "    </tr>\n",
       "    <tr>\n",
       "      <th>9639</th>\n",
       "      <td>21425</td>\n",
       "      <td>MCDONALD'S</td>\n",
       "      <td>1800 S WESTERN AVE</td>\n",
       "      <td>True</td>\n",
       "      <td>Fast Food</td>\n",
       "      <td>135</td>\n",
       "    </tr>\n",
       "    <tr>\n",
       "      <th>9648</th>\n",
       "      <td>21434</td>\n",
       "      <td>JUICY WINGZ</td>\n",
       "      <td>6741 HOLLYWOOD BLVD</td>\n",
       "      <td>True</td>\n",
       "      <td>Fast Food</td>\n",
       "      <td>15</td>\n",
       "    </tr>\n",
       "    <tr>\n",
       "      <th>9650</th>\n",
       "      <td>21436</td>\n",
       "      <td>CAFE SPROUTS</td>\n",
       "      <td>1300 S SAN PEDRO ST STE 111</td>\n",
       "      <td>True</td>\n",
       "      <td>Restaurant</td>\n",
       "      <td>19</td>\n",
       "    </tr>\n",
       "  </tbody>\n",
       "</table>\n",
       "<p>3676 rows × 6 columns</p>\n",
       "</div>"
      ],
      "text/plain": [
       "         id               object_name                          address chain  \\\n",
       "8     11794                ABC DONUTS  3027 N SAN FERNANDO RD UNIT 103  True   \n",
       "10    11796             EL POLLO LOCO               5319 W SUNSET BLVD  True   \n",
       "11    11797         POONG NYUN BAKERY        928 S WESTERN AVE STE 109  True   \n",
       "12    11798  EMC RESTAURANT GROUP LLC            3500 W 6TH ST STE 101  True   \n",
       "14    11800         CUSCATLECA BAKERY            2501 W SUNSET BLVD #A  True   \n",
       "...     ...                       ...                              ...   ...   \n",
       "9629  21415            JUCUAPA BAKERY             2810 JAMES WOOD BLVD  True   \n",
       "9636  21422            CHIPOTLE #3094        6719 LA TIJERA BLVD # A-B  True   \n",
       "9639  21425                MCDONALD'S               1800 S WESTERN AVE  True   \n",
       "9648  21434               JUICY WINGZ              6741 HOLLYWOOD BLVD  True   \n",
       "9650  21436              CAFE SPROUTS      1300 S SAN PEDRO ST STE 111  True   \n",
       "\n",
       "     object_type  number  \n",
       "8      Fast Food       1  \n",
       "10    Restaurant      38  \n",
       "11        Bakery      17  \n",
       "12    Restaurant     133  \n",
       "14        Bakery      26  \n",
       "...          ...     ...  \n",
       "9629      Bakery      10  \n",
       "9636  Restaurant      47  \n",
       "9639   Fast Food     135  \n",
       "9648   Fast Food      15  \n",
       "9650  Restaurant      19  \n",
       "\n",
       "[3676 rows x 6 columns]"
      ]
     },
     "execution_count": 283,
     "metadata": {},
     "output_type": "execute_result"
    }
   ],
   "source": [
    "# filtering by restaurants that are chains\n",
    "\n",
    "rest_chain_true = rest.query('chain == True')\n",
    "rest_chain_true"
   ]
  },
  {
   "cell_type": "code",
   "execution_count": 284,
   "id": "2f44b056-c2b0-43aa-a82c-1acb347d764a",
   "metadata": {},
   "outputs": [
    {
     "data": {
      "image/png": "[encoded data removed]",
      "text/plain": [
       "<Figure size 864x576 with 1 Axes>"
      ]
     },
     "metadata": {
      "needs_background": "light"
     },
     "output_type": "display_data"
    }
   ],
   "source": [
    "# ploting with matplotlib\n",
    "\n",
    "plt.figure(figsize=(12,8))\n",
    "rest_chain_true['object_type'].value_counts().plot(kind='bar')\n",
    "plt.title('Plot of Chain Restaurant Types')\n",
    "plt.xlabel('Restaurant Type')\n",
    "plt.ylabel('Count')\n",
    "plt.xticks(rotation=0)\n",
    "plt.show()"
   ]
  },
  {
   "cell_type": "code",
   "execution_count": 285,
   "id": "a756e042-0155-468f-bd01-31b8c664d3a9",
   "metadata": {},
   "outputs": [],
   "source": [
    "# saving restaurant types that are in chains\n",
    "\n",
    "rest_chain_true_counts = rest_chain_true['object_type'].value_counts().reset_index()\n"
   ]
  },
  {
   "cell_type": "code",
   "execution_count": 286,
   "id": "a98b8b37-74ee-4cab-9bec-9b0defe31a41",
   "metadata": {},
   "outputs": [
    {
     "data": {
      "text/html": [
       "<div>\n",
       "<style scoped>\n",
       "    .dataframe tbody tr th:only-of-type {\n",
       "        vertical-align: middle;\n",
       "    }\n",
       "\n",
       "    .dataframe tbody tr th {\n",
       "        vertical-align: top;\n",
       "    }\n",
       "\n",
       "    .dataframe thead th {\n",
       "        text-align: right;\n",
       "    }\n",
       "</style>\n",
       "<table border=\"1\" class=\"dataframe\">\n",
       "  <thead>\n",
       "    <tr style=\"text-align: right;\">\n",
       "      <th></th>\n",
       "      <th>index</th>\n",
       "      <th>count</th>\n",
       "      <th>ratio</th>\n",
       "    </tr>\n",
       "  </thead>\n",
       "  <tbody>\n",
       "    <tr>\n",
       "      <th>0</th>\n",
       "      <td>Restaurant</td>\n",
       "      <td>2292</td>\n",
       "      <td>62.350381</td>\n",
       "    </tr>\n",
       "    <tr>\n",
       "      <th>1</th>\n",
       "      <td>Fast Food</td>\n",
       "      <td>605</td>\n",
       "      <td>16.458107</td>\n",
       "    </tr>\n",
       "    <tr>\n",
       "      <th>2</th>\n",
       "      <td>Bakery</td>\n",
       "      <td>283</td>\n",
       "      <td>7.698585</td>\n",
       "    </tr>\n",
       "    <tr>\n",
       "      <th>3</th>\n",
       "      <td>Cafe</td>\n",
       "      <td>266</td>\n",
       "      <td>7.236126</td>\n",
       "    </tr>\n",
       "    <tr>\n",
       "      <th>4</th>\n",
       "      <td>Pizza</td>\n",
       "      <td>153</td>\n",
       "      <td>4.162133</td>\n",
       "    </tr>\n",
       "    <tr>\n",
       "      <th>5</th>\n",
       "      <td>Bar</td>\n",
       "      <td>77</td>\n",
       "      <td>2.094668</td>\n",
       "    </tr>\n",
       "  </tbody>\n",
       "</table>\n",
       "</div>"
      ],
      "text/plain": [
       "        index  count      ratio\n",
       "0  Restaurant   2292  62.350381\n",
       "1   Fast Food    605  16.458107\n",
       "2      Bakery    283   7.698585\n",
       "3        Cafe    266   7.236126\n",
       "4       Pizza    153   4.162133\n",
       "5         Bar     77   2.094668"
      ]
     },
     "execution_count": 286,
     "metadata": {},
     "output_type": "execute_result"
    }
   ],
   "source": [
    "# calculating ratio\n",
    "\n",
    "rest_chain_true_counts.rename(columns={'object_type' : 'count'}, inplace=True)\n",
    "rest_chain_true_counts['ratio'] = (rest_chain_true_counts['count'] / rest_chain_true_counts['count'].sum())*100\n",
    "rest_chain_true_counts"
   ]
  },
  {
   "cell_type": "markdown",
   "id": "a02fabf1",
   "metadata": {},
   "source": [
    "<div class=\"alert alert-block alert-warning\">\n",
    "<b> Comentário do revisor V2: </b> <a class=\"tocSkip\"></a>\n",
    "\n",
    "É importante executar o código. Tive de retificar o código.\n",
    "</div>"
   ]
  },
  {
   "cell_type": "code",
   "execution_count": 288,
   "id": "bef7cda1-cdff-4373-a94c-3de44c82ed4b",
   "metadata": {},
   "outputs": [
    {
     "data": {
      "image/png": "[encoded data removed]",
      "text/plain": [
       "<Figure size 864x576 with 1 Axes>"
      ]
     },
     "metadata": {
      "needs_background": "light"
     },
     "output_type": "display_data"
    }
   ],
   "source": [
    "# ploting with seaborn\n",
    "\n",
    "plt.figure(figsize=(12, 8))\n",
    "sns.barplot(x='index', y='count', data=rest_chain_true_counts)\n",
    "for index, value in enumerate(rest_chain_true_counts['count']):\n",
    "    plt.text(index, value + 0.1, str(value), ha='center', va='bottom')\n",
    "plt.title('Plot of Chain Restaurant Types')\n",
    "plt.xlabel('Restaurant Type')\n",
    "plt.ylabel('Count')\n",
    "plt.show()"
   ]
  },
  {
   "cell_type": "markdown",
   "id": "31a9f134-a34e-4eb8-b148-61fe231991d3",
   "metadata": {},
   "source": [
    "    62% are type restaurants that are chains and 16% are fast food chains"
   ]
  },
  {
   "cell_type": "markdown",
   "id": "5fd5c960",
   "metadata": {},
   "source": [
    "<div class=\"alert alert-danger\">\n",
    "<strong>Comentário do revisor v1</strong>\n",
    "\n",
    "Acho que podemos melhorar nesse item.\n",
    "    \n",
    "Para sabermos o estabelecimento típico para redes, além da análise (correta) feita acima, vale ponderar para cada tipo de estabelecimento o % que se trata de rede / não rede.\n",
    "    \n",
    "Dessa forma saberemos se há mais redes de restaurante por ser realmente típico ou se isso ocorre por termos mais estabelecimentos de forma geral.\n",
    "</div>\n"
   ]
  },
  {
   "cell_type": "markdown",
   "id": "9505048d-4b5e-4e8b-a15b-d3cfb03f25fa",
   "metadata": {},
   "source": [
    "<div class=\"alert alert-info\">\n",
    "<strong>Comentário do estudante</strong>\n",
    "\n",
    "Tentei de varias formas aqui conseguir plotar um grafico, mas pq as colunas estao booleanas nao indetifica como uma coluna, preciso de ajuda aqui\n",
    "</div>"
   ]
  },
  {
   "cell_type": "markdown",
   "id": "a4775383",
   "metadata": {},
   "source": [
    "<div class=\"alert alert-block alert-success\">\n",
    "<b> Comentário do revisor V2: </b> <a class=\"tocSkip\"></a>\n",
    "\n",
    "Você chegou muito perto da solução. Parabéns. Veja este código abaixo usando o Seaborn. Eu particularmente prefiro plotar gráficos usando Seaborn. O que você acha do código?\n",
    "</div>"
   ]
  },
  {
   "cell_type": "markdown",
   "id": "d26ad25e-b109-4ebc-947f-728d4051774a",
   "metadata": {},
   "source": [
    "<div class=\"alert alert-info\">\n",
    "<strong>Comentário do estudante</strong>\n",
    "bem mais simples!! passei um tempo pra fazer o q vc fez com uma linha de codigo! \n",
    "</div>"
   ]
  },
  {
   "cell_type": "code",
   "execution_count": 294,
   "id": "605c9e1f-8ffa-4b8b-8cea-e4aebd02674a",
   "metadata": {},
   "outputs": [
    {
     "data": {
      "text/html": [
       "<div>\n",
       "<style scoped>\n",
       "    .dataframe tbody tr th:only-of-type {\n",
       "        vertical-align: middle;\n",
       "    }\n",
       "\n",
       "    .dataframe tbody tr th {\n",
       "        vertical-align: top;\n",
       "    }\n",
       "\n",
       "    .dataframe thead th {\n",
       "        text-align: right;\n",
       "    }\n",
       "</style>\n",
       "<table border=\"1\" class=\"dataframe\">\n",
       "  <thead>\n",
       "    <tr style=\"text-align: right;\">\n",
       "      <th>chain</th>\n",
       "      <th>object_type</th>\n",
       "      <th>False</th>\n",
       "      <th>True</th>\n",
       "    </tr>\n",
       "  </thead>\n",
       "  <tbody>\n",
       "    <tr>\n",
       "      <th>0</th>\n",
       "      <td>Bakery</td>\n",
       "      <td>0</td>\n",
       "      <td>283</td>\n",
       "    </tr>\n",
       "    <tr>\n",
       "      <th>1</th>\n",
       "      <td>Bar</td>\n",
       "      <td>215</td>\n",
       "      <td>77</td>\n",
       "    </tr>\n",
       "    <tr>\n",
       "      <th>2</th>\n",
       "      <td>Cafe</td>\n",
       "      <td>169</td>\n",
       "      <td>266</td>\n",
       "    </tr>\n",
       "    <tr>\n",
       "      <th>3</th>\n",
       "      <td>Fast Food</td>\n",
       "      <td>461</td>\n",
       "      <td>605</td>\n",
       "    </tr>\n",
       "    <tr>\n",
       "      <th>4</th>\n",
       "      <td>Pizza</td>\n",
       "      <td>166</td>\n",
       "      <td>153</td>\n",
       "    </tr>\n",
       "    <tr>\n",
       "      <th>5</th>\n",
       "      <td>Restaurant</td>\n",
       "      <td>4961</td>\n",
       "      <td>2292</td>\n",
       "    </tr>\n",
       "  </tbody>\n",
       "</table>\n",
       "</div>"
      ],
      "text/plain": [
       "chain object_type  False  True\n",
       "0          Bakery      0   283\n",
       "1             Bar    215    77\n",
       "2            Cafe    169   266\n",
       "3       Fast Food    461   605\n",
       "4           Pizza    166   153\n",
       "5      Restaurant   4961  2292"
      ]
     },
     "execution_count": 294,
     "metadata": {},
     "output_type": "execute_result"
    }
   ],
   "source": [
    "# rest chain type pivot table\n",
    "\n",
    "rest_type_chain = pd.pivot_table(rest, index='object_type', columns='chain', aggfunc=('size'), fill_value=0).reset_index()\n",
    "rest_type_chain"
   ]
  },
  {
   "cell_type": "code",
   "execution_count": 295,
   "id": "1e652322-3760-479b-9c44-a8e8ee9b2982",
   "metadata": {},
   "outputs": [],
   "source": [
    "# false ratio column\n",
    "\n",
    "rest_type_chain['false_ratio'] = (rest_type_chain[False] / (rest_type_chain[False] + rest_type_chain[True])) * 100"
   ]
  },
  {
   "cell_type": "code",
   "execution_count": 296,
   "id": "2bfb01db-9f6d-4129-aa08-15921e5d3ca2",
   "metadata": {},
   "outputs": [],
   "source": [
    "# true ratio column\n",
    "\n",
    "rest_type_chain['true_ratio'] = (rest_type_chain[True] / (rest_type_chain[False] + rest_type_chain[True])) * 100"
   ]
  },
  {
   "cell_type": "code",
   "execution_count": 297,
   "id": "46ed1bd1-1b17-40e0-936c-ab7dddaa3ca8",
   "metadata": {},
   "outputs": [
    {
     "data": {
      "text/html": [
       "<div>\n",
       "<style scoped>\n",
       "    .dataframe tbody tr th:only-of-type {\n",
       "        vertical-align: middle;\n",
       "    }\n",
       "\n",
       "    .dataframe tbody tr th {\n",
       "        vertical-align: top;\n",
       "    }\n",
       "\n",
       "    .dataframe thead th {\n",
       "        text-align: right;\n",
       "    }\n",
       "</style>\n",
       "<table border=\"1\" class=\"dataframe\">\n",
       "  <thead>\n",
       "    <tr style=\"text-align: right;\">\n",
       "      <th>chain</th>\n",
       "      <th>object_type</th>\n",
       "      <th>False</th>\n",
       "      <th>True</th>\n",
       "      <th>false_ratio</th>\n",
       "      <th>true_ratio</th>\n",
       "    </tr>\n",
       "  </thead>\n",
       "  <tbody>\n",
       "    <tr>\n",
       "      <th>0</th>\n",
       "      <td>Bakery</td>\n",
       "      <td>0</td>\n",
       "      <td>283</td>\n",
       "      <td>0.000000</td>\n",
       "      <td>100.000000</td>\n",
       "    </tr>\n",
       "    <tr>\n",
       "      <th>1</th>\n",
       "      <td>Bar</td>\n",
       "      <td>215</td>\n",
       "      <td>77</td>\n",
       "      <td>73.630137</td>\n",
       "      <td>26.369863</td>\n",
       "    </tr>\n",
       "    <tr>\n",
       "      <th>2</th>\n",
       "      <td>Cafe</td>\n",
       "      <td>169</td>\n",
       "      <td>266</td>\n",
       "      <td>38.850575</td>\n",
       "      <td>61.149425</td>\n",
       "    </tr>\n",
       "    <tr>\n",
       "      <th>3</th>\n",
       "      <td>Fast Food</td>\n",
       "      <td>461</td>\n",
       "      <td>605</td>\n",
       "      <td>43.245779</td>\n",
       "      <td>56.754221</td>\n",
       "    </tr>\n",
       "    <tr>\n",
       "      <th>4</th>\n",
       "      <td>Pizza</td>\n",
       "      <td>166</td>\n",
       "      <td>153</td>\n",
       "      <td>52.037618</td>\n",
       "      <td>47.962382</td>\n",
       "    </tr>\n",
       "    <tr>\n",
       "      <th>5</th>\n",
       "      <td>Restaurant</td>\n",
       "      <td>4961</td>\n",
       "      <td>2292</td>\n",
       "      <td>68.399283</td>\n",
       "      <td>31.600717</td>\n",
       "    </tr>\n",
       "  </tbody>\n",
       "</table>\n",
       "</div>"
      ],
      "text/plain": [
       "chain object_type  False  True  false_ratio  true_ratio\n",
       "0          Bakery      0   283     0.000000  100.000000\n",
       "1             Bar    215    77    73.630137   26.369863\n",
       "2            Cafe    169   266    38.850575   61.149425\n",
       "3       Fast Food    461   605    43.245779   56.754221\n",
       "4           Pizza    166   153    52.037618   47.962382\n",
       "5      Restaurant   4961  2292    68.399283   31.600717"
      ]
     },
     "execution_count": 297,
     "metadata": {},
     "output_type": "execute_result"
    }
   ],
   "source": [
    "rest_type_chain"
   ]
  },
  {
   "cell_type": "code",
   "execution_count": 298,
   "id": "9a043511-174c-43db-a8f6-d5b48bed9e51",
   "metadata": {},
   "outputs": [
    {
     "data": {
      "image/png": "[encoded data removed]",
      "text/plain": [
       "<Figure size 864x576 with 1 Axes>"
      ]
     },
     "metadata": {
      "needs_background": "light"
     },
     "output_type": "display_data"
    }
   ],
   "source": [
    "plt.figure(figsize=(12,8))\n",
    "sns.barplot(data=rest, x=\"object_type\", y=\"number\", hue=\"chain\")\n",
    "plt.title('Object Type and Chain Distribution')\n",
    "plt.xlabel('Object Type')\n",
    "plt.ylabel('Count')\n",
    "plt.legend(title='Chain')\n",
    "plt.show()"
   ]
  },
  {
   "cell_type": "markdown",
   "id": "ec3a9ed0-0840-4763-8cd9-0dd0001a62bc",
   "metadata": {},
   "source": [
    " * There are no bakeries that are chain\n",
    " * 73% of the bars are not in chains\n",
    " * 61% of the cafe's are in chain\n",
    " * 56% of the fast food restaurants are chain\n",
    " * 52% of the pizza restaurants are not chain\n",
    " * 68% of the ordinary restaurants are not chain"
   ]
  },
  {
   "cell_type": "markdown",
   "id": "d06b5b90-fa19-4593-9303-e4474b7a43a0",
   "metadata": {},
   "source": [
    "### O que caracteriza redes: muitos estabelecimentos com um pequeno número de assentos ou poucos estabelecimentos com muitos assentos?"
   ]
  },
  {
   "cell_type": "code",
   "execution_count": 301,
   "id": "5ca31f46-753e-46cc-9cf3-eb15b87b4abb",
   "metadata": {},
   "outputs": [
    {
     "data": {
      "text/html": [
       "<div>\n",
       "<style scoped>\n",
       "    .dataframe tbody tr th:only-of-type {\n",
       "        vertical-align: middle;\n",
       "    }\n",
       "\n",
       "    .dataframe tbody tr th {\n",
       "        vertical-align: top;\n",
       "    }\n",
       "\n",
       "    .dataframe thead th {\n",
       "        text-align: right;\n",
       "    }\n",
       "</style>\n",
       "<table border=\"1\" class=\"dataframe\">\n",
       "  <thead>\n",
       "    <tr style=\"text-align: right;\">\n",
       "      <th></th>\n",
       "      <th>index</th>\n",
       "      <th>count</th>\n",
       "      <th>ratio</th>\n",
       "    </tr>\n",
       "  </thead>\n",
       "  <tbody>\n",
       "    <tr>\n",
       "      <th>0</th>\n",
       "      <td>False</td>\n",
       "      <td>5972</td>\n",
       "      <td>61.898839</td>\n",
       "    </tr>\n",
       "    <tr>\n",
       "      <th>1</th>\n",
       "      <td>True</td>\n",
       "      <td>3676</td>\n",
       "      <td>38.101161</td>\n",
       "    </tr>\n",
       "  </tbody>\n",
       "</table>\n",
       "</div>"
      ],
      "text/plain": [
       "   index  count      ratio\n",
       "0  False   5972  61.898839\n",
       "1   True   3676  38.101161"
      ]
     },
     "execution_count": 301,
     "metadata": {},
     "output_type": "execute_result"
    }
   ],
   "source": [
    "rest_chain"
   ]
  },
  {
   "cell_type": "code",
   "execution_count": 302,
   "id": "a997ed31-a30c-41a4-9c0f-78942e6b6616",
   "metadata": {},
   "outputs": [],
   "source": [
    "rest_chain.rename(columns={'index':'chain'}, inplace=True)"
   ]
  },
  {
   "cell_type": "code",
   "execution_count": 303,
   "id": "cc079830-a1a1-40fe-8ec2-effceae30b9d",
   "metadata": {},
   "outputs": [
    {
     "data": {
      "text/html": [
       "<div>\n",
       "<style scoped>\n",
       "    .dataframe tbody tr th:only-of-type {\n",
       "        vertical-align: middle;\n",
       "    }\n",
       "\n",
       "    .dataframe tbody tr th {\n",
       "        vertical-align: top;\n",
       "    }\n",
       "\n",
       "    .dataframe thead th {\n",
       "        text-align: right;\n",
       "    }\n",
       "</style>\n",
       "<table border=\"1\" class=\"dataframe\">\n",
       "  <thead>\n",
       "    <tr style=\"text-align: right;\">\n",
       "      <th></th>\n",
       "      <th>chain</th>\n",
       "      <th>number</th>\n",
       "    </tr>\n",
       "  </thead>\n",
       "  <tbody>\n",
       "    <tr>\n",
       "      <th>0</th>\n",
       "      <td>False</td>\n",
       "      <td>46.17</td>\n",
       "    </tr>\n",
       "    <tr>\n",
       "      <th>1</th>\n",
       "      <td>True</td>\n",
       "      <td>39.69</td>\n",
       "    </tr>\n",
       "  </tbody>\n",
       "</table>\n",
       "</div>"
      ],
      "text/plain": [
       "   chain  number\n",
       "0  False   46.17\n",
       "1   True   39.69"
      ]
     },
     "execution_count": 303,
     "metadata": {},
     "output_type": "execute_result"
    }
   ],
   "source": [
    "# grouping by chain true or not and average number of seats\n",
    "\n",
    "avg_seat_chain = rest.groupby('chain')['number'].mean().round(2).reset_index()\n",
    "avg_seat_chain"
   ]
  },
  {
   "cell_type": "code",
   "execution_count": 304,
   "id": "8707a8b3-0d9b-496c-ae1d-2a699fbd92e2",
   "metadata": {},
   "outputs": [
    {
     "data": {
      "text/html": [
       "<div>\n",
       "<style scoped>\n",
       "    .dataframe tbody tr th:only-of-type {\n",
       "        vertical-align: middle;\n",
       "    }\n",
       "\n",
       "    .dataframe tbody tr th {\n",
       "        vertical-align: top;\n",
       "    }\n",
       "\n",
       "    .dataframe thead th {\n",
       "        text-align: right;\n",
       "    }\n",
       "</style>\n",
       "<table border=\"1\" class=\"dataframe\">\n",
       "  <thead>\n",
       "    <tr style=\"text-align: right;\">\n",
       "      <th></th>\n",
       "      <th>chain</th>\n",
       "      <th>count</th>\n",
       "      <th>ratio</th>\n",
       "      <th>number</th>\n",
       "    </tr>\n",
       "  </thead>\n",
       "  <tbody>\n",
       "    <tr>\n",
       "      <th>0</th>\n",
       "      <td>False</td>\n",
       "      <td>5972</td>\n",
       "      <td>61.898839</td>\n",
       "      <td>46.17</td>\n",
       "    </tr>\n",
       "    <tr>\n",
       "      <th>1</th>\n",
       "      <td>True</td>\n",
       "      <td>3676</td>\n",
       "      <td>38.101161</td>\n",
       "      <td>39.69</td>\n",
       "    </tr>\n",
       "  </tbody>\n",
       "</table>\n",
       "</div>"
      ],
      "text/plain": [
       "   chain  count      ratio  number\n",
       "0  False   5972  61.898839   46.17\n",
       "1   True   3676  38.101161   39.69"
      ]
     },
     "execution_count": 304,
     "metadata": {},
     "output_type": "execute_result"
    }
   ],
   "source": [
    "# merging avg number fo seat to rest_chain\n",
    "\n",
    "avg_seat_rest_chain = rest_chain.merge(avg_seat_chain, on='chain')\n",
    "avg_seat_rest_chain"
   ]
  },
  {
   "cell_type": "code",
   "execution_count": 305,
   "id": "7818f7bb",
   "metadata": {},
   "outputs": [
    {
     "data": {
      "text/html": [
       "<div>\n",
       "<style scoped>\n",
       "    .dataframe tbody tr th:only-of-type {\n",
       "        vertical-align: middle;\n",
       "    }\n",
       "\n",
       "    .dataframe tbody tr th {\n",
       "        vertical-align: top;\n",
       "    }\n",
       "\n",
       "    .dataframe thead th {\n",
       "        text-align: right;\n",
       "    }\n",
       "</style>\n",
       "<table border=\"1\" class=\"dataframe\">\n",
       "  <thead>\n",
       "    <tr style=\"text-align: right;\">\n",
       "      <th></th>\n",
       "      <th>chain</th>\n",
       "      <th>count</th>\n",
       "      <th>ratio</th>\n",
       "    </tr>\n",
       "  </thead>\n",
       "  <tbody>\n",
       "    <tr>\n",
       "      <th>0</th>\n",
       "      <td>False</td>\n",
       "      <td>5972</td>\n",
       "      <td>61.898839</td>\n",
       "    </tr>\n",
       "    <tr>\n",
       "      <th>1</th>\n",
       "      <td>True</td>\n",
       "      <td>3676</td>\n",
       "      <td>38.101161</td>\n",
       "    </tr>\n",
       "  </tbody>\n",
       "</table>\n",
       "</div>"
      ],
      "text/plain": [
       "   chain  count      ratio\n",
       "0  False   5972  61.898839\n",
       "1   True   3676  38.101161"
      ]
     },
     "execution_count": 305,
     "metadata": {},
     "output_type": "execute_result"
    }
   ],
   "source": [
    "rest_chain"
   ]
  },
  {
   "cell_type": "code",
   "execution_count": 306,
   "id": "40cdd1d3-0e75-4597-aa28-92e0fdc0f023",
   "metadata": {},
   "outputs": [
    {
     "data": {
      "image/png": "[encoded data removed]",
      "text/plain": [
       "<Figure size 864x576 with 1 Axes>"
      ]
     },
     "metadata": {
      "needs_background": "light"
     },
     "output_type": "display_data"
    }
   ],
   "source": [
    "# plotting with seaborn\n",
    "\n",
    "plt.figure(figsize=(12, 8))\n",
    "sns.barplot(x='chain', y='number', data=avg_seat_rest_chain)\n",
    "for index, value in enumerate(avg_seat_rest_chain['number']):\n",
    "    plt.text(index, value + 0.1, str(value), ha='center', va='bottom')\n",
    "plt.title('Average Seat Chain or not Chain')\n",
    "plt.xlabel('Restaurant Type')\n",
    "plt.ylabel('Count')\n",
    "plt.show()"
   ]
  },
  {
   "cell_type": "markdown",
   "id": "456714fe",
   "metadata": {},
   "source": [
    "<div class=\"alert alert-block alert-danger\">\n",
    "<b> Comentário do revisor V2: </b> <a class=\"tocSkip\"></a>\n",
    "\n",
    "Este código está com erro. O que você pretende plotar no eixo x e y? Veja o código que deixei usando como seaborn. Não vou dar a resposta pois você é capaz de ver o código e replicar. Qualquer dúvida, me fale que te dou dicas.\n",
    "</div>"
   ]
  },
  {
   "cell_type": "markdown",
   "id": "5e2afb51-e86f-4b1d-acb4-d3a108933c9a",
   "metadata": {},
   "source": [
    "    Restaurants that are not chains have an average of 6.48 more seats than restaurants that are chains"
   ]
  },
  {
   "cell_type": "markdown",
   "id": "3f16d387",
   "metadata": {},
   "source": [
    "<s><div class=\"alert alert-success\">\n",
    "<strong>Comentário do revisor v1</strong>\n",
    "\n",
    "Gostei da forma que conduziu a análise! Faz bastante sentido!\n",
    "</div>\n"
   ]
  },
  {
   "cell_type": "markdown",
   "id": "793629b2-dc51-4299-8f14-4f3ed4b54ced",
   "metadata": {},
   "source": [
    "<div class=\"alert alert-info\">\n",
    "<strong>Comentário do estudante</strong>\n",
    "\n",
    "Preciso me atentar a mudancas feitas no codigo la no comeco e nao me certificando que as mudancas sao feitas na sequencia. \n",
    "\n",
    "Reparei q dependendo da versao, py39 ou py310, quando uso o reset_index() a coluna ficou com nome de index nao de count\n",
    "</div>"
   ]
  },
  {
   "cell_type": "markdown",
   "id": "6ae35c89-6a65-43fc-8209-8be29ddfab3d",
   "metadata": {},
   "source": [
    "### Determine o número médio de assentos para cada tipo de restaurante. Em média, qual tipo de restaurante tem o maior número de assentos? Construa gráficos."
   ]
  },
  {
   "cell_type": "code",
   "execution_count": 312,
   "id": "d037af59-ed54-48a7-9bf9-8455d2770a46",
   "metadata": {},
   "outputs": [],
   "source": [
    "# grouping by restaurant type and average number of seats\n",
    "\n",
    "rest_avg_seat = rest.groupby('object_type')['number'].mean().round(2).reset_index()"
   ]
  },
  {
   "cell_type": "code",
   "execution_count": 313,
   "id": "2274e7ed-eb89-43a3-96f2-9fb8f2f90185",
   "metadata": {},
   "outputs": [
    {
     "data": {
      "text/html": [
       "<div>\n",
       "<style scoped>\n",
       "    .dataframe tbody tr th:only-of-type {\n",
       "        vertical-align: middle;\n",
       "    }\n",
       "\n",
       "    .dataframe tbody tr th {\n",
       "        vertical-align: top;\n",
       "    }\n",
       "\n",
       "    .dataframe thead th {\n",
       "        text-align: right;\n",
       "    }\n",
       "</style>\n",
       "<table border=\"1\" class=\"dataframe\">\n",
       "  <thead>\n",
       "    <tr style=\"text-align: right;\">\n",
       "      <th></th>\n",
       "      <th>object_type</th>\n",
       "      <th>number</th>\n",
       "    </tr>\n",
       "  </thead>\n",
       "  <tbody>\n",
       "    <tr>\n",
       "      <th>5</th>\n",
       "      <td>Restaurant</td>\n",
       "      <td>48.05</td>\n",
       "    </tr>\n",
       "    <tr>\n",
       "      <th>1</th>\n",
       "      <td>Bar</td>\n",
       "      <td>44.77</td>\n",
       "    </tr>\n",
       "    <tr>\n",
       "      <th>3</th>\n",
       "      <td>Fast Food</td>\n",
       "      <td>31.84</td>\n",
       "    </tr>\n",
       "    <tr>\n",
       "      <th>4</th>\n",
       "      <td>Pizza</td>\n",
       "      <td>28.55</td>\n",
       "    </tr>\n",
       "    <tr>\n",
       "      <th>2</th>\n",
       "      <td>Cafe</td>\n",
       "      <td>25.00</td>\n",
       "    </tr>\n",
       "    <tr>\n",
       "      <th>0</th>\n",
       "      <td>Bakery</td>\n",
       "      <td>21.77</td>\n",
       "    </tr>\n",
       "  </tbody>\n",
       "</table>\n",
       "</div>"
      ],
      "text/plain": [
       "  object_type  number\n",
       "5  Restaurant   48.05\n",
       "1         Bar   44.77\n",
       "3   Fast Food   31.84\n",
       "4       Pizza   28.55\n",
       "2        Cafe   25.00\n",
       "0      Bakery   21.77"
      ]
     },
     "execution_count": 313,
     "metadata": {},
     "output_type": "execute_result"
    }
   ],
   "source": [
    "# sorting values\n",
    "\n",
    "rest_avg_seat.sort_values(by='number', ascending=False, inplace=True)\n",
    "rest_avg_seat"
   ]
  },
  {
   "cell_type": "code",
   "execution_count": 314,
   "id": "adeb3b41-8225-43be-854d-212128aa664e",
   "metadata": {},
   "outputs": [
    {
     "data": {
      "image/png": "[encoded data removed]",
      "text/plain": [
       "<Figure size 864x576 with 1 Axes>"
      ]
     },
     "metadata": {
      "needs_background": "light"
     },
     "output_type": "display_data"
    }
   ],
   "source": [
    "# ploting with matplotlib\n",
    "\n",
    "plt.figure(figsize=(12,8))\n",
    "plt.bar(rest_avg_seat['object_type'], rest_avg_seat['number'])\n",
    "for index, value in enumerate(rest_avg_seat['number']):\n",
    "    plt.text(index, value + 0.1, str(value), ha='center', va='bottom')\n",
    "plt.title('Plot of Avg Numbers of Seats per Restaurant Type')\n",
    "plt.xlabel('Restaurant Type')\n",
    "plt.ylabel('Count')\n",
    "plt.xticks(rotation=0)\n",
    "plt.show()"
   ]
  },
  {
   "cell_type": "code",
   "execution_count": 315,
   "id": "43f2b076-7d31-448d-a906-c4492b4fffe4",
   "metadata": {},
   "outputs": [
    {
     "data": {
      "image/png": "[encoded data removed]",
      "text/plain": [
       "<Figure size 864x576 with 1 Axes>"
      ]
     },
     "metadata": {
      "needs_background": "light"
     },
     "output_type": "display_data"
    }
   ],
   "source": [
    "# ploting with seaborn\n",
    "\n",
    "plt.figure(figsize=(12, 8))\n",
    "ax = sns.barplot(x='object_type', y='number', data=rest_avg_seat)\n",
    "for index, value in enumerate(rest_avg_seat['number']):\n",
    "    ax.text(index, value + 0.1, str(value), ha='center', va='bottom')\n",
    "plt.title('Plot of Avg Numbers of Seats per Restaurant Type')\n",
    "plt.xlabel('Restaurant Type')\n",
    "plt.ylabel('Count')\n",
    "plt.xticks(rotation=0)\n",
    "plt.show()"
   ]
  },
  {
   "cell_type": "markdown",
   "id": "56937520-aecf-4605-b4ea-dcfd87ed45d3",
   "metadata": {},
   "source": [
    "    We see above restaurants have average of 48 seats, followed by bars with average of 44 seats, bakeries have the small average at 21 seats."
   ]
  },
  {
   "cell_type": "markdown",
   "id": "fe97ff2e",
   "metadata": {},
   "source": [
    "<div class=\"alert alert-success\">\n",
    "<strong>Comentário do revisor v1</strong>\n",
    "\n",
    "Perfeito o trabalho por aqui!\n",
    "</div>\n"
   ]
  },
  {
   "cell_type": "markdown",
   "id": "3ef638f6-7ad8-4a56-86e1-224c2a55ded8",
   "metadata": {},
   "source": [
    "### Coloque os dados dos nomes das ruas da coluna address em uma coluna separada."
   ]
  },
  {
   "cell_type": "code",
   "execution_count": 319,
   "id": "80aba020-aea7-41ef-9d99-21ec5e178c32",
   "metadata": {},
   "outputs": [],
   "source": [
    "# extracting only strings from address and saving in a new column\n",
    "\n",
    "rest['address_name'] = rest['address'].str.extract('([a-zA-Z\\s]+)')"
   ]
  },
  {
   "cell_type": "code",
   "execution_count": 320,
   "id": "07f6e0cf-1898-4f0a-9299-0ff2ee0c804d",
   "metadata": {},
   "outputs": [
    {
     "data": {
      "text/html": [
       "<div>\n",
       "<style scoped>\n",
       "    .dataframe tbody tr th:only-of-type {\n",
       "        vertical-align: middle;\n",
       "    }\n",
       "\n",
       "    .dataframe tbody tr th {\n",
       "        vertical-align: top;\n",
       "    }\n",
       "\n",
       "    .dataframe thead th {\n",
       "        text-align: right;\n",
       "    }\n",
       "</style>\n",
       "<table border=\"1\" class=\"dataframe\">\n",
       "  <thead>\n",
       "    <tr style=\"text-align: right;\">\n",
       "      <th></th>\n",
       "      <th>id</th>\n",
       "      <th>object_name</th>\n",
       "      <th>address</th>\n",
       "      <th>chain</th>\n",
       "      <th>object_type</th>\n",
       "      <th>number</th>\n",
       "      <th>address_name</th>\n",
       "    </tr>\n",
       "  </thead>\n",
       "  <tbody>\n",
       "    <tr>\n",
       "      <th>0</th>\n",
       "      <td>11786</td>\n",
       "      <td>HABITAT COFFEE SHOP</td>\n",
       "      <td>3708 N EAGLE ROCK BLVD</td>\n",
       "      <td>False</td>\n",
       "      <td>Cafe</td>\n",
       "      <td>26</td>\n",
       "      <td>N EAGLE ROCK BLVD</td>\n",
       "    </tr>\n",
       "    <tr>\n",
       "      <th>1</th>\n",
       "      <td>11787</td>\n",
       "      <td>REILLY'S</td>\n",
       "      <td>100 WORLD WAY # 120</td>\n",
       "      <td>False</td>\n",
       "      <td>Restaurant</td>\n",
       "      <td>9</td>\n",
       "      <td>WORLD WAY</td>\n",
       "    </tr>\n",
       "    <tr>\n",
       "      <th>2</th>\n",
       "      <td>11788</td>\n",
       "      <td>STREET CHURROS</td>\n",
       "      <td>6801 HOLLYWOOD BLVD # 253</td>\n",
       "      <td>False</td>\n",
       "      <td>Fast Food</td>\n",
       "      <td>20</td>\n",
       "      <td>HOLLYWOOD BLVD</td>\n",
       "    </tr>\n",
       "    <tr>\n",
       "      <th>3</th>\n",
       "      <td>11789</td>\n",
       "      <td>TRINITI ECHO PARK</td>\n",
       "      <td>1814 W SUNSET BLVD</td>\n",
       "      <td>False</td>\n",
       "      <td>Restaurant</td>\n",
       "      <td>22</td>\n",
       "      <td>W SUNSET BLVD</td>\n",
       "    </tr>\n",
       "    <tr>\n",
       "      <th>4</th>\n",
       "      <td>11790</td>\n",
       "      <td>POLLEN</td>\n",
       "      <td>2100 ECHO PARK AVE</td>\n",
       "      <td>False</td>\n",
       "      <td>Restaurant</td>\n",
       "      <td>20</td>\n",
       "      <td>ECHO PARK AVE</td>\n",
       "    </tr>\n",
       "  </tbody>\n",
       "</table>\n",
       "</div>"
      ],
      "text/plain": [
       "      id          object_name                    address  chain object_type  \\\n",
       "0  11786  HABITAT COFFEE SHOP     3708 N EAGLE ROCK BLVD  False        Cafe   \n",
       "1  11787             REILLY'S        100 WORLD WAY # 120  False  Restaurant   \n",
       "2  11788       STREET CHURROS  6801 HOLLYWOOD BLVD # 253  False   Fast Food   \n",
       "3  11789    TRINITI ECHO PARK         1814 W SUNSET BLVD  False  Restaurant   \n",
       "4  11790               POLLEN         2100 ECHO PARK AVE  False  Restaurant   \n",
       "\n",
       "   number        address_name  \n",
       "0      26   N EAGLE ROCK BLVD  \n",
       "1       9          WORLD WAY   \n",
       "2      20     HOLLYWOOD BLVD   \n",
       "3      22       W SUNSET BLVD  \n",
       "4      20       ECHO PARK AVE  "
      ]
     },
     "execution_count": 320,
     "metadata": {},
     "output_type": "execute_result"
    }
   ],
   "source": [
    "rest.head()"
   ]
  },
  {
   "cell_type": "markdown",
   "id": "5b6c2d12-cfb8-4360-b11f-c6d8168a7eaf",
   "metadata": {},
   "source": [
    "### Construa um gráfico de dez ruas com o maior número de restaurantes."
   ]
  },
  {
   "cell_type": "code",
   "execution_count": 322,
   "id": "3674faeb-7cbd-43f3-aa2d-006916402af3",
   "metadata": {},
   "outputs": [],
   "source": [
    "# saving restaurants by address\n",
    "\n",
    "rest_by_address = rest['address_name'].value_counts().reset_index().sort_values(by='address_name',ascending=False)\n",
    "rest_by_address.rename(columns={'address_name' : 'count'}, inplace=True)"
   ]
  },
  {
   "cell_type": "markdown",
   "id": "6a457b3c",
   "metadata": {},
   "source": [
    "<div class=\"alert alert-block alert-danger\">\n",
    "<b> Comentário do revisor: </b> <a class=\"tocSkip\"></a>\n",
    "\n",
    "Código com erro. Veja que o nome da coluna é address_name em vez de count\n",
    "</div>"
   ]
  },
  {
   "cell_type": "code",
   "execution_count": 324,
   "id": "59e4bf96-d99d-4d0d-a3f7-3bec348eebbd",
   "metadata": {},
   "outputs": [
    {
     "data": {
      "text/html": [
       "<div>\n",
       "<style scoped>\n",
       "    .dataframe tbody tr th:only-of-type {\n",
       "        vertical-align: middle;\n",
       "    }\n",
       "\n",
       "    .dataframe tbody tr th {\n",
       "        vertical-align: top;\n",
       "    }\n",
       "\n",
       "    .dataframe thead th {\n",
       "        text-align: right;\n",
       "    }\n",
       "</style>\n",
       "<table border=\"1\" class=\"dataframe\">\n",
       "  <thead>\n",
       "    <tr style=\"text-align: right;\">\n",
       "      <th></th>\n",
       "      <th>index</th>\n",
       "      <th>count</th>\n",
       "    </tr>\n",
       "  </thead>\n",
       "  <tbody>\n",
       "    <tr>\n",
       "      <th>0</th>\n",
       "      <td>W</td>\n",
       "      <td>756</td>\n",
       "    </tr>\n",
       "    <tr>\n",
       "      <th>1</th>\n",
       "      <td>E</td>\n",
       "      <td>319</td>\n",
       "    </tr>\n",
       "    <tr>\n",
       "      <th>2</th>\n",
       "      <td>W SUNSET BLVD</td>\n",
       "      <td>296</td>\n",
       "    </tr>\n",
       "    <tr>\n",
       "      <th>3</th>\n",
       "      <td>W PICO BLVD</td>\n",
       "      <td>288</td>\n",
       "    </tr>\n",
       "    <tr>\n",
       "      <th>4</th>\n",
       "      <td>HOLLYWOOD BLVD</td>\n",
       "      <td>167</td>\n",
       "    </tr>\n",
       "    <tr>\n",
       "      <th>5</th>\n",
       "      <td></td>\n",
       "      <td>162</td>\n",
       "    </tr>\n",
       "    <tr>\n",
       "      <th>6</th>\n",
       "      <td>WILSHIRE BLVD</td>\n",
       "      <td>161</td>\n",
       "    </tr>\n",
       "    <tr>\n",
       "      <th>7</th>\n",
       "      <td>S VERMONT AVE</td>\n",
       "      <td>148</td>\n",
       "    </tr>\n",
       "    <tr>\n",
       "      <th>8</th>\n",
       "      <td>SANTA MONICA BLVD</td>\n",
       "      <td>146</td>\n",
       "    </tr>\n",
       "    <tr>\n",
       "      <th>9</th>\n",
       "      <td>BEVERLY BLVD</td>\n",
       "      <td>135</td>\n",
       "    </tr>\n",
       "  </tbody>\n",
       "</table>\n",
       "</div>"
      ],
      "text/plain": [
       "                index  count\n",
       "0                  W     756\n",
       "1                  E     319\n",
       "2       W SUNSET BLVD    296\n",
       "3         W PICO BLVD    288\n",
       "4      HOLLYWOOD BLVD    167\n",
       "5                        162\n",
       "6       WILSHIRE BLVD    161\n",
       "7       S VERMONT AVE    148\n",
       "8   SANTA MONICA BLVD    146\n",
       "9        BEVERLY BLVD    135"
      ]
     },
     "execution_count": 324,
     "metadata": {},
     "output_type": "execute_result"
    }
   ],
   "source": [
    "rest_by_address.head(10)"
   ]
  },
  {
   "cell_type": "code",
   "execution_count": 325,
   "id": "2f28b942-8055-4510-9f1b-653d5f984f5f",
   "metadata": {},
   "outputs": [],
   "source": [
    "# selecting indexes that have no address information and W and E that represent an area not a street\n",
    "\n",
    "index_to_drop = [0, 1, 5]\n"
   ]
  },
  {
   "cell_type": "code",
   "execution_count": 326,
   "id": "2568e6a9-e383-4512-9c3b-bf0cce0b347c",
   "metadata": {},
   "outputs": [],
   "source": [
    "# dropping indexes above\n",
    "\n",
    "rest_by_address.drop(index_to_drop, inplace=True)"
   ]
  },
  {
   "cell_type": "code",
   "execution_count": 327,
   "id": "6b6886f0-a361-469a-9a18-179a2bfa5ad8",
   "metadata": {},
   "outputs": [
    {
     "data": {
      "text/html": [
       "<div>\n",
       "<style scoped>\n",
       "    .dataframe tbody tr th:only-of-type {\n",
       "        vertical-align: middle;\n",
       "    }\n",
       "\n",
       "    .dataframe tbody tr th {\n",
       "        vertical-align: top;\n",
       "    }\n",
       "\n",
       "    .dataframe thead th {\n",
       "        text-align: right;\n",
       "    }\n",
       "</style>\n",
       "<table border=\"1\" class=\"dataframe\">\n",
       "  <thead>\n",
       "    <tr style=\"text-align: right;\">\n",
       "      <th></th>\n",
       "      <th>index</th>\n",
       "      <th>count</th>\n",
       "    </tr>\n",
       "  </thead>\n",
       "  <tbody>\n",
       "    <tr>\n",
       "      <th>2</th>\n",
       "      <td>W SUNSET BLVD</td>\n",
       "      <td>296</td>\n",
       "    </tr>\n",
       "    <tr>\n",
       "      <th>3</th>\n",
       "      <td>W PICO BLVD</td>\n",
       "      <td>288</td>\n",
       "    </tr>\n",
       "    <tr>\n",
       "      <th>4</th>\n",
       "      <td>HOLLYWOOD BLVD</td>\n",
       "      <td>167</td>\n",
       "    </tr>\n",
       "    <tr>\n",
       "      <th>6</th>\n",
       "      <td>WILSHIRE BLVD</td>\n",
       "      <td>161</td>\n",
       "    </tr>\n",
       "    <tr>\n",
       "      <th>7</th>\n",
       "      <td>S VERMONT AVE</td>\n",
       "      <td>148</td>\n",
       "    </tr>\n",
       "  </tbody>\n",
       "</table>\n",
       "</div>"
      ],
      "text/plain": [
       "             index  count\n",
       "2    W SUNSET BLVD    296\n",
       "3      W PICO BLVD    288\n",
       "4   HOLLYWOOD BLVD    167\n",
       "6    WILSHIRE BLVD    161\n",
       "7    S VERMONT AVE    148"
      ]
     },
     "execution_count": 327,
     "metadata": {},
     "output_type": "execute_result"
    }
   ],
   "source": [
    "rest_by_address.head()"
   ]
  },
  {
   "cell_type": "code",
   "execution_count": 328,
   "id": "a32baec6-fa09-46e9-b591-51e1bb55c351",
   "metadata": {},
   "outputs": [],
   "source": [
    "# saving top 10 of restaurants count by street\n",
    "\n",
    "top10_streets_rest = rest_by_address.head(10)"
   ]
  },
  {
   "cell_type": "code",
   "execution_count": 329,
   "id": "cbec27e3-19aa-48c3-9fb3-1b603ced7f00",
   "metadata": {},
   "outputs": [],
   "source": [
    "top10_streets_rest = top10_streets_rest.copy()"
   ]
  },
  {
   "cell_type": "code",
   "execution_count": 330,
   "id": "081c5c85",
   "metadata": {},
   "outputs": [
    {
     "data": {
      "text/html": [
       "<div>\n",
       "<style scoped>\n",
       "    .dataframe tbody tr th:only-of-type {\n",
       "        vertical-align: middle;\n",
       "    }\n",
       "\n",
       "    .dataframe tbody tr th {\n",
       "        vertical-align: top;\n",
       "    }\n",
       "\n",
       "    .dataframe thead th {\n",
       "        text-align: right;\n",
       "    }\n",
       "</style>\n",
       "<table border=\"1\" class=\"dataframe\">\n",
       "  <thead>\n",
       "    <tr style=\"text-align: right;\">\n",
       "      <th></th>\n",
       "      <th>index</th>\n",
       "      <th>count</th>\n",
       "    </tr>\n",
       "  </thead>\n",
       "  <tbody>\n",
       "    <tr>\n",
       "      <th>2</th>\n",
       "      <td>W SUNSET BLVD</td>\n",
       "      <td>296</td>\n",
       "    </tr>\n",
       "    <tr>\n",
       "      <th>3</th>\n",
       "      <td>W PICO BLVD</td>\n",
       "      <td>288</td>\n",
       "    </tr>\n",
       "    <tr>\n",
       "      <th>4</th>\n",
       "      <td>HOLLYWOOD BLVD</td>\n",
       "      <td>167</td>\n",
       "    </tr>\n",
       "    <tr>\n",
       "      <th>6</th>\n",
       "      <td>WILSHIRE BLVD</td>\n",
       "      <td>161</td>\n",
       "    </tr>\n",
       "    <tr>\n",
       "      <th>7</th>\n",
       "      <td>S VERMONT AVE</td>\n",
       "      <td>148</td>\n",
       "    </tr>\n",
       "    <tr>\n",
       "      <th>8</th>\n",
       "      <td>SANTA MONICA BLVD</td>\n",
       "      <td>146</td>\n",
       "    </tr>\n",
       "    <tr>\n",
       "      <th>9</th>\n",
       "      <td>BEVERLY BLVD</td>\n",
       "      <td>135</td>\n",
       "    </tr>\n",
       "    <tr>\n",
       "      <th>10</th>\n",
       "      <td>S FIGUEROA ST</td>\n",
       "      <td>134</td>\n",
       "    </tr>\n",
       "    <tr>\n",
       "      <th>11</th>\n",
       "      <td>MELROSE AVE</td>\n",
       "      <td>128</td>\n",
       "    </tr>\n",
       "    <tr>\n",
       "      <th>12</th>\n",
       "      <td>S WESTERN AVE</td>\n",
       "      <td>128</td>\n",
       "    </tr>\n",
       "  </tbody>\n",
       "</table>\n",
       "</div>"
      ],
      "text/plain": [
       "                 index  count\n",
       "2        W SUNSET BLVD    296\n",
       "3          W PICO BLVD    288\n",
       "4       HOLLYWOOD BLVD    167\n",
       "6        WILSHIRE BLVD    161\n",
       "7        S VERMONT AVE    148\n",
       "8    SANTA MONICA BLVD    146\n",
       "9         BEVERLY BLVD    135\n",
       "10       S FIGUEROA ST    134\n",
       "11         MELROSE AVE    128\n",
       "12       S WESTERN AVE    128"
      ]
     },
     "execution_count": 330,
     "metadata": {},
     "output_type": "execute_result"
    }
   ],
   "source": [
    "top10_streets_rest"
   ]
  },
  {
   "cell_type": "code",
   "execution_count": 331,
   "id": "7bd05108-4a3d-4f14-a1cb-cac06cc302e6",
   "metadata": {},
   "outputs": [],
   "source": [
    "# calculationg ratio\n",
    "\n",
    "top10_streets_rest['ratio'] = (top10_streets_rest['count'] / top10_streets_rest['count'].sum())*100"
   ]
  },
  {
   "cell_type": "code",
   "execution_count": 332,
   "id": "54b677b5-db0a-4870-9090-04397752e738",
   "metadata": {},
   "outputs": [
    {
     "data": {
      "text/html": [
       "<div>\n",
       "<style scoped>\n",
       "    .dataframe tbody tr th:only-of-type {\n",
       "        vertical-align: middle;\n",
       "    }\n",
       "\n",
       "    .dataframe tbody tr th {\n",
       "        vertical-align: top;\n",
       "    }\n",
       "\n",
       "    .dataframe thead th {\n",
       "        text-align: right;\n",
       "    }\n",
       "</style>\n",
       "<table border=\"1\" class=\"dataframe\">\n",
       "  <thead>\n",
       "    <tr style=\"text-align: right;\">\n",
       "      <th></th>\n",
       "      <th>index</th>\n",
       "      <th>count</th>\n",
       "      <th>ratio</th>\n",
       "    </tr>\n",
       "  </thead>\n",
       "  <tbody>\n",
       "    <tr>\n",
       "      <th>2</th>\n",
       "      <td>W SUNSET BLVD</td>\n",
       "      <td>296</td>\n",
       "      <td>17.099942</td>\n",
       "    </tr>\n",
       "    <tr>\n",
       "      <th>3</th>\n",
       "      <td>W PICO BLVD</td>\n",
       "      <td>288</td>\n",
       "      <td>16.637782</td>\n",
       "    </tr>\n",
       "    <tr>\n",
       "      <th>4</th>\n",
       "      <td>HOLLYWOOD BLVD</td>\n",
       "      <td>167</td>\n",
       "      <td>9.647603</td>\n",
       "    </tr>\n",
       "    <tr>\n",
       "      <th>6</th>\n",
       "      <td>WILSHIRE BLVD</td>\n",
       "      <td>161</td>\n",
       "      <td>9.300982</td>\n",
       "    </tr>\n",
       "    <tr>\n",
       "      <th>7</th>\n",
       "      <td>S VERMONT AVE</td>\n",
       "      <td>148</td>\n",
       "      <td>8.549971</td>\n",
       "    </tr>\n",
       "    <tr>\n",
       "      <th>8</th>\n",
       "      <td>SANTA MONICA BLVD</td>\n",
       "      <td>146</td>\n",
       "      <td>8.434431</td>\n",
       "    </tr>\n",
       "    <tr>\n",
       "      <th>9</th>\n",
       "      <td>BEVERLY BLVD</td>\n",
       "      <td>135</td>\n",
       "      <td>7.798960</td>\n",
       "    </tr>\n",
       "    <tr>\n",
       "      <th>10</th>\n",
       "      <td>S FIGUEROA ST</td>\n",
       "      <td>134</td>\n",
       "      <td>7.741190</td>\n",
       "    </tr>\n",
       "    <tr>\n",
       "      <th>11</th>\n",
       "      <td>MELROSE AVE</td>\n",
       "      <td>128</td>\n",
       "      <td>7.394570</td>\n",
       "    </tr>\n",
       "    <tr>\n",
       "      <th>12</th>\n",
       "      <td>S WESTERN AVE</td>\n",
       "      <td>128</td>\n",
       "      <td>7.394570</td>\n",
       "    </tr>\n",
       "  </tbody>\n",
       "</table>\n",
       "</div>"
      ],
      "text/plain": [
       "                 index  count      ratio\n",
       "2        W SUNSET BLVD    296  17.099942\n",
       "3          W PICO BLVD    288  16.637782\n",
       "4       HOLLYWOOD BLVD    167   9.647603\n",
       "6        WILSHIRE BLVD    161   9.300982\n",
       "7        S VERMONT AVE    148   8.549971\n",
       "8    SANTA MONICA BLVD    146   8.434431\n",
       "9         BEVERLY BLVD    135   7.798960\n",
       "10       S FIGUEROA ST    134   7.741190\n",
       "11         MELROSE AVE    128   7.394570\n",
       "12       S WESTERN AVE    128   7.394570"
      ]
     },
     "execution_count": 332,
     "metadata": {},
     "output_type": "execute_result"
    }
   ],
   "source": [
    "top10_streets_rest.head(10)"
   ]
  },
  {
   "cell_type": "code",
   "execution_count": 333,
   "id": "b38c9bdd-982b-4d7f-953c-2f4931c1bf2d",
   "metadata": {},
   "outputs": [
    {
     "data": {
      "text/plain": [
       "1731"
      ]
     },
     "execution_count": 333,
     "metadata": {},
     "output_type": "execute_result"
    }
   ],
   "source": [
    "top10_streets_rest['count'].sum()"
   ]
  },
  {
   "cell_type": "code",
   "execution_count": 334,
   "id": "df98cbc6-87bf-4ccc-b278-535390806524",
   "metadata": {},
   "outputs": [
    {
     "data": {
      "image/png": "[encoded data removed]",
      "text/plain": [
       "<Figure size 864x576 with 1 Axes>"
      ]
     },
     "metadata": {
      "needs_background": "light"
     },
     "output_type": "display_data"
    }
   ],
   "source": [
    "# plotting with matplotlib\n",
    "\n",
    "plt.figure(figsize=(12,8))\n",
    "plt.bar(top10_streets_rest['index'], top10_streets_rest['count'])\n",
    "plt.title('Plot Top 10 Streets with Most Restaurants')\n",
    "plt.xlabel('Street')\n",
    "plt.ylabel('Count')\n",
    "plt.xticks(rotation=45)\n",
    "plt.show()"
   ]
  },
  {
   "cell_type": "code",
   "execution_count": 519,
   "id": "32870498-312e-4ccf-830d-42df26ace8cb",
   "metadata": {},
   "outputs": [
    {
     "data": {
      "text/html": [
       "<div>\n",
       "<style scoped>\n",
       "    .dataframe tbody tr th:only-of-type {\n",
       "        vertical-align: middle;\n",
       "    }\n",
       "\n",
       "    .dataframe tbody tr th {\n",
       "        vertical-align: top;\n",
       "    }\n",
       "\n",
       "    .dataframe thead th {\n",
       "        text-align: right;\n",
       "    }\n",
       "</style>\n",
       "<table border=\"1\" class=\"dataframe\">\n",
       "  <thead>\n",
       "    <tr style=\"text-align: right;\">\n",
       "      <th></th>\n",
       "      <th>address_name</th>\n",
       "      <th>count</th>\n",
       "      <th>ratio</th>\n",
       "    </tr>\n",
       "  </thead>\n",
       "  <tbody>\n",
       "    <tr>\n",
       "      <th>2</th>\n",
       "      <td>W SUNSET BLVD</td>\n",
       "      <td>296</td>\n",
       "      <td>17.099942</td>\n",
       "    </tr>\n",
       "    <tr>\n",
       "      <th>3</th>\n",
       "      <td>W PICO BLVD</td>\n",
       "      <td>288</td>\n",
       "      <td>16.637782</td>\n",
       "    </tr>\n",
       "    <tr>\n",
       "      <th>4</th>\n",
       "      <td>HOLLYWOOD BLVD</td>\n",
       "      <td>167</td>\n",
       "      <td>9.647603</td>\n",
       "    </tr>\n",
       "    <tr>\n",
       "      <th>6</th>\n",
       "      <td>WILSHIRE BLVD</td>\n",
       "      <td>161</td>\n",
       "      <td>9.300982</td>\n",
       "    </tr>\n",
       "    <tr>\n",
       "      <th>7</th>\n",
       "      <td>S VERMONT AVE</td>\n",
       "      <td>148</td>\n",
       "      <td>8.549971</td>\n",
       "    </tr>\n",
       "    <tr>\n",
       "      <th>8</th>\n",
       "      <td>SANTA MONICA BLVD</td>\n",
       "      <td>146</td>\n",
       "      <td>8.434431</td>\n",
       "    </tr>\n",
       "    <tr>\n",
       "      <th>9</th>\n",
       "      <td>BEVERLY BLVD</td>\n",
       "      <td>135</td>\n",
       "      <td>7.798960</td>\n",
       "    </tr>\n",
       "    <tr>\n",
       "      <th>10</th>\n",
       "      <td>S FIGUEROA ST</td>\n",
       "      <td>134</td>\n",
       "      <td>7.741190</td>\n",
       "    </tr>\n",
       "    <tr>\n",
       "      <th>11</th>\n",
       "      <td>MELROSE AVE</td>\n",
       "      <td>128</td>\n",
       "      <td>7.394570</td>\n",
       "    </tr>\n",
       "    <tr>\n",
       "      <th>12</th>\n",
       "      <td>S WESTERN AVE</td>\n",
       "      <td>128</td>\n",
       "      <td>7.394570</td>\n",
       "    </tr>\n",
       "  </tbody>\n",
       "</table>\n",
       "</div>"
      ],
      "text/plain": [
       "          address_name  count      ratio\n",
       "2        W SUNSET BLVD    296  17.099942\n",
       "3          W PICO BLVD    288  16.637782\n",
       "4       HOLLYWOOD BLVD    167   9.647603\n",
       "6        WILSHIRE BLVD    161   9.300982\n",
       "7        S VERMONT AVE    148   8.549971\n",
       "8    SANTA MONICA BLVD    146   8.434431\n",
       "9         BEVERLY BLVD    135   7.798960\n",
       "10       S FIGUEROA ST    134   7.741190\n",
       "11         MELROSE AVE    128   7.394570\n",
       "12       S WESTERN AVE    128   7.394570"
      ]
     },
     "execution_count": 519,
     "metadata": {},
     "output_type": "execute_result"
    }
   ],
   "source": [
    "top10_streets_rest"
   ]
  },
  {
   "cell_type": "code",
   "execution_count": 521,
   "id": "9fa0c30d-98b6-4404-b939-4a1afa32ae8f",
   "metadata": {},
   "outputs": [
    {
     "data": {
      "image/png": "[encoded data removed]",
      "text/plain": [
       "<Figure size 864x576 with 1 Axes>"
      ]
     },
     "metadata": {
      "needs_background": "light"
     },
     "output_type": "display_data"
    }
   ],
   "source": [
    "# ploting with seaborn\n",
    "\n",
    "plt.figure(figsize=(12, 8))\n",
    "ax = sns.barplot(x='address_name', y='count', data=top10_streets_rest)\n",
    "for p in ax.patches:\n",
    "    ax.text(p.get_x() + p.get_width() / 2., p.get_height(), round(p.get_height()), ha='center', va='bottom')\n",
    "plt.title('Plot of Restaurant per Street')\n",
    "plt.xlabel('Restaurant Type')\n",
    "plt.ylabel('Count')\n",
    "plt.xticks(rotation=45)\n",
    "plt.show()"
   ]
  },
  {
   "cell_type": "markdown",
   "id": "1c756559-bff9-44b0-a6d9-edaed0c84f28",
   "metadata": {},
   "source": [
    "    "
   ]
  },
  {
   "cell_type": "markdown",
   "id": "fbffa116-dea6-43e4-b555-640ee62307e4",
   "metadata": {},
   "source": [
    "    17% of business is found in W SUNSET BLVD and 16% W PICO BLVD the rest of the top ten share is between 9% and 7%"
   ]
  },
  {
   "cell_type": "markdown",
   "id": "ce706960",
   "metadata": {},
   "source": [
    "<s><div class=\"alert alert-danger\">\n",
    "<strong>Comentário do revisor v1</strong>\n",
    "\n",
    "Temos um problema por aqui.\n",
    "    \n",
    "W e E tratam-se de prefixos para nomes de ruas (da mesma forma que existe a W sunset blvd existe a E sunset blvd), sendo assim não devem ser consideradas ruas como as outras... Precisaremos trabalhar melhor os dados pra lidar com essa situação.\n",
    "</div>\n"
   ]
  },
  {
   "cell_type": "markdown",
   "id": "146d82b5",
   "metadata": {},
   "source": [
    "<div class=\"alert alert-danger\">\n",
    "<strong>Comentário do revisor v2</strong>\n",
    "\n",
    "Eu tive de mudar o nome das variáveis. É importante executar o código antes de enviar.\n",
    "</div>\n"
   ]
  },
  {
   "cell_type": "markdown",
   "id": "c3d9e8ce-a672-429c-80e3-0149c3a72726",
   "metadata": {},
   "source": [
    "### Encontre o número de ruas que têm apenas um restaurante."
   ]
  },
  {
   "cell_type": "code",
   "execution_count": 341,
   "id": "657d68e7-9e9e-40c7-85dc-ee664d200e8f",
   "metadata": {},
   "outputs": [
    {
     "data": {
      "text/html": [
       "<div>\n",
       "<style scoped>\n",
       "    .dataframe tbody tr th:only-of-type {\n",
       "        vertical-align: middle;\n",
       "    }\n",
       "\n",
       "    .dataframe tbody tr th {\n",
       "        vertical-align: top;\n",
       "    }\n",
       "\n",
       "    .dataframe thead th {\n",
       "        text-align: right;\n",
       "    }\n",
       "</style>\n",
       "<table border=\"1\" class=\"dataframe\">\n",
       "  <thead>\n",
       "    <tr style=\"text-align: right;\">\n",
       "      <th></th>\n",
       "      <th>index</th>\n",
       "      <th>count</th>\n",
       "    </tr>\n",
       "  </thead>\n",
       "  <tbody>\n",
       "    <tr>\n",
       "      <th>1050</th>\n",
       "      <td>JEFFERSON BLVD STE</td>\n",
       "      <td>1</td>\n",
       "    </tr>\n",
       "    <tr>\n",
       "      <th>1040</th>\n",
       "      <td>S VERMONT AVE STE A</td>\n",
       "      <td>1</td>\n",
       "    </tr>\n",
       "    <tr>\n",
       "      <th>1034</th>\n",
       "      <td>SEPULVEDA BLVD STE</td>\n",
       "      <td>1</td>\n",
       "    </tr>\n",
       "    <tr>\n",
       "      <th>1035</th>\n",
       "      <td>S LA BREA AVE STE E</td>\n",
       "      <td>1</td>\n",
       "    </tr>\n",
       "    <tr>\n",
       "      <th>1036</th>\n",
       "      <td>E IMPERIAL HWY UNIT</td>\n",
       "      <td>1</td>\n",
       "    </tr>\n",
       "  </tbody>\n",
       "</table>\n",
       "</div>"
      ],
      "text/plain": [
       "                      index  count\n",
       "1050    JEFFERSON BLVD STE       1\n",
       "1040    S VERMONT AVE STE A      1\n",
       "1034    SEPULVEDA BLVD STE       1\n",
       "1035    S LA BREA AVE STE E      1\n",
       "1036   E IMPERIAL HWY UNIT       1"
      ]
     },
     "execution_count": 341,
     "metadata": {},
     "output_type": "execute_result"
    }
   ],
   "source": [
    "# saving streets that have only 1 restaurant\n",
    "\n",
    "street_one_restaurant = rest_by_address.query('count == 1')\n",
    "street_one_restaurant.head()"
   ]
  },
  {
   "cell_type": "code",
   "execution_count": 342,
   "id": "02f487c6-bec1-4fa1-af39-38e1f4bb4a04",
   "metadata": {},
   "outputs": [
    {
     "data": {
      "text/plain": [
       "689"
      ]
     },
     "execution_count": 342,
     "metadata": {},
     "output_type": "execute_result"
    }
   ],
   "source": [
    "street_one_restaurant['count'].sum()"
   ]
  },
  {
   "cell_type": "markdown",
   "id": "c49c400e-a947-4c06-843c-21c3cf101b21",
   "metadata": {},
   "source": [
    "    689 streets have only one restaurant"
   ]
  },
  {
   "cell_type": "markdown",
   "id": "0afc8e8f",
   "metadata": {},
   "source": [
    "<s><div class=\"alert alert-danger\">\n",
    "<strong>Comentário do revisor v1</strong>\n",
    "\n",
    "Esse número pode mudar após o ajuste da questão anterior.\n",
    "</div>\n"
   ]
  },
  {
   "cell_type": "markdown",
   "id": "f7d8dc4b-5735-432d-b78b-dfa1e5d0b415",
   "metadata": {},
   "source": [
    "<div class=\"alert alert-info\">\n",
    "<strong>Comentário do estudante</strong>\n",
    "\n",
    "Nao percebi aonde o ajuste da questao anterior influenciaria nessa.\n",
    "</div>\n"
   ]
  },
  {
   "cell_type": "markdown",
   "id": "21eaadfa",
   "metadata": {},
   "source": [
    "<div class=\"alert alert-success\">\n",
    "<strong>Comentário do revisor</strong>\n",
    "\n",
    "Correto</div>\n"
   ]
  },
  {
   "cell_type": "markdown",
   "id": "8042b00d-78dd-4a70-86be-99e37a97c617",
   "metadata": {},
   "source": [
    "### Para as ruas com muitos restaurantes, olhe para a distribuição de número de assentos. Quais tendências você consegue notar?"
   ]
  },
  {
   "cell_type": "markdown",
   "id": "14960ce1",
   "metadata": {},
   "source": [
    "<div class=\"alert alert-block alert-danger\">\n",
    "<b> Comentário do revisor: </b> <a class=\"tocSkip\"></a>\n",
    "\n",
    "Tive de renomear as variáveis\n",
    "</div>"
   ]
  },
  {
   "cell_type": "code",
   "execution_count": 349,
   "id": "4b152114",
   "metadata": {},
   "outputs": [],
   "source": [
    "# renaming column\n",
    "\n",
    "top10_streets_rest.rename(columns={'index':'address_name'}, inplace=True)"
   ]
  },
  {
   "cell_type": "code",
   "execution_count": 350,
   "id": "273900bb-5252-462a-b18c-2cdc4e03e04d",
   "metadata": {},
   "outputs": [],
   "source": [
    "# saving top10 addresses\n",
    "\n",
    "top10_busy_streets = top10_streets_rest['address_name']"
   ]
  },
  {
   "cell_type": "code",
   "execution_count": 351,
   "id": "74ebbe97-4df5-4337-b4f9-718884e2eeef",
   "metadata": {},
   "outputs": [],
   "source": [
    "# querying only restaurants on top 10 busy streets\n",
    "\n",
    "top10_street_rest = rest.query('address_name in @top10_busy_streets')"
   ]
  },
  {
   "cell_type": "code",
   "execution_count": 352,
   "id": "b3a87dc6-f3d7-48ef-9e1b-4928ae52e3e9",
   "metadata": {},
   "outputs": [
    {
     "data": {
      "text/html": [
       "<div>\n",
       "<style scoped>\n",
       "    .dataframe tbody tr th:only-of-type {\n",
       "        vertical-align: middle;\n",
       "    }\n",
       "\n",
       "    .dataframe tbody tr th {\n",
       "        vertical-align: top;\n",
       "    }\n",
       "\n",
       "    .dataframe thead th {\n",
       "        text-align: right;\n",
       "    }\n",
       "</style>\n",
       "<table border=\"1\" class=\"dataframe\">\n",
       "  <thead>\n",
       "    <tr style=\"text-align: right;\">\n",
       "      <th></th>\n",
       "      <th>id</th>\n",
       "      <th>object_name</th>\n",
       "      <th>address</th>\n",
       "      <th>chain</th>\n",
       "      <th>object_type</th>\n",
       "      <th>number</th>\n",
       "      <th>address_name</th>\n",
       "    </tr>\n",
       "  </thead>\n",
       "  <tbody>\n",
       "    <tr>\n",
       "      <th>3</th>\n",
       "      <td>11789</td>\n",
       "      <td>TRINITI ECHO PARK</td>\n",
       "      <td>1814 W SUNSET BLVD</td>\n",
       "      <td>False</td>\n",
       "      <td>Restaurant</td>\n",
       "      <td>22</td>\n",
       "      <td>W SUNSET BLVD</td>\n",
       "    </tr>\n",
       "    <tr>\n",
       "      <th>10</th>\n",
       "      <td>11796</td>\n",
       "      <td>EL POLLO LOCO</td>\n",
       "      <td>5319 W SUNSET BLVD</td>\n",
       "      <td>True</td>\n",
       "      <td>Restaurant</td>\n",
       "      <td>38</td>\n",
       "      <td>W SUNSET BLVD</td>\n",
       "    </tr>\n",
       "    <tr>\n",
       "      <th>16</th>\n",
       "      <td>11802</td>\n",
       "      <td>HMS BOUNTY</td>\n",
       "      <td>3357 WILSHIRE BLVD</td>\n",
       "      <td>False</td>\n",
       "      <td>Restaurant</td>\n",
       "      <td>147</td>\n",
       "      <td>WILSHIRE BLVD</td>\n",
       "    </tr>\n",
       "    <tr>\n",
       "      <th>18</th>\n",
       "      <td>11804</td>\n",
       "      <td>MURAKAMI</td>\n",
       "      <td>7160 MELROSE AVE</td>\n",
       "      <td>False</td>\n",
       "      <td>Restaurant</td>\n",
       "      <td>139</td>\n",
       "      <td>MELROSE AVE</td>\n",
       "    </tr>\n",
       "    <tr>\n",
       "      <th>22</th>\n",
       "      <td>11808</td>\n",
       "      <td>CAMY'S GRILL</td>\n",
       "      <td>3339 WILSHIRE BLVD</td>\n",
       "      <td>False</td>\n",
       "      <td>Restaurant</td>\n",
       "      <td>39</td>\n",
       "      <td>WILSHIRE BLVD</td>\n",
       "    </tr>\n",
       "    <tr>\n",
       "      <th>...</th>\n",
       "      <td>...</td>\n",
       "      <td>...</td>\n",
       "      <td>...</td>\n",
       "      <td>...</td>\n",
       "      <td>...</td>\n",
       "      <td>...</td>\n",
       "      <td>...</td>\n",
       "    </tr>\n",
       "    <tr>\n",
       "      <th>9628</th>\n",
       "      <td>21414</td>\n",
       "      <td>KIFF KAFE</td>\n",
       "      <td>12217 W PICO BLVD</td>\n",
       "      <td>False</td>\n",
       "      <td>Restaurant</td>\n",
       "      <td>29</td>\n",
       "      <td>W PICO BLVD</td>\n",
       "    </tr>\n",
       "    <tr>\n",
       "      <th>9630</th>\n",
       "      <td>21416</td>\n",
       "      <td>SALVATORE'S ON MELROSE</td>\n",
       "      <td>7356 MELROSE AVE</td>\n",
       "      <td>False</td>\n",
       "      <td>Restaurant</td>\n",
       "      <td>101</td>\n",
       "      <td>MELROSE AVE</td>\n",
       "    </tr>\n",
       "    <tr>\n",
       "      <th>9639</th>\n",
       "      <td>21425</td>\n",
       "      <td>MCDONALD'S</td>\n",
       "      <td>1800 S WESTERN AVE</td>\n",
       "      <td>True</td>\n",
       "      <td>Fast Food</td>\n",
       "      <td>135</td>\n",
       "      <td>S WESTERN AVE</td>\n",
       "    </tr>\n",
       "    <tr>\n",
       "      <th>9647</th>\n",
       "      <td>21433</td>\n",
       "      <td>FIN-MELROSE</td>\n",
       "      <td>5750 MELROSE AVE</td>\n",
       "      <td>False</td>\n",
       "      <td>Restaurant</td>\n",
       "      <td>93</td>\n",
       "      <td>MELROSE AVE</td>\n",
       "    </tr>\n",
       "    <tr>\n",
       "      <th>9648</th>\n",
       "      <td>21434</td>\n",
       "      <td>JUICY WINGZ</td>\n",
       "      <td>6741 HOLLYWOOD BLVD</td>\n",
       "      <td>True</td>\n",
       "      <td>Fast Food</td>\n",
       "      <td>15</td>\n",
       "      <td>HOLLYWOOD BLVD</td>\n",
       "    </tr>\n",
       "  </tbody>\n",
       "</table>\n",
       "<p>1731 rows × 7 columns</p>\n",
       "</div>"
      ],
      "text/plain": [
       "         id             object_name              address  chain object_type  \\\n",
       "3     11789       TRINITI ECHO PARK   1814 W SUNSET BLVD  False  Restaurant   \n",
       "10    11796           EL POLLO LOCO   5319 W SUNSET BLVD   True  Restaurant   \n",
       "16    11802              HMS BOUNTY   3357 WILSHIRE BLVD  False  Restaurant   \n",
       "18    11804                MURAKAMI     7160 MELROSE AVE  False  Restaurant   \n",
       "22    11808            CAMY'S GRILL   3339 WILSHIRE BLVD  False  Restaurant   \n",
       "...     ...                     ...                  ...    ...         ...   \n",
       "9628  21414               KIFF KAFE    12217 W PICO BLVD  False  Restaurant   \n",
       "9630  21416  SALVATORE'S ON MELROSE     7356 MELROSE AVE  False  Restaurant   \n",
       "9639  21425              MCDONALD'S   1800 S WESTERN AVE   True   Fast Food   \n",
       "9647  21433             FIN-MELROSE     5750 MELROSE AVE  False  Restaurant   \n",
       "9648  21434             JUICY WINGZ  6741 HOLLYWOOD BLVD   True   Fast Food   \n",
       "\n",
       "      number     address_name  \n",
       "3         22    W SUNSET BLVD  \n",
       "10        38    W SUNSET BLVD  \n",
       "16       147    WILSHIRE BLVD  \n",
       "18       139      MELROSE AVE  \n",
       "22        39    WILSHIRE BLVD  \n",
       "...      ...              ...  \n",
       "9628      29      W PICO BLVD  \n",
       "9630     101      MELROSE AVE  \n",
       "9639     135    S WESTERN AVE  \n",
       "9647      93      MELROSE AVE  \n",
       "9648      15   HOLLYWOOD BLVD  \n",
       "\n",
       "[1731 rows x 7 columns]"
      ]
     },
     "execution_count": 352,
     "metadata": {},
     "output_type": "execute_result"
    }
   ],
   "source": [
    "top10_street_rest"
   ]
  },
  {
   "cell_type": "code",
   "execution_count": 353,
   "id": "d5f31442-48ea-4def-9de8-38b16ce378a5",
   "metadata": {},
   "outputs": [],
   "source": [
    "# grouping avg seat of top10 rest\n",
    "\n",
    "top10_street_seat_avg = top10_street_rest.groupby('address_name')['number'].mean().round(2).reset_index().sort_values(by='number', ascending=False)"
   ]
  },
  {
   "cell_type": "code",
   "execution_count": 354,
   "id": "a8387e99-72e1-4e38-9720-63c86431c10e",
   "metadata": {},
   "outputs": [
    {
     "data": {
      "text/html": [
       "<div>\n",
       "<style scoped>\n",
       "    .dataframe tbody tr th:only-of-type {\n",
       "        vertical-align: middle;\n",
       "    }\n",
       "\n",
       "    .dataframe tbody tr th {\n",
       "        vertical-align: top;\n",
       "    }\n",
       "\n",
       "    .dataframe thead th {\n",
       "        text-align: right;\n",
       "    }\n",
       "</style>\n",
       "<table border=\"1\" class=\"dataframe\">\n",
       "  <thead>\n",
       "    <tr style=\"text-align: right;\">\n",
       "      <th></th>\n",
       "      <th>address_name</th>\n",
       "      <th>number</th>\n",
       "    </tr>\n",
       "  </thead>\n",
       "  <tbody>\n",
       "    <tr>\n",
       "      <th>9</th>\n",
       "      <td>WILSHIRE BLVD</td>\n",
       "      <td>62.13</td>\n",
       "    </tr>\n",
       "    <tr>\n",
       "      <th>1</th>\n",
       "      <td>HOLLYWOOD BLVD</td>\n",
       "      <td>53.73</td>\n",
       "    </tr>\n",
       "    <tr>\n",
       "      <th>2</th>\n",
       "      <td>MELROSE AVE</td>\n",
       "      <td>52.43</td>\n",
       "    </tr>\n",
       "    <tr>\n",
       "      <th>8</th>\n",
       "      <td>W SUNSET BLVD</td>\n",
       "      <td>50.92</td>\n",
       "    </tr>\n",
       "    <tr>\n",
       "      <th>3</th>\n",
       "      <td>S FIGUEROA ST</td>\n",
       "      <td>50.76</td>\n",
       "    </tr>\n",
       "    <tr>\n",
       "      <th>4</th>\n",
       "      <td>S VERMONT AVE</td>\n",
       "      <td>45.88</td>\n",
       "    </tr>\n",
       "    <tr>\n",
       "      <th>0</th>\n",
       "      <td>BEVERLY BLVD</td>\n",
       "      <td>44.77</td>\n",
       "    </tr>\n",
       "    <tr>\n",
       "      <th>5</th>\n",
       "      <td>S WESTERN AVE</td>\n",
       "      <td>43.10</td>\n",
       "    </tr>\n",
       "    <tr>\n",
       "      <th>7</th>\n",
       "      <td>W PICO BLVD</td>\n",
       "      <td>40.88</td>\n",
       "    </tr>\n",
       "    <tr>\n",
       "      <th>6</th>\n",
       "      <td>SANTA MONICA BLVD</td>\n",
       "      <td>32.39</td>\n",
       "    </tr>\n",
       "  </tbody>\n",
       "</table>\n",
       "</div>"
      ],
      "text/plain": [
       "         address_name  number\n",
       "9       WILSHIRE BLVD   62.13\n",
       "1      HOLLYWOOD BLVD   53.73\n",
       "2         MELROSE AVE   52.43\n",
       "8       W SUNSET BLVD   50.92\n",
       "3       S FIGUEROA ST   50.76\n",
       "4       S VERMONT AVE   45.88\n",
       "0        BEVERLY BLVD   44.77\n",
       "5       S WESTERN AVE   43.10\n",
       "7         W PICO BLVD   40.88\n",
       "6   SANTA MONICA BLVD   32.39"
      ]
     },
     "execution_count": 354,
     "metadata": {},
     "output_type": "execute_result"
    }
   ],
   "source": [
    "top10_street_seat_avg"
   ]
  },
  {
   "cell_type": "code",
   "execution_count": 355,
   "id": "428f8477-97f0-4ffc-9daf-aacbfa1bc0b8",
   "metadata": {},
   "outputs": [
    {
     "data": {
      "image/png": "[encoded data removed]",
      "text/plain": [
       "<Figure size 864x576 with 1 Axes>"
      ]
     },
     "metadata": {
      "needs_background": "light"
     },
     "output_type": "display_data"
    }
   ],
   "source": [
    "# plotting with seaborn\n",
    "\n",
    "plt.figure(figsize=(12, 8))\n",
    "ax = sns.barplot(x='address_name', y='number', data=top10_street_seat_avg)\n",
    "for p in ax.patches:\n",
    "    ax.text(p.get_x() + p.get_width() / 2., p.get_height(), round(p.get_height()), ha='center', va='bottom')\n",
    "plt.title('Plot of Avg Seat for Busiest Streets')\n",
    "plt.xlabel('Street')\n",
    "plt.ylabel('Count')\n",
    "plt.xticks(rotation=45)\n",
    "plt.show()"
   ]
  },
  {
   "cell_type": "markdown",
   "id": "ce60fd9f",
   "metadata": {},
   "source": [
    "<s><div class=\"alert alert-danger\">\n",
    "<strong>Comentário do revisor v1</strong>\n",
    "\n",
    "Essa análise seria muito mais poderosa se compararmos o resultado com o de ruas com menos estabelecimentos.\n",
    "</div>\n"
   ]
  },
  {
   "cell_type": "markdown",
   "id": "1ffb47eb",
   "metadata": {},
   "source": [
    "<div class=\"alert alert-danger\">\n",
    "<strong>Comentário do revisor v2</strong>\n",
    "\n",
    "Tive de renomear o nome da coluna\n",
    "</div>\n"
   ]
  },
  {
   "cell_type": "code",
   "execution_count": 365,
   "id": "5abfab2c-843a-4b22-9517-66a0cccd9784",
   "metadata": {},
   "outputs": [],
   "source": [
    "# saving top10 of one street resturant variable\n",
    "\n",
    "top10_street_one_resturant = street_one_restaurant['address_name'].head(10)"
   ]
  },
  {
   "cell_type": "code",
   "execution_count": 366,
   "id": "52e07bb5-1b93-47d0-b1e7-81986d8e406b",
   "metadata": {},
   "outputs": [],
   "source": [
    "# filtering by top 10 streets with one restaurant\n",
    "\n",
    "top10_street_one_rest = rest.query('address_name in @top10_street_one_resturant')"
   ]
  },
  {
   "cell_type": "code",
   "execution_count": 367,
   "id": "e2d76b80-477c-4e4e-8f9c-494050b0862e",
   "metadata": {},
   "outputs": [
    {
     "data": {
      "text/html": [
       "<div>\n",
       "<style scoped>\n",
       "    .dataframe tbody tr th:only-of-type {\n",
       "        vertical-align: middle;\n",
       "    }\n",
       "\n",
       "    .dataframe tbody tr th {\n",
       "        vertical-align: top;\n",
       "    }\n",
       "\n",
       "    .dataframe thead th {\n",
       "        text-align: right;\n",
       "    }\n",
       "</style>\n",
       "<table border=\"1\" class=\"dataframe\">\n",
       "  <thead>\n",
       "    <tr style=\"text-align: right;\">\n",
       "      <th></th>\n",
       "      <th>id</th>\n",
       "      <th>object_name</th>\n",
       "      <th>address</th>\n",
       "      <th>chain</th>\n",
       "      <th>object_type</th>\n",
       "      <th>number</th>\n",
       "      <th>address_name</th>\n",
       "    </tr>\n",
       "  </thead>\n",
       "  <tbody>\n",
       "    <tr>\n",
       "      <th>842</th>\n",
       "      <td>12628</td>\n",
       "      <td>MONO POKE</td>\n",
       "      <td>8800 SEPULVEDA BLVD STE 3</td>\n",
       "      <td>False</td>\n",
       "      <td>Restaurant</td>\n",
       "      <td>16</td>\n",
       "      <td>SEPULVEDA BLVD STE</td>\n",
       "    </tr>\n",
       "    <tr>\n",
       "      <th>860</th>\n",
       "      <td>12646</td>\n",
       "      <td>POKE ME</td>\n",
       "      <td>310 S LA BREA AVE STE E</td>\n",
       "      <td>True</td>\n",
       "      <td>Restaurant</td>\n",
       "      <td>10</td>\n",
       "      <td>S LA BREA AVE STE E</td>\n",
       "    </tr>\n",
       "    <tr>\n",
       "      <th>919</th>\n",
       "      <td>12705</td>\n",
       "      <td>DONUT EXPRESS</td>\n",
       "      <td>425 E IMPERIAL HWY UNIT #A</td>\n",
       "      <td>False</td>\n",
       "      <td>Fast Food</td>\n",
       "      <td>14</td>\n",
       "      <td>E IMPERIAL HWY UNIT</td>\n",
       "    </tr>\n",
       "    <tr>\n",
       "      <th>932</th>\n",
       "      <td>12718</td>\n",
       "      <td>CURSON CAFE</td>\n",
       "      <td>475 W CURSON AVE</td>\n",
       "      <td>False</td>\n",
       "      <td>Restaurant</td>\n",
       "      <td>26</td>\n",
       "      <td>W CURSON AVE</td>\n",
       "    </tr>\n",
       "    <tr>\n",
       "      <th>946</th>\n",
       "      <td>12732</td>\n",
       "      <td>CRISPY CRUST PIZZA</td>\n",
       "      <td>3111 N GLENDALE BLVD UNIT UNIT</td>\n",
       "      <td>False</td>\n",
       "      <td>Pizza</td>\n",
       "      <td>12</td>\n",
       "      <td>N GLENDALE BLVD UNIT UNIT</td>\n",
       "    </tr>\n",
       "    <tr>\n",
       "      <th>948</th>\n",
       "      <td>12734</td>\n",
       "      <td>POLLO CAMPERO</td>\n",
       "      <td>10960 SHERMAN WAY</td>\n",
       "      <td>True</td>\n",
       "      <td>Restaurant</td>\n",
       "      <td>127</td>\n",
       "      <td>SHERMAN WAY</td>\n",
       "    </tr>\n",
       "    <tr>\n",
       "      <th>976</th>\n",
       "      <td>12762</td>\n",
       "      <td>LA DONUTS</td>\n",
       "      <td>1514 S VERMONT AVE STE A</td>\n",
       "      <td>False</td>\n",
       "      <td>Fast Food</td>\n",
       "      <td>5</td>\n",
       "      <td>S VERMONT AVE STE A</td>\n",
       "    </tr>\n",
       "    <tr>\n",
       "      <th>979</th>\n",
       "      <td>12765</td>\n",
       "      <td>K.H. CHINA EXPRESS</td>\n",
       "      <td>5150 HUNTINGTON DR STE 102</td>\n",
       "      <td>True</td>\n",
       "      <td>Fast Food</td>\n",
       "      <td>9</td>\n",
       "      <td>HUNTINGTON DR STE</td>\n",
       "    </tr>\n",
       "    <tr>\n",
       "      <th>1039</th>\n",
       "      <td>12825</td>\n",
       "      <td>CHURCH OF THE EPIPHANY</td>\n",
       "      <td>2808 ALTURA ST</td>\n",
       "      <td>False</td>\n",
       "      <td>Restaurant</td>\n",
       "      <td>41</td>\n",
       "      <td>ALTURA ST</td>\n",
       "    </tr>\n",
       "    <tr>\n",
       "      <th>1085</th>\n",
       "      <td>12871</td>\n",
       "      <td>N'ICE CREAM</td>\n",
       "      <td>12746 JEFFERSON BLVD STE 2160</td>\n",
       "      <td>True</td>\n",
       "      <td>Restaurant</td>\n",
       "      <td>15</td>\n",
       "      <td>JEFFERSON BLVD STE</td>\n",
       "    </tr>\n",
       "  </tbody>\n",
       "</table>\n",
       "</div>"
      ],
      "text/plain": [
       "         id             object_name                         address  chain  \\\n",
       "842   12628               MONO POKE       8800 SEPULVEDA BLVD STE 3  False   \n",
       "860   12646                 POKE ME         310 S LA BREA AVE STE E   True   \n",
       "919   12705           DONUT EXPRESS      425 E IMPERIAL HWY UNIT #A  False   \n",
       "932   12718             CURSON CAFE                475 W CURSON AVE  False   \n",
       "946   12732      CRISPY CRUST PIZZA  3111 N GLENDALE BLVD UNIT UNIT  False   \n",
       "948   12734           POLLO CAMPERO               10960 SHERMAN WAY   True   \n",
       "976   12762               LA DONUTS        1514 S VERMONT AVE STE A  False   \n",
       "979   12765      K.H. CHINA EXPRESS      5150 HUNTINGTON DR STE 102   True   \n",
       "1039  12825  CHURCH OF THE EPIPHANY                  2808 ALTURA ST  False   \n",
       "1085  12871             N'ICE CREAM   12746 JEFFERSON BLVD STE 2160   True   \n",
       "\n",
       "     object_type  number                address_name  \n",
       "842   Restaurant      16         SEPULVEDA BLVD STE   \n",
       "860   Restaurant      10         S LA BREA AVE STE E  \n",
       "919    Fast Food      14        E IMPERIAL HWY UNIT   \n",
       "932   Restaurant      26                W CURSON AVE  \n",
       "946        Pizza      12   N GLENDALE BLVD UNIT UNIT  \n",
       "948   Restaurant     127                 SHERMAN WAY  \n",
       "976    Fast Food       5         S VERMONT AVE STE A  \n",
       "979    Fast Food       9          HUNTINGTON DR STE   \n",
       "1039  Restaurant      41                   ALTURA ST  \n",
       "1085  Restaurant      15         JEFFERSON BLVD STE   "
      ]
     },
     "execution_count": 367,
     "metadata": {},
     "output_type": "execute_result"
    }
   ],
   "source": [
    "top10_street_one_rest.head(10)"
   ]
  },
  {
   "cell_type": "code",
   "execution_count": 368,
   "id": "a426f3f0-202f-4119-85f3-bf7c754c606d",
   "metadata": {},
   "outputs": [],
   "source": [
    "# grouping average seats of top 10 one restaurant per street\n",
    "\n",
    "top10_street_one_rest_avg_seat = top10_street_one_rest.groupby('address_name')['number'].mean().reset_index().sort_values(by='number',ascending=False)"
   ]
  },
  {
   "cell_type": "code",
   "execution_count": 369,
   "id": "0da1c430-fbfa-4bee-9560-5bb372b2bf12",
   "metadata": {},
   "outputs": [
    {
     "data": {
      "text/html": [
       "<div>\n",
       "<style scoped>\n",
       "    .dataframe tbody tr th:only-of-type {\n",
       "        vertical-align: middle;\n",
       "    }\n",
       "\n",
       "    .dataframe tbody tr th {\n",
       "        vertical-align: top;\n",
       "    }\n",
       "\n",
       "    .dataframe thead th {\n",
       "        text-align: right;\n",
       "    }\n",
       "</style>\n",
       "<table border=\"1\" class=\"dataframe\">\n",
       "  <thead>\n",
       "    <tr style=\"text-align: right;\">\n",
       "      <th></th>\n",
       "      <th>address_name</th>\n",
       "      <th>number</th>\n",
       "    </tr>\n",
       "  </thead>\n",
       "  <tbody>\n",
       "    <tr>\n",
       "      <th>8</th>\n",
       "      <td>SHERMAN WAY</td>\n",
       "      <td>127.0</td>\n",
       "    </tr>\n",
       "    <tr>\n",
       "      <th>0</th>\n",
       "      <td>ALTURA ST</td>\n",
       "      <td>41.0</td>\n",
       "    </tr>\n",
       "    <tr>\n",
       "      <th>9</th>\n",
       "      <td>W CURSON AVE</td>\n",
       "      <td>26.0</td>\n",
       "    </tr>\n",
       "    <tr>\n",
       "      <th>7</th>\n",
       "      <td>SEPULVEDA BLVD STE</td>\n",
       "      <td>16.0</td>\n",
       "    </tr>\n",
       "    <tr>\n",
       "      <th>3</th>\n",
       "      <td>JEFFERSON BLVD STE</td>\n",
       "      <td>15.0</td>\n",
       "    </tr>\n",
       "    <tr>\n",
       "      <th>1</th>\n",
       "      <td>E IMPERIAL HWY UNIT</td>\n",
       "      <td>14.0</td>\n",
       "    </tr>\n",
       "    <tr>\n",
       "      <th>4</th>\n",
       "      <td>N GLENDALE BLVD UNIT UNIT</td>\n",
       "      <td>12.0</td>\n",
       "    </tr>\n",
       "    <tr>\n",
       "      <th>5</th>\n",
       "      <td>S LA BREA AVE STE E</td>\n",
       "      <td>10.0</td>\n",
       "    </tr>\n",
       "    <tr>\n",
       "      <th>2</th>\n",
       "      <td>HUNTINGTON DR STE</td>\n",
       "      <td>9.0</td>\n",
       "    </tr>\n",
       "    <tr>\n",
       "      <th>6</th>\n",
       "      <td>S VERMONT AVE STE A</td>\n",
       "      <td>5.0</td>\n",
       "    </tr>\n",
       "  </tbody>\n",
       "</table>\n",
       "</div>"
      ],
      "text/plain": [
       "                 address_name  number\n",
       "8                 SHERMAN WAY   127.0\n",
       "0                   ALTURA ST    41.0\n",
       "9                W CURSON AVE    26.0\n",
       "7         SEPULVEDA BLVD STE     16.0\n",
       "3         JEFFERSON BLVD STE     15.0\n",
       "1        E IMPERIAL HWY UNIT     14.0\n",
       "4   N GLENDALE BLVD UNIT UNIT    12.0\n",
       "5         S LA BREA AVE STE E    10.0\n",
       "2          HUNTINGTON DR STE      9.0\n",
       "6         S VERMONT AVE STE A     5.0"
      ]
     },
     "execution_count": 369,
     "metadata": {},
     "output_type": "execute_result"
    }
   ],
   "source": [
    "top10_street_one_rest_avg_seat"
   ]
  },
  {
   "cell_type": "code",
   "execution_count": 370,
   "id": "526dbe24-20b4-427b-932a-fade57bd6f7d",
   "metadata": {},
   "outputs": [
    {
     "data": {
      "image/png": "[encoded data removed]",
      "text/plain": [
       "<Figure size 864x576 with 1 Axes>"
      ]
     },
     "metadata": {
      "needs_background": "light"
     },
     "output_type": "display_data"
    }
   ],
   "source": [
    "# plotting with seaborn\n",
    "\n",
    "plt.figure(figsize=(12, 8))\n",
    "ax = sns.barplot(x='address_name', y='number', data=top10_street_seat_avg)\n",
    "for p in ax.patches:\n",
    "    ax.text(p.get_x() + p.get_width() / 2., p.get_height(), round(p.get_height()), ha='center', va='bottom')\n",
    "plt.title('Plot of Avg Numbers of Seats per Busiest Streets')\n",
    "plt.xlabel('Street')\n",
    "plt.ylabel('Count')\n",
    "plt.xticks(rotation=45)\n",
    "plt.show()"
   ]
  },
  {
   "cell_type": "markdown",
   "id": "112cbd1d-bbfc-42d9-80e0-0b67801a1b70",
   "metadata": {},
   "source": [
    " Wilshire Boulevard has the highest average of seats per restaurant all the other restaurants show a similar average in seat availability"
   ]
  },
  {
   "cell_type": "code",
   "execution_count": 372,
   "id": "bba5c74d-c2e6-474a-a2b2-417d45c0f93d",
   "metadata": {},
   "outputs": [
    {
     "data": {
      "text/html": [
       "<div>\n",
       "<style scoped>\n",
       "    .dataframe tbody tr th:only-of-type {\n",
       "        vertical-align: middle;\n",
       "    }\n",
       "\n",
       "    .dataframe tbody tr th {\n",
       "        vertical-align: top;\n",
       "    }\n",
       "\n",
       "    .dataframe thead th {\n",
       "        text-align: right;\n",
       "    }\n",
       "</style>\n",
       "<table border=\"1\" class=\"dataframe\">\n",
       "  <thead>\n",
       "    <tr style=\"text-align: right;\">\n",
       "      <th></th>\n",
       "      <th>address_name</th>\n",
       "      <th>number</th>\n",
       "    </tr>\n",
       "  </thead>\n",
       "  <tbody>\n",
       "    <tr>\n",
       "      <th>8</th>\n",
       "      <td>SHERMAN WAY</td>\n",
       "      <td>127.0</td>\n",
       "    </tr>\n",
       "    <tr>\n",
       "      <th>0</th>\n",
       "      <td>ALTURA ST</td>\n",
       "      <td>41.0</td>\n",
       "    </tr>\n",
       "    <tr>\n",
       "      <th>9</th>\n",
       "      <td>W CURSON AVE</td>\n",
       "      <td>26.0</td>\n",
       "    </tr>\n",
       "    <tr>\n",
       "      <th>7</th>\n",
       "      <td>SEPULVEDA BLVD STE</td>\n",
       "      <td>16.0</td>\n",
       "    </tr>\n",
       "    <tr>\n",
       "      <th>3</th>\n",
       "      <td>JEFFERSON BLVD STE</td>\n",
       "      <td>15.0</td>\n",
       "    </tr>\n",
       "    <tr>\n",
       "      <th>1</th>\n",
       "      <td>E IMPERIAL HWY UNIT</td>\n",
       "      <td>14.0</td>\n",
       "    </tr>\n",
       "    <tr>\n",
       "      <th>4</th>\n",
       "      <td>N GLENDALE BLVD UNIT UNIT</td>\n",
       "      <td>12.0</td>\n",
       "    </tr>\n",
       "    <tr>\n",
       "      <th>5</th>\n",
       "      <td>S LA BREA AVE STE E</td>\n",
       "      <td>10.0</td>\n",
       "    </tr>\n",
       "    <tr>\n",
       "      <th>2</th>\n",
       "      <td>HUNTINGTON DR STE</td>\n",
       "      <td>9.0</td>\n",
       "    </tr>\n",
       "    <tr>\n",
       "      <th>6</th>\n",
       "      <td>S VERMONT AVE STE A</td>\n",
       "      <td>5.0</td>\n",
       "    </tr>\n",
       "  </tbody>\n",
       "</table>\n",
       "</div>"
      ],
      "text/plain": [
       "                 address_name  number\n",
       "8                 SHERMAN WAY   127.0\n",
       "0                   ALTURA ST    41.0\n",
       "9                W CURSON AVE    26.0\n",
       "7         SEPULVEDA BLVD STE     16.0\n",
       "3         JEFFERSON BLVD STE     15.0\n",
       "1        E IMPERIAL HWY UNIT     14.0\n",
       "4   N GLENDALE BLVD UNIT UNIT    12.0\n",
       "5         S LA BREA AVE STE E    10.0\n",
       "2          HUNTINGTON DR STE      9.0\n",
       "6         S VERMONT AVE STE A     5.0"
      ]
     },
     "execution_count": 372,
     "metadata": {},
     "output_type": "execute_result"
    }
   ],
   "source": [
    "top10_street_one_rest_avg_seat"
   ]
  },
  {
   "cell_type": "code",
   "execution_count": 511,
   "id": "5afd3bf3-9471-4f4f-a658-444023c6ccdd",
   "metadata": {},
   "outputs": [],
   "source": [
    "# calculating ratio\n",
    "\n",
    "top10_street_one_rest_avg_seat['ratio'] = (top10_street_one_rest_avg_seat['number'] / top10_street_one_rest_avg_seat['number'].sum())*100"
   ]
  },
  {
   "cell_type": "code",
   "execution_count": 513,
   "id": "4e3cbf64-45ef-408d-a45d-d95b59a09cf9",
   "metadata": {},
   "outputs": [
    {
     "data": {
      "text/html": [
       "<div>\n",
       "<style scoped>\n",
       "    .dataframe tbody tr th:only-of-type {\n",
       "        vertical-align: middle;\n",
       "    }\n",
       "\n",
       "    .dataframe tbody tr th {\n",
       "        vertical-align: top;\n",
       "    }\n",
       "\n",
       "    .dataframe thead th {\n",
       "        text-align: right;\n",
       "    }\n",
       "</style>\n",
       "<table border=\"1\" class=\"dataframe\">\n",
       "  <thead>\n",
       "    <tr style=\"text-align: right;\">\n",
       "      <th></th>\n",
       "      <th>address_name</th>\n",
       "      <th>number</th>\n",
       "      <th>ratio</th>\n",
       "    </tr>\n",
       "  </thead>\n",
       "  <tbody>\n",
       "    <tr>\n",
       "      <th>8</th>\n",
       "      <td>SHERMAN WAY</td>\n",
       "      <td>127.0</td>\n",
       "      <td>46.181818</td>\n",
       "    </tr>\n",
       "    <tr>\n",
       "      <th>0</th>\n",
       "      <td>ALTURA ST</td>\n",
       "      <td>41.0</td>\n",
       "      <td>14.909091</td>\n",
       "    </tr>\n",
       "    <tr>\n",
       "      <th>9</th>\n",
       "      <td>W CURSON AVE</td>\n",
       "      <td>26.0</td>\n",
       "      <td>9.454545</td>\n",
       "    </tr>\n",
       "    <tr>\n",
       "      <th>7</th>\n",
       "      <td>SEPULVEDA BLVD STE</td>\n",
       "      <td>16.0</td>\n",
       "      <td>5.818182</td>\n",
       "    </tr>\n",
       "    <tr>\n",
       "      <th>3</th>\n",
       "      <td>JEFFERSON BLVD STE</td>\n",
       "      <td>15.0</td>\n",
       "      <td>5.454545</td>\n",
       "    </tr>\n",
       "    <tr>\n",
       "      <th>1</th>\n",
       "      <td>E IMPERIAL HWY UNIT</td>\n",
       "      <td>14.0</td>\n",
       "      <td>5.090909</td>\n",
       "    </tr>\n",
       "    <tr>\n",
       "      <th>4</th>\n",
       "      <td>N GLENDALE BLVD UNIT UNIT</td>\n",
       "      <td>12.0</td>\n",
       "      <td>4.363636</td>\n",
       "    </tr>\n",
       "    <tr>\n",
       "      <th>5</th>\n",
       "      <td>S LA BREA AVE STE E</td>\n",
       "      <td>10.0</td>\n",
       "      <td>3.636364</td>\n",
       "    </tr>\n",
       "    <tr>\n",
       "      <th>2</th>\n",
       "      <td>HUNTINGTON DR STE</td>\n",
       "      <td>9.0</td>\n",
       "      <td>3.272727</td>\n",
       "    </tr>\n",
       "    <tr>\n",
       "      <th>6</th>\n",
       "      <td>S VERMONT AVE STE A</td>\n",
       "      <td>5.0</td>\n",
       "      <td>1.818182</td>\n",
       "    </tr>\n",
       "  </tbody>\n",
       "</table>\n",
       "</div>"
      ],
      "text/plain": [
       "                 address_name  number      ratio\n",
       "8                 SHERMAN WAY   127.0  46.181818\n",
       "0                   ALTURA ST    41.0  14.909091\n",
       "9                W CURSON AVE    26.0   9.454545\n",
       "7         SEPULVEDA BLVD STE     16.0   5.818182\n",
       "3         JEFFERSON BLVD STE     15.0   5.454545\n",
       "1        E IMPERIAL HWY UNIT     14.0   5.090909\n",
       "4   N GLENDALE BLVD UNIT UNIT    12.0   4.363636\n",
       "5         S LA BREA AVE STE E    10.0   3.636364\n",
       "2          HUNTINGTON DR STE      9.0   3.272727\n",
       "6         S VERMONT AVE STE A     5.0   1.818182"
      ]
     },
     "execution_count": 513,
     "metadata": {},
     "output_type": "execute_result"
    }
   ],
   "source": [
    "top10_street_one_rest_avg_seat"
   ]
  },
  {
   "cell_type": "code",
   "execution_count": 373,
   "id": "3fa1862c-9b7b-4ac9-a754-446aaeec60c1",
   "metadata": {
    "tags": []
   },
   "outputs": [
    {
     "data": {
      "image/png": "[encoded data removed]",
      "text/plain": [
       "<Figure size 864x576 with 1 Axes>"
      ]
     },
     "metadata": {
      "needs_background": "light"
     },
     "output_type": "display_data"
    }
   ],
   "source": [
    "# plotting with seaborn\n",
    "\n",
    "plt.figure(figsize=(12, 8))\n",
    "ax = sns.barplot(x='address_name', y='number', data=top10_street_one_rest_avg_seat)\n",
    "for p in ax.patches:\n",
    "    ax.text(p.get_x() + p.get_width() / 2., p.get_height(), round(p.get_height()), ha='center', va='bottom')\n",
    "plt.title('Avg Numbers of Seats per One Businness per Street')\n",
    "plt.xlabel('Street')\n",
    "plt.ylabel('Count')\n",
    "plt.xticks(rotation=45)\n",
    "plt.show()"
   ]
  },
  {
   "cell_type": "markdown",
   "id": "2aa2df69-fca8-46a6-a29b-4b989d72cce5",
   "metadata": {},
   "source": [
    "    When looking at the restaurants that are only ones per street we see a less balanced distribution. Sherman Way St restaurant has 127 seats 7 out of those 10 have under 20 seats available"
   ]
  },
  {
   "cell_type": "markdown",
   "id": "b8a64c98-36e8-4b86-8097-05d524881578",
   "metadata": {},
   "source": [
    "# coffee shop analysis"
   ]
  },
  {
   "cell_type": "code",
   "execution_count": 376,
   "id": "ef27d8a5-fc4d-4a65-8553-467c99880c4c",
   "metadata": {},
   "outputs": [
    {
     "data": {
      "text/html": [
       "<div>\n",
       "<style scoped>\n",
       "    .dataframe tbody tr th:only-of-type {\n",
       "        vertical-align: middle;\n",
       "    }\n",
       "\n",
       "    .dataframe tbody tr th {\n",
       "        vertical-align: top;\n",
       "    }\n",
       "\n",
       "    .dataframe thead th {\n",
       "        text-align: right;\n",
       "    }\n",
       "</style>\n",
       "<table border=\"1\" class=\"dataframe\">\n",
       "  <thead>\n",
       "    <tr style=\"text-align: right;\">\n",
       "      <th></th>\n",
       "      <th>id</th>\n",
       "      <th>object_name</th>\n",
       "      <th>address</th>\n",
       "      <th>chain</th>\n",
       "      <th>object_type</th>\n",
       "      <th>number</th>\n",
       "      <th>address_name</th>\n",
       "    </tr>\n",
       "  </thead>\n",
       "  <tbody>\n",
       "    <tr>\n",
       "      <th>0</th>\n",
       "      <td>11786</td>\n",
       "      <td>HABITAT COFFEE SHOP</td>\n",
       "      <td>3708 N EAGLE ROCK BLVD</td>\n",
       "      <td>False</td>\n",
       "      <td>Cafe</td>\n",
       "      <td>26</td>\n",
       "      <td>N EAGLE ROCK BLVD</td>\n",
       "    </tr>\n",
       "    <tr>\n",
       "      <th>53</th>\n",
       "      <td>11839</td>\n",
       "      <td>PRIME GRIND COFFEE</td>\n",
       "      <td>714 W 1ST ST</td>\n",
       "      <td>False</td>\n",
       "      <td>Cafe</td>\n",
       "      <td>4</td>\n",
       "      <td>W</td>\n",
       "    </tr>\n",
       "    <tr>\n",
       "      <th>102</th>\n",
       "      <td>11888</td>\n",
       "      <td>CIVIL COFFEE</td>\n",
       "      <td>5629 N FIGUEROA ST</td>\n",
       "      <td>False</td>\n",
       "      <td>Cafe</td>\n",
       "      <td>17</td>\n",
       "      <td>N FIGUEROA ST</td>\n",
       "    </tr>\n",
       "    <tr>\n",
       "      <th>121</th>\n",
       "      <td>11907</td>\n",
       "      <td>ANTIGUA CULTURAL COFFEE</td>\n",
       "      <td>3400 N FIGUEROA ST</td>\n",
       "      <td>False</td>\n",
       "      <td>Cafe</td>\n",
       "      <td>24</td>\n",
       "      <td>N FIGUEROA ST</td>\n",
       "    </tr>\n",
       "    <tr>\n",
       "      <th>123</th>\n",
       "      <td>11909</td>\n",
       "      <td>MARIE'S COFFEE AND DELI</td>\n",
       "      <td>731 W 7TH ST</td>\n",
       "      <td>True</td>\n",
       "      <td>Cafe</td>\n",
       "      <td>36</td>\n",
       "      <td>W</td>\n",
       "    </tr>\n",
       "    <tr>\n",
       "      <th>...</th>\n",
       "      <td>...</td>\n",
       "      <td>...</td>\n",
       "      <td>...</td>\n",
       "      <td>...</td>\n",
       "      <td>...</td>\n",
       "      <td>...</td>\n",
       "      <td>...</td>\n",
       "    </tr>\n",
       "    <tr>\n",
       "      <th>9598</th>\n",
       "      <td>21384</td>\n",
       "      <td>GOOD PEOPLE COFFEE CO</td>\n",
       "      <td>11609 SANTA MONICA BLVD</td>\n",
       "      <td>False</td>\n",
       "      <td>Cafe</td>\n",
       "      <td>2</td>\n",
       "      <td>SANTA MONICA BLVD</td>\n",
       "    </tr>\n",
       "    <tr>\n",
       "      <th>9610</th>\n",
       "      <td>21396</td>\n",
       "      <td>TERRAZA CAFE COFFEE SHOP</td>\n",
       "      <td>4017 1/2 CITY TERRACE DR</td>\n",
       "      <td>False</td>\n",
       "      <td>Cafe</td>\n",
       "      <td>1</td>\n",
       "      <td></td>\n",
       "    </tr>\n",
       "    <tr>\n",
       "      <th>9623</th>\n",
       "      <td>21409</td>\n",
       "      <td>310 COFFEE COMPANY</td>\n",
       "      <td>11623 WASHINGTON PL</td>\n",
       "      <td>False</td>\n",
       "      <td>Cafe</td>\n",
       "      <td>12</td>\n",
       "      <td>WASHINGTON PL</td>\n",
       "    </tr>\n",
       "    <tr>\n",
       "      <th>9635</th>\n",
       "      <td>21421</td>\n",
       "      <td>THE TEA &amp; COFFEE EXCHANGE</td>\n",
       "      <td>6801 HOLLYWOOD BLVD # 120</td>\n",
       "      <td>False</td>\n",
       "      <td>Cafe</td>\n",
       "      <td>4</td>\n",
       "      <td>HOLLYWOOD BLVD</td>\n",
       "    </tr>\n",
       "    <tr>\n",
       "      <th>9649</th>\n",
       "      <td>21435</td>\n",
       "      <td>MEDIDATE COFFEE</td>\n",
       "      <td>548 S SPRING ST STE 100</td>\n",
       "      <td>False</td>\n",
       "      <td>Cafe</td>\n",
       "      <td>6</td>\n",
       "      <td>S SPRING ST STE</td>\n",
       "    </tr>\n",
       "  </tbody>\n",
       "</table>\n",
       "<p>435 rows × 7 columns</p>\n",
       "</div>"
      ],
      "text/plain": [
       "         id                object_name                    address  chain  \\\n",
       "0     11786        HABITAT COFFEE SHOP     3708 N EAGLE ROCK BLVD  False   \n",
       "53    11839         PRIME GRIND COFFEE               714 W 1ST ST  False   \n",
       "102   11888               CIVIL COFFEE         5629 N FIGUEROA ST  False   \n",
       "121   11907    ANTIGUA CULTURAL COFFEE         3400 N FIGUEROA ST  False   \n",
       "123   11909    MARIE'S COFFEE AND DELI               731 W 7TH ST   True   \n",
       "...     ...                        ...                        ...    ...   \n",
       "9598  21384      GOOD PEOPLE COFFEE CO    11609 SANTA MONICA BLVD  False   \n",
       "9610  21396   TERRAZA CAFE COFFEE SHOP   4017 1/2 CITY TERRACE DR  False   \n",
       "9623  21409         310 COFFEE COMPANY        11623 WASHINGTON PL  False   \n",
       "9635  21421  THE TEA & COFFEE EXCHANGE  6801 HOLLYWOOD BLVD # 120  False   \n",
       "9649  21435            MEDIDATE COFFEE    548 S SPRING ST STE 100  False   \n",
       "\n",
       "     object_type  number        address_name  \n",
       "0           Cafe      26   N EAGLE ROCK BLVD  \n",
       "53          Cafe       4                  W   \n",
       "102         Cafe      17       N FIGUEROA ST  \n",
       "121         Cafe      24       N FIGUEROA ST  \n",
       "123         Cafe      36                  W   \n",
       "...          ...     ...                 ...  \n",
       "9598        Cafe       2   SANTA MONICA BLVD  \n",
       "9610        Cafe       1                      \n",
       "9623        Cafe      12       WASHINGTON PL  \n",
       "9635        Cafe       4     HOLLYWOOD BLVD   \n",
       "9649        Cafe       6    S SPRING ST STE   \n",
       "\n",
       "[435 rows x 7 columns]"
      ]
     },
     "execution_count": 376,
     "metadata": {},
     "output_type": "execute_result"
    }
   ],
   "source": [
    "cafe = rest.query('object_type == \"Cafe\"')\n",
    "cafe"
   ]
  },
  {
   "cell_type": "code",
   "execution_count": 377,
   "id": "e961a2e6-2311-4275-9338-5503fefaf7c1",
   "metadata": {},
   "outputs": [
    {
     "data": {
      "text/html": [
       "<div>\n",
       "<style scoped>\n",
       "    .dataframe tbody tr th:only-of-type {\n",
       "        vertical-align: middle;\n",
       "    }\n",
       "\n",
       "    .dataframe tbody tr th {\n",
       "        vertical-align: top;\n",
       "    }\n",
       "\n",
       "    .dataframe thead th {\n",
       "        text-align: right;\n",
       "    }\n",
       "</style>\n",
       "<table border=\"1\" class=\"dataframe\">\n",
       "  <thead>\n",
       "    <tr style=\"text-align: right;\">\n",
       "      <th></th>\n",
       "      <th>index</th>\n",
       "      <th>chain</th>\n",
       "    </tr>\n",
       "  </thead>\n",
       "  <tbody>\n",
       "    <tr>\n",
       "      <th>0</th>\n",
       "      <td>True</td>\n",
       "      <td>266</td>\n",
       "    </tr>\n",
       "    <tr>\n",
       "      <th>1</th>\n",
       "      <td>False</td>\n",
       "      <td>169</td>\n",
       "    </tr>\n",
       "  </tbody>\n",
       "</table>\n",
       "</div>"
      ],
      "text/plain": [
       "   index  chain\n",
       "0   True    266\n",
       "1  False    169"
      ]
     },
     "execution_count": 377,
     "metadata": {},
     "output_type": "execute_result"
    }
   ],
   "source": [
    "cafe_chain = cafe['chain'].value_counts().reset_index()\n",
    "cafe_chain"
   ]
  },
  {
   "cell_type": "code",
   "execution_count": 378,
   "id": "8c5a9862",
   "metadata": {},
   "outputs": [],
   "source": [
    "cafe_chain.rename(columns={'chain' : 'count'}, inplace=True)"
   ]
  },
  {
   "cell_type": "code",
   "execution_count": 379,
   "id": "09341bea-8dbe-4670-aeb5-c217e05b0fb6",
   "metadata": {},
   "outputs": [],
   "source": [
    "cafe_chain['ratio'] = (cafe_chain['count'] / cafe_chain['count'].sum())*100"
   ]
  },
  {
   "cell_type": "code",
   "execution_count": 380,
   "id": "153a66b6-1ca3-4e41-93c9-6d426a80c114",
   "metadata": {},
   "outputs": [
    {
     "data": {
      "text/html": [
       "<div>\n",
       "<style scoped>\n",
       "    .dataframe tbody tr th:only-of-type {\n",
       "        vertical-align: middle;\n",
       "    }\n",
       "\n",
       "    .dataframe tbody tr th {\n",
       "        vertical-align: top;\n",
       "    }\n",
       "\n",
       "    .dataframe thead th {\n",
       "        text-align: right;\n",
       "    }\n",
       "</style>\n",
       "<table border=\"1\" class=\"dataframe\">\n",
       "  <thead>\n",
       "    <tr style=\"text-align: right;\">\n",
       "      <th></th>\n",
       "      <th>index</th>\n",
       "      <th>count</th>\n",
       "      <th>ratio</th>\n",
       "    </tr>\n",
       "  </thead>\n",
       "  <tbody>\n",
       "    <tr>\n",
       "      <th>0</th>\n",
       "      <td>True</td>\n",
       "      <td>266</td>\n",
       "      <td>61.149425</td>\n",
       "    </tr>\n",
       "    <tr>\n",
       "      <th>1</th>\n",
       "      <td>False</td>\n",
       "      <td>169</td>\n",
       "      <td>38.850575</td>\n",
       "    </tr>\n",
       "  </tbody>\n",
       "</table>\n",
       "</div>"
      ],
      "text/plain": [
       "   index  count      ratio\n",
       "0   True    266  61.149425\n",
       "1  False    169  38.850575"
      ]
     },
     "execution_count": 380,
     "metadata": {},
     "output_type": "execute_result"
    }
   ],
   "source": [
    "cafe_chain"
   ]
  },
  {
   "cell_type": "code",
   "execution_count": 381,
   "id": "75e14a85-7352-45ba-b986-a589e096d5a5",
   "metadata": {},
   "outputs": [
    {
     "data": {
      "text/html": [
       "<div>\n",
       "<style scoped>\n",
       "    .dataframe tbody tr th:only-of-type {\n",
       "        vertical-align: middle;\n",
       "    }\n",
       "\n",
       "    .dataframe tbody tr th {\n",
       "        vertical-align: top;\n",
       "    }\n",
       "\n",
       "    .dataframe thead th {\n",
       "        text-align: right;\n",
       "    }\n",
       "</style>\n",
       "<table border=\"1\" class=\"dataframe\">\n",
       "  <thead>\n",
       "    <tr style=\"text-align: right;\">\n",
       "      <th></th>\n",
       "      <th>chain</th>\n",
       "      <th>number</th>\n",
       "    </tr>\n",
       "  </thead>\n",
       "  <tbody>\n",
       "    <tr>\n",
       "      <th>0</th>\n",
       "      <td>False</td>\n",
       "      <td>23.556213</td>\n",
       "    </tr>\n",
       "    <tr>\n",
       "      <th>1</th>\n",
       "      <td>True</td>\n",
       "      <td>25.917293</td>\n",
       "    </tr>\n",
       "  </tbody>\n",
       "</table>\n",
       "</div>"
      ],
      "text/plain": [
       "   chain     number\n",
       "0  False  23.556213\n",
       "1   True  25.917293"
      ]
     },
     "execution_count": 381,
     "metadata": {},
     "output_type": "execute_result"
    }
   ],
   "source": [
    "avg_cafe_seat = cafe.groupby('chain')['number'].mean().reset_index()\n",
    "avg_cafe_seat"
   ]
  },
  {
   "cell_type": "code",
   "execution_count": 382,
   "id": "019e9deb",
   "metadata": {},
   "outputs": [
    {
     "data": {
      "text/html": [
       "<div>\n",
       "<style scoped>\n",
       "    .dataframe tbody tr th:only-of-type {\n",
       "        vertical-align: middle;\n",
       "    }\n",
       "\n",
       "    .dataframe tbody tr th {\n",
       "        vertical-align: top;\n",
       "    }\n",
       "\n",
       "    .dataframe thead th {\n",
       "        text-align: right;\n",
       "    }\n",
       "</style>\n",
       "<table border=\"1\" class=\"dataframe\">\n",
       "  <thead>\n",
       "    <tr style=\"text-align: right;\">\n",
       "      <th></th>\n",
       "      <th>index</th>\n",
       "      <th>count</th>\n",
       "      <th>ratio</th>\n",
       "    </tr>\n",
       "  </thead>\n",
       "  <tbody>\n",
       "    <tr>\n",
       "      <th>0</th>\n",
       "      <td>True</td>\n",
       "      <td>266</td>\n",
       "      <td>61.149425</td>\n",
       "    </tr>\n",
       "    <tr>\n",
       "      <th>1</th>\n",
       "      <td>False</td>\n",
       "      <td>169</td>\n",
       "      <td>38.850575</td>\n",
       "    </tr>\n",
       "  </tbody>\n",
       "</table>\n",
       "</div>"
      ],
      "text/plain": [
       "   index  count      ratio\n",
       "0   True    266  61.149425\n",
       "1  False    169  38.850575"
      ]
     },
     "execution_count": 382,
     "metadata": {},
     "output_type": "execute_result"
    }
   ],
   "source": [
    "cafe_chain"
   ]
  },
  {
   "cell_type": "code",
   "execution_count": 383,
   "id": "a8cc4c0f-d900-432d-a23c-a37ffe32811d",
   "metadata": {},
   "outputs": [
    {
     "data": {
      "text/html": [
       "<div>\n",
       "<style scoped>\n",
       "    .dataframe tbody tr th:only-of-type {\n",
       "        vertical-align: middle;\n",
       "    }\n",
       "\n",
       "    .dataframe tbody tr th {\n",
       "        vertical-align: top;\n",
       "    }\n",
       "\n",
       "    .dataframe thead th {\n",
       "        text-align: right;\n",
       "    }\n",
       "</style>\n",
       "<table border=\"1\" class=\"dataframe\">\n",
       "  <thead>\n",
       "    <tr style=\"text-align: right;\">\n",
       "      <th></th>\n",
       "      <th>index</th>\n",
       "      <th>count</th>\n",
       "      <th>ratio</th>\n",
       "      <th>chain</th>\n",
       "      <th>number</th>\n",
       "    </tr>\n",
       "  </thead>\n",
       "  <tbody>\n",
       "    <tr>\n",
       "      <th>0</th>\n",
       "      <td>True</td>\n",
       "      <td>266</td>\n",
       "      <td>61.149425</td>\n",
       "      <td>True</td>\n",
       "      <td>25.917293</td>\n",
       "    </tr>\n",
       "    <tr>\n",
       "      <th>1</th>\n",
       "      <td>False</td>\n",
       "      <td>169</td>\n",
       "      <td>38.850575</td>\n",
       "      <td>False</td>\n",
       "      <td>23.556213</td>\n",
       "    </tr>\n",
       "  </tbody>\n",
       "</table>\n",
       "</div>"
      ],
      "text/plain": [
       "   index  count      ratio  chain     number\n",
       "0   True    266  61.149425   True  25.917293\n",
       "1  False    169  38.850575  False  23.556213"
      ]
     },
     "execution_count": 383,
     "metadata": {},
     "output_type": "execute_result"
    }
   ],
   "source": [
    "cafe_chain_seat = cafe_chain.merge(avg_cafe_seat, left_on='index', right_on='chain')\n",
    "cafe_chain_seat"
   ]
  },
  {
   "cell_type": "markdown",
   "id": "dcd28925",
   "metadata": {},
   "source": [
    "<div class=\"alert alert-block alert-warning\">\n",
    "<b> Comentário do revisor: </b> <a class=\"tocSkip\"></a>\n",
    "\n",
    "Tive de corrigir o left_on e right_on. Veja como fiz\n",
    "</div>"
   ]
  },
  {
   "cell_type": "code",
   "execution_count": 385,
   "id": "8c0fff63-a032-4bc6-8a40-488ca710fd52",
   "metadata": {},
   "outputs": [
    {
     "data": {
      "image/png": "[encoded data removed]",
      "text/plain": [
       "<Figure size 864x576 with 1 Axes>"
      ]
     },
     "metadata": {
      "needs_background": "light"
     },
     "output_type": "display_data"
    }
   ],
   "source": [
    "plt.figure(figsize=(12,8))\n",
    "ax = sns.barplot(x='chain', y='count', data=cafe_chain_seat)\n",
    "for p in ax.patches:\n",
    "    ax.text(p.get_x() + p.get_width() / 2., p.get_height(), round(p.get_height()), ha='center', va='bottom')\n",
    "plt.title('Cafe Chain or Not Chain Count')\n",
    "plt.xlabel('Chain')\n",
    "plt.ylabel('Count')\n",
    "plt.xticks(rotation=0)\n",
    "plt.show()"
   ]
  },
  {
   "cell_type": "markdown",
   "id": "08c42b54-fbaf-442e-a8be-db36d2927d9d",
   "metadata": {},
   "source": [
    "    61% of all the cafes' in LA are chain"
   ]
  },
  {
   "cell_type": "code",
   "execution_count": 387,
   "id": "497e265a-50f9-4be3-bab2-831f4ebf8f4c",
   "metadata": {},
   "outputs": [
    {
     "data": {
      "image/png": "[encoded data removed]",
      "text/plain": [
       "<Figure size 864x576 with 1 Axes>"
      ]
     },
     "metadata": {
      "needs_background": "light"
     },
     "output_type": "display_data"
    }
   ],
   "source": [
    "plt.figure(figsize=(12,8))\n",
    "ax = sns.barplot(x='chain', y='number', data=cafe_chain_seat)\n",
    "for p in ax.patches:\n",
    "    ax.text(p.get_x() + p.get_width() / 2., p.get_height(), round(p.get_height()), ha='center', va='bottom')\n",
    "plt.title('Cafe Chain or Not Chain Seat Count')\n",
    "plt.xlabel('Chain')\n",
    "plt.ylabel('Count')\n",
    "plt.xticks(rotation=0)\n",
    "plt.show()"
   ]
  },
  {
   "cell_type": "markdown",
   "id": "fb4c7035-a132-42b1-851d-1de3a7ca910b",
   "metadata": {},
   "source": [
    "    very small difference in seats regardless there are chain cafe or not"
   ]
  },
  {
   "cell_type": "code",
   "execution_count": 389,
   "id": "74346c49-650d-4a52-8a76-b98e4178d103",
   "metadata": {},
   "outputs": [
    {
     "data": {
      "text/html": [
       "<div>\n",
       "<style scoped>\n",
       "    .dataframe tbody tr th:only-of-type {\n",
       "        vertical-align: middle;\n",
       "    }\n",
       "\n",
       "    .dataframe tbody tr th {\n",
       "        vertical-align: top;\n",
       "    }\n",
       "\n",
       "    .dataframe thead th {\n",
       "        text-align: right;\n",
       "    }\n",
       "</style>\n",
       "<table border=\"1\" class=\"dataframe\">\n",
       "  <thead>\n",
       "    <tr style=\"text-align: right;\">\n",
       "      <th></th>\n",
       "      <th>id</th>\n",
       "      <th>object_name</th>\n",
       "      <th>address</th>\n",
       "      <th>chain</th>\n",
       "      <th>object_type</th>\n",
       "      <th>number</th>\n",
       "      <th>address_name</th>\n",
       "    </tr>\n",
       "  </thead>\n",
       "  <tbody>\n",
       "    <tr>\n",
       "      <th>0</th>\n",
       "      <td>11786</td>\n",
       "      <td>HABITAT COFFEE SHOP</td>\n",
       "      <td>3708 N EAGLE ROCK BLVD</td>\n",
       "      <td>False</td>\n",
       "      <td>Cafe</td>\n",
       "      <td>26</td>\n",
       "      <td>N EAGLE ROCK BLVD</td>\n",
       "    </tr>\n",
       "    <tr>\n",
       "      <th>53</th>\n",
       "      <td>11839</td>\n",
       "      <td>PRIME GRIND COFFEE</td>\n",
       "      <td>714 W 1ST ST</td>\n",
       "      <td>False</td>\n",
       "      <td>Cafe</td>\n",
       "      <td>4</td>\n",
       "      <td>W</td>\n",
       "    </tr>\n",
       "    <tr>\n",
       "      <th>102</th>\n",
       "      <td>11888</td>\n",
       "      <td>CIVIL COFFEE</td>\n",
       "      <td>5629 N FIGUEROA ST</td>\n",
       "      <td>False</td>\n",
       "      <td>Cafe</td>\n",
       "      <td>17</td>\n",
       "      <td>N FIGUEROA ST</td>\n",
       "    </tr>\n",
       "    <tr>\n",
       "      <th>121</th>\n",
       "      <td>11907</td>\n",
       "      <td>ANTIGUA CULTURAL COFFEE</td>\n",
       "      <td>3400 N FIGUEROA ST</td>\n",
       "      <td>False</td>\n",
       "      <td>Cafe</td>\n",
       "      <td>24</td>\n",
       "      <td>N FIGUEROA ST</td>\n",
       "    </tr>\n",
       "    <tr>\n",
       "      <th>123</th>\n",
       "      <td>11909</td>\n",
       "      <td>MARIE'S COFFEE AND DELI</td>\n",
       "      <td>731 W 7TH ST</td>\n",
       "      <td>True</td>\n",
       "      <td>Cafe</td>\n",
       "      <td>36</td>\n",
       "      <td>W</td>\n",
       "    </tr>\n",
       "  </tbody>\n",
       "</table>\n",
       "</div>"
      ],
      "text/plain": [
       "        id              object_name                 address  chain  \\\n",
       "0    11786      HABITAT COFFEE SHOP  3708 N EAGLE ROCK BLVD  False   \n",
       "53   11839       PRIME GRIND COFFEE            714 W 1ST ST  False   \n",
       "102  11888             CIVIL COFFEE      5629 N FIGUEROA ST  False   \n",
       "121  11907  ANTIGUA CULTURAL COFFEE      3400 N FIGUEROA ST  False   \n",
       "123  11909  MARIE'S COFFEE AND DELI            731 W 7TH ST   True   \n",
       "\n",
       "    object_type  number        address_name  \n",
       "0          Cafe      26   N EAGLE ROCK BLVD  \n",
       "53         Cafe       4                  W   \n",
       "102        Cafe      17       N FIGUEROA ST  \n",
       "121        Cafe      24       N FIGUEROA ST  \n",
       "123        Cafe      36                  W   "
      ]
     },
     "execution_count": 389,
     "metadata": {},
     "output_type": "execute_result"
    }
   ],
   "source": [
    "cafe.head()\n"
   ]
  },
  {
   "cell_type": "code",
   "execution_count": 390,
   "id": "e8484aa4",
   "metadata": {},
   "outputs": [
    {
     "data": {
      "text/plain": [
       "0        N EAGLE ROCK BLVD\n",
       "53                      W \n",
       "102          N FIGUEROA ST\n",
       "121          N FIGUEROA ST\n",
       "123                     W \n",
       "               ...        \n",
       "9598     SANTA MONICA BLVD\n",
       "9610                      \n",
       "9623         WASHINGTON PL\n",
       "9635       HOLLYWOOD BLVD \n",
       "9649      S SPRING ST STE \n",
       "Name: address_name, Length: 435, dtype: object"
      ]
     },
     "execution_count": 390,
     "metadata": {},
     "output_type": "execute_result"
    }
   ],
   "source": [
    "cafe['address_name']"
   ]
  },
  {
   "cell_type": "code",
   "execution_count": 391,
   "id": "b28c7398-dd3e-4f8e-9e3a-db4ef51fdca6",
   "metadata": {},
   "outputs": [],
   "source": [
    "cafe_by_address = cafe['address_name'].value_counts().reset_index().sort_values(by='address_name',ascending=False)"
   ]
  },
  {
   "cell_type": "code",
   "execution_count": 392,
   "id": "0cde731d-3c63-4d82-9615-7b537926c675",
   "metadata": {},
   "outputs": [
    {
     "data": {
      "text/html": [
       "<div>\n",
       "<style scoped>\n",
       "    .dataframe tbody tr th:only-of-type {\n",
       "        vertical-align: middle;\n",
       "    }\n",
       "\n",
       "    .dataframe tbody tr th {\n",
       "        vertical-align: top;\n",
       "    }\n",
       "\n",
       "    .dataframe thead th {\n",
       "        text-align: right;\n",
       "    }\n",
       "</style>\n",
       "<table border=\"1\" class=\"dataframe\">\n",
       "  <thead>\n",
       "    <tr style=\"text-align: right;\">\n",
       "      <th></th>\n",
       "      <th>index</th>\n",
       "      <th>address_name</th>\n",
       "    </tr>\n",
       "  </thead>\n",
       "  <tbody>\n",
       "    <tr>\n",
       "      <th>0</th>\n",
       "      <td>W</td>\n",
       "      <td>35</td>\n",
       "    </tr>\n",
       "    <tr>\n",
       "      <th>1</th>\n",
       "      <td>W SUNSET BLVD</td>\n",
       "      <td>21</td>\n",
       "    </tr>\n",
       "    <tr>\n",
       "      <th>2</th>\n",
       "      <td>E</td>\n",
       "      <td>13</td>\n",
       "    </tr>\n",
       "    <tr>\n",
       "      <th>3</th>\n",
       "      <td>W PICO BLVD</td>\n",
       "      <td>11</td>\n",
       "    </tr>\n",
       "    <tr>\n",
       "      <th>4</th>\n",
       "      <td>WORLD WAY</td>\n",
       "      <td>10</td>\n",
       "    </tr>\n",
       "    <tr>\n",
       "      <th>5</th>\n",
       "      <td></td>\n",
       "      <td>10</td>\n",
       "    </tr>\n",
       "    <tr>\n",
       "      <th>6</th>\n",
       "      <td>WORLD WAY</td>\n",
       "      <td>10</td>\n",
       "    </tr>\n",
       "    <tr>\n",
       "      <th>7</th>\n",
       "      <td>WILSHIRE BLVD STE</td>\n",
       "      <td>9</td>\n",
       "    </tr>\n",
       "    <tr>\n",
       "      <th>8</th>\n",
       "      <td>SANTA MONICA BLVD</td>\n",
       "      <td>8</td>\n",
       "    </tr>\n",
       "    <tr>\n",
       "      <th>11</th>\n",
       "      <td>WILSHIRE BLVD</td>\n",
       "      <td>7</td>\n",
       "    </tr>\n",
       "  </tbody>\n",
       "</table>\n",
       "</div>"
      ],
      "text/plain": [
       "                  index  address_name\n",
       "0                    W             35\n",
       "1         W SUNSET BLVD            21\n",
       "2                    E             13\n",
       "3           W PICO BLVD            11\n",
       "4            WORLD WAY             10\n",
       "5                                  10\n",
       "6             WORLD WAY            10\n",
       "7    WILSHIRE BLVD STE              9\n",
       "8     SANTA MONICA BLVD             8\n",
       "11       WILSHIRE BLVD              7"
      ]
     },
     "execution_count": 392,
     "metadata": {},
     "output_type": "execute_result"
    }
   ],
   "source": [
    "cafe_by_address.head(10)"
   ]
  },
  {
   "cell_type": "code",
   "execution_count": 393,
   "id": "7c9402c4-fb9c-4f84-8d5a-61a40a357e5c",
   "metadata": {},
   "outputs": [],
   "source": [
    "# selecting indexes that contain wrong information for analysis\n",
    "\n",
    "index_to_drop2 = [0,2,4,5]"
   ]
  },
  {
   "cell_type": "code",
   "execution_count": 394,
   "id": "be316cef-9d5f-4ac8-b935-7c9fe86670fb",
   "metadata": {},
   "outputs": [],
   "source": [
    "cafe_by_address.drop(index_to_drop2, inplace=True)"
   ]
  },
  {
   "cell_type": "code",
   "execution_count": 395,
   "id": "f9cc0a02-2c65-4849-b054-5bbd4a0f08e8",
   "metadata": {},
   "outputs": [],
   "source": [
    "top10_cafe_address = cafe_by_address.head(10)"
   ]
  },
  {
   "cell_type": "code",
   "execution_count": 396,
   "id": "386b646f-5e18-44b6-a7b2-42707d7c4202",
   "metadata": {},
   "outputs": [
    {
     "data": {
      "text/html": [
       "<div>\n",
       "<style scoped>\n",
       "    .dataframe tbody tr th:only-of-type {\n",
       "        vertical-align: middle;\n",
       "    }\n",
       "\n",
       "    .dataframe tbody tr th {\n",
       "        vertical-align: top;\n",
       "    }\n",
       "\n",
       "    .dataframe thead th {\n",
       "        text-align: right;\n",
       "    }\n",
       "</style>\n",
       "<table border=\"1\" class=\"dataframe\">\n",
       "  <thead>\n",
       "    <tr style=\"text-align: right;\">\n",
       "      <th></th>\n",
       "      <th>index</th>\n",
       "      <th>address_name</th>\n",
       "    </tr>\n",
       "  </thead>\n",
       "  <tbody>\n",
       "    <tr>\n",
       "      <th>1</th>\n",
       "      <td>W SUNSET BLVD</td>\n",
       "      <td>21</td>\n",
       "    </tr>\n",
       "    <tr>\n",
       "      <th>3</th>\n",
       "      <td>W PICO BLVD</td>\n",
       "      <td>11</td>\n",
       "    </tr>\n",
       "    <tr>\n",
       "      <th>6</th>\n",
       "      <td>WORLD WAY</td>\n",
       "      <td>10</td>\n",
       "    </tr>\n",
       "    <tr>\n",
       "      <th>7</th>\n",
       "      <td>WILSHIRE BLVD STE</td>\n",
       "      <td>9</td>\n",
       "    </tr>\n",
       "    <tr>\n",
       "      <th>8</th>\n",
       "      <td>SANTA MONICA BLVD</td>\n",
       "      <td>8</td>\n",
       "    </tr>\n",
       "    <tr>\n",
       "      <th>11</th>\n",
       "      <td>WILSHIRE BLVD</td>\n",
       "      <td>7</td>\n",
       "    </tr>\n",
       "    <tr>\n",
       "      <th>10</th>\n",
       "      <td>HOLLYWOOD BLVD</td>\n",
       "      <td>7</td>\n",
       "    </tr>\n",
       "    <tr>\n",
       "      <th>9</th>\n",
       "      <td>WESTWOOD BLVD</td>\n",
       "      <td>7</td>\n",
       "    </tr>\n",
       "    <tr>\n",
       "      <th>12</th>\n",
       "      <td>BEVERLY BLVD</td>\n",
       "      <td>6</td>\n",
       "    </tr>\n",
       "    <tr>\n",
       "      <th>13</th>\n",
       "      <td>WORLD WAY T</td>\n",
       "      <td>6</td>\n",
       "    </tr>\n",
       "  </tbody>\n",
       "</table>\n",
       "</div>"
      ],
      "text/plain": [
       "                  index  address_name\n",
       "1         W SUNSET BLVD            21\n",
       "3           W PICO BLVD            11\n",
       "6             WORLD WAY            10\n",
       "7    WILSHIRE BLVD STE              9\n",
       "8     SANTA MONICA BLVD             8\n",
       "11       WILSHIRE BLVD              7\n",
       "10       HOLLYWOOD BLVD             7\n",
       "9         WESTWOOD BLVD             7\n",
       "12         BEVERLY BLVD             6\n",
       "13          WORLD WAY T             6"
      ]
     },
     "execution_count": 396,
     "metadata": {},
     "output_type": "execute_result"
    }
   ],
   "source": [
    "top10_cafe_address"
   ]
  },
  {
   "cell_type": "code",
   "execution_count": 397,
   "id": "f5940a4a-f1bb-4140-bff3-659fc50bce8d",
   "metadata": {},
   "outputs": [
    {
     "data": {
      "image/png": "[encoded data removed]",
      "text/plain": [
       "<Figure size 864x576 with 1 Axes>"
      ]
     },
     "metadata": {
      "needs_background": "light"
     },
     "output_type": "display_data"
    }
   ],
   "source": [
    "plt.figure(figsize=(12,8))\n",
    "ax = sns.barplot(x='index', y='address_name', data=top10_cafe_address)\n",
    "for p in ax.patches:\n",
    "    ax.text(p.get_x() + p.get_width() / 2., p.get_height(), round(p.get_height()), ha='center', va='bottom')\n",
    "plt.title('Cafe per Street')\n",
    "plt.xlabel('Street')\n",
    "plt.ylabel('Count')\n",
    "plt.xticks(rotation=45)\n",
    "plt.show()"
   ]
  },
  {
   "cell_type": "markdown",
   "id": "81acb244-c863-46a7-a124-0704174f6ff9",
   "metadata": {},
   "source": [
    "    W Sunset Blvd street is the busiest street for cafe followed by W Pico Blvd"
   ]
  },
  {
   "cell_type": "markdown",
   "id": "88604103-56c0-47dc-9002-062f149273f4",
   "metadata": {},
   "source": [
    "# Conclusion"
   ]
  },
  {
   "cell_type": "markdown",
   "id": "f43daa00-71b2-4137-b528-2496b137026d",
   "metadata": {},
   "source": [
    "### Tire uma conclusão geral e apresente recomendações sobre o tipo mais apropriado de restaurante e o número de assentos. Comente sobre a possibilidade de desenvolver uma rede."
   ]
  },
  {
   "cell_type": "markdown",
   "id": "b42bc613-a717-438f-9cbb-358821028bc9",
   "metadata": {},
   "source": [
    "75% of all hospitality in LA are conventional restaurants. \n",
    "\n",
    "The busiest street of LA is W Sunset Blvd but the highest seat offer, Willshire Blvd has average of 62 seats per restaurant whereas West street only 44. This might be caused by a busiest street having a large foot flow and smaller amount of seats counting on clients to be quick.\n",
    "\n",
    "Based on the above I would recommend a fast food chain restaurant on the West St or an authentic non-chain restaurant in Willshire Blvd.\n",
    "\n",
    "Restaurants make the higher share in chain hospitality I would reccomend investing on those\n",
    "\n",
    "There are no data about revenue to determine whether your business will have chances of succeed or not.\n",
    "\n",
    "Some business that are open running might be suffering loss and be near to close down.\n"
   ]
  },
  {
   "cell_type": "markdown",
   "id": "d8cc2480-bb0e-4894-9e0f-c7e73279c572",
   "metadata": {},
   "source": [
    "\n"
   ]
  },
  {
   "cell_type": "markdown",
   "id": "e8d5f8d6-e2b3-438c-a52e-675858261086",
   "metadata": {},
   "source": [
    "presentation : https://github.com/ramalhorenan/projects/blob/main/sprint9_presentation.pdf"
   ]
  },
  {
   "cell_type": "markdown",
   "id": "a62e3a16",
   "metadata": {},
   "source": [
    "<div class=\"alert alert-danger\">\n",
    "<strong>Comentário do revisor v1</strong>\n",
    "\n",
    "Você chegou a fazer uma apresentação em PDF com os resultados?\n",
    "\n",
    "Poderia por favor enviar o link por aqui?\n",
    "</div>\n"
   ]
  },
  {
   "cell_type": "markdown",
   "id": "f1a6e203-2807-4041-8040-6b5e5a60d8ad",
   "metadata": {
    "tags": []
   },
   "source": [
    "<div class=\"alert alert-info\">\n",
    "<strong>Comentário do estudante</strong>\n",
    "\n",
    "Corrigi alguns passos. Um deles acima preciso de ajuda, nao consegui achar uma solucao.\n",
    "\n",
    "Gostaria de saber se a conclusao estava no caminho certo primeiro aqui antes de fazer a apresentacao.\n",
    "\n",
    "A apresentacao posso subir ela no github, e deixar aqui o link ? Estava pensando em fazer no powerpoint, pode ser ? \n",
    "</div>"
   ]
  },
  {
   "cell_type": "markdown",
   "id": "847397ce-8919-4840-8122-44c7aec91775",
   "metadata": {},
   "source": []
  },
  {
   "cell_type": "markdown",
   "id": "dece0d25",
   "metadata": {},
   "source": [
    "<s>\n",
    "<div class=\"alert alert-danger\">\n",
    "<strong>Comentário do revisor v1</strong>\n",
    "\n",
    "Estamos no caminho certo com essa versão, mas retocar os pontos indicados acima nos fará chegar em um resultado ainda mais incrível.\n",
    "    \n",
    "Conte comigo para ajudá-lo (a) em qualquer questão que possa vir a ter! Lembre-se de usar as caixas azuis para se comunicar comigo.\n",
    "    \n",
    "Até breve.\n",
    "</div>\n"
   ]
  },
  {
   "cell_type": "markdown",
   "id": "c3731761",
   "metadata": {},
   "source": [
    "<div class=\"alert alert-block alert-success\">\n",
    "<b> Comentário do revisor: </b> <a class=\"tocSkip\"></a>\n",
    "\n",
    "Estamos perto da aprovação. Veja as dicas que deixei. Houve avanços. Dica: execute o código antes de enviar e tente consertar os erros.\n",
    "Vamos fazer mais uma revisão.    \n",
    "</div>"
   ]
  }
 ],
 "metadata": {
  "kernelspec": {
   "display_name": "anaconda-2022.05-py39",
   "language": "python",
   "name": "conda-env-anaconda-2022.05-py39-py"
  },
  "language_info": {
   "codemirror_mode": {
    "name": "ipython",
    "version": 3
   },
   "file_extension": ".py",
   "mimetype": "text/x-python",
   "name": "python",
   "nbconvert_exporter": "python",
   "pygments_lexer": "ipython3",
   "version": "3.9.12"
  },
  "toc": {
   "base_numbering": 1,
   "nav_menu": {},
   "number_sections": true,
   "sideBar": true,
   "skip_h1_title": true,
   "title_cell": "Table of Contents",
   "title_sidebar": "Contents",
   "toc_cell": false,
   "toc_position": {},
   "toc_section_display": true,
   "toc_window_display": false
  }
 },
 "nbformat": 4,
 "nbformat_minor": 5
}
