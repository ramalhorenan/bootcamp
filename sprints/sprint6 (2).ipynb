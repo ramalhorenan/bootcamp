{
 "cells": [
  {
   "cell_type": "markdown",
   "id": "8d356792-6f70-4a84-9654-fdd296e9bacd",
   "metadata": {},
   "source": [
    "## inicializacao / starting\n",
    "\n"
   ]
  },
  {
   "cell_type": "code",
   "execution_count": 6,
   "id": "4149e79b-3dc6-493a-9f51-4aff24665ef3",
   "metadata": {},
   "outputs": [],
   "source": [
    "# lendo bibliotecas / reading libraries\n",
    "\n",
    "import pandas as pd\n",
    "\n",
    "import matplotlib.pyplot as plt\n",
    "\n",
    "from scipy import stats as st\n",
    "\n",
    "from scipy.stats import t\n",
    "\n",
    "from scipy.stats import ttest_ind\n",
    "\n",
    "from scipy.stats import levene"
   ]
  },
  {
   "cell_type": "code",
   "execution_count": 7,
   "id": "f8eca6c7-aedf-4e58-8831-3a593ee25fe3",
   "metadata": {},
   "outputs": [],
   "source": [
    "# lendo arquivos / reading files\n",
    "\n",
    "try:\n",
    "    sql01 = pd.read_csv(\"/datasets/moved_project_sql_result_01.csv\")\n",
    "\n",
    "except FileNotFoundError:\n",
    "    sql01 = pd.read_csv(\"moved_project_sql_result_01.csv\")\n"
   ]
  },
  {
   "cell_type": "code",
   "execution_count": 8,
   "id": "7886bf3e-fe49-4db1-94c7-f31f58514b94",
   "metadata": {},
   "outputs": [],
   "source": [
    "# lendo arquivos / reading files\n",
    "\n",
    "try:\n",
    "    sql04 = pd.read_csv(\"/datasets/moved_project_sql_result_04.csv\")\n",
    "\n",
    "except FileNotFoundError:\n",
    "    sql04 = pd.read_csv(\"moved_project_sql_result_04.csv\")"
   ]
  },
  {
   "cell_type": "code",
   "execution_count": 9,
   "id": "fd5eff5b-3720-411b-a933-599fdbffb452",
   "metadata": {},
   "outputs": [],
   "source": [
    "# lendo arquivos / reading files\n",
    "\n",
    "try:\n",
    "    sql07 = pd.read_csv(\"/datasets/moved_project_sql_result_07.csv\")\n",
    "\n",
    "except FileNotFoundError:\n",
    "    sql07 = pd.read_csv(\"moved_project_sql_result_07.csv\")"
   ]
  },
  {
   "cell_type": "markdown",
   "id": "db3e74af-eb4f-4409-8f65-ce8b687163f2",
   "metadata": {},
   "source": [
    "## carregando dados / loading data"
   ]
  },
  {
   "cell_type": "code",
   "execution_count": 11,
   "id": "93f3fcf5-9224-44b2-989f-576552e25efa",
   "metadata": {
    "tags": []
   },
   "outputs": [
    {
     "name": "stdout",
     "output_type": "stream",
     "text": [
      "<class 'pandas.core.frame.DataFrame'>\n",
      "RangeIndex: 64 entries, 0 to 63\n",
      "Data columns (total 2 columns):\n",
      " #   Column        Non-Null Count  Dtype \n",
      "---  ------        --------------  ----- \n",
      " 0   company_name  64 non-null     object\n",
      " 1   trips_amount  64 non-null     int64 \n",
      "dtypes: int64(1), object(1)\n",
      "memory usage: 1.1+ KB\n"
     ]
    }
   ],
   "source": [
    "# visualizando informacoes / visualizing info\n",
    "\n",
    "sql01.info()"
   ]
  },
  {
   "cell_type": "code",
   "execution_count": 12,
   "id": "e661a8df-0986-42f3-8f39-b5f8f1f81b78",
   "metadata": {},
   "outputs": [
    {
     "data": {
      "text/plain": [
       "False    64\n",
       "Name: count, dtype: int64"
      ]
     },
     "execution_count": 12,
     "metadata": {},
     "output_type": "execute_result"
    }
   ],
   "source": [
    "# verificando valores duplicados / verifying duplicated values\n",
    "\n",
    "sql01.duplicated().value_counts()"
   ]
  },
  {
   "cell_type": "code",
   "execution_count": 13,
   "id": "4a4edd67-d125-4c86-9c09-98201ec0ee61",
   "metadata": {},
   "outputs": [
    {
     "data": {
      "text/html": [
       "<div>\n",
       "<style scoped>\n",
       "    .dataframe tbody tr th:only-of-type {\n",
       "        vertical-align: middle;\n",
       "    }\n",
       "\n",
       "    .dataframe tbody tr th {\n",
       "        vertical-align: top;\n",
       "    }\n",
       "\n",
       "    .dataframe thead th {\n",
       "        text-align: right;\n",
       "    }\n",
       "</style>\n",
       "<table border=\"1\" class=\"dataframe\">\n",
       "  <thead>\n",
       "    <tr style=\"text-align: right;\">\n",
       "      <th></th>\n",
       "      <th>company_name</th>\n",
       "      <th>trips_amount</th>\n",
       "    </tr>\n",
       "  </thead>\n",
       "  <tbody>\n",
       "    <tr>\n",
       "      <th>0</th>\n",
       "      <td>Flash Cab</td>\n",
       "      <td>19558</td>\n",
       "    </tr>\n",
       "    <tr>\n",
       "      <th>1</th>\n",
       "      <td>Taxi Affiliation Services</td>\n",
       "      <td>11422</td>\n",
       "    </tr>\n",
       "    <tr>\n",
       "      <th>2</th>\n",
       "      <td>Medallion Leasin</td>\n",
       "      <td>10367</td>\n",
       "    </tr>\n",
       "    <tr>\n",
       "      <th>3</th>\n",
       "      <td>Yellow Cab</td>\n",
       "      <td>9888</td>\n",
       "    </tr>\n",
       "    <tr>\n",
       "      <th>4</th>\n",
       "      <td>Taxi Affiliation Service Yellow</td>\n",
       "      <td>9299</td>\n",
       "    </tr>\n",
       "  </tbody>\n",
       "</table>\n",
       "</div>"
      ],
      "text/plain": [
       "                      company_name  trips_amount\n",
       "0                        Flash Cab         19558\n",
       "1        Taxi Affiliation Services         11422\n",
       "2                 Medallion Leasin         10367\n",
       "3                       Yellow Cab          9888\n",
       "4  Taxi Affiliation Service Yellow          9299"
      ]
     },
     "execution_count": 13,
     "metadata": {},
     "output_type": "execute_result"
    }
   ],
   "source": [
    "sql01.head()"
   ]
  },
  {
   "cell_type": "code",
   "execution_count": 14,
   "id": "b4f98017-1e6b-4ae0-b23c-3d74498275ea",
   "metadata": {},
   "outputs": [
    {
     "name": "stdout",
     "output_type": "stream",
     "text": [
      "<class 'pandas.core.frame.DataFrame'>\n",
      "RangeIndex: 94 entries, 0 to 93\n",
      "Data columns (total 2 columns):\n",
      " #   Column                 Non-Null Count  Dtype  \n",
      "---  ------                 --------------  -----  \n",
      " 0   dropoff_location_name  94 non-null     object \n",
      " 1   average_trips          94 non-null     float64\n",
      "dtypes: float64(1), object(1)\n",
      "memory usage: 1.6+ KB\n"
     ]
    }
   ],
   "source": [
    "sql04.info()"
   ]
  },
  {
   "cell_type": "code",
   "execution_count": 15,
   "id": "972e1797-079d-4baa-9b70-4ba1a7300673",
   "metadata": {},
   "outputs": [
    {
     "data": {
      "text/plain": [
       "False    94\n",
       "Name: count, dtype: int64"
      ]
     },
     "execution_count": 15,
     "metadata": {},
     "output_type": "execute_result"
    }
   ],
   "source": [
    "# verificando valores duplicados / verifying duplicated values\n",
    "\n",
    "sql04.duplicated().value_counts()"
   ]
  },
  {
   "cell_type": "code",
   "execution_count": 16,
   "id": "b63b82ee-bd8c-48d6-a4f3-dcd2c43a97aa",
   "metadata": {
    "tags": []
   },
   "outputs": [
    {
     "data": {
      "text/html": [
       "<div>\n",
       "<style scoped>\n",
       "    .dataframe tbody tr th:only-of-type {\n",
       "        vertical-align: middle;\n",
       "    }\n",
       "\n",
       "    .dataframe tbody tr th {\n",
       "        vertical-align: top;\n",
       "    }\n",
       "\n",
       "    .dataframe thead th {\n",
       "        text-align: right;\n",
       "    }\n",
       "</style>\n",
       "<table border=\"1\" class=\"dataframe\">\n",
       "  <thead>\n",
       "    <tr style=\"text-align: right;\">\n",
       "      <th></th>\n",
       "      <th>dropoff_location_name</th>\n",
       "      <th>average_trips</th>\n",
       "    </tr>\n",
       "  </thead>\n",
       "  <tbody>\n",
       "    <tr>\n",
       "      <th>0</th>\n",
       "      <td>Loop</td>\n",
       "      <td>10727.466667</td>\n",
       "    </tr>\n",
       "    <tr>\n",
       "      <th>1</th>\n",
       "      <td>River North</td>\n",
       "      <td>9523.666667</td>\n",
       "    </tr>\n",
       "    <tr>\n",
       "      <th>2</th>\n",
       "      <td>Streeterville</td>\n",
       "      <td>6664.666667</td>\n",
       "    </tr>\n",
       "    <tr>\n",
       "      <th>3</th>\n",
       "      <td>West Loop</td>\n",
       "      <td>5163.666667</td>\n",
       "    </tr>\n",
       "    <tr>\n",
       "      <th>4</th>\n",
       "      <td>O'Hare</td>\n",
       "      <td>2546.900000</td>\n",
       "    </tr>\n",
       "    <tr>\n",
       "      <th>5</th>\n",
       "      <td>Lake View</td>\n",
       "      <td>2420.966667</td>\n",
       "    </tr>\n",
       "    <tr>\n",
       "      <th>6</th>\n",
       "      <td>Grant Park</td>\n",
       "      <td>2068.533333</td>\n",
       "    </tr>\n",
       "    <tr>\n",
       "      <th>7</th>\n",
       "      <td>Museum Campus</td>\n",
       "      <td>1510.000000</td>\n",
       "    </tr>\n",
       "    <tr>\n",
       "      <th>8</th>\n",
       "      <td>Gold Coast</td>\n",
       "      <td>1364.233333</td>\n",
       "    </tr>\n",
       "    <tr>\n",
       "      <th>9</th>\n",
       "      <td>Sheffield &amp; DePaul</td>\n",
       "      <td>1259.766667</td>\n",
       "    </tr>\n",
       "  </tbody>\n",
       "</table>\n",
       "</div>"
      ],
      "text/plain": [
       "  dropoff_location_name  average_trips\n",
       "0                  Loop   10727.466667\n",
       "1           River North    9523.666667\n",
       "2         Streeterville    6664.666667\n",
       "3             West Loop    5163.666667\n",
       "4                O'Hare    2546.900000\n",
       "5             Lake View    2420.966667\n",
       "6            Grant Park    2068.533333\n",
       "7         Museum Campus    1510.000000\n",
       "8            Gold Coast    1364.233333\n",
       "9    Sheffield & DePaul    1259.766667"
      ]
     },
     "execution_count": 16,
     "metadata": {},
     "output_type": "execute_result"
    }
   ],
   "source": [
    "sql04.head(10)"
   ]
  },
  {
   "cell_type": "code",
   "execution_count": 17,
   "id": "a967dc10-6cad-4037-a63c-7c7e64327a02",
   "metadata": {},
   "outputs": [
    {
     "name": "stdout",
     "output_type": "stream",
     "text": [
      "<class 'pandas.core.frame.DataFrame'>\n",
      "RangeIndex: 1068 entries, 0 to 1067\n",
      "Data columns (total 3 columns):\n",
      " #   Column              Non-Null Count  Dtype  \n",
      "---  ------              --------------  -----  \n",
      " 0   start_ts            1068 non-null   object \n",
      " 1   weather_conditions  1068 non-null   object \n",
      " 2   duration_seconds    1068 non-null   float64\n",
      "dtypes: float64(1), object(2)\n",
      "memory usage: 25.2+ KB\n"
     ]
    }
   ],
   "source": [
    "sql07.info()"
   ]
  },
  {
   "cell_type": "code",
   "execution_count": 18,
   "id": "b4972ee2-3069-4ef4-bba4-029d66b663d4",
   "metadata": {},
   "outputs": [
    {
     "data": {
      "text/html": [
       "<div>\n",
       "<style scoped>\n",
       "    .dataframe tbody tr th:only-of-type {\n",
       "        vertical-align: middle;\n",
       "    }\n",
       "\n",
       "    .dataframe tbody tr th {\n",
       "        vertical-align: top;\n",
       "    }\n",
       "\n",
       "    .dataframe thead th {\n",
       "        text-align: right;\n",
       "    }\n",
       "</style>\n",
       "<table border=\"1\" class=\"dataframe\">\n",
       "  <thead>\n",
       "    <tr style=\"text-align: right;\">\n",
       "      <th></th>\n",
       "      <th>start_ts</th>\n",
       "      <th>weather_conditions</th>\n",
       "      <th>duration_seconds</th>\n",
       "    </tr>\n",
       "  </thead>\n",
       "  <tbody>\n",
       "    <tr>\n",
       "      <th>0</th>\n",
       "      <td>2017-11-25 16:00:00</td>\n",
       "      <td>Good</td>\n",
       "      <td>2410.0</td>\n",
       "    </tr>\n",
       "    <tr>\n",
       "      <th>1</th>\n",
       "      <td>2017-11-25 14:00:00</td>\n",
       "      <td>Good</td>\n",
       "      <td>1920.0</td>\n",
       "    </tr>\n",
       "    <tr>\n",
       "      <th>2</th>\n",
       "      <td>2017-11-25 12:00:00</td>\n",
       "      <td>Good</td>\n",
       "      <td>1543.0</td>\n",
       "    </tr>\n",
       "    <tr>\n",
       "      <th>3</th>\n",
       "      <td>2017-11-04 10:00:00</td>\n",
       "      <td>Good</td>\n",
       "      <td>2512.0</td>\n",
       "    </tr>\n",
       "    <tr>\n",
       "      <th>4</th>\n",
       "      <td>2017-11-11 07:00:00</td>\n",
       "      <td>Good</td>\n",
       "      <td>1440.0</td>\n",
       "    </tr>\n",
       "    <tr>\n",
       "      <th>5</th>\n",
       "      <td>2017-11-11 04:00:00</td>\n",
       "      <td>Good</td>\n",
       "      <td>1320.0</td>\n",
       "    </tr>\n",
       "    <tr>\n",
       "      <th>6</th>\n",
       "      <td>2017-11-04 16:00:00</td>\n",
       "      <td>Bad</td>\n",
       "      <td>2969.0</td>\n",
       "    </tr>\n",
       "    <tr>\n",
       "      <th>7</th>\n",
       "      <td>2017-11-18 11:00:00</td>\n",
       "      <td>Good</td>\n",
       "      <td>2280.0</td>\n",
       "    </tr>\n",
       "    <tr>\n",
       "      <th>8</th>\n",
       "      <td>2017-11-11 14:00:00</td>\n",
       "      <td>Good</td>\n",
       "      <td>2460.0</td>\n",
       "    </tr>\n",
       "    <tr>\n",
       "      <th>9</th>\n",
       "      <td>2017-11-11 12:00:00</td>\n",
       "      <td>Good</td>\n",
       "      <td>2040.0</td>\n",
       "    </tr>\n",
       "  </tbody>\n",
       "</table>\n",
       "</div>"
      ],
      "text/plain": [
       "              start_ts weather_conditions  duration_seconds\n",
       "0  2017-11-25 16:00:00               Good            2410.0\n",
       "1  2017-11-25 14:00:00               Good            1920.0\n",
       "2  2017-11-25 12:00:00               Good            1543.0\n",
       "3  2017-11-04 10:00:00               Good            2512.0\n",
       "4  2017-11-11 07:00:00               Good            1440.0\n",
       "5  2017-11-11 04:00:00               Good            1320.0\n",
       "6  2017-11-04 16:00:00                Bad            2969.0\n",
       "7  2017-11-18 11:00:00               Good            2280.0\n",
       "8  2017-11-11 14:00:00               Good            2460.0\n",
       "9  2017-11-11 12:00:00               Good            2040.0"
      ]
     },
     "execution_count": 18,
     "metadata": {},
     "output_type": "execute_result"
    }
   ],
   "source": [
    "sql07.head(10)"
   ]
  },
  {
   "cell_type": "code",
   "execution_count": 19,
   "id": "e210606d-bfb5-4022-8c0d-190860039267",
   "metadata": {},
   "outputs": [
    {
     "data": {
      "text/plain": [
       "False    871\n",
       "True     197\n",
       "Name: count, dtype: int64"
      ]
     },
     "execution_count": 19,
     "metadata": {},
     "output_type": "execute_result"
    }
   ],
   "source": [
    "# verificando valores duplicados / verifying duplicated values\n",
    "\n",
    "sql07.duplicated().value_counts()"
   ]
  },
  {
   "cell_type": "code",
   "execution_count": 20,
   "id": "5838c8ba-0c37-48a9-8e7a-8e80631fa7d7",
   "metadata": {},
   "outputs": [
    {
     "data": {
      "text/html": [
       "<div>\n",
       "<style scoped>\n",
       "    .dataframe tbody tr th:only-of-type {\n",
       "        vertical-align: middle;\n",
       "    }\n",
       "\n",
       "    .dataframe tbody tr th {\n",
       "        vertical-align: top;\n",
       "    }\n",
       "\n",
       "    .dataframe thead th {\n",
       "        text-align: right;\n",
       "    }\n",
       "</style>\n",
       "<table border=\"1\" class=\"dataframe\">\n",
       "  <thead>\n",
       "    <tr style=\"text-align: right;\">\n",
       "      <th></th>\n",
       "      <th>start_ts</th>\n",
       "      <th>weather_conditions</th>\n",
       "      <th>duration_seconds</th>\n",
       "    </tr>\n",
       "  </thead>\n",
       "  <tbody>\n",
       "    <tr>\n",
       "      <th>62</th>\n",
       "      <td>2017-11-11 06:00:00</td>\n",
       "      <td>Good</td>\n",
       "      <td>1260.0</td>\n",
       "    </tr>\n",
       "    <tr>\n",
       "      <th>74</th>\n",
       "      <td>2017-11-11 08:00:00</td>\n",
       "      <td>Good</td>\n",
       "      <td>1380.0</td>\n",
       "    </tr>\n",
       "    <tr>\n",
       "      <th>76</th>\n",
       "      <td>2017-11-04 09:00:00</td>\n",
       "      <td>Good</td>\n",
       "      <td>1380.0</td>\n",
       "    </tr>\n",
       "    <tr>\n",
       "      <th>117</th>\n",
       "      <td>2017-11-11 07:00:00</td>\n",
       "      <td>Good</td>\n",
       "      <td>1380.0</td>\n",
       "    </tr>\n",
       "    <tr>\n",
       "      <th>119</th>\n",
       "      <td>2017-11-04 14:00:00</td>\n",
       "      <td>Good</td>\n",
       "      <td>3300.0</td>\n",
       "    </tr>\n",
       "    <tr>\n",
       "      <th>...</th>\n",
       "      <td>...</td>\n",
       "      <td>...</td>\n",
       "      <td>...</td>\n",
       "    </tr>\n",
       "    <tr>\n",
       "      <th>1054</th>\n",
       "      <td>2017-11-11 07:00:00</td>\n",
       "      <td>Good</td>\n",
       "      <td>1380.0</td>\n",
       "    </tr>\n",
       "    <tr>\n",
       "      <th>1058</th>\n",
       "      <td>2017-11-25 12:00:00</td>\n",
       "      <td>Good</td>\n",
       "      <td>1440.0</td>\n",
       "    </tr>\n",
       "    <tr>\n",
       "      <th>1062</th>\n",
       "      <td>2017-11-11 06:00:00</td>\n",
       "      <td>Good</td>\n",
       "      <td>1500.0</td>\n",
       "    </tr>\n",
       "    <tr>\n",
       "      <th>1065</th>\n",
       "      <td>2017-11-11 13:00:00</td>\n",
       "      <td>Good</td>\n",
       "      <td>2100.0</td>\n",
       "    </tr>\n",
       "    <tr>\n",
       "      <th>1066</th>\n",
       "      <td>2017-11-11 08:00:00</td>\n",
       "      <td>Good</td>\n",
       "      <td>1380.0</td>\n",
       "    </tr>\n",
       "  </tbody>\n",
       "</table>\n",
       "<p>197 rows × 3 columns</p>\n",
       "</div>"
      ],
      "text/plain": [
       "                 start_ts weather_conditions  duration_seconds\n",
       "62    2017-11-11 06:00:00               Good            1260.0\n",
       "74    2017-11-11 08:00:00               Good            1380.0\n",
       "76    2017-11-04 09:00:00               Good            1380.0\n",
       "117   2017-11-11 07:00:00               Good            1380.0\n",
       "119   2017-11-04 14:00:00               Good            3300.0\n",
       "...                   ...                ...               ...\n",
       "1054  2017-11-11 07:00:00               Good            1380.0\n",
       "1058  2017-11-25 12:00:00               Good            1440.0\n",
       "1062  2017-11-11 06:00:00               Good            1500.0\n",
       "1065  2017-11-11 13:00:00               Good            2100.0\n",
       "1066  2017-11-11 08:00:00               Good            1380.0\n",
       "\n",
       "[197 rows x 3 columns]"
      ]
     },
     "execution_count": 20,
     "metadata": {},
     "output_type": "execute_result"
    }
   ],
   "source": [
    "# visualizando dados duplicados / visualizing duplicated data\n",
    "\n",
    "sql07[sql07.duplicated(subset=['start_ts', 'weather_conditions', 'duration_seconds'])]"
   ]
  },
  {
   "cell_type": "code",
   "execution_count": 21,
   "id": "d7b5d7a2-58b8-4acb-b4d3-b0d6a20b71b7",
   "metadata": {},
   "outputs": [],
   "source": [
    "# deletando valores duplicados / deleting duplicated values \n",
    "\n",
    "sql07 = sql07.drop_duplicates(subset=['start_ts', 'weather_conditions', 'duration_seconds'], keep='first')"
   ]
  },
  {
   "cell_type": "code",
   "execution_count": 22,
   "id": "7d729442-d436-46b5-b6cb-21ddca34db4d",
   "metadata": {},
   "outputs": [
    {
     "data": {
      "text/plain": [
       "False    871\n",
       "Name: count, dtype: int64"
      ]
     },
     "execution_count": 22,
     "metadata": {},
     "output_type": "execute_result"
    }
   ],
   "source": [
    "sql07.duplicated().value_counts()"
   ]
  },
  {
   "cell_type": "markdown",
   "id": "8b06d367-cb89-4cee-afba-29a83a5c5739",
   "metadata": {},
   "source": [
    "Nenhum dado ausente foi encontrado. Porem irei modificar os dados em 'average_trips' de float para int.\n",
    "Em SQL07 os dados de 'start_ts' foram transformados em dados de data. Os valores duplicados encontrados foram deletados\n",
    "\n",
    "/ \n",
    "\n",
    "No missing values were found but I will modify the data in 'average_trips' from float to int. In SQL07 data from 'start_ts' were converted to date type. Its duplicated values were deleted.\n",
    "\n"
   ]
  },
  {
   "cell_type": "markdown",
   "id": "ec75ebd8-fa32-4daa-9ffd-a1f8ff49d44b",
   "metadata": {},
   "source": [
    "## modificando tipo de dados / modifying data type"
   ]
  },
  {
   "cell_type": "code",
   "execution_count": 25,
   "id": "cc5c7970-d765-4c26-86e2-f2f1ada9facf",
   "metadata": {},
   "outputs": [],
   "source": [
    "# modficando dados em 'average_trips'\n",
    "\n",
    "sql04['average_trips'] = sql04['average_trips'].astype(int)"
   ]
  },
  {
   "cell_type": "code",
   "execution_count": 26,
   "id": "a278251f-8d45-4810-b183-9223289183dd",
   "metadata": {},
   "outputs": [
    {
     "name": "stdout",
     "output_type": "stream",
     "text": [
      "<class 'pandas.core.frame.DataFrame'>\n",
      "RangeIndex: 94 entries, 0 to 93\n",
      "Data columns (total 2 columns):\n",
      " #   Column                 Non-Null Count  Dtype \n",
      "---  ------                 --------------  ----- \n",
      " 0   dropoff_location_name  94 non-null     object\n",
      " 1   average_trips          94 non-null     int64 \n",
      "dtypes: int64(1), object(1)\n",
      "memory usage: 1.6+ KB\n"
     ]
    }
   ],
   "source": [
    "sql04.info()"
   ]
  },
  {
   "cell_type": "code",
   "execution_count": 27,
   "id": "59f733e9-9bf9-4ae3-a919-a5075563dd75",
   "metadata": {},
   "outputs": [],
   "source": [
    "# convetendo dados para formato de data / converting to date format\n",
    "\n",
    "sql07['start_ts'] = pd.to_datetime(sql07['start_ts'])"
   ]
  },
  {
   "cell_type": "code",
   "execution_count": 28,
   "id": "20c5a5cf-7507-4671-98c3-2893e9402ed8",
   "metadata": {},
   "outputs": [
    {
     "name": "stdout",
     "output_type": "stream",
     "text": [
      "<class 'pandas.core.frame.DataFrame'>\n",
      "Index: 871 entries, 0 to 1067\n",
      "Data columns (total 3 columns):\n",
      " #   Column              Non-Null Count  Dtype         \n",
      "---  ------              --------------  -----         \n",
      " 0   start_ts            871 non-null    datetime64[ns]\n",
      " 1   weather_conditions  871 non-null    object        \n",
      " 2   duration_seconds    871 non-null    float64       \n",
      "dtypes: datetime64[ns](1), float64(1), object(1)\n",
      "memory usage: 27.2+ KB\n"
     ]
    }
   ],
   "source": [
    "sql07.info()"
   ]
  },
  {
   "cell_type": "markdown",
   "id": "9d76dcb7-b0fb-468e-9a41-4f532a94f239",
   "metadata": {},
   "source": [
    "## analise de dados / data analysis"
   ]
  },
  {
   "cell_type": "markdown",
   "id": "89e403f2-a6db-4e8a-882d-02ea24112536",
   "metadata": {},
   "source": [
    "### destino / destination"
   ]
  },
  {
   "cell_type": "code",
   "execution_count": 31,
   "id": "bff54417-1810-4c9c-a804-d0d20ee335a4",
   "metadata": {},
   "outputs": [],
   "source": [
    "# salvando os 10 bairros com maior media de viagens / saving top 10 average destinations\n",
    "\n",
    "top10_neighborhood = sql04.nlargest(10, 'average_trips')\n"
   ]
  },
  {
   "cell_type": "code",
   "execution_count": 32,
   "id": "8cc2c815-d868-4348-8c91-96395ed26460",
   "metadata": {},
   "outputs": [
    {
     "data": {
      "text/html": [
       "<div>\n",
       "<style scoped>\n",
       "    .dataframe tbody tr th:only-of-type {\n",
       "        vertical-align: middle;\n",
       "    }\n",
       "\n",
       "    .dataframe tbody tr th {\n",
       "        vertical-align: top;\n",
       "    }\n",
       "\n",
       "    .dataframe thead th {\n",
       "        text-align: right;\n",
       "    }\n",
       "</style>\n",
       "<table border=\"1\" class=\"dataframe\">\n",
       "  <thead>\n",
       "    <tr style=\"text-align: right;\">\n",
       "      <th></th>\n",
       "      <th>average_trips</th>\n",
       "    </tr>\n",
       "  </thead>\n",
       "  <tbody>\n",
       "    <tr>\n",
       "      <th>count</th>\n",
       "      <td>10.00000</td>\n",
       "    </tr>\n",
       "    <tr>\n",
       "      <th>mean</th>\n",
       "      <td>4324.40000</td>\n",
       "    </tr>\n",
       "    <tr>\n",
       "      <th>std</th>\n",
       "      <td>3530.15559</td>\n",
       "    </tr>\n",
       "    <tr>\n",
       "      <th>min</th>\n",
       "      <td>1259.00000</td>\n",
       "    </tr>\n",
       "    <tr>\n",
       "      <th>25%</th>\n",
       "      <td>1649.50000</td>\n",
       "    </tr>\n",
       "    <tr>\n",
       "      <th>50%</th>\n",
       "      <td>2483.00000</td>\n",
       "    </tr>\n",
       "    <tr>\n",
       "      <th>75%</th>\n",
       "      <td>6288.75000</td>\n",
       "    </tr>\n",
       "    <tr>\n",
       "      <th>max</th>\n",
       "      <td>10727.00000</td>\n",
       "    </tr>\n",
       "  </tbody>\n",
       "</table>\n",
       "</div>"
      ],
      "text/plain": [
       "       average_trips\n",
       "count       10.00000\n",
       "mean      4324.40000\n",
       "std       3530.15559\n",
       "min       1259.00000\n",
       "25%       1649.50000\n",
       "50%       2483.00000\n",
       "75%       6288.75000\n",
       "max      10727.00000"
      ]
     },
     "execution_count": 32,
     "metadata": {},
     "output_type": "execute_result"
    }
   ],
   "source": [
    "top10_neighborhood.describe()"
   ]
  },
  {
   "cell_type": "code",
   "execution_count": 33,
   "id": "74d0b1f9-0d49-48a1-89ba-f78367057a58",
   "metadata": {},
   "outputs": [
    {
     "data": {
      "text/html": [
       "<div>\n",
       "<style scoped>\n",
       "    .dataframe tbody tr th:only-of-type {\n",
       "        vertical-align: middle;\n",
       "    }\n",
       "\n",
       "    .dataframe tbody tr th {\n",
       "        vertical-align: top;\n",
       "    }\n",
       "\n",
       "    .dataframe thead th {\n",
       "        text-align: right;\n",
       "    }\n",
       "</style>\n",
       "<table border=\"1\" class=\"dataframe\">\n",
       "  <thead>\n",
       "    <tr style=\"text-align: right;\">\n",
       "      <th></th>\n",
       "      <th>dropoff_location_name</th>\n",
       "      <th>average_trips</th>\n",
       "    </tr>\n",
       "  </thead>\n",
       "  <tbody>\n",
       "    <tr>\n",
       "      <th>0</th>\n",
       "      <td>Loop</td>\n",
       "      <td>10727</td>\n",
       "    </tr>\n",
       "    <tr>\n",
       "      <th>1</th>\n",
       "      <td>River North</td>\n",
       "      <td>9523</td>\n",
       "    </tr>\n",
       "    <tr>\n",
       "      <th>2</th>\n",
       "      <td>Streeterville</td>\n",
       "      <td>6664</td>\n",
       "    </tr>\n",
       "    <tr>\n",
       "      <th>3</th>\n",
       "      <td>West Loop</td>\n",
       "      <td>5163</td>\n",
       "    </tr>\n",
       "    <tr>\n",
       "      <th>4</th>\n",
       "      <td>O'Hare</td>\n",
       "      <td>2546</td>\n",
       "    </tr>\n",
       "  </tbody>\n",
       "</table>\n",
       "</div>"
      ],
      "text/plain": [
       "  dropoff_location_name  average_trips\n",
       "0                  Loop          10727\n",
       "1           River North           9523\n",
       "2         Streeterville           6664\n",
       "3             West Loop           5163\n",
       "4                O'Hare           2546"
      ]
     },
     "execution_count": 33,
     "metadata": {},
     "output_type": "execute_result"
    }
   ],
   "source": [
    "top10_neighborhood.head()"
   ]
  },
  {
   "cell_type": "code",
   "execution_count": 34,
   "id": "18f17d47-ce3a-4f71-8df1-63e35ce09d66",
   "metadata": {},
   "outputs": [
    {
     "data": {
      "image/png": "[encoded data removed]",
      "text/plain": [
       "<Figure size 1000x600 with 1 Axes>"
      ]
     },
     "metadata": {},
     "output_type": "display_data"
    }
   ],
   "source": [
    "# plotando o top 10 destinos mais comuns / ploting top 10 most common destinations\n",
    "\n",
    "top10_neighborhood.plot(kind='bar', figsize=(10, 6), stacked=True, x='dropoff_location_name', y='average_trips')\n",
    "plt.xlabel('dropoff name')\n",
    "plt.ylabel('average trips')\n",
    "plt.title('Top 10 most common destinations')\n",
    "plt.xticks(rotation=45)\n",
    "plt.show()\n"
   ]
  },
  {
   "cell_type": "markdown",
   "id": "8be9108c-96ba-4119-a426-75f24fe6c874",
   "metadata": {},
   "source": [
    "    Observamos os 10 bairros mais populares para destino, os quatro primeiros se destacam em relação aos outros.\n",
    "    \n",
    "    \n",
    "    Here we see top 10 neighborhoods, the top 4 stood out in comparision with the other ones."
   ]
  },
  {
   "cell_type": "markdown",
   "id": "7f50d0e5-ba1f-4f07-873b-3f7de045f3af",
   "metadata": {},
   "source": [
    "### companhia / company"
   ]
  },
  {
   "cell_type": "code",
   "execution_count": 37,
   "id": "c2200c08-5e2c-4056-80f2-07f2851cdc86",
   "metadata": {},
   "outputs": [],
   "source": [
    "# salvando os 10 mais populares empresas de taxi /  top 10 cab company\n",
    "\n",
    "top10_cab_company = sql01.nlargest(10, 'trips_amount')"
   ]
  },
  {
   "cell_type": "code",
   "execution_count": 38,
   "id": "b3e73905-47a5-409e-ae0c-91e35beaa20c",
   "metadata": {},
   "outputs": [
    {
     "data": {
      "text/html": [
       "<div>\n",
       "<style scoped>\n",
       "    .dataframe tbody tr th:only-of-type {\n",
       "        vertical-align: middle;\n",
       "    }\n",
       "\n",
       "    .dataframe tbody tr th {\n",
       "        vertical-align: top;\n",
       "    }\n",
       "\n",
       "    .dataframe thead th {\n",
       "        text-align: right;\n",
       "    }\n",
       "</style>\n",
       "<table border=\"1\" class=\"dataframe\">\n",
       "  <thead>\n",
       "    <tr style=\"text-align: right;\">\n",
       "      <th></th>\n",
       "      <th>trips_amount</th>\n",
       "    </tr>\n",
       "  </thead>\n",
       "  <tbody>\n",
       "    <tr>\n",
       "      <th>count</th>\n",
       "      <td>10.000000</td>\n",
       "    </tr>\n",
       "    <tr>\n",
       "      <th>mean</th>\n",
       "      <td>9927.200000</td>\n",
       "    </tr>\n",
       "    <tr>\n",
       "      <th>std</th>\n",
       "      <td>3729.509703</td>\n",
       "    </tr>\n",
       "    <tr>\n",
       "      <th>min</th>\n",
       "      <td>5953.000000</td>\n",
       "    </tr>\n",
       "    <tr>\n",
       "      <th>25%</th>\n",
       "      <td>7887.750000</td>\n",
       "    </tr>\n",
       "    <tr>\n",
       "      <th>50%</th>\n",
       "      <td>9240.000000</td>\n",
       "    </tr>\n",
       "    <tr>\n",
       "      <th>75%</th>\n",
       "      <td>10247.250000</td>\n",
       "    </tr>\n",
       "    <tr>\n",
       "      <th>max</th>\n",
       "      <td>19558.000000</td>\n",
       "    </tr>\n",
       "  </tbody>\n",
       "</table>\n",
       "</div>"
      ],
      "text/plain": [
       "       trips_amount\n",
       "count     10.000000\n",
       "mean    9927.200000\n",
       "std     3729.509703\n",
       "min     5953.000000\n",
       "25%     7887.750000\n",
       "50%     9240.000000\n",
       "75%    10247.250000\n",
       "max    19558.000000"
      ]
     },
     "execution_count": 38,
     "metadata": {},
     "output_type": "execute_result"
    }
   ],
   "source": [
    "top10_cab_company.describe()"
   ]
  },
  {
   "cell_type": "code",
   "execution_count": 39,
   "id": "bc104071-adf2-4532-be04-f8b89e283032",
   "metadata": {},
   "outputs": [
    {
     "data": {
      "text/html": [
       "<div>\n",
       "<style scoped>\n",
       "    .dataframe tbody tr th:only-of-type {\n",
       "        vertical-align: middle;\n",
       "    }\n",
       "\n",
       "    .dataframe tbody tr th {\n",
       "        vertical-align: top;\n",
       "    }\n",
       "\n",
       "    .dataframe thead th {\n",
       "        text-align: right;\n",
       "    }\n",
       "</style>\n",
       "<table border=\"1\" class=\"dataframe\">\n",
       "  <thead>\n",
       "    <tr style=\"text-align: right;\">\n",
       "      <th></th>\n",
       "      <th>company_name</th>\n",
       "      <th>trips_amount</th>\n",
       "    </tr>\n",
       "  </thead>\n",
       "  <tbody>\n",
       "    <tr>\n",
       "      <th>0</th>\n",
       "      <td>Flash Cab</td>\n",
       "      <td>19558</td>\n",
       "    </tr>\n",
       "    <tr>\n",
       "      <th>1</th>\n",
       "      <td>Taxi Affiliation Services</td>\n",
       "      <td>11422</td>\n",
       "    </tr>\n",
       "    <tr>\n",
       "      <th>2</th>\n",
       "      <td>Medallion Leasin</td>\n",
       "      <td>10367</td>\n",
       "    </tr>\n",
       "    <tr>\n",
       "      <th>3</th>\n",
       "      <td>Yellow Cab</td>\n",
       "      <td>9888</td>\n",
       "    </tr>\n",
       "    <tr>\n",
       "      <th>4</th>\n",
       "      <td>Taxi Affiliation Service Yellow</td>\n",
       "      <td>9299</td>\n",
       "    </tr>\n",
       "  </tbody>\n",
       "</table>\n",
       "</div>"
      ],
      "text/plain": [
       "                      company_name  trips_amount\n",
       "0                        Flash Cab         19558\n",
       "1        Taxi Affiliation Services         11422\n",
       "2                 Medallion Leasin         10367\n",
       "3                       Yellow Cab          9888\n",
       "4  Taxi Affiliation Service Yellow          9299"
      ]
     },
     "execution_count": 39,
     "metadata": {},
     "output_type": "execute_result"
    }
   ],
   "source": [
    "top10_cab_company.head()"
   ]
  },
  {
   "cell_type": "code",
   "execution_count": 40,
   "id": "6efdfc6e-6b6b-4893-95fe-18cefb3cea05",
   "metadata": {},
   "outputs": [
    {
     "data": {
      "image/png": "[encoded data removed]",
      "text/plain": [
       "<Figure size 1000x600 with 1 Axes>"
      ]
     },
     "metadata": {},
     "output_type": "display_data"
    }
   ],
   "source": [
    "# plotando o top 10 empresas mais populares / ploting top 10 most poppular cab companies\n",
    "\n",
    "top10_cab_company.plot(kind='bar', figsize=(10, 6), stacked=True, x='company_name', y='trips_amount')\n",
    "plt.xlabel('company name')\n",
    "plt.ylabel('trip amount')\n",
    "plt.title('Top 10 most popular cab companies')\n",
    "plt.xticks(rotation=45)\n",
    "plt.show()"
   ]
  },
  {
   "cell_type": "markdown",
   "id": "db6c7496-9ccf-48e9-9195-2e5937c23a37",
   "metadata": {},
   "source": [
    "    observamos aqui as dez companhias mais populares de taxi, chama a atenção a primeira colocada ter 41% a mais viagens que a segunda colocada\n",
    "    \n",
    "    \n",
    "    Here we see the top 10 cab companies, it stands out the 1st company to have 41% more trips than the 2nd busiest one."
   ]
  },
  {
   "cell_type": "markdown",
   "id": "0553f6ad-b06c-436c-959f-7e99ac9e993c",
   "metadata": {},
   "source": [
    "## testando hipotese / testing hypotesis"
   ]
  },
  {
   "cell_type": "markdown",
   "id": "53e1947d-75e8-4b17-be77-8250a058dbd8",
   "metadata": {},
   "source": [
    "Hipotese Nula : A duração media dos passeios do Loop para o Aeroporto O'Hare são iguais nos sabados chuvosos\n",
    "\n",
    "Hipotese Alternativa :A duração media dos passeios do Loop para o Aeroporto O'Hare nos sabados chuvosos são diferentes"
   ]
  },
  {
   "cell_type": "code",
   "execution_count": 44,
   "id": "af07ef4a-9c81-4a3c-940c-9849d501eee9",
   "metadata": {},
   "outputs": [],
   "source": [
    "# filtrando dados com clima 'bom' / filtering data of 'good' weather\n",
    "\n",
    "good_weather = sql07.query('weather_conditions == \"Good\"')"
   ]
  },
  {
   "cell_type": "code",
   "execution_count": 45,
   "id": "959e2a25-7239-4198-8464-b4d4c3b9368e",
   "metadata": {},
   "outputs": [],
   "source": [
    "# filtrando dados com clima 'ruim' / filtering data of 'bad' weather\n",
    "\n",
    "bad_weather = sql07.query('weather_conditions == \"Bad\"')"
   ]
  },
  {
   "cell_type": "code",
   "execution_count": 47,
   "id": "9513e3e2-138d-4105-9977-572b844bbedd",
   "metadata": {},
   "outputs": [],
   "source": [
    "# utilizando teste de levene para definir se equal_var = False ou True\n",
    "\n",
    "statistic, p_value = levene(good_weather['duration_seconds'], bad_weather['duration_seconds'])"
   ]
  },
  {
   "cell_type": "code",
   "execution_count": 48,
   "id": "a014733c-fec9-442a-8ad1-9166a20e07e7",
   "metadata": {},
   "outputs": [],
   "source": [
    "# definindo valor alpha / defining alpha value\n",
    "\n",
    "alpha = 0.05"
   ]
  },
  {
   "cell_type": "code",
   "execution_count": 49,
   "id": "dae54807-9165-483b-8282-321f48464d76",
   "metadata": {},
   "outputs": [
    {
     "name": "stdout",
     "output_type": "stream",
     "text": [
      "Levene's test statistic: 0.000586951625283602\n",
      "p-value: 0.9806770360671218\n"
     ]
    }
   ],
   "source": [
    "# resultado do teste de levene / levene test result\n",
    "\n",
    "print(\"Levene's test statistic:\", statistic)\n",
    "print(\"p-value:\", p_value)"
   ]
  },
  {
   "cell_type": "code",
   "execution_count": 50,
   "id": "51f982fa-d288-4b1f-a476-e33f9e0f2833",
   "metadata": {},
   "outputs": [],
   "source": [
    "# funcao if para demonstrar se equal_var e falso ou verdadeiro / if function to show if equal_var is true or false\n",
    "\n",
    "if p_value < alpha:\n",
    "    equal_var = False\n",
    "else:\n",
    "    equal_var = True"
   ]
  },
  {
   "cell_type": "code",
   "execution_count": 51,
   "id": "2acecc27-f3ce-4ea2-a291-390250acb916",
   "metadata": {},
   "outputs": [],
   "source": [
    "# ttest entre a media de duracao de segundos / ttset between duration seconds average\n",
    "\n",
    "results = st.ttest_ind(good_weather['duration_seconds'], bad_weather['duration_seconds'], equal_var = equal_var)"
   ]
  },
  {
   "cell_type": "code",
   "execution_count": 52,
   "id": "7b542142-4ea6-4f96-89a9-ed50cfedc979",
   "metadata": {},
   "outputs": [
    {
     "name": "stdout",
     "output_type": "stream",
     "text": [
      "p-value : 7.397770692813658e-08\n"
     ]
    }
   ],
   "source": [
    "# imprimindo p-valor / printing p-value\n",
    "\n",
    "print('p-value :', results.pvalue)"
   ]
  },
  {
   "cell_type": "code",
   "execution_count": 53,
   "id": "facf9735-3244-4fc6-a402-fa3d670cf53d",
   "metadata": {},
   "outputs": [
    {
     "name": "stdout",
     "output_type": "stream",
     "text": [
      "Rejeitamos a hipótese nula / Reject null hypotesis\n"
     ]
    }
   ],
   "source": [
    "# resultado do teste / test result\n",
    "\n",
    "if results.pvalue < alpha:\n",
    "    print('Rejeitamos a hipótese nula / Reject null hypotesis')\n",
    "else:\n",
    "    print(\"Nós não podemos rejeitar a hipótese nula / We can't reject null hypotesis\")"
   ]
  },
  {
   "cell_type": "markdown",
   "id": "12645d47-f5cf-4af6-bb95-768ff4fddbf7",
   "metadata": {},
   "source": [
    "## Conclusao / Conclusion"
   ]
  },
  {
   "cell_type": "markdown",
   "id": "5c2d7d88-7440-4569-a01f-e6a434d40f6f",
   "metadata": {},
   "source": [
    "Conseguimos identificar as 10 companhias de taxi mais populares, sendo a primeira mais poupular ter 41% mais viagens que a segunda colocada. Não há muita diferença entre as outras colocadas.\n",
    "\n",
    "Entre os destinos de bairros mais populares 'Loop' é o mais popular, o aeroporto fica na quinta posição apenas.\n",
    "\n",
    "No resultado do teste, podemos rejeitar a hipótese nula de que o tempo médio de viagem é o mesmo entre dias com clima bom e ruim."
   ]
  },
  {
   "cell_type": "code",
   "execution_count": null,
   "id": "41669bca-744d-4769-a4bc-16fa72e0254f",
   "metadata": {},
   "outputs": [],
   "source": []
  }
 ],
 "metadata": {
  "kernelspec": {
   "display_name": "anaconda-panel-2023.05-py310",
   "language": "python",
   "name": "conda-env-anaconda-panel-2023.05-py310-py"
  },
  "language_info": {
   "codemirror_mode": {
    "name": "ipython",
    "version": 3
   },
   "file_extension": ".py",
   "mimetype": "text/x-python",
   "name": "python",
   "nbconvert_exporter": "python",
   "pygments_lexer": "ipython3",
   "version": "3.11.5"
  },
  "toc-showcode": false
 },
 "nbformat": 4,
 "nbformat_minor": 5
}
