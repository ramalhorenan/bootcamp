{
 "cells": [
  {
   "cell_type": "markdown",
   "id": "70a5f371",
   "metadata": {},
   "source": [
    "Olá, Renan\n",
    "\n",
    "Meu nome é Ramon. Fico feliz em revisar seu projeto. Ao ao longo do texto farei algumas observações sobre melhorias no código e também farei comentários sobre suas percepções sobre o assunto. Estarei aberto a feedbacks e discussões sobre o tema.\n",
    "\n",
    "**Peço que mantenha e não altere os comentários que eu fizer por aqui para que possamos nos localizar posteriormente, ok?**\n",
    "\n",
    "Mais uma coisa, vamos utilizar um código de cores para você entender os meus feedbacks no seu notebook. Funciona assim:\n",
    "\n",
    "<div class=\"alert alert-block alert-success\">\n",
    "<b> Comentário do revisor: </b> <a class=\"tocSkip\"></a>\n",
    "\n",
    "Sucesso. Tudo foi feito corretamente.\n",
    "</div>\n",
    "\n",
    "<div class=\"alert alert-block alert-warning\">\n",
    "<b>Comentário do revisor: </b> <a class=\"tocSkip\"></a>\n",
    "\n",
    "Alerta não crítco, mas que pode ser corrigido para melhoria geral no seu código/análise\n",
    "</div>\n",
    "\n",
    "<div class=\"alert alert-block alert-danger\">\n",
    "\n",
    "<b>Comentário do revisor: </b> <a class=\"tocSkip\"></a>\n",
    "    \n",
    "Erro que precisa ser consertado, caso contrário seu projeto **não** será aceito.\n",
    "</div>\n",
    "\n",
    "Você pode me responder usando isso:\n",
    "<div class=\"alert alert-block alert-info\">\n",
    "<b>Resposta do Aluno.</b> <a class=\"tocSkip\"></a>\n",
    "</div>"
   ]
  },
  {
   "cell_type": "markdown",
   "id": "c5944e12-b7c7-4606-ada0-f19bb602831b",
   "metadata": {},
   "source": [
    "# Project Description"
   ]
  },
  {
   "cell_type": "markdown",
   "id": "37a86894-7e3c-42ed-b128-e24b8a5ac679",
   "metadata": {},
   "source": [
    "Você trabalha em uma startup que vende produtos alimentícios. Você precisa analisar o comportamento do usuário para o aplicativo da empresa.\n",
    "Primeiro estude o funil de vendas. Descubra como os usuários chegam à etapa de compra.Quantos usuários realmente chegam a essa etapa? Quantos ficam presos nas fases anteriores? Quais etapas em particular?\n",
    "\n",
    "Em seguida, veja os resultados do teste A/A/B. (Continue lendo para obter mais informação sobre os testes A/A/B.) Os designers gostariam de alterar as fontes de todo o aplicativo,mas os gerentes temem que os usuários achem o novo design intimidador. Eles decidem tomar a decisão com base nos resultados de um teste A/A/B.\n",
    "\n",
    "Os usuários são divididos em três grupos: dois grupos de controle recebem as fontes antigas e um grupo de teste recebe as novas. Descubra qual conjunto de fontes produz melhores resultados.\n",
    "\n",
    "A criação de dois grupos A tem certas vantagens. Podemos adaptar um princípio segundo o qual só estaremos confiantes na precisão de nossos testes quando os dois grupos de controle forem semelhantes. Se houver diferenças significativas entre os grupos A, isso pode nos ajudar a descobrir fatores que podem distorcer os resultados. A comparação de grupos de controle também nos informa de quanto tempo e dados precisaremos ao executar outros testes.\n",
    "\n",
    "Você usará o mesmo conjunto de dados para análise geral e análise A/A/B. Em projetos reais, os experimentos se realizam constantemente. Os analistas estudam a qualidade de um aplicativo usando dados gerais, sem prestar atenção na participação dos usuários de experimentos."
   ]
  },
  {
   "cell_type": "markdown",
   "id": "e8be4b9e-1eab-45e0-b709-bc44937cced5",
   "metadata": {},
   "source": [
    "## Initializing"
   ]
  },
  {
   "cell_type": "code",
   "execution_count": 81,
   "id": "e77dc39d-efad-4c34-8ce6-18e89b76d77b",
   "metadata": {},
   "outputs": [],
   "source": [
    "# importing libraries\n",
    "\n",
    "import pandas as pd\n",
    "import numpy as np\n",
    "import seaborn as sns\n",
    "import matplotlib.pyplot as plt\n",
    "import scipy.stats as stats\n",
    "from scipy.stats import chi2_contingency\n",
    "from scipy.stats import t\n",
    "from scipy.stats import ttest_ind\n",
    "from scipy.stats import levene\n",
    "from statsmodels.stats.proportion import proportions_ztest\n"
   ]
  },
  {
   "cell_type": "code",
   "execution_count": 82,
   "id": "02fca1ea-15aa-448e-8a04-6d01efdb79d1",
   "metadata": {},
   "outputs": [
    {
     "name": "stderr",
     "output_type": "stream",
     "text": [
      "/tmp/ipykernel_87/821614877.py:4: ParserWarning: Falling back to the 'python' engine because the 'c' engine does not support regex separators (separators > 1 char and different from '\\s+' are interpreted as regex); you can avoid this warning by specifying engine='python'.\n",
      "  log = pd.read_csv('/datasets/logs_exp_us.csv', delimiter=\"\\\\t\")\n",
      "/tmp/ipykernel_87/821614877.py:7: ParserWarning: Falling back to the 'python' engine because the 'c' engine does not support regex separators (separators > 1 char and different from '\\s+' are interpreted as regex); you can avoid this warning by specifying engine='python'.\n",
      "  log = pd.read_csv('logs_exp_us.csv', delimiter=\"\\\\t\")\n"
     ]
    }
   ],
   "source": [
    "# loading files\n",
    "\n",
    "try:\n",
    "    log = pd.read_csv('/datasets/logs_exp_us.csv', delimiter=\"\\\\t\")\n",
    "    \n",
    "except FileNotFoundError:\n",
    "    log = pd.read_csv('logs_exp_us.csv', delimiter=\"\\\\t\")\n",
    "       "
   ]
  },
  {
   "cell_type": "code",
   "execution_count": 83,
   "id": "236f89d6-2225-4648-9f31-54258e8b4490",
   "metadata": {},
   "outputs": [
    {
     "data": {
      "text/html": [
       "<div>\n",
       "<style scoped>\n",
       "    .dataframe tbody tr th:only-of-type {\n",
       "        vertical-align: middle;\n",
       "    }\n",
       "\n",
       "    .dataframe tbody tr th {\n",
       "        vertical-align: top;\n",
       "    }\n",
       "\n",
       "    .dataframe thead th {\n",
       "        text-align: right;\n",
       "    }\n",
       "</style>\n",
       "<table border=\"1\" class=\"dataframe\">\n",
       "  <thead>\n",
       "    <tr style=\"text-align: right;\">\n",
       "      <th></th>\n",
       "      <th>EventName</th>\n",
       "      <th>DeviceIDHash</th>\n",
       "      <th>EventTimestamp</th>\n",
       "      <th>ExpId</th>\n",
       "    </tr>\n",
       "  </thead>\n",
       "  <tbody>\n",
       "    <tr>\n",
       "      <th>0</th>\n",
       "      <td>MainScreenAppear</td>\n",
       "      <td>4575588528974610257</td>\n",
       "      <td>1564029816</td>\n",
       "      <td>246</td>\n",
       "    </tr>\n",
       "    <tr>\n",
       "      <th>1</th>\n",
       "      <td>MainScreenAppear</td>\n",
       "      <td>7416695313311560658</td>\n",
       "      <td>1564053102</td>\n",
       "      <td>246</td>\n",
       "    </tr>\n",
       "    <tr>\n",
       "      <th>2</th>\n",
       "      <td>PaymentScreenSuccessful</td>\n",
       "      <td>3518123091307005509</td>\n",
       "      <td>1564054127</td>\n",
       "      <td>248</td>\n",
       "    </tr>\n",
       "    <tr>\n",
       "      <th>3</th>\n",
       "      <td>CartScreenAppear</td>\n",
       "      <td>3518123091307005509</td>\n",
       "      <td>1564054127</td>\n",
       "      <td>248</td>\n",
       "    </tr>\n",
       "    <tr>\n",
       "      <th>4</th>\n",
       "      <td>PaymentScreenSuccessful</td>\n",
       "      <td>6217807653094995999</td>\n",
       "      <td>1564055322</td>\n",
       "      <td>248</td>\n",
       "    </tr>\n",
       "    <tr>\n",
       "      <th>5</th>\n",
       "      <td>CartScreenAppear</td>\n",
       "      <td>6217807653094995999</td>\n",
       "      <td>1564055323</td>\n",
       "      <td>248</td>\n",
       "    </tr>\n",
       "    <tr>\n",
       "      <th>6</th>\n",
       "      <td>OffersScreenAppear</td>\n",
       "      <td>8351860793733343758</td>\n",
       "      <td>1564066242</td>\n",
       "      <td>246</td>\n",
       "    </tr>\n",
       "    <tr>\n",
       "      <th>7</th>\n",
       "      <td>MainScreenAppear</td>\n",
       "      <td>5682100281902512875</td>\n",
       "      <td>1564085677</td>\n",
       "      <td>246</td>\n",
       "    </tr>\n",
       "    <tr>\n",
       "      <th>8</th>\n",
       "      <td>MainScreenAppear</td>\n",
       "      <td>1850981295691852772</td>\n",
       "      <td>1564086702</td>\n",
       "      <td>247</td>\n",
       "    </tr>\n",
       "    <tr>\n",
       "      <th>9</th>\n",
       "      <td>MainScreenAppear</td>\n",
       "      <td>5407636962369102641</td>\n",
       "      <td>1564112112</td>\n",
       "      <td>246</td>\n",
       "    </tr>\n",
       "  </tbody>\n",
       "</table>\n",
       "</div>"
      ],
      "text/plain": [
       "                 EventName         DeviceIDHash  EventTimestamp  ExpId\n",
       "0         MainScreenAppear  4575588528974610257      1564029816    246\n",
       "1         MainScreenAppear  7416695313311560658      1564053102    246\n",
       "2  PaymentScreenSuccessful  3518123091307005509      1564054127    248\n",
       "3         CartScreenAppear  3518123091307005509      1564054127    248\n",
       "4  PaymentScreenSuccessful  6217807653094995999      1564055322    248\n",
       "5         CartScreenAppear  6217807653094995999      1564055323    248\n",
       "6       OffersScreenAppear  8351860793733343758      1564066242    246\n",
       "7         MainScreenAppear  5682100281902512875      1564085677    246\n",
       "8         MainScreenAppear  1850981295691852772      1564086702    247\n",
       "9         MainScreenAppear  5407636962369102641      1564112112    246"
      ]
     },
     "execution_count": 83,
     "metadata": {},
     "output_type": "execute_result"
    }
   ],
   "source": [
    "log.head(10)"
   ]
  },
  {
   "cell_type": "code",
   "execution_count": 84,
   "id": "e62ec3bb-eb99-4dbf-bb93-0fe667d2f9eb",
   "metadata": {},
   "outputs": [
    {
     "name": "stdout",
     "output_type": "stream",
     "text": [
      "<class 'pandas.core.frame.DataFrame'>\n",
      "RangeIndex: 244126 entries, 0 to 244125\n",
      "Data columns (total 4 columns):\n",
      " #   Column          Non-Null Count   Dtype \n",
      "---  ------          --------------   ----- \n",
      " 0   EventName       244126 non-null  object\n",
      " 1   DeviceIDHash    244126 non-null  int64 \n",
      " 2   EventTimestamp  244126 non-null  int64 \n",
      " 3   ExpId           244126 non-null  int64 \n",
      "dtypes: int64(3), object(1)\n",
      "memory usage: 7.5+ MB\n"
     ]
    }
   ],
   "source": [
    "log.info()"
   ]
  },
  {
   "cell_type": "markdown",
   "id": "338cbb83-736c-44fa-96b4-fd316d5d030a",
   "metadata": {},
   "source": [
    "     no missing values found"
   ]
  },
  {
   "cell_type": "markdown",
   "id": "ab92dadc-99bf-4234-838d-118ef4d85b01",
   "metadata": {},
   "source": [
    "## Modifying and Standaryzing Data"
   ]
  },
  {
   "cell_type": "code",
   "execution_count": 87,
   "id": "bba53594-82d4-4ea8-a010-9ee0042f7db0",
   "metadata": {},
   "outputs": [],
   "source": [
    "#renaming columns\n",
    "log.rename(columns={'EventName':'event','DeviceIDHash':'device_id', 'EventTimestamp':'timestamp', 'ExpId':'exp_id'}, inplace=True)"
   ]
  },
  {
   "cell_type": "code",
   "execution_count": 88,
   "id": "8ddfbfd1-1920-46a6-b443-219e161f6dfa",
   "metadata": {},
   "outputs": [
    {
     "data": {
      "text/html": [
       "<div>\n",
       "<style scoped>\n",
       "    .dataframe tbody tr th:only-of-type {\n",
       "        vertical-align: middle;\n",
       "    }\n",
       "\n",
       "    .dataframe tbody tr th {\n",
       "        vertical-align: top;\n",
       "    }\n",
       "\n",
       "    .dataframe thead th {\n",
       "        text-align: right;\n",
       "    }\n",
       "</style>\n",
       "<table border=\"1\" class=\"dataframe\">\n",
       "  <thead>\n",
       "    <tr style=\"text-align: right;\">\n",
       "      <th></th>\n",
       "      <th>event</th>\n",
       "      <th>device_id</th>\n",
       "      <th>timestamp</th>\n",
       "      <th>exp_id</th>\n",
       "    </tr>\n",
       "  </thead>\n",
       "  <tbody>\n",
       "    <tr>\n",
       "      <th>0</th>\n",
       "      <td>MainScreenAppear</td>\n",
       "      <td>4575588528974610257</td>\n",
       "      <td>1564029816</td>\n",
       "      <td>246</td>\n",
       "    </tr>\n",
       "    <tr>\n",
       "      <th>1</th>\n",
       "      <td>MainScreenAppear</td>\n",
       "      <td>7416695313311560658</td>\n",
       "      <td>1564053102</td>\n",
       "      <td>246</td>\n",
       "    </tr>\n",
       "    <tr>\n",
       "      <th>2</th>\n",
       "      <td>PaymentScreenSuccessful</td>\n",
       "      <td>3518123091307005509</td>\n",
       "      <td>1564054127</td>\n",
       "      <td>248</td>\n",
       "    </tr>\n",
       "    <tr>\n",
       "      <th>3</th>\n",
       "      <td>CartScreenAppear</td>\n",
       "      <td>3518123091307005509</td>\n",
       "      <td>1564054127</td>\n",
       "      <td>248</td>\n",
       "    </tr>\n",
       "    <tr>\n",
       "      <th>4</th>\n",
       "      <td>PaymentScreenSuccessful</td>\n",
       "      <td>6217807653094995999</td>\n",
       "      <td>1564055322</td>\n",
       "      <td>248</td>\n",
       "    </tr>\n",
       "  </tbody>\n",
       "</table>\n",
       "</div>"
      ],
      "text/plain": [
       "                     event            device_id   timestamp  exp_id\n",
       "0         MainScreenAppear  4575588528974610257  1564029816     246\n",
       "1         MainScreenAppear  7416695313311560658  1564053102     246\n",
       "2  PaymentScreenSuccessful  3518123091307005509  1564054127     248\n",
       "3         CartScreenAppear  3518123091307005509  1564054127     248\n",
       "4  PaymentScreenSuccessful  6217807653094995999  1564055322     248"
      ]
     },
     "execution_count": 88,
     "metadata": {},
     "output_type": "execute_result"
    }
   ],
   "source": [
    "log.head()"
   ]
  },
  {
   "cell_type": "code",
   "execution_count": 89,
   "id": "2d62a116-5559-43e2-8d27-9ff670548c83",
   "metadata": {},
   "outputs": [],
   "source": [
    "#extracting date time from timestamp\n",
    "log['datetime'] = pd.to_datetime(log['timestamp'], unit='s')"
   ]
  },
  {
   "cell_type": "code",
   "execution_count": 90,
   "id": "35b5c613-7465-48a3-ba7c-3563d34a6adb",
   "metadata": {},
   "outputs": [],
   "source": [
    "#creating column date\n",
    "log['date'] = log['datetime'].dt.date"
   ]
  },
  {
   "cell_type": "code",
   "execution_count": 91,
   "id": "b1231025-c190-4c03-8de5-ffe1e991fe37",
   "metadata": {},
   "outputs": [],
   "source": [
    "#modyfing date to datetime type\n",
    "log['date'] = pd.to_datetime(log['date'])"
   ]
  },
  {
   "cell_type": "code",
   "execution_count": 92,
   "id": "62e27e80-40b4-4359-a068-d49a0d48307d",
   "metadata": {},
   "outputs": [],
   "source": [
    "#creating column time\n",
    "log['time'] = log['datetime'].dt.time"
   ]
  },
  {
   "cell_type": "code",
   "execution_count": 93,
   "id": "0068cc25-132a-43a6-ac54-e79b7af0d4e8",
   "metadata": {},
   "outputs": [],
   "source": [
    "log['month'] = log['datetime'].dt.month"
   ]
  },
  {
   "cell_type": "code",
   "execution_count": 94,
   "id": "6edd821e-1b29-4fd1-a7a0-c28bad33d5ef",
   "metadata": {},
   "outputs": [
    {
     "name": "stdout",
     "output_type": "stream",
     "text": [
      "<class 'pandas.core.frame.DataFrame'>\n",
      "RangeIndex: 244126 entries, 0 to 244125\n",
      "Data columns (total 8 columns):\n",
      " #   Column     Non-Null Count   Dtype         \n",
      "---  ------     --------------   -----         \n",
      " 0   event      244126 non-null  object        \n",
      " 1   device_id  244126 non-null  int64         \n",
      " 2   timestamp  244126 non-null  int64         \n",
      " 3   exp_id     244126 non-null  int64         \n",
      " 4   datetime   244126 non-null  datetime64[ns]\n",
      " 5   date       244126 non-null  datetime64[ns]\n",
      " 6   time       244126 non-null  object        \n",
      " 7   month      244126 non-null  int64         \n",
      "dtypes: datetime64[ns](2), int64(4), object(2)\n",
      "memory usage: 14.9+ MB\n"
     ]
    }
   ],
   "source": [
    "log.info()"
   ]
  },
  {
   "cell_type": "code",
   "execution_count": 95,
   "id": "8e07c5f8-82c4-480a-a7a2-c3c79477e90c",
   "metadata": {},
   "outputs": [
    {
     "data": {
      "text/plain": [
       "244112"
      ]
     },
     "execution_count": 95,
     "metadata": {},
     "output_type": "execute_result"
    }
   ],
   "source": [
    "#checking duplicated dates\n",
    "log['date'].duplicated().sum()"
   ]
  },
  {
   "cell_type": "code",
   "execution_count": 96,
   "id": "2adcff96-a632-44f8-a158-276df4dbd80e",
   "metadata": {},
   "outputs": [
    {
     "data": {
      "image/png": "[encoded data removed]",
      "text/plain": [
       "<Figure size 864x576 with 1 Axes>"
      ]
     },
     "metadata": {
      "needs_background": "light"
     },
     "output_type": "display_data"
    }
   ],
   "source": [
    "#ploting dates\n",
    "log['date'].plot(figsize=(12,8))\n",
    "plt.show()"
   ]
  },
  {
   "cell_type": "markdown",
   "id": "620ae0f9-6c4e-4a9f-ada1-35f4d5f3af95",
   "metadata": {},
   "source": [
    "    we can see duplicated values for dates could be multiple sessions logged daily, we notice a more patterned graphic after 1st of August"
   ]
  },
  {
   "cell_type": "markdown",
   "id": "0d214375",
   "metadata": {},
   "source": [
    "<div class=\"alert alert-block alert-warning\">\n",
    "<b> Comentário do revisor: </b> <a class=\"tocSkip\"></a>\n",
    "\n",
    "O que você vai fazer com os valores dupicados?\n",
    "</div>\n"
   ]
  },
  {
   "cell_type": "markdown",
   "id": "0593c270-5d21-4087-8fec-079a1c310022",
   "metadata": {},
   "source": [
    "# Data Analysis"
   ]
  },
  {
   "cell_type": "markdown",
   "id": "73baa71c-61f0-46ed-af58-a6f7216bf5fc",
   "metadata": {},
   "source": [
    "## Quantos eventos ficam nos diários?\n"
   ]
  },
  {
   "cell_type": "code",
   "execution_count": 101,
   "id": "0e813e17-2593-4b89-a112-8a6575c6cf23",
   "metadata": {},
   "outputs": [
    {
     "data": {
      "text/plain": [
       "MainScreenAppear           119205\n",
       "OffersScreenAppear          46825\n",
       "CartScreenAppear            42731\n",
       "PaymentScreenSuccessful     34313\n",
       "Tutorial                     1052\n",
       "Name: event, dtype: int64"
      ]
     },
     "execution_count": 101,
     "metadata": {},
     "output_type": "execute_result"
    }
   ],
   "source": [
    "#counting events\n",
    "log['event'].value_counts()"
   ]
  },
  {
   "cell_type": "code",
   "execution_count": 102,
   "id": "997b6f5d-33bb-49e1-ad31-033a155adace",
   "metadata": {},
   "outputs": [
    {
     "data": {
      "text/plain": [
       "244126"
      ]
     },
     "execution_count": 102,
     "metadata": {},
     "output_type": "execute_result"
    }
   ],
   "source": [
    "#adding events\n",
    "total_events = log['event'].value_counts().sum()\n",
    "total_events"
   ]
  },
  {
   "cell_type": "markdown",
   "id": "28ae606c-04c2-4bc2-9e5f-4656747f7cee",
   "metadata": {},
   "source": [
    "    There are 244126 daily events"
   ]
  },
  {
   "cell_type": "markdown",
   "id": "b26e19da",
   "metadata": {},
   "source": [
    "<div class=\"alert alert-block alert-success\">\n",
    "<b> Comentário do revisor: </b> <a class=\"tocSkip\"></a>\n",
    "\n",
    "Correto\n",
    "</div>\n"
   ]
  },
  {
   "cell_type": "markdown",
   "id": "26edd35e-a0ce-48f6-a2b7-ac2aa1dd9f2f",
   "metadata": {},
   "source": [
    "## Quantos usuários ficam nos diários?"
   ]
  },
  {
   "cell_type": "code",
   "execution_count": 106,
   "id": "eb7490bd-1e25-4d89-97a7-f46679d543b2",
   "metadata": {},
   "outputs": [
    {
     "data": {
      "text/html": [
       "<div>\n",
       "<style scoped>\n",
       "    .dataframe tbody tr th:only-of-type {\n",
       "        vertical-align: middle;\n",
       "    }\n",
       "\n",
       "    .dataframe tbody tr th {\n",
       "        vertical-align: top;\n",
       "    }\n",
       "\n",
       "    .dataframe thead th {\n",
       "        text-align: right;\n",
       "    }\n",
       "</style>\n",
       "<table border=\"1\" class=\"dataframe\">\n",
       "  <thead>\n",
       "    <tr style=\"text-align: right;\">\n",
       "      <th></th>\n",
       "      <th>index</th>\n",
       "      <th>device_id</th>\n",
       "    </tr>\n",
       "  </thead>\n",
       "  <tbody>\n",
       "    <tr>\n",
       "      <th>0</th>\n",
       "      <td>True</td>\n",
       "      <td>236575</td>\n",
       "    </tr>\n",
       "    <tr>\n",
       "      <th>1</th>\n",
       "      <td>False</td>\n",
       "      <td>7551</td>\n",
       "    </tr>\n",
       "  </tbody>\n",
       "</table>\n",
       "</div>"
      ],
      "text/plain": [
       "   index  device_id\n",
       "0   True     236575\n",
       "1  False       7551"
      ]
     },
     "execution_count": 106,
     "metadata": {},
     "output_type": "execute_result"
    }
   ],
   "source": [
    "#counting users \n",
    "users = log['device_id'].duplicated().value_counts().reset_index()\n",
    "users"
   ]
  },
  {
   "cell_type": "markdown",
   "id": "48702c4a",
   "metadata": {},
   "source": [
    "<div class=\"alert alert-block alert-success\">\n",
    "<b> Comentário do revisor: </b> <a class=\"tocSkip\"></a>\n",
    "\n",
    "Correto, mas você pode usar nunique(). Veja código abaixo\n",
    "</div>\n"
   ]
  },
  {
   "cell_type": "code",
   "execution_count": 108,
   "id": "6cd6a31a-5faf-412f-8a72-ebfd40d1140c",
   "metadata": {},
   "outputs": [
    {
     "data": {
      "text/plain": [
       "7551"
      ]
     },
     "execution_count": 108,
     "metadata": {},
     "output_type": "execute_result"
    }
   ],
   "source": [
    " log['device_id'].nunique()"
   ]
  },
  {
   "cell_type": "markdown",
   "id": "e78fc93d-d306-414a-96c7-f241bd478e64",
   "metadata": {},
   "source": [
    "    there are 7551 users"
   ]
  },
  {
   "cell_type": "markdown",
   "id": "6dae246b-2135-4698-8d57-2debe400878e",
   "metadata": {},
   "source": [
    "## Qual é o número médio de eventos por usuário?"
   ]
  },
  {
   "cell_type": "markdown",
   "id": "ab0651a7",
   "metadata": {},
   "source": [
    "<div class=\"alert alert-block alert-success\">\n",
    "<b> Comentário do revisor: </b> <a class=\"tocSkip\"></a>\n",
    "\n",
    "Você pode contar os eventos e dividir pelo número de usuários: \n",
    "    \n",
    "-`len(log)/ log['device_id'].nunique()`\n",
    "-`log['event'].value_counts() / log['device_id'].nunique()`    \n",
    "</div>\n"
   ]
  },
  {
   "cell_type": "code",
   "execution_count": 190,
   "id": "76538ca0",
   "metadata": {},
   "outputs": [
    {
     "data": {
      "text/html": [
       "<div>\n",
       "<style scoped>\n",
       "    .dataframe tbody tr th:only-of-type {\n",
       "        vertical-align: middle;\n",
       "    }\n",
       "\n",
       "    .dataframe tbody tr th {\n",
       "        vertical-align: top;\n",
       "    }\n",
       "\n",
       "    .dataframe thead th {\n",
       "        text-align: right;\n",
       "    }\n",
       "</style>\n",
       "<table border=\"1\" class=\"dataframe\">\n",
       "  <thead>\n",
       "    <tr style=\"text-align: right;\">\n",
       "      <th></th>\n",
       "      <th>index</th>\n",
       "      <th>avg</th>\n",
       "    </tr>\n",
       "  </thead>\n",
       "  <tbody>\n",
       "    <tr>\n",
       "      <th>0</th>\n",
       "      <td>MainScreenAppear</td>\n",
       "      <td>16.54</td>\n",
       "    </tr>\n",
       "    <tr>\n",
       "      <th>1</th>\n",
       "      <td>OffersScreenAppear</td>\n",
       "      <td>26.13</td>\n",
       "    </tr>\n",
       "    <tr>\n",
       "      <th>2</th>\n",
       "      <td>CartScreenAppear</td>\n",
       "      <td>26.67</td>\n",
       "    </tr>\n",
       "    <tr>\n",
       "      <th>3</th>\n",
       "      <td>PaymentScreenSuccessful</td>\n",
       "      <td>27.79</td>\n",
       "    </tr>\n",
       "    <tr>\n",
       "      <th>4</th>\n",
       "      <td>Tutorial</td>\n",
       "      <td>32.19</td>\n",
       "    </tr>\n",
       "  </tbody>\n",
       "</table>\n",
       "</div>"
      ],
      "text/plain": [
       "                     index    avg\n",
       "0         MainScreenAppear  16.54\n",
       "1       OffersScreenAppear  26.13\n",
       "2         CartScreenAppear  26.67\n",
       "3  PaymentScreenSuccessful  27.79\n",
       "4                 Tutorial  32.19"
      ]
     },
     "execution_count": 190,
     "metadata": {},
     "output_type": "execute_result"
    }
   ],
   "source": [
    "#average user per event calculation\n",
    "avg_user_event = (len(log) / log['device_id'].nunique() - log['event'].value_counts() / log['device_id'].nunique()).round(2).reset_index(name='avg')\n",
    "avg_user_event"
   ]
  },
  {
   "cell_type": "markdown",
   "id": "e5baa5db",
   "metadata": {},
   "source": [
    "<div class=\"alert alert-block alert-warning\">\n",
    "<b> Comentário do revisor: </b> <a class=\"tocSkip\"></a>\n",
    "\n",
    "Erro no código\n",
    "</div>\n"
   ]
  },
  {
   "cell_type": "code",
   "execution_count": 193,
   "id": "4a5f76eb-f450-4183-ad1b-e7021ae3999b",
   "metadata": {},
   "outputs": [
    {
     "data": {
      "image/png": "[encoded data removed]",
      "text/plain": [
       "<Figure size 864x576 with 1 Axes>"
      ]
     },
     "metadata": {
      "needs_background": "light"
     },
     "output_type": "display_data"
    }
   ],
   "source": [
    "plt.figure(figsize=(12,8))\n",
    "sns.barplot(data=avg_user_event, x='index', y='avg')\n",
    "for index, value in enumerate(avg_user_event['avg']):\n",
    "    plt.text(index, value + 0.1, str(value), ha='center', va='bottom')\n",
    "plt.show()"
   ]
  },
  {
   "cell_type": "markdown",
   "id": "fad2f3da-97fd-48aa-91ac-839e8626b663",
   "metadata": {
    "tags": []
   },
   "source": [
    "## Qual é o período de tempo que os dados cobrem? Encontre a data máxima e mínima"
   ]
  },
  {
   "cell_type": "code",
   "execution_count": 195,
   "id": "fdcb5aac-c0e1-46c6-9e1e-4fe44c8e1d56",
   "metadata": {},
   "outputs": [
    {
     "data": {
      "text/plain": [
       "Timestamp('2019-08-07 00:00:00')"
      ]
     },
     "execution_count": 195,
     "metadata": {},
     "output_type": "execute_result"
    }
   ],
   "source": [
    "#max date\n",
    "log['date'].max()"
   ]
  },
  {
   "cell_type": "code",
   "execution_count": 197,
   "id": "721cfb6b-8302-4030-a084-9843b0c06398",
   "metadata": {},
   "outputs": [
    {
     "data": {
      "text/plain": [
       "Timestamp('2019-07-25 00:00:00')"
      ]
     },
     "execution_count": 197,
     "metadata": {},
     "output_type": "execute_result"
    }
   ],
   "source": [
    "#min date\n",
    "log['date'].min()"
   ]
  },
  {
   "cell_type": "code",
   "execution_count": 299,
   "id": "0ddcf1d6-2d99-40fc-b618-a70f0bf0a58b",
   "metadata": {},
   "outputs": [
    {
     "data": {
      "text/plain": [
       "Timedelta('13 days 00:00:00')"
      ]
     },
     "execution_count": 299,
     "metadata": {},
     "output_type": "execute_result"
    }
   ],
   "source": [
    "log['date'].max() - log['date'].min()"
   ]
  },
  {
   "cell_type": "markdown",
   "id": "5e621db2-3f95-4a7b-95ed-1c4f5acc7112",
   "metadata": {},
   "source": [
    "    period of 13 days"
   ]
  },
  {
   "cell_type": "markdown",
   "id": "5fbba430-08f4-488a-a1fd-5bace8e6ad5a",
   "metadata": {},
   "source": [
    "## Desenhe um histograma por data e hora."
   ]
  },
  {
   "cell_type": "code",
   "execution_count": 201,
   "id": "a082d119-f8ba-4131-9b8d-93173afeaa55",
   "metadata": {},
   "outputs": [
    {
     "data": {
      "text/html": [
       "<div>\n",
       "<style scoped>\n",
       "    .dataframe tbody tr th:only-of-type {\n",
       "        vertical-align: middle;\n",
       "    }\n",
       "\n",
       "    .dataframe tbody tr th {\n",
       "        vertical-align: top;\n",
       "    }\n",
       "\n",
       "    .dataframe thead th {\n",
       "        text-align: right;\n",
       "    }\n",
       "</style>\n",
       "<table border=\"1\" class=\"dataframe\">\n",
       "  <thead>\n",
       "    <tr style=\"text-align: right;\">\n",
       "      <th></th>\n",
       "      <th>event</th>\n",
       "      <th>device_id</th>\n",
       "      <th>timestamp</th>\n",
       "      <th>exp_id</th>\n",
       "      <th>datetime</th>\n",
       "      <th>date</th>\n",
       "      <th>time</th>\n",
       "      <th>month</th>\n",
       "    </tr>\n",
       "  </thead>\n",
       "  <tbody>\n",
       "    <tr>\n",
       "      <th>0</th>\n",
       "      <td>MainScreenAppear</td>\n",
       "      <td>4575588528974610257</td>\n",
       "      <td>1564029816</td>\n",
       "      <td>246</td>\n",
       "      <td>2019-07-25 04:43:36</td>\n",
       "      <td>2019-07-25</td>\n",
       "      <td>04:43:36</td>\n",
       "      <td>7</td>\n",
       "    </tr>\n",
       "    <tr>\n",
       "      <th>1</th>\n",
       "      <td>MainScreenAppear</td>\n",
       "      <td>7416695313311560658</td>\n",
       "      <td>1564053102</td>\n",
       "      <td>246</td>\n",
       "      <td>2019-07-25 11:11:42</td>\n",
       "      <td>2019-07-25</td>\n",
       "      <td>11:11:42</td>\n",
       "      <td>7</td>\n",
       "    </tr>\n",
       "    <tr>\n",
       "      <th>2</th>\n",
       "      <td>PaymentScreenSuccessful</td>\n",
       "      <td>3518123091307005509</td>\n",
       "      <td>1564054127</td>\n",
       "      <td>248</td>\n",
       "      <td>2019-07-25 11:28:47</td>\n",
       "      <td>2019-07-25</td>\n",
       "      <td>11:28:47</td>\n",
       "      <td>7</td>\n",
       "    </tr>\n",
       "    <tr>\n",
       "      <th>3</th>\n",
       "      <td>CartScreenAppear</td>\n",
       "      <td>3518123091307005509</td>\n",
       "      <td>1564054127</td>\n",
       "      <td>248</td>\n",
       "      <td>2019-07-25 11:28:47</td>\n",
       "      <td>2019-07-25</td>\n",
       "      <td>11:28:47</td>\n",
       "      <td>7</td>\n",
       "    </tr>\n",
       "    <tr>\n",
       "      <th>4</th>\n",
       "      <td>PaymentScreenSuccessful</td>\n",
       "      <td>6217807653094995999</td>\n",
       "      <td>1564055322</td>\n",
       "      <td>248</td>\n",
       "      <td>2019-07-25 11:48:42</td>\n",
       "      <td>2019-07-25</td>\n",
       "      <td>11:48:42</td>\n",
       "      <td>7</td>\n",
       "    </tr>\n",
       "  </tbody>\n",
       "</table>\n",
       "</div>"
      ],
      "text/plain": [
       "                     event            device_id   timestamp  exp_id  \\\n",
       "0         MainScreenAppear  4575588528974610257  1564029816     246   \n",
       "1         MainScreenAppear  7416695313311560658  1564053102     246   \n",
       "2  PaymentScreenSuccessful  3518123091307005509  1564054127     248   \n",
       "3         CartScreenAppear  3518123091307005509  1564054127     248   \n",
       "4  PaymentScreenSuccessful  6217807653094995999  1564055322     248   \n",
       "\n",
       "             datetime       date      time  month  \n",
       "0 2019-07-25 04:43:36 2019-07-25  04:43:36      7  \n",
       "1 2019-07-25 11:11:42 2019-07-25  11:11:42      7  \n",
       "2 2019-07-25 11:28:47 2019-07-25  11:28:47      7  \n",
       "3 2019-07-25 11:28:47 2019-07-25  11:28:47      7  \n",
       "4 2019-07-25 11:48:42 2019-07-25  11:48:42      7  "
      ]
     },
     "execution_count": 201,
     "metadata": {},
     "output_type": "execute_result"
    }
   ],
   "source": [
    "log.head()"
   ]
  },
  {
   "cell_type": "code",
   "execution_count": 304,
   "id": "7f3e58b3-aa91-49b3-9090-6f0a40ff5ce0",
   "metadata": {},
   "outputs": [],
   "source": [
    "#datetime event plot\n",
    "#fig, ax = plt.subplots(figsize=(12,8))\n",
    "#sns.histplot(data=log, x='datetime', y='event', hue='event', ax=ax)\n",
    "#plt.xticks(rotation=45)\n",
    "#plt.show()"
   ]
  },
  {
   "cell_type": "markdown",
   "id": "8113f3aa",
   "metadata": {},
   "source": [
    "<div class=\"alert alert-block alert-danger\">\n",
    "<b> Comentário do revisor: </b> <a class=\"tocSkip\"></a>\n",
    "\n",
    "Oriento usar seaborn ou algo simples. Veja código abaixo\n",
    "</div>\n"
   ]
  },
  {
   "cell_type": "code",
   "execution_count": 206,
   "id": "f46229ca",
   "metadata": {},
   "outputs": [
    {
     "data": {
      "image/png": "[encoded data removed]",
      "text/plain": [
       "<Figure size 864x576 with 1 Axes>"
      ]
     },
     "metadata": {
      "needs_background": "light"
     },
     "output_type": "display_data"
    }
   ],
   "source": [
    "#datetime histogram\n",
    "log['datetime'].hist(figsize=(12,8))\n",
    "plt.xticks(rotation=45)\n",
    "plt.show()"
   ]
  },
  {
   "cell_type": "markdown",
   "id": "46dfcf61-9718-4723-9578-f6d4891096bb",
   "metadata": {},
   "source": [
    "    Some data missing from before 1st of August"
   ]
  },
  {
   "cell_type": "markdown",
   "id": "12b1ff93-cb1c-4564-b596-741550cdfb2f",
   "metadata": {},
   "source": [
    "## Você perdeu muitos eventos e usuários ao excluir os dados mais antigos? Certifique-se de ter usuários de todos os três grupos experimentais."
   ]
  },
  {
   "cell_type": "code",
   "execution_count": 210,
   "id": "806fdd80-8427-446e-9589-08e37fff71f1",
   "metadata": {},
   "outputs": [
    {
     "data": {
      "text/html": [
       "<div>\n",
       "<style scoped>\n",
       "    .dataframe tbody tr th:only-of-type {\n",
       "        vertical-align: middle;\n",
       "    }\n",
       "\n",
       "    .dataframe tbody tr th {\n",
       "        vertical-align: top;\n",
       "    }\n",
       "\n",
       "    .dataframe thead th {\n",
       "        text-align: right;\n",
       "    }\n",
       "</style>\n",
       "<table border=\"1\" class=\"dataframe\">\n",
       "  <thead>\n",
       "    <tr style=\"text-align: right;\">\n",
       "      <th></th>\n",
       "      <th>exp_id</th>\n",
       "      <th>device_id</th>\n",
       "    </tr>\n",
       "  </thead>\n",
       "  <tbody>\n",
       "    <tr>\n",
       "      <th>0</th>\n",
       "      <td>246</td>\n",
       "      <td>2489</td>\n",
       "    </tr>\n",
       "    <tr>\n",
       "      <th>1</th>\n",
       "      <td>247</td>\n",
       "      <td>2520</td>\n",
       "    </tr>\n",
       "    <tr>\n",
       "      <th>2</th>\n",
       "      <td>248</td>\n",
       "      <td>2542</td>\n",
       "    </tr>\n",
       "  </tbody>\n",
       "</table>\n",
       "</div>"
      ],
      "text/plain": [
       "   exp_id  device_id\n",
       "0     246       2489\n",
       "1     247       2520\n",
       "2     248       2542"
      ]
     },
     "execution_count": 210,
     "metadata": {},
     "output_type": "execute_result"
    }
   ],
   "source": [
    "exp_group_log = log.groupby('exp_id')['device_id'].nunique().reset_index()\n",
    "exp_group_log"
   ]
  },
  {
   "cell_type": "code",
   "execution_count": 212,
   "id": "bcdd01ce-0f6a-4503-a67f-fa06dfef05f8",
   "metadata": {},
   "outputs": [],
   "source": [
    "#filtering data to August\n",
    "aug_log = log.query('date > \"2019-08-01\"')"
   ]
  },
  {
   "cell_type": "code",
   "execution_count": 214,
   "id": "e4d7bfe1-3b53-45c3-b00a-a2bd3be73e35",
   "metadata": {},
   "outputs": [
    {
     "data": {
      "text/html": [
       "<div>\n",
       "<style scoped>\n",
       "    .dataframe tbody tr th:only-of-type {\n",
       "        vertical-align: middle;\n",
       "    }\n",
       "\n",
       "    .dataframe tbody tr th {\n",
       "        vertical-align: top;\n",
       "    }\n",
       "\n",
       "    .dataframe thead th {\n",
       "        text-align: right;\n",
       "    }\n",
       "</style>\n",
       "<table border=\"1\" class=\"dataframe\">\n",
       "  <thead>\n",
       "    <tr style=\"text-align: right;\">\n",
       "      <th></th>\n",
       "      <th>event</th>\n",
       "      <th>device_id</th>\n",
       "      <th>timestamp</th>\n",
       "      <th>exp_id</th>\n",
       "      <th>datetime</th>\n",
       "      <th>date</th>\n",
       "      <th>time</th>\n",
       "      <th>month</th>\n",
       "    </tr>\n",
       "  </thead>\n",
       "  <tbody>\n",
       "    <tr>\n",
       "      <th>39057</th>\n",
       "      <td>CartScreenAppear</td>\n",
       "      <td>6304868067479728361</td>\n",
       "      <td>1564704000</td>\n",
       "      <td>248</td>\n",
       "      <td>2019-08-02 00:00:00</td>\n",
       "      <td>2019-08-02</td>\n",
       "      <td>00:00:00</td>\n",
       "      <td>8</td>\n",
       "    </tr>\n",
       "    <tr>\n",
       "      <th>39058</th>\n",
       "      <td>MainScreenAppear</td>\n",
       "      <td>6077372516405234625</td>\n",
       "      <td>1564704008</td>\n",
       "      <td>246</td>\n",
       "      <td>2019-08-02 00:00:08</td>\n",
       "      <td>2019-08-02</td>\n",
       "      <td>00:00:08</td>\n",
       "      <td>8</td>\n",
       "    </tr>\n",
       "    <tr>\n",
       "      <th>39059</th>\n",
       "      <td>PaymentScreenSuccessful</td>\n",
       "      <td>6304868067479728361</td>\n",
       "      <td>1564704018</td>\n",
       "      <td>248</td>\n",
       "      <td>2019-08-02 00:00:18</td>\n",
       "      <td>2019-08-02</td>\n",
       "      <td>00:00:18</td>\n",
       "      <td>8</td>\n",
       "    </tr>\n",
       "    <tr>\n",
       "      <th>39060</th>\n",
       "      <td>CartScreenAppear</td>\n",
       "      <td>6304868067479728361</td>\n",
       "      <td>1564704019</td>\n",
       "      <td>248</td>\n",
       "      <td>2019-08-02 00:00:19</td>\n",
       "      <td>2019-08-02</td>\n",
       "      <td>00:00:19</td>\n",
       "      <td>8</td>\n",
       "    </tr>\n",
       "    <tr>\n",
       "      <th>39061</th>\n",
       "      <td>PaymentScreenSuccessful</td>\n",
       "      <td>6304868067479728361</td>\n",
       "      <td>1564704032</td>\n",
       "      <td>248</td>\n",
       "      <td>2019-08-02 00:00:32</td>\n",
       "      <td>2019-08-02</td>\n",
       "      <td>00:00:32</td>\n",
       "      <td>8</td>\n",
       "    </tr>\n",
       "  </tbody>\n",
       "</table>\n",
       "</div>"
      ],
      "text/plain": [
       "                         event            device_id   timestamp  exp_id  \\\n",
       "39057         CartScreenAppear  6304868067479728361  1564704000     248   \n",
       "39058         MainScreenAppear  6077372516405234625  1564704008     246   \n",
       "39059  PaymentScreenSuccessful  6304868067479728361  1564704018     248   \n",
       "39060         CartScreenAppear  6304868067479728361  1564704019     248   \n",
       "39061  PaymentScreenSuccessful  6304868067479728361  1564704032     248   \n",
       "\n",
       "                 datetime       date      time  month  \n",
       "39057 2019-08-02 00:00:00 2019-08-02  00:00:00      8  \n",
       "39058 2019-08-02 00:00:08 2019-08-02  00:00:08      8  \n",
       "39059 2019-08-02 00:00:18 2019-08-02  00:00:18      8  \n",
       "39060 2019-08-02 00:00:19 2019-08-02  00:00:19      8  \n",
       "39061 2019-08-02 00:00:32 2019-08-02  00:00:32      8  "
      ]
     },
     "execution_count": 214,
     "metadata": {},
     "output_type": "execute_result"
    }
   ],
   "source": [
    "aug_log.head()"
   ]
  },
  {
   "cell_type": "code",
   "execution_count": 216,
   "id": "8d523362-7309-478e-b499-343a3136c3af",
   "metadata": {},
   "outputs": [
    {
     "data": {
      "text/html": [
       "<div>\n",
       "<style scoped>\n",
       "    .dataframe tbody tr th:only-of-type {\n",
       "        vertical-align: middle;\n",
       "    }\n",
       "\n",
       "    .dataframe tbody tr th {\n",
       "        vertical-align: top;\n",
       "    }\n",
       "\n",
       "    .dataframe thead th {\n",
       "        text-align: right;\n",
       "    }\n",
       "</style>\n",
       "<table border=\"1\" class=\"dataframe\">\n",
       "  <thead>\n",
       "    <tr style=\"text-align: right;\">\n",
       "      <th></th>\n",
       "      <th>exp_id</th>\n",
       "      <th>device_id</th>\n",
       "    </tr>\n",
       "  </thead>\n",
       "  <tbody>\n",
       "    <tr>\n",
       "      <th>0</th>\n",
       "      <td>246</td>\n",
       "      <td>2393</td>\n",
       "    </tr>\n",
       "    <tr>\n",
       "      <th>1</th>\n",
       "      <td>247</td>\n",
       "      <td>2434</td>\n",
       "    </tr>\n",
       "    <tr>\n",
       "      <th>2</th>\n",
       "      <td>248</td>\n",
       "      <td>2459</td>\n",
       "    </tr>\n",
       "  </tbody>\n",
       "</table>\n",
       "</div>"
      ],
      "text/plain": [
       "   exp_id  device_id\n",
       "0     246       2393\n",
       "1     247       2434\n",
       "2     248       2459"
      ]
     },
     "execution_count": 216,
     "metadata": {},
     "output_type": "execute_result"
    }
   ],
   "source": [
    "#experience group distribuiton\n",
    "exp_group = aug_log.groupby('exp_id')['device_id'].nunique().reset_index()\n",
    "exp_group"
   ]
  },
  {
   "cell_type": "code",
   "execution_count": 218,
   "id": "ec69e87e-bb1a-4abd-8bd6-2ce397f85556",
   "metadata": {},
   "outputs": [
    {
     "data": {
      "text/html": [
       "<div>\n",
       "<style scoped>\n",
       "    .dataframe tbody tr th:only-of-type {\n",
       "        vertical-align: middle;\n",
       "    }\n",
       "\n",
       "    .dataframe tbody tr th {\n",
       "        vertical-align: top;\n",
       "    }\n",
       "\n",
       "    .dataframe thead th {\n",
       "        text-align: right;\n",
       "    }\n",
       "</style>\n",
       "<table border=\"1\" class=\"dataframe\">\n",
       "  <thead>\n",
       "    <tr style=\"text-align: right;\">\n",
       "      <th></th>\n",
       "      <th>exp_id</th>\n",
       "      <th>device_id</th>\n",
       "      <th>lost_users</th>\n",
       "    </tr>\n",
       "  </thead>\n",
       "  <tbody>\n",
       "    <tr>\n",
       "      <th>0</th>\n",
       "      <td>246</td>\n",
       "      <td>2393</td>\n",
       "      <td>96</td>\n",
       "    </tr>\n",
       "    <tr>\n",
       "      <th>1</th>\n",
       "      <td>247</td>\n",
       "      <td>2434</td>\n",
       "      <td>86</td>\n",
       "    </tr>\n",
       "    <tr>\n",
       "      <th>2</th>\n",
       "      <td>248</td>\n",
       "      <td>2459</td>\n",
       "      <td>83</td>\n",
       "    </tr>\n",
       "  </tbody>\n",
       "</table>\n",
       "</div>"
      ],
      "text/plain": [
       "   exp_id  device_id  lost_users\n",
       "0     246       2393          96\n",
       "1     247       2434          86\n",
       "2     248       2459          83"
      ]
     },
     "execution_count": 218,
     "metadata": {},
     "output_type": "execute_result"
    }
   ],
   "source": [
    "exp_group['lost_users'] = exp_group_log['device_id'] - exp_group['device_id']\n",
    "exp_group"
   ]
  },
  {
   "cell_type": "code",
   "execution_count": 220,
   "id": "889ec29b-8a8c-410c-a4f9-804cbe8d77cf",
   "metadata": {
    "jupyter": {
     "source_hidden": true
    },
    "tags": []
   },
   "outputs": [],
   "source": [
    "#experience group distribuiton plot\n",
    "#fig, ax = plt.subplots(figsize=(12,8))\n",
    "#sns.barplot(data=exp_group, x='exp_id',y='device_id')\n",
    "#plt.title('Experience Groups Size')\n",
    "#plt.show()"
   ]
  },
  {
   "cell_type": "code",
   "execution_count": 222,
   "id": "a02a11ec-75c5-464f-b4d3-522b89ada30e",
   "metadata": {},
   "outputs": [
    {
     "data": {
      "text/plain": [
       "265"
      ]
     },
     "execution_count": 222,
     "metadata": {},
     "output_type": "execute_result"
    }
   ],
   "source": [
    "exp_group['lost_users'].sum()"
   ]
  },
  {
   "cell_type": "markdown",
   "id": "4d7528c7-9fb3-445c-a45a-e2c0f819b297",
   "metadata": {},
   "source": [
    "    only 265 users were lost from filtering data"
   ]
  },
  {
   "cell_type": "markdown",
   "id": "4dbddf8a",
   "metadata": {},
   "source": [
    "<div class=\"alert alert-block alert-danger\">\n",
    "<b> Comentário do revisor: </b> <a class=\"tocSkip\"></a>\n",
    "\n",
    "Precisamos responder a pergunta: perdeu muitos usuários e eventos?\n",
    "</div>\n"
   ]
  },
  {
   "cell_type": "markdown",
   "id": "980e3fde-3b57-4ebf-995a-19e3e6de40f2",
   "metadata": {},
   "source": [
    "## Veja quais eventos estão nos diários e sua frequência de ocorrência. Classifique-os por frequência."
   ]
  },
  {
   "cell_type": "code",
   "execution_count": 227,
   "id": "1c6e7182-2e80-4dcc-8a84-12afd5e57eb4",
   "metadata": {},
   "outputs": [
    {
     "data": {
      "text/plain": [
       "MainScreenAppear           99474\n",
       "OffersScreenAppear         39359\n",
       "CartScreenAppear           36134\n",
       "PaymentScreenSuccessful    29311\n",
       "Tutorial                     791\n",
       "Name: event, dtype: int64"
      ]
     },
     "execution_count": 227,
     "metadata": {},
     "output_type": "execute_result"
    }
   ],
   "source": [
    "aug_log['event'].value_counts()"
   ]
  },
  {
   "cell_type": "code",
   "execution_count": 229,
   "id": "b9b0b059-377e-4ca3-a929-f2c8ee2ec586",
   "metadata": {},
   "outputs": [
    {
     "data": {
      "text/html": [
       "<div>\n",
       "<style scoped>\n",
       "    .dataframe tbody tr th:only-of-type {\n",
       "        vertical-align: middle;\n",
       "    }\n",
       "\n",
       "    .dataframe tbody tr th {\n",
       "        vertical-align: top;\n",
       "    }\n",
       "\n",
       "    .dataframe thead th {\n",
       "        text-align: right;\n",
       "    }\n",
       "</style>\n",
       "<table border=\"1\" class=\"dataframe\">\n",
       "  <thead>\n",
       "    <tr style=\"text-align: right;\">\n",
       "      <th></th>\n",
       "      <th>event</th>\n",
       "      <th>device_id</th>\n",
       "      <th>timestamp</th>\n",
       "      <th>exp_id</th>\n",
       "      <th>datetime</th>\n",
       "      <th>date</th>\n",
       "      <th>time</th>\n",
       "      <th>month</th>\n",
       "    </tr>\n",
       "  </thead>\n",
       "  <tbody>\n",
       "    <tr>\n",
       "      <th>39057</th>\n",
       "      <td>CartScreenAppear</td>\n",
       "      <td>6304868067479728361</td>\n",
       "      <td>1564704000</td>\n",
       "      <td>248</td>\n",
       "      <td>2019-08-02 00:00:00</td>\n",
       "      <td>2019-08-02</td>\n",
       "      <td>00:00:00</td>\n",
       "      <td>8</td>\n",
       "    </tr>\n",
       "    <tr>\n",
       "      <th>39058</th>\n",
       "      <td>MainScreenAppear</td>\n",
       "      <td>6077372516405234625</td>\n",
       "      <td>1564704008</td>\n",
       "      <td>246</td>\n",
       "      <td>2019-08-02 00:00:08</td>\n",
       "      <td>2019-08-02</td>\n",
       "      <td>00:00:08</td>\n",
       "      <td>8</td>\n",
       "    </tr>\n",
       "    <tr>\n",
       "      <th>39059</th>\n",
       "      <td>PaymentScreenSuccessful</td>\n",
       "      <td>6304868067479728361</td>\n",
       "      <td>1564704018</td>\n",
       "      <td>248</td>\n",
       "      <td>2019-08-02 00:00:18</td>\n",
       "      <td>2019-08-02</td>\n",
       "      <td>00:00:18</td>\n",
       "      <td>8</td>\n",
       "    </tr>\n",
       "    <tr>\n",
       "      <th>39060</th>\n",
       "      <td>CartScreenAppear</td>\n",
       "      <td>6304868067479728361</td>\n",
       "      <td>1564704019</td>\n",
       "      <td>248</td>\n",
       "      <td>2019-08-02 00:00:19</td>\n",
       "      <td>2019-08-02</td>\n",
       "      <td>00:00:19</td>\n",
       "      <td>8</td>\n",
       "    </tr>\n",
       "    <tr>\n",
       "      <th>39061</th>\n",
       "      <td>PaymentScreenSuccessful</td>\n",
       "      <td>6304868067479728361</td>\n",
       "      <td>1564704032</td>\n",
       "      <td>248</td>\n",
       "      <td>2019-08-02 00:00:32</td>\n",
       "      <td>2019-08-02</td>\n",
       "      <td>00:00:32</td>\n",
       "      <td>8</td>\n",
       "    </tr>\n",
       "    <tr>\n",
       "      <th>...</th>\n",
       "      <td>...</td>\n",
       "      <td>...</td>\n",
       "      <td>...</td>\n",
       "      <td>...</td>\n",
       "      <td>...</td>\n",
       "      <td>...</td>\n",
       "      <td>...</td>\n",
       "      <td>...</td>\n",
       "    </tr>\n",
       "    <tr>\n",
       "      <th>244121</th>\n",
       "      <td>MainScreenAppear</td>\n",
       "      <td>4599628364049201812</td>\n",
       "      <td>1565212345</td>\n",
       "      <td>247</td>\n",
       "      <td>2019-08-07 21:12:25</td>\n",
       "      <td>2019-08-07</td>\n",
       "      <td>21:12:25</td>\n",
       "      <td>8</td>\n",
       "    </tr>\n",
       "    <tr>\n",
       "      <th>244122</th>\n",
       "      <td>MainScreenAppear</td>\n",
       "      <td>5849806612437486590</td>\n",
       "      <td>1565212439</td>\n",
       "      <td>246</td>\n",
       "      <td>2019-08-07 21:13:59</td>\n",
       "      <td>2019-08-07</td>\n",
       "      <td>21:13:59</td>\n",
       "      <td>8</td>\n",
       "    </tr>\n",
       "    <tr>\n",
       "      <th>244123</th>\n",
       "      <td>MainScreenAppear</td>\n",
       "      <td>5746969938801999050</td>\n",
       "      <td>1565212483</td>\n",
       "      <td>246</td>\n",
       "      <td>2019-08-07 21:14:43</td>\n",
       "      <td>2019-08-07</td>\n",
       "      <td>21:14:43</td>\n",
       "      <td>8</td>\n",
       "    </tr>\n",
       "    <tr>\n",
       "      <th>244124</th>\n",
       "      <td>MainScreenAppear</td>\n",
       "      <td>5746969938801999050</td>\n",
       "      <td>1565212498</td>\n",
       "      <td>246</td>\n",
       "      <td>2019-08-07 21:14:58</td>\n",
       "      <td>2019-08-07</td>\n",
       "      <td>21:14:58</td>\n",
       "      <td>8</td>\n",
       "    </tr>\n",
       "    <tr>\n",
       "      <th>244125</th>\n",
       "      <td>OffersScreenAppear</td>\n",
       "      <td>5746969938801999050</td>\n",
       "      <td>1565212517</td>\n",
       "      <td>246</td>\n",
       "      <td>2019-08-07 21:15:17</td>\n",
       "      <td>2019-08-07</td>\n",
       "      <td>21:15:17</td>\n",
       "      <td>8</td>\n",
       "    </tr>\n",
       "  </tbody>\n",
       "</table>\n",
       "<p>205069 rows × 8 columns</p>\n",
       "</div>"
      ],
      "text/plain": [
       "                          event            device_id   timestamp  exp_id  \\\n",
       "39057          CartScreenAppear  6304868067479728361  1564704000     248   \n",
       "39058          MainScreenAppear  6077372516405234625  1564704008     246   \n",
       "39059   PaymentScreenSuccessful  6304868067479728361  1564704018     248   \n",
       "39060          CartScreenAppear  6304868067479728361  1564704019     248   \n",
       "39061   PaymentScreenSuccessful  6304868067479728361  1564704032     248   \n",
       "...                         ...                  ...         ...     ...   \n",
       "244121         MainScreenAppear  4599628364049201812  1565212345     247   \n",
       "244122         MainScreenAppear  5849806612437486590  1565212439     246   \n",
       "244123         MainScreenAppear  5746969938801999050  1565212483     246   \n",
       "244124         MainScreenAppear  5746969938801999050  1565212498     246   \n",
       "244125       OffersScreenAppear  5746969938801999050  1565212517     246   \n",
       "\n",
       "                  datetime       date      time  month  \n",
       "39057  2019-08-02 00:00:00 2019-08-02  00:00:00      8  \n",
       "39058  2019-08-02 00:00:08 2019-08-02  00:00:08      8  \n",
       "39059  2019-08-02 00:00:18 2019-08-02  00:00:18      8  \n",
       "39060  2019-08-02 00:00:19 2019-08-02  00:00:19      8  \n",
       "39061  2019-08-02 00:00:32 2019-08-02  00:00:32      8  \n",
       "...                    ...        ...       ...    ...  \n",
       "244121 2019-08-07 21:12:25 2019-08-07  21:12:25      8  \n",
       "244122 2019-08-07 21:13:59 2019-08-07  21:13:59      8  \n",
       "244123 2019-08-07 21:14:43 2019-08-07  21:14:43      8  \n",
       "244124 2019-08-07 21:14:58 2019-08-07  21:14:58      8  \n",
       "244125 2019-08-07 21:15:17 2019-08-07  21:15:17      8  \n",
       "\n",
       "[205069 rows x 8 columns]"
      ]
     },
     "execution_count": 229,
     "metadata": {},
     "output_type": "execute_result"
    }
   ],
   "source": [
    "aug_log"
   ]
  },
  {
   "cell_type": "code",
   "execution_count": 231,
   "id": "978af9ec-ca63-4cef-b15a-56a2029b58dd",
   "metadata": {},
   "outputs": [
    {
     "data": {
      "text/html": [
       "<div>\n",
       "<style scoped>\n",
       "    .dataframe tbody tr th:only-of-type {\n",
       "        vertical-align: middle;\n",
       "    }\n",
       "\n",
       "    .dataframe tbody tr th {\n",
       "        vertical-align: top;\n",
       "    }\n",
       "\n",
       "    .dataframe thead th {\n",
       "        text-align: right;\n",
       "    }\n",
       "</style>\n",
       "<table border=\"1\" class=\"dataframe\">\n",
       "  <thead>\n",
       "    <tr style=\"text-align: right;\">\n",
       "      <th></th>\n",
       "      <th>event</th>\n",
       "      <th>device_id</th>\n",
       "    </tr>\n",
       "  </thead>\n",
       "  <tbody>\n",
       "    <tr>\n",
       "      <th>0</th>\n",
       "      <td>CartScreenAppear</td>\n",
       "      <td>36134</td>\n",
       "    </tr>\n",
       "    <tr>\n",
       "      <th>1</th>\n",
       "      <td>MainScreenAppear</td>\n",
       "      <td>99474</td>\n",
       "    </tr>\n",
       "    <tr>\n",
       "      <th>2</th>\n",
       "      <td>OffersScreenAppear</td>\n",
       "      <td>39359</td>\n",
       "    </tr>\n",
       "    <tr>\n",
       "      <th>3</th>\n",
       "      <td>PaymentScreenSuccessful</td>\n",
       "      <td>29311</td>\n",
       "    </tr>\n",
       "    <tr>\n",
       "      <th>4</th>\n",
       "      <td>Tutorial</td>\n",
       "      <td>791</td>\n",
       "    </tr>\n",
       "  </tbody>\n",
       "</table>\n",
       "</div>"
      ],
      "text/plain": [
       "                     event  device_id\n",
       "0         CartScreenAppear      36134\n",
       "1         MainScreenAppear      99474\n",
       "2       OffersScreenAppear      39359\n",
       "3  PaymentScreenSuccessful      29311\n",
       "4                 Tutorial        791"
      ]
     },
     "execution_count": 231,
     "metadata": {},
     "output_type": "execute_result"
    }
   ],
   "source": [
    "event_id = aug_log.groupby('event')['device_id'].count().reset_index().sort_values(by='event')\n",
    "event_id"
   ]
  },
  {
   "cell_type": "code",
   "execution_count": 233,
   "id": "2993dc7e-95f6-4ecf-a53b-1dd14e709eca",
   "metadata": {},
   "outputs": [
    {
     "data": {
      "text/html": [
       "<div>\n",
       "<style scoped>\n",
       "    .dataframe tbody tr th:only-of-type {\n",
       "        vertical-align: middle;\n",
       "    }\n",
       "\n",
       "    .dataframe tbody tr th {\n",
       "        vertical-align: top;\n",
       "    }\n",
       "\n",
       "    .dataframe thead th {\n",
       "        text-align: right;\n",
       "    }\n",
       "</style>\n",
       "<table border=\"1\" class=\"dataframe\">\n",
       "  <thead>\n",
       "    <tr style=\"text-align: right;\">\n",
       "      <th></th>\n",
       "      <th>event</th>\n",
       "      <th>device_id</th>\n",
       "      <th>ratio</th>\n",
       "    </tr>\n",
       "  </thead>\n",
       "  <tbody>\n",
       "    <tr>\n",
       "      <th>0</th>\n",
       "      <td>CartScreenAppear</td>\n",
       "      <td>36134</td>\n",
       "      <td>17.620411</td>\n",
       "    </tr>\n",
       "    <tr>\n",
       "      <th>1</th>\n",
       "      <td>MainScreenAppear</td>\n",
       "      <td>99474</td>\n",
       "      <td>48.507575</td>\n",
       "    </tr>\n",
       "    <tr>\n",
       "      <th>2</th>\n",
       "      <td>OffersScreenAppear</td>\n",
       "      <td>39359</td>\n",
       "      <td>19.193052</td>\n",
       "    </tr>\n",
       "    <tr>\n",
       "      <th>3</th>\n",
       "      <td>PaymentScreenSuccessful</td>\n",
       "      <td>29311</td>\n",
       "      <td>14.293238</td>\n",
       "    </tr>\n",
       "    <tr>\n",
       "      <th>4</th>\n",
       "      <td>Tutorial</td>\n",
       "      <td>791</td>\n",
       "      <td>0.385724</td>\n",
       "    </tr>\n",
       "  </tbody>\n",
       "</table>\n",
       "</div>"
      ],
      "text/plain": [
       "                     event  device_id      ratio\n",
       "0         CartScreenAppear      36134  17.620411\n",
       "1         MainScreenAppear      99474  48.507575\n",
       "2       OffersScreenAppear      39359  19.193052\n",
       "3  PaymentScreenSuccessful      29311  14.293238\n",
       "4                 Tutorial        791   0.385724"
      ]
     },
     "execution_count": 233,
     "metadata": {},
     "output_type": "execute_result"
    }
   ],
   "source": [
    "event_id['ratio'] = (event_id['device_id']/event_id['device_id'].sum())*100\n",
    "event_id"
   ]
  },
  {
   "cell_type": "code",
   "execution_count": 235,
   "id": "394d0aa2-e2d8-44eb-8151-6ba185d35633",
   "metadata": {
    "tags": []
   },
   "outputs": [
    {
     "data": {
      "text/plain": [
       "205069"
      ]
     },
     "execution_count": 235,
     "metadata": {},
     "output_type": "execute_result"
    }
   ],
   "source": [
    "event_id['device_id'].sum()"
   ]
  },
  {
   "cell_type": "code",
   "execution_count": 237,
   "id": "d137a24f-15fd-4c91-863f-76161956aab4",
   "metadata": {},
   "outputs": [
    {
     "data": {
      "text/plain": [
       "-34.214337613193614"
      ]
     },
     "execution_count": 237,
     "metadata": {},
     "output_type": "execute_result"
    }
   ],
   "source": [
    "#calculating success rate\n",
    "sucess_rate = event_id['ratio'].loc[3] - event_id['ratio'].loc[1]\n",
    "sucess_rate"
   ]
  },
  {
   "cell_type": "code",
   "execution_count": 239,
   "id": "316fdf45-06a7-4d2a-b748-9abb6e16ee7e",
   "metadata": {},
   "outputs": [
    {
     "data": {
      "text/plain": [
       "-29.314523404317576"
      ]
     },
     "execution_count": 239,
     "metadata": {},
     "output_type": "execute_result"
    }
   ],
   "source": [
    "#ratio main screen to offers\n",
    "main_offer = event_id['ratio'].loc[2] - event_id['ratio'].loc[1]\n",
    "main_offer"
   ]
  },
  {
   "cell_type": "code",
   "execution_count": 241,
   "id": "bc3ccfc8-2e14-4449-ad67-e7dc8324a3fa",
   "metadata": {},
   "outputs": [
    {
     "data": {
      "text/plain": [
       "-1.57264140362512"
      ]
     },
     "execution_count": 241,
     "metadata": {},
     "output_type": "execute_result"
    }
   ],
   "source": [
    "#ratio offers to cart\n",
    "offer_cart = event_id['ratio'].loc[0] - event_id['ratio'].loc[2]\n",
    "offer_cart"
   ]
  },
  {
   "cell_type": "code",
   "execution_count": 243,
   "id": "e41f2903-ef0d-401b-9625-967c64a466af",
   "metadata": {},
   "outputs": [
    {
     "data": {
      "text/plain": [
       "-3.3271728052509157"
      ]
     },
     "execution_count": 243,
     "metadata": {},
     "output_type": "execute_result"
    }
   ],
   "source": [
    "#ratio cart to payment\n",
    "cart_payment = event_id['ratio'].loc[3] - event_id['ratio'].loc[0]\n",
    "cart_payment"
   ]
  },
  {
   "cell_type": "code",
   "execution_count": 245,
   "id": "d1971636-d284-428b-accb-a870f1ae622a",
   "metadata": {
    "tags": []
   },
   "outputs": [
    {
     "data": {
      "image/png": "[encoded data removed]",
      "text/plain": [
       "<Figure size 864x576 with 1 Axes>"
      ]
     },
     "metadata": {
      "needs_background": "light"
     },
     "output_type": "display_data"
    }
   ],
   "source": [
    "#event barplot\n",
    "fig, ax = plt.subplots(figsize=(12,8))\n",
    "sns.barplot(data=event_id.sort_values(by='device_id',ascending=False), x='event', y='device_id')\n",
    "plt.show()"
   ]
  },
  {
   "cell_type": "markdown",
   "id": "6d293f39-f7dd-457a-9585-de7a1d9c2f71",
   "metadata": {},
   "source": [
    "* 48% of users stop at MainScreenAppear\n",
    "* make the tutorial more efficient could increase user experience therefore increase revenue\n",
    "* success rate calculated at 29.4%\n",
    "* test a new main screen design \n",
    "* we lose 29% of users from main screen to offers\n",
    "* 1.5% don't get to cart from offers\n",
    "* 3.3% users are lost from cart to payment\n",
    "* 44% of potential demand are lost\n"
   ]
  },
  {
   "cell_type": "markdown",
   "id": "3c2e7386",
   "metadata": {},
   "source": [
    "<div class=\"alert alert-block alert-success\">\n",
    "<b> Comentário do revisor: </b> <a class=\"tocSkip\"></a>\n",
    "Tudo tranquilo aqui. Oriento plotar gráfico\n",
    "</div>\n"
   ]
  },
  {
   "cell_type": "markdown",
   "id": "be1993fd-a749-4a96-b9df-868c9f55bf8a",
   "metadata": {},
   "source": [
    "## Encontre o número de usuários que executaram cada uma dessas ações. Ordene os eventos pelo número de usuários. Calcule a proporção de usuários que executaram a ação pelo menos uma vez."
   ]
  },
  {
   "cell_type": "code",
   "execution_count": 250,
   "id": "c881efa0-f34e-4008-a192-ed7512c94bba",
   "metadata": {},
   "outputs": [
    {
     "data": {
      "text/html": [
       "<div>\n",
       "<style scoped>\n",
       "    .dataframe tbody tr th:only-of-type {\n",
       "        vertical-align: middle;\n",
       "    }\n",
       "\n",
       "    .dataframe tbody tr th {\n",
       "        vertical-align: top;\n",
       "    }\n",
       "\n",
       "    .dataframe thead th {\n",
       "        text-align: right;\n",
       "    }\n",
       "</style>\n",
       "<table border=\"1\" class=\"dataframe\">\n",
       "  <thead>\n",
       "    <tr style=\"text-align: right;\">\n",
       "      <th></th>\n",
       "      <th>event</th>\n",
       "      <th>device_id</th>\n",
       "      <th>ratio</th>\n",
       "    </tr>\n",
       "  </thead>\n",
       "  <tbody>\n",
       "    <tr>\n",
       "      <th>0</th>\n",
       "      <td>CartScreenAppear</td>\n",
       "      <td>36134</td>\n",
       "      <td>17.620411</td>\n",
       "    </tr>\n",
       "    <tr>\n",
       "      <th>1</th>\n",
       "      <td>MainScreenAppear</td>\n",
       "      <td>99474</td>\n",
       "      <td>48.507575</td>\n",
       "    </tr>\n",
       "    <tr>\n",
       "      <th>2</th>\n",
       "      <td>OffersScreenAppear</td>\n",
       "      <td>39359</td>\n",
       "      <td>19.193052</td>\n",
       "    </tr>\n",
       "    <tr>\n",
       "      <th>3</th>\n",
       "      <td>PaymentScreenSuccessful</td>\n",
       "      <td>29311</td>\n",
       "      <td>14.293238</td>\n",
       "    </tr>\n",
       "    <tr>\n",
       "      <th>4</th>\n",
       "      <td>Tutorial</td>\n",
       "      <td>791</td>\n",
       "      <td>0.385724</td>\n",
       "    </tr>\n",
       "  </tbody>\n",
       "</table>\n",
       "</div>"
      ],
      "text/plain": [
       "                     event  device_id      ratio\n",
       "0         CartScreenAppear      36134  17.620411\n",
       "1         MainScreenAppear      99474  48.507575\n",
       "2       OffersScreenAppear      39359  19.193052\n",
       "3  PaymentScreenSuccessful      29311  14.293238\n",
       "4                 Tutorial        791   0.385724"
      ]
     },
     "execution_count": 250,
     "metadata": {},
     "output_type": "execute_result"
    }
   ],
   "source": [
    "event_id"
   ]
  },
  {
   "cell_type": "markdown",
   "id": "5497d011-af61-46ed-959f-9687edbb8ab9",
   "metadata": {},
   "source": [
    "## Em que ordem você acha que as ações ocorreram. Todos eles fazem parte de uma única sequência? Você não precisa levá-los em consideração ao calcular o funil."
   ]
  },
  {
   "cell_type": "code",
   "execution_count": 253,
   "id": "0553b09d-a382-40e4-b36d-e76ce0994053",
   "metadata": {},
   "outputs": [
    {
     "data": {
      "text/html": [
       "<div>\n",
       "<style scoped>\n",
       "    .dataframe tbody tr th:only-of-type {\n",
       "        vertical-align: middle;\n",
       "    }\n",
       "\n",
       "    .dataframe tbody tr th {\n",
       "        vertical-align: top;\n",
       "    }\n",
       "\n",
       "    .dataframe thead th {\n",
       "        text-align: right;\n",
       "    }\n",
       "</style>\n",
       "<table border=\"1\" class=\"dataframe\">\n",
       "  <thead>\n",
       "    <tr style=\"text-align: right;\">\n",
       "      <th></th>\n",
       "      <th>event</th>\n",
       "      <th>device_id</th>\n",
       "      <th>ratio</th>\n",
       "    </tr>\n",
       "  </thead>\n",
       "  <tbody>\n",
       "    <tr>\n",
       "      <th>0</th>\n",
       "      <td>CartScreenAppear</td>\n",
       "      <td>36134</td>\n",
       "      <td>17.620411</td>\n",
       "    </tr>\n",
       "    <tr>\n",
       "      <th>1</th>\n",
       "      <td>MainScreenAppear</td>\n",
       "      <td>99474</td>\n",
       "      <td>48.507575</td>\n",
       "    </tr>\n",
       "    <tr>\n",
       "      <th>2</th>\n",
       "      <td>OffersScreenAppear</td>\n",
       "      <td>39359</td>\n",
       "      <td>19.193052</td>\n",
       "    </tr>\n",
       "    <tr>\n",
       "      <th>3</th>\n",
       "      <td>PaymentScreenSuccessful</td>\n",
       "      <td>29311</td>\n",
       "      <td>14.293238</td>\n",
       "    </tr>\n",
       "    <tr>\n",
       "      <th>4</th>\n",
       "      <td>Tutorial</td>\n",
       "      <td>791</td>\n",
       "      <td>0.385724</td>\n",
       "    </tr>\n",
       "  </tbody>\n",
       "</table>\n",
       "</div>"
      ],
      "text/plain": [
       "                     event  device_id      ratio\n",
       "0         CartScreenAppear      36134  17.620411\n",
       "1         MainScreenAppear      99474  48.507575\n",
       "2       OffersScreenAppear      39359  19.193052\n",
       "3  PaymentScreenSuccessful      29311  14.293238\n",
       "4                 Tutorial        791   0.385724"
      ]
     },
     "execution_count": 253,
     "metadata": {},
     "output_type": "execute_result"
    }
   ],
   "source": [
    "event_id"
   ]
  },
  {
   "cell_type": "markdown",
   "id": "a8162bce-a219-4f64-9d7b-10497e502997",
   "metadata": {},
   "source": [
    "    the higher main screen ratio and very low tutorial only 0.3% could indicate customer is missing a step"
   ]
  },
  {
   "cell_type": "markdown",
   "id": "69d02cac-e1ba-482f-b148-787a561d7e51",
   "metadata": {},
   "source": [
    "## Use o funil de eventos para encontrar a parcela de usuários que passam de uma etapa para a próxima. (Por exemplo, para a sequência de eventos A → B → C, calcule a proporção de usuários na etapa B para o número de usuários na etapa A e a proporção de usuários na etapa C para o número na etapa B.)## Use o funil de eventos para encontrar a parcela de usuários que passam de uma etapa para a próxima. (Por exemplo, para a sequência de eventos A → B → C, calcule a proporção de usuários na etapa B para o número de usuários na etapa A e a proporção de usuários na etapa C para o número na etapa B.)"
   ]
  },
  {
   "cell_type": "markdown",
   "id": "62691c3e-37f4-4343-9414-4b0931db4547",
   "metadata": {},
   "source": [
    "## Em qual fase você perde mais usuários?"
   ]
  },
  {
   "cell_type": "code",
   "execution_count": 258,
   "id": "6d867a26-ef89-47f7-978c-513c3f228f35",
   "metadata": {},
   "outputs": [
    {
     "data": {
      "text/html": [
       "<div>\n",
       "<style scoped>\n",
       "    .dataframe tbody tr th:only-of-type {\n",
       "        vertical-align: middle;\n",
       "    }\n",
       "\n",
       "    .dataframe tbody tr th {\n",
       "        vertical-align: top;\n",
       "    }\n",
       "\n",
       "    .dataframe thead th {\n",
       "        text-align: right;\n",
       "    }\n",
       "</style>\n",
       "<table border=\"1\" class=\"dataframe\">\n",
       "  <thead>\n",
       "    <tr style=\"text-align: right;\">\n",
       "      <th></th>\n",
       "      <th>event</th>\n",
       "      <th>device_id</th>\n",
       "      <th>ratio</th>\n",
       "    </tr>\n",
       "  </thead>\n",
       "  <tbody>\n",
       "    <tr>\n",
       "      <th>0</th>\n",
       "      <td>CartScreenAppear</td>\n",
       "      <td>36134</td>\n",
       "      <td>17.620411</td>\n",
       "    </tr>\n",
       "    <tr>\n",
       "      <th>1</th>\n",
       "      <td>MainScreenAppear</td>\n",
       "      <td>99474</td>\n",
       "      <td>48.507575</td>\n",
       "    </tr>\n",
       "    <tr>\n",
       "      <th>2</th>\n",
       "      <td>OffersScreenAppear</td>\n",
       "      <td>39359</td>\n",
       "      <td>19.193052</td>\n",
       "    </tr>\n",
       "    <tr>\n",
       "      <th>3</th>\n",
       "      <td>PaymentScreenSuccessful</td>\n",
       "      <td>29311</td>\n",
       "      <td>14.293238</td>\n",
       "    </tr>\n",
       "    <tr>\n",
       "      <th>4</th>\n",
       "      <td>Tutorial</td>\n",
       "      <td>791</td>\n",
       "      <td>0.385724</td>\n",
       "    </tr>\n",
       "  </tbody>\n",
       "</table>\n",
       "</div>"
      ],
      "text/plain": [
       "                     event  device_id      ratio\n",
       "0         CartScreenAppear      36134  17.620411\n",
       "1         MainScreenAppear      99474  48.507575\n",
       "2       OffersScreenAppear      39359  19.193052\n",
       "3  PaymentScreenSuccessful      29311  14.293238\n",
       "4                 Tutorial        791   0.385724"
      ]
     },
     "execution_count": 258,
     "metadata": {},
     "output_type": "execute_result"
    }
   ],
   "source": [
    "event_id"
   ]
  },
  {
   "cell_type": "markdown",
   "id": "09fefcb7-c878-4dc4-907d-526e62c599b1",
   "metadata": {},
   "source": [
    "    We have significant lost of users from main screen to offers."
   ]
  },
  {
   "cell_type": "markdown",
   "id": "54e7fbd0-e08b-4c08-8179-74936f403c16",
   "metadata": {},
   "source": [
    "## Qual é a parcela de usuários que faz o caminho inteiro, desde o primeiro evento até o pagamento?"
   ]
  },
  {
   "cell_type": "code",
   "execution_count": 262,
   "id": "7a408bc8-1a10-47c0-8f35-ba00d12d33e0",
   "metadata": {},
   "outputs": [
    {
     "data": {
      "text/html": [
       "<div>\n",
       "<style scoped>\n",
       "    .dataframe tbody tr th:only-of-type {\n",
       "        vertical-align: middle;\n",
       "    }\n",
       "\n",
       "    .dataframe tbody tr th {\n",
       "        vertical-align: top;\n",
       "    }\n",
       "\n",
       "    .dataframe thead th {\n",
       "        text-align: right;\n",
       "    }\n",
       "</style>\n",
       "<table border=\"1\" class=\"dataframe\">\n",
       "  <thead>\n",
       "    <tr style=\"text-align: right;\">\n",
       "      <th></th>\n",
       "      <th>event</th>\n",
       "      <th>device_id</th>\n",
       "      <th>ratio</th>\n",
       "    </tr>\n",
       "  </thead>\n",
       "  <tbody>\n",
       "    <tr>\n",
       "      <th>0</th>\n",
       "      <td>CartScreenAppear</td>\n",
       "      <td>36134</td>\n",
       "      <td>17.620411</td>\n",
       "    </tr>\n",
       "    <tr>\n",
       "      <th>1</th>\n",
       "      <td>MainScreenAppear</td>\n",
       "      <td>99474</td>\n",
       "      <td>48.507575</td>\n",
       "    </tr>\n",
       "    <tr>\n",
       "      <th>2</th>\n",
       "      <td>OffersScreenAppear</td>\n",
       "      <td>39359</td>\n",
       "      <td>19.193052</td>\n",
       "    </tr>\n",
       "    <tr>\n",
       "      <th>3</th>\n",
       "      <td>PaymentScreenSuccessful</td>\n",
       "      <td>29311</td>\n",
       "      <td>14.293238</td>\n",
       "    </tr>\n",
       "    <tr>\n",
       "      <th>4</th>\n",
       "      <td>Tutorial</td>\n",
       "      <td>791</td>\n",
       "      <td>0.385724</td>\n",
       "    </tr>\n",
       "  </tbody>\n",
       "</table>\n",
       "</div>"
      ],
      "text/plain": [
       "                     event  device_id      ratio\n",
       "0         CartScreenAppear      36134  17.620411\n",
       "1         MainScreenAppear      99474  48.507575\n",
       "2       OffersScreenAppear      39359  19.193052\n",
       "3  PaymentScreenSuccessful      29311  14.293238\n",
       "4                 Tutorial        791   0.385724"
      ]
     },
     "execution_count": 262,
     "metadata": {},
     "output_type": "execute_result"
    }
   ],
   "source": [
    "event_id"
   ]
  },
  {
   "cell_type": "markdown",
   "id": "1d2a397c-2b3a-4937-8630-6fc310afe38a",
   "metadata": {},
   "source": [
    "    only 14% users get to payment screen"
   ]
  },
  {
   "cell_type": "markdown",
   "id": "0e83504e-14b4-4dd4-9e16-d459c8a8ccfc",
   "metadata": {},
   "source": [
    "## Quantos usuários há em cada grupo?"
   ]
  },
  {
   "cell_type": "code",
   "execution_count": 292,
   "id": "90920597-9bb6-4cc9-a195-6785648e4426",
   "metadata": {},
   "outputs": [
    {
     "data": {
      "text/html": [
       "<div>\n",
       "<style scoped>\n",
       "    .dataframe tbody tr th:only-of-type {\n",
       "        vertical-align: middle;\n",
       "    }\n",
       "\n",
       "    .dataframe tbody tr th {\n",
       "        vertical-align: top;\n",
       "    }\n",
       "\n",
       "    .dataframe thead th {\n",
       "        text-align: right;\n",
       "    }\n",
       "</style>\n",
       "<table border=\"1\" class=\"dataframe\">\n",
       "  <thead>\n",
       "    <tr style=\"text-align: right;\">\n",
       "      <th></th>\n",
       "      <th>exp_id</th>\n",
       "      <th>device_id</th>\n",
       "      <th>lost_users</th>\n",
       "    </tr>\n",
       "  </thead>\n",
       "  <tbody>\n",
       "    <tr>\n",
       "      <th>0</th>\n",
       "      <td>246</td>\n",
       "      <td>2393</td>\n",
       "      <td>96</td>\n",
       "    </tr>\n",
       "    <tr>\n",
       "      <th>1</th>\n",
       "      <td>247</td>\n",
       "      <td>2434</td>\n",
       "      <td>86</td>\n",
       "    </tr>\n",
       "    <tr>\n",
       "      <th>2</th>\n",
       "      <td>248</td>\n",
       "      <td>2459</td>\n",
       "      <td>83</td>\n",
       "    </tr>\n",
       "  </tbody>\n",
       "</table>\n",
       "</div>"
      ],
      "text/plain": [
       "   exp_id  device_id  lost_users\n",
       "0     246       2393          96\n",
       "1     247       2434          86\n",
       "2     248       2459          83"
      ]
     },
     "execution_count": 292,
     "metadata": {},
     "output_type": "execute_result"
    }
   ],
   "source": [
    "exp_group"
   ]
  },
  {
   "cell_type": "markdown",
   "id": "005ff6d7-faaa-4ae5-9103-156677651adc",
   "metadata": {},
   "source": [
    "* group <b>246</b> has <b>2393</b> users\n",
    "* group <b>274</b> has <b>2434</b> users\n",
    "* group <b>248</b> has <b>2459</b> users"
   ]
  },
  {
   "cell_type": "markdown",
   "id": "8606a2cb-8c34-40f2-a6ee-65d1b98359b5",
   "metadata": {},
   "source": [
    "## Temos dois grupos de controle no teste A/A, no qual verificamos nossos mecanismos e cálculos. Veja se há uma diferença estatisticamente significativa entre as amostragens 246 e 247."
   ]
  },
  {
   "cell_type": "markdown",
   "id": "3fd97341-2a9d-4efd-8d47-cec2ef72f0a1",
   "metadata": {},
   "source": [
    "* <b>H0: There is NO significant difference between group 246 and 247</b>\n",
    "\n",
    "* <b>H1: There is a significant difference between group 246 and 247</b>"
   ]
  },
  {
   "cell_type": "code",
   "execution_count": 274,
   "id": "8bf888d7-459c-4737-a953-b89b47431c16",
   "metadata": {},
   "outputs": [],
   "source": [
    "#setting significance\n",
    "alpha = 0.05"
   ]
  },
  {
   "cell_type": "code",
   "execution_count": 276,
   "id": "4fc05785-ba72-4630-81a6-489f66f94ee6",
   "metadata": {},
   "outputs": [
    {
     "data": {
      "text/html": [
       "<div>\n",
       "<style scoped>\n",
       "    .dataframe tbody tr th:only-of-type {\n",
       "        vertical-align: middle;\n",
       "    }\n",
       "\n",
       "    .dataframe tbody tr th {\n",
       "        vertical-align: top;\n",
       "    }\n",
       "\n",
       "    .dataframe thead th {\n",
       "        text-align: right;\n",
       "    }\n",
       "</style>\n",
       "<table border=\"1\" class=\"dataframe\">\n",
       "  <thead>\n",
       "    <tr style=\"text-align: right;\">\n",
       "      <th></th>\n",
       "      <th>event</th>\n",
       "      <th>device_id</th>\n",
       "      <th>timestamp</th>\n",
       "      <th>exp_id</th>\n",
       "      <th>datetime</th>\n",
       "      <th>date</th>\n",
       "      <th>time</th>\n",
       "      <th>month</th>\n",
       "    </tr>\n",
       "  </thead>\n",
       "  <tbody>\n",
       "    <tr>\n",
       "      <th>39058</th>\n",
       "      <td>MainScreenAppear</td>\n",
       "      <td>6077372516405234625</td>\n",
       "      <td>1564704008</td>\n",
       "      <td>246</td>\n",
       "      <td>2019-08-02 00:00:08</td>\n",
       "      <td>2019-08-02</td>\n",
       "      <td>00:00:08</td>\n",
       "      <td>8</td>\n",
       "    </tr>\n",
       "    <tr>\n",
       "      <th>39080</th>\n",
       "      <td>MainScreenAppear</td>\n",
       "      <td>6480400942582945061</td>\n",
       "      <td>1564704174</td>\n",
       "      <td>246</td>\n",
       "      <td>2019-08-02 00:02:54</td>\n",
       "      <td>2019-08-02</td>\n",
       "      <td>00:02:54</td>\n",
       "      <td>8</td>\n",
       "    </tr>\n",
       "    <tr>\n",
       "      <th>39082</th>\n",
       "      <td>MainScreenAppear</td>\n",
       "      <td>6480400942582945061</td>\n",
       "      <td>1564704188</td>\n",
       "      <td>246</td>\n",
       "      <td>2019-08-02 00:03:08</td>\n",
       "      <td>2019-08-02</td>\n",
       "      <td>00:03:08</td>\n",
       "      <td>8</td>\n",
       "    </tr>\n",
       "    <tr>\n",
       "      <th>39101</th>\n",
       "      <td>MainScreenAppear</td>\n",
       "      <td>3689985694197060241</td>\n",
       "      <td>1564704295</td>\n",
       "      <td>246</td>\n",
       "      <td>2019-08-02 00:04:55</td>\n",
       "      <td>2019-08-02</td>\n",
       "      <td>00:04:55</td>\n",
       "      <td>8</td>\n",
       "    </tr>\n",
       "    <tr>\n",
       "      <th>39104</th>\n",
       "      <td>MainScreenAppear</td>\n",
       "      <td>2065146184371811225</td>\n",
       "      <td>1564704310</td>\n",
       "      <td>246</td>\n",
       "      <td>2019-08-02 00:05:10</td>\n",
       "      <td>2019-08-02</td>\n",
       "      <td>00:05:10</td>\n",
       "      <td>8</td>\n",
       "    </tr>\n",
       "  </tbody>\n",
       "</table>\n",
       "</div>"
      ],
      "text/plain": [
       "                  event            device_id   timestamp  exp_id  \\\n",
       "39058  MainScreenAppear  6077372516405234625  1564704008     246   \n",
       "39080  MainScreenAppear  6480400942582945061  1564704174     246   \n",
       "39082  MainScreenAppear  6480400942582945061  1564704188     246   \n",
       "39101  MainScreenAppear  3689985694197060241  1564704295     246   \n",
       "39104  MainScreenAppear  2065146184371811225  1564704310     246   \n",
       "\n",
       "                 datetime       date      time  month  \n",
       "39058 2019-08-02 00:00:08 2019-08-02  00:00:08      8  \n",
       "39080 2019-08-02 00:02:54 2019-08-02  00:02:54      8  \n",
       "39082 2019-08-02 00:03:08 2019-08-02  00:03:08      8  \n",
       "39101 2019-08-02 00:04:55 2019-08-02  00:04:55      8  \n",
       "39104 2019-08-02 00:05:10 2019-08-02  00:05:10      8  "
      ]
     },
     "execution_count": 276,
     "metadata": {},
     "output_type": "execute_result"
    }
   ],
   "source": [
    "#filtering group 246\n",
    "groupA1 = aug_log.query('exp_id == 246')\n",
    "groupA1.head()"
   ]
  },
  {
   "cell_type": "code",
   "execution_count": 278,
   "id": "83697d1b-0eb7-4565-a368-b82e9d04c9a6",
   "metadata": {},
   "outputs": [
    {
     "data": {
      "text/html": [
       "<div>\n",
       "<style scoped>\n",
       "    .dataframe tbody tr th:only-of-type {\n",
       "        vertical-align: middle;\n",
       "    }\n",
       "\n",
       "    .dataframe tbody tr th {\n",
       "        vertical-align: top;\n",
       "    }\n",
       "\n",
       "    .dataframe thead th {\n",
       "        text-align: right;\n",
       "    }\n",
       "</style>\n",
       "<table border=\"1\" class=\"dataframe\">\n",
       "  <thead>\n",
       "    <tr style=\"text-align: right;\">\n",
       "      <th></th>\n",
       "      <th>event</th>\n",
       "      <th>count</th>\n",
       "    </tr>\n",
       "  </thead>\n",
       "  <tbody>\n",
       "    <tr>\n",
       "      <th>1</th>\n",
       "      <td>MainScreenAppear</td>\n",
       "      <td>2355</td>\n",
       "    </tr>\n",
       "    <tr>\n",
       "      <th>2</th>\n",
       "      <td>OffersScreenAppear</td>\n",
       "      <td>1480</td>\n",
       "    </tr>\n",
       "    <tr>\n",
       "      <th>0</th>\n",
       "      <td>CartScreenAppear</td>\n",
       "      <td>1213</td>\n",
       "    </tr>\n",
       "    <tr>\n",
       "      <th>3</th>\n",
       "      <td>PaymentScreenSuccessful</td>\n",
       "      <td>1152</td>\n",
       "    </tr>\n",
       "    <tr>\n",
       "      <th>4</th>\n",
       "      <td>Tutorial</td>\n",
       "      <td>230</td>\n",
       "    </tr>\n",
       "  </tbody>\n",
       "</table>\n",
       "</div>"
      ],
      "text/plain": [
       "                     event  count\n",
       "1         MainScreenAppear   2355\n",
       "2       OffersScreenAppear   1480\n",
       "0         CartScreenAppear   1213\n",
       "3  PaymentScreenSuccessful   1152\n",
       "4                 Tutorial    230"
      ]
     },
     "execution_count": 278,
     "metadata": {},
     "output_type": "execute_result"
    }
   ],
   "source": [
    "#grouping A1 by events\n",
    "groupA1_event = groupA1.groupby('event')['device_id'].nunique().reset_index(name='count').sort_values('count',ascending=False)\n",
    "groupA1_event"
   ]
  },
  {
   "cell_type": "code",
   "execution_count": 280,
   "id": "77fa9509-b2a5-4db6-b05f-60a1003c32a3",
   "metadata": {},
   "outputs": [
    {
     "data": {
      "text/html": [
       "<div>\n",
       "<style scoped>\n",
       "    .dataframe tbody tr th:only-of-type {\n",
       "        vertical-align: middle;\n",
       "    }\n",
       "\n",
       "    .dataframe tbody tr th {\n",
       "        vertical-align: top;\n",
       "    }\n",
       "\n",
       "    .dataframe thead th {\n",
       "        text-align: right;\n",
       "    }\n",
       "</style>\n",
       "<table border=\"1\" class=\"dataframe\">\n",
       "  <thead>\n",
       "    <tr style=\"text-align: right;\">\n",
       "      <th></th>\n",
       "      <th>event</th>\n",
       "      <th>device_id</th>\n",
       "      <th>timestamp</th>\n",
       "      <th>exp_id</th>\n",
       "      <th>datetime</th>\n",
       "      <th>date</th>\n",
       "      <th>time</th>\n",
       "      <th>month</th>\n",
       "    </tr>\n",
       "  </thead>\n",
       "  <tbody>\n",
       "    <tr>\n",
       "      <th>39093</th>\n",
       "      <td>MainScreenAppear</td>\n",
       "      <td>7645173991196088727</td>\n",
       "      <td>1564704250</td>\n",
       "      <td>247</td>\n",
       "      <td>2019-08-02 00:04:10</td>\n",
       "      <td>2019-08-02</td>\n",
       "      <td>00:04:10</td>\n",
       "      <td>8</td>\n",
       "    </tr>\n",
       "    <tr>\n",
       "      <th>39096</th>\n",
       "      <td>MainScreenAppear</td>\n",
       "      <td>7645173991196088727</td>\n",
       "      <td>1564704268</td>\n",
       "      <td>247</td>\n",
       "      <td>2019-08-02 00:04:28</td>\n",
       "      <td>2019-08-02</td>\n",
       "      <td>00:04:28</td>\n",
       "      <td>8</td>\n",
       "    </tr>\n",
       "    <tr>\n",
       "      <th>39133</th>\n",
       "      <td>MainScreenAppear</td>\n",
       "      <td>7645173991196088727</td>\n",
       "      <td>1564704459</td>\n",
       "      <td>247</td>\n",
       "      <td>2019-08-02 00:07:39</td>\n",
       "      <td>2019-08-02</td>\n",
       "      <td>00:07:39</td>\n",
       "      <td>8</td>\n",
       "    </tr>\n",
       "    <tr>\n",
       "      <th>39140</th>\n",
       "      <td>OffersScreenAppear</td>\n",
       "      <td>1872978591788881482</td>\n",
       "      <td>1564704538</td>\n",
       "      <td>247</td>\n",
       "      <td>2019-08-02 00:08:58</td>\n",
       "      <td>2019-08-02</td>\n",
       "      <td>00:08:58</td>\n",
       "      <td>8</td>\n",
       "    </tr>\n",
       "    <tr>\n",
       "      <th>39164</th>\n",
       "      <td>CartScreenAppear</td>\n",
       "      <td>1872978591788881482</td>\n",
       "      <td>1564704723</td>\n",
       "      <td>247</td>\n",
       "      <td>2019-08-02 00:12:03</td>\n",
       "      <td>2019-08-02</td>\n",
       "      <td>00:12:03</td>\n",
       "      <td>8</td>\n",
       "    </tr>\n",
       "  </tbody>\n",
       "</table>\n",
       "</div>"
      ],
      "text/plain": [
       "                    event            device_id   timestamp  exp_id  \\\n",
       "39093    MainScreenAppear  7645173991196088727  1564704250     247   \n",
       "39096    MainScreenAppear  7645173991196088727  1564704268     247   \n",
       "39133    MainScreenAppear  7645173991196088727  1564704459     247   \n",
       "39140  OffersScreenAppear  1872978591788881482  1564704538     247   \n",
       "39164    CartScreenAppear  1872978591788881482  1564704723     247   \n",
       "\n",
       "                 datetime       date      time  month  \n",
       "39093 2019-08-02 00:04:10 2019-08-02  00:04:10      8  \n",
       "39096 2019-08-02 00:04:28 2019-08-02  00:04:28      8  \n",
       "39133 2019-08-02 00:07:39 2019-08-02  00:07:39      8  \n",
       "39140 2019-08-02 00:08:58 2019-08-02  00:08:58      8  \n",
       "39164 2019-08-02 00:12:03 2019-08-02  00:12:03      8  "
      ]
     },
     "execution_count": 280,
     "metadata": {},
     "output_type": "execute_result"
    }
   ],
   "source": [
    "#filtering group 247\n",
    "groupA2 = aug_log.query('exp_id == 247')\n",
    "groupA2.head()"
   ]
  },
  {
   "cell_type": "code",
   "execution_count": 282,
   "id": "05ca19bc-53a1-4283-9803-b9e44b145dc9",
   "metadata": {
    "tags": []
   },
   "outputs": [
    {
     "data": {
      "text/html": [
       "<div>\n",
       "<style scoped>\n",
       "    .dataframe tbody tr th:only-of-type {\n",
       "        vertical-align: middle;\n",
       "    }\n",
       "\n",
       "    .dataframe tbody tr th {\n",
       "        vertical-align: top;\n",
       "    }\n",
       "\n",
       "    .dataframe thead th {\n",
       "        text-align: right;\n",
       "    }\n",
       "</style>\n",
       "<table border=\"1\" class=\"dataframe\">\n",
       "  <thead>\n",
       "    <tr style=\"text-align: right;\">\n",
       "      <th></th>\n",
       "      <th>event</th>\n",
       "      <th>count</th>\n",
       "    </tr>\n",
       "  </thead>\n",
       "  <tbody>\n",
       "    <tr>\n",
       "      <th>1</th>\n",
       "      <td>MainScreenAppear</td>\n",
       "      <td>2392</td>\n",
       "    </tr>\n",
       "    <tr>\n",
       "      <th>2</th>\n",
       "      <td>OffersScreenAppear</td>\n",
       "      <td>1438</td>\n",
       "    </tr>\n",
       "    <tr>\n",
       "      <th>0</th>\n",
       "      <td>CartScreenAppear</td>\n",
       "      <td>1184</td>\n",
       "    </tr>\n",
       "    <tr>\n",
       "      <th>3</th>\n",
       "      <td>PaymentScreenSuccessful</td>\n",
       "      <td>1118</td>\n",
       "    </tr>\n",
       "    <tr>\n",
       "      <th>4</th>\n",
       "      <td>Tutorial</td>\n",
       "      <td>227</td>\n",
       "    </tr>\n",
       "  </tbody>\n",
       "</table>\n",
       "</div>"
      ],
      "text/plain": [
       "                     event  count\n",
       "1         MainScreenAppear   2392\n",
       "2       OffersScreenAppear   1438\n",
       "0         CartScreenAppear   1184\n",
       "3  PaymentScreenSuccessful   1118\n",
       "4                 Tutorial    227"
      ]
     },
     "execution_count": 282,
     "metadata": {},
     "output_type": "execute_result"
    }
   ],
   "source": [
    "#grouping A2 by events\n",
    "groupA2_event = groupA2.groupby('event')['device_id'].nunique().reset_index(name='count').sort_values('count',ascending=False)\n",
    "groupA2_event"
   ]
  },
  {
   "cell_type": "code",
   "execution_count": 486,
   "id": "9a5b5928-9ff2-414d-a248-eea08c00b0f3",
   "metadata": {},
   "outputs": [
    {
     "name": "stdout",
     "output_type": "stream",
     "text": [
      " We can't reject null hypotesis\n"
     ]
    }
   ],
   "source": [
    "#chi2 test\n",
    "a1_a2 = aug_log[aug_log['exp_id'].isin([246,247])].drop_duplicates(subset = 'device_id')\n",
    "contingency_table = pd.crosstab(a1_a2['event'], a1_a2['exp_id'])\n",
    "p = chi2_contingency(contingency_table)\n",
    "p_value = p[1]\n",
    "\n",
    "if p_value < alpha:\n",
    "    print('Reject null hypotesis')\n",
    "else:\n",
    "    print(\" We can't reject null hypotesis\")"
   ]
  },
  {
   "cell_type": "markdown",
   "id": "610a4d50-d26d-4398-9004-d02d9d481697",
   "metadata": {},
   "source": [
    "<b>There is NO significant difference between group 246 and 247</b>"
   ]
  },
  {
   "cell_type": "markdown",
   "id": "82c40392-7311-4b19-935f-d35ab7836f66",
   "metadata": {},
   "source": [
    "## Selecione o evento mais popular. Em cada um dos grupos de controle, encontre o número de usuários que realizaram essa ação. Encontre a proporção deles. Verifique se a diferença entre os grupos é estatisticamente significativa. Repita o procedimento para todos os outros eventos (economizará tempo se você criar uma função especial para este teste). Você pode confirmar se os grupos foram divididos corretamente?"
   ]
  },
  {
   "cell_type": "markdown",
   "id": "b3c282a5",
   "metadata": {},
   "source": [
    "<div class=\"alert alert-block alert-danger\">\n",
    "<b> Comentário do revisor: </b> <a class=\"tocSkip\"></a>\n",
    "\n",
    "- Quais são as hipóteses nula e alternativa?\n",
    "- Recomendo usar o teste proportions_ztest    \n",
    "</div>\n"
   ]
  },
  {
   "cell_type": "markdown",
   "id": "631618ec-c16f-42f8-ae5c-7b7a61c61c7c",
   "metadata": {},
   "source": [
    "* <b>H0: There is NO significant difference between group 246 and 247 for all events</b>\n",
    "\n",
    "* <b>H1: There is a significant difference between group 246 and 247 for all events</b>"
   ]
  },
  {
   "cell_type": "code",
   "execution_count": 439,
   "id": "241120ac-75a8-47f3-9291-d5f99652da8a",
   "metadata": {},
   "outputs": [
    {
     "data": {
      "text/html": [
       "<div>\n",
       "<style scoped>\n",
       "    .dataframe tbody tr th:only-of-type {\n",
       "        vertical-align: middle;\n",
       "    }\n",
       "\n",
       "    .dataframe tbody tr th {\n",
       "        vertical-align: top;\n",
       "    }\n",
       "\n",
       "    .dataframe thead th {\n",
       "        text-align: right;\n",
       "    }\n",
       "</style>\n",
       "<table border=\"1\" class=\"dataframe\">\n",
       "  <thead>\n",
       "    <tr style=\"text-align: right;\">\n",
       "      <th>exp_id</th>\n",
       "      <th>event</th>\n",
       "      <th>246</th>\n",
       "      <th>247</th>\n",
       "    </tr>\n",
       "  </thead>\n",
       "  <tbody>\n",
       "    <tr>\n",
       "      <th>0</th>\n",
       "      <td>CartScreenAppear</td>\n",
       "      <td>18</td>\n",
       "      <td>20</td>\n",
       "    </tr>\n",
       "    <tr>\n",
       "      <th>1</th>\n",
       "      <td>MainScreenAppear</td>\n",
       "      <td>2035</td>\n",
       "      <td>2059</td>\n",
       "    </tr>\n",
       "    <tr>\n",
       "      <th>2</th>\n",
       "      <td>OffersScreenAppear</td>\n",
       "      <td>91</td>\n",
       "      <td>113</td>\n",
       "    </tr>\n",
       "    <tr>\n",
       "      <th>3</th>\n",
       "      <td>PaymentScreenSuccessful</td>\n",
       "      <td>35</td>\n",
       "      <td>30</td>\n",
       "    </tr>\n",
       "    <tr>\n",
       "      <th>4</th>\n",
       "      <td>Tutorial</td>\n",
       "      <td>214</td>\n",
       "      <td>212</td>\n",
       "    </tr>\n",
       "  </tbody>\n",
       "</table>\n",
       "</div>"
      ],
      "text/plain": [
       "exp_id                    event   246   247\n",
       "0              CartScreenAppear    18    20\n",
       "1              MainScreenAppear  2035  2059\n",
       "2            OffersScreenAppear    91   113\n",
       "3       PaymentScreenSuccessful    35    30\n",
       "4                      Tutorial   214   212"
      ]
     },
     "execution_count": 439,
     "metadata": {},
     "output_type": "execute_result"
    }
   ],
   "source": [
    "#pivot_table group 246 and 247\n",
    "a1_a2_event = pd.pivot_table(data=a1_a2, index='event',columns='exp_id',values='device_id',aggfunc='nunique').reset_index()\n",
    "a1_a2_event"
   ]
  },
  {
   "cell_type": "code",
   "execution_count": 488,
   "id": "e1eb5ee0-50ee-4f99-8dd3-2074051ba57c",
   "metadata": {},
   "outputs": [
    {
     "name": "stdout",
     "output_type": "stream",
     "text": [
      " We can't reject null hypotesis\n"
     ]
    }
   ],
   "source": [
    "#running chi2 test for each event group 246 and 247\n",
    "group = [246,247]\n",
    " \n",
    "#perform chi-square test for the current event\n",
    "chi2_stat, p_val, dof, expected = chi2_contingency(a1_a2_event[group])\n",
    "\n",
    "if p_value < alpha:\n",
    "    print('Reject null hypotesis')\n",
    "else:\n",
    "    print(\" We can't reject null hypotesis\")"
   ]
  },
  {
   "cell_type": "markdown",
   "id": "0b0a5845-9dd2-4f94-a4a8-066fb54ae6fa",
   "metadata": {},
   "source": [
    "* <b> There is NO significant difference between group 246 and 247 for all events</b>"
   ]
  },
  {
   "cell_type": "markdown",
   "id": "502ab8a3-e0ca-44ce-8b81-f116f278f3b4",
   "metadata": {},
   "source": [
    "<div class=\"alert alert-block alert-info\">\n",
    "<b>Estou com dificuldade de interar o teste, mandei mensagem para o meu tutor Anilton tambe, mas se puder checar o progresso ate agora. Obrigado.</b> <a class=\"tocSkip\"></a>\n",
    "</div>"
   ]
  },
  {
   "cell_type": "markdown",
   "id": "a1dd6de5",
   "metadata": {},
   "source": [
    "\n",
    "<div class=\"alert alert-block alert-success\">\n",
    "<b>Comentário Geral do Revisor</b> <a class=\"tocSkip\"></a>\n",
    "Deixei alguams dicas.\n",
    "Oriento discutir com o tutor. Esse projeto é realmente mais complicado.\n",
    "\n",
    "\n",
    "Se você tiver alguma dúvida sobre de algo que você não tenha entendido, sinta-se à vontade para perguntar ao tutor ou deixar um comentário em **azul** para que, na próxima iteração, eu possa responder.\n",
    "\n",
    "Conte conosco. Lembre-se de que você pode tirar dúvidas com revisores usando os comentários ou buscar ajuda de um tutor.\n",
    "Bom trabalho.\n",
    "</div>"
   ]
  },
  {
   "cell_type": "markdown",
   "id": "a9a0a691-ccc2-4f75-ad86-1125f9e2fd74",
   "metadata": {
    "tags": []
   },
   "source": [
    "## Faça a mesma coisa para o grupo com fontes alteradas. Compare os resultados com os de cada um dos grupos de controle para cada evento isoladamente. Compare os resultados com os resultados combinados para os grupos de controle. Quais conclusões você pode tirar do experimento?"
   ]
  },
  {
   "cell_type": "markdown",
   "id": "b8f28c23-58f7-4c59-9e88-1f138e5efff2",
   "metadata": {},
   "source": [
    "* <b>H0: There is NO significant difference between group 246 and 248 for all events</b>\n",
    "\n",
    "* <b>H1: There is a significant difference between group 246 and 248 for all events</b>"
   ]
  },
  {
   "cell_type": "code",
   "execution_count": 482,
   "id": "a8e7e0dd-4507-4e44-94c6-0e3b90d2432c",
   "metadata": {},
   "outputs": [
    {
     "data": {
      "text/html": [
       "<div>\n",
       "<style scoped>\n",
       "    .dataframe tbody tr th:only-of-type {\n",
       "        vertical-align: middle;\n",
       "    }\n",
       "\n",
       "    .dataframe tbody tr th {\n",
       "        vertical-align: top;\n",
       "    }\n",
       "\n",
       "    .dataframe thead th {\n",
       "        text-align: right;\n",
       "    }\n",
       "</style>\n",
       "<table border=\"1\" class=\"dataframe\">\n",
       "  <thead>\n",
       "    <tr style=\"text-align: right;\">\n",
       "      <th></th>\n",
       "      <th>event</th>\n",
       "      <th>device_id</th>\n",
       "      <th>timestamp</th>\n",
       "      <th>exp_id</th>\n",
       "      <th>datetime</th>\n",
       "      <th>date</th>\n",
       "      <th>time</th>\n",
       "      <th>month</th>\n",
       "    </tr>\n",
       "  </thead>\n",
       "  <tbody>\n",
       "    <tr>\n",
       "      <th>39057</th>\n",
       "      <td>CartScreenAppear</td>\n",
       "      <td>6304868067479728361</td>\n",
       "      <td>1564704000</td>\n",
       "      <td>248</td>\n",
       "      <td>2019-08-02 00:00:00</td>\n",
       "      <td>2019-08-02</td>\n",
       "      <td>00:00:00</td>\n",
       "      <td>8</td>\n",
       "    </tr>\n",
       "    <tr>\n",
       "      <th>39058</th>\n",
       "      <td>MainScreenAppear</td>\n",
       "      <td>6077372516405234625</td>\n",
       "      <td>1564704008</td>\n",
       "      <td>246</td>\n",
       "      <td>2019-08-02 00:00:08</td>\n",
       "      <td>2019-08-02</td>\n",
       "      <td>00:00:08</td>\n",
       "      <td>8</td>\n",
       "    </tr>\n",
       "    <tr>\n",
       "      <th>39073</th>\n",
       "      <td>MainScreenAppear</td>\n",
       "      <td>6991683592829765144</td>\n",
       "      <td>1564704106</td>\n",
       "      <td>248</td>\n",
       "      <td>2019-08-02 00:01:46</td>\n",
       "      <td>2019-08-02</td>\n",
       "      <td>00:01:46</td>\n",
       "      <td>8</td>\n",
       "    </tr>\n",
       "    <tr>\n",
       "      <th>39080</th>\n",
       "      <td>MainScreenAppear</td>\n",
       "      <td>6480400942582945061</td>\n",
       "      <td>1564704174</td>\n",
       "      <td>246</td>\n",
       "      <td>2019-08-02 00:02:54</td>\n",
       "      <td>2019-08-02</td>\n",
       "      <td>00:02:54</td>\n",
       "      <td>8</td>\n",
       "    </tr>\n",
       "    <tr>\n",
       "      <th>39101</th>\n",
       "      <td>MainScreenAppear</td>\n",
       "      <td>3689985694197060241</td>\n",
       "      <td>1564704295</td>\n",
       "      <td>246</td>\n",
       "      <td>2019-08-02 00:04:55</td>\n",
       "      <td>2019-08-02</td>\n",
       "      <td>00:04:55</td>\n",
       "      <td>8</td>\n",
       "    </tr>\n",
       "    <tr>\n",
       "      <th>...</th>\n",
       "      <td>...</td>\n",
       "      <td>...</td>\n",
       "      <td>...</td>\n",
       "      <td>...</td>\n",
       "      <td>...</td>\n",
       "      <td>...</td>\n",
       "      <td>...</td>\n",
       "      <td>...</td>\n",
       "    </tr>\n",
       "    <tr>\n",
       "      <th>243157</th>\n",
       "      <td>MainScreenAppear</td>\n",
       "      <td>6316979872032596527</td>\n",
       "      <td>1565208219</td>\n",
       "      <td>246</td>\n",
       "      <td>2019-08-07 20:03:39</td>\n",
       "      <td>2019-08-07</td>\n",
       "      <td>20:03:39</td>\n",
       "      <td>8</td>\n",
       "    </tr>\n",
       "    <tr>\n",
       "      <th>243339</th>\n",
       "      <td>MainScreenAppear</td>\n",
       "      <td>5811573131275421338</td>\n",
       "      <td>1565208834</td>\n",
       "      <td>248</td>\n",
       "      <td>2019-08-07 20:13:54</td>\n",
       "      <td>2019-08-07</td>\n",
       "      <td>20:13:54</td>\n",
       "      <td>8</td>\n",
       "    </tr>\n",
       "    <tr>\n",
       "      <th>243542</th>\n",
       "      <td>Tutorial</td>\n",
       "      <td>5365227480683749189</td>\n",
       "      <td>1565209432</td>\n",
       "      <td>248</td>\n",
       "      <td>2019-08-07 20:23:52</td>\n",
       "      <td>2019-08-07</td>\n",
       "      <td>20:23:52</td>\n",
       "      <td>8</td>\n",
       "    </tr>\n",
       "    <tr>\n",
       "      <th>243777</th>\n",
       "      <td>MainScreenAppear</td>\n",
       "      <td>6660805781687343085</td>\n",
       "      <td>1565210322</td>\n",
       "      <td>246</td>\n",
       "      <td>2019-08-07 20:38:42</td>\n",
       "      <td>2019-08-07</td>\n",
       "      <td>20:38:42</td>\n",
       "      <td>8</td>\n",
       "    </tr>\n",
       "    <tr>\n",
       "      <th>243820</th>\n",
       "      <td>MainScreenAppear</td>\n",
       "      <td>7823752606740475984</td>\n",
       "      <td>1565210478</td>\n",
       "      <td>246</td>\n",
       "      <td>2019-08-07 20:41:18</td>\n",
       "      <td>2019-08-07</td>\n",
       "      <td>20:41:18</td>\n",
       "      <td>8</td>\n",
       "    </tr>\n",
       "  </tbody>\n",
       "</table>\n",
       "<p>4852 rows × 8 columns</p>\n",
       "</div>"
      ],
      "text/plain": [
       "                   event            device_id   timestamp  exp_id  \\\n",
       "39057   CartScreenAppear  6304868067479728361  1564704000     248   \n",
       "39058   MainScreenAppear  6077372516405234625  1564704008     246   \n",
       "39073   MainScreenAppear  6991683592829765144  1564704106     248   \n",
       "39080   MainScreenAppear  6480400942582945061  1564704174     246   \n",
       "39101   MainScreenAppear  3689985694197060241  1564704295     246   \n",
       "...                  ...                  ...         ...     ...   \n",
       "243157  MainScreenAppear  6316979872032596527  1565208219     246   \n",
       "243339  MainScreenAppear  5811573131275421338  1565208834     248   \n",
       "243542          Tutorial  5365227480683749189  1565209432     248   \n",
       "243777  MainScreenAppear  6660805781687343085  1565210322     246   \n",
       "243820  MainScreenAppear  7823752606740475984  1565210478     246   \n",
       "\n",
       "                  datetime       date      time  month  \n",
       "39057  2019-08-02 00:00:00 2019-08-02  00:00:00      8  \n",
       "39058  2019-08-02 00:00:08 2019-08-02  00:00:08      8  \n",
       "39073  2019-08-02 00:01:46 2019-08-02  00:01:46      8  \n",
       "39080  2019-08-02 00:02:54 2019-08-02  00:02:54      8  \n",
       "39101  2019-08-02 00:04:55 2019-08-02  00:04:55      8  \n",
       "...                    ...        ...       ...    ...  \n",
       "243157 2019-08-07 20:03:39 2019-08-07  20:03:39      8  \n",
       "243339 2019-08-07 20:13:54 2019-08-07  20:13:54      8  \n",
       "243542 2019-08-07 20:23:52 2019-08-07  20:23:52      8  \n",
       "243777 2019-08-07 20:38:42 2019-08-07  20:38:42      8  \n",
       "243820 2019-08-07 20:41:18 2019-08-07  20:41:18      8  \n",
       "\n",
       "[4852 rows x 8 columns]"
      ]
     },
     "execution_count": 482,
     "metadata": {},
     "output_type": "execute_result"
    }
   ],
   "source": [
    "#selection group 246 and 248 \n",
    "a_b = aug_log[aug_log['exp_id'].isin([246,248])].drop_duplicates(subset = 'device_id')\n",
    "a_b"
   ]
  },
  {
   "cell_type": "code",
   "execution_count": 501,
   "id": "c0feb8a4-5d62-4cc5-8bd1-849a63279f5d",
   "metadata": {},
   "outputs": [
    {
     "data": {
      "text/html": [
       "<div>\n",
       "<style scoped>\n",
       "    .dataframe tbody tr th:only-of-type {\n",
       "        vertical-align: middle;\n",
       "    }\n",
       "\n",
       "    .dataframe tbody tr th {\n",
       "        vertical-align: top;\n",
       "    }\n",
       "\n",
       "    .dataframe thead th {\n",
       "        text-align: right;\n",
       "    }\n",
       "</style>\n",
       "<table border=\"1\" class=\"dataframe\">\n",
       "  <thead>\n",
       "    <tr style=\"text-align: right;\">\n",
       "      <th>exp_id</th>\n",
       "      <th>event</th>\n",
       "      <th>246</th>\n",
       "      <th>248</th>\n",
       "    </tr>\n",
       "  </thead>\n",
       "  <tbody>\n",
       "    <tr>\n",
       "      <th>0</th>\n",
       "      <td>CartScreenAppear</td>\n",
       "      <td>18</td>\n",
       "      <td>27</td>\n",
       "    </tr>\n",
       "    <tr>\n",
       "      <th>1</th>\n",
       "      <td>MainScreenAppear</td>\n",
       "      <td>2035</td>\n",
       "      <td>2083</td>\n",
       "    </tr>\n",
       "    <tr>\n",
       "      <th>2</th>\n",
       "      <td>OffersScreenAppear</td>\n",
       "      <td>91</td>\n",
       "      <td>90</td>\n",
       "    </tr>\n",
       "    <tr>\n",
       "      <th>3</th>\n",
       "      <td>PaymentScreenSuccessful</td>\n",
       "      <td>35</td>\n",
       "      <td>40</td>\n",
       "    </tr>\n",
       "    <tr>\n",
       "      <th>4</th>\n",
       "      <td>Tutorial</td>\n",
       "      <td>214</td>\n",
       "      <td>219</td>\n",
       "    </tr>\n",
       "  </tbody>\n",
       "</table>\n",
       "</div>"
      ],
      "text/plain": [
       "exp_id                    event   246   248\n",
       "0              CartScreenAppear    18    27\n",
       "1              MainScreenAppear  2035  2083\n",
       "2            OffersScreenAppear    91    90\n",
       "3       PaymentScreenSuccessful    35    40\n",
       "4                      Tutorial   214   219"
      ]
     },
     "execution_count": 501,
     "metadata": {},
     "output_type": "execute_result"
    }
   ],
   "source": [
    "#event pivot_table group a and b\n",
    "ab_event = pd.pivot_table(data=a_b, index='event',columns='exp_id',values='device_id',aggfunc='nunique').reset_index()\n",
    "ab_event"
   ]
  },
  {
   "cell_type": "code",
   "execution_count": 503,
   "id": "56ab196d-6aa5-478d-83dc-80c574dea1fe",
   "metadata": {},
   "outputs": [
    {
     "name": "stdout",
     "output_type": "stream",
     "text": [
      " We can't reject null hypotesis\n"
     ]
    }
   ],
   "source": [
    "#running chi2 test for each event group 246 and 248\n",
    "group = [246,248]\n",
    " \n",
    "#perform chi-square test for the current event\n",
    "chi2_stat, p_val, dof, expected = chi2_contingency(ab_event[group])\n",
    "\n",
    "if p_value < alpha:\n",
    "    print('Reject null hypotesis')\n",
    "else:\n",
    "    print(\" We can't reject null hypotesis\")"
   ]
  },
  {
   "cell_type": "markdown",
   "id": "ddc325b2-7aae-4c86-bb3a-5aa2d68ca827",
   "metadata": {},
   "source": [
    "* <b>There is a significant difference between group 246 and 248 for all events</b>"
   ]
  },
  {
   "cell_type": "code",
   "execution_count": null,
   "id": "ab89ab89-ee4c-4b94-a27e-1857e6fba010",
   "metadata": {},
   "outputs": [],
   "source": []
  },
  {
   "cell_type": "code",
   "execution_count": null,
   "id": "562e1ecb-eb2f-463e-a565-7176633ef79b",
   "metadata": {},
   "outputs": [],
   "source": []
  },
  {
   "cell_type": "markdown",
   "id": "b5e54db0-d738-47fc-bef8-554f26d5ae97",
   "metadata": {},
   "source": [
    "## Qual nível de significância você definiu para testar as hipóteses estatísticas mencionadas acima? Calcule quantos testes de hipóteses estatísticas você realizou. Com um nível de significância estatística de 0,1, um de cada 10 resultados pode ser falso. Qual deveria ser o nível de significância?Se você quiser alterá-lo, execute as etapas anteriores novamente e verifique suas conclusões."
   ]
  },
  {
   "cell_type": "markdown",
   "id": "9a2835ca-902f-45ff-b1ce-f792dca9f98d",
   "metadata": {},
   "source": [
    "* signifance was set at 5%\n",
    "    \n",
    "* 3 chi2 tests were done. 2 for comparison control groups (246,247) and 1 between control and treatment group(246,248)\n",
    "    \n",
    "    "
   ]
  },
  {
   "cell_type": "code",
   "execution_count": 517,
   "id": "60c8f27e-e730-4de1-ab71-365a1947d445",
   "metadata": {},
   "outputs": [],
   "source": [
    "#setting significance at 10%\n",
    "alpha10 = 0.1"
   ]
  },
  {
   "cell_type": "markdown",
   "id": "1eabd505-06d3-44f7-a37e-21c5cbfcff23",
   "metadata": {},
   "source": [
    "## Test A/A significance 10%"
   ]
  },
  {
   "cell_type": "code",
   "execution_count": 523,
   "id": "517c5b0c-133a-4155-ad57-a4ecde2cd316",
   "metadata": {},
   "outputs": [
    {
     "name": "stdout",
     "output_type": "stream",
     "text": [
      " We can't reject null hypotesis\n"
     ]
    }
   ],
   "source": [
    "# test A/A using 10% significance\n",
    "\n",
    "#running chi2 test for each event group 246 and 247\n",
    "group = [246,247]\n",
    " \n",
    "#perform chi-square test for the current event\n",
    "chi2_stat, p_val, dof, expected = chi2_contingency(a1_a2_event[group])\n",
    "\n",
    "if p_value < alpha10:\n",
    "    print('Reject null hypotesis')\n",
    "else:\n",
    "    print(\" We can't reject null hypotesis\")"
   ]
  },
  {
   "cell_type": "markdown",
   "id": "38230672-2b85-42a3-8e4d-6c94fc0ce69f",
   "metadata": {},
   "source": [
    "## Test A/B significance 10%"
   ]
  },
  {
   "cell_type": "markdown",
   "id": "83801571-7680-46eb-bb64-2ff2e38612ea",
   "metadata": {},
   "source": [
    "* <b>H0: There is NO significant difference between group 246 and 248 for all events</b>\n",
    "\n",
    "* <b>H1: There is a significant difference between group 246 and 248 for all events</b>"
   ]
  },
  {
   "cell_type": "code",
   "execution_count": 525,
   "id": "d4b7b8e3-5c10-48f6-bb5e-ae339d57d500",
   "metadata": {},
   "outputs": [
    {
     "name": "stdout",
     "output_type": "stream",
     "text": [
      " We can't reject null hypotesis\n"
     ]
    }
   ],
   "source": [
    "#test A/B using significance 10%\n",
    "\n",
    "#running chi2 test for each event group 246 and 248\n",
    "group = [246,248]\n",
    " \n",
    "#perform chi-square test for the current event\n",
    "chi2_stat, p_val, dof, expected = chi2_contingency(ab_event[group])\n",
    "\n",
    "if p_value < alpha10:\n",
    "    print('Reject null hypotesis')\n",
    "else:\n",
    "    print(\" We can't reject null hypotesis\")"
   ]
  },
  {
   "cell_type": "code",
   "execution_count": null,
   "id": "b435c825-10d0-46d8-a7a9-1cda561a8c75",
   "metadata": {},
   "outputs": [],
   "source": []
  }
 ],
 "metadata": {
  "kernelspec": {
   "display_name": "anaconda-2022.05-py39",
   "language": "python",
   "name": "conda-env-anaconda-2022.05-py39-py"
  },
  "language_info": {
   "codemirror_mode": {
    "name": "ipython",
    "version": 3
   },
   "file_extension": ".py",
   "mimetype": "text/x-python",
   "name": "python",
   "nbconvert_exporter": "python",
   "pygments_lexer": "ipython3",
   "version": "3.9.12"
  },
  "toc": {
   "base_numbering": 1,
   "nav_menu": {},
   "number_sections": true,
   "sideBar": true,
   "skip_h1_title": true,
   "title_cell": "Table of Contents",
   "title_sidebar": "Contents",
   "toc_cell": false,
   "toc_position": {},
   "toc_section_display": true,
   "toc_window_display": false
  },
  "toc-autonumbering": true
 },
 "nbformat": 4,
 "nbformat_minor": 5
}
