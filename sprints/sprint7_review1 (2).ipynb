{
 "cells": [
  {
   "cell_type": "markdown",
   "id": "2ece2a2d",
   "metadata": {},
   "source": [
    "Olá, Renan!\n",
    "\n",
    "Meu nome é Ramon. Fico feliz em revisar seu projeto. Ao ao longo do texto farei algumas observações sobre melhorias no código e também farei comentários sobre suas percepções sobre o assunto. Estarei aberto a feedbacks e discussões sobre o tema.\n",
    "\n",
    "**Peço que mantenha e não altere os comentários que eu fizer por aqui para que possamos nos localizar posteriormente, ok?**\n",
    "\n",
    "Mais uma coisa, vamos utilizar um código de cores para você entender os meus feedbacks no seu notebook. Funciona assim:\n",
    "\n",
    "<div class=\"alert alert-block alert-success\">\n",
    "<b> Comentário do revisor: </b> <a class=\"tocSkip\"></a>\n",
    "\n",
    "Sucesso. Tudo foi feito corretamente.\n",
    "</div>\n",
    "\n",
    "<div class=\"alert alert-block alert-warning\">\n",
    "<b>Comentário do revisor: </b> <a class=\"tocSkip\"></a>\n",
    "\n",
    "Alerta não crítco, mas que pode ser corrigido para melhoria geral no seu código/análise\n",
    "</div>\n",
    "\n",
    "<div class=\"alert alert-block alert-danger\">\n",
    "\n",
    "<b>Comentário do revisor: </b> <a class=\"tocSkip\"></a>\n",
    "    \n",
    "Erro que precisa ser consertado, caso contrário seu projeto **não** será aceito.\n",
    "</div>\n",
    "\n",
    "Você pode me responder usando isso:\n",
    "<div class=\"alert alert-block alert-info\">\n",
    "<b>Resposta do Aluno.</b> <a class=\"tocSkip\"></a>\n",
    "</div>"
   ]
  },
  {
   "cell_type": "markdown",
   "id": "935ab590-c7fb-4b9b-9153-3c567dd8c362",
   "metadata": {
    "tags": []
   },
   "source": [
    "# Project Description\n"
   ]
  },
  {
   "cell_type": "markdown",
   "id": "e78602c5-2080-473b-851a-9ef0a047bf09",
   "metadata": {},
   "source": [
    "Você se saiu muito bem no curso do TripleTen e recebeu uma oferta de estágio no departamento analítico da Y.Afisha. Sua primeira tarefa é ajudar a empresa a otimizar suas despesas com marketing.\n",
    "Você tem:\n",
    "\n",
    "Logs do servidor com dados sobre os acessos a Y.Afisha de janeiro de 2017 até dezembro de 2018\n",
    "Arquivo de despejo com todos os pedidos feitos durante o período\n",
    "Estatísticas de despesas com marketing\n",
    "\n",
    "Você vai analisar:\n",
    "\n",
    "Como as pessoas usam o produto\n",
    "Quando elas começam a comprar\n",
    "Quanto dinheiro cada cliente traz para a empresa\n",
    "Quando as despesas serão cobertas"
   ]
  },
  {
   "cell_type": "code",
   "execution_count": null,
   "id": "c74de7f6-b7a1-4215-9fbc-9e8412c3dc0b",
   "metadata": {},
   "outputs": [],
   "source": []
  },
  {
   "cell_type": "code",
   "execution_count": null,
   "id": "7fdfcaf8-571d-4e93-8bc4-a136b7c3f5c1",
   "metadata": {},
   "outputs": [],
   "source": []
  },
  {
   "cell_type": "markdown",
   "id": "c0da75a5-d180-4b8d-aa62-20b46a34a870",
   "metadata": {},
   "source": [
    "BOA TARDE, GOSTARIA DE SABER COMO ESTA INDO ANTES DE EU ESCREVER A CONCLUSAO, OBRIGADO! TENHO DUAS DUVIDAS ABAIXO"
   ]
  },
  {
   "cell_type": "code",
   "execution_count": null,
   "id": "a58487bf-b9a5-4a75-bbb9-594a2c615404",
   "metadata": {},
   "outputs": [],
   "source": []
  },
  {
   "cell_type": "code",
   "execution_count": null,
   "id": "e332c714-1fd2-4359-a5ff-a6248c787b1d",
   "metadata": {},
   "outputs": [],
   "source": []
  },
  {
   "cell_type": "markdown",
   "id": "b71e9875-2697-4b4c-8cb8-72e9849fe3fe",
   "metadata": {
    "tags": []
   },
   "source": [
    "## initializing"
   ]
  },
  {
   "cell_type": "code",
   "execution_count": 47,
   "id": "92966fcb-1c45-45f3-9567-9270e33bf194",
   "metadata": {},
   "outputs": [],
   "source": [
    "# importing libraries\n",
    "\n",
    "import pandas as pd\n",
    "\n",
    "import matplotlib.pyplot as plt\n",
    "\n",
    "import numpy as np\n"
   ]
  },
  {
   "cell_type": "markdown",
   "id": "d6a94297-c786-42a8-8fa8-ea11b2083d23",
   "metadata": {},
   "source": [
    "## loading files"
   ]
  },
  {
   "cell_type": "code",
   "execution_count": 49,
   "id": "673f67bd-29e3-4ff9-a668-28a24686165a",
   "metadata": {},
   "outputs": [],
   "source": [
    "# reading files\n",
    "\n",
    "try:\n",
    "    costs_us = pd.read_csv(\"/datasets/costs_us.csv\")\n",
    "\n",
    "except FileNotFoundError:\n",
    "    costs_us = pd.read_csv(\"costs_us.csv\")"
   ]
  },
  {
   "cell_type": "code",
   "execution_count": 50,
   "id": "cab6166b-ba6c-4af3-93b3-54cd304e2a1b",
   "metadata": {},
   "outputs": [],
   "source": [
    "try:\n",
    "    orders_log = pd.read_csv(\"/datasets/orders_log_us.csv\")\n",
    "\n",
    "except FileNotFoundError:\n",
    "    orders_log = pd.read_csv(\"orders_log_us.csv\")"
   ]
  },
  {
   "cell_type": "code",
   "execution_count": 51,
   "id": "8df9ce10-7dc1-4101-a8fd-6fbd81048139",
   "metadata": {},
   "outputs": [],
   "source": [
    "try:\n",
    "    visits_log = pd.read_csv(\"/datasets/visits_log_us.csv\")\n",
    "\n",
    "except FileNotFoundError:\n",
    "    visits_log = pd.read_csv(\"visits_log_us.csv\")"
   ]
  },
  {
   "cell_type": "code",
   "execution_count": 52,
   "id": "e23438b4-57a9-4771-bfab-9f28111b99de",
   "metadata": {},
   "outputs": [
    {
     "name": "stdout",
     "output_type": "stream",
     "text": [
      "<class 'pandas.core.frame.DataFrame'>\n",
      "RangeIndex: 2542 entries, 0 to 2541\n",
      "Data columns (total 3 columns):\n",
      " #   Column     Non-Null Count  Dtype  \n",
      "---  ------     --------------  -----  \n",
      " 0   source_id  2542 non-null   int64  \n",
      " 1   dt         2542 non-null   object \n",
      " 2   costs      2542 non-null   float64\n",
      "dtypes: float64(1), int64(1), object(1)\n",
      "memory usage: 59.7+ KB\n"
     ]
    }
   ],
   "source": [
    "costs_us.info()"
   ]
  },
  {
   "cell_type": "code",
   "execution_count": 53,
   "id": "28d06381-98ed-4913-b684-b2a1a1dd461d",
   "metadata": {},
   "outputs": [
    {
     "data": {
      "text/html": [
       "<div>\n",
       "<style scoped>\n",
       "    .dataframe tbody tr th:only-of-type {\n",
       "        vertical-align: middle;\n",
       "    }\n",
       "\n",
       "    .dataframe tbody tr th {\n",
       "        vertical-align: top;\n",
       "    }\n",
       "\n",
       "    .dataframe thead th {\n",
       "        text-align: right;\n",
       "    }\n",
       "</style>\n",
       "<table border=\"1\" class=\"dataframe\">\n",
       "  <thead>\n",
       "    <tr style=\"text-align: right;\">\n",
       "      <th></th>\n",
       "      <th>source_id</th>\n",
       "      <th>dt</th>\n",
       "      <th>costs</th>\n",
       "    </tr>\n",
       "  </thead>\n",
       "  <tbody>\n",
       "    <tr>\n",
       "      <th>0</th>\n",
       "      <td>1</td>\n",
       "      <td>2017-06-01</td>\n",
       "      <td>75.20</td>\n",
       "    </tr>\n",
       "    <tr>\n",
       "      <th>1</th>\n",
       "      <td>1</td>\n",
       "      <td>2017-06-02</td>\n",
       "      <td>62.25</td>\n",
       "    </tr>\n",
       "    <tr>\n",
       "      <th>2</th>\n",
       "      <td>1</td>\n",
       "      <td>2017-06-03</td>\n",
       "      <td>36.53</td>\n",
       "    </tr>\n",
       "    <tr>\n",
       "      <th>3</th>\n",
       "      <td>1</td>\n",
       "      <td>2017-06-04</td>\n",
       "      <td>55.00</td>\n",
       "    </tr>\n",
       "    <tr>\n",
       "      <th>4</th>\n",
       "      <td>1</td>\n",
       "      <td>2017-06-05</td>\n",
       "      <td>57.08</td>\n",
       "    </tr>\n",
       "  </tbody>\n",
       "</table>\n",
       "</div>"
      ],
      "text/plain": [
       "   source_id          dt  costs\n",
       "0          1  2017-06-01  75.20\n",
       "1          1  2017-06-02  62.25\n",
       "2          1  2017-06-03  36.53\n",
       "3          1  2017-06-04  55.00\n",
       "4          1  2017-06-05  57.08"
      ]
     },
     "execution_count": 53,
     "metadata": {},
     "output_type": "execute_result"
    }
   ],
   "source": [
    "costs_us.head()"
   ]
  },
  {
   "cell_type": "code",
   "execution_count": 54,
   "id": "f2b53a76-255d-47a8-8ebd-49f4f6ba2979",
   "metadata": {},
   "outputs": [
    {
     "data": {
      "text/plain": [
       "False    2542\n",
       "Name: count, dtype: int64"
      ]
     },
     "execution_count": 54,
     "metadata": {},
     "output_type": "execute_result"
    }
   ],
   "source": [
    "# checking for duplicates in 'costs_us'\n",
    "\n",
    "costs_us.duplicated().value_counts()"
   ]
  },
  {
   "cell_type": "code",
   "execution_count": 55,
   "id": "aee7d8bd-f11f-4a53-b9a8-4afed9249715",
   "metadata": {},
   "outputs": [
    {
     "name": "stdout",
     "output_type": "stream",
     "text": [
      "<class 'pandas.core.frame.DataFrame'>\n",
      "RangeIndex: 50415 entries, 0 to 50414\n",
      "Data columns (total 3 columns):\n",
      " #   Column   Non-Null Count  Dtype  \n",
      "---  ------   --------------  -----  \n",
      " 0   Buy Ts   50415 non-null  object \n",
      " 1   Revenue  50415 non-null  float64\n",
      " 2   Uid      50415 non-null  uint64 \n",
      "dtypes: float64(1), object(1), uint64(1)\n",
      "memory usage: 1.2+ MB\n"
     ]
    }
   ],
   "source": [
    "orders_log.info()"
   ]
  },
  {
   "cell_type": "code",
   "execution_count": 56,
   "id": "da18227f-ab6b-40b5-ad1c-26fdac3a03d8",
   "metadata": {},
   "outputs": [
    {
     "data": {
      "text/html": [
       "<div>\n",
       "<style scoped>\n",
       "    .dataframe tbody tr th:only-of-type {\n",
       "        vertical-align: middle;\n",
       "    }\n",
       "\n",
       "    .dataframe tbody tr th {\n",
       "        vertical-align: top;\n",
       "    }\n",
       "\n",
       "    .dataframe thead th {\n",
       "        text-align: right;\n",
       "    }\n",
       "</style>\n",
       "<table border=\"1\" class=\"dataframe\">\n",
       "  <thead>\n",
       "    <tr style=\"text-align: right;\">\n",
       "      <th></th>\n",
       "      <th>Buy Ts</th>\n",
       "      <th>Revenue</th>\n",
       "      <th>Uid</th>\n",
       "    </tr>\n",
       "  </thead>\n",
       "  <tbody>\n",
       "    <tr>\n",
       "      <th>0</th>\n",
       "      <td>2017-06-01 00:10:00</td>\n",
       "      <td>17.00</td>\n",
       "      <td>10329302124590727494</td>\n",
       "    </tr>\n",
       "    <tr>\n",
       "      <th>1</th>\n",
       "      <td>2017-06-01 00:25:00</td>\n",
       "      <td>0.55</td>\n",
       "      <td>11627257723692907447</td>\n",
       "    </tr>\n",
       "    <tr>\n",
       "      <th>2</th>\n",
       "      <td>2017-06-01 00:27:00</td>\n",
       "      <td>0.37</td>\n",
       "      <td>17903680561304213844</td>\n",
       "    </tr>\n",
       "    <tr>\n",
       "      <th>3</th>\n",
       "      <td>2017-06-01 00:29:00</td>\n",
       "      <td>0.55</td>\n",
       "      <td>16109239769442553005</td>\n",
       "    </tr>\n",
       "    <tr>\n",
       "      <th>4</th>\n",
       "      <td>2017-06-01 07:58:00</td>\n",
       "      <td>0.37</td>\n",
       "      <td>14200605875248379450</td>\n",
       "    </tr>\n",
       "  </tbody>\n",
       "</table>\n",
       "</div>"
      ],
      "text/plain": [
       "                Buy Ts  Revenue                   Uid\n",
       "0  2017-06-01 00:10:00    17.00  10329302124590727494\n",
       "1  2017-06-01 00:25:00     0.55  11627257723692907447\n",
       "2  2017-06-01 00:27:00     0.37  17903680561304213844\n",
       "3  2017-06-01 00:29:00     0.55  16109239769442553005\n",
       "4  2017-06-01 07:58:00     0.37  14200605875248379450"
      ]
     },
     "execution_count": 56,
     "metadata": {},
     "output_type": "execute_result"
    }
   ],
   "source": [
    "orders_log.head()"
   ]
  },
  {
   "cell_type": "code",
   "execution_count": 57,
   "id": "2208321e-91ef-4374-bc5f-86e27d14d7cd",
   "metadata": {},
   "outputs": [
    {
     "data": {
      "text/plain": [
       "False    50415\n",
       "Name: count, dtype: int64"
      ]
     },
     "execution_count": 57,
     "metadata": {},
     "output_type": "execute_result"
    }
   ],
   "source": [
    "# checking for duplicates in 'orders_log'\n",
    "\n",
    "orders_log.duplicated().value_counts()"
   ]
  },
  {
   "cell_type": "code",
   "execution_count": 58,
   "id": "93e5ad01-8c60-401d-8c5c-6fb07cb31182",
   "metadata": {},
   "outputs": [
    {
     "name": "stdout",
     "output_type": "stream",
     "text": [
      "<class 'pandas.core.frame.DataFrame'>\n",
      "RangeIndex: 359400 entries, 0 to 359399\n",
      "Data columns (total 5 columns):\n",
      " #   Column     Non-Null Count   Dtype \n",
      "---  ------     --------------   ----- \n",
      " 0   Device     359400 non-null  object\n",
      " 1   End Ts     359400 non-null  object\n",
      " 2   Source Id  359400 non-null  int64 \n",
      " 3   Start Ts   359400 non-null  object\n",
      " 4   Uid        359400 non-null  uint64\n",
      "dtypes: int64(1), object(3), uint64(1)\n",
      "memory usage: 13.7+ MB\n"
     ]
    }
   ],
   "source": [
    "visits_log.info()"
   ]
  },
  {
   "cell_type": "code",
   "execution_count": 59,
   "id": "129d09d4-c0b7-4ba4-983f-185ddd35d129",
   "metadata": {},
   "outputs": [
    {
     "data": {
      "text/html": [
       "<div>\n",
       "<style scoped>\n",
       "    .dataframe tbody tr th:only-of-type {\n",
       "        vertical-align: middle;\n",
       "    }\n",
       "\n",
       "    .dataframe tbody tr th {\n",
       "        vertical-align: top;\n",
       "    }\n",
       "\n",
       "    .dataframe thead th {\n",
       "        text-align: right;\n",
       "    }\n",
       "</style>\n",
       "<table border=\"1\" class=\"dataframe\">\n",
       "  <thead>\n",
       "    <tr style=\"text-align: right;\">\n",
       "      <th></th>\n",
       "      <th>Device</th>\n",
       "      <th>End Ts</th>\n",
       "      <th>Source Id</th>\n",
       "      <th>Start Ts</th>\n",
       "      <th>Uid</th>\n",
       "    </tr>\n",
       "  </thead>\n",
       "  <tbody>\n",
       "    <tr>\n",
       "      <th>0</th>\n",
       "      <td>touch</td>\n",
       "      <td>2017-12-20 17:38:00</td>\n",
       "      <td>4</td>\n",
       "      <td>2017-12-20 17:20:00</td>\n",
       "      <td>16879256277535980062</td>\n",
       "    </tr>\n",
       "    <tr>\n",
       "      <th>1</th>\n",
       "      <td>desktop</td>\n",
       "      <td>2018-02-19 17:21:00</td>\n",
       "      <td>2</td>\n",
       "      <td>2018-02-19 16:53:00</td>\n",
       "      <td>104060357244891740</td>\n",
       "    </tr>\n",
       "    <tr>\n",
       "      <th>2</th>\n",
       "      <td>touch</td>\n",
       "      <td>2017-07-01 01:54:00</td>\n",
       "      <td>5</td>\n",
       "      <td>2017-07-01 01:54:00</td>\n",
       "      <td>7459035603376831527</td>\n",
       "    </tr>\n",
       "    <tr>\n",
       "      <th>3</th>\n",
       "      <td>desktop</td>\n",
       "      <td>2018-05-20 11:23:00</td>\n",
       "      <td>9</td>\n",
       "      <td>2018-05-20 10:59:00</td>\n",
       "      <td>16174680259334210214</td>\n",
       "    </tr>\n",
       "    <tr>\n",
       "      <th>4</th>\n",
       "      <td>desktop</td>\n",
       "      <td>2017-12-27 14:06:00</td>\n",
       "      <td>3</td>\n",
       "      <td>2017-12-27 14:06:00</td>\n",
       "      <td>9969694820036681168</td>\n",
       "    </tr>\n",
       "  </tbody>\n",
       "</table>\n",
       "</div>"
      ],
      "text/plain": [
       "    Device               End Ts  Source Id             Start Ts  \\\n",
       "0    touch  2017-12-20 17:38:00          4  2017-12-20 17:20:00   \n",
       "1  desktop  2018-02-19 17:21:00          2  2018-02-19 16:53:00   \n",
       "2    touch  2017-07-01 01:54:00          5  2017-07-01 01:54:00   \n",
       "3  desktop  2018-05-20 11:23:00          9  2018-05-20 10:59:00   \n",
       "4  desktop  2017-12-27 14:06:00          3  2017-12-27 14:06:00   \n",
       "\n",
       "                    Uid  \n",
       "0  16879256277535980062  \n",
       "1    104060357244891740  \n",
       "2   7459035603376831527  \n",
       "3  16174680259334210214  \n",
       "4   9969694820036681168  "
      ]
     },
     "execution_count": 59,
     "metadata": {},
     "output_type": "execute_result"
    }
   ],
   "source": [
    "visits_log.head()"
   ]
  },
  {
   "cell_type": "code",
   "execution_count": 60,
   "id": "7c92fc43-608c-408e-99b1-14e7a693e5c1",
   "metadata": {},
   "outputs": [
    {
     "data": {
      "text/plain": [
       "False    359400\n",
       "Name: count, dtype: int64"
      ]
     },
     "execution_count": 60,
     "metadata": {},
     "output_type": "execute_result"
    }
   ],
   "source": [
    "# checking for duplicates in 'visits_log'\n",
    "\n",
    "visits_log.duplicated().value_counts()"
   ]
  },
  {
   "cell_type": "markdown",
   "id": "04a8caef-ef0c-4e0f-956d-396d67b9fbd9",
   "metadata": {},
   "source": [
    "## modifying and standaryzing data"
   ]
  },
  {
   "cell_type": "code",
   "execution_count": 62,
   "id": "1268e80c-b629-469c-bff3-1a636b2efd3e",
   "metadata": {},
   "outputs": [],
   "source": [
    "# converting dt to date format\n",
    "\n",
    "costs_us['dt'] = pd.to_datetime(costs_us['dt'])"
   ]
  },
  {
   "cell_type": "code",
   "execution_count": 63,
   "id": "1fac5a0d-1380-4c4e-a5fe-783598555d70",
   "metadata": {},
   "outputs": [],
   "source": [
    "# renaming column Buy Ts to buy_ts\n",
    "\n",
    "orders_log.rename(columns={'Buy Ts': 'buy_ts'}, inplace=True)"
   ]
  },
  {
   "cell_type": "code",
   "execution_count": 64,
   "id": "9a122aa3-e042-4b0b-9349-b245a2655005",
   "metadata": {},
   "outputs": [],
   "source": [
    "# lowering cases on column names\n",
    "\n",
    "orders_log.columns = orders_log.columns.str.lower()"
   ]
  },
  {
   "cell_type": "code",
   "execution_count": 65,
   "id": "f328fcf0-e8fc-4173-aae5-dd2b33580e8d",
   "metadata": {},
   "outputs": [],
   "source": [
    "# converting buy_ts to date format\n",
    "\n",
    "orders_log['buy_ts'] = pd.to_datetime(orders_log['buy_ts'])"
   ]
  },
  {
   "cell_type": "code",
   "execution_count": 66,
   "id": "6eb94123-4f68-46fc-9726-962e198725f2",
   "metadata": {},
   "outputs": [],
   "source": [
    "# renaming End Ts, Start Ts and Source Id column names\n",
    "\n",
    "visits_log.rename(columns={'End Ts':'end_ts', 'Start Ts':'start_ts', 'Source Id':'source_id'}, inplace=True)"
   ]
  },
  {
   "cell_type": "code",
   "execution_count": 67,
   "id": "0010222f-ab85-4166-a8f6-0ee4dcf232d6",
   "metadata": {},
   "outputs": [],
   "source": [
    "# lowering cases on column names\n",
    "\n",
    "visits_log.columns = visits_log.columns.str.lower()"
   ]
  },
  {
   "cell_type": "code",
   "execution_count": 68,
   "id": "588142a9-f4b2-406e-bff5-bae8f7f7fa89",
   "metadata": {},
   "outputs": [],
   "source": [
    "# converting 'end_ts' to date format\n",
    "\n",
    "visits_log['end_ts'] = pd.to_datetime(visits_log['end_ts'])"
   ]
  },
  {
   "cell_type": "code",
   "execution_count": 69,
   "id": "5c4f45f5-2cf3-4445-b5e8-36269ecbf47b",
   "metadata": {},
   "outputs": [],
   "source": [
    "# converting 'start_ts' to date format\n",
    "\n",
    "visits_log['start_ts'] = pd.to_datetime(visits_log['start_ts'])"
   ]
  },
  {
   "cell_type": "markdown",
   "id": "20baa73b-83c3-4792-bafe-04bb392fc73b",
   "metadata": {},
   "source": [
    "## enhancing data"
   ]
  },
  {
   "cell_type": "markdown",
   "id": "dd876c0c-fdb9-4f52-91da-129c32e4db65",
   "metadata": {},
   "source": [
    "#### orders_log"
   ]
  },
  {
   "cell_type": "code",
   "execution_count": 72,
   "id": "a36ec6d5-67bb-4ca1-9464-daa0636d4569",
   "metadata": {},
   "outputs": [
    {
     "data": {
      "text/html": [
       "<div>\n",
       "<style scoped>\n",
       "    .dataframe tbody tr th:only-of-type {\n",
       "        vertical-align: middle;\n",
       "    }\n",
       "\n",
       "    .dataframe tbody tr th {\n",
       "        vertical-align: top;\n",
       "    }\n",
       "\n",
       "    .dataframe thead th {\n",
       "        text-align: right;\n",
       "    }\n",
       "</style>\n",
       "<table border=\"1\" class=\"dataframe\">\n",
       "  <thead>\n",
       "    <tr style=\"text-align: right;\">\n",
       "      <th></th>\n",
       "      <th>buy_ts</th>\n",
       "      <th>revenue</th>\n",
       "      <th>uid</th>\n",
       "    </tr>\n",
       "  </thead>\n",
       "  <tbody>\n",
       "    <tr>\n",
       "      <th>0</th>\n",
       "      <td>2017-06-01 00:10:00</td>\n",
       "      <td>17.00</td>\n",
       "      <td>10329302124590727494</td>\n",
       "    </tr>\n",
       "    <tr>\n",
       "      <th>1</th>\n",
       "      <td>2017-06-01 00:25:00</td>\n",
       "      <td>0.55</td>\n",
       "      <td>11627257723692907447</td>\n",
       "    </tr>\n",
       "    <tr>\n",
       "      <th>2</th>\n",
       "      <td>2017-06-01 00:27:00</td>\n",
       "      <td>0.37</td>\n",
       "      <td>17903680561304213844</td>\n",
       "    </tr>\n",
       "    <tr>\n",
       "      <th>3</th>\n",
       "      <td>2017-06-01 00:29:00</td>\n",
       "      <td>0.55</td>\n",
       "      <td>16109239769442553005</td>\n",
       "    </tr>\n",
       "    <tr>\n",
       "      <th>4</th>\n",
       "      <td>2017-06-01 07:58:00</td>\n",
       "      <td>0.37</td>\n",
       "      <td>14200605875248379450</td>\n",
       "    </tr>\n",
       "  </tbody>\n",
       "</table>\n",
       "</div>"
      ],
      "text/plain": [
       "               buy_ts  revenue                   uid\n",
       "0 2017-06-01 00:10:00    17.00  10329302124590727494\n",
       "1 2017-06-01 00:25:00     0.55  11627257723692907447\n",
       "2 2017-06-01 00:27:00     0.37  17903680561304213844\n",
       "3 2017-06-01 00:29:00     0.55  16109239769442553005\n",
       "4 2017-06-01 07:58:00     0.37  14200605875248379450"
      ]
     },
     "execution_count": 72,
     "metadata": {},
     "output_type": "execute_result"
    }
   ],
   "source": [
    "orders_log.head()"
   ]
  },
  {
   "cell_type": "code",
   "execution_count": 73,
   "id": "5e726fcc-8553-4f8c-8f67-3e5a0d53d9fe",
   "metadata": {},
   "outputs": [],
   "source": [
    "# adding column with day of order\n",
    "\n",
    "orders_log['order_day'] = orders_log['buy_ts'].dt.day"
   ]
  },
  {
   "cell_type": "code",
   "execution_count": 74,
   "id": "87ee0f16-d868-441c-b7cb-39548f932872",
   "metadata": {},
   "outputs": [],
   "source": [
    "# adding column with week of order\n",
    "\n",
    "orders_log['order_week'] = orders_log['buy_ts'].dt.isocalendar().week"
   ]
  },
  {
   "cell_type": "code",
   "execution_count": 75,
   "id": "12a9a900-615c-4001-a503-ae143c7b3177",
   "metadata": {},
   "outputs": [],
   "source": [
    "# adding column with month of order\n",
    "\n",
    "orders_log['order_month'] = orders_log['buy_ts'].dt.to_period('M')"
   ]
  },
  {
   "cell_type": "code",
   "execution_count": 76,
   "id": "f5367abf-bd40-4611-8505-2fc7702c99ea",
   "metadata": {},
   "outputs": [],
   "source": [
    "# adding column with year of order\n",
    "\n",
    "orders_log['order_year'] = orders_log['buy_ts'].dt.year"
   ]
  },
  {
   "cell_type": "markdown",
   "id": "31bfd35a-14b2-43fa-aa9b-b9d58047009a",
   "metadata": {},
   "source": [
    "#### visits_log"
   ]
  },
  {
   "cell_type": "code",
   "execution_count": 78,
   "id": "968b0cf6-42de-47f0-acec-25955f7d9795",
   "metadata": {},
   "outputs": [
    {
     "name": "stdout",
     "output_type": "stream",
     "text": [
      "<class 'pandas.core.frame.DataFrame'>\n",
      "RangeIndex: 359400 entries, 0 to 359399\n",
      "Data columns (total 5 columns):\n",
      " #   Column     Non-Null Count   Dtype         \n",
      "---  ------     --------------   -----         \n",
      " 0   device     359400 non-null  object        \n",
      " 1   end_ts     359400 non-null  datetime64[ns]\n",
      " 2   source_id  359400 non-null  int64         \n",
      " 3   start_ts   359400 non-null  datetime64[ns]\n",
      " 4   uid        359400 non-null  uint64        \n",
      "dtypes: datetime64[ns](2), int64(1), object(1), uint64(1)\n",
      "memory usage: 13.7+ MB\n"
     ]
    }
   ],
   "source": [
    "visits_log.info()"
   ]
  },
  {
   "cell_type": "code",
   "execution_count": 79,
   "id": "928bd720-3b4e-4d67-950c-57b254289349",
   "metadata": {},
   "outputs": [
    {
     "data": {
      "text/html": [
       "<div>\n",
       "<style scoped>\n",
       "    .dataframe tbody tr th:only-of-type {\n",
       "        vertical-align: middle;\n",
       "    }\n",
       "\n",
       "    .dataframe tbody tr th {\n",
       "        vertical-align: top;\n",
       "    }\n",
       "\n",
       "    .dataframe thead th {\n",
       "        text-align: right;\n",
       "    }\n",
       "</style>\n",
       "<table border=\"1\" class=\"dataframe\">\n",
       "  <thead>\n",
       "    <tr style=\"text-align: right;\">\n",
       "      <th></th>\n",
       "      <th>device</th>\n",
       "      <th>end_ts</th>\n",
       "      <th>source_id</th>\n",
       "      <th>start_ts</th>\n",
       "      <th>uid</th>\n",
       "    </tr>\n",
       "  </thead>\n",
       "  <tbody>\n",
       "    <tr>\n",
       "      <th>0</th>\n",
       "      <td>touch</td>\n",
       "      <td>2017-12-20 17:38:00</td>\n",
       "      <td>4</td>\n",
       "      <td>2017-12-20 17:20:00</td>\n",
       "      <td>16879256277535980062</td>\n",
       "    </tr>\n",
       "    <tr>\n",
       "      <th>1</th>\n",
       "      <td>desktop</td>\n",
       "      <td>2018-02-19 17:21:00</td>\n",
       "      <td>2</td>\n",
       "      <td>2018-02-19 16:53:00</td>\n",
       "      <td>104060357244891740</td>\n",
       "    </tr>\n",
       "    <tr>\n",
       "      <th>2</th>\n",
       "      <td>touch</td>\n",
       "      <td>2017-07-01 01:54:00</td>\n",
       "      <td>5</td>\n",
       "      <td>2017-07-01 01:54:00</td>\n",
       "      <td>7459035603376831527</td>\n",
       "    </tr>\n",
       "    <tr>\n",
       "      <th>3</th>\n",
       "      <td>desktop</td>\n",
       "      <td>2018-05-20 11:23:00</td>\n",
       "      <td>9</td>\n",
       "      <td>2018-05-20 10:59:00</td>\n",
       "      <td>16174680259334210214</td>\n",
       "    </tr>\n",
       "    <tr>\n",
       "      <th>4</th>\n",
       "      <td>desktop</td>\n",
       "      <td>2017-12-27 14:06:00</td>\n",
       "      <td>3</td>\n",
       "      <td>2017-12-27 14:06:00</td>\n",
       "      <td>9969694820036681168</td>\n",
       "    </tr>\n",
       "  </tbody>\n",
       "</table>\n",
       "</div>"
      ],
      "text/plain": [
       "    device              end_ts  source_id            start_ts  \\\n",
       "0    touch 2017-12-20 17:38:00          4 2017-12-20 17:20:00   \n",
       "1  desktop 2018-02-19 17:21:00          2 2018-02-19 16:53:00   \n",
       "2    touch 2017-07-01 01:54:00          5 2017-07-01 01:54:00   \n",
       "3  desktop 2018-05-20 11:23:00          9 2018-05-20 10:59:00   \n",
       "4  desktop 2017-12-27 14:06:00          3 2017-12-27 14:06:00   \n",
       "\n",
       "                    uid  \n",
       "0  16879256277535980062  \n",
       "1    104060357244891740  \n",
       "2   7459035603376831527  \n",
       "3  16174680259334210214  \n",
       "4   9969694820036681168  "
      ]
     },
     "execution_count": 79,
     "metadata": {},
     "output_type": "execute_result"
    }
   ],
   "source": [
    "visits_log.head()"
   ]
  },
  {
   "cell_type": "code",
   "execution_count": 80,
   "id": "cb5ed82d-e398-476e-88b2-dacbb0516796",
   "metadata": {},
   "outputs": [],
   "source": [
    "# adding column 'time_spent' per visit\n",
    "\n",
    "visits_log['time_spent'] = (visits_log['end_ts'] - visits_log['start_ts']).dt.seconds"
   ]
  },
  {
   "cell_type": "code",
   "execution_count": 81,
   "id": "3efd4b07-c14d-47bf-b49d-4f88ab031f9d",
   "metadata": {},
   "outputs": [],
   "source": [
    "visits_log['visit_day'] = visits_log['start_ts'].dt.day"
   ]
  },
  {
   "cell_type": "code",
   "execution_count": 82,
   "id": "924ddbc2-efb1-4109-9c99-e897c8f4ca13",
   "metadata": {},
   "outputs": [],
   "source": [
    "visits_log['visit_week'] = visits_log['start_ts'].dt.isocalendar().week"
   ]
  },
  {
   "cell_type": "code",
   "execution_count": 83,
   "id": "f729c55d-134f-47c5-8789-e64edbfd1ef7",
   "metadata": {},
   "outputs": [],
   "source": [
    "visits_log['visit_month'] = visits_log['start_ts'].dt.month"
   ]
  },
  {
   "cell_type": "code",
   "execution_count": 84,
   "id": "9f1a1752-ec74-4a4c-9267-17778ba2e4d0",
   "metadata": {},
   "outputs": [],
   "source": [
    "visits_log['visit_year'] = visits_log['start_ts'].dt.year"
   ]
  },
  {
   "cell_type": "code",
   "execution_count": 85,
   "id": "96dd34c0-e1d9-4206-963a-b8ad7543c3d0",
   "metadata": {},
   "outputs": [],
   "source": [
    "# merging orders and visits\n",
    "\n",
    "orders_visits = orders_log.merge(visits_log, on='uid', how='left')"
   ]
  },
  {
   "cell_type": "code",
   "execution_count": 86,
   "id": "c478ed81-090b-4dd7-9f9a-e23a73b29fdc",
   "metadata": {},
   "outputs": [
    {
     "data": {
      "text/html": [
       "<div>\n",
       "<style scoped>\n",
       "    .dataframe tbody tr th:only-of-type {\n",
       "        vertical-align: middle;\n",
       "    }\n",
       "\n",
       "    .dataframe tbody tr th {\n",
       "        vertical-align: top;\n",
       "    }\n",
       "\n",
       "    .dataframe thead th {\n",
       "        text-align: right;\n",
       "    }\n",
       "</style>\n",
       "<table border=\"1\" class=\"dataframe\">\n",
       "  <thead>\n",
       "    <tr style=\"text-align: right;\">\n",
       "      <th></th>\n",
       "      <th>buy_ts</th>\n",
       "      <th>revenue</th>\n",
       "      <th>uid</th>\n",
       "      <th>order_day</th>\n",
       "      <th>order_week</th>\n",
       "      <th>order_month</th>\n",
       "      <th>order_year</th>\n",
       "      <th>device</th>\n",
       "      <th>end_ts</th>\n",
       "      <th>source_id</th>\n",
       "      <th>start_ts</th>\n",
       "      <th>time_spent</th>\n",
       "      <th>visit_day</th>\n",
       "      <th>visit_week</th>\n",
       "      <th>visit_month</th>\n",
       "      <th>visit_year</th>\n",
       "    </tr>\n",
       "  </thead>\n",
       "  <tbody>\n",
       "    <tr>\n",
       "      <th>0</th>\n",
       "      <td>2017-06-01 00:10:00</td>\n",
       "      <td>17.00</td>\n",
       "      <td>10329302124590727494</td>\n",
       "      <td>1</td>\n",
       "      <td>22</td>\n",
       "      <td>2017-06</td>\n",
       "      <td>2017</td>\n",
       "      <td>desktop</td>\n",
       "      <td>2017-06-01 00:11:00</td>\n",
       "      <td>1</td>\n",
       "      <td>2017-06-01 00:09:00</td>\n",
       "      <td>120</td>\n",
       "      <td>1</td>\n",
       "      <td>22</td>\n",
       "      <td>6</td>\n",
       "      <td>2017</td>\n",
       "    </tr>\n",
       "    <tr>\n",
       "      <th>1</th>\n",
       "      <td>2017-06-01 00:25:00</td>\n",
       "      <td>0.55</td>\n",
       "      <td>11627257723692907447</td>\n",
       "      <td>1</td>\n",
       "      <td>22</td>\n",
       "      <td>2017-06</td>\n",
       "      <td>2017</td>\n",
       "      <td>desktop</td>\n",
       "      <td>2017-06-01 00:25:00</td>\n",
       "      <td>2</td>\n",
       "      <td>2017-06-01 00:14:00</td>\n",
       "      <td>660</td>\n",
       "      <td>1</td>\n",
       "      <td>22</td>\n",
       "      <td>6</td>\n",
       "      <td>2017</td>\n",
       "    </tr>\n",
       "    <tr>\n",
       "      <th>2</th>\n",
       "      <td>2017-06-01 00:27:00</td>\n",
       "      <td>0.37</td>\n",
       "      <td>17903680561304213844</td>\n",
       "      <td>1</td>\n",
       "      <td>22</td>\n",
       "      <td>2017-06</td>\n",
       "      <td>2017</td>\n",
       "      <td>desktop</td>\n",
       "      <td>2017-06-01 00:34:00</td>\n",
       "      <td>2</td>\n",
       "      <td>2017-06-01 00:25:00</td>\n",
       "      <td>540</td>\n",
       "      <td>1</td>\n",
       "      <td>22</td>\n",
       "      <td>6</td>\n",
       "      <td>2017</td>\n",
       "    </tr>\n",
       "    <tr>\n",
       "      <th>3</th>\n",
       "      <td>2017-06-01 00:29:00</td>\n",
       "      <td>0.55</td>\n",
       "      <td>16109239769442553005</td>\n",
       "      <td>1</td>\n",
       "      <td>22</td>\n",
       "      <td>2017-06</td>\n",
       "      <td>2017</td>\n",
       "      <td>desktop</td>\n",
       "      <td>2017-06-01 00:33:00</td>\n",
       "      <td>2</td>\n",
       "      <td>2017-06-01 00:14:00</td>\n",
       "      <td>1140</td>\n",
       "      <td>1</td>\n",
       "      <td>22</td>\n",
       "      <td>6</td>\n",
       "      <td>2017</td>\n",
       "    </tr>\n",
       "    <tr>\n",
       "      <th>4</th>\n",
       "      <td>2017-06-01 07:58:00</td>\n",
       "      <td>0.37</td>\n",
       "      <td>14200605875248379450</td>\n",
       "      <td>1</td>\n",
       "      <td>22</td>\n",
       "      <td>2017-06</td>\n",
       "      <td>2017</td>\n",
       "      <td>desktop</td>\n",
       "      <td>2017-06-01 07:59:00</td>\n",
       "      <td>3</td>\n",
       "      <td>2017-06-01 07:31:00</td>\n",
       "      <td>1680</td>\n",
       "      <td>1</td>\n",
       "      <td>22</td>\n",
       "      <td>6</td>\n",
       "      <td>2017</td>\n",
       "    </tr>\n",
       "  </tbody>\n",
       "</table>\n",
       "</div>"
      ],
      "text/plain": [
       "               buy_ts  revenue                   uid  order_day  order_week  \\\n",
       "0 2017-06-01 00:10:00    17.00  10329302124590727494          1          22   \n",
       "1 2017-06-01 00:25:00     0.55  11627257723692907447          1          22   \n",
       "2 2017-06-01 00:27:00     0.37  17903680561304213844          1          22   \n",
       "3 2017-06-01 00:29:00     0.55  16109239769442553005          1          22   \n",
       "4 2017-06-01 07:58:00     0.37  14200605875248379450          1          22   \n",
       "\n",
       "  order_month  order_year   device              end_ts  source_id  \\\n",
       "0     2017-06        2017  desktop 2017-06-01 00:11:00          1   \n",
       "1     2017-06        2017  desktop 2017-06-01 00:25:00          2   \n",
       "2     2017-06        2017  desktop 2017-06-01 00:34:00          2   \n",
       "3     2017-06        2017  desktop 2017-06-01 00:33:00          2   \n",
       "4     2017-06        2017  desktop 2017-06-01 07:59:00          3   \n",
       "\n",
       "             start_ts  time_spent  visit_day  visit_week  visit_month  \\\n",
       "0 2017-06-01 00:09:00         120          1          22            6   \n",
       "1 2017-06-01 00:14:00         660          1          22            6   \n",
       "2 2017-06-01 00:25:00         540          1          22            6   \n",
       "3 2017-06-01 00:14:00        1140          1          22            6   \n",
       "4 2017-06-01 07:31:00        1680          1          22            6   \n",
       "\n",
       "   visit_year  \n",
       "0        2017  \n",
       "1        2017  \n",
       "2        2017  \n",
       "3        2017  \n",
       "4        2017  "
      ]
     },
     "execution_count": 86,
     "metadata": {},
     "output_type": "execute_result"
    }
   ],
   "source": [
    "orders_visits.head()"
   ]
  },
  {
   "cell_type": "code",
   "execution_count": 87,
   "id": "a6a55131-94fd-4212-93c7-0df7f1b9907a",
   "metadata": {},
   "outputs": [
    {
     "name": "stdout",
     "output_type": "stream",
     "text": [
      "<class 'pandas.core.frame.DataFrame'>\n",
      "RangeIndex: 761807 entries, 0 to 761806\n",
      "Data columns (total 16 columns):\n",
      " #   Column       Non-Null Count   Dtype         \n",
      "---  ------       --------------   -----         \n",
      " 0   buy_ts       761807 non-null  datetime64[ns]\n",
      " 1   revenue      761807 non-null  float64       \n",
      " 2   uid          761807 non-null  uint64        \n",
      " 3   order_day    761807 non-null  int32         \n",
      " 4   order_week   761807 non-null  UInt32        \n",
      " 5   order_month  761807 non-null  period[M]     \n",
      " 6   order_year   761807 non-null  int32         \n",
      " 7   device       761807 non-null  object        \n",
      " 8   end_ts       761807 non-null  datetime64[ns]\n",
      " 9   source_id    761807 non-null  int64         \n",
      " 10  start_ts     761807 non-null  datetime64[ns]\n",
      " 11  time_spent   761807 non-null  int32         \n",
      " 12  visit_day    761807 non-null  int32         \n",
      " 13  visit_week   761807 non-null  UInt32        \n",
      " 14  visit_month  761807 non-null  int32         \n",
      " 15  visit_year   761807 non-null  int32         \n",
      "dtypes: UInt32(2), datetime64[ns](3), float64(1), int32(6), int64(1), object(1), period[M](1), uint64(1)\n",
      "memory usage: 71.2+ MB\n"
     ]
    }
   ],
   "source": [
    "orders_visits.info()"
   ]
  },
  {
   "cell_type": "markdown",
   "id": "b3bfbd0a-2bc0-40aa-83f2-83e5d280c009",
   "metadata": {
    "tags": []
   },
   "source": [
    "#### costs_us"
   ]
  },
  {
   "cell_type": "code",
   "execution_count": 89,
   "id": "9c566af7-586b-4d8e-976c-3c293313e978",
   "metadata": {},
   "outputs": [
    {
     "data": {
      "text/html": [
       "<div>\n",
       "<style scoped>\n",
       "    .dataframe tbody tr th:only-of-type {\n",
       "        vertical-align: middle;\n",
       "    }\n",
       "\n",
       "    .dataframe tbody tr th {\n",
       "        vertical-align: top;\n",
       "    }\n",
       "\n",
       "    .dataframe thead th {\n",
       "        text-align: right;\n",
       "    }\n",
       "</style>\n",
       "<table border=\"1\" class=\"dataframe\">\n",
       "  <thead>\n",
       "    <tr style=\"text-align: right;\">\n",
       "      <th></th>\n",
       "      <th>source_id</th>\n",
       "      <th>dt</th>\n",
       "      <th>costs</th>\n",
       "    </tr>\n",
       "  </thead>\n",
       "  <tbody>\n",
       "    <tr>\n",
       "      <th>0</th>\n",
       "      <td>1</td>\n",
       "      <td>2017-06-01</td>\n",
       "      <td>75.20</td>\n",
       "    </tr>\n",
       "    <tr>\n",
       "      <th>1</th>\n",
       "      <td>1</td>\n",
       "      <td>2017-06-02</td>\n",
       "      <td>62.25</td>\n",
       "    </tr>\n",
       "    <tr>\n",
       "      <th>2</th>\n",
       "      <td>1</td>\n",
       "      <td>2017-06-03</td>\n",
       "      <td>36.53</td>\n",
       "    </tr>\n",
       "    <tr>\n",
       "      <th>3</th>\n",
       "      <td>1</td>\n",
       "      <td>2017-06-04</td>\n",
       "      <td>55.00</td>\n",
       "    </tr>\n",
       "    <tr>\n",
       "      <th>4</th>\n",
       "      <td>1</td>\n",
       "      <td>2017-06-05</td>\n",
       "      <td>57.08</td>\n",
       "    </tr>\n",
       "  </tbody>\n",
       "</table>\n",
       "</div>"
      ],
      "text/plain": [
       "   source_id         dt  costs\n",
       "0          1 2017-06-01  75.20\n",
       "1          1 2017-06-02  62.25\n",
       "2          1 2017-06-03  36.53\n",
       "3          1 2017-06-04  55.00\n",
       "4          1 2017-06-05  57.08"
      ]
     },
     "execution_count": 89,
     "metadata": {},
     "output_type": "execute_result"
    }
   ],
   "source": [
    "costs_us.head()"
   ]
  },
  {
   "cell_type": "code",
   "execution_count": 90,
   "id": "33d1a38b-10cd-441c-a5ba-1aa63a53f2ac",
   "metadata": {},
   "outputs": [],
   "source": [
    "costs_us['week'] = pd.to_datetime(costs_us['dt']).dt.isocalendar().week"
   ]
  },
  {
   "cell_type": "code",
   "execution_count": 91,
   "id": "3de89d1c-3094-467d-8700-e33daba55bb2",
   "metadata": {},
   "outputs": [],
   "source": [
    "costs_us['month'] = pd.to_datetime(costs_us['dt']).dt.to_period('M')"
   ]
  },
  {
   "cell_type": "code",
   "execution_count": null,
   "id": "207c213c-a29f-4861-8c71-623ab06cbee6",
   "metadata": {},
   "outputs": [],
   "source": []
  },
  {
   "cell_type": "markdown",
   "id": "8b4c6b94-d16d-45cc-82be-7c8ec15c497f",
   "metadata": {
    "tags": [],
    "toc-hr-collapsed": true
   },
   "source": [
    "# Analizing data"
   ]
  },
  {
   "cell_type": "markdown",
   "id": "3d72dad2-6582-4174-b85c-bc7dd0534df7",
   "metadata": {},
   "source": [
    "## Product\n",
    "\n"
   ]
  },
  {
   "cell_type": "markdown",
   "id": "879361f9-d87c-46d7-b34a-f0e939f9a08d",
   "metadata": {},
   "source": [
    "### how many access do we have per day "
   ]
  },
  {
   "cell_type": "code",
   "execution_count": 95,
   "id": "77fe741b-fc16-4ffa-8582-33b7e69e66ad",
   "metadata": {},
   "outputs": [
    {
     "data": {
      "text/html": [
       "<div>\n",
       "<style scoped>\n",
       "    .dataframe tbody tr th:only-of-type {\n",
       "        vertical-align: middle;\n",
       "    }\n",
       "\n",
       "    .dataframe tbody tr th {\n",
       "        vertical-align: top;\n",
       "    }\n",
       "\n",
       "    .dataframe thead th {\n",
       "        text-align: right;\n",
       "    }\n",
       "</style>\n",
       "<table border=\"1\" class=\"dataframe\">\n",
       "  <thead>\n",
       "    <tr style=\"text-align: right;\">\n",
       "      <th></th>\n",
       "      <th>device</th>\n",
       "      <th>end_ts</th>\n",
       "      <th>source_id</th>\n",
       "      <th>start_ts</th>\n",
       "      <th>uid</th>\n",
       "      <th>time_spent</th>\n",
       "      <th>visit_day</th>\n",
       "      <th>visit_week</th>\n",
       "      <th>visit_month</th>\n",
       "      <th>visit_year</th>\n",
       "    </tr>\n",
       "  </thead>\n",
       "  <tbody>\n",
       "    <tr>\n",
       "      <th>0</th>\n",
       "      <td>touch</td>\n",
       "      <td>2017-12-20 17:38:00</td>\n",
       "      <td>4</td>\n",
       "      <td>2017-12-20 17:20:00</td>\n",
       "      <td>16879256277535980062</td>\n",
       "      <td>1080</td>\n",
       "      <td>20</td>\n",
       "      <td>51</td>\n",
       "      <td>12</td>\n",
       "      <td>2017</td>\n",
       "    </tr>\n",
       "    <tr>\n",
       "      <th>1</th>\n",
       "      <td>desktop</td>\n",
       "      <td>2018-02-19 17:21:00</td>\n",
       "      <td>2</td>\n",
       "      <td>2018-02-19 16:53:00</td>\n",
       "      <td>104060357244891740</td>\n",
       "      <td>1680</td>\n",
       "      <td>19</td>\n",
       "      <td>8</td>\n",
       "      <td>2</td>\n",
       "      <td>2018</td>\n",
       "    </tr>\n",
       "    <tr>\n",
       "      <th>2</th>\n",
       "      <td>touch</td>\n",
       "      <td>2017-07-01 01:54:00</td>\n",
       "      <td>5</td>\n",
       "      <td>2017-07-01 01:54:00</td>\n",
       "      <td>7459035603376831527</td>\n",
       "      <td>0</td>\n",
       "      <td>1</td>\n",
       "      <td>26</td>\n",
       "      <td>7</td>\n",
       "      <td>2017</td>\n",
       "    </tr>\n",
       "    <tr>\n",
       "      <th>3</th>\n",
       "      <td>desktop</td>\n",
       "      <td>2018-05-20 11:23:00</td>\n",
       "      <td>9</td>\n",
       "      <td>2018-05-20 10:59:00</td>\n",
       "      <td>16174680259334210214</td>\n",
       "      <td>1440</td>\n",
       "      <td>20</td>\n",
       "      <td>20</td>\n",
       "      <td>5</td>\n",
       "      <td>2018</td>\n",
       "    </tr>\n",
       "    <tr>\n",
       "      <th>4</th>\n",
       "      <td>desktop</td>\n",
       "      <td>2017-12-27 14:06:00</td>\n",
       "      <td>3</td>\n",
       "      <td>2017-12-27 14:06:00</td>\n",
       "      <td>9969694820036681168</td>\n",
       "      <td>0</td>\n",
       "      <td>27</td>\n",
       "      <td>52</td>\n",
       "      <td>12</td>\n",
       "      <td>2017</td>\n",
       "    </tr>\n",
       "  </tbody>\n",
       "</table>\n",
       "</div>"
      ],
      "text/plain": [
       "    device              end_ts  source_id            start_ts  \\\n",
       "0    touch 2017-12-20 17:38:00          4 2017-12-20 17:20:00   \n",
       "1  desktop 2018-02-19 17:21:00          2 2018-02-19 16:53:00   \n",
       "2    touch 2017-07-01 01:54:00          5 2017-07-01 01:54:00   \n",
       "3  desktop 2018-05-20 11:23:00          9 2018-05-20 10:59:00   \n",
       "4  desktop 2017-12-27 14:06:00          3 2017-12-27 14:06:00   \n",
       "\n",
       "                    uid  time_spent  visit_day  visit_week  visit_month  \\\n",
       "0  16879256277535980062        1080         20          51           12   \n",
       "1    104060357244891740        1680         19           8            2   \n",
       "2   7459035603376831527           0          1          26            7   \n",
       "3  16174680259334210214        1440         20          20            5   \n",
       "4   9969694820036681168           0         27          52           12   \n",
       "\n",
       "   visit_year  \n",
       "0        2017  \n",
       "1        2018  \n",
       "2        2017  \n",
       "3        2018  \n",
       "4        2017  "
      ]
     },
     "execution_count": 95,
     "metadata": {},
     "output_type": "execute_result"
    }
   ],
   "source": [
    "visits_log.head()"
   ]
  },
  {
   "cell_type": "code",
   "execution_count": 96,
   "id": "d9f809ef-7f31-423e-bfbe-c6d3b6dd4138",
   "metadata": {},
   "outputs": [
    {
     "data": {
      "text/plain": [
       "uid\n",
       "False    228169\n",
       "True     131231\n",
       "Name: count, dtype: int64"
      ]
     },
     "execution_count": 96,
     "metadata": {},
     "output_type": "execute_result"
    }
   ],
   "source": [
    "# checking duplicated access by users\n",
    "\n",
    "visits_log['uid'].duplicated().value_counts()"
   ]
  },
  {
   "cell_type": "code",
   "execution_count": 97,
   "id": "cd168598-1a48-43d9-8355-8535e0b98916",
   "metadata": {},
   "outputs": [],
   "source": [
    "# grouping by user visit per day\n",
    "\n",
    "daily_visits = visits_log.groupby('uid')['start_ts'].nunique().reset_index(name='visits_per_day')"
   ]
  },
  {
   "cell_type": "code",
   "execution_count": 98,
   "id": "133fb28f-c6e4-4fa6-8a01-185c2c05a32f",
   "metadata": {},
   "outputs": [
    {
     "name": "stdout",
     "output_type": "stream",
     "text": [
      "<class 'pandas.core.frame.DataFrame'>\n",
      "RangeIndex: 228169 entries, 0 to 228168\n",
      "Data columns (total 2 columns):\n",
      " #   Column          Non-Null Count   Dtype \n",
      "---  ------          --------------   ----- \n",
      " 0   uid             228169 non-null  uint64\n",
      " 1   visits_per_day  228169 non-null  int64 \n",
      "dtypes: int64(1), uint64(1)\n",
      "memory usage: 3.5 MB\n"
     ]
    }
   ],
   "source": [
    "daily_visits.info()"
   ]
  },
  {
   "cell_type": "code",
   "execution_count": 99,
   "id": "6c70176f-15db-4325-81fa-608de2cb3d5c",
   "metadata": {
    "tags": []
   },
   "outputs": [
    {
     "data": {
      "text/html": [
       "<div>\n",
       "<style scoped>\n",
       "    .dataframe tbody tr th:only-of-type {\n",
       "        vertical-align: middle;\n",
       "    }\n",
       "\n",
       "    .dataframe tbody tr th {\n",
       "        vertical-align: top;\n",
       "    }\n",
       "\n",
       "    .dataframe thead th {\n",
       "        text-align: right;\n",
       "    }\n",
       "</style>\n",
       "<table border=\"1\" class=\"dataframe\">\n",
       "  <thead>\n",
       "    <tr style=\"text-align: right;\">\n",
       "      <th></th>\n",
       "      <th>uid</th>\n",
       "      <th>visits_per_day</th>\n",
       "    </tr>\n",
       "  </thead>\n",
       "  <tbody>\n",
       "    <tr>\n",
       "      <th>0</th>\n",
       "      <td>11863502262781</td>\n",
       "      <td>1</td>\n",
       "    </tr>\n",
       "    <tr>\n",
       "      <th>1</th>\n",
       "      <td>49537067089222</td>\n",
       "      <td>1</td>\n",
       "    </tr>\n",
       "    <tr>\n",
       "      <th>2</th>\n",
       "      <td>297729379853735</td>\n",
       "      <td>1</td>\n",
       "    </tr>\n",
       "    <tr>\n",
       "      <th>3</th>\n",
       "      <td>313578113262317</td>\n",
       "      <td>3</td>\n",
       "    </tr>\n",
       "    <tr>\n",
       "      <th>4</th>\n",
       "      <td>325320750514679</td>\n",
       "      <td>2</td>\n",
       "    </tr>\n",
       "  </tbody>\n",
       "</table>\n",
       "</div>"
      ],
      "text/plain": [
       "               uid  visits_per_day\n",
       "0   11863502262781               1\n",
       "1   49537067089222               1\n",
       "2  297729379853735               1\n",
       "3  313578113262317               3\n",
       "4  325320750514679               2"
      ]
     },
     "execution_count": 99,
     "metadata": {},
     "output_type": "execute_result"
    }
   ],
   "source": [
    "daily_visits.head()"
   ]
  },
  {
   "cell_type": "code",
   "execution_count": 100,
   "id": "bf8dd39c-9e25-4a0e-b3c2-fa39ad5079eb",
   "metadata": {},
   "outputs": [
    {
     "data": {
      "text/plain": [
       "1.5751438626632015"
      ]
     },
     "execution_count": 100,
     "metadata": {},
     "output_type": "execute_result"
    }
   ],
   "source": [
    "# average access per all users\n",
    "\n",
    "daily_visits['visits_per_day'].mean()"
   ]
  },
  {
   "cell_type": "code",
   "execution_count": 101,
   "id": "34e4144b-12de-4ea9-a6bc-e25db7f67b17",
   "metadata": {},
   "outputs": [],
   "source": [
    "# counting how many users per visits days\n",
    "\n",
    "users_per_visit_days = daily_visits.groupby('visits_per_day')['uid'].count().reset_index(name='users_count')"
   ]
  },
  {
   "cell_type": "code",
   "execution_count": 102,
   "id": "1bc7b8f6-b86b-4c97-8ad5-e00981450d62",
   "metadata": {},
   "outputs": [
    {
     "data": {
      "text/html": [
       "<div>\n",
       "<style scoped>\n",
       "    .dataframe tbody tr th:only-of-type {\n",
       "        vertical-align: middle;\n",
       "    }\n",
       "\n",
       "    .dataframe tbody tr th {\n",
       "        vertical-align: top;\n",
       "    }\n",
       "\n",
       "    .dataframe thead th {\n",
       "        text-align: right;\n",
       "    }\n",
       "</style>\n",
       "<table border=\"1\" class=\"dataframe\">\n",
       "  <thead>\n",
       "    <tr style=\"text-align: right;\">\n",
       "      <th></th>\n",
       "      <th>visits_per_day</th>\n",
       "      <th>users_count</th>\n",
       "    </tr>\n",
       "  </thead>\n",
       "  <tbody>\n",
       "    <tr>\n",
       "      <th>0</th>\n",
       "      <td>1</td>\n",
       "      <td>176042</td>\n",
       "    </tr>\n",
       "    <tr>\n",
       "      <th>1</th>\n",
       "      <td>2</td>\n",
       "      <td>30925</td>\n",
       "    </tr>\n",
       "    <tr>\n",
       "      <th>2</th>\n",
       "      <td>3</td>\n",
       "      <td>10184</td>\n",
       "    </tr>\n",
       "    <tr>\n",
       "      <th>3</th>\n",
       "      <td>4</td>\n",
       "      <td>4357</td>\n",
       "    </tr>\n",
       "    <tr>\n",
       "      <th>4</th>\n",
       "      <td>5</td>\n",
       "      <td>2283</td>\n",
       "    </tr>\n",
       "  </tbody>\n",
       "</table>\n",
       "</div>"
      ],
      "text/plain": [
       "   visits_per_day  users_count\n",
       "0               1       176042\n",
       "1               2        30925\n",
       "2               3        10184\n",
       "3               4         4357\n",
       "4               5         2283"
      ]
     },
     "execution_count": 102,
     "metadata": {},
     "output_type": "execute_result"
    }
   ],
   "source": [
    "users_per_visit_days.head()"
   ]
  },
  {
   "cell_type": "code",
   "execution_count": 103,
   "id": "527c1b8e-e70d-4e25-b037-c125b4e3558d",
   "metadata": {},
   "outputs": [],
   "source": [
    "# calculating percentage of one day visitors over total users\n",
    "\n",
    "percentage_one_visit_per_day = (users_per_visit_days['users_count'].loc[0] / users_per_visit_days['users_count'].sum() * 100)"
   ]
  },
  {
   "cell_type": "code",
   "execution_count": 104,
   "id": "115a18de-72b0-4089-9541-3f6a7317f299",
   "metadata": {},
   "outputs": [
    {
     "data": {
      "text/plain": [
       "77.15421463914906"
      ]
     },
     "execution_count": 104,
     "metadata": {},
     "output_type": "execute_result"
    }
   ],
   "source": [
    "percentage_one_visit_per_day"
   ]
  },
  {
   "cell_type": "code",
   "execution_count": 105,
   "id": "ba15b1e0-292e-4cf4-a926-57d06d7ab0ab",
   "metadata": {},
   "outputs": [
    {
     "data": {
      "image/png": "[encoded data removed]",
      "text/plain": [
       "<Figure size 1200x800 with 1 Axes>"
      ]
     },
     "metadata": {},
     "output_type": "display_data"
    }
   ],
   "source": [
    "users_per_visit_days.plot(x='users_count', y='visits_per_day', grid='yes', figsize=(12,8), marker='o')\n",
    "plt.title('Number of Visits per Day 2017')\n",
    "plt.xlabel('User Count')\n",
    "plt.ylabel('Access Count')\n",
    "plt.show()"
   ]
  },
  {
   "cell_type": "markdown",
   "id": "d19eaefb-60a1-4eec-b145-bcc8f6cf8b1e",
   "metadata": {},
   "source": [
    "    77% of the users access only one day"
   ]
  },
  {
   "cell_type": "markdown",
   "id": "5a2404ae-5956-49ee-9877-3b97449d1c9f",
   "metadata": {},
   "source": [
    "### how many user we have weekly"
   ]
  },
  {
   "cell_type": "code",
   "execution_count": 108,
   "id": "f2f75fe3-a4f2-4cab-9163-0bb1d56495ad",
   "metadata": {},
   "outputs": [
    {
     "data": {
      "text/plain": [
       "array([2017, 2018], dtype=int32)"
      ]
     },
     "execution_count": 108,
     "metadata": {},
     "output_type": "execute_result"
    }
   ],
   "source": [
    "# checking how many years are in total\n",
    "\n",
    "visits_log['visit_year'].unique()"
   ]
  },
  {
   "cell_type": "markdown",
   "id": "04a9bffc-9c65-4d28-95c1-c59499dcad0b",
   "metadata": {},
   "source": [
    "#### 2017 weeks"
   ]
  },
  {
   "cell_type": "code",
   "execution_count": 110,
   "id": "165d7f8c-c433-4603-a59c-a4a18b1daca7",
   "metadata": {},
   "outputs": [],
   "source": [
    "# filtering by year 2017\n",
    "\n",
    "visits_2017 = visits_log.query('visit_year == 2017')"
   ]
  },
  {
   "cell_type": "code",
   "execution_count": 111,
   "id": "83bbbf9b-a3df-42fe-bb6d-bc4fa590b86c",
   "metadata": {},
   "outputs": [],
   "source": [
    "# grouping counting how many access per week\n",
    "\n",
    "weekly_visits_2017 = visits_2017.groupby('visit_week')['uid'].count().reset_index(name='visits_per_week')"
   ]
  },
  {
   "cell_type": "code",
   "execution_count": 112,
   "id": "8a1baa25-a5d0-4443-88aa-6d5169b5f489",
   "metadata": {},
   "outputs": [
    {
     "data": {
      "text/html": [
       "<div>\n",
       "<style scoped>\n",
       "    .dataframe tbody tr th:only-of-type {\n",
       "        vertical-align: middle;\n",
       "    }\n",
       "\n",
       "    .dataframe tbody tr th {\n",
       "        vertical-align: top;\n",
       "    }\n",
       "\n",
       "    .dataframe thead th {\n",
       "        text-align: right;\n",
       "    }\n",
       "</style>\n",
       "<table border=\"1\" class=\"dataframe\">\n",
       "  <thead>\n",
       "    <tr style=\"text-align: right;\">\n",
       "      <th></th>\n",
       "      <th>visit_week</th>\n",
       "      <th>visits_per_week</th>\n",
       "    </tr>\n",
       "  </thead>\n",
       "  <tbody>\n",
       "    <tr>\n",
       "      <th>0</th>\n",
       "      <td>22</td>\n",
       "      <td>2309</td>\n",
       "    </tr>\n",
       "    <tr>\n",
       "      <th>1</th>\n",
       "      <td>23</td>\n",
       "      <td>4931</td>\n",
       "    </tr>\n",
       "    <tr>\n",
       "      <th>2</th>\n",
       "      <td>24</td>\n",
       "      <td>3214</td>\n",
       "    </tr>\n",
       "    <tr>\n",
       "      <th>3</th>\n",
       "      <td>25</td>\n",
       "      <td>3273</td>\n",
       "    </tr>\n",
       "    <tr>\n",
       "      <th>4</th>\n",
       "      <td>26</td>\n",
       "      <td>3514</td>\n",
       "    </tr>\n",
       "  </tbody>\n",
       "</table>\n",
       "</div>"
      ],
      "text/plain": [
       "   visit_week  visits_per_week\n",
       "0          22             2309\n",
       "1          23             4931\n",
       "2          24             3214\n",
       "3          25             3273\n",
       "4          26             3514"
      ]
     },
     "execution_count": 112,
     "metadata": {},
     "output_type": "execute_result"
    }
   ],
   "source": [
    "weekly_visits_2017.head()"
   ]
  },
  {
   "cell_type": "code",
   "execution_count": 113,
   "id": "4c239064-016d-4137-82ea-5ed2436170b5",
   "metadata": {},
   "outputs": [
    {
     "data": {
      "text/plain": [
       "46.82620158182924"
      ]
     },
     "execution_count": 113,
     "metadata": {},
     "output_type": "execute_result"
    }
   ],
   "source": [
    "# calculating percentage of growth on week 22 (1st week we have recored)\n",
    "\n",
    "(weekly_visits_2017['visits_per_week'].loc[0] / weekly_visits_2017['visits_per_week'].loc[1]) * 100"
   ]
  },
  {
   "cell_type": "code",
   "execution_count": 114,
   "id": "51316488-694a-4574-a88b-c1dd5fd3c6f6",
   "metadata": {},
   "outputs": [
    {
     "data": {
      "image/png": "[encoded data removed]",
      "text/plain": [
       "<Figure size 1200x800 with 1 Axes>"
      ]
     },
     "metadata": {},
     "output_type": "display_data"
    }
   ],
   "source": [
    "# ploting visits per week 2017\n",
    "\n",
    "weekly_visits_2017.plot(x='visit_week', y='visits_per_week', grid='yes', figsize=(12,8), marker='o')\n",
    "plt.title('Number of Access per Week 2017')\n",
    "plt.xlabel('Visit Week')\n",
    "plt.ylabel('Access Count')\n",
    "plt.show()"
   ]
  },
  {
   "cell_type": "markdown",
   "id": "867d0921-af7c-4077-9a9d-159d1be512ca",
   "metadata": {},
   "source": [
    "    we are able to see an increase of 46% from week 22 to 23, after week 31 there is a growth up to week 40 at 8878 access, it stays leveled for 6 weeks and grows again on week 45 peaking at week 47 with 13572 access"
   ]
  },
  {
   "cell_type": "markdown",
   "id": "48e499c0-750b-4883-a2bf-cffe32200928",
   "metadata": {},
   "source": [
    "#### 2018 weeks"
   ]
  },
  {
   "cell_type": "code",
   "execution_count": 117,
   "id": "f5107ffa-4e66-46d2-989d-bdacbb0bda18",
   "metadata": {},
   "outputs": [],
   "source": [
    "# filtering visits data from 2018\n",
    "\n",
    "visits_2018 = visits_log.query('visit_year == 2018')"
   ]
  },
  {
   "cell_type": "code",
   "execution_count": 118,
   "id": "b7b6e74d-4b81-4679-bf38-813f8f985a82",
   "metadata": {
    "tags": []
   },
   "outputs": [],
   "source": [
    "# grouping counting how many access per week\n",
    "\n",
    "weekly_visits_2018 = visits_2018.groupby('visit_week')['uid'].count().reset_index(name='visits_per_week')"
   ]
  },
  {
   "cell_type": "code",
   "execution_count": 119,
   "id": "32422b64-c03b-4572-b16a-c758653d270d",
   "metadata": {},
   "outputs": [
    {
     "data": {
      "text/html": [
       "<div>\n",
       "<style scoped>\n",
       "    .dataframe tbody tr th:only-of-type {\n",
       "        vertical-align: middle;\n",
       "    }\n",
       "\n",
       "    .dataframe tbody tr th {\n",
       "        vertical-align: top;\n",
       "    }\n",
       "\n",
       "    .dataframe thead th {\n",
       "        text-align: right;\n",
       "    }\n",
       "</style>\n",
       "<table border=\"1\" class=\"dataframe\">\n",
       "  <thead>\n",
       "    <tr style=\"text-align: right;\">\n",
       "      <th></th>\n",
       "      <th>visit_week</th>\n",
       "      <th>visits_per_week</th>\n",
       "    </tr>\n",
       "  </thead>\n",
       "  <tbody>\n",
       "    <tr>\n",
       "      <th>0</th>\n",
       "      <td>1</td>\n",
       "      <td>8057</td>\n",
       "    </tr>\n",
       "    <tr>\n",
       "      <th>1</th>\n",
       "      <td>2</td>\n",
       "      <td>7871</td>\n",
       "    </tr>\n",
       "    <tr>\n",
       "      <th>2</th>\n",
       "      <td>3</td>\n",
       "      <td>8317</td>\n",
       "    </tr>\n",
       "    <tr>\n",
       "      <th>3</th>\n",
       "      <td>4</td>\n",
       "      <td>8488</td>\n",
       "    </tr>\n",
       "    <tr>\n",
       "      <th>4</th>\n",
       "      <td>5</td>\n",
       "      <td>9796</td>\n",
       "    </tr>\n",
       "  </tbody>\n",
       "</table>\n",
       "</div>"
      ],
      "text/plain": [
       "   visit_week  visits_per_week\n",
       "0           1             8057\n",
       "1           2             7871\n",
       "2           3             8317\n",
       "3           4             8488\n",
       "4           5             9796"
      ]
     },
     "execution_count": 119,
     "metadata": {},
     "output_type": "execute_result"
    }
   ],
   "source": [
    "weekly_visits_2018.head()"
   ]
  },
  {
   "cell_type": "code",
   "execution_count": 120,
   "id": "730231d3-a562-47e0-aa42-e320501320c1",
   "metadata": {},
   "outputs": [
    {
     "data": {
      "text/plain": [
       "62.408176301501115"
      ]
     },
     "execution_count": 120,
     "metadata": {},
     "output_type": "execute_result"
    }
   ],
   "source": [
    "# shrank percentage from week 12 to 13\n",
    "\n",
    "(weekly_visits_2018['visits_per_week'].loc[12] / weekly_visits_2018['visits_per_week'].loc[11]) * 100"
   ]
  },
  {
   "cell_type": "code",
   "execution_count": 121,
   "id": "42f118c6-06a2-4a65-9c04-2fdfb1a9804f",
   "metadata": {},
   "outputs": [
    {
     "data": {
      "image/png": "[encoded data removed]",
      "text/plain": [
       "<Figure size 1200x800 with 1 Axes>"
      ]
     },
     "metadata": {},
     "output_type": "display_data"
    }
   ],
   "source": [
    "# ploting visits per week 2018\n",
    "\n",
    "weekly_visits_2018.plot(x='visit_week', y='visits_per_week', grid='yes', figsize=(12,8), marker='o')\n",
    "plt.title('Number of Access per Week 2018')\n",
    "plt.xlabel('Visit Week')\n",
    "plt.ylabel('Access Count')\n",
    "plt.show()"
   ]
  },
  {
   "cell_type": "markdown",
   "id": "6c3bafda-6270-4908-b5f6-ea1fe4fa6a46",
   "metadata": {},
   "source": [
    "    on 2018 we can see access peaking at week 5 with 9796 from that until week 11 access went down we see a recovery on week 11 but a diveof 62% of access, a small recovery after 4 weeks and another dive into our lowest level of the recorded year 2018, a very shy recovery after that "
   ]
  },
  {
   "cell_type": "markdown",
   "id": "fe1d7f06-d6f2-496f-a50b-3d59a963f022",
   "metadata": {},
   "source": [
    "### how many users we have monthly"
   ]
  },
  {
   "cell_type": "markdown",
   "id": "2528c81b-b589-4456-a1a6-56874efae126",
   "metadata": {},
   "source": [
    "#### 2017 months"
   ]
  },
  {
   "cell_type": "code",
   "execution_count": 125,
   "id": "4b6a0685-b2a6-41a1-9cf8-4e9a2b8911e2",
   "metadata": {},
   "outputs": [],
   "source": [
    "# grouping visitis per month\n",
    "\n",
    "monthly_visits_2017 = visits_2017.groupby('visit_month')['uid'].nunique().reset_index(name='visits_per_month')"
   ]
  },
  {
   "cell_type": "code",
   "execution_count": 126,
   "id": "29f25d3a-daa0-4440-9f1a-cd2ffbde68bf",
   "metadata": {},
   "outputs": [
    {
     "data": {
      "text/html": [
       "<div>\n",
       "<style scoped>\n",
       "    .dataframe tbody tr th:only-of-type {\n",
       "        vertical-align: middle;\n",
       "    }\n",
       "\n",
       "    .dataframe tbody tr th {\n",
       "        vertical-align: top;\n",
       "    }\n",
       "\n",
       "    .dataframe thead th {\n",
       "        text-align: right;\n",
       "    }\n",
       "</style>\n",
       "<table border=\"1\" class=\"dataframe\">\n",
       "  <thead>\n",
       "    <tr style=\"text-align: right;\">\n",
       "      <th></th>\n",
       "      <th>visit_month</th>\n",
       "      <th>visits_per_month</th>\n",
       "    </tr>\n",
       "  </thead>\n",
       "  <tbody>\n",
       "    <tr>\n",
       "      <th>0</th>\n",
       "      <td>6</td>\n",
       "      <td>13259</td>\n",
       "    </tr>\n",
       "    <tr>\n",
       "      <th>1</th>\n",
       "      <td>7</td>\n",
       "      <td>14183</td>\n",
       "    </tr>\n",
       "    <tr>\n",
       "      <th>2</th>\n",
       "      <td>8</td>\n",
       "      <td>11631</td>\n",
       "    </tr>\n",
       "    <tr>\n",
       "      <th>3</th>\n",
       "      <td>9</td>\n",
       "      <td>18975</td>\n",
       "    </tr>\n",
       "    <tr>\n",
       "      <th>4</th>\n",
       "      <td>10</td>\n",
       "      <td>29692</td>\n",
       "    </tr>\n",
       "    <tr>\n",
       "      <th>5</th>\n",
       "      <td>11</td>\n",
       "      <td>32797</td>\n",
       "    </tr>\n",
       "    <tr>\n",
       "      <th>6</th>\n",
       "      <td>12</td>\n",
       "      <td>31557</td>\n",
       "    </tr>\n",
       "  </tbody>\n",
       "</table>\n",
       "</div>"
      ],
      "text/plain": [
       "   visit_month  visits_per_month\n",
       "0            6             13259\n",
       "1            7             14183\n",
       "2            8             11631\n",
       "3            9             18975\n",
       "4           10             29692\n",
       "5           11             32797\n",
       "6           12             31557"
      ]
     },
     "execution_count": 126,
     "metadata": {},
     "output_type": "execute_result"
    }
   ],
   "source": [
    "monthly_visits_2017.head(10)"
   ]
  },
  {
   "cell_type": "code",
   "execution_count": 127,
   "id": "f775c099-cb77-47e2-965e-97e7da66a235",
   "metadata": {},
   "outputs": [
    {
     "data": {
      "text/plain": [
       "-147.3565125575081"
      ]
     },
     "execution_count": 127,
     "metadata": {},
     "output_type": "execute_result"
    }
   ],
   "source": [
    "# calculating percentage of growth from june to november\n",
    "\n",
    "((monthly_visits_2017['visits_per_month'].loc[0] - monthly_visits_2017['visits_per_month'].loc[5]) / monthly_visits_2017['visits_per_month'].loc[0]) * 100"
   ]
  },
  {
   "cell_type": "code",
   "execution_count": 128,
   "id": "324ca951-5d36-4c06-8b22-5eccf607506a",
   "metadata": {},
   "outputs": [
    {
     "data": {
      "image/png": "[encoded data removed]",
      "text/plain": [
       "<Figure size 1200x800 with 1 Axes>"
      ]
     },
     "metadata": {},
     "output_type": "display_data"
    }
   ],
   "source": [
    "# ploting visits per month graphic\n",
    "\n",
    "monthly_visits_2017.plot(x='visit_month', y='visits_per_month', figsize=(12,8), grid='yes',marker='o')\n",
    "plt.title('Visits per Month 2017')\n",
    "plt.xlabel('Visit Month')\n",
    "plt.ylabel('Access Count')\n",
    "plt.show()\n",
    "          "
   ]
  },
  {
   "cell_type": "markdown",
   "id": "db37fbc4-0b04-4245-814c-e5af718d0a9e",
   "metadata": {},
   "source": [
    "     we can see a growth of 147% from June to November when it peaks"
   ]
  },
  {
   "cell_type": "markdown",
   "id": "2701d6f2-f11c-429a-903d-f1aff2615eb1",
   "metadata": {},
   "source": [
    "#### 2018 months"
   ]
  },
  {
   "cell_type": "code",
   "execution_count": 131,
   "id": "62e4feda-52b9-44d5-8900-96d95503b097",
   "metadata": {},
   "outputs": [],
   "source": [
    "# grouping 2018 monthly visits \n",
    "\n",
    "monthly_visits_2018 = visits_2018.groupby('visit_month')['uid'].nunique().reset_index(name='visits_per_month')"
   ]
  },
  {
   "cell_type": "code",
   "execution_count": 132,
   "id": "51b36b00-fa91-4b68-9c9e-8a277342a8ad",
   "metadata": {},
   "outputs": [
    {
     "data": {
      "text/html": [
       "<div>\n",
       "<style scoped>\n",
       "    .dataframe tbody tr th:only-of-type {\n",
       "        vertical-align: middle;\n",
       "    }\n",
       "\n",
       "    .dataframe tbody tr th {\n",
       "        vertical-align: top;\n",
       "    }\n",
       "\n",
       "    .dataframe thead th {\n",
       "        text-align: right;\n",
       "    }\n",
       "</style>\n",
       "<table border=\"1\" class=\"dataframe\">\n",
       "  <thead>\n",
       "    <tr style=\"text-align: right;\">\n",
       "      <th></th>\n",
       "      <th>visit_month</th>\n",
       "      <th>visits_per_month</th>\n",
       "    </tr>\n",
       "  </thead>\n",
       "  <tbody>\n",
       "    <tr>\n",
       "      <th>0</th>\n",
       "      <td>1</td>\n",
       "      <td>28716</td>\n",
       "    </tr>\n",
       "    <tr>\n",
       "      <th>1</th>\n",
       "      <td>2</td>\n",
       "      <td>28749</td>\n",
       "    </tr>\n",
       "    <tr>\n",
       "      <th>2</th>\n",
       "      <td>3</td>\n",
       "      <td>27473</td>\n",
       "    </tr>\n",
       "    <tr>\n",
       "      <th>3</th>\n",
       "      <td>4</td>\n",
       "      <td>21008</td>\n",
       "    </tr>\n",
       "    <tr>\n",
       "      <th>4</th>\n",
       "      <td>5</td>\n",
       "      <td>20701</td>\n",
       "    </tr>\n",
       "  </tbody>\n",
       "</table>\n",
       "</div>"
      ],
      "text/plain": [
       "   visit_month  visits_per_month\n",
       "0            1             28716\n",
       "1            2             28749\n",
       "2            3             27473\n",
       "3            4             21008\n",
       "4            5             20701"
      ]
     },
     "execution_count": 132,
     "metadata": {},
     "output_type": "execute_result"
    }
   ],
   "source": [
    "monthly_visits_2018.head(10)"
   ]
  },
  {
   "cell_type": "code",
   "execution_count": 133,
   "id": "e52f409c-576e-4a92-9dd0-6e5803ba2d06",
   "metadata": {},
   "outputs": [
    {
     "data": {
      "text/plain": [
       "27.91126897896643"
      ]
     },
     "execution_count": 133,
     "metadata": {},
     "output_type": "execute_result"
    }
   ],
   "source": [
    "# calculating shrank percentage from february to april\n",
    "\n",
    "((monthly_visits_2018['visits_per_month'].loc[0] - monthly_visits_2018['visits_per_month'].loc[4]) / monthly_visits_2018['visits_per_month'].loc[0]) * 100"
   ]
  },
  {
   "cell_type": "code",
   "execution_count": 134,
   "id": "47b867a5-3112-40e0-800c-124eaa0ef640",
   "metadata": {},
   "outputs": [
    {
     "data": {
      "image/png": "[encoded data removed]",
      "text/plain": [
       "<Figure size 1200x800 with 1 Axes>"
      ]
     },
     "metadata": {},
     "output_type": "display_data"
    }
   ],
   "source": [
    "# ploting 2018 monthly visits\n",
    "\n",
    "monthly_visits_2018.plot(x='visit_month', y='visits_per_month', figsize=(12,8), grid='yes',marker='o')\n",
    "plt.title('Visits per Month 2018')\n",
    "plt.xlabel('Visit Month')\n",
    "plt.ylabel('Access Count')\n",
    "plt.show()\n",
    "          "
   ]
  },
  {
   "cell_type": "markdown",
   "id": "dd01f08c-6f63-40c9-b2e8-45e7824396ad",
   "metadata": {},
   "source": [
    "    we noticed a drop of almost 28% from January to May."
   ]
  },
  {
   "cell_type": "markdown",
   "id": "98d6a76e-7aed-4a1d-9e5a-3122d3193118",
   "metadata": {},
   "source": [
    "### average session length"
   ]
  },
  {
   "cell_type": "code",
   "execution_count": 419,
   "id": "58196b33-99d1-4759-b4e7-520c984374a1",
   "metadata": {},
   "outputs": [
    {
     "data": {
      "text/html": [
       "<div>\n",
       "<style scoped>\n",
       "    .dataframe tbody tr th:only-of-type {\n",
       "        vertical-align: middle;\n",
       "    }\n",
       "\n",
       "    .dataframe tbody tr th {\n",
       "        vertical-align: top;\n",
       "    }\n",
       "\n",
       "    .dataframe thead th {\n",
       "        text-align: right;\n",
       "    }\n",
       "</style>\n",
       "<table border=\"1\" class=\"dataframe\">\n",
       "  <thead>\n",
       "    <tr style=\"text-align: right;\">\n",
       "      <th></th>\n",
       "      <th>device</th>\n",
       "      <th>end_ts</th>\n",
       "      <th>source_id</th>\n",
       "      <th>start_ts</th>\n",
       "      <th>uid</th>\n",
       "      <th>time_spent</th>\n",
       "      <th>visit_day</th>\n",
       "      <th>visit_week</th>\n",
       "      <th>visit_month</th>\n",
       "      <th>visit_year</th>\n",
       "    </tr>\n",
       "  </thead>\n",
       "  <tbody>\n",
       "    <tr>\n",
       "      <th>0</th>\n",
       "      <td>touch</td>\n",
       "      <td>2017-12-20 17:38:00</td>\n",
       "      <td>4</td>\n",
       "      <td>2017-12-20 17:20:00</td>\n",
       "      <td>16879256277535980062</td>\n",
       "      <td>1080</td>\n",
       "      <td>20</td>\n",
       "      <td>51</td>\n",
       "      <td>12</td>\n",
       "      <td>2017</td>\n",
       "    </tr>\n",
       "    <tr>\n",
       "      <th>1</th>\n",
       "      <td>desktop</td>\n",
       "      <td>2018-02-19 17:21:00</td>\n",
       "      <td>2</td>\n",
       "      <td>2018-02-19 16:53:00</td>\n",
       "      <td>104060357244891740</td>\n",
       "      <td>1680</td>\n",
       "      <td>19</td>\n",
       "      <td>8</td>\n",
       "      <td>2</td>\n",
       "      <td>2018</td>\n",
       "    </tr>\n",
       "    <tr>\n",
       "      <th>2</th>\n",
       "      <td>touch</td>\n",
       "      <td>2017-07-01 01:54:00</td>\n",
       "      <td>5</td>\n",
       "      <td>2017-07-01 01:54:00</td>\n",
       "      <td>7459035603376831527</td>\n",
       "      <td>0</td>\n",
       "      <td>1</td>\n",
       "      <td>26</td>\n",
       "      <td>7</td>\n",
       "      <td>2017</td>\n",
       "    </tr>\n",
       "    <tr>\n",
       "      <th>3</th>\n",
       "      <td>desktop</td>\n",
       "      <td>2018-05-20 11:23:00</td>\n",
       "      <td>9</td>\n",
       "      <td>2018-05-20 10:59:00</td>\n",
       "      <td>16174680259334210214</td>\n",
       "      <td>1440</td>\n",
       "      <td>20</td>\n",
       "      <td>20</td>\n",
       "      <td>5</td>\n",
       "      <td>2018</td>\n",
       "    </tr>\n",
       "    <tr>\n",
       "      <th>4</th>\n",
       "      <td>desktop</td>\n",
       "      <td>2017-12-27 14:06:00</td>\n",
       "      <td>3</td>\n",
       "      <td>2017-12-27 14:06:00</td>\n",
       "      <td>9969694820036681168</td>\n",
       "      <td>0</td>\n",
       "      <td>27</td>\n",
       "      <td>52</td>\n",
       "      <td>12</td>\n",
       "      <td>2017</td>\n",
       "    </tr>\n",
       "  </tbody>\n",
       "</table>\n",
       "</div>"
      ],
      "text/plain": [
       "    device              end_ts  source_id            start_ts  \\\n",
       "0    touch 2017-12-20 17:38:00          4 2017-12-20 17:20:00   \n",
       "1  desktop 2018-02-19 17:21:00          2 2018-02-19 16:53:00   \n",
       "2    touch 2017-07-01 01:54:00          5 2017-07-01 01:54:00   \n",
       "3  desktop 2018-05-20 11:23:00          9 2018-05-20 10:59:00   \n",
       "4  desktop 2017-12-27 14:06:00          3 2017-12-27 14:06:00   \n",
       "\n",
       "                    uid  time_spent  visit_day  visit_week  visit_month  \\\n",
       "0  16879256277535980062        1080         20          51           12   \n",
       "1    104060357244891740        1680         19           8            2   \n",
       "2   7459035603376831527           0          1          26            7   \n",
       "3  16174680259334210214        1440         20          20            5   \n",
       "4   9969694820036681168           0         27          52           12   \n",
       "\n",
       "   visit_year  \n",
       "0        2017  \n",
       "1        2018  \n",
       "2        2017  \n",
       "3        2018  \n",
       "4        2017  "
      ]
     },
     "execution_count": 419,
     "metadata": {},
     "output_type": "execute_result"
    }
   ],
   "source": [
    "visits_log.head()"
   ]
  },
  {
   "cell_type": "code",
   "execution_count": 421,
   "id": "be68e2ce-3584-4561-ab03-7a4abd9d0555",
   "metadata": {},
   "outputs": [],
   "source": [
    "# average session lenght\n",
    "\n",
    "session_length_avg = visits_log['time_spent'].mean()"
   ]
  },
  {
   "cell_type": "code",
   "execution_count": 423,
   "id": "5e59e301-4cd0-4de0-b884-e7c1a807b538",
   "metadata": {},
   "outputs": [
    {
     "data": {
      "text/plain": [
       "643.506488592098"
      ]
     },
     "execution_count": 423,
     "metadata": {},
     "output_type": "execute_result"
    }
   ],
   "source": [
    "session_length_avg"
   ]
  },
  {
   "cell_type": "code",
   "execution_count": 425,
   "id": "38d64e76-8108-4b09-ab0b-e17238a21395",
   "metadata": {},
   "outputs": [
    {
     "data": {
      "text/plain": [
       "10.725108143201632"
      ]
     },
     "execution_count": 425,
     "metadata": {},
     "output_type": "execute_result"
    }
   ],
   "source": [
    "session_length_avg / 60"
   ]
  },
  {
   "cell_type": "markdown",
   "id": "26f7ce33-8515-4fb4-b394-288d21973ad4",
   "metadata": {},
   "source": [
    "### how often users comeback"
   ]
  },
  {
   "cell_type": "code",
   "execution_count": 142,
   "id": "584b03b4-eaac-4b59-8ef4-760e873892a3",
   "metadata": {},
   "outputs": [
    {
     "data": {
      "text/html": [
       "<div>\n",
       "<style scoped>\n",
       "    .dataframe tbody tr th:only-of-type {\n",
       "        vertical-align: middle;\n",
       "    }\n",
       "\n",
       "    .dataframe tbody tr th {\n",
       "        vertical-align: top;\n",
       "    }\n",
       "\n",
       "    .dataframe thead th {\n",
       "        text-align: right;\n",
       "    }\n",
       "</style>\n",
       "<table border=\"1\" class=\"dataframe\">\n",
       "  <thead>\n",
       "    <tr style=\"text-align: right;\">\n",
       "      <th></th>\n",
       "      <th>buy_ts</th>\n",
       "      <th>revenue</th>\n",
       "      <th>uid</th>\n",
       "      <th>order_day</th>\n",
       "      <th>order_week</th>\n",
       "      <th>order_month</th>\n",
       "      <th>order_year</th>\n",
       "    </tr>\n",
       "  </thead>\n",
       "  <tbody>\n",
       "    <tr>\n",
       "      <th>0</th>\n",
       "      <td>2017-06-01 00:10:00</td>\n",
       "      <td>17.00</td>\n",
       "      <td>10329302124590727494</td>\n",
       "      <td>1</td>\n",
       "      <td>22</td>\n",
       "      <td>2017-06</td>\n",
       "      <td>2017</td>\n",
       "    </tr>\n",
       "    <tr>\n",
       "      <th>1</th>\n",
       "      <td>2017-06-01 00:25:00</td>\n",
       "      <td>0.55</td>\n",
       "      <td>11627257723692907447</td>\n",
       "      <td>1</td>\n",
       "      <td>22</td>\n",
       "      <td>2017-06</td>\n",
       "      <td>2017</td>\n",
       "    </tr>\n",
       "    <tr>\n",
       "      <th>2</th>\n",
       "      <td>2017-06-01 00:27:00</td>\n",
       "      <td>0.37</td>\n",
       "      <td>17903680561304213844</td>\n",
       "      <td>1</td>\n",
       "      <td>22</td>\n",
       "      <td>2017-06</td>\n",
       "      <td>2017</td>\n",
       "    </tr>\n",
       "    <tr>\n",
       "      <th>3</th>\n",
       "      <td>2017-06-01 00:29:00</td>\n",
       "      <td>0.55</td>\n",
       "      <td>16109239769442553005</td>\n",
       "      <td>1</td>\n",
       "      <td>22</td>\n",
       "      <td>2017-06</td>\n",
       "      <td>2017</td>\n",
       "    </tr>\n",
       "    <tr>\n",
       "      <th>4</th>\n",
       "      <td>2017-06-01 07:58:00</td>\n",
       "      <td>0.37</td>\n",
       "      <td>14200605875248379450</td>\n",
       "      <td>1</td>\n",
       "      <td>22</td>\n",
       "      <td>2017-06</td>\n",
       "      <td>2017</td>\n",
       "    </tr>\n",
       "  </tbody>\n",
       "</table>\n",
       "</div>"
      ],
      "text/plain": [
       "               buy_ts  revenue                   uid  order_day  order_week  \\\n",
       "0 2017-06-01 00:10:00    17.00  10329302124590727494          1          22   \n",
       "1 2017-06-01 00:25:00     0.55  11627257723692907447          1          22   \n",
       "2 2017-06-01 00:27:00     0.37  17903680561304213844          1          22   \n",
       "3 2017-06-01 00:29:00     0.55  16109239769442553005          1          22   \n",
       "4 2017-06-01 07:58:00     0.37  14200605875248379450          1          22   \n",
       "\n",
       "  order_month  order_year  \n",
       "0     2017-06        2017  \n",
       "1     2017-06        2017  \n",
       "2     2017-06        2017  \n",
       "3     2017-06        2017  \n",
       "4     2017-06        2017  "
      ]
     },
     "execution_count": 142,
     "metadata": {},
     "output_type": "execute_result"
    }
   ],
   "source": [
    "orders_log.head()"
   ]
  },
  {
   "cell_type": "code",
   "execution_count": 143,
   "id": "2177c6df-b4d2-4ea5-b6f1-9d34d19f4f25",
   "metadata": {},
   "outputs": [],
   "source": [
    "# grouping users per qty of orders\n",
    "\n",
    "users_orders = orders_log.groupby('uid')['buy_ts'].nunique().value_counts().reset_index(name='qty_users')"
   ]
  },
  {
   "cell_type": "code",
   "execution_count": 144,
   "id": "ff9666e8-36fa-42d6-937f-99fcd5c18bbf",
   "metadata": {
    "tags": []
   },
   "outputs": [
    {
     "data": {
      "text/html": [
       "<div>\n",
       "<style scoped>\n",
       "    .dataframe tbody tr th:only-of-type {\n",
       "        vertical-align: middle;\n",
       "    }\n",
       "\n",
       "    .dataframe tbody tr th {\n",
       "        vertical-align: top;\n",
       "    }\n",
       "\n",
       "    .dataframe thead th {\n",
       "        text-align: right;\n",
       "    }\n",
       "</style>\n",
       "<table border=\"1\" class=\"dataframe\">\n",
       "  <thead>\n",
       "    <tr style=\"text-align: right;\">\n",
       "      <th></th>\n",
       "      <th>buy_ts</th>\n",
       "      <th>qty_users</th>\n",
       "    </tr>\n",
       "  </thead>\n",
       "  <tbody>\n",
       "    <tr>\n",
       "      <th>0</th>\n",
       "      <td>1</td>\n",
       "      <td>30231</td>\n",
       "    </tr>\n",
       "    <tr>\n",
       "      <th>1</th>\n",
       "      <td>2</td>\n",
       "      <td>4395</td>\n",
       "    </tr>\n",
       "    <tr>\n",
       "      <th>2</th>\n",
       "      <td>3</td>\n",
       "      <td>1086</td>\n",
       "    </tr>\n",
       "    <tr>\n",
       "      <th>3</th>\n",
       "      <td>4</td>\n",
       "      <td>375</td>\n",
       "    </tr>\n",
       "    <tr>\n",
       "      <th>4</th>\n",
       "      <td>5</td>\n",
       "      <td>147</td>\n",
       "    </tr>\n",
       "  </tbody>\n",
       "</table>\n",
       "</div>"
      ],
      "text/plain": [
       "   buy_ts  qty_users\n",
       "0       1      30231\n",
       "1       2       4395\n",
       "2       3       1086\n",
       "3       4        375\n",
       "4       5        147"
      ]
     },
     "execution_count": 144,
     "metadata": {},
     "output_type": "execute_result"
    }
   ],
   "source": [
    "users_orders.head()"
   ]
  },
  {
   "cell_type": "code",
   "execution_count": 145,
   "id": "7b5b6507-d297-4d62-b39f-0244a882beea",
   "metadata": {},
   "outputs": [
    {
     "data": {
      "text/plain": [
       "82.77249952084988"
      ]
     },
     "execution_count": 145,
     "metadata": {},
     "output_type": "execute_result"
    }
   ],
   "source": [
    "# calculating percentage of users thta have only 1 transaction over all them\n",
    "\n",
    "(users_orders['qty_users'].loc[0] / users_orders['qty_users'].sum()) * 100"
   ]
  },
  {
   "cell_type": "code",
   "execution_count": 146,
   "id": "dd7c849f-f5b1-4673-a353-092a2bfc866a",
   "metadata": {},
   "outputs": [
    {
     "data": {
      "image/png": "[encoded data removed]",
      "text/plain": [
       "<Figure size 1200x800 with 1 Axes>"
      ]
     },
     "metadata": {},
     "output_type": "display_data"
    }
   ],
   "source": [
    "# ploting order per user graphic\n",
    "\n",
    "users_orders.plot(x='qty_users', y='buy_ts', grid='yes', figsize=(12,8), marker='o')\n",
    "plt.title('Orders per User')\n",
    "plt.xlabel('Number of Orders')\n",
    "plt.ylabel('Quantity of Users')\n",
    "plt.show()"
   ]
  },
  {
   "cell_type": "markdown",
   "id": "40164f43",
   "metadata": {},
   "source": [
    "<div class=\"alert alert-block alert-danger\">\n",
    "<b> Comentário do revisor: </b> <a class=\"tocSkip\"></a>\n",
    "\n",
    "Erro que impede correção\n",
    "</div>\n"
   ]
  },
  {
   "cell_type": "markdown",
   "id": "d0175a96-9c20-456f-8136-527a95822c2d",
   "metadata": {},
   "source": [
    "    here we can see that 82% of the users only buy one time "
   ]
  },
  {
   "cell_type": "markdown",
   "id": "9c96f5d6-7e36-435d-8e74-d00cd5e4cb91",
   "metadata": {},
   "source": [
    "## Sales"
   ]
  },
  {
   "cell_type": "markdown",
   "id": "55ded4aa-a452-44f0-b644-770a11609136",
   "metadata": {},
   "source": [
    "### period between access and buying"
   ]
  },
  {
   "cell_type": "code",
   "execution_count": 151,
   "id": "caf5ba42-a642-43af-903f-6c4e22515b55",
   "metadata": {},
   "outputs": [],
   "source": [
    "# grouping time of first access users \n",
    "\n",
    "first_access = visits_log.groupby('uid')['start_ts'].min().reset_index(name='first_access')"
   ]
  },
  {
   "cell_type": "code",
   "execution_count": 152,
   "id": "d6713cbd-753c-4b9d-bb71-1b3c888a6225",
   "metadata": {},
   "outputs": [
    {
     "data": {
      "text/html": [
       "<div>\n",
       "<style scoped>\n",
       "    .dataframe tbody tr th:only-of-type {\n",
       "        vertical-align: middle;\n",
       "    }\n",
       "\n",
       "    .dataframe tbody tr th {\n",
       "        vertical-align: top;\n",
       "    }\n",
       "\n",
       "    .dataframe thead th {\n",
       "        text-align: right;\n",
       "    }\n",
       "</style>\n",
       "<table border=\"1\" class=\"dataframe\">\n",
       "  <thead>\n",
       "    <tr style=\"text-align: right;\">\n",
       "      <th></th>\n",
       "      <th>uid</th>\n",
       "      <th>first_access</th>\n",
       "    </tr>\n",
       "  </thead>\n",
       "  <tbody>\n",
       "    <tr>\n",
       "      <th>0</th>\n",
       "      <td>11863502262781</td>\n",
       "      <td>2018-03-01 17:27:00</td>\n",
       "    </tr>\n",
       "    <tr>\n",
       "      <th>1</th>\n",
       "      <td>49537067089222</td>\n",
       "      <td>2018-02-06 15:55:00</td>\n",
       "    </tr>\n",
       "    <tr>\n",
       "      <th>2</th>\n",
       "      <td>297729379853735</td>\n",
       "      <td>2017-06-07 18:47:00</td>\n",
       "    </tr>\n",
       "    <tr>\n",
       "      <th>3</th>\n",
       "      <td>313578113262317</td>\n",
       "      <td>2017-09-18 22:49:00</td>\n",
       "    </tr>\n",
       "    <tr>\n",
       "      <th>4</th>\n",
       "      <td>325320750514679</td>\n",
       "      <td>2017-09-30 14:29:00</td>\n",
       "    </tr>\n",
       "    <tr>\n",
       "      <th>...</th>\n",
       "      <td>...</td>\n",
       "      <td>...</td>\n",
       "    </tr>\n",
       "    <tr>\n",
       "      <th>228164</th>\n",
       "      <td>18446403737806311543</td>\n",
       "      <td>2017-11-30 03:36:00</td>\n",
       "    </tr>\n",
       "    <tr>\n",
       "      <th>228165</th>\n",
       "      <td>18446424184725333426</td>\n",
       "      <td>2017-12-06 20:32:00</td>\n",
       "    </tr>\n",
       "    <tr>\n",
       "      <th>228166</th>\n",
       "      <td>18446556406699109058</td>\n",
       "      <td>2018-01-01 16:29:00</td>\n",
       "    </tr>\n",
       "    <tr>\n",
       "      <th>228167</th>\n",
       "      <td>18446621818809592527</td>\n",
       "      <td>2017-12-27 13:27:00</td>\n",
       "    </tr>\n",
       "    <tr>\n",
       "      <th>228168</th>\n",
       "      <td>18446676030785672386</td>\n",
       "      <td>2017-10-04 16:01:00</td>\n",
       "    </tr>\n",
       "  </tbody>\n",
       "</table>\n",
       "<p>228169 rows × 2 columns</p>\n",
       "</div>"
      ],
      "text/plain": [
       "                         uid        first_access\n",
       "0             11863502262781 2018-03-01 17:27:00\n",
       "1             49537067089222 2018-02-06 15:55:00\n",
       "2            297729379853735 2017-06-07 18:47:00\n",
       "3            313578113262317 2017-09-18 22:49:00\n",
       "4            325320750514679 2017-09-30 14:29:00\n",
       "...                      ...                 ...\n",
       "228164  18446403737806311543 2017-11-30 03:36:00\n",
       "228165  18446424184725333426 2017-12-06 20:32:00\n",
       "228166  18446556406699109058 2018-01-01 16:29:00\n",
       "228167  18446621818809592527 2017-12-27 13:27:00\n",
       "228168  18446676030785672386 2017-10-04 16:01:00\n",
       "\n",
       "[228169 rows x 2 columns]"
      ]
     },
     "execution_count": 152,
     "metadata": {},
     "output_type": "execute_result"
    }
   ],
   "source": [
    "first_access"
   ]
  },
  {
   "cell_type": "code",
   "execution_count": 153,
   "id": "45d74b76-87bb-48f0-b100-d87f07ae759e",
   "metadata": {},
   "outputs": [],
   "source": [
    "# grouping first time user's purchase\n",
    "\n",
    "first_purchase = orders_log.groupby('uid')['buy_ts'].min().reset_index(name='first_purchase')"
   ]
  },
  {
   "cell_type": "code",
   "execution_count": 154,
   "id": "51801f88-1c42-4e3e-bae9-bc0d02728cf6",
   "metadata": {},
   "outputs": [
    {
     "data": {
      "text/html": [
       "<div>\n",
       "<style scoped>\n",
       "    .dataframe tbody tr th:only-of-type {\n",
       "        vertical-align: middle;\n",
       "    }\n",
       "\n",
       "    .dataframe tbody tr th {\n",
       "        vertical-align: top;\n",
       "    }\n",
       "\n",
       "    .dataframe thead th {\n",
       "        text-align: right;\n",
       "    }\n",
       "</style>\n",
       "<table border=\"1\" class=\"dataframe\">\n",
       "  <thead>\n",
       "    <tr style=\"text-align: right;\">\n",
       "      <th></th>\n",
       "      <th>uid</th>\n",
       "      <th>first_purchase</th>\n",
       "    </tr>\n",
       "  </thead>\n",
       "  <tbody>\n",
       "    <tr>\n",
       "      <th>0</th>\n",
       "      <td>313578113262317</td>\n",
       "      <td>2018-01-03 21:51:00</td>\n",
       "    </tr>\n",
       "    <tr>\n",
       "      <th>1</th>\n",
       "      <td>1575281904278712</td>\n",
       "      <td>2017-06-03 10:13:00</td>\n",
       "    </tr>\n",
       "    <tr>\n",
       "      <th>2</th>\n",
       "      <td>2429014661409475</td>\n",
       "      <td>2017-10-11 18:33:00</td>\n",
       "    </tr>\n",
       "    <tr>\n",
       "      <th>3</th>\n",
       "      <td>2464366381792757</td>\n",
       "      <td>2018-01-28 15:54:00</td>\n",
       "    </tr>\n",
       "    <tr>\n",
       "      <th>4</th>\n",
       "      <td>2551852515556206</td>\n",
       "      <td>2017-11-24 10:14:00</td>\n",
       "    </tr>\n",
       "  </tbody>\n",
       "</table>\n",
       "</div>"
      ],
      "text/plain": [
       "                uid      first_purchase\n",
       "0   313578113262317 2018-01-03 21:51:00\n",
       "1  1575281904278712 2017-06-03 10:13:00\n",
       "2  2429014661409475 2017-10-11 18:33:00\n",
       "3  2464366381792757 2018-01-28 15:54:00\n",
       "4  2551852515556206 2017-11-24 10:14:00"
      ]
     },
     "execution_count": 154,
     "metadata": {},
     "output_type": "execute_result"
    }
   ],
   "source": [
    "first_purchase.head()"
   ]
  },
  {
   "cell_type": "code",
   "execution_count": 155,
   "id": "ba790730-1363-40c3-955e-87b468950c26",
   "metadata": {
    "tags": []
   },
   "outputs": [],
   "source": [
    "# merging 'first_access' with 'first_purchase'\n",
    "\n",
    "first_access_to_purchase = first_access.merge(first_purchase, on='uid')"
   ]
  },
  {
   "cell_type": "code",
   "execution_count": 156,
   "id": "dd34f609-51e0-44ec-a57c-72a36f8aa955",
   "metadata": {},
   "outputs": [
    {
     "data": {
      "text/html": [
       "<div>\n",
       "<style scoped>\n",
       "    .dataframe tbody tr th:only-of-type {\n",
       "        vertical-align: middle;\n",
       "    }\n",
       "\n",
       "    .dataframe tbody tr th {\n",
       "        vertical-align: top;\n",
       "    }\n",
       "\n",
       "    .dataframe thead th {\n",
       "        text-align: right;\n",
       "    }\n",
       "</style>\n",
       "<table border=\"1\" class=\"dataframe\">\n",
       "  <thead>\n",
       "    <tr style=\"text-align: right;\">\n",
       "      <th></th>\n",
       "      <th>uid</th>\n",
       "      <th>first_access</th>\n",
       "      <th>first_purchase</th>\n",
       "    </tr>\n",
       "  </thead>\n",
       "  <tbody>\n",
       "    <tr>\n",
       "      <th>0</th>\n",
       "      <td>313578113262317</td>\n",
       "      <td>2017-09-18 22:49:00</td>\n",
       "      <td>2018-01-03 21:51:00</td>\n",
       "    </tr>\n",
       "    <tr>\n",
       "      <th>1</th>\n",
       "      <td>1575281904278712</td>\n",
       "      <td>2017-06-03 10:13:00</td>\n",
       "      <td>2017-06-03 10:13:00</td>\n",
       "    </tr>\n",
       "    <tr>\n",
       "      <th>2</th>\n",
       "      <td>2429014661409475</td>\n",
       "      <td>2017-10-11 17:14:00</td>\n",
       "      <td>2017-10-11 18:33:00</td>\n",
       "    </tr>\n",
       "    <tr>\n",
       "      <th>3</th>\n",
       "      <td>2464366381792757</td>\n",
       "      <td>2018-01-27 20:10:00</td>\n",
       "      <td>2018-01-28 15:54:00</td>\n",
       "    </tr>\n",
       "    <tr>\n",
       "      <th>4</th>\n",
       "      <td>2551852515556206</td>\n",
       "      <td>2017-11-24 10:14:00</td>\n",
       "      <td>2017-11-24 10:14:00</td>\n",
       "    </tr>\n",
       "  </tbody>\n",
       "</table>\n",
       "</div>"
      ],
      "text/plain": [
       "                uid        first_access      first_purchase\n",
       "0   313578113262317 2017-09-18 22:49:00 2018-01-03 21:51:00\n",
       "1  1575281904278712 2017-06-03 10:13:00 2017-06-03 10:13:00\n",
       "2  2429014661409475 2017-10-11 17:14:00 2017-10-11 18:33:00\n",
       "3  2464366381792757 2018-01-27 20:10:00 2018-01-28 15:54:00\n",
       "4  2551852515556206 2017-11-24 10:14:00 2017-11-24 10:14:00"
      ]
     },
     "execution_count": 156,
     "metadata": {},
     "output_type": "execute_result"
    }
   ],
   "source": [
    "first_access_to_purchase.head()"
   ]
  },
  {
   "cell_type": "code",
   "execution_count": 157,
   "id": "77dd984e-1057-4f61-b59b-2e35190af70b",
   "metadata": {},
   "outputs": [],
   "source": [
    "# categorizing time_of_conversion\n",
    "\n",
    "first_access_to_purchase['time_to_conversion'] = (first_access_to_purchase['first_purchase'] - first_access_to_purchase['first_access']).dt.days"
   ]
  },
  {
   "cell_type": "code",
   "execution_count": 158,
   "id": "eb21ff03-0abf-48fb-a37c-814e95395759",
   "metadata": {},
   "outputs": [],
   "source": [
    "def conversion(time_to_conversion):\n",
    "    if time_to_conversion <= 0:\n",
    "        return '0d'    \n",
    "    if time_to_conversion <= 7:\n",
    "        return '1 week'\n",
    "    if time_to_conversion <= 14:\n",
    "        return '2 weeks'\n",
    "    if time_to_conversion <= 30:\n",
    "        return '1 month'\n",
    "    if time_to_conversion <= 60:\n",
    "        return '2 months'\n",
    "    if time_to_conversion >= 90:\n",
    "        return 'over 3 months'\n",
    "   "
   ]
  },
  {
   "cell_type": "code",
   "execution_count": 159,
   "id": "4b5ac251-8bf7-41d0-a107-a9f957b1ee34",
   "metadata": {},
   "outputs": [],
   "source": [
    "# apply funcition to categorize time_of_conversion\n",
    "\n",
    "first_access_to_purchase['conversion_category'] = first_access_to_purchase['time_to_conversion'].apply(conversion)"
   ]
  },
  {
   "cell_type": "code",
   "execution_count": 160,
   "id": "ca014f35-bb46-467b-806d-adb71712431f",
   "metadata": {},
   "outputs": [
    {
     "data": {
      "text/html": [
       "<div>\n",
       "<style scoped>\n",
       "    .dataframe tbody tr th:only-of-type {\n",
       "        vertical-align: middle;\n",
       "    }\n",
       "\n",
       "    .dataframe tbody tr th {\n",
       "        vertical-align: top;\n",
       "    }\n",
       "\n",
       "    .dataframe thead th {\n",
       "        text-align: right;\n",
       "    }\n",
       "</style>\n",
       "<table border=\"1\" class=\"dataframe\">\n",
       "  <thead>\n",
       "    <tr style=\"text-align: right;\">\n",
       "      <th></th>\n",
       "      <th>uid</th>\n",
       "      <th>first_access</th>\n",
       "      <th>first_purchase</th>\n",
       "      <th>time_to_conversion</th>\n",
       "      <th>conversion_category</th>\n",
       "    </tr>\n",
       "  </thead>\n",
       "  <tbody>\n",
       "    <tr>\n",
       "      <th>0</th>\n",
       "      <td>313578113262317</td>\n",
       "      <td>2017-09-18 22:49:00</td>\n",
       "      <td>2018-01-03 21:51:00</td>\n",
       "      <td>106</td>\n",
       "      <td>over 3 months</td>\n",
       "    </tr>\n",
       "    <tr>\n",
       "      <th>1</th>\n",
       "      <td>1575281904278712</td>\n",
       "      <td>2017-06-03 10:13:00</td>\n",
       "      <td>2017-06-03 10:13:00</td>\n",
       "      <td>0</td>\n",
       "      <td>0d</td>\n",
       "    </tr>\n",
       "    <tr>\n",
       "      <th>2</th>\n",
       "      <td>2429014661409475</td>\n",
       "      <td>2017-10-11 17:14:00</td>\n",
       "      <td>2017-10-11 18:33:00</td>\n",
       "      <td>0</td>\n",
       "      <td>0d</td>\n",
       "    </tr>\n",
       "    <tr>\n",
       "      <th>3</th>\n",
       "      <td>2464366381792757</td>\n",
       "      <td>2018-01-27 20:10:00</td>\n",
       "      <td>2018-01-28 15:54:00</td>\n",
       "      <td>0</td>\n",
       "      <td>0d</td>\n",
       "    </tr>\n",
       "    <tr>\n",
       "      <th>4</th>\n",
       "      <td>2551852515556206</td>\n",
       "      <td>2017-11-24 10:14:00</td>\n",
       "      <td>2017-11-24 10:14:00</td>\n",
       "      <td>0</td>\n",
       "      <td>0d</td>\n",
       "    </tr>\n",
       "  </tbody>\n",
       "</table>\n",
       "</div>"
      ],
      "text/plain": [
       "                uid        first_access      first_purchase  \\\n",
       "0   313578113262317 2017-09-18 22:49:00 2018-01-03 21:51:00   \n",
       "1  1575281904278712 2017-06-03 10:13:00 2017-06-03 10:13:00   \n",
       "2  2429014661409475 2017-10-11 17:14:00 2017-10-11 18:33:00   \n",
       "3  2464366381792757 2018-01-27 20:10:00 2018-01-28 15:54:00   \n",
       "4  2551852515556206 2017-11-24 10:14:00 2017-11-24 10:14:00   \n",
       "\n",
       "   time_to_conversion conversion_category  \n",
       "0                 106       over 3 months  \n",
       "1                   0                  0d  \n",
       "2                   0                  0d  \n",
       "3                   0                  0d  \n",
       "4                   0                  0d  "
      ]
     },
     "execution_count": 160,
     "metadata": {},
     "output_type": "execute_result"
    }
   ],
   "source": [
    "first_access_to_purchase.head()"
   ]
  },
  {
   "cell_type": "code",
   "execution_count": 429,
   "id": "7a8b8034-94a5-471d-940b-fc3b9518520b",
   "metadata": {},
   "outputs": [
    {
     "data": {
      "text/plain": [
       "16.7298688497659"
      ]
     },
     "execution_count": 429,
     "metadata": {},
     "output_type": "execute_result"
    }
   ],
   "source": [
    "# average time to conversion\n",
    "\n",
    "first_access_to_purchase['time_to_conversion'].mean()"
   ]
  },
  {
   "cell_type": "code",
   "execution_count": 161,
   "id": "4e964f46-338f-4639-8d88-21cebf30614d",
   "metadata": {},
   "outputs": [],
   "source": [
    "# grouping users by category\n",
    "\n",
    "grouped_conversion_category = first_access_to_purchase.groupby('conversion_category')['uid'].count().reset_index().sort_values(by='uid', ascending=False)"
   ]
  },
  {
   "cell_type": "code",
   "execution_count": 433,
   "id": "47a70514-b270-41a3-a307-692afacef5da",
   "metadata": {},
   "outputs": [
    {
     "data": {
      "text/html": [
       "<div>\n",
       "<style scoped>\n",
       "    .dataframe tbody tr th:only-of-type {\n",
       "        vertical-align: middle;\n",
       "    }\n",
       "\n",
       "    .dataframe tbody tr th {\n",
       "        vertical-align: top;\n",
       "    }\n",
       "\n",
       "    .dataframe thead th {\n",
       "        text-align: right;\n",
       "    }\n",
       "</style>\n",
       "<table border=\"1\" class=\"dataframe\">\n",
       "  <thead>\n",
       "    <tr style=\"text-align: right;\">\n",
       "      <th></th>\n",
       "      <th>conversion_category</th>\n",
       "      <th>uid</th>\n",
       "    </tr>\n",
       "  </thead>\n",
       "  <tbody>\n",
       "    <tr>\n",
       "      <th>0</th>\n",
       "      <td>0d</td>\n",
       "      <td>26363</td>\n",
       "    </tr>\n",
       "    <tr>\n",
       "      <th>2</th>\n",
       "      <td>1 week</td>\n",
       "      <td>3080</td>\n",
       "    </tr>\n",
       "    <tr>\n",
       "      <th>5</th>\n",
       "      <td>over 3 months</td>\n",
       "      <td>2663</td>\n",
       "    </tr>\n",
       "    <tr>\n",
       "      <th>3</th>\n",
       "      <td>2 months</td>\n",
       "      <td>1356</td>\n",
       "    </tr>\n",
       "    <tr>\n",
       "      <th>1</th>\n",
       "      <td>1 month</td>\n",
       "      <td>1250</td>\n",
       "    </tr>\n",
       "    <tr>\n",
       "      <th>4</th>\n",
       "      <td>2 weeks</td>\n",
       "      <td>928</td>\n",
       "    </tr>\n",
       "  </tbody>\n",
       "</table>\n",
       "</div>"
      ],
      "text/plain": [
       "  conversion_category    uid\n",
       "0                  0d  26363\n",
       "2              1 week   3080\n",
       "5       over 3 months   2663\n",
       "3            2 months   1356\n",
       "1             1 month   1250\n",
       "4             2 weeks    928"
      ]
     },
     "execution_count": 433,
     "metadata": {},
     "output_type": "execute_result"
    }
   ],
   "source": [
    "grouped_conversion_category.head(10)"
   ]
  },
  {
   "cell_type": "code",
   "execution_count": 163,
   "id": "dce9f046-c1df-435c-9b60-6ab8b7ef7c8d",
   "metadata": {},
   "outputs": [
    {
     "data": {
      "text/plain": [
       "73.9702581369248"
      ]
     },
     "execution_count": 163,
     "metadata": {},
     "output_type": "execute_result"
    }
   ],
   "source": [
    "# calculatiing percentage of users purchase on first day of access\n",
    "\n",
    "(grouped_conversion_category['uid'].loc[0] / grouped_conversion_category['uid'].sum()) * 100"
   ]
  },
  {
   "cell_type": "code",
   "execution_count": 164,
   "id": "f3c2d7da-c16e-472e-81e6-a45b488e2035",
   "metadata": {},
   "outputs": [
    {
     "data": {
      "image/png": "[encoded data removed]",
      "text/plain": [
       "<Figure size 1200x800 with 1 Axes>"
      ]
     },
     "metadata": {},
     "output_type": "display_data"
    }
   ],
   "source": [
    "# ploting conversion time rate graphic\n",
    "\n",
    "grouped_conversion_category.plot(kind='bar', figsize=(12,8),x='conversion_category', y='uid', edgecolor='black',grid='yes')\n",
    "plt.xticks(rotation=45)\n",
    "plt.title('Conversion Time Rate')\n",
    "plt.xlabel('Conversion Time')\n",
    "plt.ylabel('Client Qty')\n",
    "plt.show()"
   ]
  },
  {
   "cell_type": "markdown",
   "id": "92fd1a15-2557-44e7-ac6b-3fee50da5686",
   "metadata": {},
   "source": [
    "    73% of the user purchase on first access time"
   ]
  },
  {
   "cell_type": "markdown",
   "id": "8da7d347-b773-4cd9-92d5-e8fd22a3f132",
   "metadata": {
    "tags": []
   },
   "source": [
    "### How many order client do during a period "
   ]
  },
  {
   "cell_type": "markdown",
   "id": "8e274ee9-c8d6-4d3c-8b2d-40bd706ebc70",
   "metadata": {},
   "source": [
    "#### weekly sales"
   ]
  },
  {
   "cell_type": "code",
   "execution_count": 168,
   "id": "21ecb4dd-5a68-4539-a674-639d127a5673",
   "metadata": {},
   "outputs": [],
   "source": [
    "# grouping revenue by week\n",
    "\n",
    "weekly_orders = orders_log.groupby('order_week')['revenue'].sum().reset_index(name='weekly_sales')"
   ]
  },
  {
   "cell_type": "code",
   "execution_count": 169,
   "id": "cfb4c2b1-81bd-4f4c-9c0c-43753f18b076",
   "metadata": {},
   "outputs": [
    {
     "data": {
      "text/html": [
       "<div>\n",
       "<style scoped>\n",
       "    .dataframe tbody tr th:only-of-type {\n",
       "        vertical-align: middle;\n",
       "    }\n",
       "\n",
       "    .dataframe tbody tr th {\n",
       "        vertical-align: top;\n",
       "    }\n",
       "\n",
       "    .dataframe thead th {\n",
       "        text-align: right;\n",
       "    }\n",
       "</style>\n",
       "<table border=\"1\" class=\"dataframe\">\n",
       "  <thead>\n",
       "    <tr style=\"text-align: right;\">\n",
       "      <th></th>\n",
       "      <th>order_week</th>\n",
       "      <th>weekly_sales</th>\n",
       "    </tr>\n",
       "  </thead>\n",
       "  <tbody>\n",
       "    <tr>\n",
       "      <th>47</th>\n",
       "      <td>48</td>\n",
       "      <td>5907.96</td>\n",
       "    </tr>\n",
       "    <tr>\n",
       "      <th>48</th>\n",
       "      <td>49</td>\n",
       "      <td>11470.93</td>\n",
       "    </tr>\n",
       "    <tr>\n",
       "      <th>49</th>\n",
       "      <td>50</td>\n",
       "      <td>8755.03</td>\n",
       "    </tr>\n",
       "    <tr>\n",
       "      <th>50</th>\n",
       "      <td>51</td>\n",
       "      <td>6871.31</td>\n",
       "    </tr>\n",
       "    <tr>\n",
       "      <th>51</th>\n",
       "      <td>52</td>\n",
       "      <td>6960.25</td>\n",
       "    </tr>\n",
       "  </tbody>\n",
       "</table>\n",
       "</div>"
      ],
      "text/plain": [
       "    order_week  weekly_sales\n",
       "47          48       5907.96\n",
       "48          49      11470.93\n",
       "49          50       8755.03\n",
       "50          51       6871.31\n",
       "51          52       6960.25"
      ]
     },
     "execution_count": 169,
     "metadata": {},
     "output_type": "execute_result"
    }
   ],
   "source": [
    "weekly_orders.tail()"
   ]
  },
  {
   "cell_type": "code",
   "execution_count": 170,
   "id": "0b8c9046-9202-4224-8a2b-f29ecb2ea736",
   "metadata": {},
   "outputs": [
    {
     "data": {
      "image/png": "[encoded data removed]",
      "text/plain": [
       "<Figure size 1200x800 with 1 Axes>"
      ]
     },
     "metadata": {},
     "output_type": "display_data"
    }
   ],
   "source": [
    "# ploting graphic to shown revenue done on a weekly basis\n",
    "\n",
    "weekly_orders.plot(x='order_week',y='weekly_sales',figsize=(12,8), grid='yes',marker='o')\n",
    "plt.title('Weekly Sales')\n",
    "plt.xlabel('Weeks')\n",
    "plt.ylabel('Sales')\n",
    "plt.show()"
   ]
  },
  {
   "cell_type": "markdown",
   "id": "2c57c432-f69c-4bb3-a165-882af41d14a1",
   "metadata": {},
   "source": [
    "    here we see the sales through the week, we see peaking at week 49 at €11470.93"
   ]
  },
  {
   "cell_type": "markdown",
   "id": "8cfcc05a-b42e-4605-bdcc-ecb9adefc7d1",
   "metadata": {},
   "source": [
    "#### monthly sales"
   ]
  },
  {
   "cell_type": "code",
   "execution_count": 173,
   "id": "1509dca7-2ead-49b3-aaf2-dac5d5a4c6c7",
   "metadata": {},
   "outputs": [],
   "source": [
    "monthly_orders = orders_log.groupby('order_month')['revenue'].sum().reset_index(name='monthly_sales')"
   ]
  },
  {
   "cell_type": "code",
   "execution_count": 174,
   "id": "b1ce1138-2fc6-4072-8737-43e4c2f7704d",
   "metadata": {},
   "outputs": [
    {
     "data": {
      "text/html": [
       "<div>\n",
       "<style scoped>\n",
       "    .dataframe tbody tr th:only-of-type {\n",
       "        vertical-align: middle;\n",
       "    }\n",
       "\n",
       "    .dataframe tbody tr th {\n",
       "        vertical-align: top;\n",
       "    }\n",
       "\n",
       "    .dataframe thead th {\n",
       "        text-align: right;\n",
       "    }\n",
       "</style>\n",
       "<table border=\"1\" class=\"dataframe\">\n",
       "  <thead>\n",
       "    <tr style=\"text-align: right;\">\n",
       "      <th></th>\n",
       "      <th>order_month</th>\n",
       "      <th>monthly_sales</th>\n",
       "    </tr>\n",
       "  </thead>\n",
       "  <tbody>\n",
       "    <tr>\n",
       "      <th>0</th>\n",
       "      <td>2017-06</td>\n",
       "      <td>9557.49</td>\n",
       "    </tr>\n",
       "    <tr>\n",
       "      <th>1</th>\n",
       "      <td>2017-07</td>\n",
       "      <td>12539.47</td>\n",
       "    </tr>\n",
       "    <tr>\n",
       "      <th>2</th>\n",
       "      <td>2017-08</td>\n",
       "      <td>8758.78</td>\n",
       "    </tr>\n",
       "    <tr>\n",
       "      <th>3</th>\n",
       "      <td>2017-09</td>\n",
       "      <td>18345.51</td>\n",
       "    </tr>\n",
       "    <tr>\n",
       "      <th>4</th>\n",
       "      <td>2017-10</td>\n",
       "      <td>27987.70</td>\n",
       "    </tr>\n",
       "  </tbody>\n",
       "</table>\n",
       "</div>"
      ],
      "text/plain": [
       "  order_month  monthly_sales\n",
       "0     2017-06        9557.49\n",
       "1     2017-07       12539.47\n",
       "2     2017-08        8758.78\n",
       "3     2017-09       18345.51\n",
       "4     2017-10       27987.70"
      ]
     },
     "execution_count": 174,
     "metadata": {},
     "output_type": "execute_result"
    }
   ],
   "source": [
    "monthly_orders.head()"
   ]
  },
  {
   "cell_type": "code",
   "execution_count": 175,
   "id": "ed05eeab-9eac-42c3-84df-9fa58506cb41",
   "metadata": {},
   "outputs": [
    {
     "data": {
      "image/png": "[encoded data removed]",
      "text/plain": [
       "<Figure size 1200x800 with 1 Axes>"
      ]
     },
     "metadata": {},
     "output_type": "display_data"
    }
   ],
   "source": [
    "monthly_orders.plot(x='order_month',y='monthly_sales',figsize=(12,8), grid='yes',marker='o')\n",
    "plt.title('Weekly Sales')\n",
    "plt.xlabel('Weeks')\n",
    "plt.ylabel('Sales')\n",
    "plt.show()"
   ]
  },
  {
   "cell_type": "markdown",
   "id": "d87ea6a4-8185-4c53-b4f0-7c89dec140a5",
   "metadata": {},
   "source": [
    "    we see sales with consider growth from august peaking at december"
   ]
  },
  {
   "cell_type": "code",
   "execution_count": null,
   "id": "5494754d-f723-4f04-ae63-ec535a0fe3d6",
   "metadata": {},
   "outputs": [],
   "source": []
  },
  {
   "cell_type": "code",
   "execution_count": null,
   "id": "bf8f82eb-db69-4113-b3ff-5572ee55d740",
   "metadata": {},
   "outputs": [],
   "source": []
  },
  {
   "cell_type": "markdown",
   "id": "620d888c-ea4f-456e-9736-a04602e2155d",
   "metadata": {},
   "source": [
    "### What is the medium volume of a purchase"
   ]
  },
  {
   "cell_type": "code",
   "execution_count": 178,
   "id": "25c693e2-f780-4842-832f-61511e0a97d2",
   "metadata": {},
   "outputs": [],
   "source": [
    "# saving total_users variable\n",
    "\n",
    "total_users = len(np.unique(orders_log['uid']))"
   ]
  },
  {
   "cell_type": "code",
   "execution_count": 179,
   "id": "dfc1d022-f0eb-4607-8a92-765eb82ea2de",
   "metadata": {},
   "outputs": [
    {
     "data": {
      "text/plain": [
       "36523"
      ]
     },
     "execution_count": 179,
     "metadata": {},
     "output_type": "execute_result"
    }
   ],
   "source": [
    "total_users"
   ]
  },
  {
   "cell_type": "code",
   "execution_count": 180,
   "id": "43934f0e-e45a-4152-bc57-05aab7bbd9eb",
   "metadata": {},
   "outputs": [],
   "source": [
    "# saving total_revenue variable\n",
    "\n",
    "total_revenue = orders_log['revenue'].sum()"
   ]
  },
  {
   "cell_type": "code",
   "execution_count": 181,
   "id": "76e93c2b-c961-47af-ac85-4da5a7498b3c",
   "metadata": {},
   "outputs": [],
   "source": [
    "# calculate average revenue per customer\n",
    "\n",
    "average_revenue_per_user = (total_revenue / total_users)"
   ]
  },
  {
   "cell_type": "code",
   "execution_count": 182,
   "id": "1fc77b72-d541-4698-86a8-b95129559da0",
   "metadata": {},
   "outputs": [
    {
     "data": {
      "text/plain": [
       "6.901"
      ]
     },
     "execution_count": 182,
     "metadata": {},
     "output_type": "execute_result"
    }
   ],
   "source": [
    "average_revenue_per_user.round(3)"
   ]
  },
  {
   "cell_type": "markdown",
   "id": "ea490fff-3c97-4244-bbe0-6034461499d8",
   "metadata": {},
   "source": [
    "###  What is the Lifetime Value ? "
   ]
  },
  {
   "cell_type": "code",
   "execution_count": 184,
   "id": "6cc5dbb4-ba7a-40c3-b452-b0d1d085883a",
   "metadata": {},
   "outputs": [],
   "source": [
    "# grouping last purchase per user\n",
    "\n",
    "last_purchase = orders_log.groupby('uid')['buy_ts'].max().reset_index(name='last_purchase')"
   ]
  },
  {
   "cell_type": "code",
   "execution_count": 185,
   "id": "abb58b6e-c830-44da-9edb-9d5ec5aed438",
   "metadata": {},
   "outputs": [],
   "source": [
    "# merging first and last purchase data\n",
    "\n",
    "first_last_purchase = first_purchase.merge(last_purchase, on='uid')"
   ]
  },
  {
   "cell_type": "code",
   "execution_count": 186,
   "id": "ea07f676-5bac-4a74-8722-aa95520d2a0c",
   "metadata": {},
   "outputs": [],
   "source": [
    "# calculating churn date in days\n",
    "\n",
    "first_last_purchase['churn_rate_days'] = (first_last_purchase['last_purchase'] - first_last_purchase['first_purchase']).dt.days"
   ]
  },
  {
   "cell_type": "code",
   "execution_count": 187,
   "id": "edc4a5e0-3d5a-4506-b255-405d96553b1c",
   "metadata": {},
   "outputs": [],
   "source": [
    "# calculating 'customer_lifespan'\n",
    "\n",
    "customer_lifespan = (first_last_purchase['churn_rate_days'].sum() / total_users) "
   ]
  },
  {
   "cell_type": "code",
   "execution_count": 188,
   "id": "dc9b174a-22e7-4922-88e9-63db5d48520f",
   "metadata": {},
   "outputs": [
    {
     "data": {
      "text/plain": [
       "9.637"
      ]
     },
     "execution_count": 188,
     "metadata": {},
     "output_type": "execute_result"
    }
   ],
   "source": [
    "customer_lifespan.round(3)"
   ]
  },
  {
   "cell_type": "code",
   "execution_count": 189,
   "id": "48ab5412-0797-4ee4-b416-e9ea9a80159c",
   "metadata": {},
   "outputs": [],
   "source": [
    "customer_lifespan_months = (first_last_purchase['churn_rate_days'].sum() / total_users) / 30"
   ]
  },
  {
   "cell_type": "code",
   "execution_count": 190,
   "id": "5c0aaa8a-809a-4efb-80c6-844e85663cc7",
   "metadata": {},
   "outputs": [
    {
     "data": {
      "text/plain": [
       "0.3212386715220546"
      ]
     },
     "execution_count": 190,
     "metadata": {},
     "output_type": "execute_result"
    }
   ],
   "source": [
    "customer_lifespan_months"
   ]
  },
  {
   "cell_type": "code",
   "execution_count": 191,
   "id": "0f16b78e-a2f8-4a9e-b043-cf5e3c3a28b0",
   "metadata": {},
   "outputs": [],
   "source": [
    "# calculating LTV in days\n",
    "\n",
    "ltv_days = (average_revenue_per_user/customer_lifespan)"
   ]
  },
  {
   "cell_type": "code",
   "execution_count": 192,
   "id": "14c62f39-bec1-4eb7-9e6b-cb2d908e99d9",
   "metadata": {
    "tags": []
   },
   "outputs": [
    {
     "data": {
      "text/plain": [
       "0.7161163481808522"
      ]
     },
     "execution_count": 192,
     "metadata": {},
     "output_type": "execute_result"
    }
   ],
   "source": [
    "ltv_days"
   ]
  },
  {
   "cell_type": "code",
   "execution_count": 193,
   "id": "cbc99c9f-148e-4ec3-9eb8-954d26de9325",
   "metadata": {},
   "outputs": [],
   "source": [
    "# calculating LTV in months\n",
    "\n",
    "ltv_month = (average_revenue_per_user/customer_lifespan_months)"
   ]
  },
  {
   "cell_type": "code",
   "execution_count": 453,
   "id": "60902792-077f-4676-a5db-11f6a6452fd6",
   "metadata": {},
   "outputs": [
    {
     "data": {
      "text/plain": [
       "21.48"
      ]
     },
     "execution_count": 453,
     "metadata": {},
     "output_type": "execute_result"
    }
   ],
   "source": [
    "ltv_month.round(2)"
   ]
  },
  {
   "cell_type": "markdown",
   "id": "49d63b68-5f6d-476b-8955-55c468d74d7c",
   "metadata": {
    "tags": []
   },
   "source": [
    "## Marketing"
   ]
  },
  {
   "cell_type": "markdown",
   "id": "505651ee-2eb9-462d-9f45-85aaede373cd",
   "metadata": {},
   "source": [
    "### How much money was spent ? \n",
    "   "
   ]
  },
  {
   "cell_type": "markdown",
   "id": "eca78465-162e-4109-87bb-3006ba4f2322",
   "metadata": {},
   "source": [
    "#### total"
   ]
  },
  {
   "cell_type": "code",
   "execution_count": 198,
   "id": "466fd56a-bd93-460d-b9fb-73280b44fce3",
   "metadata": {},
   "outputs": [],
   "source": [
    "# total cost with marketing\n",
    "\n",
    "total_cost = costs_us['costs'].sum()"
   ]
  },
  {
   "cell_type": "code",
   "execution_count": 199,
   "id": "043ef748-b856-4a6f-a964-c635b03f159c",
   "metadata": {},
   "outputs": [
    {
     "data": {
      "text/plain": [
       "329131.62"
      ]
     },
     "execution_count": 199,
     "metadata": {},
     "output_type": "execute_result"
    }
   ],
   "source": [
    "total_cost"
   ]
  },
  {
   "cell_type": "markdown",
   "id": "387a6565-7110-4cbe-8f12-f0bc01272b66",
   "metadata": {},
   "source": [
    "#### per source"
   ]
  },
  {
   "cell_type": "code",
   "execution_count": 201,
   "id": "2371d8f5-97b1-40c3-80e8-f2abc273766d",
   "metadata": {},
   "outputs": [],
   "source": [
    "# grouping cost by marketing source\n",
    "\n",
    "cost_per_source = costs_us.groupby('source_id')['costs'].sum().reset_index(name='total_cost')"
   ]
  },
  {
   "cell_type": "code",
   "execution_count": 202,
   "id": "20e4f937-84be-4735-a847-0b91ee38332f",
   "metadata": {},
   "outputs": [],
   "source": [
    "# sorting values by 'total_cost'\n",
    "\n",
    "cost_per_source = cost_per_source.sort_values(by='total_cost', ascending=False)"
   ]
  },
  {
   "cell_type": "code",
   "execution_count": 460,
   "id": "7a26ad9f-42d4-4c8e-91f0-0ebdcef82db7",
   "metadata": {},
   "outputs": [
    {
     "data": {
      "text/html": [
       "<div>\n",
       "<style scoped>\n",
       "    .dataframe tbody tr th:only-of-type {\n",
       "        vertical-align: middle;\n",
       "    }\n",
       "\n",
       "    .dataframe tbody tr th {\n",
       "        vertical-align: top;\n",
       "    }\n",
       "\n",
       "    .dataframe thead th {\n",
       "        text-align: right;\n",
       "    }\n",
       "</style>\n",
       "<table border=\"1\" class=\"dataframe\">\n",
       "  <thead>\n",
       "    <tr style=\"text-align: right;\">\n",
       "      <th></th>\n",
       "      <th>source_id</th>\n",
       "      <th>total_cost</th>\n",
       "    </tr>\n",
       "  </thead>\n",
       "  <tbody>\n",
       "    <tr>\n",
       "      <th>2</th>\n",
       "      <td>3</td>\n",
       "      <td>141321.63</td>\n",
       "    </tr>\n",
       "    <tr>\n",
       "      <th>3</th>\n",
       "      <td>4</td>\n",
       "      <td>61073.60</td>\n",
       "    </tr>\n",
       "    <tr>\n",
       "      <th>4</th>\n",
       "      <td>5</td>\n",
       "      <td>51757.10</td>\n",
       "    </tr>\n",
       "    <tr>\n",
       "      <th>1</th>\n",
       "      <td>2</td>\n",
       "      <td>42806.04</td>\n",
       "    </tr>\n",
       "    <tr>\n",
       "      <th>0</th>\n",
       "      <td>1</td>\n",
       "      <td>20833.27</td>\n",
       "    </tr>\n",
       "  </tbody>\n",
       "</table>\n",
       "</div>"
      ],
      "text/plain": [
       "   source_id  total_cost\n",
       "2          3   141321.63\n",
       "3          4    61073.60\n",
       "4          5    51757.10\n",
       "1          2    42806.04\n",
       "0          1    20833.27"
      ]
     },
     "execution_count": 460,
     "metadata": {},
     "output_type": "execute_result"
    }
   ],
   "source": [
    "cost_per_source.head()"
   ]
  },
  {
   "cell_type": "code",
   "execution_count": 472,
   "id": "9a5c07e4-b246-4da1-9a1c-00724c2f9d7f",
   "metadata": {},
   "outputs": [
    {
     "data": {
      "text/plain": [
       "2    42.937725\n",
       "3    18.555981\n",
       "4    15.725350\n",
       "1    13.005751\n",
       "0     6.329769\n",
       "6     1.769046\n",
       "5     1.676378\n",
       "Name: total_cost, dtype: float64"
      ]
     },
     "execution_count": 472,
     "metadata": {},
     "output_type": "execute_result"
    }
   ],
   "source": [
    "(cost_per_source['total_cost'] / cost_per_source['total_cost'].sum()) * 100"
   ]
  },
  {
   "cell_type": "code",
   "execution_count": 203,
   "id": "00d7c7ce-ff85-46e2-83ce-10e72b2d1ab1",
   "metadata": {},
   "outputs": [
    {
     "data": {
      "image/png": "[encoded data removed]",
      "text/plain": [
       "<Figure size 1200x800 with 1 Axes>"
      ]
     },
     "metadata": {},
     "output_type": "display_data"
    }
   ],
   "source": [
    "# ploting total cost per source graphic\n",
    "\n",
    "cost_per_source.plot(x='source_id',y='total_cost',kind='bar', figsize=(12,8), edgecolor='black',grid='yes')\n",
    "plt.xticks(rotation=0)\n",
    "plt.title('Total Cost per Source')\n",
    "plt.xlabel('Source ID')\n",
    "plt.ylabel('Total Cost')\n",
    "plt.show()"
   ]
  },
  {
   "cell_type": "markdown",
   "id": "e17e1e2c-7d4f-4409-af18-87635da43de5",
   "metadata": {},
   "source": [
    "    we see almost 43% of the marketing cost was from source 3"
   ]
  },
  {
   "cell_type": "markdown",
   "id": "3bad5da8-d789-4b35-8933-e3bdd7d9c947",
   "metadata": {},
   "source": [
    "#### during a period of time "
   ]
  },
  {
   "cell_type": "code",
   "execution_count": 205,
   "id": "32dd3ea8-e514-4315-b993-383b9ca4a536",
   "metadata": {},
   "outputs": [
    {
     "data": {
      "text/html": [
       "<div>\n",
       "<style scoped>\n",
       "    .dataframe tbody tr th:only-of-type {\n",
       "        vertical-align: middle;\n",
       "    }\n",
       "\n",
       "    .dataframe tbody tr th {\n",
       "        vertical-align: top;\n",
       "    }\n",
       "\n",
       "    .dataframe thead th {\n",
       "        text-align: right;\n",
       "    }\n",
       "</style>\n",
       "<table border=\"1\" class=\"dataframe\">\n",
       "  <thead>\n",
       "    <tr style=\"text-align: right;\">\n",
       "      <th></th>\n",
       "      <th>source_id</th>\n",
       "      <th>dt</th>\n",
       "      <th>costs</th>\n",
       "      <th>week</th>\n",
       "      <th>month</th>\n",
       "    </tr>\n",
       "  </thead>\n",
       "  <tbody>\n",
       "    <tr>\n",
       "      <th>0</th>\n",
       "      <td>1</td>\n",
       "      <td>2017-06-01</td>\n",
       "      <td>75.20</td>\n",
       "      <td>22</td>\n",
       "      <td>2017-06</td>\n",
       "    </tr>\n",
       "    <tr>\n",
       "      <th>1</th>\n",
       "      <td>1</td>\n",
       "      <td>2017-06-02</td>\n",
       "      <td>62.25</td>\n",
       "      <td>22</td>\n",
       "      <td>2017-06</td>\n",
       "    </tr>\n",
       "    <tr>\n",
       "      <th>2</th>\n",
       "      <td>1</td>\n",
       "      <td>2017-06-03</td>\n",
       "      <td>36.53</td>\n",
       "      <td>22</td>\n",
       "      <td>2017-06</td>\n",
       "    </tr>\n",
       "    <tr>\n",
       "      <th>3</th>\n",
       "      <td>1</td>\n",
       "      <td>2017-06-04</td>\n",
       "      <td>55.00</td>\n",
       "      <td>22</td>\n",
       "      <td>2017-06</td>\n",
       "    </tr>\n",
       "    <tr>\n",
       "      <th>4</th>\n",
       "      <td>1</td>\n",
       "      <td>2017-06-05</td>\n",
       "      <td>57.08</td>\n",
       "      <td>23</td>\n",
       "      <td>2017-06</td>\n",
       "    </tr>\n",
       "  </tbody>\n",
       "</table>\n",
       "</div>"
      ],
      "text/plain": [
       "   source_id         dt  costs  week    month\n",
       "0          1 2017-06-01  75.20    22  2017-06\n",
       "1          1 2017-06-02  62.25    22  2017-06\n",
       "2          1 2017-06-03  36.53    22  2017-06\n",
       "3          1 2017-06-04  55.00    22  2017-06\n",
       "4          1 2017-06-05  57.08    23  2017-06"
      ]
     },
     "execution_count": 205,
     "metadata": {},
     "output_type": "execute_result"
    }
   ],
   "source": [
    "costs_us.head()"
   ]
  },
  {
   "cell_type": "code",
   "execution_count": 206,
   "id": "c2efe4e0-3fd0-42d2-89ec-f1a84bc74d15",
   "metadata": {},
   "outputs": [],
   "source": [
    "# grouping cost of marketing source per week\n",
    "\n",
    "weekly_costs = costs_us.groupby('week')['costs'].sum().reset_index(name='weekly_cost')"
   ]
  },
  {
   "cell_type": "code",
   "execution_count": 207,
   "id": "ceb636f9-594b-40f9-a432-a38b8fab2ff5",
   "metadata": {},
   "outputs": [
    {
     "data": {
      "text/html": [
       "<div>\n",
       "<style scoped>\n",
       "    .dataframe tbody tr th:only-of-type {\n",
       "        vertical-align: middle;\n",
       "    }\n",
       "\n",
       "    .dataframe tbody tr th {\n",
       "        vertical-align: top;\n",
       "    }\n",
       "\n",
       "    .dataframe thead th {\n",
       "        text-align: right;\n",
       "    }\n",
       "</style>\n",
       "<table border=\"1\" class=\"dataframe\">\n",
       "  <thead>\n",
       "    <tr style=\"text-align: right;\">\n",
       "      <th></th>\n",
       "      <th>week</th>\n",
       "      <th>weekly_cost</th>\n",
       "    </tr>\n",
       "  </thead>\n",
       "  <tbody>\n",
       "    <tr>\n",
       "      <th>0</th>\n",
       "      <td>1</td>\n",
       "      <td>8067.81</td>\n",
       "    </tr>\n",
       "    <tr>\n",
       "      <th>1</th>\n",
       "      <td>2</td>\n",
       "      <td>6855.05</td>\n",
       "    </tr>\n",
       "    <tr>\n",
       "      <th>2</th>\n",
       "      <td>3</td>\n",
       "      <td>7913.74</td>\n",
       "    </tr>\n",
       "    <tr>\n",
       "      <th>3</th>\n",
       "      <td>4</td>\n",
       "      <td>7174.12</td>\n",
       "    </tr>\n",
       "    <tr>\n",
       "      <th>4</th>\n",
       "      <td>5</td>\n",
       "      <td>8130.57</td>\n",
       "    </tr>\n",
       "  </tbody>\n",
       "</table>\n",
       "</div>"
      ],
      "text/plain": [
       "   week  weekly_cost\n",
       "0     1      8067.81\n",
       "1     2      6855.05\n",
       "2     3      7913.74\n",
       "3     4      7174.12\n",
       "4     5      8130.57"
      ]
     },
     "execution_count": 207,
     "metadata": {},
     "output_type": "execute_result"
    }
   ],
   "source": [
    "weekly_costs.head()"
   ]
  },
  {
   "cell_type": "code",
   "execution_count": 208,
   "id": "604c1233-e7e2-4d12-ba62-f6b6ba0fd325",
   "metadata": {},
   "outputs": [
    {
     "data": {
      "image/png": "[encoded data removed]",
      "text/plain": [
       "<Figure size 1200x800 with 1 Axes>"
      ]
     },
     "metadata": {},
     "output_type": "display_data"
    }
   ],
   "source": [
    "# ploting graphic of marketing costs per week\n",
    "\n",
    "weekly_costs.plot(x='week',y='weekly_cost',figsize=(12,8), grid='yes',marker='o')\n",
    "plt.title('Weekly Costs')\n",
    "plt.xlabel('Weeks')\n",
    "plt.ylabel('Cost')\n",
    "plt.show()"
   ]
  },
  {
   "cell_type": "markdown",
   "id": "4645e0e9-7d36-4c52-96c1-51b5cf1058fd",
   "metadata": {},
   "source": [
    "    as seen in graphic we see a peak of costs on week 50"
   ]
  },
  {
   "cell_type": "markdown",
   "id": "07940d52-f558-437e-ae90-a8fc8552e61f",
   "metadata": {},
   "source": []
  },
  {
   "cell_type": "code",
   "execution_count": 210,
   "id": "2582f08d-3c8c-424d-af02-e8061b333999",
   "metadata": {},
   "outputs": [],
   "source": [
    "# grouping marketing costs per month\n",
    "\n",
    "monthly_costs = costs_us.groupby('month')['costs'].sum().reset_index(name='monthly_cost')"
   ]
  },
  {
   "cell_type": "code",
   "execution_count": 486,
   "id": "2a2274ec-f5e4-49de-8e0a-54ef388e7d94",
   "metadata": {},
   "outputs": [
    {
     "data": {
      "text/html": [
       "<div>\n",
       "<style scoped>\n",
       "    .dataframe tbody tr th:only-of-type {\n",
       "        vertical-align: middle;\n",
       "    }\n",
       "\n",
       "    .dataframe tbody tr th {\n",
       "        vertical-align: top;\n",
       "    }\n",
       "\n",
       "    .dataframe thead th {\n",
       "        text-align: right;\n",
       "    }\n",
       "</style>\n",
       "<table border=\"1\" class=\"dataframe\">\n",
       "  <thead>\n",
       "    <tr style=\"text-align: right;\">\n",
       "      <th></th>\n",
       "      <th>month</th>\n",
       "      <th>monthly_cost</th>\n",
       "    </tr>\n",
       "  </thead>\n",
       "  <tbody>\n",
       "    <tr>\n",
       "      <th>0</th>\n",
       "      <td>2017-06</td>\n",
       "      <td>18015.00</td>\n",
       "    </tr>\n",
       "    <tr>\n",
       "      <th>1</th>\n",
       "      <td>2017-07</td>\n",
       "      <td>18240.59</td>\n",
       "    </tr>\n",
       "    <tr>\n",
       "      <th>2</th>\n",
       "      <td>2017-08</td>\n",
       "      <td>14790.54</td>\n",
       "    </tr>\n",
       "    <tr>\n",
       "      <th>3</th>\n",
       "      <td>2017-09</td>\n",
       "      <td>24368.91</td>\n",
       "    </tr>\n",
       "    <tr>\n",
       "      <th>4</th>\n",
       "      <td>2017-10</td>\n",
       "      <td>36322.88</td>\n",
       "    </tr>\n",
       "    <tr>\n",
       "      <th>5</th>\n",
       "      <td>2017-11</td>\n",
       "      <td>37907.88</td>\n",
       "    </tr>\n",
       "    <tr>\n",
       "      <th>6</th>\n",
       "      <td>2017-12</td>\n",
       "      <td>38315.35</td>\n",
       "    </tr>\n",
       "    <tr>\n",
       "      <th>7</th>\n",
       "      <td>2018-01</td>\n",
       "      <td>33518.52</td>\n",
       "    </tr>\n",
       "    <tr>\n",
       "      <th>8</th>\n",
       "      <td>2018-02</td>\n",
       "      <td>32723.03</td>\n",
       "    </tr>\n",
       "    <tr>\n",
       "      <th>9</th>\n",
       "      <td>2018-03</td>\n",
       "      <td>30415.27</td>\n",
       "    </tr>\n",
       "  </tbody>\n",
       "</table>\n",
       "</div>"
      ],
      "text/plain": [
       "     month  monthly_cost\n",
       "0  2017-06      18015.00\n",
       "1  2017-07      18240.59\n",
       "2  2017-08      14790.54\n",
       "3  2017-09      24368.91\n",
       "4  2017-10      36322.88\n",
       "5  2017-11      37907.88\n",
       "6  2017-12      38315.35\n",
       "7  2018-01      33518.52\n",
       "8  2018-02      32723.03\n",
       "9  2018-03      30415.27"
      ]
     },
     "execution_count": 486,
     "metadata": {},
     "output_type": "execute_result"
    }
   ],
   "source": [
    "monthly_costs.head(10)"
   ]
  },
  {
   "cell_type": "code",
   "execution_count": 212,
   "id": "dae1c6f7-6088-4f3f-bb14-56272d94d909",
   "metadata": {},
   "outputs": [
    {
     "data": {
      "image/png": "[encoded data removed]",
      "text/plain": [
       "<Figure size 1200x800 with 1 Axes>"
      ]
     },
     "metadata": {},
     "output_type": "display_data"
    }
   ],
   "source": [
    "# ploting marketing costs per month\n",
    "\n",
    "monthly_costs.plot(x='month',y='monthly_cost',figsize=(12,8), grid='yes',marker='o')\n",
    "plt.title('Monthly Costs')\n",
    "plt.xlabel('Weeks')\n",
    "plt.ylabel('Cost')\n",
    "plt.show()"
   ]
  },
  {
   "cell_type": "markdown",
   "id": "fd3b9803-da21-4814-9b7c-5b26cb7363a0",
   "metadata": {},
   "source": [
    "    we see a peak in costs again in December with € 38,315.35"
   ]
  },
  {
   "cell_type": "markdown",
   "id": "716dfb76-9128-4dba-8f20-ea351fb6dee4",
   "metadata": {},
   "source": [
    "### CAC per source"
   ]
  },
  {
   "cell_type": "code",
   "execution_count": 215,
   "id": "3a86451b-ea82-4897-8940-1461fe9cd516",
   "metadata": {},
   "outputs": [
    {
     "data": {
      "text/html": [
       "<div>\n",
       "<style scoped>\n",
       "    .dataframe tbody tr th:only-of-type {\n",
       "        vertical-align: middle;\n",
       "    }\n",
       "\n",
       "    .dataframe tbody tr th {\n",
       "        vertical-align: top;\n",
       "    }\n",
       "\n",
       "    .dataframe thead th {\n",
       "        text-align: right;\n",
       "    }\n",
       "</style>\n",
       "<table border=\"1\" class=\"dataframe\">\n",
       "  <thead>\n",
       "    <tr style=\"text-align: right;\">\n",
       "      <th></th>\n",
       "      <th>source_id</th>\n",
       "      <th>total_cost</th>\n",
       "    </tr>\n",
       "  </thead>\n",
       "  <tbody>\n",
       "    <tr>\n",
       "      <th>2</th>\n",
       "      <td>3</td>\n",
       "      <td>141321.63</td>\n",
       "    </tr>\n",
       "    <tr>\n",
       "      <th>3</th>\n",
       "      <td>4</td>\n",
       "      <td>61073.60</td>\n",
       "    </tr>\n",
       "    <tr>\n",
       "      <th>4</th>\n",
       "      <td>5</td>\n",
       "      <td>51757.10</td>\n",
       "    </tr>\n",
       "    <tr>\n",
       "      <th>1</th>\n",
       "      <td>2</td>\n",
       "      <td>42806.04</td>\n",
       "    </tr>\n",
       "    <tr>\n",
       "      <th>0</th>\n",
       "      <td>1</td>\n",
       "      <td>20833.27</td>\n",
       "    </tr>\n",
       "  </tbody>\n",
       "</table>\n",
       "</div>"
      ],
      "text/plain": [
       "   source_id  total_cost\n",
       "2          3   141321.63\n",
       "3          4    61073.60\n",
       "4          5    51757.10\n",
       "1          2    42806.04\n",
       "0          1    20833.27"
      ]
     },
     "execution_count": 215,
     "metadata": {},
     "output_type": "execute_result"
    }
   ],
   "source": [
    "cost_per_source.head()"
   ]
  },
  {
   "cell_type": "code",
   "execution_count": 216,
   "id": "01ab5e21-6d13-4db9-af9a-8b3dd5020bb9",
   "metadata": {},
   "outputs": [],
   "source": [
    "# grouping visits per marketing source\n",
    "\n",
    "visits_per_source = visits_log.groupby('source_id')['uid'].nunique().reset_index(name='uid_per_source')"
   ]
  },
  {
   "cell_type": "code",
   "execution_count": 217,
   "id": "22b3b8d1-68a7-43d4-9084-a6fa87c9d3f6",
   "metadata": {},
   "outputs": [
    {
     "data": {
      "text/html": [
       "<div>\n",
       "<style scoped>\n",
       "    .dataframe tbody tr th:only-of-type {\n",
       "        vertical-align: middle;\n",
       "    }\n",
       "\n",
       "    .dataframe tbody tr th {\n",
       "        vertical-align: top;\n",
       "    }\n",
       "\n",
       "    .dataframe thead th {\n",
       "        text-align: right;\n",
       "    }\n",
       "</style>\n",
       "<table border=\"1\" class=\"dataframe\">\n",
       "  <thead>\n",
       "    <tr style=\"text-align: right;\">\n",
       "      <th></th>\n",
       "      <th>source_id</th>\n",
       "      <th>uid_per_source</th>\n",
       "    </tr>\n",
       "  </thead>\n",
       "  <tbody>\n",
       "    <tr>\n",
       "      <th>0</th>\n",
       "      <td>1</td>\n",
       "      <td>18999</td>\n",
       "    </tr>\n",
       "    <tr>\n",
       "      <th>1</th>\n",
       "      <td>2</td>\n",
       "      <td>26245</td>\n",
       "    </tr>\n",
       "    <tr>\n",
       "      <th>2</th>\n",
       "      <td>3</td>\n",
       "      <td>74756</td>\n",
       "    </tr>\n",
       "    <tr>\n",
       "      <th>3</th>\n",
       "      <td>4</td>\n",
       "      <td>83525</td>\n",
       "    </tr>\n",
       "    <tr>\n",
       "      <th>4</th>\n",
       "      <td>5</td>\n",
       "      <td>56974</td>\n",
       "    </tr>\n",
       "    <tr>\n",
       "      <th>5</th>\n",
       "      <td>6</td>\n",
       "      <td>6</td>\n",
       "    </tr>\n",
       "    <tr>\n",
       "      <th>6</th>\n",
       "      <td>7</td>\n",
       "      <td>34</td>\n",
       "    </tr>\n",
       "    <tr>\n",
       "      <th>7</th>\n",
       "      <td>9</td>\n",
       "      <td>9264</td>\n",
       "    </tr>\n",
       "    <tr>\n",
       "      <th>8</th>\n",
       "      <td>10</td>\n",
       "      <td>8067</td>\n",
       "    </tr>\n",
       "  </tbody>\n",
       "</table>\n",
       "</div>"
      ],
      "text/plain": [
       "   source_id  uid_per_source\n",
       "0          1           18999\n",
       "1          2           26245\n",
       "2          3           74756\n",
       "3          4           83525\n",
       "4          5           56974\n",
       "5          6               6\n",
       "6          7              34\n",
       "7          9            9264\n",
       "8         10            8067"
      ]
     },
     "execution_count": 217,
     "metadata": {},
     "output_type": "execute_result"
    }
   ],
   "source": [
    "visits_per_source"
   ]
  },
  {
   "cell_type": "code",
   "execution_count": 218,
   "id": "6f3f8904-30d6-4976-bb37-01d4b732e23d",
   "metadata": {},
   "outputs": [],
   "source": [
    "# merging cost per source with visit per source, on source_id\n",
    "\n",
    "cost_per_visit_source = cost_per_source.merge(visits_per_source, on='source_id')"
   ]
  },
  {
   "cell_type": "code",
   "execution_count": 219,
   "id": "4f6d209f-ed16-4a2c-b02b-16837fc32b67",
   "metadata": {},
   "outputs": [],
   "source": [
    "# sorting cost per visit source\n",
    "\n",
    "cost_per_visit_source = cost_per_visit_source.sort_values(by='source_id', ascending=True)"
   ]
  },
  {
   "cell_type": "code",
   "execution_count": 220,
   "id": "ca91394d-7760-4e01-9f4c-21f7c553dd69",
   "metadata": {},
   "outputs": [
    {
     "data": {
      "text/html": [
       "<div>\n",
       "<style scoped>\n",
       "    .dataframe tbody tr th:only-of-type {\n",
       "        vertical-align: middle;\n",
       "    }\n",
       "\n",
       "    .dataframe tbody tr th {\n",
       "        vertical-align: top;\n",
       "    }\n",
       "\n",
       "    .dataframe thead th {\n",
       "        text-align: right;\n",
       "    }\n",
       "</style>\n",
       "<table border=\"1\" class=\"dataframe\">\n",
       "  <thead>\n",
       "    <tr style=\"text-align: right;\">\n",
       "      <th></th>\n",
       "      <th>source_id</th>\n",
       "      <th>total_cost</th>\n",
       "      <th>uid_per_source</th>\n",
       "    </tr>\n",
       "  </thead>\n",
       "  <tbody>\n",
       "    <tr>\n",
       "      <th>4</th>\n",
       "      <td>1</td>\n",
       "      <td>20833.27</td>\n",
       "      <td>18999</td>\n",
       "    </tr>\n",
       "    <tr>\n",
       "      <th>3</th>\n",
       "      <td>2</td>\n",
       "      <td>42806.04</td>\n",
       "      <td>26245</td>\n",
       "    </tr>\n",
       "    <tr>\n",
       "      <th>0</th>\n",
       "      <td>3</td>\n",
       "      <td>141321.63</td>\n",
       "      <td>74756</td>\n",
       "    </tr>\n",
       "    <tr>\n",
       "      <th>1</th>\n",
       "      <td>4</td>\n",
       "      <td>61073.60</td>\n",
       "      <td>83525</td>\n",
       "    </tr>\n",
       "    <tr>\n",
       "      <th>2</th>\n",
       "      <td>5</td>\n",
       "      <td>51757.10</td>\n",
       "      <td>56974</td>\n",
       "    </tr>\n",
       "    <tr>\n",
       "      <th>6</th>\n",
       "      <td>9</td>\n",
       "      <td>5517.49</td>\n",
       "      <td>9264</td>\n",
       "    </tr>\n",
       "    <tr>\n",
       "      <th>5</th>\n",
       "      <td>10</td>\n",
       "      <td>5822.49</td>\n",
       "      <td>8067</td>\n",
       "    </tr>\n",
       "  </tbody>\n",
       "</table>\n",
       "</div>"
      ],
      "text/plain": [
       "   source_id  total_cost  uid_per_source\n",
       "4          1    20833.27           18999\n",
       "3          2    42806.04           26245\n",
       "0          3   141321.63           74756\n",
       "1          4    61073.60           83525\n",
       "2          5    51757.10           56974\n",
       "6          9     5517.49            9264\n",
       "5         10     5822.49            8067"
      ]
     },
     "execution_count": 220,
     "metadata": {},
     "output_type": "execute_result"
    }
   ],
   "source": [
    "cost_per_visit_source"
   ]
  },
  {
   "cell_type": "code",
   "execution_count": 221,
   "id": "50569b86-a166-422b-a9a0-4c525d809def",
   "metadata": {},
   "outputs": [],
   "source": [
    "# calculating cac\n",
    "\n",
    "cost_per_visit_source['cac'] = cost_per_visit_source['total_cost'] / cost_per_visit_source['uid_per_source']"
   ]
  },
  {
   "cell_type": "code",
   "execution_count": 493,
   "id": "aad70dd5-758b-4fce-871d-9882b3fb6d8d",
   "metadata": {},
   "outputs": [
    {
     "data": {
      "text/html": [
       "<div>\n",
       "<style scoped>\n",
       "    .dataframe tbody tr th:only-of-type {\n",
       "        vertical-align: middle;\n",
       "    }\n",
       "\n",
       "    .dataframe tbody tr th {\n",
       "        vertical-align: top;\n",
       "    }\n",
       "\n",
       "    .dataframe thead th {\n",
       "        text-align: right;\n",
       "    }\n",
       "</style>\n",
       "<table border=\"1\" class=\"dataframe\">\n",
       "  <thead>\n",
       "    <tr style=\"text-align: right;\">\n",
       "      <th></th>\n",
       "      <th>source_id</th>\n",
       "      <th>total_cost</th>\n",
       "      <th>uid_per_source</th>\n",
       "      <th>cac</th>\n",
       "    </tr>\n",
       "  </thead>\n",
       "  <tbody>\n",
       "    <tr>\n",
       "      <th>0</th>\n",
       "      <td>3</td>\n",
       "      <td>141321.63</td>\n",
       "      <td>74756</td>\n",
       "      <td>1.890439</td>\n",
       "    </tr>\n",
       "    <tr>\n",
       "      <th>3</th>\n",
       "      <td>2</td>\n",
       "      <td>42806.04</td>\n",
       "      <td>26245</td>\n",
       "      <td>1.631017</td>\n",
       "    </tr>\n",
       "    <tr>\n",
       "      <th>4</th>\n",
       "      <td>1</td>\n",
       "      <td>20833.27</td>\n",
       "      <td>18999</td>\n",
       "      <td>1.096546</td>\n",
       "    </tr>\n",
       "    <tr>\n",
       "      <th>2</th>\n",
       "      <td>5</td>\n",
       "      <td>51757.10</td>\n",
       "      <td>56974</td>\n",
       "      <td>0.908434</td>\n",
       "    </tr>\n",
       "    <tr>\n",
       "      <th>1</th>\n",
       "      <td>4</td>\n",
       "      <td>61073.60</td>\n",
       "      <td>83525</td>\n",
       "      <td>0.731201</td>\n",
       "    </tr>\n",
       "    <tr>\n",
       "      <th>5</th>\n",
       "      <td>10</td>\n",
       "      <td>5822.49</td>\n",
       "      <td>8067</td>\n",
       "      <td>0.721766</td>\n",
       "    </tr>\n",
       "    <tr>\n",
       "      <th>6</th>\n",
       "      <td>9</td>\n",
       "      <td>5517.49</td>\n",
       "      <td>9264</td>\n",
       "      <td>0.595584</td>\n",
       "    </tr>\n",
       "  </tbody>\n",
       "</table>\n",
       "</div>"
      ],
      "text/plain": [
       "   source_id  total_cost  uid_per_source       cac\n",
       "0          3   141321.63           74756  1.890439\n",
       "3          2    42806.04           26245  1.631017\n",
       "4          1    20833.27           18999  1.096546\n",
       "2          5    51757.10           56974  0.908434\n",
       "1          4    61073.60           83525  0.731201\n",
       "5         10     5822.49            8067  0.721766\n",
       "6          9     5517.49            9264  0.595584"
      ]
     },
     "execution_count": 493,
     "metadata": {},
     "output_type": "execute_result"
    }
   ],
   "source": [
    "cost_per_visit_source.sort_values(by='cac', ascending=False)"
   ]
  },
  {
   "cell_type": "code",
   "execution_count": 505,
   "id": "8323e845-cf53-431b-8529-ec73ffc47d31",
   "metadata": {},
   "outputs": [
    {
     "data": {
      "text/plain": [
       "0    24.956329\n",
       "3    21.531615\n",
       "4    14.475875\n",
       "2    11.992545\n",
       "1     9.652841\n",
       "5     9.528287\n",
       "6     7.862509\n",
       "Name: cac, dtype: float64"
      ]
     },
     "execution_count": 505,
     "metadata": {},
     "output_type": "execute_result"
    }
   ],
   "source": [
    "# calculating cac per source\n",
    "\n",
    "((cost_per_visit_source['cac'] / cost_per_visit_source['cac'].sum()) * 100).sort_values(ascending=False)"
   ]
  },
  {
   "cell_type": "code",
   "execution_count": 495,
   "id": "7ae14a39-afe4-4022-b9c7-bcead4d35ae6",
   "metadata": {},
   "outputs": [
    {
     "data": {
      "image/png": "[encoded data removed]",
      "text/plain": [
       "<Figure size 1200x800 with 1 Axes>"
      ]
     },
     "metadata": {},
     "output_type": "display_data"
    }
   ],
   "source": [
    "# ploting cac per source\n",
    "\n",
    "cost_per_visit_source.sort_values(by='cac', ascending=False).plot(kind='bar',x='source_id',y='cac',figsize=(12,8),edgecolor='black',grid='yes')\n",
    "plt.xticks(rotation=0)\n",
    "plt.title('CAC per Source')\n",
    "plt.xlabel('Source ID')\n",
    "plt.ylabel('CAC')\n",
    "plt.show()"
   ]
  },
  {
   "cell_type": "markdown",
   "id": "fb3cf649-bd8e-4f82-bf9f-2c97c03db131",
   "metadata": {},
   "source": [
    "    the cost per visit source shows source 3 repersents 24% of the total"
   ]
  },
  {
   "cell_type": "markdown",
   "id": "a24f7a98-66e6-4ecd-a37e-a5b4015de379",
   "metadata": {
    "tags": [],
    "toc-hr-collapsed": true
   },
   "source": [
    "### marketing revenue x source_id"
   ]
  },
  {
   "cell_type": "code",
   "execution_count": 225,
   "id": "7c77b9d7-c7e4-4190-bc63-eda791f66be7",
   "metadata": {},
   "outputs": [],
   "source": [
    "# revenue x source_id\n",
    "\n",
    "revenue_source_id = orders_visits.groupby('source_id')['revenue'].sum().reset_index()"
   ]
  },
  {
   "cell_type": "code",
   "execution_count": 226,
   "id": "c27d52b7-1d9e-4575-bd90-922985b4ca89",
   "metadata": {},
   "outputs": [],
   "source": [
    "# adding difference of percentage when compared with best performed source\n",
    "\n",
    "max_revenue = revenue_source_id['revenue'].max()\n",
    "revenue_source_id['percentage_change'] = ((revenue_source_id['revenue'] / max_revenue - 1) * 100)"
   ]
  },
  {
   "cell_type": "code",
   "execution_count": 227,
   "id": "b8b072dc-d36d-47c8-8a59-b5a20f434bb8",
   "metadata": {},
   "outputs": [
    {
     "data": {
      "text/html": [
       "<div>\n",
       "<style scoped>\n",
       "    .dataframe tbody tr th:only-of-type {\n",
       "        vertical-align: middle;\n",
       "    }\n",
       "\n",
       "    .dataframe tbody tr th {\n",
       "        vertical-align: top;\n",
       "    }\n",
       "\n",
       "    .dataframe thead th {\n",
       "        text-align: right;\n",
       "    }\n",
       "</style>\n",
       "<table border=\"1\" class=\"dataframe\">\n",
       "  <thead>\n",
       "    <tr style=\"text-align: right;\">\n",
       "      <th></th>\n",
       "      <th>source_id</th>\n",
       "      <th>revenue</th>\n",
       "      <th>percentage_change</th>\n",
       "    </tr>\n",
       "  </thead>\n",
       "  <tbody>\n",
       "    <tr>\n",
       "      <th>1</th>\n",
       "      <td>2</td>\n",
       "      <td>2638189.21</td>\n",
       "      <td>0.000000</td>\n",
       "    </tr>\n",
       "    <tr>\n",
       "      <th>0</th>\n",
       "      <td>1</td>\n",
       "      <td>2298200.17</td>\n",
       "      <td>-12.887212</td>\n",
       "    </tr>\n",
       "    <tr>\n",
       "      <th>4</th>\n",
       "      <td>5</td>\n",
       "      <td>1181477.14</td>\n",
       "      <td>-55.216361</td>\n",
       "    </tr>\n",
       "    <tr>\n",
       "      <th>3</th>\n",
       "      <td>4</td>\n",
       "      <td>496690.17</td>\n",
       "      <td>-81.173065</td>\n",
       "    </tr>\n",
       "    <tr>\n",
       "      <th>2</th>\n",
       "      <td>3</td>\n",
       "      <td>296687.96</td>\n",
       "      <td>-88.754106</td>\n",
       "    </tr>\n",
       "    <tr>\n",
       "      <th>6</th>\n",
       "      <td>9</td>\n",
       "      <td>36342.25</td>\n",
       "      <td>-98.622455</td>\n",
       "    </tr>\n",
       "    <tr>\n",
       "      <th>7</th>\n",
       "      <td>10</td>\n",
       "      <td>14619.23</td>\n",
       "      <td>-99.445861</td>\n",
       "    </tr>\n",
       "    <tr>\n",
       "      <th>5</th>\n",
       "      <td>7</td>\n",
       "      <td>1.22</td>\n",
       "      <td>-99.999954</td>\n",
       "    </tr>\n",
       "  </tbody>\n",
       "</table>\n",
       "</div>"
      ],
      "text/plain": [
       "   source_id     revenue  percentage_change\n",
       "1          2  2638189.21           0.000000\n",
       "0          1  2298200.17         -12.887212\n",
       "4          5  1181477.14         -55.216361\n",
       "3          4   496690.17         -81.173065\n",
       "2          3   296687.96         -88.754106\n",
       "6          9    36342.25         -98.622455\n",
       "7         10    14619.23         -99.445861\n",
       "5          7        1.22         -99.999954"
      ]
     },
     "execution_count": 227,
     "metadata": {},
     "output_type": "execute_result"
    }
   ],
   "source": [
    "revenue_source_id.sort_values(by='revenue', ascending=False).head(10)"
   ]
  },
  {
   "cell_type": "code",
   "execution_count": 518,
   "id": "d0496336-cc7a-4f71-b05c-3bcb7fd3534e",
   "metadata": {},
   "outputs": [
    {
     "data": {
      "text/plain": [
       "1    37.893000\n",
       "0    33.009648\n",
       "4    16.969864\n",
       "3     7.134090\n",
       "2     4.261407\n",
       "6     0.521993\n",
       "7     0.209980\n",
       "5     0.000018\n",
       "Name: revenue, dtype: float64"
      ]
     },
     "execution_count": 518,
     "metadata": {},
     "output_type": "execute_result"
    }
   ],
   "source": [
    "((revenue_source_id['revenue'] / revenue_source_id['revenue'].sum()) * 100).sort_values(ascending=False)"
   ]
  },
  {
   "cell_type": "code",
   "execution_count": 228,
   "id": "afd5a7a4-aea2-4674-9ab3-16466ebbf9dd",
   "metadata": {},
   "outputs": [
    {
     "data": {
      "image/png": "[encoded data removed]",
      "text/plain": [
       "<Figure size 1200x800 with 1 Axes>"
      ]
     },
     "metadata": {},
     "output_type": "display_data"
    }
   ],
   "source": [
    "# ploting revenue by source\n",
    "\n",
    "revenue_source_id.sort_values(by='revenue', ascending=False).plot(kind='bar', figsize=(12,8), x='source_id', y='revenue', grid='yes', edgecolor='black')\n",
    "plt.title('Revenue by Source ID')\n",
    "plt.xlabel('Source ID')\n",
    "plt.ylabel('Revenue (Millions)')\n",
    "plt.xticks(rotation=0)\n",
    "plt.show()"
   ]
  },
  {
   "cell_type": "markdown",
   "id": "251811de-5935-4898-ae6c-8b040ed3b9ac",
   "metadata": {},
   "source": [
    "    here we can see source 7, 10 and 9 gave very little return, in the other hand source 2 and 1 performed very well. \n",
    "    source 1 only 12% under 2 and source 5 down 55% when compared with source 2."
   ]
  },
  {
   "cell_type": "markdown",
   "id": "a20689b9-81cc-40ba-b274-770002c0f533",
   "metadata": {
    "toc-hr-collapsed": true
   },
   "source": [
    "## Device"
   ]
  },
  {
   "cell_type": "markdown",
   "id": "57173de9-d55d-46b5-9b92-755c461e4283",
   "metadata": {
    "tags": []
   },
   "source": [
    "### time_spent x device"
   ]
  },
  {
   "cell_type": "code",
   "execution_count": 232,
   "id": "3a508cd5-4c84-4cca-8a6e-8047747c919b",
   "metadata": {},
   "outputs": [],
   "source": [
    "time_spent_device = visits_log.groupby('device')['time_spent'].mean()"
   ]
  },
  {
   "cell_type": "code",
   "execution_count": 233,
   "id": "917232a7-84cf-4c1a-9102-bc47f9eed24c",
   "metadata": {},
   "outputs": [
    {
     "data": {
      "text/plain": [
       "device\n",
       "desktop    703.946977\n",
       "touch      479.619407\n",
       "Name: time_spent, dtype: float64"
      ]
     },
     "execution_count": 233,
     "metadata": {},
     "output_type": "execute_result"
    }
   ],
   "source": [
    "time_spent_device"
   ]
  },
  {
   "cell_type": "code",
   "execution_count": 234,
   "id": "176b91ed-d219-464e-9759-4df6d33ded1c",
   "metadata": {},
   "outputs": [],
   "source": [
    "# calculating percentage of how much more time people spend on desktop over touch\n",
    "\n",
    "percentage_time_spent_device = ((time_spent_device['desktop'] - time_spent_device['touch']) / time_spent_device['touch']) * 100"
   ]
  },
  {
   "cell_type": "code",
   "execution_count": 235,
   "id": "f534421e-fece-4918-86a5-81393c0eb5d5",
   "metadata": {},
   "outputs": [
    {
     "data": {
      "text/plain": [
       "46.77199622144781"
      ]
     },
     "execution_count": 235,
     "metadata": {},
     "output_type": "execute_result"
    }
   ],
   "source": [
    "percentage_time_spent_device"
   ]
  },
  {
   "cell_type": "code",
   "execution_count": 236,
   "id": "ff29708b-f8db-4316-91ad-b1635ab9d30b",
   "metadata": {
    "tags": []
   },
   "outputs": [
    {
     "data": {
      "image/png": "[encoded data removed]",
      "text/plain": [
       "<Figure size 1200x800 with 1 Axes>"
      ]
     },
     "metadata": {},
     "output_type": "display_data"
    }
   ],
   "source": [
    "time_spent_device.plot(kind='bar',figsize=(12,8),x=('desktop','touch'), grid='yes', edgecolor='black')\n",
    "plt.title('Avg Time Spent per Device')\n",
    "plt.xlabel('Device')\n",
    "plt.ylabel('Avg Time (seconds)')\n",
    "plt.xticks(rotation=0)\n",
    "plt.show()"
   ]
  },
  {
   "cell_type": "markdown",
   "id": "f3c466af-390f-47a1-b909-7acdd2f6d91e",
   "metadata": {},
   "source": [
    "    users spend 46% more time on desktop than touch"
   ]
  },
  {
   "cell_type": "markdown",
   "id": "9c2bea81-aa76-4b19-aeb9-11785e7fc3a1",
   "metadata": {
    "tags": []
   },
   "source": [
    "### visits x device"
   ]
  },
  {
   "cell_type": "code",
   "execution_count": 239,
   "id": "8243fbe5-304b-4d47-9282-f4bdfea14ced",
   "metadata": {
    "tags": []
   },
   "outputs": [],
   "source": [
    "visits_device = visits_log.groupby('device')['uid'].count()"
   ]
  },
  {
   "cell_type": "code",
   "execution_count": 240,
   "id": "71ebc48c-2add-474a-91d3-9162e45518b1",
   "metadata": {},
   "outputs": [
    {
     "data": {
      "text/plain": [
       "device\n",
       "desktop    262567\n",
       "touch       96833\n",
       "Name: uid, dtype: int64"
      ]
     },
     "execution_count": 240,
     "metadata": {},
     "output_type": "execute_result"
    }
   ],
   "source": [
    "visits_device"
   ]
  },
  {
   "cell_type": "code",
   "execution_count": 241,
   "id": "fddb7f21-e285-40a3-958a-dd71593a06d4",
   "metadata": {},
   "outputs": [],
   "source": [
    "# calculating percentage of how much more people use desktop over touch\n",
    "\n",
    "percentage_desktop_device = ((visits_device['desktop'] - visits_device['touch']) / visits_device['touch']) * 100"
   ]
  },
  {
   "cell_type": "code",
   "execution_count": 242,
   "id": "db86dcb4-d9ea-4cb0-aac8-ef1e5cd04001",
   "metadata": {},
   "outputs": [
    {
     "data": {
      "text/plain": [
       "171.15446180537626"
      ]
     },
     "execution_count": 242,
     "metadata": {},
     "output_type": "execute_result"
    }
   ],
   "source": [
    "percentage_desktop_device"
   ]
  },
  {
   "cell_type": "code",
   "execution_count": 243,
   "id": "7eb140c5-8166-44f5-9271-f2e5e31aaa56",
   "metadata": {},
   "outputs": [
    {
     "data": {
      "image/png": "[encoded data removed]",
      "text/plain": [
       "<Figure size 1200x800 with 1 Axes>"
      ]
     },
     "metadata": {},
     "output_type": "display_data"
    }
   ],
   "source": [
    "visits_device.plot(kind='bar',figsize=(12,8), grid='yes', edgecolor='black')\n",
    "plt.title('Visits per device')\n",
    "plt.xlabel('Device')\n",
    "plt.ylabel('Visits')\n",
    "plt.xticks(rotation=0)\n",
    "plt.show()\n"
   ]
  },
  {
   "cell_type": "markdown",
   "id": "834f2096-645b-4b3a-a5d3-caf7d8f437b6",
   "metadata": {},
   "source": [
    "    desktop user are 171% more than touch"
   ]
  },
  {
   "cell_type": "markdown",
   "id": "4ff78203-86af-49fe-b71e-8ad63ed760fe",
   "metadata": {},
   "source": [
    "# Conclusion"
   ]
  },
  {
   "cell_type": "markdown",
   "id": "900ff801-94e3-46dd-ad72-0a59e1a3799f",
   "metadata": {},
   "source": [
    "The data was loaded normally, we loaded 3 csv files, one with costs spent in marketing, one with visits log and one with the orders log placed by customers. No missing values were detected. We standardized columns names in orders_log and visits_log. Some types of files were managed to facilitate the data analysis, the columns with times and dates were converted to date format. After, we enhance some data creating new columns with the weeks, months and years. Two data frames were merged for analysis as well, orders_log and visits_log.\n",
    "\n",
    "We started the analysis looking at the product and seeing that the average visit per user a day is around 1.5. We plot a graphic showing us that 77% of the user visit only one time per day. \n",
    "I broken down the data in weeks per year. We were able to see an increase of 46% from week 22 to 23, after week 31 there is a growth up to week 40 at 8878 access, it stays leveled for 6 weeks and grows again on week 45 peaking at week 47 with 13572 access in 2017.\n",
    "In 2018 we can see access peaking at week 5 with 9796 from that until week 11 access went down we see a recovery on week 11 but a dive of 62% of access, a small recovery after 4 weeks and another dive into our lowest level of the recorded year 2018, a very shy recovery after that.\n",
    "I broken down in months to have a better outlook on the numbers and we could see a growth of 147% from June to November of 2017 when visit peaks. When looking at 2018 data we noticed a drop of almost 28% from January to May.\n",
    "\n",
    "The average session length per user is 643 seconds which is about 10 minutes. \n",
    "\n",
    "I have used a graphic to shown that 82% of users only order once.\n",
    "\n",
    "I grouped users first access time and subtract from first time they purchase and found that the average time to conversion is 16 days.\n",
    "I categorized the users conversion rate in 0 days, 1 week, 2 weeks, 1 month, 2 months and over 3 months and as per graphic shown we see that 73% of the users do their purchase on the day of access.\n",
    "\n",
    "I grouped the revenue by week first and we were able to see its peak on week 49 at € 11,470.93.\n",
    "I also grouped the revenue by month we see sales with consider growth from august peaking at December. This graphic looks neater than the previous one. When we consider months we can see clearly a growth in sales throughout the year.\n",
    "\n",
    "We have a total of 36523 users and the average revenue per user is € 6.90.\n",
    "\n",
    "I calculated the LTV of customer at €21.48\n",
    "\n",
    "The total money spent with marketing was € 329,131.62.\n",
    "\n",
    "As seen per data 42% of the marketing cost came from source 3, 18% from source 4, 15 from source 5.\n",
    "\n",
    "I grouped the marketing costs per week and we observed a peak at week 50.\n",
    "When marketing costs grouped monthly we seen a growth of costs with source from august peaking at December with € 38,315.35.\n",
    "\n",
    "I calculated the CAC per source and plotted in a graphic which shows the highist CAC per source being source 3. Representing 24% of the whole cost.\n",
    "\n",
    "When calculated total revenue by source, source 2 are 37% of the revenue followed by source 1 at 33% and in third source 5 with 16%\n",
    "\n",
    "A further analysis done by device was done and we found out that by average 46% people spend more time when using desktop as device and 171% use more desktop over touch as a device.\n",
    "\n",
    "I recommend that marketing department focus their spend with source number 2 as per data shown represent 37% of the revenue and its cost was only € 42,806.04 or 13% of all the cost with marketing. And urgently review their spend at source 3 which cost was €14,1321.63 or 42% of the total spent with marketing and its revenue was €296,687.96 around 12% of total revenue.\n",
    "\n"
   ]
  }
 ],
 "metadata": {
  "kernelspec": {
   "display_name": "anaconda-panel-2023.05-py310",
   "language": "python",
   "name": "conda-env-anaconda-panel-2023.05-py310-py"
  },
  "language_info": {
   "codemirror_mode": {
    "name": "ipython",
    "version": 3
   },
   "file_extension": ".py",
   "mimetype": "text/x-python",
   "name": "python",
   "nbconvert_exporter": "python",
   "pygments_lexer": "ipython3",
   "version": "3.11.5"
  },
  "toc": {
   "base_numbering": 1,
   "nav_menu": {},
   "number_sections": true,
   "sideBar": true,
   "skip_h1_title": true,
   "title_cell": "Table of Contents",
   "title_sidebar": "Contents",
   "toc_cell": false,
   "toc_position": {},
   "toc_section_display": true,
   "toc_window_display": false
  }
 },
 "nbformat": 4,
 "nbformat_minor": 5
}
