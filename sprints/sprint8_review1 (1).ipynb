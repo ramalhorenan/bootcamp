{
 "cells": [
  {
   "cell_type": "markdown",
   "id": "c55b23e4",
   "metadata": {},
   "source": [
    "Olá, Renan!\n",
    "\n",
    "Meu nome é Luiz. Fico feliz em revisar seu projeto. Ao longo do texto farei algumas observações sobre melhorias no código e também farei comentários sobre suas percepções sobre o assunto. Estarei aberto a feedbacks e discussões sobre o tema.\n",
    "\n",
    "**Peço que mantenha e não altere os comentários que eu fizer por aqui para que possamos nos localizar posteriormente, ok?**\n",
    "\n",
    "Mais uma coisa, vamos utilizar um código de cores para você entender o meu feedback no seu notebook. Funciona assim:\n",
    "\n",
    "<div class=\"alert alert-block alert-success\">\n",
    "<b> Comentário do revisor: </b> <a class=\"tocSkip\"></a>\n",
    "\n",
    "Sucesso. Tudo foi feito corretamente.\n",
    "</div>\n",
    "\n",
    "<div class=\"alert alert-block alert-warning\">\n",
    "<b>Comentário do revisor: </b> <a class=\"tocSkip\"></a>\n",
    "\n",
    "Alerta não crítico, mas que pode ser corrigido para melhoria geral no seu código/análise.\n",
    "</div>\n",
    "\n",
    "<div class=\"alert alert-block alert-danger\">\n",
    "\n",
    "<b>Comentário do revisor: </b> <a class=\"tocSkip\"></a>\n",
    "    \n",
    "Erro que precisa ser arrumado, caso contrário seu projeto **não** será aceito.\n",
    "</div>\n",
    "\n",
    "Você pode interagir comigo através dessa célula:\n",
    "<div class=\"alert alert-block alert-info\">\n",
    "<b>Resposta do Aluno.</b> <a class=\"tocSkip\"></a>\n",
    "</div>\n"
   ]
  },
  {
   "cell_type": "markdown",
   "id": "af48ad32-0f02-4bac-ab18-357b92b2d599",
   "metadata": {},
   "source": [
    "# Project Description"
   ]
  },
  {
   "cell_type": "markdown",
   "id": "75bc94fc-379f-4f1c-b4cf-4c2f2073c031",
   "metadata": {
    "tags": []
   },
   "source": [
    "## Initializing"
   ]
  },
  {
   "cell_type": "code",
   "execution_count": 4,
   "id": "e91c3c91-4482-4896-8a33-85792b4fbe9e",
   "metadata": {},
   "outputs": [],
   "source": [
    "import pandas as pd\n",
    "import matplotlib.pyplot as plt\n",
    "import numpy as np\n",
    "import seaborn as sns\n",
    "import scipy.stats as stats\n",
    "from scipy.stats import t\n",
    "from scipy.stats import ttest_ind\n",
    "from scipy.stats import levene\n",
    "\n"
   ]
  },
  {
   "cell_type": "markdown",
   "id": "0a1c0c05",
   "metadata": {},
   "source": [
    "<div class=\"alert alert-block alert-warning\">\n",
    "<b> Comentário do revisor: </b> <a class=\"tocSkip\"></a>\n",
    "\n",
    "As bibliotecas foram importadas corretamente, mas tente não deixar espaços em branco entre as linhas.\n",
    "</div>"
   ]
  },
  {
   "cell_type": "markdown",
   "id": "7cb56fcb-c8fb-4c50-8cb9-dc045daf79ec",
   "metadata": {
    "tags": []
   },
   "source": [
    "## Loading Files"
   ]
  },
  {
   "cell_type": "code",
   "execution_count": 7,
   "id": "062fad52-58c8-4b69-9de6-3c3056eb2dd2",
   "metadata": {},
   "outputs": [],
   "source": [
    "# reading files\n",
    "\n",
    "try:\n",
    "    hypotheses = pd.read_csv(\"/datasets/hypotheses_us.csv\")\n",
    "\n",
    "except FileNotFoundError:\n",
    "    hypotheses = pd.read_csv(\"hypotheses_us.csv\", sep=';')"
   ]
  },
  {
   "cell_type": "code",
   "execution_count": 8,
   "id": "cc4c18b8-fd06-4287-8a52-155cfe83fbda",
   "metadata": {},
   "outputs": [],
   "source": [
    "# reading files\n",
    "\n",
    "try:\n",
    "    orders = pd.read_csv(\"/datasets/orders_us.csv\")\n",
    "\n",
    "except FileNotFoundError:\n",
    "    orders = pd.read_csv(\"orders_us.csv\")"
   ]
  },
  {
   "cell_type": "code",
   "execution_count": 9,
   "id": "51bbbffc-03a2-4d1d-828d-7e2101cb9b0e",
   "metadata": {},
   "outputs": [],
   "source": [
    "# reading files\n",
    "\n",
    "try:\n",
    "    visits = pd.read_csv(\"/datasets/visits_us.csv\")\n",
    "\n",
    "except FileNotFoundError:\n",
    "    visits = pd.read_csv(\"visits_us.csv\")"
   ]
  },
  {
   "cell_type": "markdown",
   "id": "a022523d",
   "metadata": {},
   "source": [
    "<div class=\"alert alert-block alert-warning\">\n",
    "<b> Comentário do revisor: </b> <a class=\"tocSkip\"></a>\n",
    "\n",
    "Os arquivos foram carregados, porém há um problema com o dataset de hipóteses que menciono logo abaixo. Muito bom tratamento de execeção em caso de arquivo não encontrado.\n",
    "</div>"
   ]
  },
  {
   "cell_type": "code",
   "execution_count": 11,
   "id": "f9f213b9-05c1-4e2d-aad3-7f3960284de8",
   "metadata": {},
   "outputs": [
    {
     "name": "stdout",
     "output_type": "stream",
     "text": [
      "<class 'pandas.core.frame.DataFrame'>\n",
      "RangeIndex: 9 entries, 0 to 8\n",
      "Data columns (total 5 columns):\n",
      " #   Column      Non-Null Count  Dtype \n",
      "---  ------      --------------  ----- \n",
      " 0   Hypothesis  9 non-null      object\n",
      " 1   Reach       9 non-null      int64 \n",
      " 2   Impact      9 non-null      int64 \n",
      " 3   Confidence  9 non-null      int64 \n",
      " 4   Effort      9 non-null      int64 \n",
      "dtypes: int64(4), object(1)\n",
      "memory usage: 488.0+ bytes\n"
     ]
    }
   ],
   "source": [
    "hypotheses.info()"
   ]
  },
  {
   "cell_type": "code",
   "execution_count": 12,
   "id": "7aaff1b2-ae26-4469-b41c-74351e2f2413",
   "metadata": {},
   "outputs": [
    {
     "data": {
      "text/html": [
       "<div>\n",
       "<style scoped>\n",
       "    .dataframe tbody tr th:only-of-type {\n",
       "        vertical-align: middle;\n",
       "    }\n",
       "\n",
       "    .dataframe tbody tr th {\n",
       "        vertical-align: top;\n",
       "    }\n",
       "\n",
       "    .dataframe thead th {\n",
       "        text-align: right;\n",
       "    }\n",
       "</style>\n",
       "<table border=\"1\" class=\"dataframe\">\n",
       "  <thead>\n",
       "    <tr style=\"text-align: right;\">\n",
       "      <th></th>\n",
       "      <th>Hypothesis</th>\n",
       "      <th>Reach</th>\n",
       "      <th>Impact</th>\n",
       "      <th>Confidence</th>\n",
       "      <th>Effort</th>\n",
       "    </tr>\n",
       "  </thead>\n",
       "  <tbody>\n",
       "    <tr>\n",
       "      <th>0</th>\n",
       "      <td>Add two new channels for attracting traffic. T...</td>\n",
       "      <td>3</td>\n",
       "      <td>10</td>\n",
       "      <td>8</td>\n",
       "      <td>6</td>\n",
       "    </tr>\n",
       "    <tr>\n",
       "      <th>1</th>\n",
       "      <td>Launch your own delivery service. This will sh...</td>\n",
       "      <td>2</td>\n",
       "      <td>5</td>\n",
       "      <td>4</td>\n",
       "      <td>10</td>\n",
       "    </tr>\n",
       "    <tr>\n",
       "      <th>2</th>\n",
       "      <td>Add product recommendation blocks to the store...</td>\n",
       "      <td>8</td>\n",
       "      <td>3</td>\n",
       "      <td>7</td>\n",
       "      <td>3</td>\n",
       "    </tr>\n",
       "    <tr>\n",
       "      <th>3</th>\n",
       "      <td>Change the category structure. This will incre...</td>\n",
       "      <td>8</td>\n",
       "      <td>3</td>\n",
       "      <td>3</td>\n",
       "      <td>8</td>\n",
       "    </tr>\n",
       "    <tr>\n",
       "      <th>4</th>\n",
       "      <td>Change the background color on the main page. ...</td>\n",
       "      <td>3</td>\n",
       "      <td>1</td>\n",
       "      <td>1</td>\n",
       "      <td>1</td>\n",
       "    </tr>\n",
       "  </tbody>\n",
       "</table>\n",
       "</div>"
      ],
      "text/plain": [
       "                                          Hypothesis  Reach  Impact  \\\n",
       "0  Add two new channels for attracting traffic. T...      3      10   \n",
       "1  Launch your own delivery service. This will sh...      2       5   \n",
       "2  Add product recommendation blocks to the store...      8       3   \n",
       "3  Change the category structure. This will incre...      8       3   \n",
       "4  Change the background color on the main page. ...      3       1   \n",
       "\n",
       "   Confidence  Effort  \n",
       "0           8       6  \n",
       "1           4      10  \n",
       "2           7       3  \n",
       "3           3       8  \n",
       "4           1       1  "
      ]
     },
     "execution_count": 12,
     "metadata": {},
     "output_type": "execute_result"
    }
   ],
   "source": [
    "hypotheses.head()"
   ]
  },
  {
   "cell_type": "markdown",
   "id": "e8b1aea1",
   "metadata": {},
   "source": [
    "<div class=\"alert alert-block alert-danger\">\n",
    "<b> Comentário do revisor: </b> <a class=\"tocSkip\"></a>\n",
    "\n",
    "Aqui você deve conseguir importar esse dataset no formato esperado usando outro tipo de separador:\n",
    "  \n",
    "```python\n",
    "pd.read_csv(..., sep=';')\n",
    "```\n",
    "   \n",
    "</div>"
   ]
  },
  {
   "cell_type": "code",
   "execution_count": 14,
   "id": "5fed9551-34da-429d-ae96-b265b028c9ed",
   "metadata": {},
   "outputs": [],
   "source": [
    "# lowering cases on 'hypotheses' columns\n",
    "\n",
    "hypotheses.columns = hypotheses.columns.str.lower()"
   ]
  },
  {
   "cell_type": "code",
   "execution_count": 15,
   "id": "1dc380d8-2fb9-48f9-914b-a2027b050a0e",
   "metadata": {},
   "outputs": [
    {
     "name": "stdout",
     "output_type": "stream",
     "text": [
      "<class 'pandas.core.frame.DataFrame'>\n",
      "RangeIndex: 1197 entries, 0 to 1196\n",
      "Data columns (total 5 columns):\n",
      " #   Column         Non-Null Count  Dtype  \n",
      "---  ------         --------------  -----  \n",
      " 0   transactionId  1197 non-null   int64  \n",
      " 1   visitorId      1197 non-null   int64  \n",
      " 2   date           1197 non-null   object \n",
      " 3   revenue        1197 non-null   float64\n",
      " 4   group          1197 non-null   object \n",
      "dtypes: float64(1), int64(2), object(2)\n",
      "memory usage: 46.9+ KB\n"
     ]
    }
   ],
   "source": [
    "orders.info()"
   ]
  },
  {
   "cell_type": "code",
   "execution_count": 16,
   "id": "e1a098b2-fc26-410b-af08-1fb07321d3da",
   "metadata": {},
   "outputs": [
    {
     "data": {
      "text/html": [
       "<div>\n",
       "<style scoped>\n",
       "    .dataframe tbody tr th:only-of-type {\n",
       "        vertical-align: middle;\n",
       "    }\n",
       "\n",
       "    .dataframe tbody tr th {\n",
       "        vertical-align: top;\n",
       "    }\n",
       "\n",
       "    .dataframe thead th {\n",
       "        text-align: right;\n",
       "    }\n",
       "</style>\n",
       "<table border=\"1\" class=\"dataframe\">\n",
       "  <thead>\n",
       "    <tr style=\"text-align: right;\">\n",
       "      <th></th>\n",
       "      <th>transactionId</th>\n",
       "      <th>visitorId</th>\n",
       "      <th>date</th>\n",
       "      <th>revenue</th>\n",
       "      <th>group</th>\n",
       "    </tr>\n",
       "  </thead>\n",
       "  <tbody>\n",
       "    <tr>\n",
       "      <th>0</th>\n",
       "      <td>3667963787</td>\n",
       "      <td>3312258926</td>\n",
       "      <td>2019-08-15</td>\n",
       "      <td>30.4</td>\n",
       "      <td>B</td>\n",
       "    </tr>\n",
       "    <tr>\n",
       "      <th>1</th>\n",
       "      <td>2804400009</td>\n",
       "      <td>3642806036</td>\n",
       "      <td>2019-08-15</td>\n",
       "      <td>15.2</td>\n",
       "      <td>B</td>\n",
       "    </tr>\n",
       "    <tr>\n",
       "      <th>2</th>\n",
       "      <td>2961555356</td>\n",
       "      <td>4069496402</td>\n",
       "      <td>2019-08-15</td>\n",
       "      <td>10.2</td>\n",
       "      <td>A</td>\n",
       "    </tr>\n",
       "    <tr>\n",
       "      <th>3</th>\n",
       "      <td>3797467345</td>\n",
       "      <td>1196621759</td>\n",
       "      <td>2019-08-15</td>\n",
       "      <td>155.1</td>\n",
       "      <td>B</td>\n",
       "    </tr>\n",
       "    <tr>\n",
       "      <th>4</th>\n",
       "      <td>2282983706</td>\n",
       "      <td>2322279887</td>\n",
       "      <td>2019-08-15</td>\n",
       "      <td>40.5</td>\n",
       "      <td>B</td>\n",
       "    </tr>\n",
       "  </tbody>\n",
       "</table>\n",
       "</div>"
      ],
      "text/plain": [
       "   transactionId   visitorId        date  revenue group\n",
       "0     3667963787  3312258926  2019-08-15     30.4     B\n",
       "1     2804400009  3642806036  2019-08-15     15.2     B\n",
       "2     2961555356  4069496402  2019-08-15     10.2     A\n",
       "3     3797467345  1196621759  2019-08-15    155.1     B\n",
       "4     2282983706  2322279887  2019-08-15     40.5     B"
      ]
     },
     "execution_count": 16,
     "metadata": {},
     "output_type": "execute_result"
    }
   ],
   "source": [
    "orders.head()"
   ]
  },
  {
   "cell_type": "code",
   "execution_count": 17,
   "id": "01cf77d8-a536-4be4-8730-737e4325b04e",
   "metadata": {},
   "outputs": [
    {
     "name": "stdout",
     "output_type": "stream",
     "text": [
      "<class 'pandas.core.frame.DataFrame'>\n",
      "RangeIndex: 62 entries, 0 to 61\n",
      "Data columns (total 3 columns):\n",
      " #   Column  Non-Null Count  Dtype \n",
      "---  ------  --------------  ----- \n",
      " 0   date    62 non-null     object\n",
      " 1   group   62 non-null     object\n",
      " 2   visits  62 non-null     int64 \n",
      "dtypes: int64(1), object(2)\n",
      "memory usage: 1.6+ KB\n"
     ]
    }
   ],
   "source": [
    "visits.info()"
   ]
  },
  {
   "cell_type": "code",
   "execution_count": 18,
   "id": "12092a92-9cdb-413c-b1d8-217369655d31",
   "metadata": {},
   "outputs": [
    {
     "data": {
      "text/html": [
       "<div>\n",
       "<style scoped>\n",
       "    .dataframe tbody tr th:only-of-type {\n",
       "        vertical-align: middle;\n",
       "    }\n",
       "\n",
       "    .dataframe tbody tr th {\n",
       "        vertical-align: top;\n",
       "    }\n",
       "\n",
       "    .dataframe thead th {\n",
       "        text-align: right;\n",
       "    }\n",
       "</style>\n",
       "<table border=\"1\" class=\"dataframe\">\n",
       "  <thead>\n",
       "    <tr style=\"text-align: right;\">\n",
       "      <th></th>\n",
       "      <th>date</th>\n",
       "      <th>group</th>\n",
       "      <th>visits</th>\n",
       "    </tr>\n",
       "  </thead>\n",
       "  <tbody>\n",
       "    <tr>\n",
       "      <th>0</th>\n",
       "      <td>2019-08-01</td>\n",
       "      <td>A</td>\n",
       "      <td>719</td>\n",
       "    </tr>\n",
       "    <tr>\n",
       "      <th>1</th>\n",
       "      <td>2019-08-02</td>\n",
       "      <td>A</td>\n",
       "      <td>619</td>\n",
       "    </tr>\n",
       "    <tr>\n",
       "      <th>2</th>\n",
       "      <td>2019-08-03</td>\n",
       "      <td>A</td>\n",
       "      <td>507</td>\n",
       "    </tr>\n",
       "    <tr>\n",
       "      <th>3</th>\n",
       "      <td>2019-08-04</td>\n",
       "      <td>A</td>\n",
       "      <td>717</td>\n",
       "    </tr>\n",
       "    <tr>\n",
       "      <th>4</th>\n",
       "      <td>2019-08-05</td>\n",
       "      <td>A</td>\n",
       "      <td>756</td>\n",
       "    </tr>\n",
       "  </tbody>\n",
       "</table>\n",
       "</div>"
      ],
      "text/plain": [
       "         date group  visits\n",
       "0  2019-08-01     A     719\n",
       "1  2019-08-02     A     619\n",
       "2  2019-08-03     A     507\n",
       "3  2019-08-04     A     717\n",
       "4  2019-08-05     A     756"
      ]
     },
     "execution_count": 18,
     "metadata": {},
     "output_type": "execute_result"
    }
   ],
   "source": [
    "visits.head()"
   ]
  },
  {
   "cell_type": "markdown",
   "id": "48b06760-fd46-460b-aa33-63834bd6cd92",
   "metadata": {},
   "source": [
    "    No missing values were found "
   ]
  },
  {
   "cell_type": "markdown",
   "id": "205e3b37",
   "metadata": {},
   "source": [
    "<div class=\"alert alert-block alert-success\">\n",
    "<b> Comentário do revisor: </b> <a class=\"tocSkip\"></a>\n",
    "\n",
    "Os métodos `info()` e `head()` foram usados corretamente para estudar previamente os conjuntos de dados.\n",
    "</div>"
   ]
  },
  {
   "cell_type": "markdown",
   "id": "3c5cdc06-00c9-4646-8aa7-22adae0e33f9",
   "metadata": {
    "tags": []
   },
   "source": [
    "## Modifying and standaryzing data"
   ]
  },
  {
   "cell_type": "code",
   "execution_count": 22,
   "id": "d8774402-3497-4852-b7a4-2851ec544728",
   "metadata": {},
   "outputs": [],
   "source": [
    "# modyfing 'date' column to date format\n",
    "\n",
    "visits['date'] = pd.to_datetime(visits['date'])"
   ]
  },
  {
   "cell_type": "code",
   "execution_count": 23,
   "id": "22a896ad-7815-46d9-a3c9-f600a669092f",
   "metadata": {},
   "outputs": [],
   "source": [
    "# modyfing 'date' column to date format\n",
    "\n",
    "orders['date'] = pd.to_datetime(orders['date'])"
   ]
  },
  {
   "cell_type": "markdown",
   "id": "a2473fe4",
   "metadata": {},
   "source": [
    "<div class=\"alert alert-block alert-success\">\n",
    "<b> Comentário do revisor: </b> <a class=\"tocSkip\"></a>\n",
    "\n",
    "Os atributos do tipo `date` foram convertidos para o formato adequado.\n",
    "</div>"
   ]
  },
  {
   "cell_type": "markdown",
   "id": "c6564b2b",
   "metadata": {},
   "source": [
    "<div class=\"alert alert-block alert-danger\">\n",
    "<b> Comentário do revisor: </b> <a class=\"tocSkip\"></a>\n",
    "\n",
    "Você deve conseguir importar esse dataset no formato esperado como sugeri acima.\n",
    "   \n",
    "</div>"
   ]
  },
  {
   "cell_type": "markdown",
   "id": "7cc1975b-0e06-4ed2-854a-57f56603739f",
   "metadata": {},
   "source": [
    "\n",
    "<div class=\"alert alert-block alert-info\">\n",
    "<b>Tinha esquecido desse recurso, obrigado.</b> <a class=\"tocSkip\"></a>\n",
    "</div>\n"
   ]
  },
  {
   "cell_type": "markdown",
   "id": "d0ea5675-4658-4efe-9524-c6ed91702b0c",
   "metadata": {
    "tags": []
   },
   "source": [
    "# Data Analysis"
   ]
  },
  {
   "cell_type": "markdown",
   "id": "af9b541a-7624-413b-a37a-11d285fcc5a3",
   "metadata": {
    "tags": []
   },
   "source": [
    "## Prioritizing Hypothesis"
   ]
  },
  {
   "cell_type": "code",
   "execution_count": 29,
   "id": "a0aace10-5f24-4402-b148-4e79ff95ac40",
   "metadata": {},
   "outputs": [
    {
     "data": {
      "text/html": [
       "<div>\n",
       "<style scoped>\n",
       "    .dataframe tbody tr th:only-of-type {\n",
       "        vertical-align: middle;\n",
       "    }\n",
       "\n",
       "    .dataframe tbody tr th {\n",
       "        vertical-align: top;\n",
       "    }\n",
       "\n",
       "    .dataframe thead th {\n",
       "        text-align: right;\n",
       "    }\n",
       "</style>\n",
       "<table border=\"1\" class=\"dataframe\">\n",
       "  <thead>\n",
       "    <tr style=\"text-align: right;\">\n",
       "      <th></th>\n",
       "      <th>hypothesis</th>\n",
       "      <th>reach</th>\n",
       "      <th>impact</th>\n",
       "      <th>confidence</th>\n",
       "      <th>effort</th>\n",
       "    </tr>\n",
       "  </thead>\n",
       "  <tbody>\n",
       "    <tr>\n",
       "      <th>0</th>\n",
       "      <td>Add two new channels for attracting traffic. T...</td>\n",
       "      <td>3</td>\n",
       "      <td>10</td>\n",
       "      <td>8</td>\n",
       "      <td>6</td>\n",
       "    </tr>\n",
       "    <tr>\n",
       "      <th>1</th>\n",
       "      <td>Launch your own delivery service. This will sh...</td>\n",
       "      <td>2</td>\n",
       "      <td>5</td>\n",
       "      <td>4</td>\n",
       "      <td>10</td>\n",
       "    </tr>\n",
       "    <tr>\n",
       "      <th>2</th>\n",
       "      <td>Add product recommendation blocks to the store...</td>\n",
       "      <td>8</td>\n",
       "      <td>3</td>\n",
       "      <td>7</td>\n",
       "      <td>3</td>\n",
       "    </tr>\n",
       "    <tr>\n",
       "      <th>3</th>\n",
       "      <td>Change the category structure. This will incre...</td>\n",
       "      <td>8</td>\n",
       "      <td>3</td>\n",
       "      <td>3</td>\n",
       "      <td>8</td>\n",
       "    </tr>\n",
       "    <tr>\n",
       "      <th>4</th>\n",
       "      <td>Change the background color on the main page. ...</td>\n",
       "      <td>3</td>\n",
       "      <td>1</td>\n",
       "      <td>1</td>\n",
       "      <td>1</td>\n",
       "    </tr>\n",
       "    <tr>\n",
       "      <th>5</th>\n",
       "      <td>Add a customer review page. This will increase...</td>\n",
       "      <td>3</td>\n",
       "      <td>2</td>\n",
       "      <td>2</td>\n",
       "      <td>3</td>\n",
       "    </tr>\n",
       "    <tr>\n",
       "      <th>6</th>\n",
       "      <td>Show banners with current offers and sales on ...</td>\n",
       "      <td>5</td>\n",
       "      <td>3</td>\n",
       "      <td>8</td>\n",
       "      <td>3</td>\n",
       "    </tr>\n",
       "    <tr>\n",
       "      <th>7</th>\n",
       "      <td>Add a subscription form to all the main pages....</td>\n",
       "      <td>10</td>\n",
       "      <td>7</td>\n",
       "      <td>8</td>\n",
       "      <td>5</td>\n",
       "    </tr>\n",
       "    <tr>\n",
       "      <th>8</th>\n",
       "      <td>Launch a promotion that gives users discounts ...</td>\n",
       "      <td>1</td>\n",
       "      <td>9</td>\n",
       "      <td>9</td>\n",
       "      <td>5</td>\n",
       "    </tr>\n",
       "  </tbody>\n",
       "</table>\n",
       "</div>"
      ],
      "text/plain": [
       "                                          hypothesis  reach  impact  \\\n",
       "0  Add two new channels for attracting traffic. T...      3      10   \n",
       "1  Launch your own delivery service. This will sh...      2       5   \n",
       "2  Add product recommendation blocks to the store...      8       3   \n",
       "3  Change the category structure. This will incre...      8       3   \n",
       "4  Change the background color on the main page. ...      3       1   \n",
       "5  Add a customer review page. This will increase...      3       2   \n",
       "6  Show banners with current offers and sales on ...      5       3   \n",
       "7  Add a subscription form to all the main pages....     10       7   \n",
       "8  Launch a promotion that gives users discounts ...      1       9   \n",
       "\n",
       "   confidence  effort  \n",
       "0           8       6  \n",
       "1           4      10  \n",
       "2           7       3  \n",
       "3           3       8  \n",
       "4           1       1  \n",
       "5           2       3  \n",
       "6           8       3  \n",
       "7           8       5  \n",
       "8           9       5  "
      ]
     },
     "execution_count": 29,
     "metadata": {},
     "output_type": "execute_result"
    }
   ],
   "source": [
    "hypotheses.head(10)"
   ]
  },
  {
   "cell_type": "markdown",
   "id": "78010643-b654-41d5-a8ec-25eb6a7d5450",
   "metadata": {
    "tags": []
   },
   "source": [
    "### ICE"
   ]
  },
  {
   "cell_type": "code",
   "execution_count": 31,
   "id": "8b037123-8e46-4f27-a124-62d72607def7",
   "metadata": {},
   "outputs": [],
   "source": [
    "hypotheses['ICE'] = (hypotheses['impact'] * hypotheses['confidence']) / hypotheses['effort']"
   ]
  },
  {
   "cell_type": "code",
   "execution_count": 32,
   "id": "fbfd701c-b076-4db5-9712-0fc065cccac3",
   "metadata": {},
   "outputs": [
    {
     "data": {
      "text/html": [
       "<div>\n",
       "<style scoped>\n",
       "    .dataframe tbody tr th:only-of-type {\n",
       "        vertical-align: middle;\n",
       "    }\n",
       "\n",
       "    .dataframe tbody tr th {\n",
       "        vertical-align: top;\n",
       "    }\n",
       "\n",
       "    .dataframe thead th {\n",
       "        text-align: right;\n",
       "    }\n",
       "</style>\n",
       "<table border=\"1\" class=\"dataframe\">\n",
       "  <thead>\n",
       "    <tr style=\"text-align: right;\">\n",
       "      <th></th>\n",
       "      <th>hypothesis</th>\n",
       "      <th>reach</th>\n",
       "      <th>impact</th>\n",
       "      <th>confidence</th>\n",
       "      <th>effort</th>\n",
       "      <th>ICE</th>\n",
       "    </tr>\n",
       "  </thead>\n",
       "  <tbody>\n",
       "    <tr>\n",
       "      <th>8</th>\n",
       "      <td>Launch a promotion that gives users discounts ...</td>\n",
       "      <td>1</td>\n",
       "      <td>9</td>\n",
       "      <td>9</td>\n",
       "      <td>5</td>\n",
       "      <td>16.200000</td>\n",
       "    </tr>\n",
       "    <tr>\n",
       "      <th>0</th>\n",
       "      <td>Add two new channels for attracting traffic. T...</td>\n",
       "      <td>3</td>\n",
       "      <td>10</td>\n",
       "      <td>8</td>\n",
       "      <td>6</td>\n",
       "      <td>13.333333</td>\n",
       "    </tr>\n",
       "    <tr>\n",
       "      <th>7</th>\n",
       "      <td>Add a subscription form to all the main pages....</td>\n",
       "      <td>10</td>\n",
       "      <td>7</td>\n",
       "      <td>8</td>\n",
       "      <td>5</td>\n",
       "      <td>11.200000</td>\n",
       "    </tr>\n",
       "    <tr>\n",
       "      <th>6</th>\n",
       "      <td>Show banners with current offers and sales on ...</td>\n",
       "      <td>5</td>\n",
       "      <td>3</td>\n",
       "      <td>8</td>\n",
       "      <td>3</td>\n",
       "      <td>8.000000</td>\n",
       "    </tr>\n",
       "    <tr>\n",
       "      <th>2</th>\n",
       "      <td>Add product recommendation blocks to the store...</td>\n",
       "      <td>8</td>\n",
       "      <td>3</td>\n",
       "      <td>7</td>\n",
       "      <td>3</td>\n",
       "      <td>7.000000</td>\n",
       "    </tr>\n",
       "    <tr>\n",
       "      <th>1</th>\n",
       "      <td>Launch your own delivery service. This will sh...</td>\n",
       "      <td>2</td>\n",
       "      <td>5</td>\n",
       "      <td>4</td>\n",
       "      <td>10</td>\n",
       "      <td>2.000000</td>\n",
       "    </tr>\n",
       "    <tr>\n",
       "      <th>5</th>\n",
       "      <td>Add a customer review page. This will increase...</td>\n",
       "      <td>3</td>\n",
       "      <td>2</td>\n",
       "      <td>2</td>\n",
       "      <td>3</td>\n",
       "      <td>1.333333</td>\n",
       "    </tr>\n",
       "    <tr>\n",
       "      <th>3</th>\n",
       "      <td>Change the category structure. This will incre...</td>\n",
       "      <td>8</td>\n",
       "      <td>3</td>\n",
       "      <td>3</td>\n",
       "      <td>8</td>\n",
       "      <td>1.125000</td>\n",
       "    </tr>\n",
       "    <tr>\n",
       "      <th>4</th>\n",
       "      <td>Change the background color on the main page. ...</td>\n",
       "      <td>3</td>\n",
       "      <td>1</td>\n",
       "      <td>1</td>\n",
       "      <td>1</td>\n",
       "      <td>1.000000</td>\n",
       "    </tr>\n",
       "  </tbody>\n",
       "</table>\n",
       "</div>"
      ],
      "text/plain": [
       "                                          hypothesis  reach  impact  \\\n",
       "8  Launch a promotion that gives users discounts ...      1       9   \n",
       "0  Add two new channels for attracting traffic. T...      3      10   \n",
       "7  Add a subscription form to all the main pages....     10       7   \n",
       "6  Show banners with current offers and sales on ...      5       3   \n",
       "2  Add product recommendation blocks to the store...      8       3   \n",
       "1  Launch your own delivery service. This will sh...      2       5   \n",
       "5  Add a customer review page. This will increase...      3       2   \n",
       "3  Change the category structure. This will incre...      8       3   \n",
       "4  Change the background color on the main page. ...      3       1   \n",
       "\n",
       "   confidence  effort        ICE  \n",
       "8           9       5  16.200000  \n",
       "0           8       6  13.333333  \n",
       "7           8       5  11.200000  \n",
       "6           8       3   8.000000  \n",
       "2           7       3   7.000000  \n",
       "1           4      10   2.000000  \n",
       "5           2       3   1.333333  \n",
       "3           3       8   1.125000  \n",
       "4           1       1   1.000000  "
      ]
     },
     "execution_count": 32,
     "metadata": {},
     "output_type": "execute_result"
    }
   ],
   "source": [
    "hypotheses.sort_values(by='ICE', ascending=False).head(10)"
   ]
  },
  {
   "cell_type": "markdown",
   "id": "4349bb04",
   "metadata": {},
   "source": [
    "<div class=\"alert alert-block alert-success\">\n",
    "<b> Comentário do revisor: </b> <a class=\"tocSkip\"></a>\n",
    "\n",
    "O cálculo da métrica `ICE` foi feito corretamente.\n",
    "   \n",
    "</div>"
   ]
  },
  {
   "cell_type": "markdown",
   "id": "a4e70de5-9fa2-4d28-889f-0cc4b2772e0c",
   "metadata": {},
   "source": [
    "### RICE"
   ]
  },
  {
   "cell_type": "code",
   "execution_count": 35,
   "id": "e1e99e7e-bf9a-4ec1-a0e9-3876b509770b",
   "metadata": {},
   "outputs": [],
   "source": [
    "hypotheses['RICE'] = (hypotheses['reach'] * hypotheses['impact'] * hypotheses['confidence']) / hypotheses['effort']"
   ]
  },
  {
   "cell_type": "code",
   "execution_count": 36,
   "id": "9cf86f81-44b2-417e-9568-27b7298c2639",
   "metadata": {},
   "outputs": [
    {
     "data": {
      "text/html": [
       "<div>\n",
       "<style scoped>\n",
       "    .dataframe tbody tr th:only-of-type {\n",
       "        vertical-align: middle;\n",
       "    }\n",
       "\n",
       "    .dataframe tbody tr th {\n",
       "        vertical-align: top;\n",
       "    }\n",
       "\n",
       "    .dataframe thead th {\n",
       "        text-align: right;\n",
       "    }\n",
       "</style>\n",
       "<table border=\"1\" class=\"dataframe\">\n",
       "  <thead>\n",
       "    <tr style=\"text-align: right;\">\n",
       "      <th></th>\n",
       "      <th>hypothesis</th>\n",
       "      <th>reach</th>\n",
       "      <th>impact</th>\n",
       "      <th>confidence</th>\n",
       "      <th>effort</th>\n",
       "      <th>ICE</th>\n",
       "      <th>RICE</th>\n",
       "    </tr>\n",
       "  </thead>\n",
       "  <tbody>\n",
       "    <tr>\n",
       "      <th>7</th>\n",
       "      <td>Add a subscription form to all the main pages....</td>\n",
       "      <td>10</td>\n",
       "      <td>7</td>\n",
       "      <td>8</td>\n",
       "      <td>5</td>\n",
       "      <td>11.200000</td>\n",
       "      <td>112.0</td>\n",
       "    </tr>\n",
       "    <tr>\n",
       "      <th>2</th>\n",
       "      <td>Add product recommendation blocks to the store...</td>\n",
       "      <td>8</td>\n",
       "      <td>3</td>\n",
       "      <td>7</td>\n",
       "      <td>3</td>\n",
       "      <td>7.000000</td>\n",
       "      <td>56.0</td>\n",
       "    </tr>\n",
       "    <tr>\n",
       "      <th>0</th>\n",
       "      <td>Add two new channels for attracting traffic. T...</td>\n",
       "      <td>3</td>\n",
       "      <td>10</td>\n",
       "      <td>8</td>\n",
       "      <td>6</td>\n",
       "      <td>13.333333</td>\n",
       "      <td>40.0</td>\n",
       "    </tr>\n",
       "    <tr>\n",
       "      <th>6</th>\n",
       "      <td>Show banners with current offers and sales on ...</td>\n",
       "      <td>5</td>\n",
       "      <td>3</td>\n",
       "      <td>8</td>\n",
       "      <td>3</td>\n",
       "      <td>8.000000</td>\n",
       "      <td>40.0</td>\n",
       "    </tr>\n",
       "    <tr>\n",
       "      <th>8</th>\n",
       "      <td>Launch a promotion that gives users discounts ...</td>\n",
       "      <td>1</td>\n",
       "      <td>9</td>\n",
       "      <td>9</td>\n",
       "      <td>5</td>\n",
       "      <td>16.200000</td>\n",
       "      <td>16.2</td>\n",
       "    </tr>\n",
       "    <tr>\n",
       "      <th>3</th>\n",
       "      <td>Change the category structure. This will incre...</td>\n",
       "      <td>8</td>\n",
       "      <td>3</td>\n",
       "      <td>3</td>\n",
       "      <td>8</td>\n",
       "      <td>1.125000</td>\n",
       "      <td>9.0</td>\n",
       "    </tr>\n",
       "    <tr>\n",
       "      <th>1</th>\n",
       "      <td>Launch your own delivery service. This will sh...</td>\n",
       "      <td>2</td>\n",
       "      <td>5</td>\n",
       "      <td>4</td>\n",
       "      <td>10</td>\n",
       "      <td>2.000000</td>\n",
       "      <td>4.0</td>\n",
       "    </tr>\n",
       "    <tr>\n",
       "      <th>5</th>\n",
       "      <td>Add a customer review page. This will increase...</td>\n",
       "      <td>3</td>\n",
       "      <td>2</td>\n",
       "      <td>2</td>\n",
       "      <td>3</td>\n",
       "      <td>1.333333</td>\n",
       "      <td>4.0</td>\n",
       "    </tr>\n",
       "    <tr>\n",
       "      <th>4</th>\n",
       "      <td>Change the background color on the main page. ...</td>\n",
       "      <td>3</td>\n",
       "      <td>1</td>\n",
       "      <td>1</td>\n",
       "      <td>1</td>\n",
       "      <td>1.000000</td>\n",
       "      <td>3.0</td>\n",
       "    </tr>\n",
       "  </tbody>\n",
       "</table>\n",
       "</div>"
      ],
      "text/plain": [
       "                                          hypothesis  reach  impact  \\\n",
       "7  Add a subscription form to all the main pages....     10       7   \n",
       "2  Add product recommendation blocks to the store...      8       3   \n",
       "0  Add two new channels for attracting traffic. T...      3      10   \n",
       "6  Show banners with current offers and sales on ...      5       3   \n",
       "8  Launch a promotion that gives users discounts ...      1       9   \n",
       "3  Change the category structure. This will incre...      8       3   \n",
       "1  Launch your own delivery service. This will sh...      2       5   \n",
       "5  Add a customer review page. This will increase...      3       2   \n",
       "4  Change the background color on the main page. ...      3       1   \n",
       "\n",
       "   confidence  effort        ICE   RICE  \n",
       "7           8       5  11.200000  112.0  \n",
       "2           7       3   7.000000   56.0  \n",
       "0           8       6  13.333333   40.0  \n",
       "6           8       3   8.000000   40.0  \n",
       "8           9       5  16.200000   16.2  \n",
       "3           3       8   1.125000    9.0  \n",
       "1           4      10   2.000000    4.0  \n",
       "5           2       3   1.333333    4.0  \n",
       "4           1       1   1.000000    3.0  "
      ]
     },
     "execution_count": 36,
     "metadata": {},
     "output_type": "execute_result"
    }
   ],
   "source": [
    "hypotheses.sort_values(by='RICE', ascending=False).head(10)"
   ]
  },
  {
   "cell_type": "markdown",
   "id": "5118e638-8a6b-4130-998a-f1c3cf32b380",
   "metadata": {},
   "source": [
    "The ICE prioritization was sorted on 1st data frame by ICE which is 'Impact', 'Confidence' and 'Effort'. \n",
    "'Hypothesis 9' has great score for 'impact' and 'confidence' a medium score for 'effort'.\n",
    "'Hypothesis 1' has an excellent score for 'impact' great score for 'confidence' and a medium score for 'effort'. When we look at the 3rd best score for ICE. 'hypothesis 8' we see a good score for confidence and impact and a medium score for effort.\n",
    "At the bottom of the data frame we see very poor score for 'hypothesis 5'.\n",
    "\n",
    "The RICE prioritization was sorted on 2nd data frame by RICE which is 'Reach', 'Impact', 'Confidence' and 'Effort'. \n",
    "'Hypothesis 8' now feature the top when taking a excellent score for 'reach' in consideration.\n",
    "'Hypothesis 3' comes from 5th in ICE prioritization to 2nd when taking 'reach' in consideration.\n",
    "'Hypothesis 1' has dropped one position in prioritization when taking its poor score for reach but it still feature the top 3.\n",
    "'Hypothesis 5' still at the bottom with a poor score for reach.\n",
    "\n",
    "Looking at the way some 'hypothesis' have shifted positions when taken reach in consideration, we still see 'hypothesis 8' and 'hypothesis 1' on top 3, I would recommend  testing number 8 and number 1.\n",
    "\n"
   ]
  },
  {
   "cell_type": "markdown",
   "id": "b7ea37ec",
   "metadata": {},
   "source": [
    "<div class=\"alert alert-block alert-success\">\n",
    "<b> Comentário do revisor: </b> <a class=\"tocSkip\"></a>\n",
    "\n",
    "O cálculo da métrica `RICE` foi feito corretamente e os resultados foram interpretados, ordenando pelas hipóteses com maior impacto usando as métricas calculadas previamente.\n",
    "   \n",
    "</div>"
   ]
  },
  {
   "cell_type": "markdown",
   "id": "1292d861-5b9e-4624-9079-ccb9dbcd5bea",
   "metadata": {},
   "source": [
    "## A/B Testing"
   ]
  },
  {
   "cell_type": "markdown",
   "id": "580cb6d8-e9b5-4147-bfe6-53c1696a0e60",
   "metadata": {
    "tags": []
   },
   "source": [
    "#### 1. Faça um gráfico da receita acumulada por grupo. Tire conclusões e crie conjecturas."
   ]
  },
  {
   "cell_type": "code",
   "execution_count": 71,
   "id": "7c851dac-bcda-4cdd-9f0b-69a2db9e533b",
   "metadata": {},
   "outputs": [],
   "source": [
    "# filtering data per group A\n",
    "\n",
    "revenue_groupA = orders[orders['group'] == 'A'].groupby('group', as_index=False).agg({'revenue' : 'sum'})"
   ]
  },
  {
   "cell_type": "code",
   "execution_count": 73,
   "id": "3838e86a-6280-4ede-87fa-c947cdd38eee",
   "metadata": {},
   "outputs": [
    {
     "data": {
      "text/html": [
       "<div>\n",
       "<style scoped>\n",
       "    .dataframe tbody tr th:only-of-type {\n",
       "        vertical-align: middle;\n",
       "    }\n",
       "\n",
       "    .dataframe tbody tr th {\n",
       "        vertical-align: top;\n",
       "    }\n",
       "\n",
       "    .dataframe thead th {\n",
       "        text-align: right;\n",
       "    }\n",
       "</style>\n",
       "<table border=\"1\" class=\"dataframe\">\n",
       "  <thead>\n",
       "    <tr style=\"text-align: right;\">\n",
       "      <th></th>\n",
       "      <th>group</th>\n",
       "      <th>revenue</th>\n",
       "    </tr>\n",
       "  </thead>\n",
       "  <tbody>\n",
       "    <tr>\n",
       "      <th>0</th>\n",
       "      <td>A</td>\n",
       "      <td>64554.9</td>\n",
       "    </tr>\n",
       "  </tbody>\n",
       "</table>\n",
       "</div>"
      ],
      "text/plain": [
       "  group  revenue\n",
       "0     A  64554.9"
      ]
     },
     "execution_count": 73,
     "metadata": {},
     "output_type": "execute_result"
    }
   ],
   "source": [
    "revenue_groupA.head()"
   ]
  },
  {
   "cell_type": "code",
   "execution_count": 43,
   "id": "04ea6e20-9fba-4a74-b1c0-3718afdcbcbe",
   "metadata": {},
   "outputs": [],
   "source": [
    "# filtering data per group B\n",
    "\n",
    "revenue_groupB = orders[orders['group'] == 'B'].groupby('group', as_index=False).agg({'revenue' : 'sum'})"
   ]
  },
  {
   "cell_type": "code",
   "execution_count": 44,
   "id": "bfd51a7c-b863-4378-804b-75a59b8d4728",
   "metadata": {},
   "outputs": [
    {
     "data": {
      "text/html": [
       "<div>\n",
       "<style scoped>\n",
       "    .dataframe tbody tr th:only-of-type {\n",
       "        vertical-align: middle;\n",
       "    }\n",
       "\n",
       "    .dataframe tbody tr th {\n",
       "        vertical-align: top;\n",
       "    }\n",
       "\n",
       "    .dataframe thead th {\n",
       "        text-align: right;\n",
       "    }\n",
       "</style>\n",
       "<table border=\"1\" class=\"dataframe\">\n",
       "  <thead>\n",
       "    <tr style=\"text-align: right;\">\n",
       "      <th></th>\n",
       "      <th>group</th>\n",
       "      <th>revenue</th>\n",
       "    </tr>\n",
       "  </thead>\n",
       "  <tbody>\n",
       "    <tr>\n",
       "      <th>0</th>\n",
       "      <td>B</td>\n",
       "      <td>92840.6</td>\n",
       "    </tr>\n",
       "  </tbody>\n",
       "</table>\n",
       "</div>"
      ],
      "text/plain": [
       "  group  revenue\n",
       "0     B  92840.6"
      ]
     },
     "execution_count": 44,
     "metadata": {},
     "output_type": "execute_result"
    }
   ],
   "source": [
    "revenue_groupB.head()"
   ]
  },
  {
   "cell_type": "code",
   "execution_count": 45,
   "id": "ce650666-51b7-440d-b53b-7765bce877bb",
   "metadata": {},
   "outputs": [
    {
     "data": {
      "text/plain": [
       "0   -43.816503\n",
       "Name: revenue, dtype: float64"
      ]
     },
     "execution_count": 45,
     "metadata": {},
     "output_type": "execute_result"
    }
   ],
   "source": [
    "# calculating percentage difference between groups\n",
    "\n",
    "((revenue_groupA['revenue'] - revenue_groupB['revenue']) / revenue_groupA['revenue']) * 100"
   ]
  },
  {
   "cell_type": "code",
   "execution_count": 46,
   "id": "1e9f7299-7e7f-4866-8c55-ab58789c7349",
   "metadata": {},
   "outputs": [
    {
     "data": {
      "image/png": "[encoded data removed]",
      "text/plain": [
       "<Figure size 576x576 with 1 Axes>"
      ]
     },
     "metadata": {
      "needs_background": "light"
     },
     "output_type": "display_data"
    }
   ],
   "source": [
    "plt.figure(figsize=(8,8))\n",
    "\n",
    "plt.bar(revenue_groupA['group'], revenue_groupA['revenue'], edgecolor='black', width = 0.3)\n",
    "plt.bar(revenue_groupB['group'], revenue_groupB['revenue'], edgecolor='black', width = 0.3)\n",
    "\n",
    "for i, value in enumerate(revenue_groupA['revenue']):\n",
    "    plt.text(i, value + 0.1, str(value), ha='center', va='bottom')\n",
    "for i, value in enumerate(revenue_groupB['revenue']):\n",
    "    plt.text(i + len(revenue_groupB['group']), value + 0.1, str(value), ha='center', va='bottom')\n",
    "plt.xlabel('Group')\n",
    "plt.ylabel('Revenue')\n",
    "plt.title('Revenue Comparison between Group A and Group B')\n",
    "plt.show()"
   ]
  },
  {
   "cell_type": "markdown",
   "id": "c3d5ee59-5fff-447b-b268-e4217103437f",
   "metadata": {},
   "source": [
    "    We see at the graphic above that group B has 43% more revenue in comparison with Group A"
   ]
  },
  {
   "cell_type": "markdown",
   "id": "ec10cbe0",
   "metadata": {},
   "source": [
    "<div class=\"alert alert-block alert-warning\">\n",
    "<b> Comentário do revisor: </b> <a class=\"tocSkip\"></a>\n",
    "\n",
    "O cálculo de receita acumulada por grupo foi feito corretamente. Como sugestão, poderia anotar o gráfico com o valor da receita, usar barras menores e tirar as grades de fundo da figura.\n",
    "   \n",
    "</div>"
   ]
  },
  {
   "cell_type": "markdown",
   "id": "3a779ad7-2a0f-4dd1-b66a-5b26a3802901",
   "metadata": {
    "tags": []
   },
   "source": [
    "#### 2. Faça um gráfico do tamanho médio acumulado do pedido por grupo. Tire conclusões e crie conjecturas."
   ]
  },
  {
   "cell_type": "code",
   "execution_count": 50,
   "id": "fd0f14c8-23e3-4111-a8aa-cf55420f8db9",
   "metadata": {},
   "outputs": [
    {
     "name": "stdout",
     "output_type": "stream",
     "text": [
      "<class 'pandas.core.frame.DataFrame'>\n",
      "RangeIndex: 1197 entries, 0 to 1196\n",
      "Data columns (total 5 columns):\n",
      " #   Column         Non-Null Count  Dtype         \n",
      "---  ------         --------------  -----         \n",
      " 0   transactionId  1197 non-null   int64         \n",
      " 1   visitorId      1197 non-null   int64         \n",
      " 2   date           1197 non-null   datetime64[ns]\n",
      " 3   revenue        1197 non-null   float64       \n",
      " 4   group          1197 non-null   object        \n",
      "dtypes: datetime64[ns](1), float64(1), int64(2), object(1)\n",
      "memory usage: 46.9+ KB\n"
     ]
    }
   ],
   "source": [
    "orders.info()"
   ]
  },
  {
   "cell_type": "code",
   "execution_count": 51,
   "id": "ea25d954-0ce5-4758-bc9e-af4a9bdae12e",
   "metadata": {},
   "outputs": [],
   "source": [
    "# grouping orders count per day group A\n",
    "\n",
    "transactions_groupA = orders[orders['group'] == 'A'].groupby('group').agg(orders_count=('transactionId', 'size')).reset_index()"
   ]
  },
  {
   "cell_type": "code",
   "execution_count": 52,
   "id": "93993f96-7847-424b-97f9-e332faed601f",
   "metadata": {},
   "outputs": [],
   "source": [
    "# grouping orders count per day group B\n",
    "\n",
    "transactions_groupB = orders[orders['group'] == 'B'].groupby('group').agg(orders_count=('transactionId', 'size')).reset_index()"
   ]
  },
  {
   "cell_type": "code",
   "execution_count": 53,
   "id": "0cc988ea-42c1-4349-b9d3-1eccfc7c6ee9",
   "metadata": {},
   "outputs": [],
   "source": [
    "# merging orders and revenue\n",
    "\n",
    "orders_revenue_groupA = transactions_groupA.merge(revenue_groupA, on='group')"
   ]
  },
  {
   "cell_type": "code",
   "execution_count": 54,
   "id": "48207777-89e4-4d02-8e20-48fec85caca1",
   "metadata": {},
   "outputs": [],
   "source": [
    "# adding avg_order_value on group A\n",
    "\n",
    "orders_revenue_groupA['avg_order_value'] = (orders_revenue_groupA['revenue'] / orders_revenue_groupA['orders_count']).round(2)"
   ]
  },
  {
   "cell_type": "code",
   "execution_count": 55,
   "id": "69faa439-d0d2-430e-85d3-45d544771f11",
   "metadata": {},
   "outputs": [],
   "source": [
    "# merging orders and revenue\n",
    "\n",
    "orders_revenue_groupB = transactions_groupB.merge(revenue_groupB, on='group')"
   ]
  },
  {
   "cell_type": "code",
   "execution_count": 56,
   "id": "b1cdadec-da2a-4c80-b556-61962daa71c6",
   "metadata": {},
   "outputs": [],
   "source": [
    "# adding avg_order_value on group B\n",
    "\n",
    "orders_revenue_groupB['avg_order_value'] = (orders_revenue_groupB['revenue'] / orders_revenue_groupB['orders_count']).round(2)"
   ]
  },
  {
   "cell_type": "code",
   "execution_count": 57,
   "id": "e16b5eda-f5d7-4e8c-92c9-2eb6be90bb46",
   "metadata": {},
   "outputs": [
    {
     "data": {
      "text/html": [
       "<div>\n",
       "<style scoped>\n",
       "    .dataframe tbody tr th:only-of-type {\n",
       "        vertical-align: middle;\n",
       "    }\n",
       "\n",
       "    .dataframe tbody tr th {\n",
       "        vertical-align: top;\n",
       "    }\n",
       "\n",
       "    .dataframe thead th {\n",
       "        text-align: right;\n",
       "    }\n",
       "</style>\n",
       "<table border=\"1\" class=\"dataframe\">\n",
       "  <thead>\n",
       "    <tr style=\"text-align: right;\">\n",
       "      <th></th>\n",
       "      <th>group</th>\n",
       "      <th>orders_count</th>\n",
       "      <th>revenue</th>\n",
       "      <th>avg_order_value</th>\n",
       "    </tr>\n",
       "  </thead>\n",
       "  <tbody>\n",
       "    <tr>\n",
       "      <th>0</th>\n",
       "      <td>A</td>\n",
       "      <td>557</td>\n",
       "      <td>64554.9</td>\n",
       "      <td>115.9</td>\n",
       "    </tr>\n",
       "  </tbody>\n",
       "</table>\n",
       "</div>"
      ],
      "text/plain": [
       "  group  orders_count  revenue  avg_order_value\n",
       "0     A           557  64554.9            115.9"
      ]
     },
     "execution_count": 57,
     "metadata": {},
     "output_type": "execute_result"
    }
   ],
   "source": [
    "orders_revenue_groupA"
   ]
  },
  {
   "cell_type": "markdown",
   "id": "c45bed88-cc45-429d-bff2-87c572899032",
   "metadata": {},
   "source": [
    "    Average order revenue for Group A is €115.90"
   ]
  },
  {
   "cell_type": "code",
   "execution_count": 59,
   "id": "bddf69d8-7154-4e77-80a7-dd3f5e9ad2f0",
   "metadata": {},
   "outputs": [
    {
     "data": {
      "text/html": [
       "<div>\n",
       "<style scoped>\n",
       "    .dataframe tbody tr th:only-of-type {\n",
       "        vertical-align: middle;\n",
       "    }\n",
       "\n",
       "    .dataframe tbody tr th {\n",
       "        vertical-align: top;\n",
       "    }\n",
       "\n",
       "    .dataframe thead th {\n",
       "        text-align: right;\n",
       "    }\n",
       "</style>\n",
       "<table border=\"1\" class=\"dataframe\">\n",
       "  <thead>\n",
       "    <tr style=\"text-align: right;\">\n",
       "      <th></th>\n",
       "      <th>group</th>\n",
       "      <th>orders_count</th>\n",
       "      <th>revenue</th>\n",
       "      <th>avg_order_value</th>\n",
       "    </tr>\n",
       "  </thead>\n",
       "  <tbody>\n",
       "    <tr>\n",
       "      <th>0</th>\n",
       "      <td>B</td>\n",
       "      <td>640</td>\n",
       "      <td>92840.6</td>\n",
       "      <td>145.06</td>\n",
       "    </tr>\n",
       "  </tbody>\n",
       "</table>\n",
       "</div>"
      ],
      "text/plain": [
       "  group  orders_count  revenue  avg_order_value\n",
       "0     B           640  92840.6           145.06"
      ]
     },
     "execution_count": 59,
     "metadata": {},
     "output_type": "execute_result"
    }
   ],
   "source": [
    "orders_revenue_groupB"
   ]
  },
  {
   "cell_type": "code",
   "execution_count": 60,
   "id": "c6d937f9-ea46-4637-b19d-5a93746ed703",
   "metadata": {},
   "outputs": [
    {
     "data": {
      "text/plain": [
       "0   -25.15962\n",
       "Name: avg_order_value, dtype: float64"
      ]
     },
     "execution_count": 60,
     "metadata": {},
     "output_type": "execute_result"
    }
   ],
   "source": [
    "((orders_revenue_groupA['avg_order_value'] - orders_revenue_groupB['avg_order_value']) /  orders_revenue_groupA['avg_order_value']) * 100"
   ]
  },
  {
   "cell_type": "code",
   "execution_count": 61,
   "id": "a3f065c5-6baf-4b30-8328-cb9d66726b27",
   "metadata": {},
   "outputs": [
    {
     "data": {
      "text/plain": [
       "0   -14.901257\n",
       "Name: orders_count, dtype: float64"
      ]
     },
     "execution_count": 61,
     "metadata": {},
     "output_type": "execute_result"
    }
   ],
   "source": [
    "((orders_revenue_groupA['orders_count'] - orders_revenue_groupB['orders_count']) / orders_revenue_groupA['orders_count']) * 100"
   ]
  },
  {
   "cell_type": "code",
   "execution_count": 62,
   "id": "70dc5b98-38fb-447d-a8b5-4634a4214631",
   "metadata": {},
   "outputs": [
    {
     "data": {
      "image/png": "[encoded data removed]",
      "text/plain": [
       "<Figure size 576x576 with 1 Axes>"
      ]
     },
     "metadata": {
      "needs_background": "light"
     },
     "output_type": "display_data"
    }
   ],
   "source": [
    "plt.figure(figsize=(8,8))\n",
    "plt.bar(orders_revenue_groupA['group'], orders_revenue_groupA['avg_order_value'], edgecolor='black', width=0.2)\n",
    "plt.bar(orders_revenue_groupB['group'], orders_revenue_groupB['avg_order_value'], edgecolor='black', width=0.2)\n",
    "for i, value in enumerate(orders_revenue_groupA['avg_order_value']):\n",
    "    plt.text(i, value + 0.1, str(value), ha='center', va='bottom')\n",
    "for i, value in enumerate(orders_revenue_groupB['avg_order_value']):\n",
    "    plt.text(i + len(orders_revenue_groupB['group']), value + 0.1, str(value), ha='center', va='bottom')\n",
    "plt.xlabel('Group')\n",
    "plt.ylabel('Avg Order Value')\n",
    "plt.title('Average Order Value between Group A and Group B')\n",
    "plt.show()"
   ]
  },
  {
   "cell_type": "markdown",
   "id": "8ba1e61a-eea4-48da-b32a-7ff7679ba1be",
   "metadata": {},
   "source": [
    "    here we see on this graphic that group B has an average order value 25% higher than group A, mostly caused by group B having 14.9% more orders than group A"
   ]
  },
  {
   "cell_type": "markdown",
   "id": "4c44a4a1",
   "metadata": {},
   "source": [
    "<div class=\"alert alert-block alert-danger\">\n",
    "<b> Comentário do revisor: </b> <a class=\"tocSkip\"></a>\n",
    "\n",
    "Aqui você precisa criar conjecturas e interpretar os resultados obtidos pela análise e não somente mostrar os dados. Além disso, considere apresentar os resultados juntos ao invés de usar um gráfico de barra para mostrar somente uma barra para cada grupo (usar uma tabela, por exemplo).\n",
    "   \n",
    "</div>"
   ]
  },
  {
   "cell_type": "code",
   "execution_count": 65,
   "id": "ecbead02-6c02-4a83-af86-dcbe4b8bf129",
   "metadata": {},
   "outputs": [],
   "source": [
    "# creating datesGroups\n",
    "\n",
    "datesGroups = orders[['date', 'group']].drop_duplicates()"
   ]
  },
  {
   "cell_type": "code",
   "execution_count": 66,
   "id": "d0236edb-9a29-4faa-ace2-a23f102a3034",
   "metadata": {},
   "outputs": [],
   "source": [
    "# aggreating orders\n",
    "\n",
    "ordersAggregated = datesGroups.apply(\n",
    "    lambda x: orders[np.logical_and(orders['date'] <= x['date'], orders['group'] == x['group'])].agg(\n",
    "        {\n",
    "            'date' : 'max',\n",
    "            'group' : 'max',\n",
    "            'transactionId' : pd.Series.nunique,\n",
    "            'visitorId' : pd.Series.nunique, \n",
    "            'revenue' : 'sum'\n",
    "        }\n",
    "    ), axis=1\n",
    ").sort_values(by=['date','group'])\n"
   ]
  },
  {
   "cell_type": "code",
   "execution_count": 67,
   "id": "b7e1bb7c-9dbe-44d8-8db9-d423f712e867",
   "metadata": {},
   "outputs": [
    {
     "data": {
      "text/html": [
       "<div>\n",
       "<style scoped>\n",
       "    .dataframe tbody tr th:only-of-type {\n",
       "        vertical-align: middle;\n",
       "    }\n",
       "\n",
       "    .dataframe tbody tr th {\n",
       "        vertical-align: top;\n",
       "    }\n",
       "\n",
       "    .dataframe thead th {\n",
       "        text-align: right;\n",
       "    }\n",
       "</style>\n",
       "<table border=\"1\" class=\"dataframe\">\n",
       "  <thead>\n",
       "    <tr style=\"text-align: right;\">\n",
       "      <th></th>\n",
       "      <th>date</th>\n",
       "      <th>group</th>\n",
       "      <th>transactionId</th>\n",
       "      <th>visitorId</th>\n",
       "      <th>revenue</th>\n",
       "    </tr>\n",
       "  </thead>\n",
       "  <tbody>\n",
       "    <tr>\n",
       "      <th>55</th>\n",
       "      <td>2019-08-01</td>\n",
       "      <td>A</td>\n",
       "      <td>24</td>\n",
       "      <td>20</td>\n",
       "      <td>2356.8</td>\n",
       "    </tr>\n",
       "    <tr>\n",
       "      <th>66</th>\n",
       "      <td>2019-08-01</td>\n",
       "      <td>B</td>\n",
       "      <td>21</td>\n",
       "      <td>20</td>\n",
       "      <td>1620.0</td>\n",
       "    </tr>\n",
       "    <tr>\n",
       "      <th>175</th>\n",
       "      <td>2019-08-02</td>\n",
       "      <td>A</td>\n",
       "      <td>44</td>\n",
       "      <td>38</td>\n",
       "      <td>3860.3</td>\n",
       "    </tr>\n",
       "    <tr>\n",
       "      <th>173</th>\n",
       "      <td>2019-08-02</td>\n",
       "      <td>B</td>\n",
       "      <td>45</td>\n",
       "      <td>43</td>\n",
       "      <td>4243.8</td>\n",
       "    </tr>\n",
       "    <tr>\n",
       "      <th>291</th>\n",
       "      <td>2019-08-03</td>\n",
       "      <td>A</td>\n",
       "      <td>68</td>\n",
       "      <td>62</td>\n",
       "      <td>5675.5</td>\n",
       "    </tr>\n",
       "  </tbody>\n",
       "</table>\n",
       "</div>"
      ],
      "text/plain": [
       "          date group  transactionId  visitorId  revenue\n",
       "55  2019-08-01     A             24         20   2356.8\n",
       "66  2019-08-01     B             21         20   1620.0\n",
       "175 2019-08-02     A             44         38   3860.3\n",
       "173 2019-08-02     B             45         43   4243.8\n",
       "291 2019-08-03     A             68         62   5675.5"
      ]
     },
     "execution_count": 67,
     "metadata": {},
     "output_type": "execute_result"
    }
   ],
   "source": [
    "ordersAggregated.head()"
   ]
  },
  {
   "cell_type": "code",
   "execution_count": 68,
   "id": "526a43e3-8102-4b57-ad06-311f9635e146",
   "metadata": {},
   "outputs": [],
   "source": [
    "# aggregating visitors\n",
    "\n",
    "visitorsAggregated = datesGroups.apply(\n",
    "    lambda x: visits[\n",
    "    np.logical_and(visits['date'] <= x['date'], visits['group'] == x['group'])].agg({'date':'max', 'group':'max','visits':'sum'}),axis=1).sort_values(['date','group'])"
   ]
  },
  {
   "cell_type": "code",
   "execution_count": 69,
   "id": "083f487a-e17e-4412-9cd8-3d11a4797788",
   "metadata": {},
   "outputs": [
    {
     "data": {
      "text/html": [
       "<div>\n",
       "<style scoped>\n",
       "    .dataframe tbody tr th:only-of-type {\n",
       "        vertical-align: middle;\n",
       "    }\n",
       "\n",
       "    .dataframe tbody tr th {\n",
       "        vertical-align: top;\n",
       "    }\n",
       "\n",
       "    .dataframe thead th {\n",
       "        text-align: right;\n",
       "    }\n",
       "</style>\n",
       "<table border=\"1\" class=\"dataframe\">\n",
       "  <thead>\n",
       "    <tr style=\"text-align: right;\">\n",
       "      <th></th>\n",
       "      <th>date</th>\n",
       "      <th>group</th>\n",
       "      <th>visits</th>\n",
       "    </tr>\n",
       "  </thead>\n",
       "  <tbody>\n",
       "    <tr>\n",
       "      <th>55</th>\n",
       "      <td>2019-08-01</td>\n",
       "      <td>A</td>\n",
       "      <td>719</td>\n",
       "    </tr>\n",
       "    <tr>\n",
       "      <th>66</th>\n",
       "      <td>2019-08-01</td>\n",
       "      <td>B</td>\n",
       "      <td>713</td>\n",
       "    </tr>\n",
       "    <tr>\n",
       "      <th>175</th>\n",
       "      <td>2019-08-02</td>\n",
       "      <td>A</td>\n",
       "      <td>1338</td>\n",
       "    </tr>\n",
       "    <tr>\n",
       "      <th>173</th>\n",
       "      <td>2019-08-02</td>\n",
       "      <td>B</td>\n",
       "      <td>1294</td>\n",
       "    </tr>\n",
       "    <tr>\n",
       "      <th>291</th>\n",
       "      <td>2019-08-03</td>\n",
       "      <td>A</td>\n",
       "      <td>1845</td>\n",
       "    </tr>\n",
       "  </tbody>\n",
       "</table>\n",
       "</div>"
      ],
      "text/plain": [
       "          date group  visits\n",
       "55  2019-08-01     A     719\n",
       "66  2019-08-01     B     713\n",
       "175 2019-08-02     A    1338\n",
       "173 2019-08-02     B    1294\n",
       "291 2019-08-03     A    1845"
      ]
     },
     "execution_count": 69,
     "metadata": {},
     "output_type": "execute_result"
    }
   ],
   "source": [
    "visitorsAggregated.head()"
   ]
  },
  {
   "cell_type": "code",
   "execution_count": 70,
   "id": "c93e5081-69b1-4574-a9c1-7c542cea8c2e",
   "metadata": {},
   "outputs": [],
   "source": [
    "# merging cumulative data\n",
    "\n",
    "cumulativeData = ordersAggregated.merge(visitorsAggregated, left_on=['date','group'], right_on=['date','group'])"
   ]
  },
  {
   "cell_type": "code",
   "execution_count": 71,
   "id": "7be6f70f-504d-4753-896d-e99b98954142",
   "metadata": {},
   "outputs": [],
   "source": [
    "# renaming columns\n",
    "\n",
    "cumulativeData.columns=['date','group','orders','buyers','revenue','visitors']"
   ]
  },
  {
   "cell_type": "code",
   "execution_count": 72,
   "id": "b8080a26-94d3-4008-847b-789540eb08da",
   "metadata": {},
   "outputs": [
    {
     "data": {
      "text/html": [
       "<div>\n",
       "<style scoped>\n",
       "    .dataframe tbody tr th:only-of-type {\n",
       "        vertical-align: middle;\n",
       "    }\n",
       "\n",
       "    .dataframe tbody tr th {\n",
       "        vertical-align: top;\n",
       "    }\n",
       "\n",
       "    .dataframe thead th {\n",
       "        text-align: right;\n",
       "    }\n",
       "</style>\n",
       "<table border=\"1\" class=\"dataframe\">\n",
       "  <thead>\n",
       "    <tr style=\"text-align: right;\">\n",
       "      <th></th>\n",
       "      <th>date</th>\n",
       "      <th>group</th>\n",
       "      <th>orders</th>\n",
       "      <th>buyers</th>\n",
       "      <th>revenue</th>\n",
       "      <th>visitors</th>\n",
       "    </tr>\n",
       "  </thead>\n",
       "  <tbody>\n",
       "    <tr>\n",
       "      <th>0</th>\n",
       "      <td>2019-08-01</td>\n",
       "      <td>A</td>\n",
       "      <td>24</td>\n",
       "      <td>20</td>\n",
       "      <td>2356.8</td>\n",
       "      <td>719</td>\n",
       "    </tr>\n",
       "    <tr>\n",
       "      <th>1</th>\n",
       "      <td>2019-08-01</td>\n",
       "      <td>B</td>\n",
       "      <td>21</td>\n",
       "      <td>20</td>\n",
       "      <td>1620.0</td>\n",
       "      <td>713</td>\n",
       "    </tr>\n",
       "    <tr>\n",
       "      <th>2</th>\n",
       "      <td>2019-08-02</td>\n",
       "      <td>A</td>\n",
       "      <td>44</td>\n",
       "      <td>38</td>\n",
       "      <td>3860.3</td>\n",
       "      <td>1338</td>\n",
       "    </tr>\n",
       "    <tr>\n",
       "      <th>3</th>\n",
       "      <td>2019-08-02</td>\n",
       "      <td>B</td>\n",
       "      <td>45</td>\n",
       "      <td>43</td>\n",
       "      <td>4243.8</td>\n",
       "      <td>1294</td>\n",
       "    </tr>\n",
       "    <tr>\n",
       "      <th>4</th>\n",
       "      <td>2019-08-03</td>\n",
       "      <td>A</td>\n",
       "      <td>68</td>\n",
       "      <td>62</td>\n",
       "      <td>5675.5</td>\n",
       "      <td>1845</td>\n",
       "    </tr>\n",
       "  </tbody>\n",
       "</table>\n",
       "</div>"
      ],
      "text/plain": [
       "        date group  orders  buyers  revenue  visitors\n",
       "0 2019-08-01     A      24      20   2356.8       719\n",
       "1 2019-08-01     B      21      20   1620.0       713\n",
       "2 2019-08-02     A      44      38   3860.3      1338\n",
       "3 2019-08-02     B      45      43   4243.8      1294\n",
       "4 2019-08-03     A      68      62   5675.5      1845"
      ]
     },
     "execution_count": 72,
     "metadata": {},
     "output_type": "execute_result"
    }
   ],
   "source": [
    "cumulativeData.head()"
   ]
  },
  {
   "cell_type": "code",
   "execution_count": 73,
   "id": "852b6281-93c3-4815-b81c-d06296e575b5",
   "metadata": {},
   "outputs": [],
   "source": [
    "# grouping revenue group A\n",
    "\n",
    "cumulativeRevenueA = cumulativeData[cumulativeData['group'] == 'A'][['date', 'revenue', 'orders']]"
   ]
  },
  {
   "cell_type": "code",
   "execution_count": 74,
   "id": "0d1ed60d-352b-4cbf-883b-5c1db277628d",
   "metadata": {},
   "outputs": [
    {
     "data": {
      "text/html": [
       "<div>\n",
       "<style scoped>\n",
       "    .dataframe tbody tr th:only-of-type {\n",
       "        vertical-align: middle;\n",
       "    }\n",
       "\n",
       "    .dataframe tbody tr th {\n",
       "        vertical-align: top;\n",
       "    }\n",
       "\n",
       "    .dataframe thead th {\n",
       "        text-align: right;\n",
       "    }\n",
       "</style>\n",
       "<table border=\"1\" class=\"dataframe\">\n",
       "  <thead>\n",
       "    <tr style=\"text-align: right;\">\n",
       "      <th></th>\n",
       "      <th>date</th>\n",
       "      <th>revenue</th>\n",
       "      <th>orders</th>\n",
       "    </tr>\n",
       "  </thead>\n",
       "  <tbody>\n",
       "    <tr>\n",
       "      <th>0</th>\n",
       "      <td>2019-08-01</td>\n",
       "      <td>2356.8</td>\n",
       "      <td>24</td>\n",
       "    </tr>\n",
       "    <tr>\n",
       "      <th>2</th>\n",
       "      <td>2019-08-02</td>\n",
       "      <td>3860.3</td>\n",
       "      <td>44</td>\n",
       "    </tr>\n",
       "    <tr>\n",
       "      <th>4</th>\n",
       "      <td>2019-08-03</td>\n",
       "      <td>5675.5</td>\n",
       "      <td>68</td>\n",
       "    </tr>\n",
       "    <tr>\n",
       "      <th>6</th>\n",
       "      <td>2019-08-04</td>\n",
       "      <td>6822.1</td>\n",
       "      <td>84</td>\n",
       "    </tr>\n",
       "    <tr>\n",
       "      <th>8</th>\n",
       "      <td>2019-08-05</td>\n",
       "      <td>8810.2</td>\n",
       "      <td>109</td>\n",
       "    </tr>\n",
       "  </tbody>\n",
       "</table>\n",
       "</div>"
      ],
      "text/plain": [
       "        date  revenue  orders\n",
       "0 2019-08-01   2356.8      24\n",
       "2 2019-08-02   3860.3      44\n",
       "4 2019-08-03   5675.5      68\n",
       "6 2019-08-04   6822.1      84\n",
       "8 2019-08-05   8810.2     109"
      ]
     },
     "execution_count": 74,
     "metadata": {},
     "output_type": "execute_result"
    }
   ],
   "source": [
    "cumulativeRevenueA.head()"
   ]
  },
  {
   "cell_type": "code",
   "execution_count": 75,
   "id": "24447926-1d52-4d42-a9c4-c9dc4a10c5cd",
   "metadata": {},
   "outputs": [],
   "source": [
    "# grouping revenue B\n",
    "\n",
    "cumulativeRevenueB = cumulativeData[cumulativeData['group'] == 'B'][['date', 'revenue', 'orders']]"
   ]
  },
  {
   "cell_type": "code",
   "execution_count": 330,
   "id": "b8a3ae95-b30d-499f-9c00-c7bf717bba75",
   "metadata": {},
   "outputs": [
    {
     "data": {
      "text/html": [
       "<div>\n",
       "<style scoped>\n",
       "    .dataframe tbody tr th:only-of-type {\n",
       "        vertical-align: middle;\n",
       "    }\n",
       "\n",
       "    .dataframe tbody tr th {\n",
       "        vertical-align: top;\n",
       "    }\n",
       "\n",
       "    .dataframe thead th {\n",
       "        text-align: right;\n",
       "    }\n",
       "</style>\n",
       "<table border=\"1\" class=\"dataframe\">\n",
       "  <thead>\n",
       "    <tr style=\"text-align: right;\">\n",
       "      <th></th>\n",
       "      <th>date</th>\n",
       "      <th>revenue</th>\n",
       "      <th>orders</th>\n",
       "    </tr>\n",
       "  </thead>\n",
       "  <tbody>\n",
       "    <tr>\n",
       "      <th>1</th>\n",
       "      <td>2019-08-01</td>\n",
       "      <td>1620.0</td>\n",
       "      <td>21</td>\n",
       "    </tr>\n",
       "    <tr>\n",
       "      <th>3</th>\n",
       "      <td>2019-08-02</td>\n",
       "      <td>4243.8</td>\n",
       "      <td>45</td>\n",
       "    </tr>\n",
       "    <tr>\n",
       "      <th>5</th>\n",
       "      <td>2019-08-03</td>\n",
       "      <td>6050.6</td>\n",
       "      <td>61</td>\n",
       "    </tr>\n",
       "    <tr>\n",
       "      <th>7</th>\n",
       "      <td>2019-08-04</td>\n",
       "      <td>7767.9</td>\n",
       "      <td>78</td>\n",
       "    </tr>\n",
       "    <tr>\n",
       "      <th>9</th>\n",
       "      <td>2019-08-05</td>\n",
       "      <td>9262.9</td>\n",
       "      <td>101</td>\n",
       "    </tr>\n",
       "    <tr>\n",
       "      <th>11</th>\n",
       "      <td>2019-08-06</td>\n",
       "      <td>13069.3</td>\n",
       "      <td>129</td>\n",
       "    </tr>\n",
       "    <tr>\n",
       "      <th>13</th>\n",
       "      <td>2019-08-07</td>\n",
       "      <td>16600.8</td>\n",
       "      <td>153</td>\n",
       "    </tr>\n",
       "    <tr>\n",
       "      <th>15</th>\n",
       "      <td>2019-08-08</td>\n",
       "      <td>20088.6</td>\n",
       "      <td>180</td>\n",
       "    </tr>\n",
       "    <tr>\n",
       "      <th>17</th>\n",
       "      <td>2019-08-09</td>\n",
       "      <td>22646.7</td>\n",
       "      <td>205</td>\n",
       "    </tr>\n",
       "    <tr>\n",
       "      <th>19</th>\n",
       "      <td>2019-08-10</td>\n",
       "      <td>24367.1</td>\n",
       "      <td>228</td>\n",
       "    </tr>\n",
       "    <tr>\n",
       "      <th>21</th>\n",
       "      <td>2019-08-11</td>\n",
       "      <td>25228.3</td>\n",
       "      <td>241</td>\n",
       "    </tr>\n",
       "    <tr>\n",
       "      <th>23</th>\n",
       "      <td>2019-08-12</td>\n",
       "      <td>27474.0</td>\n",
       "      <td>264</td>\n",
       "    </tr>\n",
       "    <tr>\n",
       "      <th>25</th>\n",
       "      <td>2019-08-13</td>\n",
       "      <td>29384.0</td>\n",
       "      <td>285</td>\n",
       "    </tr>\n",
       "    <tr>\n",
       "      <th>27</th>\n",
       "      <td>2019-08-14</td>\n",
       "      <td>32095.7</td>\n",
       "      <td>308</td>\n",
       "    </tr>\n",
       "    <tr>\n",
       "      <th>29</th>\n",
       "      <td>2019-08-15</td>\n",
       "      <td>37457.6</td>\n",
       "      <td>339</td>\n",
       "    </tr>\n",
       "    <tr>\n",
       "      <th>31</th>\n",
       "      <td>2019-08-16</td>\n",
       "      <td>40155.3</td>\n",
       "      <td>359</td>\n",
       "    </tr>\n",
       "    <tr>\n",
       "      <th>33</th>\n",
       "      <td>2019-08-17</td>\n",
       "      <td>41436.8</td>\n",
       "      <td>373</td>\n",
       "    </tr>\n",
       "    <tr>\n",
       "      <th>35</th>\n",
       "      <td>2019-08-18</td>\n",
       "      <td>42481.7</td>\n",
       "      <td>382</td>\n",
       "    </tr>\n",
       "    <tr>\n",
       "      <th>37</th>\n",
       "      <td>2019-08-19</td>\n",
       "      <td>64546.6</td>\n",
       "      <td>403</td>\n",
       "    </tr>\n",
       "    <tr>\n",
       "      <th>39</th>\n",
       "      <td>2019-08-20</td>\n",
       "      <td>66871.2</td>\n",
       "      <td>423</td>\n",
       "    </tr>\n",
       "  </tbody>\n",
       "</table>\n",
       "</div>"
      ],
      "text/plain": [
       "         date  revenue  orders\n",
       "1  2019-08-01   1620.0      21\n",
       "3  2019-08-02   4243.8      45\n",
       "5  2019-08-03   6050.6      61\n",
       "7  2019-08-04   7767.9      78\n",
       "9  2019-08-05   9262.9     101\n",
       "11 2019-08-06  13069.3     129\n",
       "13 2019-08-07  16600.8     153\n",
       "15 2019-08-08  20088.6     180\n",
       "17 2019-08-09  22646.7     205\n",
       "19 2019-08-10  24367.1     228\n",
       "21 2019-08-11  25228.3     241\n",
       "23 2019-08-12  27474.0     264\n",
       "25 2019-08-13  29384.0     285\n",
       "27 2019-08-14  32095.7     308\n",
       "29 2019-08-15  37457.6     339\n",
       "31 2019-08-16  40155.3     359\n",
       "33 2019-08-17  41436.8     373\n",
       "35 2019-08-18  42481.7     382\n",
       "37 2019-08-19  64546.6     403\n",
       "39 2019-08-20  66871.2     423"
      ]
     },
     "execution_count": 330,
     "metadata": {},
     "output_type": "execute_result"
    }
   ],
   "source": [
    "cumulativeRevenueB.head(20)"
   ]
  },
  {
   "cell_type": "code",
   "execution_count": 77,
   "id": "2f040e91-1453-415e-bf95-0da5ed9903d4",
   "metadata": {},
   "outputs": [
    {
     "data": {
      "image/png": "[encoded data removed]",
      "text/plain": [
       "<Figure size 864x576 with 1 Axes>"
      ]
     },
     "metadata": {
      "needs_background": "light"
     },
     "output_type": "display_data"
    }
   ],
   "source": [
    "# plotting compared cumulative revenue\n",
    "\n",
    "plt.figure(figsize=(12,8))\n",
    "plt.plot(cumulativeRevenueA['date'], cumulativeRevenueA['revenue'], label='Group A')\n",
    "plt.plot(cumulativeRevenueB['date'], cumulativeRevenueB['revenue'], label='Group B')\n",
    "plt.title('Compared Cumulative Revenue Between Group A and B ')\n",
    "plt.xlabel('Date')\n",
    "plt.ylabel('Revenue')\n",
    "plt.grid(True)\n",
    "plt.legend()\n",
    "plt.show()"
   ]
  },
  {
   "cell_type": "markdown",
   "id": "9b053387-0d9f-47a1-bbb1-b2e7fbc2667e",
   "metadata": {},
   "source": [
    "    The revenue shows a stable growth in sales, there is a spike on group B on the 18th of August. It could be explained by high value orders or high volume orders.\n",
    "    "
   ]
  },
  {
   "cell_type": "markdown",
   "id": "0f4fa7b8-4eac-4777-98e3-6a872fb10ae7",
   "metadata": {},
   "source": [
    "    "
   ]
  },
  {
   "cell_type": "markdown",
   "id": "d7e5c90c-6a13-4d90-860f-b9b0d85fe96b",
   "metadata": {
    "tags": []
   },
   "source": [
    "#### 3. Faça um gráfico da diferença relativa no tamanho médio acumulado do pedido para o grupo B em comparação com o grupo A. Faça conclusões e crie conjecturas."
   ]
  },
  {
   "cell_type": "markdown",
   "id": "121e69c9",
   "metadata": {},
   "source": [
    "<div class=\"alert alert-block alert-danger\">\n",
    "<b> Comentário do revisor: </b> <a class=\"tocSkip\"></a>\n",
    "\n",
    "Aqui novamente você precisa interpretar esses resultados e criar conjecturas sobre possíveis razões dessa diferença entre os grupos.\n",
    "   \n",
    "</div>"
   ]
  },
  {
   "cell_type": "code",
   "execution_count": 81,
   "id": "23a96c29-b4ac-4047-8f58-f3e106980012",
   "metadata": {},
   "outputs": [],
   "source": [
    "# merging \n",
    "\n",
    "mergedCumulativeRevenue = cumulativeRevenueA.merge(cumulativeRevenueB, left_on='date', right_on='date', how='left', suffixes=['A', 'B'],)"
   ]
  },
  {
   "cell_type": "code",
   "execution_count": 82,
   "id": "ea9b9aed-06e4-40f4-8017-5001cefbc053",
   "metadata": {},
   "outputs": [
    {
     "data": {
      "text/html": [
       "<div>\n",
       "<style scoped>\n",
       "    .dataframe tbody tr th:only-of-type {\n",
       "        vertical-align: middle;\n",
       "    }\n",
       "\n",
       "    .dataframe tbody tr th {\n",
       "        vertical-align: top;\n",
       "    }\n",
       "\n",
       "    .dataframe thead th {\n",
       "        text-align: right;\n",
       "    }\n",
       "</style>\n",
       "<table border=\"1\" class=\"dataframe\">\n",
       "  <thead>\n",
       "    <tr style=\"text-align: right;\">\n",
       "      <th></th>\n",
       "      <th>date</th>\n",
       "      <th>revenueA</th>\n",
       "      <th>ordersA</th>\n",
       "      <th>revenueB</th>\n",
       "      <th>ordersB</th>\n",
       "    </tr>\n",
       "  </thead>\n",
       "  <tbody>\n",
       "    <tr>\n",
       "      <th>0</th>\n",
       "      <td>2019-08-01</td>\n",
       "      <td>2356.8</td>\n",
       "      <td>24</td>\n",
       "      <td>1620.0</td>\n",
       "      <td>21</td>\n",
       "    </tr>\n",
       "    <tr>\n",
       "      <th>1</th>\n",
       "      <td>2019-08-02</td>\n",
       "      <td>3860.3</td>\n",
       "      <td>44</td>\n",
       "      <td>4243.8</td>\n",
       "      <td>45</td>\n",
       "    </tr>\n",
       "    <tr>\n",
       "      <th>2</th>\n",
       "      <td>2019-08-03</td>\n",
       "      <td>5675.5</td>\n",
       "      <td>68</td>\n",
       "      <td>6050.6</td>\n",
       "      <td>61</td>\n",
       "    </tr>\n",
       "    <tr>\n",
       "      <th>3</th>\n",
       "      <td>2019-08-04</td>\n",
       "      <td>6822.1</td>\n",
       "      <td>84</td>\n",
       "      <td>7767.9</td>\n",
       "      <td>78</td>\n",
       "    </tr>\n",
       "    <tr>\n",
       "      <th>4</th>\n",
       "      <td>2019-08-05</td>\n",
       "      <td>8810.2</td>\n",
       "      <td>109</td>\n",
       "      <td>9262.9</td>\n",
       "      <td>101</td>\n",
       "    </tr>\n",
       "  </tbody>\n",
       "</table>\n",
       "</div>"
      ],
      "text/plain": [
       "        date  revenueA  ordersA  revenueB  ordersB\n",
       "0 2019-08-01    2356.8       24    1620.0       21\n",
       "1 2019-08-02    3860.3       44    4243.8       45\n",
       "2 2019-08-03    5675.5       68    6050.6       61\n",
       "3 2019-08-04    6822.1       84    7767.9       78\n",
       "4 2019-08-05    8810.2      109    9262.9      101"
      ]
     },
     "execution_count": 82,
     "metadata": {},
     "output_type": "execute_result"
    }
   ],
   "source": [
    "mergedCumulativeRevenue.head()"
   ]
  },
  {
   "cell_type": "code",
   "execution_count": 83,
   "id": "5c09d8f7-87a0-45fe-9d69-56e2f9242556",
   "metadata": {},
   "outputs": [
    {
     "data": {
      "image/png": "[encoded data removed]",
      "text/plain": [
       "<Figure size 864x576 with 1 Axes>"
      ]
     },
     "metadata": {
      "needs_background": "light"
     },
     "output_type": "display_data"
    }
   ],
   "source": [
    "plt.figure(figsize=(12,8))\n",
    "plt.plot(mergedCumulativeRevenue['date'],(mergedCumulativeRevenue['revenueB'] / mergedCumulativeRevenue['ordersB'])\n",
    "    / (mergedCumulativeRevenue['revenueA']/ mergedCumulativeRevenue['ordersA'])- 1)\n",
    "plt.title('Relative Cumulative Average Order Value Difference between Groups A and B')\n",
    "plt.xlabel('Date')\n",
    "plt.ylabel('Difference')\n",
    "plt.axhline(y=0, color='red', linestyle='--')\n",
    "plt.grid(True)\n",
    "plt.show()"
   ]
  },
  {
   "cell_type": "markdown",
   "id": "9befabad-34f1-4035-bf7e-f155e054a723",
   "metadata": {},
   "source": [
    "    We can see peak in some segments what could be high value orders or outliers\n"
   ]
  },
  {
   "cell_type": "markdown",
   "id": "49fc07ad-05f5-41c4-a9ee-2dc7b78dd3b5",
   "metadata": {
    "tags": []
   },
   "source": [
    "#### 4. Calcule a taxa de conversão de cada grupo como a proporção de pedidos para o número de visitas para cada dia. Trace as taxas de conversão diárias dos dois grupos e descreva a diferença. Tire conclusões e crie conjecturas."
   ]
  },
  {
   "cell_type": "code",
   "execution_count": 85,
   "id": "8e681eca-bcb6-463f-950b-f245144d2847",
   "metadata": {},
   "outputs": [],
   "source": [
    "# filtering group A on revenue per day\n",
    "\n",
    "revenue_per_day_groupA = orders[orders['group'] == 'A'].groupby('date', as_index=False).agg({'revenue' : 'sum'})"
   ]
  },
  {
   "cell_type": "code",
   "execution_count": 86,
   "id": "42937cb3-d9f7-427d-bebb-bed3bbb7cf2d",
   "metadata": {},
   "outputs": [],
   "source": [
    "# transforming data type to date format\n",
    "\n",
    "revenue_per_day_groupA['date'] = pd.to_datetime(revenue_per_day_groupA['date'])"
   ]
  },
  {
   "cell_type": "code",
   "execution_count": 87,
   "id": "3068252a-f86d-4f3c-931d-1b590c4d514b",
   "metadata": {},
   "outputs": [],
   "source": [
    "# filtering group B on revenue per day\n",
    "\n",
    "revenue_per_day_groupB = orders[orders['group'] == 'B'].groupby('date', as_index=False).agg({'revenue' : 'sum'})"
   ]
  },
  {
   "cell_type": "code",
   "execution_count": 88,
   "id": "1ead9d77-3ed0-4c03-8fda-07cc5ced58f2",
   "metadata": {},
   "outputs": [],
   "source": [
    "# transforming data type to date format\n",
    "\n",
    "revenue_per_day_groupB['date'] = pd.to_datetime(revenue_per_day_groupB['date'])"
   ]
  },
  {
   "cell_type": "code",
   "execution_count": 89,
   "id": "0835ef77-8417-47e3-b94c-9bead8ee791d",
   "metadata": {},
   "outputs": [],
   "source": [
    "# filtering visits per group A\n",
    "\n",
    "visits_groupA = visits.query('group == \"A\"')"
   ]
  },
  {
   "cell_type": "code",
   "execution_count": 90,
   "id": "2ecea89a-51da-4218-aaf9-c3e926d3598c",
   "metadata": {},
   "outputs": [],
   "source": [
    "# filtering visits per group B\n",
    "\n",
    "visits_groupB = visits.query('group == \"B\"')"
   ]
  },
  {
   "cell_type": "code",
   "execution_count": 91,
   "id": "b0639bff-5320-4e55-8db3-43bf80e226cc",
   "metadata": {},
   "outputs": [],
   "source": [
    "# merging dataFrames from group A\n",
    "\n",
    "revenue_visits_groupA = revenue_per_day_groupA.merge(visits_groupA, on='date')"
   ]
  },
  {
   "cell_type": "code",
   "execution_count": 92,
   "id": "90ce676a-7931-4635-b838-20af3900c37a",
   "metadata": {},
   "outputs": [],
   "source": [
    "orders_per_day_groupA = orders[orders['group'] == 'A'].groupby('date', as_index=False).agg({'transactionId' : 'size'})"
   ]
  },
  {
   "cell_type": "code",
   "execution_count": 93,
   "id": "ae951f69-9ae4-4ef2-8905-04e9f4dae9c0",
   "metadata": {},
   "outputs": [],
   "source": [
    "# merging transactionId in dataFrame\n",
    "\n",
    "revenue_visits_groupA = revenue_visits_groupA.merge(orders_per_day_groupA, on='date')"
   ]
  },
  {
   "cell_type": "code",
   "execution_count": 94,
   "id": "04dc6842-0003-4834-b2fb-af5678061452",
   "metadata": {},
   "outputs": [],
   "source": [
    "# calculating conversion rate for group A\n",
    "\n",
    "revenue_visits_groupA['conversion_rate'] = (revenue_visits_groupA['transactionId'] / revenue_visits_groupA['visits']) * 100"
   ]
  },
  {
   "cell_type": "code",
   "execution_count": 95,
   "id": "5a9d95f8-0e7d-4e3e-a85c-e2c9ec17ef8c",
   "metadata": {},
   "outputs": [
    {
     "data": {
      "text/html": [
       "<div>\n",
       "<style scoped>\n",
       "    .dataframe tbody tr th:only-of-type {\n",
       "        vertical-align: middle;\n",
       "    }\n",
       "\n",
       "    .dataframe tbody tr th {\n",
       "        vertical-align: top;\n",
       "    }\n",
       "\n",
       "    .dataframe thead th {\n",
       "        text-align: right;\n",
       "    }\n",
       "</style>\n",
       "<table border=\"1\" class=\"dataframe\">\n",
       "  <thead>\n",
       "    <tr style=\"text-align: right;\">\n",
       "      <th></th>\n",
       "      <th>date</th>\n",
       "      <th>revenue</th>\n",
       "      <th>group</th>\n",
       "      <th>visits</th>\n",
       "      <th>transactionId</th>\n",
       "      <th>conversion_rate</th>\n",
       "    </tr>\n",
       "  </thead>\n",
       "  <tbody>\n",
       "    <tr>\n",
       "      <th>0</th>\n",
       "      <td>2019-08-01</td>\n",
       "      <td>2356.8</td>\n",
       "      <td>A</td>\n",
       "      <td>719</td>\n",
       "      <td>24</td>\n",
       "      <td>3.337969</td>\n",
       "    </tr>\n",
       "    <tr>\n",
       "      <th>1</th>\n",
       "      <td>2019-08-02</td>\n",
       "      <td>1503.5</td>\n",
       "      <td>A</td>\n",
       "      <td>619</td>\n",
       "      <td>20</td>\n",
       "      <td>3.231018</td>\n",
       "    </tr>\n",
       "    <tr>\n",
       "      <th>2</th>\n",
       "      <td>2019-08-03</td>\n",
       "      <td>1815.2</td>\n",
       "      <td>A</td>\n",
       "      <td>507</td>\n",
       "      <td>24</td>\n",
       "      <td>4.733728</td>\n",
       "    </tr>\n",
       "    <tr>\n",
       "      <th>3</th>\n",
       "      <td>2019-08-04</td>\n",
       "      <td>1146.6</td>\n",
       "      <td>A</td>\n",
       "      <td>717</td>\n",
       "      <td>16</td>\n",
       "      <td>2.231520</td>\n",
       "    </tr>\n",
       "    <tr>\n",
       "      <th>4</th>\n",
       "      <td>2019-08-05</td>\n",
       "      <td>1988.1</td>\n",
       "      <td>A</td>\n",
       "      <td>756</td>\n",
       "      <td>25</td>\n",
       "      <td>3.306878</td>\n",
       "    </tr>\n",
       "  </tbody>\n",
       "</table>\n",
       "</div>"
      ],
      "text/plain": [
       "        date  revenue group  visits  transactionId  conversion_rate\n",
       "0 2019-08-01   2356.8     A     719             24         3.337969\n",
       "1 2019-08-02   1503.5     A     619             20         3.231018\n",
       "2 2019-08-03   1815.2     A     507             24         4.733728\n",
       "3 2019-08-04   1146.6     A     717             16         2.231520\n",
       "4 2019-08-05   1988.1     A     756             25         3.306878"
      ]
     },
     "execution_count": 95,
     "metadata": {},
     "output_type": "execute_result"
    }
   ],
   "source": [
    "revenue_visits_groupA.head()"
   ]
  },
  {
   "cell_type": "code",
   "execution_count": 96,
   "id": "6dba8fc8-cb86-473a-89ac-8ca10706393c",
   "metadata": {},
   "outputs": [],
   "source": [
    "# setting average conversion\n",
    "\n",
    "average_conversion_rate_groupA = revenue_visits_groupA['conversion_rate'].mean()"
   ]
  },
  {
   "cell_type": "code",
   "execution_count": 97,
   "id": "3b5a3240-eb0c-4857-b412-a49e0016ff12",
   "metadata": {},
   "outputs": [
    {
     "data": {
      "text/plain": [
       "count    31.000000\n",
       "mean      3.065067\n",
       "std       0.989510\n",
       "min       1.610306\n",
       "25%       2.316716\n",
       "50%       2.795031\n",
       "75%       3.805147\n",
       "max       5.341880\n",
       "Name: conversion_rate, dtype: float64"
      ]
     },
     "execution_count": 97,
     "metadata": {},
     "output_type": "execute_result"
    }
   ],
   "source": [
    "revenue_visits_groupA['conversion_rate'].describe()"
   ]
  },
  {
   "cell_type": "code",
   "execution_count": 98,
   "id": "9d37bc37-daeb-48dc-bada-c2908484c933",
   "metadata": {},
   "outputs": [
    {
     "data": {
      "image/png": "[encoded data removed]",
      "text/plain": [
       "<Figure size 864x576 with 1 Axes>"
      ]
     },
     "metadata": {
      "needs_background": "light"
     },
     "output_type": "display_data"
    }
   ],
   "source": [
    "# plotting conversion rate for group A\n",
    "\n",
    "plt.figure(figsize=(12, 8))\n",
    "plt.scatter(revenue_visits_groupA['date'], revenue_visits_groupA['conversion_rate'], label='Group A', marker='o')\n",
    "plt.plot(revenue_visits_groupA['date'], revenue_visits_groupA['conversion_rate'], color='black', marker='o', markersize=2)\n",
    "plt.axhline(y=average_conversion_rate_groupA, color='red', linestyle='--', label='Average Conversion Rate')\n",
    "plt.legend()\n",
    "plt.title('Conversion Rate for Group A')\n",
    "plt.ylabel('Conversion Rate')\n",
    "plt.xlabel('Date')\n",
    "plt.grid(True, linestyle='--', alpha=1)\n",
    "plt.xticks(rotation=25)\n",
    "plt.show()"
   ]
  },
  {
   "cell_type": "markdown",
   "id": "1e9c5b2e-ab4c-4309-8098-ee33509eae17",
   "metadata": {},
   "source": [
    "    We see above the conversion rate for group A per day peaking at 5.34 on 23rd of August, it is curious how the lowest conversion rate come only two days after on the 25th of August at 1.61. We can see how the conversion rate goes up and come down on next day almost at the same rate."
   ]
  },
  {
   "cell_type": "code",
   "execution_count": 100,
   "id": "b75c52e0-3c47-4904-86fc-b898910cdefb",
   "metadata": {
    "tags": []
   },
   "outputs": [],
   "source": [
    "# merging dataFrames from group B\n",
    "\n",
    "revenue_visits_groupB = revenue_per_day_groupB.merge(visits_groupB, on='date')"
   ]
  },
  {
   "cell_type": "code",
   "execution_count": 101,
   "id": "10b557ed-ff57-4fa3-8fae-bcffc0b4b7b1",
   "metadata": {},
   "outputs": [],
   "source": [
    "# grouping orders per day per group B\n",
    "\n",
    "orders_per_day_groupB = orders[orders['group'] == 'B'].groupby('date', as_index=False).agg({'transactionId' : 'size'})"
   ]
  },
  {
   "cell_type": "code",
   "execution_count": 102,
   "id": "e8b8fa73-e9e8-4660-a864-86992fc061dd",
   "metadata": {},
   "outputs": [],
   "source": [
    "# merging transactionId in dataFrame\n",
    "\n",
    "revenue_visits_groupB = revenue_visits_groupB.merge(orders_per_day_groupB, on='date')"
   ]
  },
  {
   "cell_type": "code",
   "execution_count": 103,
   "id": "3f0ddfbf-312a-4d2b-b2a5-e513f4a5b308",
   "metadata": {},
   "outputs": [],
   "source": [
    "# calculating conversion rate in group B\n",
    "\n",
    "revenue_visits_groupB['conversion_rate'] = (revenue_visits_groupB['transactionId'] / revenue_visits_groupB['visits']) * 100"
   ]
  },
  {
   "cell_type": "code",
   "execution_count": 104,
   "id": "a96f19fb-7abb-4ca4-905e-3699af40a19c",
   "metadata": {},
   "outputs": [
    {
     "data": {
      "text/html": [
       "<div>\n",
       "<style scoped>\n",
       "    .dataframe tbody tr th:only-of-type {\n",
       "        vertical-align: middle;\n",
       "    }\n",
       "\n",
       "    .dataframe tbody tr th {\n",
       "        vertical-align: top;\n",
       "    }\n",
       "\n",
       "    .dataframe thead th {\n",
       "        text-align: right;\n",
       "    }\n",
       "</style>\n",
       "<table border=\"1\" class=\"dataframe\">\n",
       "  <thead>\n",
       "    <tr style=\"text-align: right;\">\n",
       "      <th></th>\n",
       "      <th>date</th>\n",
       "      <th>revenue</th>\n",
       "      <th>group</th>\n",
       "      <th>visits</th>\n",
       "      <th>transactionId</th>\n",
       "      <th>conversion_rate</th>\n",
       "    </tr>\n",
       "  </thead>\n",
       "  <tbody>\n",
       "    <tr>\n",
       "      <th>0</th>\n",
       "      <td>2019-08-01</td>\n",
       "      <td>1620.0</td>\n",
       "      <td>B</td>\n",
       "      <td>713</td>\n",
       "      <td>21</td>\n",
       "      <td>2.945302</td>\n",
       "    </tr>\n",
       "    <tr>\n",
       "      <th>1</th>\n",
       "      <td>2019-08-02</td>\n",
       "      <td>2623.8</td>\n",
       "      <td>B</td>\n",
       "      <td>581</td>\n",
       "      <td>24</td>\n",
       "      <td>4.130809</td>\n",
       "    </tr>\n",
       "    <tr>\n",
       "      <th>2</th>\n",
       "      <td>2019-08-03</td>\n",
       "      <td>1806.8</td>\n",
       "      <td>B</td>\n",
       "      <td>509</td>\n",
       "      <td>16</td>\n",
       "      <td>3.143418</td>\n",
       "    </tr>\n",
       "    <tr>\n",
       "      <th>3</th>\n",
       "      <td>2019-08-04</td>\n",
       "      <td>1717.3</td>\n",
       "      <td>B</td>\n",
       "      <td>770</td>\n",
       "      <td>17</td>\n",
       "      <td>2.207792</td>\n",
       "    </tr>\n",
       "    <tr>\n",
       "      <th>4</th>\n",
       "      <td>2019-08-05</td>\n",
       "      <td>1495.0</td>\n",
       "      <td>B</td>\n",
       "      <td>707</td>\n",
       "      <td>23</td>\n",
       "      <td>3.253182</td>\n",
       "    </tr>\n",
       "  </tbody>\n",
       "</table>\n",
       "</div>"
      ],
      "text/plain": [
       "        date  revenue group  visits  transactionId  conversion_rate\n",
       "0 2019-08-01   1620.0     B     713             21         2.945302\n",
       "1 2019-08-02   2623.8     B     581             24         4.130809\n",
       "2 2019-08-03   1806.8     B     509             16         3.143418\n",
       "3 2019-08-04   1717.3     B     770             17         2.207792\n",
       "4 2019-08-05   1495.0     B     707             23         3.253182"
      ]
     },
     "execution_count": 104,
     "metadata": {},
     "output_type": "execute_result"
    }
   ],
   "source": [
    "revenue_visits_groupB.head()"
   ]
  },
  {
   "cell_type": "code",
   "execution_count": 105,
   "id": "9f9fcf37-8c40-4157-8a67-c4d85cccc410",
   "metadata": {},
   "outputs": [],
   "source": [
    "# setting average conversion\n",
    "\n",
    "average_conversion_rate_groupB = revenue_visits_groupB['conversion_rate'].mean()"
   ]
  },
  {
   "cell_type": "code",
   "execution_count": 106,
   "id": "c03cbc38-6de2-4aa5-a77e-466c3409d3e2",
   "metadata": {},
   "outputs": [
    {
     "data": {
      "text/plain": [
       "count    31.000000\n",
       "mean      3.525747\n",
       "std       1.126430\n",
       "min       1.221167\n",
       "25%       2.766384\n",
       "50%       3.571429\n",
       "75%       4.234266\n",
       "max       6.233062\n",
       "Name: conversion_rate, dtype: float64"
      ]
     },
     "execution_count": 106,
     "metadata": {},
     "output_type": "execute_result"
    }
   ],
   "source": [
    "revenue_visits_groupB['conversion_rate'].describe()"
   ]
  },
  {
   "cell_type": "code",
   "execution_count": 107,
   "id": "995a504e-ac96-4481-9f4a-16373f61499d",
   "metadata": {},
   "outputs": [
    {
     "data": {
      "image/png": "[encoded data removed]",
      "text/plain": [
       "<Figure size 864x576 with 1 Axes>"
      ]
     },
     "metadata": {
      "needs_background": "light"
     },
     "output_type": "display_data"
    }
   ],
   "source": [
    "# plotting conversion rate for group B\n",
    "\n",
    "plt.figure(figsize=(12, 8))\n",
    "plt.scatter(revenue_visits_groupB['date'], revenue_visits_groupB['conversion_rate'], marker='o')\n",
    "plt.plot(revenue_visits_groupB['date'], revenue_visits_groupB['conversion_rate'], color='black', markersize=2)\n",
    "plt.axhline(y=average_conversion_rate_groupB, color='red', linestyle='--', label='Average Conversion Rate')\n",
    "plt.legend()\n",
    "plt.title('Conversion Rate for Group B')\n",
    "plt.ylabel('Conversion Rate')\n",
    "plt.xlabel('Date')\n",
    "plt.grid(True, linestyle='--', alpha=1)\n",
    "plt.xticks(rotation=25)\n",
    "plt.show()"
   ]
  },
  {
   "cell_type": "markdown",
   "id": "8e17ebf8-af66-4f98-8aac-d3d232695431",
   "metadata": {},
   "source": [
    "    We see above the highest conversion rate on 10th of August at 6.23 and the lowest on 18th of August at 1.22. We have a similar effect as seen on Group A."
   ]
  },
  {
   "cell_type": "markdown",
   "id": "bbcd64a3",
   "metadata": {},
   "source": [
    "<div class=\"alert alert-block alert-success\">\n",
    "<b> Comentário do revisor: </b> <a class=\"tocSkip\"></a>\n",
    "\n",
    "A taxa de conversão por grupo foi apresentada corretamente.\n",
    "   \n",
    "</div>"
   ]
  },
  {
   "cell_type": "markdown",
   "id": "93f6b5e7-0f80-44f4-bbfc-b9b9a366d03c",
   "metadata": {
    "tags": []
   },
   "source": [
    "#### 5. Faça um gráfico da diferença relativa na conversão cumulativa para o grupo B em comparação com o grupo A. Tire conclusões e crie conjecturas."
   ]
  },
  {
   "cell_type": "code",
   "execution_count": 111,
   "id": "8a7dd459-5d59-446e-9868-3d13e7f13f89",
   "metadata": {},
   "outputs": [
    {
     "data": {
      "text/plain": [
       "-15.030023762805827"
      ]
     },
     "execution_count": 111,
     "metadata": {},
     "output_type": "execute_result"
    }
   ],
   "source": [
    "((average_conversion_rate_groupA - average_conversion_rate_groupB) / average_conversion_rate_groupA)*100"
   ]
  },
  {
   "cell_type": "code",
   "execution_count": 112,
   "id": "e558a15a-891c-4f41-b758-d2acf5e72a75",
   "metadata": {},
   "outputs": [
    {
     "data": {
      "text/html": [
       "<div>\n",
       "<style scoped>\n",
       "    .dataframe tbody tr th:only-of-type {\n",
       "        vertical-align: middle;\n",
       "    }\n",
       "\n",
       "    .dataframe tbody tr th {\n",
       "        vertical-align: top;\n",
       "    }\n",
       "\n",
       "    .dataframe thead th {\n",
       "        text-align: right;\n",
       "    }\n",
       "</style>\n",
       "<table border=\"1\" class=\"dataframe\">\n",
       "  <thead>\n",
       "    <tr style=\"text-align: right;\">\n",
       "      <th></th>\n",
       "      <th>date</th>\n",
       "      <th>group</th>\n",
       "      <th>visits</th>\n",
       "    </tr>\n",
       "  </thead>\n",
       "  <tbody>\n",
       "    <tr>\n",
       "      <th>0</th>\n",
       "      <td>2019-08-01</td>\n",
       "      <td>A</td>\n",
       "      <td>719</td>\n",
       "    </tr>\n",
       "    <tr>\n",
       "      <th>1</th>\n",
       "      <td>2019-08-02</td>\n",
       "      <td>A</td>\n",
       "      <td>619</td>\n",
       "    </tr>\n",
       "    <tr>\n",
       "      <th>2</th>\n",
       "      <td>2019-08-03</td>\n",
       "      <td>A</td>\n",
       "      <td>507</td>\n",
       "    </tr>\n",
       "    <tr>\n",
       "      <th>3</th>\n",
       "      <td>2019-08-04</td>\n",
       "      <td>A</td>\n",
       "      <td>717</td>\n",
       "    </tr>\n",
       "    <tr>\n",
       "      <th>4</th>\n",
       "      <td>2019-08-05</td>\n",
       "      <td>A</td>\n",
       "      <td>756</td>\n",
       "    </tr>\n",
       "  </tbody>\n",
       "</table>\n",
       "</div>"
      ],
      "text/plain": [
       "        date group  visits\n",
       "0 2019-08-01     A     719\n",
       "1 2019-08-02     A     619\n",
       "2 2019-08-03     A     507\n",
       "3 2019-08-04     A     717\n",
       "4 2019-08-05     A     756"
      ]
     },
     "execution_count": 112,
     "metadata": {},
     "output_type": "execute_result"
    }
   ],
   "source": [
    "visits.head()"
   ]
  },
  {
   "cell_type": "code",
   "execution_count": 113,
   "id": "8ce01782-32b4-4352-a9ad-9b8564ce6044",
   "metadata": {},
   "outputs": [
    {
     "data": {
      "image/png": "[encoded data removed]",
      "text/plain": [
       "<Figure size 864x576 with 1 Axes>"
      ]
     },
     "metadata": {
      "needs_background": "light"
     },
     "output_type": "display_data"
    }
   ],
   "source": [
    "# plotting conversion rate comparison group A and B\n",
    "\n",
    "plt.figure(figsize=(12, 8))\n",
    "plt.scatter(revenue_visits_groupA['date'], revenue_visits_groupA['conversion_rate'], label='Group A', color='black', marker ='o', linewidth=1)\n",
    "plt.scatter(revenue_visits_groupB['date'], revenue_visits_groupB['conversion_rate'], label='Group B', color='red', marker='o',linewidth=1)\n",
    "plt.plot(revenue_visits_groupA['date'], revenue_visits_groupA['conversion_rate'], color='black', marker='o', markersize=1)\n",
    "plt.plot(revenue_visits_groupB['date'], revenue_visits_groupB['conversion_rate'], color='red',marker='o',markersize=1)\n",
    "plt.axhline(y=average_conversion_rate_groupA, color='black', linestyle='--', label='Average Conversion Rate')\n",
    "plt.axhline(y=average_conversion_rate_groupB, color='red', linestyle='--', label='Average Conversion Rate')\n",
    "plt.title('Conversion Rate Comparison Group A vs Group B')\n",
    "plt.ylabel('Conversion Rate')\n",
    "plt.xlabel('Date')\n",
    "plt.grid(True, linestyle='--', alpha=1)\n",
    "plt.xticks(rotation=25)\n",
    "plt.legend()\n",
    "plt.show()"
   ]
  },
  {
   "cell_type": "markdown",
   "id": "b6516104-3fc5-4171-97e9-55a6678d5ece",
   "metadata": {},
   "source": [
    "    when plotting both groups conversion rate into the same graphic we can see higher conversion rater to group B but also the lowest one. We plotted the average conversion rates and we find group B average 15% above group A."
   ]
  },
  {
   "cell_type": "code",
   "execution_count": 115,
   "id": "329bdd9d-8863-46bd-8b8e-1a752a40a8d5",
   "metadata": {
    "tags": []
   },
   "outputs": [
    {
     "data": {
      "image/png": "[encoded data removed]",
      "text/plain": [
       "<Figure size 864x576 with 1 Axes>"
      ]
     },
     "metadata": {
      "needs_background": "light"
     },
     "output_type": "display_data"
    }
   ],
   "source": [
    "# plotting revenue in august\n",
    "\n",
    "grouped_visits_aug = pd.pivot_table(orders,index ='date', columns='group', values='revenue').plot(figsize=(12,8),grid='yes')"
   ]
  },
  {
   "cell_type": "markdown",
   "id": "b342d1d9-dc02-4173-9c78-85eedc87d401",
   "metadata": {},
   "source": [
    "     When looking the revenue between group A and B we see a spike on the 19th and a variation between the groups on revenue which could explain the curious conversion rate of one group going up and the other one going down between the 18th and 25 of August.\n",
    "    \n",
    "    "
   ]
  },
  {
   "cell_type": "code",
   "execution_count": 117,
   "id": "c2298db2-7934-4799-894c-94236e1f782a",
   "metadata": {},
   "outputs": [],
   "source": [
    "# adding column 'conversion' to cumulativeData \n",
    "\n",
    "cumulativeData['conversion'] = (cumulativeData['orders'] / cumulativeData['visitors'])"
   ]
  },
  {
   "cell_type": "code",
   "execution_count": 118,
   "id": "46e5339a-d83d-4ce3-acd9-b7d69d3e111a",
   "metadata": {},
   "outputs": [],
   "source": [
    "# filtering by group A\n",
    "\n",
    "cumulativeDataA = cumulativeData[cumulativeData['group'] == 'A']"
   ]
  },
  {
   "cell_type": "code",
   "execution_count": 119,
   "id": "aff68006-4461-434a-aab7-3e9494a838b2",
   "metadata": {},
   "outputs": [],
   "source": [
    "# filtering by group B\n",
    "\n",
    "cumulativeDataB = cumulativeData[cumulativeData['group'] == 'B']"
   ]
  },
  {
   "cell_type": "code",
   "execution_count": 120,
   "id": "4e55847c-dd8c-47dc-9417-97affc6eecba",
   "metadata": {},
   "outputs": [],
   "source": [
    "#merging cumulative conversions\n",
    "\n",
    "mergedCumulativeConversions = cumulativeDataA[['date', 'conversion']].merge(cumulativeDataB[['date', 'conversion']], left_on='date', right_on='date', how='left', suffixes=['A','B'])"
   ]
  },
  {
   "cell_type": "code",
   "execution_count": 121,
   "id": "bc8053ba-db52-424f-b18f-7a49d7f25e2e",
   "metadata": {},
   "outputs": [
    {
     "data": {
      "image/png": "[encoded data removed]",
      "text/plain": [
       "<Figure size 864x576 with 1 Axes>"
      ]
     },
     "metadata": {
      "needs_background": "light"
     },
     "output_type": "display_data"
    }
   ],
   "source": [
    "# plotting merged convertsions rate difference\n",
    "\n",
    "plt.figure(figsize=(12,8))\n",
    "plt.plot(mergedCumulativeConversions['date'],\n",
    "         mergedCumulativeConversions['conversionB'] / mergedCumulativeConversions['conversionA'] - 1)\n",
    "plt.title('Relative Conversion Rate Difference Between Group A and B Over Time')\n",
    "plt.xlabel('Date')\n",
    "plt.ylabel('Difference')\n",
    "plt.axhline(y=0, color='black', linestyle='--')\n",
    "plt.axhline(y=0.2, color='grey', linestyle='--')\n",
    "plt.show()\n"
   ]
  },
  {
   "cell_type": "markdown",
   "id": "a05079d3-9c64-49c9-9ac9-10349f26065b",
   "metadata": {},
   "source": [
    "    group B had a spike on 2nd of August and went down again until the 6th of August and took the lead up til the end of the experiment. They were not stable and we should look into outliers as they could change the results."
   ]
  },
  {
   "cell_type": "markdown",
   "id": "d8413451",
   "metadata": {},
   "source": [
    "<div class=\"alert alert-block alert-warning\">\n",
    "<b> Comentário do revisor: </b> <a class=\"tocSkip\"></a>\n",
    "\n",
    "Por quê? Crie conjecturas.\n",
    "> Its curious between 18th of August and 25th of August as one conversion rate is higher the other one goes down\n",
    "   \n",
    "</div>"
   ]
  },
  {
   "cell_type": "markdown",
   "id": "2da92b1f-0487-4192-89fb-bf0d6eb931a5",
   "metadata": {
    "tags": []
   },
   "source": [
    "#### 6. Calcule os percentis 95 e 99 para o número de pedidos por usuário. Defina o ponto em que um ponto de dados se torna uma anomalia."
   ]
  },
  {
   "cell_type": "code",
   "execution_count": 124,
   "id": "eecc65d9-6422-4932-ac8b-ac46fb868b4f",
   "metadata": {},
   "outputs": [],
   "source": [
    "# grouping transactions per user\n",
    "\n",
    "orders_user = orders[orders['group'] == 'A'].groupby('visitorId', as_index=False).agg({'transactionId' : 'size'})"
   ]
  },
  {
   "cell_type": "code",
   "execution_count": 125,
   "id": "0f7dad8d-348a-4617-8203-4d823583d6c2",
   "metadata": {},
   "outputs": [
    {
     "data": {
      "text/plain": [
       "array([1, 4, 2, 3, 5, 7])"
      ]
     },
     "execution_count": 125,
     "metadata": {},
     "output_type": "execute_result"
    }
   ],
   "source": [
    "orders_user['transactionId'].unique()"
   ]
  },
  {
   "cell_type": "code",
   "execution_count": 126,
   "id": "c52c3b8f-a2ce-4c03-96cb-1061e23a9bd1",
   "metadata": {},
   "outputs": [
    {
     "data": {
      "text/plain": [
       "array([1.  , 2.  , 3.98])"
      ]
     },
     "execution_count": 126,
     "metadata": {},
     "output_type": "execute_result"
    }
   ],
   "source": [
    "# calculating percentile\n",
    "\n",
    "np.percentile(orders_user['transactionId'], [90,95,99])"
   ]
  },
  {
   "cell_type": "markdown",
   "id": "9df8d34b-ba86-4681-9657-faa098b089bd",
   "metadata": {},
   "source": [
    "    I would define an anomaly at percentile 99 due to its statistical significance"
   ]
  },
  {
   "cell_type": "markdown",
   "id": "d6eb4f4d",
   "metadata": {},
   "source": [
    "<div class=\"alert alert-block alert-warning\">\n",
    "<b> Comentário do revisor: </b> <a class=\"tocSkip\"></a>\n",
    "\n",
    "Por quê? Use referências para embasar sua escolha.\n",
    "   \n",
    "</div>"
   ]
  },
  {
   "cell_type": "markdown",
   "id": "6a5487e6-34f1-4f0d-8c3a-2542551d60ef",
   "metadata": {
    "tags": []
   },
   "source": [
    "#### 7. Faça um gráfico de dispersão dos preços dos pedidos. Tire conclusões e crie conjecturas."
   ]
  },
  {
   "cell_type": "code",
   "execution_count": 130,
   "id": "4d917583-63db-48b2-a0c0-fc97be11aa51",
   "metadata": {},
   "outputs": [
    {
     "data": {
      "text/plain": [
       "count     1197.000000\n",
       "mean       131.491646\n",
       "std        603.004729\n",
       "min          5.000000\n",
       "25%         20.800000\n",
       "50%         50.200000\n",
       "75%        130.400000\n",
       "max      19920.400000\n",
       "Name: revenue, dtype: float64"
      ]
     },
     "execution_count": 130,
     "metadata": {},
     "output_type": "execute_result"
    }
   ],
   "source": [
    "orders['revenue'].describe()"
   ]
  },
  {
   "cell_type": "code",
   "execution_count": 131,
   "id": "6f1a7dd2-a766-40a2-bd37-dcbe9d793625",
   "metadata": {},
   "outputs": [
    {
     "data": {
      "image/png": "[encoded data removed]",
      "text/plain": [
       "<Figure size 864x576 with 1 Axes>"
      ]
     },
     "metadata": {
      "needs_background": "light"
     },
     "output_type": "display_data"
    }
   ],
   "source": [
    "# # plotting revenue size vs frequency graphic\n",
    "\n",
    "plt.figure(figsize=(12,8))\n",
    "plt.scatter(orders['transactionId'], orders['revenue'])\n",
    "plt.title('Order Value vs Frequency')\n",
    "plt.xlabel('Frequency')\n",
    "plt.ylabel('Order Value')\n",
    "plt.grid(True, linestyle='--', alpha=1)\n",
    "plt.show()"
   ]
  },
  {
   "cell_type": "markdown",
   "id": "40df329f-533c-49fa-b385-d7acb6fa2664",
   "metadata": {},
   "source": [
    "    Two values stands out there one almost at 20000 value and another one at almost 3000. We see 75% of the order value staying under €130."
   ]
  },
  {
   "cell_type": "markdown",
   "id": "f65f24c7",
   "metadata": {},
   "source": [
    "<div class=\"alert alert-block alert-success\">\n",
    "<b> Comentário do revisor: </b> <a class=\"tocSkip\"></a>\n",
    "\n",
    "O gráfico de dispersão foi criado corretamente.\n",
    "   \n",
    "</div>"
   ]
  },
  {
   "cell_type": "markdown",
   "id": "16a980fc-c3b2-4066-b4d0-be5c3c96bc23",
   "metadata": {
    "tags": []
   },
   "source": [
    "#### 8. Calcule os percentis 95 e 99 dos preços dos pedidos. Defina o ponto em que um ponto de dados se torna uma anomalia."
   ]
  },
  {
   "cell_type": "code",
   "execution_count": 135,
   "id": "c2031ad8-2848-4685-88e6-5b8565ad943c",
   "metadata": {},
   "outputs": [
    {
     "data": {
      "text/plain": [
       "array([282.48 , 435.54 , 900.904])"
      ]
     },
     "execution_count": 135,
     "metadata": {},
     "output_type": "execute_result"
    }
   ],
   "source": [
    "np.percentile(orders['revenue'], [90, 95, 99]) "
   ]
  },
  {
   "cell_type": "markdown",
   "id": "dc69f52a-e818-4dd2-8a1f-aff16853c17e",
   "metadata": {},
   "source": [
    "    I would define the anomaly at percentile 99 due to values significant higher than others"
   ]
  },
  {
   "cell_type": "markdown",
   "id": "827719f9-45ec-4ef8-b054-7ffc00da61ed",
   "metadata": {
    "tags": [],
    "toc-hr-collapsed": true
   },
   "source": [
    "#### 9. Encontre a significância estatística da diferença na conversão entre os grupos usando os dados brutos. Tire conclusões e crie conjecturas."
   ]
  },
  {
   "cell_type": "markdown",
   "id": "f5603309-5785-43e4-9f56-16dfa8261dbf",
   "metadata": {},
   "source": [
    "Null Hypothesis (H0): There is no significant difference in conversion between the groups.\n",
    "\n",
    "Alternative Hypothesis (H1): There is a significant difference in conversion between the groups."
   ]
  },
  {
   "cell_type": "code",
   "execution_count": 139,
   "id": "350ef070-5000-457a-b013-7785c5351965",
   "metadata": {},
   "outputs": [],
   "source": [
    "# setting alpha\n",
    "\n",
    "alpha = 0.05"
   ]
  },
  {
   "cell_type": "code",
   "execution_count": 140,
   "id": "be84f040-cdce-44a1-b883-5c5696ce347d",
   "metadata": {},
   "outputs": [],
   "source": [
    "# grouping orders from group A\n",
    "\n",
    "orders_groupA = (orders[orders['group'] == 'A'].groupby('visitorId', as_index=False).agg({'transactionId' : pd.Series.nunique}))"
   ]
  },
  {
   "cell_type": "code",
   "execution_count": 141,
   "id": "6fb8ff4e-4c53-4585-bc25-59dd08bfc180",
   "metadata": {},
   "outputs": [],
   "source": [
    "# renamining group A columns\n",
    "\n",
    "orders_groupA.columns = ['visitorId', 'orders']"
   ]
  },
  {
   "cell_type": "code",
   "execution_count": 142,
   "id": "ae7f147c-024a-47ff-a562-f84e835d83fd",
   "metadata": {},
   "outputs": [
    {
     "data": {
      "text/html": [
       "<div>\n",
       "<style scoped>\n",
       "    .dataframe tbody tr th:only-of-type {\n",
       "        vertical-align: middle;\n",
       "    }\n",
       "\n",
       "    .dataframe tbody tr th {\n",
       "        vertical-align: top;\n",
       "    }\n",
       "\n",
       "    .dataframe thead th {\n",
       "        text-align: right;\n",
       "    }\n",
       "</style>\n",
       "<table border=\"1\" class=\"dataframe\">\n",
       "  <thead>\n",
       "    <tr style=\"text-align: right;\">\n",
       "      <th></th>\n",
       "      <th>visitorId</th>\n",
       "      <th>orders</th>\n",
       "    </tr>\n",
       "  </thead>\n",
       "  <tbody>\n",
       "    <tr>\n",
       "      <th>0</th>\n",
       "      <td>8300375</td>\n",
       "      <td>1</td>\n",
       "    </tr>\n",
       "    <tr>\n",
       "      <th>1</th>\n",
       "      <td>11685486</td>\n",
       "      <td>1</td>\n",
       "    </tr>\n",
       "    <tr>\n",
       "      <th>2</th>\n",
       "      <td>54447517</td>\n",
       "      <td>1</td>\n",
       "    </tr>\n",
       "    <tr>\n",
       "      <th>3</th>\n",
       "      <td>66685450</td>\n",
       "      <td>1</td>\n",
       "    </tr>\n",
       "    <tr>\n",
       "      <th>4</th>\n",
       "      <td>78758296</td>\n",
       "      <td>1</td>\n",
       "    </tr>\n",
       "  </tbody>\n",
       "</table>\n",
       "</div>"
      ],
      "text/plain": [
       "   visitorId  orders\n",
       "0    8300375       1\n",
       "1   11685486       1\n",
       "2   54447517       1\n",
       "3   66685450       1\n",
       "4   78758296       1"
      ]
     },
     "execution_count": 142,
     "metadata": {},
     "output_type": "execute_result"
    }
   ],
   "source": [
    "orders_groupA.head()"
   ]
  },
  {
   "cell_type": "code",
   "execution_count": 143,
   "id": "40074ba0-97aa-4292-880a-1ba3717ffff7",
   "metadata": {},
   "outputs": [],
   "source": [
    "# grouping orders from group B\n",
    "\n",
    "orders_groupB = (orders[orders['group'] == 'B'].groupby('visitorId', as_index=False).agg({'transactionId': pd.Series.nunique}))"
   ]
  },
  {
   "cell_type": "code",
   "execution_count": 144,
   "id": "b8bd47bc-7e50-4f1f-820e-669a26cc24a6",
   "metadata": {},
   "outputs": [],
   "source": [
    "# renaming group B columns\n",
    "\n",
    "orders_groupB.columns = ['visitorId', 'orders']"
   ]
  },
  {
   "cell_type": "code",
   "execution_count": 145,
   "id": "2250ee84-98fa-4b8b-aa5d-14fc37b94fcd",
   "metadata": {},
   "outputs": [
    {
     "data": {
      "text/html": [
       "<div>\n",
       "<style scoped>\n",
       "    .dataframe tbody tr th:only-of-type {\n",
       "        vertical-align: middle;\n",
       "    }\n",
       "\n",
       "    .dataframe tbody tr th {\n",
       "        vertical-align: top;\n",
       "    }\n",
       "\n",
       "    .dataframe thead th {\n",
       "        text-align: right;\n",
       "    }\n",
       "</style>\n",
       "<table border=\"1\" class=\"dataframe\">\n",
       "  <thead>\n",
       "    <tr style=\"text-align: right;\">\n",
       "      <th></th>\n",
       "      <th>visitorId</th>\n",
       "      <th>orders</th>\n",
       "    </tr>\n",
       "  </thead>\n",
       "  <tbody>\n",
       "    <tr>\n",
       "      <th>0</th>\n",
       "      <td>5114589</td>\n",
       "      <td>1</td>\n",
       "    </tr>\n",
       "    <tr>\n",
       "      <th>1</th>\n",
       "      <td>6958315</td>\n",
       "      <td>1</td>\n",
       "    </tr>\n",
       "    <tr>\n",
       "      <th>2</th>\n",
       "      <td>8300375</td>\n",
       "      <td>1</td>\n",
       "    </tr>\n",
       "    <tr>\n",
       "      <th>3</th>\n",
       "      <td>39475350</td>\n",
       "      <td>1</td>\n",
       "    </tr>\n",
       "    <tr>\n",
       "      <th>4</th>\n",
       "      <td>47206413</td>\n",
       "      <td>1</td>\n",
       "    </tr>\n",
       "  </tbody>\n",
       "</table>\n",
       "</div>"
      ],
      "text/plain": [
       "   visitorId  orders\n",
       "0    5114589       1\n",
       "1    6958315       1\n",
       "2    8300375       1\n",
       "3   39475350       1\n",
       "4   47206413       1"
      ]
     },
     "execution_count": 145,
     "metadata": {},
     "output_type": "execute_result"
    }
   ],
   "source": [
    "orders_groupB.head()"
   ]
  },
  {
   "cell_type": "code",
   "execution_count": 146,
   "id": "c25553c7-8b34-4692-98e2-1a18f0882a81",
   "metadata": {},
   "outputs": [],
   "source": [
    "# creating sample A with raw data\n",
    "\n",
    "sampleA_orders_raw = pd.concat([orders_groupA['orders'],pd.Series(0, index=np.arange(visits[visits['group']=='A']['visits'].sum() - len(orders_groupA['orders'])), name='orders')],axis=0)"
   ]
  },
  {
   "cell_type": "code",
   "execution_count": 147,
   "id": "d636620c-7350-4fdf-b4e7-7f0610478682",
   "metadata": {},
   "outputs": [],
   "source": [
    "# creating sample B with raw data\n",
    "\n",
    "sampleB_orders_raw = pd.concat([orders_groupB['orders'],pd.Series(0, index=np.arange(visits[visits['group']=='B']['visits'].sum() - len(orders_groupB['orders'])), name='orders')],axis=0)"
   ]
  },
  {
   "cell_type": "code",
   "execution_count": 148,
   "id": "2b0dce83-7a76-4710-aad2-da773e5996a9",
   "metadata": {},
   "outputs": [
    {
     "data": {
      "text/plain": [
       "0.016792355056752608"
      ]
     },
     "execution_count": 148,
     "metadata": {},
     "output_type": "execute_result"
    }
   ],
   "source": [
    "# applying mann-whitney-u statistical criteria \n",
    "\n",
    "pvalue_raw = (stats.mannwhitneyu(sampleA_orders_raw, sampleB_orders_raw)[1])\n",
    "pvalue_raw"
   ]
  },
  {
   "cell_type": "code",
   "execution_count": 149,
   "id": "2bcc2819-d743-4bae-9863-df34e270b8dc",
   "metadata": {},
   "outputs": [
    {
     "name": "stdout",
     "output_type": "stream",
     "text": [
      "Reject null hypotesis\n"
     ]
    }
   ],
   "source": [
    "# test result\n",
    "\n",
    "if pvalue_raw < alpha:\n",
    "    print('Reject null hypotesis')\n",
    "else:\n",
    "    print(\" We can't reject null hypotesis\")"
   ]
  },
  {
   "cell_type": "code",
   "execution_count": 150,
   "id": "60d6e372-24fc-4e08-a780-ac4dd0e57a1b",
   "metadata": {},
   "outputs": [
    {
     "data": {
      "text/plain": [
       "0.13807884655320146"
      ]
     },
     "execution_count": 150,
     "metadata": {},
     "output_type": "execute_result"
    }
   ],
   "source": [
    "# conversion gain relative to group B\n",
    "\n",
    "conversarion_gain_to_groupB = (sampleB_orders_raw.mean()/sampleA_orders_raw.mean()-1)\n",
    "conversarion_gain_to_groupB"
   ]
  },
  {
   "cell_type": "markdown",
   "id": "4f1c2d98-103f-42fb-a543-9b9fd9d6d96d",
   "metadata": {},
   "source": [
    "    The test results show that there is a significant difference between the groups conversion rate when using raw data."
   ]
  },
  {
   "cell_type": "markdown",
   "id": "79d542fb-3f52-4f53-8fce-fa9fd8eac8cb",
   "metadata": {
    "tags": []
   },
   "source": [
    "#### 10. Encontre a significância estatística da diferença no tamanho médio do pedido entre os grupos usando os dados brutos. Tire conclusões e crie conjecturas."
   ]
  },
  {
   "cell_type": "markdown",
   "id": "2c0dd436-3ccf-4c5f-b5ba-d8c17482809f",
   "metadata": {},
   "source": [
    "Null Hypothesis (H0): There is no significant difference in the average revenue size between the groups.\n",
    "\n",
    "Alternative Hypothesis (H1): There is a significant difference in the average revenue size between the groups."
   ]
  },
  {
   "cell_type": "code",
   "execution_count": 155,
   "id": "9881f75b-66a7-4262-86a6-3e5263877a88",
   "metadata": {},
   "outputs": [
    {
     "data": {
      "text/html": [
       "<div>\n",
       "<style scoped>\n",
       "    .dataframe tbody tr th:only-of-type {\n",
       "        vertical-align: middle;\n",
       "    }\n",
       "\n",
       "    .dataframe tbody tr th {\n",
       "        vertical-align: top;\n",
       "    }\n",
       "\n",
       "    .dataframe thead th {\n",
       "        text-align: right;\n",
       "    }\n",
       "</style>\n",
       "<table border=\"1\" class=\"dataframe\">\n",
       "  <thead>\n",
       "    <tr style=\"text-align: right;\">\n",
       "      <th></th>\n",
       "      <th>transactionId</th>\n",
       "      <th>visitorId</th>\n",
       "      <th>date</th>\n",
       "      <th>revenue</th>\n",
       "      <th>group</th>\n",
       "    </tr>\n",
       "  </thead>\n",
       "  <tbody>\n",
       "    <tr>\n",
       "      <th>0</th>\n",
       "      <td>3667963787</td>\n",
       "      <td>3312258926</td>\n",
       "      <td>2019-08-15</td>\n",
       "      <td>30.4</td>\n",
       "      <td>B</td>\n",
       "    </tr>\n",
       "    <tr>\n",
       "      <th>1</th>\n",
       "      <td>2804400009</td>\n",
       "      <td>3642806036</td>\n",
       "      <td>2019-08-15</td>\n",
       "      <td>15.2</td>\n",
       "      <td>B</td>\n",
       "    </tr>\n",
       "    <tr>\n",
       "      <th>2</th>\n",
       "      <td>2961555356</td>\n",
       "      <td>4069496402</td>\n",
       "      <td>2019-08-15</td>\n",
       "      <td>10.2</td>\n",
       "      <td>A</td>\n",
       "    </tr>\n",
       "    <tr>\n",
       "      <th>3</th>\n",
       "      <td>3797467345</td>\n",
       "      <td>1196621759</td>\n",
       "      <td>2019-08-15</td>\n",
       "      <td>155.1</td>\n",
       "      <td>B</td>\n",
       "    </tr>\n",
       "    <tr>\n",
       "      <th>4</th>\n",
       "      <td>2282983706</td>\n",
       "      <td>2322279887</td>\n",
       "      <td>2019-08-15</td>\n",
       "      <td>40.5</td>\n",
       "      <td>B</td>\n",
       "    </tr>\n",
       "  </tbody>\n",
       "</table>\n",
       "</div>"
      ],
      "text/plain": [
       "   transactionId   visitorId       date  revenue group\n",
       "0     3667963787  3312258926 2019-08-15     30.4     B\n",
       "1     2804400009  3642806036 2019-08-15     15.2     B\n",
       "2     2961555356  4069496402 2019-08-15     10.2     A\n",
       "3     3797467345  1196621759 2019-08-15    155.1     B\n",
       "4     2282983706  2322279887 2019-08-15     40.5     B"
      ]
     },
     "execution_count": 155,
     "metadata": {},
     "output_type": "execute_result"
    }
   ],
   "source": [
    "orders.head()"
   ]
  },
  {
   "cell_type": "code",
   "execution_count": 156,
   "id": "dcb13295-7dbc-40a0-8fa3-ca90781369d9",
   "metadata": {},
   "outputs": [],
   "source": [
    "# grouping orders from group A\n",
    "\n",
    "revenue_groupA_series = (orders[orders['group'] == 'A'].groupby('visitorId', as_index=False).agg({'revenue' : pd.Series.nunique}))"
   ]
  },
  {
   "cell_type": "code",
   "execution_count": 157,
   "id": "a0d35b72-3656-4481-bab5-830a7db69060",
   "metadata": {},
   "outputs": [],
   "source": [
    "# renamining group A columns\n",
    "\n",
    "revenue_groupA_series.columns = ['visitorId', 'revenue']"
   ]
  },
  {
   "cell_type": "code",
   "execution_count": 158,
   "id": "1761cd98-6c13-4963-98dc-576ad85b22e1",
   "metadata": {},
   "outputs": [
    {
     "data": {
      "text/html": [
       "<div>\n",
       "<style scoped>\n",
       "    .dataframe tbody tr th:only-of-type {\n",
       "        vertical-align: middle;\n",
       "    }\n",
       "\n",
       "    .dataframe tbody tr th {\n",
       "        vertical-align: top;\n",
       "    }\n",
       "\n",
       "    .dataframe thead th {\n",
       "        text-align: right;\n",
       "    }\n",
       "</style>\n",
       "<table border=\"1\" class=\"dataframe\">\n",
       "  <thead>\n",
       "    <tr style=\"text-align: right;\">\n",
       "      <th></th>\n",
       "      <th>visitorId</th>\n",
       "      <th>revenue</th>\n",
       "    </tr>\n",
       "  </thead>\n",
       "  <tbody>\n",
       "    <tr>\n",
       "      <th>0</th>\n",
       "      <td>8300375</td>\n",
       "      <td>1</td>\n",
       "    </tr>\n",
       "    <tr>\n",
       "      <th>1</th>\n",
       "      <td>11685486</td>\n",
       "      <td>1</td>\n",
       "    </tr>\n",
       "    <tr>\n",
       "      <th>2</th>\n",
       "      <td>54447517</td>\n",
       "      <td>1</td>\n",
       "    </tr>\n",
       "    <tr>\n",
       "      <th>3</th>\n",
       "      <td>66685450</td>\n",
       "      <td>1</td>\n",
       "    </tr>\n",
       "    <tr>\n",
       "      <th>4</th>\n",
       "      <td>78758296</td>\n",
       "      <td>1</td>\n",
       "    </tr>\n",
       "  </tbody>\n",
       "</table>\n",
       "</div>"
      ],
      "text/plain": [
       "   visitorId  revenue\n",
       "0    8300375        1\n",
       "1   11685486        1\n",
       "2   54447517        1\n",
       "3   66685450        1\n",
       "4   78758296        1"
      ]
     },
     "execution_count": 158,
     "metadata": {},
     "output_type": "execute_result"
    }
   ],
   "source": [
    "revenue_groupA_series.head()"
   ]
  },
  {
   "cell_type": "code",
   "execution_count": 159,
   "id": "871275ed-2676-46c5-8338-8e1031c24d2c",
   "metadata": {},
   "outputs": [],
   "source": [
    "# grouping orders from group B\n",
    "\n",
    "revenue_groupB_series = (orders[orders['group'] == 'B'].groupby('visitorId', as_index=False).agg({'revenue': pd.Series.nunique}))"
   ]
  },
  {
   "cell_type": "code",
   "execution_count": 160,
   "id": "4b70160b-53ce-4655-9e05-1d74fbead24d",
   "metadata": {},
   "outputs": [],
   "source": [
    "# renaming group B columns\n",
    "\n",
    "revenue_groupB_series.columns = ['visitorId', 'revenue']"
   ]
  },
  {
   "cell_type": "code",
   "execution_count": 161,
   "id": "c239db9c-3d82-4b46-8deb-6f926265e924",
   "metadata": {},
   "outputs": [
    {
     "data": {
      "text/html": [
       "<div>\n",
       "<style scoped>\n",
       "    .dataframe tbody tr th:only-of-type {\n",
       "        vertical-align: middle;\n",
       "    }\n",
       "\n",
       "    .dataframe tbody tr th {\n",
       "        vertical-align: top;\n",
       "    }\n",
       "\n",
       "    .dataframe thead th {\n",
       "        text-align: right;\n",
       "    }\n",
       "</style>\n",
       "<table border=\"1\" class=\"dataframe\">\n",
       "  <thead>\n",
       "    <tr style=\"text-align: right;\">\n",
       "      <th></th>\n",
       "      <th>visitorId</th>\n",
       "      <th>revenue</th>\n",
       "    </tr>\n",
       "  </thead>\n",
       "  <tbody>\n",
       "    <tr>\n",
       "      <th>0</th>\n",
       "      <td>5114589</td>\n",
       "      <td>1</td>\n",
       "    </tr>\n",
       "    <tr>\n",
       "      <th>1</th>\n",
       "      <td>6958315</td>\n",
       "      <td>1</td>\n",
       "    </tr>\n",
       "    <tr>\n",
       "      <th>2</th>\n",
       "      <td>8300375</td>\n",
       "      <td>1</td>\n",
       "    </tr>\n",
       "    <tr>\n",
       "      <th>3</th>\n",
       "      <td>39475350</td>\n",
       "      <td>1</td>\n",
       "    </tr>\n",
       "    <tr>\n",
       "      <th>4</th>\n",
       "      <td>47206413</td>\n",
       "      <td>1</td>\n",
       "    </tr>\n",
       "  </tbody>\n",
       "</table>\n",
       "</div>"
      ],
      "text/plain": [
       "   visitorId  revenue\n",
       "0    5114589        1\n",
       "1    6958315        1\n",
       "2    8300375        1\n",
       "3   39475350        1\n",
       "4   47206413        1"
      ]
     },
     "execution_count": 161,
     "metadata": {},
     "output_type": "execute_result"
    }
   ],
   "source": [
    "revenue_groupB_series.head()"
   ]
  },
  {
   "cell_type": "code",
   "execution_count": 162,
   "id": "d0d74000-3047-4d58-a15e-d5afd74421f2",
   "metadata": {},
   "outputs": [],
   "source": [
    "# creating sample A with raw data\n",
    "\n",
    "sampleA_revenue_raw = pd.concat([revenue_groupA_series['revenue'],\n",
    "        pd.Series(0, index=np.arange(visits[visits['group']=='A']['visits'].sum() - len(revenue_groupA_series['revenue'])), name='revenue')],axis=0)"
   ]
  },
  {
   "cell_type": "code",
   "execution_count": 163,
   "id": "1c622999-234e-411d-8151-cff74343ec4b",
   "metadata": {},
   "outputs": [],
   "source": [
    "# creating sample B with raw data\n",
    "\n",
    "sampleB_revenue_raw = pd.concat([revenue_groupB_series['revenue'],\n",
    "        pd.Series(0, index=np.arange(visits[visits['group']=='B']['visits'].sum() - len(revenue_groupB_series['revenue'])), name='revenue')],axis=0)"
   ]
  },
  {
   "cell_type": "code",
   "execution_count": 164,
   "id": "ca61c564-a7f9-4ca7-8a9e-05cc64bf8ab4",
   "metadata": {},
   "outputs": [
    {
     "data": {
      "text/plain": [
       "0.01682439514298706"
      ]
     },
     "execution_count": 164,
     "metadata": {},
     "output_type": "execute_result"
    }
   ],
   "source": [
    "# applying mann-whitney-u statistical criteria \n",
    "\n",
    "pvalue_revenue_raw = (stats.mannwhitneyu(sampleA_revenue_raw, sampleB_revenue_raw)[1])\n",
    "pvalue_revenue_raw"
   ]
  },
  {
   "cell_type": "code",
   "execution_count": 165,
   "id": "e54e87bf-3894-44b2-b878-465c08e19fc3",
   "metadata": {},
   "outputs": [
    {
     "name": "stdout",
     "output_type": "stream",
     "text": [
      "Reject null hypotesis\n"
     ]
    }
   ],
   "source": [
    "# test result\n",
    "\n",
    "if pvalue_revenue_raw < alpha:\n",
    "    print('Reject null hypotesis')\n",
    "else:\n",
    "    print(\" We can't reject null hypotesis\")"
   ]
  },
  {
   "cell_type": "code",
   "execution_count": 166,
   "id": "01cb6a5e-1578-491a-af94-d95b270cc9b7",
   "metadata": {},
   "outputs": [
    {
     "data": {
      "text/plain": [
       "0.1406659729925117"
      ]
     },
     "execution_count": 166,
     "metadata": {},
     "output_type": "execute_result"
    }
   ],
   "source": [
    "# conversion gain relative to group B\n",
    "\n",
    "conversarion_gain_to_groupB = (sampleB_revenue_raw.mean()/sampleA_revenue_raw.mean()-1)\n",
    "conversarion_gain_to_groupB"
   ]
  },
  {
   "cell_type": "markdown",
   "id": "2431e6de-4ed4-4d9e-ad1d-6de39bbd33ea",
   "metadata": {},
   "source": [
    "    The test show there is a significant difference in the average revenue size between the groups when using raw data"
   ]
  },
  {
   "cell_type": "markdown",
   "id": "779ba9e3",
   "metadata": {},
   "source": [
    "<div class=\"alert alert-block alert-warning\">\n",
    "<b> Comentário do revisor: </b> <a class=\"tocSkip\"></a>\n",
    "\n",
    "Novamente, revise as premissas do teste estatístico que você está utilizando e o uso do argumento `equal_var`.\n",
    "  \n",
    "   \n",
    "</div>"
   ]
  },
  {
   "cell_type": "markdown",
   "id": "b2ecb761-ac86-47cc-9e16-e6dad0f6d21a",
   "metadata": {
    "tags": []
   },
   "source": [
    "#### 11. Encontre a significância estatística da diferença na conversão entre os grupos usando os dados filtrados.Tire conclusões e crie conjecturas. "
   ]
  },
  {
   "cell_type": "markdown",
   "id": "f0838d60-5d92-4b08-b661-a8f1b233c0a3",
   "metadata": {},
   "source": [
    "H0: There is no significant difference in conversion rates between the two groups after filtering the data.\n",
    "\n",
    "H1: There is a significant difference in conversion rates between the two groups after filtering the data."
   ]
  },
  {
   "cell_type": "code",
   "execution_count": 172,
   "id": "6447baae-6e5d-4c91-b20d-1bf762b5619b",
   "metadata": {},
   "outputs": [],
   "source": [
    "# setting users with many orders, using percentile 99\n",
    "\n",
    "usersWithManyOrders = pd.concat([orders_groupA[orders_groupA['orders'] > 4]['visitorId'], orders_groupB[orders_groupB['orders'] > 4]['visitorId']], axis=0)"
   ]
  },
  {
   "cell_type": "code",
   "execution_count": 173,
   "id": "98170489-0053-401b-af86-4cfc2d3c2134",
   "metadata": {},
   "outputs": [],
   "source": [
    "# setting users with expensive orders, using percentile 99\n",
    "\n",
    "usersWithExpensiveOrders = orders[orders['revenue'] > 900]['visitorId']"
   ]
  },
  {
   "cell_type": "code",
   "execution_count": 174,
   "id": "2e674f7b-ffa2-4e2f-8ea7-d0a881abd12b",
   "metadata": {},
   "outputs": [],
   "source": [
    "# concatenating user with many orders and expensive orders\n",
    "\n",
    "abnormalUsers = (pd.concat([usersWithManyOrders, usersWithExpensiveOrders], axis=0).drop_duplicates().sort_values())"
   ]
  },
  {
   "cell_type": "code",
   "execution_count": 175,
   "id": "29d1aa7b-d38c-44b3-bb7a-ad8fbdaa2bfc",
   "metadata": {},
   "outputs": [],
   "source": [
    "# concateneting sample A filtered conversion rates\n",
    "\n",
    "sampleA_conversion_filtered = pd.concat([orders_groupA[np.logical_not(orders_groupA['visitorId'].isin(abnormalUsers))]['orders'],\n",
    "                pd.Series(0, index=np.arange(visits[visits['group']=='A']['visits'].sum() - len(orders_groupA['orders'])),name='orders')],axis=0)"
   ]
  },
  {
   "cell_type": "code",
   "execution_count": 176,
   "id": "9c52d28e-a9e7-42e0-b87b-5ea4436958e0",
   "metadata": {},
   "outputs": [],
   "source": [
    "# concateneting sample B filtered conversion rates\n",
    "\n",
    "sampleB_conversion_filtered = pd.concat([orders_groupB[np.logical_not(orders_groupB['visitorId'].isin(abnormalUsers))]['orders'],\n",
    "                pd.Series(0, index=np.arange(visits[visits['group']=='B']['visits'].sum() - len(orders_groupB['orders'])),name='orders')],axis=0)"
   ]
  },
  {
   "cell_type": "code",
   "execution_count": 177,
   "id": "2e2918bc-56f6-4548-9bef-b58ddc9fbdf8",
   "metadata": {},
   "outputs": [
    {
     "data": {
      "text/plain": [
       "0.014380135585307981"
      ]
     },
     "execution_count": 177,
     "metadata": {},
     "output_type": "execute_result"
    }
   ],
   "source": [
    "# applying mann-whitney-u statistical criteria \n",
    "\n",
    "pvalue_conversion_filtered = (stats.mannwhitneyu(sampleA_conversion_filtered, sampleB_conversion_filtered)[1])\n",
    "pvalue_conversion_filtered"
   ]
  },
  {
   "cell_type": "code",
   "execution_count": 178,
   "id": "123bbd0a-c491-4313-97d2-13ca46b99776",
   "metadata": {},
   "outputs": [
    {
     "name": "stdout",
     "output_type": "stream",
     "text": [
      "Reject null hypotesis\n"
     ]
    }
   ],
   "source": [
    "# test result\n",
    "\n",
    "if pvalue_conversion_filtered < alpha:\n",
    "    print('Reject null hypotesis')\n",
    "else:\n",
    "    print(\" We can't reject null hypotesis\")"
   ]
  },
  {
   "cell_type": "code",
   "execution_count": 179,
   "id": "8f059795-2333-4cee-ab98-e4566f2e1b76",
   "metadata": {},
   "outputs": [
    {
     "data": {
      "text/plain": [
       "'0.15331306791514754'"
      ]
     },
     "execution_count": 179,
     "metadata": {},
     "output_type": "execute_result"
    }
   ],
   "source": [
    "conversion_gain_filtered = format(sampleB_conversion_filtered.mean()/sampleA_conversion_filtered.mean()-1)\n",
    "conversion_gain_filtered"
   ]
  },
  {
   "cell_type": "markdown",
   "id": "cbd92b19-3c9e-4abb-b374-f24fc8f16b07",
   "metadata": {},
   "source": [
    "    The test results show there is a significant difference in conversion rates between the two groups after filtering the data."
   ]
  },
  {
   "cell_type": "markdown",
   "id": "f868cbae-c8f5-49af-8f64-8291093a2e23",
   "metadata": {
    "tags": []
   },
   "source": [
    "#### 12. Encontre a significância estatística da diferença no tamanho médio do pedido entre os grupos usando os dados filtrados. Tire conclusões e crie conjecturas."
   ]
  },
  {
   "cell_type": "markdown",
   "id": "219e573a-6db6-42f6-a7c5-0a9a9e4bf4bb",
   "metadata": {},
   "source": [
    "H0: There is no significant difference in the average revenue sizes between the two groups after filtering the data.\n",
    "\n",
    "H1: There is a significant difference in the average revenue sizes between the two groups after filtering the data."
   ]
  },
  {
   "cell_type": "code",
   "execution_count": 183,
   "id": "0d293529-54e3-4541-a630-04f05160188b",
   "metadata": {},
   "outputs": [],
   "source": [
    "# concateneting sample A filtered revenue\n",
    "\n",
    "sampleA_revenue_filtered = pd.concat([revenue_groupA_series[np.logical_not(revenue_groupA_series['visitorId'].isin(abnormalUsers))]['revenue'],\n",
    "                pd.Series(0, index=np.arange(visits[visits['group']=='A']['visits'].sum() - len(revenue_groupA_series['revenue'])),name='revenue')],axis=0)"
   ]
  },
  {
   "cell_type": "code",
   "execution_count": 337,
   "id": "adaed687-e312-432e-9a6e-2aaf9efc9fd1",
   "metadata": {},
   "outputs": [],
   "source": [
    "# concateneting sample B filtered revenue\n",
    "\n",
    "sampleB_revenue_filtered = pd.concat([revenue_groupB_series[np.logical_not(revenue_groupB_series['visitorId'].isin(abnormalUsers))]['revenue'],\n",
    "                pd.Series(0, index=np.arange(visits[visits['group']=='B']['visits'].sum() - len(revenue_groupB_series['revenue'])),name='revenue')],axis=0)"
   ]
  },
  {
   "cell_type": "code",
   "execution_count": 185,
   "id": "ee778ed8-5aec-44e6-957d-29d673254e0b",
   "metadata": {},
   "outputs": [
    {
     "data": {
      "text/plain": [
       "0.014408040905181161"
      ]
     },
     "execution_count": 185,
     "metadata": {},
     "output_type": "execute_result"
    }
   ],
   "source": [
    "# applying mann-whitney-u statistical criteria \n",
    "\n",
    "pvalue_revenue_filtered = (stats.mannwhitneyu(sampleA_revenue_filtered, sampleB_revenue_filtered)[1])\n",
    "pvalue_revenue_filtered"
   ]
  },
  {
   "cell_type": "code",
   "execution_count": 186,
   "id": "025fc365-3e09-407f-9ccc-c25b8d237145",
   "metadata": {},
   "outputs": [
    {
     "name": "stdout",
     "output_type": "stream",
     "text": [
      "Reject null hypotesis\n"
     ]
    }
   ],
   "source": [
    "# test result\n",
    "\n",
    "if pvalue_revenue_filtered < alpha:\n",
    "    print('Reject null hypotesis')\n",
    "else:\n",
    "    print(\" We can't reject null hypotesis\")"
   ]
  },
  {
   "cell_type": "code",
   "execution_count": 187,
   "id": "e7443364-8c61-4557-ad0b-cecf356ed363",
   "metadata": {},
   "outputs": [
    {
     "data": {
      "text/plain": [
       "'0.15331306791514754'"
      ]
     },
     "execution_count": 187,
     "metadata": {},
     "output_type": "execute_result"
    }
   ],
   "source": [
    "revenue_gain_filtered = format(sampleB_conversion_filtered.mean()/sampleA_conversion_filtered.mean()-1)\n",
    "revenue_gain_filtered"
   ]
  },
  {
   "cell_type": "markdown",
   "id": "0e072f34-dad4-4bbb-a779-36f736042098",
   "metadata": {},
   "source": [
    "There is significant difference in the average revenue sizes between the two groups after filtering the data."
   ]
  },
  {
   "cell_type": "markdown",
   "id": "a5a8b6e3-a863-4018-98d8-1135101ae9df",
   "metadata": {},
   "source": [
    "    The test result show that there is significant difference in the average revenue sizes between the two groups after filtering the data."
   ]
  },
  {
   "cell_type": "markdown",
   "id": "11efcedb-6b75-4cfc-b5bb-099760916ad5",
   "metadata": {
    "tags": []
   },
   "source": [
    "#### 13. Tome uma decisão com base nos resultados do teste. As decisões possíveis são: 1. Pare o teste, considere um dos grupos o líder. 2. Pare o teste, conclua que não há diferença entre os grupos. 3. Continue o teste."
   ]
  },
  {
   "cell_type": "markdown",
   "id": "9207041b",
   "metadata": {},
   "source": [
    "<div class=\"alert alert-block alert-danger\">\n",
    "<b> Comentário do revisor: </b> <a class=\"tocSkip\"></a>\n",
    "\n",
    "Aqui você precisa tomar uma decisão com base nos resultados dos testes.   \n",
    "   \n",
    "</div>"
   ]
  },
  {
   "cell_type": "markdown",
   "id": "47163d34-6280-4693-bfae-bbbb75e0f396",
   "metadata": {},
   "source": [
    "* There is an statistic significance between groups conversion rates and revenue wether data is raw or filtered\n",
    "\n",
    "* The graphics show us that Group B has a high conversion rate when compared with group A.\n",
    "\n",
    "* The graphics also show a higher cumulative revenue from Group B\n",
    "\n",
    "I would suggest to stop the test and consider it sucessfull.\n",
    "\n"
   ]
  },
  {
   "cell_type": "code",
   "execution_count": null,
   "id": "a5e89f94-4678-473d-a596-8146edafe86a",
   "metadata": {},
   "outputs": [],
   "source": []
  },
  {
   "cell_type": "code",
   "execution_count": null,
   "id": "a20577c2-4bab-448d-9ad7-4f8e000f20a7",
   "metadata": {},
   "outputs": [],
   "source": []
  },
  {
   "cell_type": "markdown",
   "id": "08f293ed",
   "metadata": {},
   "source": [
    "<div class=\"alert alert-block alert-danger\">\n",
    "<b> Comentário geral do revisor v1</b> <a class=\"tocSkip\"></a>\n",
    "\n",
    "Obrigado por enviar o seu projeto e pelo esforço de chegar até aqui. O seu projeto possui alguns pontos bem interessantes, dos quais eu destaco:\n",
    "    \n",
    "- Código bem simples e estruturado\n",
    "- Comentários sucintos e bem objetivos\n",
    "- Análises bem detalhadas em cada etapa do projeto\n",
    "    \n",
    "<br>\n",
    "    \n",
    "Entretanto, deixei alguns comentários em alguns trechos que precisam de ajuste. Precisamos fazer essas alterações para avançarmos. Lembre-se que os comentários em amarelo são sugestões de melhoria.\n",
    " \n",
    "<br>\n",
    "    \n",
    "Qualquer dúvida, pode contar comigo.   \n",
    "    \n",
    "    \n",
    "**Até breve!**\n",
    "\n",
    "</div>\n"
   ]
  }
 ],
 "metadata": {
  "kernelspec": {
   "display_name": "anaconda-2022.05-py39",
   "language": "python",
   "name": "conda-env-anaconda-2022.05-py39-py"
  },
  "language_info": {
   "codemirror_mode": {
    "name": "ipython",
    "version": 3
   },
   "file_extension": ".py",
   "mimetype": "text/x-python",
   "name": "python",
   "nbconvert_exporter": "python",
   "pygments_lexer": "ipython3",
   "version": "3.9.12"
  },
  "toc": {
   "base_numbering": 1,
   "nav_menu": {},
   "number_sections": true,
   "sideBar": true,
   "skip_h1_title": true,
   "title_cell": "Table of Contents",
   "title_sidebar": "Contents",
   "toc_cell": false,
   "toc_position": {},
   "toc_section_display": true,
   "toc_window_display": false
  }
 },
 "nbformat": 4,
 "nbformat_minor": 5
}
